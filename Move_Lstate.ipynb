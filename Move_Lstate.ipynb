{
 "cells": [
  {
   "cell_type": "code",
   "execution_count": 366,
   "metadata": {},
   "outputs": [
    {
     "data": {
      "text/plain": [
       "U_tilde (generic function with 1 method)"
      ]
     },
     "execution_count": 366,
     "metadata": {},
     "output_type": "execute_result"
    }
   ],
   "source": [
    "function occupied_states(v)\n",
    "    occ_states = []\n",
    "    for i = 1 : 2*L\n",
    "        if v[i] == 1\n",
    "            append!(occ_states, i )\n",
    "            \n",
    "        elseif v[i] == 2\n",
    "            append!(occ_states, i )\n",
    "        \n",
    "        end\n",
    "    end\n",
    "    return occ_states\n",
    "end\n"
   ]
  },
  {
   "cell_type": "code",
   "execution_count": 490,
   "metadata": {},
   "outputs": [
    {
     "data": {
      "text/plain": [
       "move (generic function with 1 method)"
      ]
     },
     "execution_count": 490,
     "metadata": {},
     "output_type": "execute_result"
    }
   ],
   "source": [
    "function move(w)\n",
    "    \n",
    "    v = copy(w)\n",
    "    L = length(v)\n",
    "    i = rand(occupied_states(v))\n",
    "    j = rand(-1:2:1)\n",
    "    \n",
    "    if v[i] != v[i+j]\n",
    "        \n",
    "        if abs(v[i])==1\n",
    "        \n",
    "        v[i] = v[i] - sign(w[i])\n",
    "        v[i+j] = abs(v[i+j] - sign(w[i]))\n",
    "        \n",
    "        elseif v[i]==2\n",
    "            \n",
    "        spin = rand(-1:2:1)\n",
    "        \n",
    "            if v[i+j] != spin\n",
    "            \n",
    "            v[i] = -spin\n",
    "    \n",
    "                if abs(v[i+j]) == 1 \n",
    "                    v[i+j] = 2 \n",
    "                    print(v[i+j],i+j)\n",
    "                elseif v[i+j] == 0 \n",
    "                    v[i+j] = spin \n",
    "                    print(v[i+j],i+j)\n",
    "                end\n",
    "\n",
    "            end \n",
    "    \n",
    "        end\n",
    "\n",
    "    end\n",
    "    \n",
    "    return v\n",
    "    \n",
    "end"
   ]
  },
  {
   "cell_type": "code",
   "execution_count": 496,
   "metadata": {},
   "outputs": [
    {
     "data": {
      "text/plain": [
       "10-element Array{Int64,1}:\n",
       "  1\n",
       " -1\n",
       "  2\n",
       "  0\n",
       "  1\n",
       "  2\n",
       " -1\n",
       "  0\n",
       "  2\n",
       "  1"
      ]
     },
     "execution_count": 496,
     "metadata": {},
     "output_type": "execute_result"
    }
   ],
   "source": [
    "w = [1,-1,2,0,1,2,-1,0,2,1]\n",
    "\n",
    "move(w)"
   ]
  },
  {
   "cell_type": "code",
   "execution_count": null,
   "metadata": {},
   "outputs": [],
   "source": []
  }
 ],
 "metadata": {
  "kernelspec": {
   "display_name": "Julia 1.5.3",
   "language": "julia",
   "name": "julia-1.5"
  },
  "language_info": {
   "file_extension": ".jl",
   "mimetype": "application/julia",
   "name": "julia",
   "version": "1.5.3"
  }
 },
 "nbformat": 4,
 "nbformat_minor": 4
}
