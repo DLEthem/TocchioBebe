{
 "cells": [
  {
   "cell_type": "code",
   "execution_count": 737,
   "metadata": {},
   "outputs": [
    {
     "data": {
      "text/plain": [
       "occupied_states (generic function with 1 method)"
      ]
     },
     "execution_count": 737,
     "metadata": {},
     "output_type": "execute_result"
    }
   ],
   "source": [
    "function occupied_states(v)\n",
    "    occ_states = []\n",
    "    L =length(v)\n",
    "    for i = 1 : L\n",
    "        if abs(v[i]) == 1\n",
    "            append!(occ_states, i )\n",
    "            \n",
    "        elseif v[i] == 2\n",
    "            append!(occ_states, i )\n",
    "        \n",
    "        end\n",
    "    end\n",
    "    return occ_states\n",
    "end\n"
   ]
  },
  {
   "cell_type": "code",
   "execution_count": 782,
   "metadata": {},
   "outputs": [
    {
     "data": {
      "text/plain": [
       "move (generic function with 1 method)"
      ]
     },
     "execution_count": 782,
     "metadata": {},
     "output_type": "execute_result"
    }
   ],
   "source": [
    "function move(w)\n",
    "    \n",
    "    v = copy(w)\n",
    "    L = length(v)\n",
    "    i = rand(occupied_states(v))\n",
    "    j = rand(-1:2:1)\n",
    "    \n",
    "j_a = mod(i+j,L)\n",
    "j_a == 0 ? j_a = L : j_a = j_a\n",
    "        \n",
    "print(i,j,j_a)\n",
    "    \n",
    "    if v[i] != v[j_a]\n",
    "        \n",
    "        if abs(v[i])==1\n",
    "        \n",
    "        v[i] = v[i] - sign(w[i])\n",
    "        v[j_a] = abs(v[j_a] - sign(w[i]))\n",
    "        \n",
    "        elseif v[i]==2\n",
    "            \n",
    "        spin = rand(-1:2:1)\n",
    "        \n",
    "            if v[j_a] != spin\n",
    "            \n",
    "            v[i] = -spin\n",
    "    \n",
    "                if abs(v[j_a]) == 1 \n",
    "                    v[j_a] = 2 \n",
    "                elseif v[j_a] == 0 \n",
    "                    v[j_a] = spin \n",
    "                end\n",
    "\n",
    "            end \n",
    "    \n",
    "        end\n",
    "\n",
    "    end\n",
    "    \n",
    "    return v\n",
    "    \n",
    "end"
   ]
  },
  {
   "cell_type": "code",
   "execution_count": 800,
   "metadata": {},
   "outputs": [
    {
     "name": "stdout",
     "output_type": "stream",
     "text": [
      "1011"
     ]
    },
    {
     "data": {
      "text/plain": [
       "10-element Array{Int64,1}:\n",
       "  1\n",
       " -1\n",
       "  2\n",
       "  0\n",
       "  1\n",
       "  0\n",
       " -1\n",
       "  2\n",
       "  0\n",
       "  1"
      ]
     },
     "execution_count": 800,
     "metadata": {},
     "output_type": "execute_result"
    }
   ],
   "source": [
    "w = [1,-1,2,0,1,0,-1,2,0,1]\n",
    "\n",
    "move(w)\n"
   ]
  }
 ],
 "metadata": {
  "kernelspec": {
   "display_name": "Julia 1.5.3",
   "language": "julia",
   "name": "julia-1.5"
  },
  "language_info": {
   "file_extension": ".jl",
   "mimetype": "application/julia",
   "name": "julia",
   "version": "1.5.3"
  }
 },
 "nbformat": 4,
 "nbformat_minor": 4
}
