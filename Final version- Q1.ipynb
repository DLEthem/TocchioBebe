{
 "cells": [
  {
   "cell_type": "code",
   "execution_count": 79,
   "metadata": {},
   "outputs": [],
   "source": [
    "using StatsBase\n",
    "using CircularArrays\n",
    "using LinearAlgebra\n",
    "using Plots\n",
    "using Random\n",
    "using Statistics\n",
    "using CairoMakie"
   ]
  },
  {
   "cell_type": "code",
   "execution_count": 2,
   "metadata": {},
   "outputs": [
    {
     "data": {
      "text/plain": [
       "30"
      ]
     },
     "execution_count": 2,
     "metadata": {},
     "output_type": "execute_result"
    }
   ],
   "source": [
    "#Define the parameters n, L(n), t, Ne(L)\n",
    "\n",
    "n = 7\n",
    "L = 8*n + 4\n",
    "t = 1\n",
    "Ne = Int(L / 2)"
   ]
  },
  {
   "cell_type": "code",
   "execution_count": 3,
   "metadata": {},
   "outputs": [
    {
     "data": {
      "text/plain": [
       "shortstate (generic function with 1 method)"
      ]
     },
     "execution_count": 3,
     "metadata": {},
     "output_type": "execute_result"
    }
   ],
   "source": [
    "#Here we define the hamiltonian and the states - Lstate (length L with +1 -1 0 and 2 as occupancies)\n",
    "#as well as the conversion between states from L to the extended one of 2L and viceversa\n",
    "\n",
    "function Hamiltonian(L,t)\n",
    "    H = zeros(2*L, 2*L)\n",
    "    H[1,L] = -t\n",
    "    H[L,1] = -t\n",
    "    H[2L,L+1] = -t\n",
    "    H[L+1,2L] = -t\n",
    "    for i=1:2*L\n",
    "      for j=1:2*L\n",
    "        if i == j + 1 || i == j - 1\n",
    "          H[i,j] = -t\n",
    "        end \n",
    "      end\n",
    "    end\n",
    "    H[L,L+1]=0\n",
    "    H[L+1,L]=0\n",
    "    return H\n",
    "end\n",
    "\n",
    "H = Hamiltonian(L,t);\n",
    "\n",
    "\n",
    "#generate, convert state\n",
    "function Lstate(L)                                 #generate a state of length L\n",
    "    Lstated, Lstateu, Lstate = zeros(L), zeros(L), zeros(L)\n",
    "    randomposu = sample(collect(1:L), Int(L/4), replace=false)\n",
    "    randomposd = sample(collect(1:L), Int(L/4), replace=false)\n",
    "    for j in randomposu\n",
    "        Lstateu[j] = 1\n",
    "    end\n",
    "    for j in randomposd\n",
    "        Lstated[j] = -1\n",
    "    end\n",
    "    for i=1:L \n",
    "        if Lstated[i] == -1 && Lstateu[i] == 1\n",
    "            Lstate[i] = 2\n",
    "        else\n",
    "            Lstate[i] = Lstated[i] + Lstateu[i]\n",
    "        end\n",
    "    end\n",
    "    return CircularArray(Lstate)\n",
    "end\n",
    "\n",
    "\n",
    "function extendedstate(Lstatevector)               #take a state of length L and make it 2*L\n",
    "    L = length(Lstatevector)\n",
    "    State2L = zeros(2*L)\n",
    "    for j=1:L\n",
    "        if Lstatevector[j] == -1\n",
    "            State2L[j + L] = 1\n",
    "        elseif Lstatevector[j] == 1\n",
    "            State2L[j] = 1\n",
    "        elseif Lstatevector[j] == 2\n",
    "            State2L[j], State2L[j + L] = 1,1\n",
    "        else\n",
    "            State2L[j] = 0\n",
    "        end\n",
    "    end\n",
    "    return State2L\n",
    "end\n",
    "\n",
    "\n",
    "function shortstate(ext_state)                    #pass trom 2*L state to L state\n",
    "    L = Int(length(ext_state)/2)\n",
    "    sh_state = zeros(L)\n",
    "    for j=1:L\n",
    "        if ext_state[j]==1\n",
    "            sh_state[j]=1\n",
    "        end\n",
    "    end\n",
    "    for j=1:L\n",
    "        if ext_state[L+j]==1\n",
    "            if sh_state[j]==1\n",
    "                sh_state[j]=2\n",
    "            else\n",
    "                sh_state[j]=-1\n",
    "            end\n",
    "        end\n",
    "    end\n",
    "    return sh_state\n",
    "end"
   ]
  },
  {
   "cell_type": "code",
   "execution_count": 4,
   "metadata": {},
   "outputs": [
    {
     "data": {
      "text/plain": [
       "hopping (generic function with 1 method)"
      ]
     },
     "execution_count": 4,
     "metadata": {},
     "output_type": "execute_result"
    }
   ],
   "source": [
    "#In this section we define functions to found the occupied and empty sites in our state and the move - hopping functions\n",
    "#There are 3 options for the move, move_L and hopping makes a hop in vectors of length L and move_last_2L with ones  \n",
    "\n",
    "#generate a move\n",
    "function Pauli(x,i,j)                 #check if state i and j are both occupied\n",
    "    if x[i] == 1 && x[j] == 1\n",
    "        return true\n",
    "    end\n",
    "    return false\n",
    "end \n",
    "\n",
    "function occupied_states(v)         #generate a vector with positions of occupied states (from 2*L states)\n",
    "    occ_states = []\n",
    "    L = length(v)\n",
    "    for i = 1:L\n",
    "        if v[i] == 1\n",
    "            append!(occ_states, i)\n",
    "        end\n",
    "    end\n",
    "    return occ_states\n",
    "end\n",
    "\n",
    "\n",
    "function occupied_states_L(v)\n",
    "    occ_states = []\n",
    "    L =length(v)\n",
    "    for i = 1 : L\n",
    "        if abs(v[i]) == 1\n",
    "            append!(occ_states, i )\n",
    "            \n",
    "        elseif v[i] == 2\n",
    "            append!(occ_states, i )\n",
    "        \n",
    "        end\n",
    "    end\n",
    "    return occ_states\n",
    "end\n",
    "\n",
    "function empty_states(v)\n",
    "    empty_st_u = []\n",
    "    empty_st_d = []\n",
    "    L = length(v)\n",
    "    for i = 1 : Int(L/2)\n",
    "        if v[i] == 0\n",
    "               append!(empty_st_u, i )\n",
    "        end\n",
    "    end\n",
    "    for i = Int(L/2)+1 : L\n",
    "        if v[i] == 0\n",
    "               append!(empty_st_d, i )\n",
    "        end\n",
    "    end\n",
    "    return empty_st_u, empty_st_d\n",
    "end\n",
    "\n",
    "function move_L(w)\n",
    "    \n",
    "   v = copy(w)\n",
    "   i = rand(occupied_states_L(v))\n",
    "   j = rand(-1:2:1)\n",
    "\n",
    "    j_pbc = mod(i+j,L)\n",
    "    j_pbc == 0 ? j_pbc = L : j_pbc = j_pbc\n",
    "\n",
    "    if v[i] != v[j_pbc] && v[j_pbc]!=2\n",
    "\n",
    "        if abs(v[i])==1\n",
    "            v[j_pbc] == 0 ? v[j_pbc] = v[i] : v[j_pbc] = 2\n",
    "            v[i] = 0\n",
    "\n",
    "        elseif v[i]==2    \n",
    "            spin = rand(-1:2:1)\n",
    "\n",
    "        if v[j_pbc] != spin\n",
    "           v[i] = -spin\n",
    "\n",
    "        if abs(v[j_pbc]) == 1 \n",
    "            v[j_pbc] = 2 \n",
    "        elseif v[j_pbc] == 0 \n",
    "            v[j_pbc] = spin \n",
    "        end\n",
    "\n",
    "        end    \n",
    "        end\n",
    "            \n",
    "    end\n",
    "\n",
    "    return v\n",
    "    \n",
    "end\n",
    "\n",
    "function move_last_2L(w)\n",
    "    v = copy(w)\n",
    "    L = length(v)\n",
    "    i = rand(occupied_states(v))\n",
    "    if i < L+1 \n",
    "        j = rand(empty_states(v)[1])\n",
    "        v[j] = v[i]\n",
    "    else \n",
    "        j = rand(empty_states(v)[2])\n",
    "    end\n",
    "    v[i] = 0\n",
    "    b = shortstate(v)\n",
    "    return b\n",
    "end\n",
    "\n",
    "function hopping(v)\n",
    "    w = copy(v)\n",
    "    occupied_positions = occupied_states_L(v)\n",
    "    i = rand(occupied_positions)\n",
    "    nn = [v[i + 1],v[i - 1]]\n",
    "    nnpos = [i + 1, i - 1]\n",
    "    rndnnpos = rand([i + 1,i - 1])\n",
    "    rndnn = rand(nn)\n",
    "    \n",
    "    if nn[1] == 2 && nn[2] == 2 || v[i] == 1 && nn[1] == 1 && nn[2] == 2 || v[i] == 1 && nn[1] == 2 && nn[2] == 1 || v[i] == 1 && nn[1] == 1 && nn[2] == 1 || v[i] == -1 && nn[1] == -1 && nn[2] == 2 || v[i] == -1 && nn[1] == 2 && nn[2] == -1 || v[i] == -1 && nn[1] == -1 && nn[2] == -1\n",
    "        i = rand(deleteat!(occupied_positions, findall(x->x==i,occupied_positions)))\n",
    "    end\n",
    "    \n",
    "    if v[i] == 1 && v[rndnnpos] == 1 || v[i] == 1 && v[rndnnpos] == 2\n",
    "        rndnnpos = rand(deleteat!(nnpos, findall(x->x==rndnnpos, nnpos)))\n",
    "    end\n",
    "    \n",
    "    if v[i] == -1 && v[rndnnpos] == -1 || v[i] == -1 && v[rndnnpos] == 2\n",
    "        rndnnpos = rand(deleteat!(nnpos, findall(x->x==rndnnpos, nnpos)))\n",
    "    end\n",
    "    \n",
    "    if v[i] == 2 && v[rndnnpos] == 2\n",
    "        rndnnpos = rand(deleteat!(nnpos, findall(x->x==rndnnpos, nnpos)))\n",
    "    end\n",
    "     \n",
    "    if v[i] == 1\n",
    "        if v[rndnnpos] == -1\n",
    "            w[i], w[rndnnpos] = 0, 2\n",
    "        elseif v[rndnnpos] == 0\n",
    "            w[i], w[rndnnpos] = 0, 1\n",
    "        end\n",
    "    \n",
    "    elseif v[i] == -1 \n",
    "        if v[rndnnpos] == 1\n",
    "            w[i], w[rndnnpos] = 0, 2\n",
    "        elseif v[rndnnpos] == 0\n",
    "            w[i], w[rndnnpos] = 0, -1\n",
    "        end\n",
    "    \n",
    "    elseif v[i] == 2\n",
    "        if v[rndnnpos] == 1 \n",
    "            w[i], w[rndnnpos] = 1, 2\n",
    "        elseif v[rndnnpos] == -1\n",
    "            w[i], w[rndnnpos] = -1,2\n",
    "        elseif v[rndnnpos] == 0\n",
    "            choosenspin = rand([1,-1])\n",
    "            w[i], w[rndnnpos] = -1*choosenspin, choosenspin\n",
    "        end\n",
    "    end\n",
    "    \n",
    "    return w\n",
    "end"
   ]
  },
  {
   "cell_type": "code",
   "execution_count": 5,
   "metadata": {},
   "outputs": [
    {
     "data": {
      "text/plain": [
       "ratio_det (generic function with 1 method)"
      ]
     },
     "execution_count": 5,
     "metadata": {},
     "output_type": "execute_result"
    }
   ],
   "source": [
    "#generate unitary matrices and the ratio of determinants\n",
    "\n",
    "U = eigvecs(H)  #unitary matrix\n",
    "Udag = inv(U)   #U^-1\n",
    "E = eigvals(H)  #eigenvalues of H\n",
    "\n",
    "function U1(A, Ne) #take the first Ne columns\n",
    "    U_1 = A[:,1:Ne]\n",
    "    return U_1\n",
    "end\n",
    "\n",
    "U_1 = U1(U,Ne)\n",
    "\n",
    "function U_tilde(A,v)                  #takes just the rows related to occupied states, Ne*Ne matrix\n",
    "    U_tild = []\n",
    "    U_tild = A[occupied_states(v),:]\n",
    "    return U_tild\n",
    "end\n",
    "\n",
    "function ratio_det(v, z)\n",
    "    rat= det(U_tilde(U_1,z))/det(U_tilde(U_1,v))\n",
    "    return rat\n",
    "end  \n"
   ]
  },
  {
   "cell_type": "code",
   "execution_count": 6,
   "metadata": {},
   "outputs": [
    {
     "data": {
      "text/plain": [
       "nB (generic function with 1 method)"
      ]
     },
     "execution_count": 6,
     "metadata": {},
     "output_type": "execute_result"
    }
   ],
   "source": [
    "#Jastrow factor\n",
    "function n_i(vi)           #counts the number of els in positions vi, returning (# up , # down)\n",
    "    \n",
    "    n_up = 0\n",
    "    n_down = 0\n",
    "    \n",
    "        if vi == 1\n",
    "            n_up += 1\n",
    "            \n",
    "        elseif vi == -1\n",
    "            n_down += 1\n",
    "                \n",
    "        elseif vi == 2\n",
    "            n_down += 1\n",
    "            n_up += 1\n",
    "                \n",
    "        end\n",
    "\n",
    "return n_up, n_down\n",
    "\n",
    "end\n",
    "\n",
    "function Jastrow(state,g,v)\n",
    "            \n",
    "    D=length(state)       \n",
    "    \n",
    "    Spins=0\n",
    "    Occupancies=0  \n",
    "    \n",
    "   # n1 = n_i(state[D])[1] + n_i(state[D])[2]\n",
    "    n2 = 0\n",
    "    \n",
    "    for i = 1 : D     \n",
    "            \n",
    "    j_pbc = mod(L+i+1,L)\n",
    "    j_pbc == 0 ? j_pbc = L : j_pbc = j_pbc\n",
    "                \n",
    "        n_up= n_i(state[i])[1]    \n",
    "        n_down = n_i(state[i])[2]\n",
    "                \n",
    "    Spins = Spins + n_up*n_down \n",
    "                \n",
    "    n1= n_up + n_down\n",
    "        \n",
    "    n_up= n_i(state[j_pbc])[1]    \n",
    "    n_down = n_i(state[j_pbc])[2]\n",
    "    \n",
    "     n2= n_up + n_down\n",
    "        \n",
    "    n1n2 = n1*n2   \n",
    "    n1 = n2\n",
    "                \n",
    "    Occupancies = Occupancies + n1n2\n",
    "            \n",
    "        end\n",
    "    \n",
    "    arg=  -g*Spins -v*Occupancies\n",
    "            \n",
    "return exp(arg)\n",
    "\n",
    "\n",
    "end\n",
    "\n",
    "#This function calculates the density observable in the odd sites A\n",
    "function nA(v)\n",
    "    nA = 0\n",
    "    for j=1:length(v)\n",
    "        if j%2 != 0\n",
    "            nA += sum(n_i(v[j])) \n",
    "        end\n",
    "    end\n",
    "    return nA*2/length(v)\n",
    "end\n",
    "\n",
    "#This function calculates the density observable in the even sites B\n",
    "function nB(v)\n",
    "    nB = 0\n",
    "    for j=1:length(v)\n",
    "        if j%2 == 0\n",
    "            nB += sum(n_i(v[j])) \n",
    "        end\n",
    "    end\n",
    "    return nB*2/length(v)\n",
    "end"
   ]
  },
  {
   "cell_type": "code",
   "execution_count": 7,
   "metadata": {},
   "outputs": [
    {
     "data": {
      "text/plain": [
       "Block (generic function with 1 method)"
      ]
     },
     "execution_count": 7,
     "metadata": {},
     "output_type": "execute_result"
    }
   ],
   "source": [
    "#Block analysis\n",
    "function Block(v, Ne, Ni)\n",
    "    \n",
    "    Average_Bin = []\n",
    "    \n",
    "    N=length(v)\n",
    "    \n",
    "    Lbin = Ne\n",
    "    \n",
    "    Nbin = floor(Int,N/Lbin)\n",
    "    \n",
    "    a=0\n",
    "    b=0\n",
    "    \n",
    "    for i in Ni:Nbin\n",
    "       \n",
    "    a = (i-1)*Lbin +1\n",
    "    b = i*Lbin\n",
    "        \n",
    "av_bin = (1/Int(abs(Lbin)))*(sum(v[Int64(a):Int64(b)]))\n",
    "        \n",
    "push!(Average_Bin,av_bin)\n",
    "        \n",
    "    end\n",
    "\n",
    "return sum(Average_Bin)/(Nbin-Ni+1), Nbin\n",
    "\n",
    "end"
   ]
  },
  {
   "cell_type": "code",
   "execution_count": 68,
   "metadata": {},
   "outputs": [
    {
     "data": {
      "text/plain": [
       "MC_pietro (generic function with 2 methods)"
      ]
     },
     "execution_count": 68,
     "metadata": {},
     "output_type": "execute_result"
    }
   ],
   "source": [
    "#Monte Carlo simulation that calculates nA along the simulation\n",
    "import Random\n",
    "\n",
    "function MC_pietro(q0, g, v, nsteps = 1000)\n",
    "    #Random.seed!(1234)\n",
    "    state_L = q0\n",
    "    sumA=0\n",
    "    sumB=0\n",
    "    accepted_moves = 0\n",
    "    \n",
    "    Suma_A = []\n",
    "    Suma_B = []\n",
    "    \n",
    "    state_new_L = zeros(length(state_L))\n",
    "    \n",
    "    for istep = 1:nsteps\n",
    "        for j = 1:Ne\n",
    "            state_2L = extendedstate(state_L)\n",
    "            state_new_L = hopping(state_L)\n",
    "            state_new_2L = extendedstate(state_new_L)\n",
    "            acc =  (ratio_det(state_2L,state_new_2L) * (Jastrow(state_new_L,g,v)/Jastrow(state_L,g,v)))^2       #acceptance \n",
    "\n",
    "            acc = min(1,acc)\n",
    "\n",
    "            if acc>rand()        #metropolis rule\n",
    "                #print(acc,\"\\n\")\n",
    "                accepted_moves += 1\n",
    "                state_L = copy(state_new_L)\n",
    "            end\n",
    "        end\n",
    "            n_newA= nA(state_new_L)\n",
    "            sumA+=n_newA\n",
    "            push!(Suma_A,n_newA)\n",
    "                #push!(Suma_A,n_newA)\n",
    "\n",
    "            n_newB= nB(state_new_L)\n",
    "            sumB+=n_newB\n",
    "            push!(Suma_B,n_newB)\n",
    "                #push!(Suma_B,n_newB)\n",
    "    end\n",
    "    return Suma_A,Suma_B, accepted_moves, mean(Suma_A[500:1000]), mean(Suma_B[500:1000]), std(Suma_A[500:1000]),std(Suma_B[500:1000]) \n",
    "end "
   ]
  },
  {
   "cell_type": "code",
   "execution_count": 69,
   "metadata": {},
   "outputs": [
    {
     "data": {
      "text/plain": [
       "0.15636472368485374"
      ]
     },
     "execution_count": 69,
     "metadata": {},
     "output_type": "execute_result"
    }
   ],
   "source": [
    "MC_pietro(a, 10, 2, 1000)[6]"
   ]
  },
  {
   "cell_type": "code",
   "execution_count": 116,
   "metadata": {},
   "outputs": [
    {
     "data": {
      "text/plain": [
       "Any[]"
      ]
     },
     "execution_count": 116,
     "metadata": {},
     "output_type": "execute_result"
    }
   ],
   "source": [
    "a = Lstate(L)\n",
    "averages_a = []\n",
    "averages_b = []\n",
    "std_a = []\n",
    "std_b = []"
   ]
  },
  {
   "cell_type": "code",
   "execution_count": 140,
   "metadata": {},
   "outputs": [],
   "source": [
    "MC_prova_2 = MC_pietro(a, 10, 2, 1000)\n",
    "\n",
    "append!(averages_a, MC_prova_2[4] )\n",
    "append!(averages_b, MC_prova_2[5] )\n",
    "append!(std_a, MC_prova_2[6] )\n",
    "append!(std_b, MC_prova_2[7] )\n",
    "\n",
    "p_2 = plot(MC_prova_2[1], title = \"electron density, v = 2\", label = \"n_a\")\n",
    "        plot!(p_2, MC_prova_2[2],label = \"n_b\")\n",
    "        xlabel!(p_2, \"MC steps\")\n",
    "        ylabel!(p_2, \"n\")\n",
    "savefig(\"plot2.png\")"
   ]
  },
  {
   "cell_type": "code",
   "execution_count": 141,
   "metadata": {},
   "outputs": [],
   "source": [
    "MC_prova_3 = MC_pietro(a, 10, 3, 1000)\n",
    "\n",
    "append!(averages_a, MC_prova_3[4] )\n",
    "append!(averages_b, MC_prova_3[5] )\n",
    "append!(std_a, MC_prova_3[6] )\n",
    "append!(std_b, MC_prova_3[7] )\n",
    "\n",
    "p_3 = plot(MC_prova_3[1], title = \"electron density, v = 3\", label = \"n_a\")\n",
    "        plot!(p_3, MC_prova_3[2],label = \"n_b\")\n",
    "        xlabel!(p_3, \"MC steps\")\n",
    "        ylabel!(p_3, \"n\")\n",
    "savefig(\"plot3.png\")"
   ]
  },
  {
   "cell_type": "code",
   "execution_count": 142,
   "metadata": {},
   "outputs": [],
   "source": [
    "MC_prova_4 = MC_pietro(a, 10, 4, 1000)\n",
    "\n",
    "append!(averages_a, MC_prova_4[4] )\n",
    "append!(averages_b, MC_prova_4[5] )\n",
    "append!(std_a, MC_prova_4[6] )\n",
    "append!(std_b, MC_prova_4[7] )\n",
    "\n",
    "p_4 = plot(MC_prova_4[1], title = \"electron density, v = 4\", label = \"n_a\")\n",
    "        plot!(p_4, MC_prova_4[2],label = \"n_b\")\n",
    "        xlabel!(p_4, \"MC steps\")\n",
    "        ylabel!(p_4, \"n\")\n",
    "savefig(\"plot4.png\")"
   ]
  },
  {
   "cell_type": "code",
   "execution_count": 143,
   "metadata": {},
   "outputs": [],
   "source": [
    "MC_prova_5 = MC_pietro(a, 10, 5, 1000)\n",
    "\n",
    "append!(averages_a, MC_prova_5[4] )\n",
    "append!(averages_b, MC_prova_5[5] )\n",
    "append!(std_a, MC_prova_5[6] )\n",
    "append!(std_b, MC_prova_5[7] )\n",
    "\n",
    "p_5 = plot(MC_prova_5[1], title = \"electron density, v = 5\", label = \"n_a\")\n",
    "        plot!(p_5, MC_prova_5[2],label = \"n_b\")\n",
    "        xlabel!(p_5, \"MC steps\")\n",
    "        ylabel!(p_5, \"n\")\n",
    "savefig(\"plot5.png\")"
   ]
  },
  {
   "cell_type": "code",
   "execution_count": 144,
   "metadata": {},
   "outputs": [],
   "source": [
    "MC_prova_6 = MC_pietro(a, 10, 6, 1000)\n",
    "\n",
    "append!(averages_a, MC_prova_6[4] )\n",
    "append!(averages_b, MC_prova_6[5] )\n",
    "append!(std_a, MC_prova_6[6] )\n",
    "append!(std_b, MC_prova_6[7] )\n",
    "\n",
    "p_6 = plot(MC_prova_6[1], title = \"electron density, v = 6\", label = \"n_a\")\n",
    "        plot!(p_6, MC_prova_6[2],label = \"n_b\")\n",
    "        xlabel!(p_6, \"MC steps\")\n",
    "        ylabel!(p_6, \"n\")\n",
    "savefig(\"plot6.png\")"
   ]
  },
  {
   "cell_type": "code",
   "execution_count": 145,
   "metadata": {},
   "outputs": [],
   "source": [
    "MC_prova_7 = MC_pietro(a, 10, 7, 1000)\n",
    "\n",
    "append!(averages_a, MC_prova_7[4] )\n",
    "append!(averages_b, MC_prova_7[5] )\n",
    "append!(std_a, MC_prova_7[6] )\n",
    "append!(std_b, MC_prova_7[7] )\n",
    "\n",
    "p_7 = plot(MC_prova_7[1], title = \"electron density, v = 7\", label = \"n_a\")\n",
    "        plot!(p_7, MC_prova_7[2],label = \"n_b\")\n",
    "        xlabel!(p_7, \"MC steps\")\n",
    "        ylabel!(p_7, \"n\")\n",
    "savefig(\"plot7.png\")"
   ]
  },
  {
   "cell_type": "code",
   "execution_count": 146,
   "metadata": {},
   "outputs": [],
   "source": [
    "MC_prova_8 = MC_pietro(a, 10, 8, 1000)\n",
    "\n",
    "append!(averages_a, MC_prova_8[4] )\n",
    "append!(averages_b, MC_prova_8[5] )\n",
    "append!(std_a, MC_prova_8[6] )\n",
    "append!(std_b, MC_prova_8[7] )\n",
    "\n",
    "p_8 = plot(MC_prova_8[1], title = \"electron density, v = 8\", label = \"n_a\")\n",
    "        plot!(p_8, MC_prova_8[2],label = \"n_b\")\n",
    "        xlabel!(p_8, \"MC steps\")\n",
    "        ylabel!(p_8, \"n\")\n",
    "savefig(\"plot8.png\")"
   ]
  },
  {
   "cell_type": "code",
   "execution_count": 162,
   "metadata": {},
   "outputs": [
    {
     "data": {
      "image/png": "[encoded data removed]",
      "text/plain": [
       "Figure()"
      ]
     },
     "execution_count": 162,
     "metadata": {},
     "output_type": "execute_result"
    }
   ],
   "source": [
    "#v = [2,3,4,5,6,7]\n",
    "\n",
    "#plot(v,averages_a[1:6])\n",
    "#plot!(v,averages_b[1:6])\n",
    "\n",
    "f = Figure()\n",
    "Axis(f[1, 1])\n",
    "Label(f[1, 1, Top()], \"average electron density\", padding = (0, 0, 10, 0))\n",
    "x = [2,3,4,5,6,7,8]\n",
    "\n",
    "lowerrors_a = -std_a \n",
    "higherrors_a = std_a\n",
    "lowerrors_b = -std_b \n",
    "higherrors_b = std_b\n",
    "\n",
    "plot!(x, averages_a[1:7], markersize = 15px,color = :blue, label = \"n_a\")\n",
    "errorbars!(x, averages_a[1:7], higherrors_a[1:7], color = :blue, label = \"n_a\") \n",
    "errorbars!(x, averages_a[1:7], lowerrors_a[1:7], color = :blue) # same low and high error\n",
    "# plot position scatters so low and high errors can be discriminated\n",
    "plot!(x, averages_b[1:6],seriestype = :scatter, color = :red, label = \"n_b\")\n",
    "errorbars!(x, averages_b[1:7], higherrors_b[1:7], color = :red) \n",
    "errorbars!(x, averages_b[1:7], lowerrors_b[1:7], color = :red)\n",
    "\n",
    "f\n",
    "#savefig(f,\"av_el.png\")"
   ]
  },
  {
   "cell_type": "code",
   "execution_count": 125,
   "metadata": {},
   "outputs": [
    {
     "data": {
      "text/plain": [
       "6×3 Matrix{Any}:\n",
       " 2  0.225867     0.225867\n",
       " 3  0.30118      0.30118\n",
       " 4  2.08375e-17  1.17801e-14\n",
       " 5  1.17801e-14  2.08375e-17\n",
       " 6  1.17801e-14  2.08375e-17\n",
       " 7  1.17801e-14  2.08375e-17"
      ]
     },
     "execution_count": 125,
     "metadata": {},
     "output_type": "execute_result"
    }
   ],
   "source": [
    "hcat(v,std_a[1:6],std_b[1:6])"
   ]
  },
  {
   "cell_type": "code",
   "execution_count": null,
   "metadata": {},
   "outputs": [],
   "source": []
  },
  {
   "cell_type": "code",
   "execution_count": null,
   "metadata": {},
   "outputs": [],
   "source": []
  }
 ],
 "metadata": {
  "kernelspec": {
   "display_name": "Julia 1.6.1",
   "language": "julia",
   "name": "julia-1.6"
  },
  "language_info": {
   "file_extension": ".jl",
   "mimetype": "application/julia",
   "name": "julia",
   "version": "1.6.1"
  }
 },
 "nbformat": 4,
 "nbformat_minor": 4
}
