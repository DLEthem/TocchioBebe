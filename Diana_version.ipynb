{
 "cells": [
  {
   "cell_type": "code",
   "execution_count": 294,
   "metadata": {},
   "outputs": [
    {
     "name": "stderr",
     "output_type": "stream",
     "text": [
      "\u001b[32m\u001b[1m   Updating\u001b[22m\u001b[39m registry at `~/.julia/registries/General`\n",
      "######################################################################### 100.0%\n",
      "\u001b[32m\u001b[1m  Resolving\u001b[22m\u001b[39m package versions...\n",
      "\u001b[32m\u001b[1m  Installed\u001b[22m\u001b[39m Libiconv_jll ─ v1.16.0+8\n",
      "\u001b[32m\u001b[1m  Installed\u001b[22m\u001b[39m StatsAPI ───── v1.0.0\n",
      "\u001b[32m\u001b[1m  Installed\u001b[22m\u001b[39m StatsBase ──── v0.33.8\n",
      "\u001b[32m\u001b[1mUpdating\u001b[22m\u001b[39m `~/.julia/environments/v1.5/Project.toml`\n",
      " \u001b[90m [2913bbd2] \u001b[39m\u001b[92m+ StatsBase v0.33.8\u001b[39m\n",
      "\u001b[32m\u001b[1mUpdating\u001b[22m\u001b[39m `~/.julia/environments/v1.5/Manifest.toml`\n",
      " \u001b[90m [94ce4f54] \u001b[39m\u001b[93m↑ Libiconv_jll v1.16.0+7 ⇒ v1.16.0+8\u001b[39m\n",
      " \u001b[90m [82ae8749] \u001b[39m\u001b[92m+ StatsAPI v1.0.0\u001b[39m\n",
      " \u001b[90m [2913bbd2] \u001b[39m\u001b[93m↑ StatsBase v0.33.5 ⇒ v0.33.8\u001b[39m\n"
     ]
    }
   ],
   "source": [
    "import Pkg; Pkg.add(\"StatsBase\")"
   ]
  },
  {
   "cell_type": "code",
   "execution_count": 87,
   "metadata": {},
   "outputs": [],
   "source": [
    "n = 10\n",
    "L = 8*n + 4\n",
    "t = 1\n",
    "Ne = Int(L / 2)\n",
    "function Hamiltonian(L,t)\n",
    "    H = zeros(2*L, 2*L)\n",
    "    H[1,L] = -t\n",
    "    H[L,1] = -t\n",
    "    H[2L,L+1] = -t\n",
    "    H[L+1,2L] = -t\n",
    "    for i=1:2*L\n",
    "      for j=1:2*L\n",
    "        if i == j + 1 || i == j - 1\n",
    "          H[i,j] = -t\n",
    "        end \n",
    "      end\n",
    "    end\n",
    "    H[L,L+1]=0\n",
    "    H[L+1,L]=0\n",
    "    return H\n",
    "end\n",
    "\n",
    "H = Hamiltonian(L,t);"
   ]
  },
  {
   "cell_type": "code",
   "execution_count": 135,
   "metadata": {},
   "outputs": [
    {
     "data": {
      "text/plain": [
       "(168, 168)"
      ]
     },
     "execution_count": 135,
     "metadata": {},
     "output_type": "execute_result"
    }
   ],
   "source": [
    "size(H)"
   ]
  },
  {
   "cell_type": "code",
   "execution_count": 88,
   "metadata": {},
   "outputs": [
    {
     "data": {
      "text/plain": [
       "Lstate (generic function with 1 method)"
      ]
     },
     "execution_count": 88,
     "metadata": {},
     "output_type": "execute_result"
    }
   ],
   "source": [
    "using StatsBase\n",
    "\n",
    "function Lstate(L)                                 #generate a state of length L\n",
    "    Lstated, Lstateu, Lstate = zeros(L), zeros(L), zeros(L)\n",
    "    randomposu = sample(collect(1:L), Int(L/4), replace=false)\n",
    "    randomposd = sample(collect(1:L), Int(L/4), replace=false)\n",
    "    for j in randomposu\n",
    "        Lstateu[j] = 1\n",
    "    end\n",
    "    for j in randomposd\n",
    "        Lstated[j] = -1\n",
    "    end\n",
    "    for i=1:L \n",
    "        if Lstated[i] == -1 && Lstateu[i] == 1\n",
    "            Lstate[i] = 2\n",
    "        else\n",
    "            Lstate[i] = Lstated[i] + Lstateu[i]\n",
    "        end\n",
    "    end\n",
    "    return Lstate\n",
    "end"
   ]
  },
  {
   "cell_type": "code",
   "execution_count": 89,
   "metadata": {},
   "outputs": [
    {
     "data": {
      "text/plain": [
       "extendedstate (generic function with 1 method)"
      ]
     },
     "execution_count": 89,
     "metadata": {},
     "output_type": "execute_result"
    }
   ],
   "source": [
    "function extendedstate(Lstatevector)               #take a state of length L and make it 2*L\n",
    "    L = length(Lstatevector)\n",
    "    \n",
    "    State2L = zeros(2*L)\n",
    "    \n",
    "    for j=1:L\n",
    "        if Lstatevector[j] == -1\n",
    "            State2L[j + L] = 1\n",
    "        elseif Lstatevector[j] == 1\n",
    "            State2L[j] = 1\n",
    "        elseif Lstatevector[j] == 2\n",
    "            State2L[j], State2L[j + L] = 1,1\n",
    "        else\n",
    "            State2L[j] = 0\n",
    "        end\n",
    "    end\n",
    "    return State2L\n",
    "end"
   ]
  },
  {
   "cell_type": "code",
   "execution_count": 104,
   "metadata": {},
   "outputs": [
    {
     "data": {
      "text/plain": [
       "168-element Array{Float64,1}:\n",
       " 0.0\n",
       " 0.0\n",
       " 0.0\n",
       " 0.0\n",
       " 0.0\n",
       " 0.0\n",
       " 0.0\n",
       " 1.0\n",
       " 0.0\n",
       " 0.0\n",
       " 0.0\n",
       " 0.0\n",
       " 0.0\n",
       " ⋮\n",
       " 1.0\n",
       " 0.0\n",
       " 1.0\n",
       " 0.0\n",
       " 0.0\n",
       " 1.0\n",
       " 0.0\n",
       " 0.0\n",
       " 0.0\n",
       " 0.0\n",
       " 0.0\n",
       " 1.0"
      ]
     },
     "execution_count": 104,
     "metadata": {},
     "output_type": "execute_result"
    }
   ],
   "source": [
    "extendedstate(Lstate(L))"
   ]
  },
  {
   "cell_type": "code",
   "execution_count": 90,
   "metadata": {},
   "outputs": [
    {
     "data": {
      "text/plain": [
       "shortstate (generic function with 1 method)"
      ]
     },
     "execution_count": 90,
     "metadata": {},
     "output_type": "execute_result"
    }
   ],
   "source": [
    "function shortstate(ext_state)                    #pass trom 2*L state to L state\n",
    "    L = Int(length(ext_state)/2)\n",
    "    sh_state = zeros(L)\n",
    "    for j=1:L\n",
    "        if ext_state[j]==1\n",
    "            sh_state[j]=1\n",
    "        end\n",
    "    end\n",
    "    for j=1:L\n",
    "        if ext_state[L+j]==1\n",
    "            if sh_state[j]==1\n",
    "                sh_state[j]=2\n",
    "            else\n",
    "                sh_state[j]=-1\n",
    "            end\n",
    "        end\n",
    "    end\n",
    "    return sh_state\n",
    "end\n"
   ]
  },
  {
   "cell_type": "code",
   "execution_count": 109,
   "metadata": {},
   "outputs": [
    {
     "data": {
      "text/plain": [
       "move_L (generic function with 1 method)"
      ]
     },
     "execution_count": 109,
     "metadata": {},
     "output_type": "execute_result"
    }
   ],
   "source": [
    "function Pauli(x,i,j)                 #check if state i and j are both occupied\n",
    "    if x[i] == 1 && x[j] == 1\n",
    "        return true\n",
    "    end\n",
    "    return false\n",
    "end \n",
    "\n",
    "function occupied_states(v)         #generate a vector with positions of occupied states (from 2*L states)\n",
    "    occ_states = []\n",
    "     L =length(v)\n",
    "    for i = 1:2*L\n",
    "        if v[i] == 1\n",
    "            append!(occ_states, i)\n",
    "        end\n",
    "    end\n",
    "    return occ_states\n",
    "end\n",
    "\n",
    "\n",
    "function occupied_states_L(v)\n",
    "    occ_states = []\n",
    "    L =length(v)\n",
    "    for i = 1 : L\n",
    "        if abs(v[i]) == 1\n",
    "            append!(occ_states, i )\n",
    "            \n",
    "        elseif v[i] == 2\n",
    "            append!(occ_states, i )\n",
    "        \n",
    "        end\n",
    "    end\n",
    "    return occ_states\n",
    "end\n",
    "\n",
    "\n",
    "function move_L(w)\n",
    "    \n",
    "    v = copy(w)\n",
    "    L = length(v)\n",
    "    i = rand(occupied_states_L(v))\n",
    "    j = rand(-1:2:1)\n",
    "\n",
    "    j_pbc = mod(i+j,L)\n",
    "    j_pbc == 0 ? j_pbc = L : j_pbc = j_pbc\n",
    "\n",
    "        if v[i] != v[j_pbc] && v[j_pbc]!=2\n",
    "\n",
    "            if abs(v[i])==1\n",
    "            v[j_pbc] == 0 ? v[j_pbc] = v[i] : v[j_pbc] = 2\n",
    "            v[i] = 0\n",
    "\n",
    "            elseif v[i]==2    \n",
    "            spin = rand(-1:2:1)\n",
    "\n",
    "                if v[j_pbc] != spin\n",
    "                v[i] = -spin\n",
    "\n",
    "                    if abs(v[j_pbc]) == 1 \n",
    "                        v[j_pbc] = 2 \n",
    "                    elseif v[j_pbc] == 0 \n",
    "                        v[j_pbc] = spin \n",
    "                    end\n",
    "\n",
    "                end    \n",
    "            end\n",
    "            \n",
    "        end\n",
    "\n",
    "    return v\n",
    "    \n",
    "end\n"
   ]
  },
  {
   "cell_type": "code",
   "execution_count": 110,
   "metadata": {},
   "outputs": [
    {
     "data": {
      "text/plain": [
       "move_LATEMPT (generic function with 1 method)"
      ]
     },
     "execution_count": 110,
     "metadata": {},
     "output_type": "execute_result"
    }
   ],
   "source": [
    "function move_com(v,i, j_pbc)\n",
    "    \n",
    "    if abs(v[i])==1\n",
    "            v[j_pbc] == 0 ? v[j_pbc] = v[i] : v[j_pbc] = 2\n",
    "            v[i] = 0\n",
    "\n",
    "            elseif v[i]==2    \n",
    "            spin = rand(-1:2:1)\n",
    "\n",
    "                if v[j_pbc] != spin\n",
    "                v[i] = -spin\n",
    "\n",
    "                    if abs(v[j_pbc]) == 1 \n",
    "                        v[j_pbc] = 2 \n",
    "                    elseif v[j_pbc] == 0 \n",
    "                        v[j_pbc] = spin \n",
    "                    end\n",
    "\n",
    "                end    \n",
    "            end\n",
    "\n",
    "return v[i], v[j_pbc] \n",
    "    \n",
    "end \n",
    "    \n",
    "    \n",
    "function move_LATEMPT(w)\n",
    "    \n",
    "    v = copy(w)\n",
    "    L = length(v)\n",
    "    i = rand(occupied_states_L(v))\n",
    "    j = rand(-1:2:1)\n",
    "\n",
    "    j_pbc = mod(i+j,L)\n",
    "    j_pbc == 0 ? j_pbc = L : j_pbc = j_pbc\n",
    "\n",
    "        if v[i] != v[j_pbc] && v[j_pbc]!=2\n",
    "            move_com(v, i, j_pbc)\n",
    "        \n",
    "        elseif v[i] == v[j_pbc] \n",
    "            i = rand(occupied_states_L(v))\n",
    "            move_com(v, i, j_pbc)\n",
    "        end\n",
    "\n",
    "    return v\n",
    "    \n",
    "end\n"
   ]
  },
  {
   "cell_type": "code",
   "execution_count": 93,
   "metadata": {},
   "outputs": [
    {
     "data": {
      "text/plain": [
       "84-element Array{Float64,1}:\n",
       "  0.0\n",
       "  0.0\n",
       "  0.0\n",
       " -1.0\n",
       "  0.0\n",
       "  1.0\n",
       "  0.0\n",
       "  2.0\n",
       "  1.0\n",
       "  0.0\n",
       " -1.0\n",
       " -1.0\n",
       "  0.0\n",
       "  ⋮\n",
       "  0.0\n",
       "  0.0\n",
       " -1.0\n",
       "  0.0\n",
       " -1.0\n",
       "  0.0\n",
       " -1.0\n",
       "  0.0\n",
       "  1.0\n",
       "  0.0\n",
       "  0.0\n",
       "  0.0"
      ]
     },
     "metadata": {},
     "output_type": "display_data"
    },
    {
     "data": {
      "text/plain": [
       "84-element Array{Float64,1}:\n",
       "  0.0\n",
       "  0.0\n",
       "  0.0\n",
       " -1.0\n",
       "  0.0\n",
       "  1.0\n",
       "  0.0\n",
       "  2.0\n",
       "  1.0\n",
       "  0.0\n",
       " -1.0\n",
       " -1.0\n",
       "  0.0\n",
       "  ⋮\n",
       "  0.0\n",
       "  0.0\n",
       " -1.0\n",
       "  0.0\n",
       " -1.0\n",
       "  0.0\n",
       " -1.0\n",
       "  0.0\n",
       "  1.0\n",
       "  0.0\n",
       "  0.0\n",
       "  0.0"
      ]
     },
     "metadata": {},
     "output_type": "display_data"
    },
    {
     "data": {
      "text/plain": [
       "(nothing, nothing)"
      ]
     },
     "execution_count": 93,
     "metadata": {},
     "output_type": "execute_result"
    }
   ],
   "source": [
    "v=Lstate(L)\n",
    "display(v),display(move_L(v))"
   ]
  },
  {
   "cell_type": "code",
   "execution_count": 142,
   "metadata": {},
   "outputs": [
    {
     "data": {
      "text/plain": [
       "ratio_det (generic function with 1 method)"
      ]
     },
     "execution_count": 142,
     "metadata": {},
     "output_type": "execute_result"
    }
   ],
   "source": [
    "using LinearAlgebra\n",
    "U = eigvecs(H)  #unitary matrix\n",
    "Udag = inv(U)   #U^-1\n",
    "E = eigvals(H)  #eigenvalues of H\n",
    "\n",
    "function U1(A, Ne) #take the first Ne columns\n",
    "    U_1 = A[:,1:Ne]\n",
    "    return U_1\n",
    "end\n",
    "\n",
    "U_1 = U1(U,Ne)\n",
    "\n",
    "function U_tilde(A,v)                  #takes just the rows related to occupied states, Ne*Ne matrix\n",
    "    U_tild = []\n",
    "    U_tild = A[occupied_states_L(v),:]\n",
    "    return U_tild\n",
    "end\n",
    "\n",
    "U_t = U_tilde(U_1,Q)\n",
    "\n",
    "function ratio_det(v, z)\n",
    "    rat= det(U_tilde(U_1,z))/det(U_tilde(U_1,v))\n",
    "    return rat\n",
    "end  \n"
   ]
  },
  {
   "cell_type": "code",
   "execution_count": 143,
   "metadata": {},
   "outputs": [
    {
     "data": {
      "text/plain": [
       "(168, 42)"
      ]
     },
     "execution_count": 143,
     "metadata": {},
     "output_type": "execute_result"
    }
   ],
   "source": [
    "size(U_1)"
   ]
  },
  {
   "cell_type": "code",
   "execution_count": 95,
   "metadata": {},
   "outputs": [
    {
     "data": {
      "text/plain": [
       "24-element Array{Int64,1}:\n",
       " 1\n",
       " 0\n",
       " 1\n",
       " 0\n",
       " 0\n",
       " 1\n",
       " 0\n",
       " 0\n",
       " 0\n",
       " 0\n",
       " 0\n",
       " 0\n",
       " 0\n",
       " 0\n",
       " 0\n",
       " 0\n",
       " 0\n",
       " 1\n",
       " 0\n",
       " 1\n",
       " 0\n",
       " 0\n",
       " 0\n",
       " 1"
      ]
     },
     "execution_count": 95,
     "metadata": {},
     "output_type": "execute_result"
    }
   ],
   "source": [
    "state = [1,1,0,0,0,1,0,0,0,0,0,0,0,0,0,0,0,1,0,1,0,0,0,1]      #initial state\n",
    "\n",
    "state_1 = [1,0,1,0,0,1,0,0,0,0,0,0,0,0,0,0,0,1,0,1,0,0,0,1]    #|x'>\n"
   ]
  },
  {
   "cell_type": "code",
   "execution_count": 96,
   "metadata": {},
   "outputs": [
    {
     "data": {
      "text/plain": [
       "n_i (generic function with 1 method)"
      ]
     },
     "execution_count": 96,
     "metadata": {},
     "output_type": "execute_result"
    }
   ],
   "source": [
    "function n_i(vi)           #counts the number of els in positions vi, returning (# up , # down)\n",
    "    \n",
    "    n_up = 0\n",
    "    n_down = 0\n",
    "    \n",
    "        if vi == 1\n",
    "            n_up += 1\n",
    "            \n",
    "        elseif vi == -1\n",
    "            n_down += 1\n",
    "                \n",
    "        elseif vi == 2\n",
    "            n_down += 1\n",
    "            n_up += 1\n",
    "                \n",
    "        end\n",
    "\n",
    "return n_up, n_down\n",
    "\n",
    "end\n"
   ]
  },
  {
   "cell_type": "code",
   "execution_count": 130,
   "metadata": {},
   "outputs": [
    {
     "data": {
      "text/plain": [
       "Jastrow (generic function with 1 method)"
      ]
     },
     "execution_count": 130,
     "metadata": {},
     "output_type": "execute_result"
    }
   ],
   "source": [
    "function Jastrow(state,g,v)\n",
    "            \n",
    "    D=length(state)       \n",
    "    \n",
    "    Spins=0\n",
    "    Occupancies=0  \n",
    "    \n",
    "    n1 = n_i(state[D])[1] + n_i(state[D])[2]\n",
    "    n2 = 0\n",
    "    \n",
    "    for i = 1 : D\n",
    "                \n",
    "        n_up= n_i(state[i])[1]    \n",
    "        n_down = n_i(state[i])[2]\n",
    "                \n",
    "    Spins = Spins + n_up*n_down \n",
    "                \n",
    "    n2= n_up + n_down\n",
    "    n1n2 = n1*n2   \n",
    "    n1 = n2\n",
    "                \n",
    "    Occupancies = Occupancies + n1n2\n",
    "            \n",
    "        end\n",
    "    \n",
    "    arg=  -g*Spins -v*Occupancies\n",
    "            \n",
    "return exp(arg)\n",
    "\n",
    "end\n"
   ]
  },
  {
   "cell_type": "code",
   "execution_count": 131,
   "metadata": {},
   "outputs": [
    {
     "data": {
      "text/plain": [
       "nB (generic function with 1 method)"
      ]
     },
     "execution_count": 131,
     "metadata": {},
     "output_type": "execute_result"
    }
   ],
   "source": [
    "#This function calculates the density observable in the odd sites A\n",
    "function nA(v)\n",
    "    nA = 0\n",
    "    for j=1:length(v)\n",
    "        if j%2 != 0\n",
    "            nA += sum(n_i(v[j])) \n",
    "        end\n",
    "    end\n",
    "    return nA*2/length(v)\n",
    "end\n",
    "\n",
    "#This function calculates the density observable in the even sites B\n",
    "function nB(v)\n",
    "    nB = 0\n",
    "    for j=1:length(v)\n",
    "        if j%2 == 0\n",
    "            nB += sum(n_i(v[j])) \n",
    "        end\n",
    "    end\n",
    "    return nB*2/length(v)\n",
    "end"
   ]
  },
  {
   "cell_type": "code",
   "execution_count": 199,
   "metadata": {},
   "outputs": [],
   "source": [
    "import Random\n",
    "\n",
    "function MC(q0, g, v, nsteps = 1000)\n",
    "   # Random.seed!(1234)\n",
    "    state_L = q0\n",
    "    sumA=0\n",
    "    sumB=0\n",
    "    accepted_moves = 0\n",
    "    \n",
    "    Suma_A = []\n",
    "    Suma_B = []\n",
    "    \n",
    "    for istep = 1 : nsteps\n",
    "        state_2L = extendedstate(state_L)\n",
    "        state_new_L = move_L(state_L)\n",
    "        state_new_2L = extendedstate(state_new_L)\n",
    "       acc =  (ratio_det(state_2L,state_new_2L) * (Jastrow(state_new_L,g,v)/Jastrow(state_L,g,v)))^2       #acceptance \n",
    "       \n",
    "        acc = min(1,acc)\n",
    "        \n",
    "        if acc>rand()        #metropolis rule\n",
    "            \n",
    "            accepted_moves += 1\n",
    "            \n",
    "            n_newA= nA(state_new_L)\n",
    "            sumA+=n_newA\n",
    "            push!(Suma_A,sumA/accepted_moves)\n",
    "            #push!(Suma_A,n_newA)\n",
    "            \n",
    "            n_newB= nB(state_new_L)\n",
    "            sumB+=n_newB\n",
    "            push!(Suma_B,sumB/accepted_moves)\n",
    "            #push!(Suma_B,n_newB)\n",
    "            \n",
    "            state_L = copy(state_new_L)\n",
    "            #compute observables\n",
    "        end\n",
    "    end\n",
    "    return Suma_A,Suma_B, accepted_moves\n",
    "end \n",
    "\n",
    "MC_prova= MC(Lstate(L),10,2,1000);\n"
   ]
  },
  {
   "cell_type": "code",
   "execution_count": 200,
   "metadata": {},
   "outputs": [
    {
     "data": {
      "text/plain": [
       "(Any[0.5714285714285714, 0.5595238095238095, 0.5634920634920635, 0.5654761904761905, 0.5619047619047619, 0.5555555555555555, 0.5476190476190476, 0.5416666666666666, 0.5343915343915344, 0.5285714285714286  …  0.5444376026272584, 0.544655630492541, 0.5449735449735456, 0.5453900709219863, 0.5459039548022604, 0.5465139642354838, 0.5470188075230097, 0.547419804741981, 0.5477182539682545, 0.5479154317328596], Any[0.42857142857142855, 0.44047619047619047, 0.4365079365079365, 0.43452380952380953, 0.43809523809523815, 0.4444444444444445, 0.45238095238095244, 0.45833333333333337, 0.46560846560846564, 0.4714285714285714  …  0.45556239737274173, 0.4553443695074591, 0.4550264550264545, 0.4546099290780137, 0.4540960451977396, 0.45348603576451624, 0.45298119247699026, 0.452580195258019, 0.45228174603174554, 0.45208456826714033], 241)"
      ]
     },
     "execution_count": 200,
     "metadata": {},
     "output_type": "execute_result"
    }
   ],
   "source": [
    "MC(Lstate(L), 10, 8, 1000)"
   ]
  },
  {
   "cell_type": "code",
   "execution_count": 201,
   "metadata": {},
   "outputs": [
    {
     "data": {
      "text/plain": [
       "Block (generic function with 1 method)"
      ]
     },
     "execution_count": 201,
     "metadata": {},
     "output_type": "execute_result"
    }
   ],
   "source": [
    "function Block(v, Ne)\n",
    "    \n",
    "    Average_Bin = []\n",
    "    \n",
    "    N=length(v)\n",
    "    \n",
    "    Lbin = Ne\n",
    "    \n",
    "    Nbin = N/Lbin\n",
    "    \n",
    "    a=0\n",
    "    b=0\n",
    "    \n",
    "    for i in 1:Nbin\n",
    "       \n",
    "    a = (i-1)*Lbin +1\n",
    "    b = i*Lbin\n",
    "        \n",
    "av_bin = (1/Int(abs(Lbin)))*(sum(v[Int64(a):Int64(b)]))\n",
    "        \n",
    "push!(Average_Bin,av_bin)\n",
    "        \n",
    "    end\n",
    "\n",
    "return sum(Average_Bin)/Nbin\n",
    "\n",
    "    \n",
    "end"
   ]
  },
  {
   "cell_type": "code",
   "execution_count": 202,
   "metadata": {},
   "outputs": [
    {
     "data": {
      "text/plain": [
       "0.12000000000000002"
      ]
     },
     "execution_count": 202,
     "metadata": {},
     "output_type": "execute_result"
    }
   ],
   "source": [
    "v = Lstate(200)\n",
    "\n",
    "Block(v, 20)\n",
    "\n"
   ]
  },
  {
   "cell_type": "code",
   "execution_count": 221,
   "metadata": {},
   "outputs": [
    {
     "data": {
      "text/plain": [
       "(0.4924768407831739, 0.5028371236029553)"
      ]
     },
     "execution_count": 221,
     "metadata": {},
     "output_type": "execute_result"
    }
   ],
   "source": [
    "import Random\n",
    "\n",
    "function MC_Ne(q0, g, v, Ne, nsteps = 1000)\n",
    "    \n",
    "    state_L = q0\n",
    "    sumA=0\n",
    "    sumB=0\n",
    "    accepted_moves = 0\n",
    "    accepted_Ne = 0\n",
    "    \n",
    "    Suma_A = []\n",
    "    Suma_B = []\n",
    "    \n",
    "    \n",
    "    for istep = 1:nsteps\n",
    "        state_2L = extendedstate(state_L)\n",
    "        state_new_L = move_L(state_L)\n",
    "        state_new_2L = extendedstate(state_new_L)\n",
    "        #acc =  (ratio_det(state_2L,state_new_2L) * (Jastrow(state_new_L,g,v)/Jastrow(state_L,g,v)))^2       #acceptance \n",
    "        acc =  (ratio_det(state_2L,state_new_2L))^2       #acceptance \n",
    "        \n",
    "        acc = min(1,acc)\n",
    "        \n",
    "        if acc>rand()        #metropolis rule\n",
    "            \n",
    "            accepted_moves += 1 \n",
    "            \n",
    "            n_newA= nA(state_new_L)\n",
    "            sumA+=n_newA\n",
    "            push!(Suma_A,n_newA)\n",
    "            \n",
    "            n_newB= nB(state_new_L)\n",
    "            sumB+=n_newB\n",
    "            push!(Suma_B,n_newB)\n",
    "            \n",
    "            state_L = copy(state_new_L)\n",
    "            #compute observables\n",
    "        \n",
    "            end\n",
    "    \n",
    "    end\n",
    "    \n",
    "    return Block(Suma_A, Ne), Block(Suma_B, Ne)\n",
    "\n",
    "    display(state_2L,state_new_L )\n",
    "end \n",
    "\n",
    "MC_prova= MC_Ne(Lstate(L),10,8,Ne,10000)\n"
   ]
  },
  {
   "cell_type": "code",
   "execution_count": 307,
   "metadata": {},
   "outputs": [
    {
     "data": {
      "text/plain": [
       "12.0"
      ]
     },
     "execution_count": 307,
     "metadata": {},
     "output_type": "execute_result"
    }
   ],
   "source": [
    "Q = Lstate(L)\n",
    "sum(Q)\n"
   ]
  },
  {
   "cell_type": "code",
   "execution_count": 308,
   "metadata": {},
   "outputs": [
    {
     "data": {
      "image/svg+xml": [
       "<?xml version=\"1.0\" encoding=\"utf-8\"?>\n",
       "<svg xmlns=\"http://www.w3.org/2000/svg\" xmlns:xlink=\"http://www.w3.org/1999/xlink\" width=\"600\" height=\"400\" viewBox=\"0 0 2400 1600\">\n",
       "<defs>\n",
       "  <clipPath id=\"clip360\">\n",
       "    <rect x=\"0\" y=\"0\" width=\"2400\" height=\"1600\"/>\n",
       "  </clipPath>\n",
       "</defs>\n",
       "<path clip-path=\"url(#clip360)\" d=\"\n",
       "M0 1600 L2400 1600 L2400 0 L0 0  Z\n",
       "  \" fill=\"#ffffff\" fill-rule=\"evenodd\" fill-opacity=\"1\"/>\n",
       "<defs>\n",
       "  <clipPath id=\"clip361\">\n",
       "    <rect x=\"480\" y=\"0\" width=\"1681\" height=\"1600\"/>\n",
       "  </clipPath>\n",
       "</defs>\n",
       "<path clip-path=\"url(#clip360)\" d=\"\n",
       "M156.598 1486.45 L2352.76 1486.45 L2352.76 47.2441 L156.598 47.2441  Z\n",
       "  \" fill=\"#ffffff\" fill-rule=\"evenodd\" fill-opacity=\"1\"/>\n",
       "<defs>\n",
       "  <clipPath id=\"clip362\">\n",
       "    <rect x=\"156\" y=\"47\" width=\"2197\" height=\"1440\"/>\n",
       "  </clipPath>\n",
       "</defs>\n",
       "<polyline clip-path=\"url(#clip362)\" style=\"stroke:#000000; stroke-width:2; stroke-opacity:0.1; fill:none\" points=\"\n",
       "  216.531,1486.45 216.531,47.2441 \n",
       "  \"/>\n",
       "<polyline clip-path=\"url(#clip362)\" style=\"stroke:#000000; stroke-width:2; stroke-opacity:0.1; fill:none\" points=\"\n",
       "  661.133,1486.45 661.133,47.2441 \n",
       "  \"/>\n",
       "<polyline clip-path=\"url(#clip362)\" style=\"stroke:#000000; stroke-width:2; stroke-opacity:0.1; fill:none\" points=\"\n",
       "  1105.74,1486.45 1105.74,47.2441 \n",
       "  \"/>\n",
       "<polyline clip-path=\"url(#clip362)\" style=\"stroke:#000000; stroke-width:2; stroke-opacity:0.1; fill:none\" points=\"\n",
       "  1550.34,1486.45 1550.34,47.2441 \n",
       "  \"/>\n",
       "<polyline clip-path=\"url(#clip362)\" style=\"stroke:#000000; stroke-width:2; stroke-opacity:0.1; fill:none\" points=\"\n",
       "  1994.94,1486.45 1994.94,47.2441 \n",
       "  \"/>\n",
       "<polyline clip-path=\"url(#clip360)\" style=\"stroke:#000000; stroke-width:4; stroke-opacity:1; fill:none\" points=\"\n",
       "  156.598,1486.45 2352.76,1486.45 \n",
       "  \"/>\n",
       "<polyline clip-path=\"url(#clip360)\" style=\"stroke:#000000; stroke-width:4; stroke-opacity:1; fill:none\" points=\"\n",
       "  216.531,1486.45 216.531,1469.18 \n",
       "  \"/>\n",
       "<polyline clip-path=\"url(#clip360)\" style=\"stroke:#000000; stroke-width:4; stroke-opacity:1; fill:none\" points=\"\n",
       "  661.133,1486.45 661.133,1469.18 \n",
       "  \"/>\n",
       "<polyline clip-path=\"url(#clip360)\" style=\"stroke:#000000; stroke-width:4; stroke-opacity:1; fill:none\" points=\"\n",
       "  1105.74,1486.45 1105.74,1469.18 \n",
       "  \"/>\n",
       "<polyline clip-path=\"url(#clip360)\" style=\"stroke:#000000; stroke-width:4; stroke-opacity:1; fill:none\" points=\"\n",
       "  1550.34,1486.45 1550.34,1469.18 \n",
       "  \"/>\n",
       "<polyline clip-path=\"url(#clip360)\" style=\"stroke:#000000; stroke-width:4; stroke-opacity:1; fill:none\" points=\"\n",
       "  1994.94,1486.45 1994.94,1469.18 \n",
       "  \"/>\n",
       "<path clip-path=\"url(#clip360)\" d=\"M 0 0 M216.531 1515.64 Q212.92 1515.64 211.091 1519.2 Q209.285 1522.75 209.285 1529.87 Q209.285 1536.98 211.091 1540.55 Q212.92 1544.09 216.531 1544.09 Q220.165 1544.09 221.97 1540.55 Q223.799 1536.98 223.799 1529.87 Q223.799 1522.75 221.97 1519.2 Q220.165 1515.64 216.531 1515.64 M216.531 1511.93 Q222.341 1511.93 225.396 1516.54 Q228.475 1521.12 228.475 1529.87 Q228.475 1538.6 225.396 1543.21 Q222.341 1547.79 216.531 1547.79 Q210.72 1547.79 207.642 1543.21 Q204.586 1538.6 204.586 1529.87 Q204.586 1521.12 207.642 1516.54 Q210.72 1511.93 216.531 1511.93 Z\" fill=\"#000000\" fill-rule=\"evenodd\" fill-opacity=\"1\" /><path clip-path=\"url(#clip360)\" d=\"M 0 0 M624.825 1543.18 L641.145 1543.18 L641.145 1547.12 L619.2 1547.12 L619.2 1543.18 Q621.862 1540.43 626.446 1535.8 Q631.052 1531.15 632.233 1529.81 Q634.478 1527.28 635.358 1525.55 Q636.26 1523.79 636.26 1522.1 Q636.26 1519.34 634.316 1517.61 Q632.395 1515.87 629.293 1515.87 Q627.094 1515.87 624.64 1516.63 Q622.21 1517.4 619.432 1518.95 L619.432 1514.23 Q622.256 1513.09 624.71 1512.51 Q627.163 1511.93 629.2 1511.93 Q634.571 1511.93 637.765 1514.62 Q640.959 1517.31 640.959 1521.8 Q640.959 1523.93 640.149 1525.85 Q639.362 1527.74 637.256 1530.34 Q636.677 1531.01 633.575 1534.23 Q630.473 1537.42 624.825 1543.18 Z\" fill=\"#000000\" fill-rule=\"evenodd\" fill-opacity=\"1\" /><path clip-path=\"url(#clip360)\" d=\"M 0 0 M660.959 1515.64 Q657.348 1515.64 655.52 1519.2 Q653.714 1522.75 653.714 1529.87 Q653.714 1536.98 655.52 1540.55 Q657.348 1544.09 660.959 1544.09 Q664.594 1544.09 666.399 1540.55 Q668.228 1536.98 668.228 1529.87 Q668.228 1522.75 666.399 1519.2 Q664.594 1515.64 660.959 1515.64 M660.959 1511.93 Q666.77 1511.93 669.825 1516.54 Q672.904 1521.12 672.904 1529.87 Q672.904 1538.6 669.825 1543.21 Q666.77 1547.79 660.959 1547.79 Q655.149 1547.79 652.071 1543.21 Q649.015 1538.6 649.015 1529.87 Q649.015 1521.12 652.071 1516.54 Q655.149 1511.93 660.959 1511.93 Z\" fill=\"#000000\" fill-rule=\"evenodd\" fill-opacity=\"1\" /><path clip-path=\"url(#clip360)\" d=\"M 0 0 M691.121 1515.64 Q687.51 1515.64 685.681 1519.2 Q683.876 1522.75 683.876 1529.87 Q683.876 1536.98 685.681 1540.55 Q687.51 1544.09 691.121 1544.09 Q694.755 1544.09 696.561 1540.55 Q698.39 1536.98 698.39 1529.87 Q698.39 1522.75 696.561 1519.2 Q694.755 1515.64 691.121 1515.64 M691.121 1511.93 Q696.931 1511.93 699.987 1516.54 Q703.066 1521.12 703.066 1529.87 Q703.066 1538.6 699.987 1543.21 Q696.931 1547.79 691.121 1547.79 Q685.311 1547.79 682.232 1543.21 Q679.177 1538.6 679.177 1529.87 Q679.177 1521.12 682.232 1516.54 Q685.311 1511.93 691.121 1511.93 Z\" fill=\"#000000\" fill-rule=\"evenodd\" fill-opacity=\"1\" /><path clip-path=\"url(#clip360)\" d=\"M 0 0 M1078.83 1516.63 L1067.02 1535.08 L1078.83 1535.08 L1078.83 1516.63 M1077.6 1512.56 L1083.48 1512.56 L1083.48 1535.08 L1088.41 1535.08 L1088.41 1538.97 L1083.48 1538.97 L1083.48 1547.12 L1078.83 1547.12 L1078.83 1538.97 L1063.22 1538.97 L1063.22 1534.46 L1077.6 1512.56 Z\" fill=\"#000000\" fill-rule=\"evenodd\" fill-opacity=\"1\" /><path clip-path=\"url(#clip360)\" d=\"M 0 0 M1106.14 1515.64 Q1102.53 1515.64 1100.7 1519.2 Q1098.9 1522.75 1098.9 1529.87 Q1098.9 1536.98 1100.7 1540.55 Q1102.53 1544.09 1106.14 1544.09 Q1109.77 1544.09 1111.58 1540.55 Q1113.41 1536.98 1113.41 1529.87 Q1113.41 1522.75 1111.58 1519.2 Q1109.77 1515.64 1106.14 1515.64 M1106.14 1511.93 Q1111.95 1511.93 1115.01 1516.54 Q1118.08 1521.12 1118.08 1529.87 Q1118.08 1538.6 1115.01 1543.21 Q1111.95 1547.79 1106.14 1547.79 Q1100.33 1547.79 1097.25 1543.21 Q1094.2 1538.6 1094.2 1529.87 Q1094.2 1521.12 1097.25 1516.54 Q1100.33 1511.93 1106.14 1511.93 Z\" fill=\"#000000\" fill-rule=\"evenodd\" fill-opacity=\"1\" /><path clip-path=\"url(#clip360)\" d=\"M 0 0 M1136.3 1515.64 Q1132.69 1515.64 1130.86 1519.2 Q1129.06 1522.75 1129.06 1529.87 Q1129.06 1536.98 1130.86 1540.55 Q1132.69 1544.09 1136.3 1544.09 Q1139.94 1544.09 1141.74 1540.55 Q1143.57 1536.98 1143.57 1529.87 Q1143.57 1522.75 1141.74 1519.2 Q1139.94 1515.64 1136.3 1515.64 M1136.3 1511.93 Q1142.11 1511.93 1145.17 1516.54 Q1148.25 1521.12 1148.25 1529.87 Q1148.25 1538.6 1145.17 1543.21 Q1142.11 1547.79 1136.3 1547.79 Q1130.49 1547.79 1127.41 1543.21 Q1124.36 1538.6 1124.36 1529.87 Q1124.36 1521.12 1127.41 1516.54 Q1130.49 1511.93 1136.3 1511.93 Z\" fill=\"#000000\" fill-rule=\"evenodd\" fill-opacity=\"1\" /><path clip-path=\"url(#clip360)\" d=\"M 0 0 M1520.66 1527.98 Q1517.51 1527.98 1515.66 1530.13 Q1513.83 1532.28 1513.83 1536.03 Q1513.83 1539.76 1515.66 1541.93 Q1517.51 1544.09 1520.66 1544.09 Q1523.81 1544.09 1525.64 1541.93 Q1527.49 1539.76 1527.49 1536.03 Q1527.49 1532.28 1525.64 1530.13 Q1523.81 1527.98 1520.66 1527.98 M1529.94 1513.32 L1529.94 1517.58 Q1528.18 1516.75 1526.38 1516.31 Q1524.6 1515.87 1522.84 1515.87 Q1518.21 1515.87 1515.75 1519 Q1513.32 1522.12 1512.98 1528.44 Q1514.34 1526.43 1516.4 1525.36 Q1518.46 1524.27 1520.94 1524.27 Q1526.15 1524.27 1529.16 1527.44 Q1532.19 1530.59 1532.19 1536.03 Q1532.19 1541.36 1529.04 1544.57 Q1525.89 1547.79 1520.66 1547.79 Q1514.67 1547.79 1511.5 1543.21 Q1508.32 1538.6 1508.32 1529.87 Q1508.32 1521.68 1512.21 1516.82 Q1516.1 1511.93 1522.65 1511.93 Q1524.41 1511.93 1526.19 1512.28 Q1528 1512.63 1529.94 1513.32 Z\" fill=\"#000000\" fill-rule=\"evenodd\" fill-opacity=\"1\" /><path clip-path=\"url(#clip360)\" d=\"M 0 0 M1550.25 1515.64 Q1546.63 1515.64 1544.81 1519.2 Q1543 1522.75 1543 1529.87 Q1543 1536.98 1544.81 1540.55 Q1546.63 1544.09 1550.25 1544.09 Q1553.88 1544.09 1555.68 1540.55 Q1557.51 1536.98 1557.51 1529.87 Q1557.51 1522.75 1555.68 1519.2 Q1553.88 1515.64 1550.25 1515.64 M1550.25 1511.93 Q1556.06 1511.93 1559.11 1516.54 Q1562.19 1521.12 1562.19 1529.87 Q1562.19 1538.6 1559.11 1543.21 Q1556.06 1547.79 1550.25 1547.79 Q1544.43 1547.79 1541.36 1543.21 Q1538.3 1538.6 1538.3 1529.87 Q1538.3 1521.12 1541.36 1516.54 Q1544.43 1511.93 1550.25 1511.93 Z\" fill=\"#000000\" fill-rule=\"evenodd\" fill-opacity=\"1\" /><path clip-path=\"url(#clip360)\" d=\"M 0 0 M1580.41 1515.64 Q1576.8 1515.64 1574.97 1519.2 Q1573.16 1522.75 1573.16 1529.87 Q1573.16 1536.98 1574.97 1540.55 Q1576.8 1544.09 1580.41 1544.09 Q1584.04 1544.09 1585.85 1540.55 Q1587.68 1536.98 1587.68 1529.87 Q1587.68 1522.75 1585.85 1519.2 Q1584.04 1515.64 1580.41 1515.64 M1580.41 1511.93 Q1586.22 1511.93 1589.27 1516.54 Q1592.35 1521.12 1592.35 1529.87 Q1592.35 1538.6 1589.27 1543.21 Q1586.22 1547.79 1580.41 1547.79 Q1574.6 1547.79 1571.52 1543.21 Q1568.46 1538.6 1568.46 1529.87 Q1568.46 1521.12 1571.52 1516.54 Q1574.6 1511.93 1580.41 1511.93 Z\" fill=\"#000000\" fill-rule=\"evenodd\" fill-opacity=\"1\" /><path clip-path=\"url(#clip360)\" d=\"M 0 0 M1964.73 1530.71 Q1961.4 1530.71 1959.48 1532.49 Q1957.58 1534.27 1957.58 1537.4 Q1957.58 1540.52 1959.48 1542.31 Q1961.4 1544.09 1964.73 1544.09 Q1968.07 1544.09 1969.99 1542.31 Q1971.91 1540.5 1971.91 1537.4 Q1971.91 1534.27 1969.99 1532.49 Q1968.09 1530.71 1964.73 1530.71 M1960.06 1528.72 Q1957.05 1527.98 1955.36 1525.92 Q1953.69 1523.86 1953.69 1520.89 Q1953.69 1516.75 1956.63 1514.34 Q1959.59 1511.93 1964.73 1511.93 Q1969.89 1511.93 1972.83 1514.34 Q1975.77 1516.75 1975.77 1520.89 Q1975.77 1523.86 1974.08 1525.92 Q1972.42 1527.98 1969.43 1528.72 Q1972.81 1529.5 1974.69 1531.8 Q1976.58 1534.09 1976.58 1537.4 Q1976.58 1542.42 1973.5 1545.11 Q1970.45 1547.79 1964.73 1547.79 Q1959.01 1547.79 1955.94 1545.11 Q1952.88 1542.42 1952.88 1537.4 Q1952.88 1534.09 1954.78 1531.8 Q1956.68 1529.5 1960.06 1528.72 M1958.34 1521.33 Q1958.34 1524.02 1960.01 1525.52 Q1961.7 1527.03 1964.73 1527.03 Q1967.74 1527.03 1969.43 1525.52 Q1971.14 1524.02 1971.14 1521.33 Q1971.14 1518.65 1969.43 1517.14 Q1967.74 1515.64 1964.73 1515.64 Q1961.7 1515.64 1960.01 1517.14 Q1958.34 1518.65 1958.34 1521.33 Z\" fill=\"#000000\" fill-rule=\"evenodd\" fill-opacity=\"1\" /><path clip-path=\"url(#clip360)\" d=\"M 0 0 M1994.89 1515.64 Q1991.28 1515.64 1989.45 1519.2 Q1987.65 1522.75 1987.65 1529.87 Q1987.65 1536.98 1989.45 1540.55 Q1991.28 1544.09 1994.89 1544.09 Q1998.53 1544.09 2000.33 1540.55 Q2002.16 1536.98 2002.16 1529.87 Q2002.16 1522.75 2000.33 1519.2 Q1998.53 1515.64 1994.89 1515.64 M1994.89 1511.93 Q2000.7 1511.93 2003.76 1516.54 Q2006.84 1521.12 2006.84 1529.87 Q2006.84 1538.6 2003.76 1543.21 Q2000.7 1547.79 1994.89 1547.79 Q1989.08 1547.79 1986 1543.21 Q1982.95 1538.6 1982.95 1529.87 Q1982.95 1521.12 1986 1516.54 Q1989.08 1511.93 1994.89 1511.93 Z\" fill=\"#000000\" fill-rule=\"evenodd\" fill-opacity=\"1\" /><path clip-path=\"url(#clip360)\" d=\"M 0 0 M2025.06 1515.64 Q2021.44 1515.64 2019.62 1519.2 Q2017.81 1522.75 2017.81 1529.87 Q2017.81 1536.98 2019.62 1540.55 Q2021.44 1544.09 2025.06 1544.09 Q2028.69 1544.09 2030.5 1540.55 Q2032.32 1536.98 2032.32 1529.87 Q2032.32 1522.75 2030.5 1519.2 Q2028.69 1515.64 2025.06 1515.64 M2025.06 1511.93 Q2030.87 1511.93 2033.92 1516.54 Q2037 1521.12 2037 1529.87 Q2037 1538.6 2033.92 1543.21 Q2030.87 1547.79 2025.06 1547.79 Q2019.25 1547.79 2016.17 1543.21 Q2013.11 1538.6 2013.11 1529.87 Q2013.11 1521.12 2016.17 1516.54 Q2019.25 1511.93 2025.06 1511.93 Z\" fill=\"#000000\" fill-rule=\"evenodd\" fill-opacity=\"1\" /><polyline clip-path=\"url(#clip362)\" style=\"stroke:#000000; stroke-width:2; stroke-opacity:0.1; fill:none\" points=\"\n",
       "  156.598,1486.45 2352.76,1486.45 \n",
       "  \"/>\n",
       "<polyline clip-path=\"url(#clip362)\" style=\"stroke:#000000; stroke-width:2; stroke-opacity:0.1; fill:none\" points=\"\n",
       "  156.598,1198.61 2352.76,1198.61 \n",
       "  \"/>\n",
       "<polyline clip-path=\"url(#clip362)\" style=\"stroke:#000000; stroke-width:2; stroke-opacity:0.1; fill:none\" points=\"\n",
       "  156.598,910.766 2352.76,910.766 \n",
       "  \"/>\n",
       "<polyline clip-path=\"url(#clip362)\" style=\"stroke:#000000; stroke-width:2; stroke-opacity:0.1; fill:none\" points=\"\n",
       "  156.598,622.926 2352.76,622.926 \n",
       "  \"/>\n",
       "<polyline clip-path=\"url(#clip362)\" style=\"stroke:#000000; stroke-width:2; stroke-opacity:0.1; fill:none\" points=\"\n",
       "  156.598,335.085 2352.76,335.085 \n",
       "  \"/>\n",
       "<polyline clip-path=\"url(#clip362)\" style=\"stroke:#000000; stroke-width:2; stroke-opacity:0.1; fill:none\" points=\"\n",
       "  156.598,47.2441 2352.76,47.2441 \n",
       "  \"/>\n",
       "<polyline clip-path=\"url(#clip360)\" style=\"stroke:#000000; stroke-width:4; stroke-opacity:1; fill:none\" points=\"\n",
       "  156.598,1486.45 156.598,47.2441 \n",
       "  \"/>\n",
       "<polyline clip-path=\"url(#clip360)\" style=\"stroke:#000000; stroke-width:4; stroke-opacity:1; fill:none\" points=\"\n",
       "  156.598,1486.45 182.952,1486.45 \n",
       "  \"/>\n",
       "<polyline clip-path=\"url(#clip360)\" style=\"stroke:#000000; stroke-width:4; stroke-opacity:1; fill:none\" points=\"\n",
       "  156.598,1198.61 182.952,1198.61 \n",
       "  \"/>\n",
       "<polyline clip-path=\"url(#clip360)\" style=\"stroke:#000000; stroke-width:4; stroke-opacity:1; fill:none\" points=\"\n",
       "  156.598,910.766 182.952,910.766 \n",
       "  \"/>\n",
       "<polyline clip-path=\"url(#clip360)\" style=\"stroke:#000000; stroke-width:4; stroke-opacity:1; fill:none\" points=\"\n",
       "  156.598,622.926 182.952,622.926 \n",
       "  \"/>\n",
       "<polyline clip-path=\"url(#clip360)\" style=\"stroke:#000000; stroke-width:4; stroke-opacity:1; fill:none\" points=\"\n",
       "  156.598,335.085 182.952,335.085 \n",
       "  \"/>\n",
       "<polyline clip-path=\"url(#clip360)\" style=\"stroke:#000000; stroke-width:4; stroke-opacity:1; fill:none\" points=\"\n",
       "  156.598,47.2441 182.952,47.2441 \n",
       "  \"/>\n",
       "<path clip-path=\"url(#clip360)\" d=\"M 0 0 M63.4226 1472.25 Q59.8115 1472.25 57.9828 1475.81 Q56.1773 1479.35 56.1773 1486.48 Q56.1773 1493.59 57.9828 1497.15 Q59.8115 1500.7 63.4226 1500.7 Q67.0569 1500.7 68.8624 1497.15 Q70.6911 1493.59 70.6911 1486.48 Q70.6911 1479.35 68.8624 1475.81 Q67.0569 1472.25 63.4226 1472.25 M63.4226 1468.54 Q69.2328 1468.54 72.2883 1473.15 Q75.367 1477.73 75.367 1486.48 Q75.367 1495.21 72.2883 1499.82 Q69.2328 1504.4 63.4226 1504.4 Q57.6125 1504.4 54.5338 1499.82 Q51.4782 1495.21 51.4782 1486.48 Q51.4782 1477.73 54.5338 1473.15 Q57.6125 1468.54 63.4226 1468.54 Z\" fill=\"#000000\" fill-rule=\"evenodd\" fill-opacity=\"1\" /><path clip-path=\"url(#clip360)\" d=\"M 0 0 M83.5845 1497.85 L88.4688 1497.85 L88.4688 1503.73 L83.5845 1503.73 L83.5845 1497.85 Z\" fill=\"#000000\" fill-rule=\"evenodd\" fill-opacity=\"1\" /><path clip-path=\"url(#clip360)\" d=\"M 0 0 M108.654 1472.25 Q105.043 1472.25 103.214 1475.81 Q101.409 1479.35 101.409 1486.48 Q101.409 1493.59 103.214 1497.15 Q105.043 1500.7 108.654 1500.7 Q112.288 1500.7 114.094 1497.15 Q115.922 1493.59 115.922 1486.48 Q115.922 1479.35 114.094 1475.81 Q112.288 1472.25 108.654 1472.25 M108.654 1468.54 Q114.464 1468.54 117.52 1473.15 Q120.598 1477.73 120.598 1486.48 Q120.598 1495.21 117.52 1499.82 Q114.464 1504.4 108.654 1504.4 Q102.844 1504.4 99.765 1499.82 Q96.7095 1495.21 96.7095 1486.48 Q96.7095 1477.73 99.765 1473.15 Q102.844 1468.54 108.654 1468.54 Z\" fill=\"#000000\" fill-rule=\"evenodd\" fill-opacity=\"1\" /><path clip-path=\"url(#clip360)\" d=\"M 0 0 M65.0198 1184.41 Q61.4087 1184.41 59.58 1187.97 Q57.7745 1191.51 57.7745 1198.64 Q57.7745 1205.75 59.58 1209.31 Q61.4087 1212.85 65.0198 1212.85 Q68.6541 1212.85 70.4596 1209.31 Q72.2883 1205.75 72.2883 1198.64 Q72.2883 1191.51 70.4596 1187.97 Q68.6541 1184.41 65.0198 1184.41 M65.0198 1180.7 Q70.83 1180.7 73.8855 1185.31 Q76.9642 1189.89 76.9642 1198.64 Q76.9642 1207.37 73.8855 1211.98 Q70.83 1216.56 65.0198 1216.56 Q59.2097 1216.56 56.131 1211.98 Q53.0754 1207.37 53.0754 1198.64 Q53.0754 1189.89 56.131 1185.31 Q59.2097 1180.7 65.0198 1180.7 Z\" fill=\"#000000\" fill-rule=\"evenodd\" fill-opacity=\"1\" /><path clip-path=\"url(#clip360)\" d=\"M 0 0 M85.1818 1210.01 L90.066 1210.01 L90.066 1215.89 L85.1818 1215.89 L85.1818 1210.01 Z\" fill=\"#000000\" fill-rule=\"evenodd\" fill-opacity=\"1\" /><path clip-path=\"url(#clip360)\" d=\"M 0 0 M104.279 1211.95 L120.598 1211.95 L120.598 1215.89 L98.6539 1215.89 L98.6539 1211.95 Q101.316 1209.2 105.899 1204.57 Q110.506 1199.91 111.686 1198.57 Q113.932 1196.05 114.811 1194.31 Q115.714 1192.55 115.714 1190.86 Q115.714 1188.11 113.77 1186.37 Q111.848 1184.64 108.746 1184.64 Q106.547 1184.64 104.094 1185.4 Q101.663 1186.17 98.8854 1187.72 L98.8854 1182.99 Q101.709 1181.86 104.163 1181.28 Q106.617 1180.7 108.654 1180.7 Q114.024 1180.7 117.219 1183.39 Q120.413 1186.07 120.413 1190.56 Q120.413 1192.69 119.603 1194.61 Q118.816 1196.51 116.709 1199.1 Q116.131 1199.78 113.029 1202.99 Q109.927 1206.19 104.279 1211.95 Z\" fill=\"#000000\" fill-rule=\"evenodd\" fill-opacity=\"1\" /><path clip-path=\"url(#clip360)\" d=\"M 0 0 M62.9365 896.565 Q59.3254 896.565 57.4967 900.13 Q55.6912 903.671 55.6912 910.801 Q55.6912 917.908 57.4967 921.472 Q59.3254 925.014 62.9365 925.014 Q66.5707 925.014 68.3763 921.472 Q70.205 917.908 70.205 910.801 Q70.205 903.671 68.3763 900.13 Q66.5707 896.565 62.9365 896.565 M62.9365 892.861 Q68.7467 892.861 71.8022 897.468 Q74.8809 902.051 74.8809 910.801 Q74.8809 919.528 71.8022 924.134 Q68.7467 928.718 62.9365 928.718 Q57.1264 928.718 54.0477 924.134 Q50.9921 919.528 50.9921 910.801 Q50.9921 902.051 54.0477 897.468 Q57.1264 892.861 62.9365 892.861 Z\" fill=\"#000000\" fill-rule=\"evenodd\" fill-opacity=\"1\" /><path clip-path=\"url(#clip360)\" d=\"M 0 0 M83.0984 922.167 L87.9827 922.167 L87.9827 928.046 L83.0984 928.046 L83.0984 922.167 Z\" fill=\"#000000\" fill-rule=\"evenodd\" fill-opacity=\"1\" /><path clip-path=\"url(#clip360)\" d=\"M 0 0 M111.015 897.56 L99.2095 916.009 L111.015 916.009 L111.015 897.56 M109.788 893.486 L115.668 893.486 L115.668 916.009 L120.598 916.009 L120.598 919.898 L115.668 919.898 L115.668 928.046 L111.015 928.046 L111.015 919.898 L95.4132 919.898 L95.4132 915.384 L109.788 893.486 Z\" fill=\"#000000\" fill-rule=\"evenodd\" fill-opacity=\"1\" /><path clip-path=\"url(#clip360)\" d=\"M 0 0 M63.2606 608.724 Q59.6495 608.724 57.8208 612.289 Q56.0152 615.831 56.0152 622.96 Q56.0152 630.067 57.8208 633.632 Q59.6495 637.173 63.2606 637.173 Q66.8948 637.173 68.7004 633.632 Q70.5291 630.067 70.5291 622.96 Q70.5291 615.831 68.7004 612.289 Q66.8948 608.724 63.2606 608.724 M63.2606 605.021 Q69.0707 605.021 72.1263 609.627 Q75.205 614.21 75.205 622.96 Q75.205 631.687 72.1263 636.294 Q69.0707 640.877 63.2606 640.877 Q57.4504 640.877 54.3717 636.294 Q51.3162 631.687 51.3162 622.96 Q51.3162 614.21 54.3717 609.627 Q57.4504 605.021 63.2606 605.021 Z\" fill=\"#000000\" fill-rule=\"evenodd\" fill-opacity=\"1\" /><path clip-path=\"url(#clip360)\" d=\"M 0 0 M83.4225 634.326 L88.3067 634.326 L88.3067 640.206 L83.4225 640.206 L83.4225 634.326 Z\" fill=\"#000000\" fill-rule=\"evenodd\" fill-opacity=\"1\" /><path clip-path=\"url(#clip360)\" d=\"M 0 0 M109.071 621.062 Q105.922 621.062 104.071 623.215 Q102.242 625.368 102.242 629.118 Q102.242 632.845 104.071 635.02 Q105.922 637.173 109.071 637.173 Q112.219 637.173 114.047 635.02 Q115.899 632.845 115.899 629.118 Q115.899 625.368 114.047 623.215 Q112.219 621.062 109.071 621.062 M118.353 606.409 L118.353 610.669 Q116.594 609.835 114.788 609.396 Q113.006 608.956 111.246 608.956 Q106.617 608.956 104.163 612.081 Q101.733 615.206 101.385 621.525 Q102.751 619.511 104.811 618.446 Q106.871 617.359 109.348 617.359 Q114.557 617.359 117.566 620.53 Q120.598 623.678 120.598 629.118 Q120.598 634.442 117.45 637.659 Q114.302 640.877 109.071 640.877 Q103.075 640.877 99.9039 636.294 Q96.7326 631.687 96.7326 622.96 Q96.7326 614.766 100.621 609.905 Q104.51 605.021 111.061 605.021 Q112.82 605.021 114.603 605.368 Q116.408 605.715 118.353 606.409 Z\" fill=\"#000000\" fill-rule=\"evenodd\" fill-opacity=\"1\" /><path clip-path=\"url(#clip360)\" d=\"M 0 0 M63.5152 320.884 Q59.9041 320.884 58.0754 324.448 Q56.2699 327.99 56.2699 335.12 Q56.2699 342.226 58.0754 345.791 Q59.9041 349.332 63.5152 349.332 Q67.1494 349.332 68.955 345.791 Q70.7837 342.226 70.7837 335.12 Q70.7837 327.99 68.955 324.448 Q67.1494 320.884 63.5152 320.884 M63.5152 317.18 Q69.3254 317.18 72.3809 321.786 Q75.4596 326.37 75.4596 335.12 Q75.4596 343.846 72.3809 348.453 Q69.3254 353.036 63.5152 353.036 Q57.7051 353.036 54.6264 348.453 Q51.5708 343.846 51.5708 335.12 Q51.5708 326.37 54.6264 321.786 Q57.7051 317.18 63.5152 317.18 Z\" fill=\"#000000\" fill-rule=\"evenodd\" fill-opacity=\"1\" /><path clip-path=\"url(#clip360)\" d=\"M 0 0 M83.6771 346.485 L88.5614 346.485 L88.5614 352.365 L83.6771 352.365 L83.6771 346.485 Z\" fill=\"#000000\" fill-rule=\"evenodd\" fill-opacity=\"1\" /><path clip-path=\"url(#clip360)\" d=\"M 0 0 M108.746 335.953 Q105.413 335.953 103.492 337.735 Q101.594 339.518 101.594 342.643 Q101.594 345.768 103.492 347.55 Q105.413 349.332 108.746 349.332 Q112.08 349.332 114.001 347.55 Q115.922 345.745 115.922 342.643 Q115.922 339.518 114.001 337.735 Q112.103 335.953 108.746 335.953 M104.071 333.962 Q101.061 333.221 99.3715 331.161 Q97.7048 329.101 97.7048 326.138 Q97.7048 321.995 100.645 319.587 Q103.608 317.18 108.746 317.18 Q113.908 317.18 116.848 319.587 Q119.788 321.995 119.788 326.138 Q119.788 329.101 118.098 331.161 Q116.432 333.221 113.445 333.962 Q116.825 334.749 118.7 337.041 Q120.598 339.333 120.598 342.643 Q120.598 347.666 117.52 350.351 Q114.464 353.036 108.746 353.036 Q103.029 353.036 99.9502 350.351 Q96.8947 347.666 96.8947 342.643 Q96.8947 339.333 98.7928 337.041 Q100.691 334.749 104.071 333.962 M102.358 326.578 Q102.358 329.263 104.024 330.768 Q105.714 332.272 108.746 332.272 Q111.756 332.272 113.445 330.768 Q115.158 329.263 115.158 326.578 Q115.158 323.893 113.445 322.388 Q111.756 320.884 108.746 320.884 Q105.714 320.884 104.024 322.388 Q102.358 323.893 102.358 326.578 Z\" fill=\"#000000\" fill-rule=\"evenodd\" fill-opacity=\"1\" /><path clip-path=\"url(#clip360)\" d=\"M 0 0 M54.2328 60.5889 L61.8717 60.5889 L61.8717 34.2233 L53.5616 35.89 L53.5616 31.6308 L61.8254 29.9641 L66.5013 29.9641 L66.5013 60.5889 L74.1402 60.5889 L74.1402 64.5241 L54.2328 64.5241 L54.2328 60.5889 Z\" fill=\"#000000\" fill-rule=\"evenodd\" fill-opacity=\"1\" /><path clip-path=\"url(#clip360)\" d=\"M 0 0 M83.5845 58.6445 L88.4688 58.6445 L88.4688 64.5241 L83.5845 64.5241 L83.5845 58.6445 Z\" fill=\"#000000\" fill-rule=\"evenodd\" fill-opacity=\"1\" /><path clip-path=\"url(#clip360)\" d=\"M 0 0 M108.654 33.0428 Q105.043 33.0428 103.214 36.6076 Q101.409 40.1492 101.409 47.2788 Q101.409 54.3853 103.214 57.9501 Q105.043 61.4917 108.654 61.4917 Q112.288 61.4917 114.094 57.9501 Q115.922 54.3853 115.922 47.2788 Q115.922 40.1492 114.094 36.6076 Q112.288 33.0428 108.654 33.0428 M108.654 29.3391 Q114.464 29.3391 117.52 33.9456 Q120.598 38.5289 120.598 47.2788 Q120.598 56.0056 117.52 60.6121 Q114.464 65.1954 108.654 65.1954 Q102.844 65.1954 99.765 60.6121 Q96.7095 56.0056 96.7095 47.2788 Q96.7095 38.5289 99.765 33.9456 Q102.844 29.3391 108.654 29.3391 Z\" fill=\"#000000\" fill-rule=\"evenodd\" fill-opacity=\"1\" /><polyline clip-path=\"url(#clip362)\" style=\"stroke:#009af9; stroke-width:4; stroke-opacity:1; fill:none\" points=\"\n",
       "  218.754,526.979 220.977,544.112 223.2,561.245 225.423,569.812 227.646,574.952 229.869,584.09 232.092,585.722 234.315,586.946 236.538,587.897 238.761,585.232 \n",
       "  240.984,586.167 243.207,584.09 245.43,579.697 247.653,573.484 249.876,565.814 252.099,561.245 254.322,559.23 256.545,559.342 258.768,559.442 260.991,561.245 \n",
       "  263.214,561.245 265.437,562.803 267.66,562.735 269.883,564.101 272.106,566.728 274.329,570.471 276.552,572.668 278.775,574.707 280.998,577.788 283.221,581.805 \n",
       "  285.444,584.458 287.667,585.875 289.89,586.167 292.113,587.449 294.336,589.638 296.559,592.657 298.782,596.438 301.005,600.923 303.228,604.299 305.451,608.362 \n",
       "  307.674,613.063 309.897,618.357 312.12,624.201 314.343,629.779 316.566,634.348 318.789,638.718 321.012,642.173 323.235,644.771 325.458,647.262 327.681,648.968 \n",
       "  329.904,650.608 332.127,652.843 334.35,654.348 336.573,656.431 338.796,659.061 341.019,662.21 343.242,664.647 345.465,667.591 347.688,670.434 349.911,672.612 \n",
       "  352.134,674.157 354.357,676.205 356.58,678.731 358.803,680.644 361.026,681.97 363.249,682.737 365.472,682.969 367.695,683.699 369.918,683.911 372.141,684.606 \n",
       "  374.364,685.764 376.587,686.414 378.81,686.577 381.033,686.273 383.257,686.433 385.48,686.139 387.703,685.407 389.926,684.694 392.149,683.999 394.372,683.321 \n",
       "  396.595,683.083 398.818,683.269 401.041,683.037 403.264,682.403 405.487,682.187 407.71,681.578 409.933,680.588 412.156,679.232 414.379,678.291 416.602,677.752 \n",
       "  418.825,676.849 421.048,675.592 423.271,673.994 425.494,672.795 427.717,671.981 429.94,671.542 432.163,670.758 434.386,669.64 436.609,668.892 438.832,667.815 \n",
       "  441.055,666.421 443.278,665.39 445.501,664.711 447.724,663.716 449.947,662.74 452.17,661.783 454.393,660.843 456.616,660.238 458.839,659.33 461.062,658.127 \n",
       "  463.285,657.254 465.508,656.397 467.731,655.858 469.954,655.629 472.177,655.703 474.4,656.07 476.623,656.724 478.846,657.657 481.069,658.287 483.292,658.906 \n",
       "  485.515,659.798 487.738,660.956 489.961,661.817 492.184,662.388 494.407,663.223 496.63,664.318 498.853,665.125 501.076,665.652 503.299,666.436 505.522,667.472 \n",
       "  507.745,668.231 509.968,668.978 512.191,669.456 514.414,670.183 516.637,670.645 518.86,671.101 521.083,671.299 523.306,671.247 525.529,670.948 527.752,670.899 \n",
       "  529.975,671.093 532.198,671.044 534.421,670.755 536.644,670.233 538.867,669.717 541.09,668.974 543.313,668.009 545.536,667.056 547.759,666.345 549.982,665.873 \n",
       "  552.205,665.634 554.428,665.398 556.651,664.942 558.874,664.268 561.097,663.825 563.32,663.606 565.543,663.173 567.766,662.744 569.989,662.106 572.212,661.476 \n",
       "  574.436,661.066 576.659,660.45 578.882,660.051 581.105,659.449 583.328,658.854 585.551,658.472 587.774,658.3 589.997,657.927 592.22,657.355 594.443,656.789 \n",
       "  596.666,656.431 598.889,656.077 601.112,655.727 603.335,655.577 605.558,655.626 607.781,655.868 610.004,655.915 612.227,655.768 614.45,655.814 616.673,656.05 \n",
       "  618.896,656.094 621.119,656.326 623.342,656.368 625.565,656.224 627.788,655.896 630.011,655.755 632.234,655.8 634.457,655.844 636.68,655.706 638.903,655.75 \n",
       "  641.126,655.614 643.349,655.301 645.572,654.813 647.795,654.508 650.018,654.381 652.241,654.08 654.464,653.957 656.687,653.662 658.91,653.37 661.133,652.909 \n",
       "  663.356,652.282 665.579,651.832 667.802,651.554 670.025,651.448 672.248,651.509 674.471,651.404 676.694,651.465 678.917,651.36 681.14,651.421 683.363,651.481 \n",
       "  685.586,651.378 687.809,651.438 690.032,651.336 692.255,651.076 694.478,650.977 696.701,650.72 698.924,650.623 701.147,650.37 703.37,649.963 705.593,649.56 \n",
       "  707.816,649.316 710.039,649.073 712.262,648.679 714.485,648.442 716.708,648.055 718.931,647.519 721.154,646.837 723.377,646.161 725.6,645.64 727.823,644.976 \n",
       "  730.046,644.465 732.269,643.811 734.492,643.309 736.715,642.666 738.938,641.882 741.161,640.959 743.384,640.189 745.607,639.569 747.83,638.812 750.053,638.203 \n",
       "  752.276,637.741 754.499,637.142 756.722,636.407 758.945,635.818 761.168,635.374 763.391,635.072 765.615,634.635 767.838,634.062 770.061,633.357 772.284,632.794 \n",
       "  774.507,632.1 776.73,631.547 778.953,631.133 781.176,630.858 783.399,630.451 785.622,630.181 787.845,630.046 790.068,630.045 792.291,630.176 794.514,630.174 \n",
       "  796.737,630.042 798.96,629.779 801.183,629.388 803.406,629.13 805.629,629.003 807.852,629.006 810.075,629.137 812.298,629.14 814.521,629.269 816.744,629.525 \n",
       "  818.967,629.905 821.19,630.157 823.413,630.281 825.636,630.529 827.859,630.9 830.082,631.145 832.305,631.263 834.528,631.505 836.751,631.621 838.974,631.615 \n",
       "  841.197,631.486 843.42,631.48 845.643,631.353 847.866,631.106 850.089,630.981 852.312,630.737 854.535,630.615 856.758,630.374 858.981,630.253 861.204,630.015 \n",
       "  863.427,629.897 865.65,629.662 867.873,629.545 870.096,629.313 872.319,628.966 874.542,628.506 876.765,627.933 878.988,627.479 881.211,627.143 883.434,626.695 \n",
       "  885.657,626.364 887.88,626.148 890.103,626.047 892.326,626.059 894.549,625.959 896.772,625.972 898.995,625.872 901.218,625.885 903.441,626.009 905.664,626.021 \n",
       "  907.887,626.143 910.11,626.155 912.333,626.276 914.556,626.287 916.779,626.407 919.002,626.417 921.225,626.32 923.448,626.331 925.671,626.234 927.894,626.031 \n",
       "  930.117,625.722 932.34,625.522 934.563,625.429 936.786,625.231 939.009,624.929 941.232,624.734 943.455,624.644 945.678,624.66 947.901,624.571 950.124,624.587 \n",
       "  952.347,624.706 954.57,624.928 956.794,625.251 959.017,625.675 961.24,626.199 963.463,626.617 965.686,626.932 967.909,627.143 970.132,627.454 972.355,627.864 \n",
       "  974.578,628.372 976.801,628.777 979.024,629.279 981.247,629.879 983.47,630.574 985.693,631.364 987.916,632.248 990.139,633.225 992.362,634.099 994.585,635.066 \n",
       "  996.808,636.125 999.031,637.275 1001.25,638.321 1003.48,639.459 1005.7,640.493 1007.92,641.426 1010.15,642.257 1012.37,642.988 1014.59,643.81 1016.81,644.533 \n",
       "  1019.04,645.156 1021.26,645.682 1023.48,646.299 1025.71,647.006 1027.93,647.804 1030.15,648.504 1032.38,649.107 1034.6,649.799 1036.82,650.58 1039.04,651.45 \n",
       "  1041.27,652.408 1043.49,653.452 1045.71,654.4 1047.94,655.25 1050.16,656.187 1052.38,657.211 1054.61,658.319 1056.83,659.513 1059.05,660.791 1061.28,662.152 \n",
       "  1063.5,663.596 1065.72,665.122 1067.94,666.551 1070.17,667.883 1072.39,669.119 1074.61,670.437 1076.84,671.661 1079.06,672.966 1081.28,674.352 1083.51,675.819 \n",
       "  1085.73,677.367 1087.95,678.819 1090.17,680.176 1092.4,681.44 1094.62,682.784 1096.84,684.035 1099.07,685.365 1101.29,686.775 1103.51,688.264 1105.74,689.66 \n",
       "  1107.96,690.963 1110.18,692.175 1112.4,693.296 1114.63,694.496 1116.85,695.605 1119.07,696.793 1121.3,697.892 1123.52,698.9 1125.74,699.988 1127.97,701.154 \n",
       "  1130.19,702.398 1132.41,703.552 1134.63,704.784 1136.86,706.093 1139.08,707.313 1141.3,708.444 1143.53,709.653 1145.75,710.937 1147.97,712.134 1150.2,713.243 \n",
       "  1152.42,714.428 1154.64,715.527 1156.86,716.539 1159.09,717.466 1161.31,718.469 1163.53,719.548 1165.76,720.542 1167.98,721.451 1170.2,722.275 1172.43,723.016 \n",
       "  1174.65,723.834 1176.87,724.726 1179.09,725.536 1181.32,726.421 1183.54,727.38 1185.76,728.257 1187.99,729.207 1190.21,730.076 1192.43,731.018 1194.66,732.034 \n",
       "  1196.88,732.968 1199.1,733.82 1201.32,734.59 1203.55,735.435 1205.77,736.352 1207.99,737.189 1210.22,738.099 1212.44,738.928 1214.66,739.677 1216.89,740.346 \n",
       "  1219.11,741.089 1221.33,741.904 1223.55,742.791 1225.78,743.75 1228,744.629 1230.22,745.429 1232.45,746.301 1234.67,747.094 1236.89,747.809 1239.12,748.595 \n",
       "  1241.34,749.304 1243.56,749.935 1245.79,750.638 1248.01,751.411 1250.23,752.255 1252.45,753.169 1254.68,754.005 1256.9,754.911 1259.12,755.886 1261.35,756.785 \n",
       "  1263.57,757.752 1265.79,758.642 1268.02,759.457 1270.24,760.195 1272.46,760.858 1274.68,761.591 1276.91,762.392 1279.13,763.118 1281.35,763.77 1283.58,764.347 \n",
       "  1285.8,764.994 1288.02,765.566 1290.25,766.207 1292.47,766.917 1294.69,767.553 1296.91,768.115 1299.14,768.605 1301.36,769.163 1303.58,769.789 1305.81,770.482 \n",
       "  1308.03,771.103 1310.25,771.652 1312.48,772.267 1314.7,772.95 1316.92,773.561 1319.14,774.238 1321.37,774.844 1323.59,775.516 1325.81,776.117 1328.04,776.646 \n",
       "  1330.26,777.242 1332.48,777.904 1334.71,778.495 1336.93,779.152 1339.15,779.738 1341.37,780.255 1343.6,780.701 1345.82,781.214 1348.04,781.791 1350.27,782.434 \n",
       "  1352.49,783.141 1354.71,783.912 1356.94,784.614 1359.16,785.379 1361.38,786.075 1363.6,786.702 1365.83,787.26 1368.05,787.75 1370.27,788.304 1372.5,788.922 \n",
       "  1374.72,789.471 1376.94,790.084 1379.17,790.761 1381.39,791.5 1383.61,792.301 1385.83,793.165 1388.06,793.96 1390.28,794.688 1392.5,795.348 1394.73,796.07 \n",
       "  1396.95,796.725 1399.17,797.312 1401.4,797.963 1403.62,798.546 1405.84,799.063 1408.06,799.514 1410.29,800.028 1412.51,800.603 1414.73,801.24 1416.96,801.811 \n",
       "  1419.18,802.316 1421.4,802.883 1423.63,803.385 1425.85,803.821 1428.07,804.319 1430.29,804.878 1432.52,805.373 1434.74,805.803 1436.96,806.168 1439.19,806.595 \n",
       "  1441.41,806.959 1443.63,807.258 1445.86,807.495 1448.08,807.669 1450.3,807.904 1452.53,808.2 1454.75,808.557 1456.97,808.85 1459.19,809.204 1461.42,809.496 \n",
       "  1463.64,809.725 1465.86,809.893 1468.09,810.121 1470.31,810.287 1472.53,810.513 1474.76,810.799 1476.98,811.145 1479.2,811.429 1481.42,811.652 1483.65,811.934 \n",
       "  1485.87,812.155 1488.09,812.315 1490.32,812.415 1492.54,812.455 1494.76,812.436 1496.99,812.476 1499.21,812.456 1501.43,812.495 1503.65,812.476 1505.88,812.515 \n",
       "  1508.1,812.614 1510.32,812.771 1512.55,812.986 1514.77,813.141 1516.99,813.355 1519.22,813.627 1521.44,813.839 1523.66,814.108 1525.88,814.319 1528.11,814.587 \n",
       "  1530.33,814.912 1532.55,815.178 1534.78,815.501 1537,815.766 1539.22,816.086 1541.45,816.464 1543.67,816.782 1545.89,817.157 1548.11,817.588 1550.34,817.961 \n",
       "  1552.56,818.389 1554.78,818.872 1557.01,819.411 1559.23,819.891 1561.45,820.427 1563.68,820.904 1565.9,821.436 1568.12,821.91 1570.34,822.325 1572.57,822.796 \n",
       "  1574.79,823.209 1577.01,823.565 1579.24,823.976 1581.46,824.441 1583.68,824.849 1585.91,825.2 1588.13,825.494 1590.35,825.732 1592.57,825.913 1594.8,826.039 \n",
       "  1597.02,826.22 1599.24,826.455 1601.47,826.744 1603.69,826.978 1605.91,827.265 1608.14,827.497 1610.36,827.674 1612.58,827.85 1614.8,828.079 1617.03,828.254 \n",
       "  1619.25,828.374 1621.47,828.439 1623.7,828.45 1625.92,828.407 1628.14,828.418 1630.37,828.483 1632.59,828.494 1634.81,828.505 1637.04,828.569 1639.26,828.58 \n",
       "  1641.48,828.59 1643.7,828.601 1645.93,828.665 1648.15,828.675 1650.37,828.739 1652.6,828.749 1654.82,828.812 1657.04,828.822 1659.27,828.78 1661.49,828.79 \n",
       "  1663.71,828.747 1665.93,828.757 1668.16,828.715 1670.38,828.62 1672.6,828.578 1674.83,828.484 1677.05,828.443 1679.27,828.349 1681.5,828.204 1683.72,828.007 \n",
       "  1685.94,827.759 1688.16,827.46 1690.39,827.11 1692.61,826.813 1694.83,826.568 1697.06,826.273 1699.28,826.029 1701.5,825.736 1703.73,825.494 1705.95,825.304 \n",
       "  1708.17,825.166 1710.39,825.079 1712.62,824.942 1714.84,824.754 1717.06,824.516 1719.29,824.329 1721.51,824.092 1723.73,823.907 1725.96,823.671 1728.18,823.487 \n",
       "  1730.4,823.353 1732.62,823.271 1734.85,823.238 1737.07,823.256 1739.29,823.224 1741.52,823.241 1743.74,823.309 1745.96,823.426 1748.19,823.493 1750.41,823.51 \n",
       "  1752.63,823.478 1754.85,823.396 1757.08,823.364 1759.3,823.282 1761.52,823.251 1763.75,823.17 1765.97,823.138 1768.19,823.057 1770.42,822.928 1772.64,822.75 \n",
       "  1774.86,822.523 1777.08,822.249 1779.31,822.024 1781.53,821.848 1783.75,821.721 1785.98,821.547 1788.2,821.324 1790.42,821.053 1792.65,820.735 1794.87,820.37 \n",
       "  1797.09,820.053 1799.31,819.786 1801.54,819.568 1803.76,819.398 1805.98,819.181 1808.21,819.012 1810.43,818.891 1812.65,818.819 1814.88,818.699 1817.1,818.532 \n",
       "  1819.32,818.317 1821.55,818.151 1823.77,818.033 1825.99,817.867 1828.21,817.655 1830.44,817.397 1832.66,817.186 1834.88,816.928 1837.11,816.718 1839.33,816.556 \n",
       "  1841.55,816.348 1843.78,816.093 1846,815.792 1848.22,815.445 1850.44,815.146 1852.67,814.801 1854.89,814.41 1857.11,813.974 1859.34,813.493 1861.56,812.967 \n",
       "  1863.78,812.489 1866.01,812.058 1868.23,811.582 1870.45,811.061 1872.67,810.588 1874.9,810.07 1877.12,809.599 1879.34,809.176 1881.57,808.799 1883.79,808.469 \n",
       "  1886.01,808.185 1888.24,807.857 1890.46,807.575 1892.68,807.339 1894.9,807.058 1897.13,806.824 1899.35,806.545 1901.57,806.221 1903.8,805.943 1906.02,805.622 \n",
       "  1908.24,805.255 1910.47,804.935 1912.69,804.661 1914.91,804.342 1917.13,803.98 1919.36,803.573 1921.58,803.123 1923.8,802.63 1926.03,802.182 1928.25,801.78 \n",
       "  1930.47,801.424 1932.7,801.113 1934.92,800.758 1937.14,800.449 1939.36,800.096 1941.59,799.788 1943.81,799.437 1946.03,799.043 1948.26,798.693 1950.48,798.301 \n",
       "  1952.7,797.954 1954.93,797.563 1957.15,797.13 1959.37,796.655 1961.59,796.224 1963.82,795.75 1966.04,795.235 1968.26,794.764 1970.49,794.251 1972.71,793.696 \n",
       "  1974.93,793.185 1977.16,792.633 1979.38,792.125 1981.6,791.661 1983.82,791.242 1986.05,790.867 1988.27,790.536 1990.49,790.163 1992.72,789.748 1994.94,789.376 \n",
       "  1997.16,789.049 1999.39,788.679 2001.61,788.353 2003.83,787.986 2006.06,787.576 2008.28,787.21 2010.5,786.888 2012.72,786.524 2014.95,786.118 2017.17,785.672 \n",
       "  2019.39,785.184 2021.62,784.655 2023.84,784.169 2026.06,783.727 2028.29,783.328 2030.51,782.888 2032.73,782.49 2034.95,782.052 2037.18,781.657 2039.4,781.305 \n",
       "  2041.62,780.995 2043.85,780.644 2046.07,780.253 2048.29,779.904 2050.52,779.597 2052.74,779.25 2054.96,778.945 2057.18,778.682 2059.41,778.461 2061.63,778.199 \n",
       "  2063.85,777.98 2066.08,777.801 2068.3,777.665 2070.52,777.57 2072.75,777.516 2074.97,777.421 2077.19,777.368 2079.41,777.355 2081.64,777.383 2083.86,777.452 \n",
       "  2086.08,777.48 2088.31,777.468 2090.53,777.496 2092.75,777.483 2094.98,777.511 2097.2,777.499 2099.42,777.446 2101.64,777.352 2103.87,777.3 2106.09,777.207 \n",
       "  2108.31,777.154 2110.54,777.142 2112.76,777.09 2114.98,777.078 2117.21,777.106 2119.43,777.174 2121.65,777.282 2123.87,777.43 2126.1,777.617 2128.32,777.843 \n",
       "  2130.54,778.109 2132.77,778.414 2134.99,778.679 2137.21,778.982 2139.44,779.325 2141.66,779.627 2143.88,779.889 2146.1,780.189 2148.33,780.529 2150.55,780.907 \n",
       "  2152.77,781.245 2155,781.543 2157.22,781.879 2159.44,782.254 2161.67,782.589 2163.89,782.962 2166.11,783.296 2168.33,783.667 2170.56,783.999 2172.78,784.369 \n",
       "  2175,784.777 2177.23,785.145 2179.45,785.473 2181.67,785.84 2183.9,786.244 2186.12,786.687 2188.34,787.089 2190.56,787.452 2192.79,787.853 2195.01,788.215 \n",
       "  2197.23,788.614 2199.46,789.05 2201.68,789.524 2203.9,789.959 2206.13,790.431 2208.35,790.94 2210.57,791.41 2212.8,791.916 2215.02,792.46 2217.24,793.041 \n",
       "  2219.46,793.658 2221.69,794.237 2223.91,794.851 2226.13,795.427 2228.36,796.039 2230.58,796.612 2232.8,797.146 2235.03,797.641 2237.25,798.097 2239.47,798.59 \n",
       "  2241.69,799.119 2243.92,799.685 2246.14,800.212 2248.36,800.7 2250.59,801.225 2252.81,801.786 2255.03,802.309 2257.26,802.792 2259.48,803.313 2261.7,803.794 \n",
       "  2263.92,804.312 2266.15,804.866 2268.37,805.382 2270.59,805.934 2272.82,806.521 2275.04,807.145 2277.26,807.803 2279.49,808.424 2281.71,809.08 2283.93,809.698 \n",
       "  2286.15,810.278 2288.38,810.819 2290.6,811.396 \n",
       "  \"/>\n",
       "<polyline clip-path=\"url(#clip362)\" style=\"stroke:#e26f46; stroke-width:4; stroke-opacity:1; fill:none\" points=\"\n",
       "  218.754,1006.71 220.977,989.58 223.2,972.447 225.423,963.88 227.646,958.74 229.869,949.602 232.092,947.97 234.315,946.746 236.538,945.795 238.761,948.46 \n",
       "  240.984,947.525 243.207,949.602 245.43,953.995 247.653,960.208 249.876,967.878 252.099,972.447 254.322,974.462 256.545,974.35 258.768,974.25 260.991,972.447 \n",
       "  263.214,972.447 265.437,970.889 267.66,970.957 269.883,969.591 272.106,966.964 274.329,963.221 276.552,961.024 278.775,958.985 280.998,955.904 283.221,951.886 \n",
       "  285.444,949.234 287.667,947.817 289.89,947.525 292.113,946.243 294.336,944.054 296.559,941.035 298.782,937.254 301.005,932.769 303.228,929.393 305.451,925.33 \n",
       "  307.674,920.629 309.897,915.335 312.12,909.491 314.343,903.913 316.566,899.344 318.789,894.974 321.012,891.519 323.235,888.921 325.458,886.43 327.681,884.724 \n",
       "  329.904,883.084 332.127,880.849 334.35,879.344 336.573,877.261 338.796,874.631 341.019,871.482 343.242,869.045 345.465,866.101 347.688,863.258 349.911,861.08 \n",
       "  352.134,859.535 354.357,857.487 356.58,854.961 358.803,853.048 361.026,851.722 363.249,850.955 365.472,850.723 367.695,849.993 369.918,849.781 372.141,849.086 \n",
       "  374.364,847.928 376.587,847.278 378.81,847.115 381.033,847.419 383.257,847.259 385.48,847.553 387.703,848.285 389.926,848.998 392.149,849.693 394.372,850.371 \n",
       "  396.595,850.609 398.818,850.423 401.041,850.655 403.264,851.289 405.487,851.505 407.71,852.114 409.933,853.104 412.156,854.46 414.379,855.401 416.602,855.94 \n",
       "  418.825,856.843 421.048,858.1 423.271,859.698 425.494,860.897 427.717,861.711 429.94,862.15 432.163,862.934 434.386,864.052 436.609,864.8 438.832,865.877 \n",
       "  441.055,867.271 443.278,868.302 445.501,868.981 447.724,869.976 449.947,870.952 452.17,871.909 454.393,872.849 456.616,873.454 458.839,874.362 461.062,875.565 \n",
       "  463.285,876.438 465.508,877.295 467.731,877.834 469.954,878.063 472.177,877.989 474.4,877.622 476.623,876.968 478.846,876.035 481.069,875.405 483.292,874.786 \n",
       "  485.515,873.894 487.738,872.736 489.961,871.875 492.184,871.304 494.407,870.469 496.63,869.374 498.853,868.567 501.076,868.04 503.299,867.256 505.522,866.22 \n",
       "  507.745,865.461 509.968,864.714 512.191,864.236 514.414,863.509 516.637,863.047 518.86,862.591 521.083,862.393 523.306,862.445 525.529,862.744 527.752,862.793 \n",
       "  529.975,862.598 532.198,862.648 534.421,862.937 536.644,863.459 538.867,863.975 541.09,864.717 543.313,865.683 545.536,866.636 547.759,867.346 549.982,867.819 \n",
       "  552.205,868.058 554.428,868.294 556.651,868.75 558.874,869.424 561.097,869.867 563.32,870.086 565.543,870.519 567.766,870.948 569.989,871.586 572.212,872.216 \n",
       "  574.436,872.626 576.659,873.242 578.882,873.641 581.105,874.243 583.328,874.838 585.551,875.22 587.774,875.392 589.997,875.765 592.22,876.337 594.443,876.903 \n",
       "  596.666,877.261 598.889,877.615 601.112,877.965 603.335,878.114 605.558,878.066 607.781,877.824 610.004,877.777 612.227,877.924 614.45,877.878 616.673,877.642 \n",
       "  618.896,877.598 621.119,877.366 623.342,877.324 625.565,877.468 627.788,877.796 630.011,877.937 632.234,877.892 634.457,877.848 636.68,877.986 638.903,877.942 \n",
       "  641.126,878.078 643.349,878.391 645.572,878.879 647.795,879.184 650.018,879.311 652.241,879.612 654.464,879.735 656.687,880.03 658.91,880.322 661.133,880.783 \n",
       "  663.356,881.409 665.579,881.86 667.802,882.138 670.025,882.244 672.248,882.183 674.471,882.288 676.694,882.227 678.917,882.332 681.14,882.271 683.363,882.211 \n",
       "  685.586,882.314 687.809,882.254 690.032,882.356 692.255,882.616 694.478,882.715 696.701,882.972 698.924,883.069 701.147,883.322 703.37,883.728 705.593,884.132 \n",
       "  707.816,884.376 710.039,884.619 712.262,885.013 714.485,885.25 716.708,885.637 718.931,886.173 721.154,886.855 723.377,887.531 725.6,888.052 727.823,888.716 \n",
       "  730.046,889.227 732.269,889.881 734.492,890.383 736.715,891.026 738.938,891.81 741.161,892.733 743.384,893.503 745.607,894.123 747.83,894.88 750.053,895.489 \n",
       "  752.276,895.951 754.499,896.55 756.722,897.285 758.945,897.874 761.168,898.318 763.391,898.62 765.615,899.057 767.838,899.63 770.061,900.335 772.284,900.898 \n",
       "  774.507,901.592 776.73,902.145 778.953,902.559 781.176,902.834 783.399,903.241 785.622,903.511 787.845,903.646 790.068,903.647 792.291,903.516 794.514,903.518 \n",
       "  796.737,903.65 798.96,903.913 801.183,904.304 803.406,904.562 805.629,904.689 807.852,904.686 810.075,904.555 812.298,904.552 814.521,904.423 816.744,904.167 \n",
       "  818.967,903.787 821.19,903.535 823.413,903.411 825.636,903.163 827.859,902.792 830.082,902.547 832.305,902.429 834.528,902.187 836.751,902.071 838.974,902.077 \n",
       "  841.197,902.206 843.42,902.212 845.643,902.339 847.866,902.586 850.089,902.711 852.312,902.955 854.535,903.077 856.758,903.318 858.981,903.439 861.204,903.677 \n",
       "  863.427,903.795 865.65,904.03 867.873,904.147 870.096,904.379 872.319,904.726 874.542,905.186 876.765,905.759 878.988,906.213 881.211,906.549 883.434,906.997 \n",
       "  885.657,907.328 887.88,907.544 890.103,907.645 892.326,907.633 894.549,907.733 896.772,907.72 898.995,907.82 901.218,907.807 903.441,907.683 905.664,907.671 \n",
       "  907.887,907.549 910.11,907.537 912.333,907.416 914.556,907.405 916.779,907.285 919.002,907.275 921.225,907.372 923.448,907.361 925.671,907.458 927.894,907.661 \n",
       "  930.117,907.97 932.34,908.17 934.563,908.263 936.786,908.461 939.009,908.763 941.232,908.958 943.455,909.048 945.678,909.032 947.901,909.121 950.124,909.105 \n",
       "  952.347,908.986 954.57,908.764 956.794,908.441 959.017,908.017 961.24,907.493 963.463,907.075 965.686,906.76 967.909,906.549 970.132,906.238 972.355,905.828 \n",
       "  974.578,905.32 976.801,904.915 979.024,904.413 981.247,903.813 983.47,903.118 985.693,902.328 987.916,901.444 990.139,900.467 992.362,899.593 994.585,898.626 \n",
       "  996.808,897.567 999.031,896.417 1001.25,895.371 1003.48,894.233 1005.7,893.199 1007.92,892.266 1010.15,891.435 1012.37,890.704 1014.59,889.882 1016.81,889.159 \n",
       "  1019.04,888.536 1021.26,888.01 1023.48,887.393 1025.71,886.685 1027.93,885.888 1030.15,885.188 1032.38,884.585 1034.6,883.893 1036.82,883.112 1039.04,882.242 \n",
       "  1041.27,881.284 1043.49,880.239 1045.71,879.292 1047.94,878.442 1050.16,877.505 1052.38,876.481 1054.61,875.373 1056.83,874.179 1059.05,872.901 1061.28,871.54 \n",
       "  1063.5,870.096 1065.72,868.57 1067.94,867.141 1070.17,865.809 1072.39,864.573 1074.61,863.255 1076.84,862.031 1079.06,860.726 1081.28,859.34 1083.51,857.873 \n",
       "  1085.73,856.325 1087.95,854.873 1090.17,853.516 1092.4,852.252 1094.62,850.908 1096.84,849.657 1099.07,848.327 1101.29,846.917 1103.51,845.428 1105.74,844.032 \n",
       "  1107.96,842.728 1110.18,841.517 1112.4,840.396 1114.63,839.196 1116.85,838.087 1119.07,836.899 1121.3,835.8 1123.52,834.792 1125.74,833.704 1127.97,832.538 \n",
       "  1130.19,831.294 1132.41,830.14 1134.63,828.908 1136.86,827.599 1139.08,826.379 1141.3,825.248 1143.53,824.039 1145.75,822.755 1147.97,821.558 1150.2,820.449 \n",
       "  1152.42,819.264 1154.64,818.165 1156.86,817.152 1159.09,816.226 1161.31,815.223 1163.53,814.144 1165.76,813.15 1167.98,812.241 1170.2,811.417 1172.43,810.676 \n",
       "  1174.65,809.858 1176.87,808.966 1179.09,808.156 1181.32,807.271 1183.54,806.312 1185.76,805.435 1187.99,804.485 1190.21,803.616 1192.43,802.674 1194.66,801.658 \n",
       "  1196.88,800.724 1199.1,799.872 1201.32,799.102 1203.55,798.257 1205.77,797.34 1207.99,796.503 1210.22,795.593 1212.44,794.764 1214.66,794.015 1216.89,793.346 \n",
       "  1219.11,792.603 1221.33,791.788 1223.55,790.901 1225.78,789.942 1228,789.063 1230.22,788.263 1232.45,787.391 1234.67,786.598 1236.89,785.883 1239.12,785.097 \n",
       "  1241.34,784.388 1243.56,783.757 1245.79,783.054 1248.01,782.281 1250.23,781.437 1252.45,780.523 1254.68,779.687 1256.9,778.781 1259.12,777.806 1261.35,776.907 \n",
       "  1263.57,775.94 1265.79,775.05 1268.02,774.235 1270.24,773.497 1272.46,772.834 1274.68,772.101 1276.91,771.3 1279.13,770.574 1281.35,769.922 1283.58,769.345 \n",
       "  1285.8,768.698 1288.02,768.126 1290.25,767.484 1292.47,766.775 1294.69,766.139 1296.91,765.577 1299.14,765.087 1301.36,764.529 1303.58,763.903 1305.81,763.21 \n",
       "  1308.03,762.589 1310.25,762.04 1312.48,761.424 1314.7,760.742 1316.92,760.131 1319.14,759.454 1321.37,758.848 1323.59,758.176 1325.81,757.575 1328.04,757.046 \n",
       "  1330.26,756.45 1332.48,755.788 1334.71,755.197 1336.93,754.54 1339.15,753.954 1341.37,753.437 1343.6,752.991 1345.82,752.478 1348.04,751.901 1350.27,751.258 \n",
       "  1352.49,750.551 1354.71,749.78 1356.94,749.078 1359.16,748.313 1361.38,747.617 1363.6,746.99 1365.83,746.432 1368.05,745.942 1370.27,745.388 1372.5,744.77 \n",
       "  1374.72,744.221 1376.94,743.608 1379.17,742.931 1381.39,742.192 1383.61,741.391 1385.83,740.527 1388.06,739.732 1390.28,739.004 1392.5,738.344 1394.73,737.622 \n",
       "  1396.95,736.967 1399.17,736.379 1401.4,735.729 1403.62,735.146 1405.84,734.629 1408.06,734.177 1410.29,733.664 1412.51,733.089 1414.73,732.452 1416.96,731.881 \n",
       "  1419.18,731.376 1421.4,730.809 1423.63,730.307 1425.85,729.871 1428.07,729.373 1430.29,728.814 1432.52,728.319 1434.74,727.889 1436.96,727.523 1439.19,727.097 \n",
       "  1441.41,726.733 1443.63,726.434 1445.86,726.197 1448.08,726.023 1450.3,725.788 1452.53,725.492 1454.75,725.135 1456.97,724.842 1459.19,724.488 1461.42,724.196 \n",
       "  1463.64,723.967 1465.86,723.799 1468.09,723.571 1470.31,723.405 1472.53,723.179 1474.76,722.893 1476.98,722.547 1479.2,722.263 1481.42,722.04 1483.65,721.758 \n",
       "  1485.87,721.537 1488.09,721.377 1490.32,721.277 1492.54,721.237 1494.76,721.256 1496.99,721.216 1499.21,721.236 1501.43,721.196 1503.65,721.216 1505.88,721.177 \n",
       "  1508.1,721.078 1510.32,720.921 1512.55,720.706 1514.77,720.551 1516.99,720.337 1519.22,720.065 1521.44,719.853 1523.66,719.584 1525.88,719.373 1528.11,719.105 \n",
       "  1530.33,718.78 1532.55,718.514 1534.78,718.191 1537,717.926 1539.22,717.606 1541.45,717.228 1543.67,716.91 1545.89,716.535 1548.11,716.104 1550.34,715.731 \n",
       "  1552.56,715.303 1554.78,714.82 1557.01,714.281 1559.23,713.801 1561.45,713.265 1563.68,712.788 1565.9,712.256 1568.12,711.782 1570.34,711.366 1572.57,710.896 \n",
       "  1574.79,710.482 1577.01,710.127 1579.24,709.716 1581.46,709.251 1583.68,708.843 1585.91,708.492 1588.13,708.198 1590.35,707.96 1592.57,707.779 1594.8,707.653 \n",
       "  1597.02,707.472 1599.24,707.237 1601.47,706.948 1603.69,706.714 1605.91,706.427 1608.14,706.195 1610.36,706.018 1612.58,705.842 1614.8,705.613 1617.03,705.438 \n",
       "  1619.25,705.318 1621.47,705.253 1623.7,705.242 1625.92,705.285 1628.14,705.274 1630.37,705.209 1632.59,705.198 1634.81,705.187 1637.04,705.123 1639.26,705.112 \n",
       "  1641.48,705.102 1643.7,705.091 1645.93,705.027 1648.15,705.017 1650.37,704.953 1652.6,704.943 1654.82,704.88 1657.04,704.87 1659.27,704.912 1661.49,704.902 \n",
       "  1663.71,704.945 1665.93,704.935 1668.16,704.977 1670.38,705.072 1672.6,705.114 1674.83,705.208 1677.05,705.249 1679.27,705.343 1681.5,705.488 1683.72,705.685 \n",
       "  1685.94,705.933 1688.16,706.232 1690.39,706.582 1692.61,706.879 1694.83,707.124 1697.06,707.419 1699.28,707.663 1701.5,707.956 1703.73,708.198 1705.95,708.388 \n",
       "  1708.17,708.526 1710.39,708.613 1712.62,708.75 1714.84,708.938 1717.06,709.176 1719.29,709.363 1721.51,709.6 1723.73,709.785 1725.96,710.021 1728.18,710.205 \n",
       "  1730.4,710.339 1732.62,710.421 1734.85,710.454 1737.07,710.436 1739.29,710.468 1741.52,710.451 1743.74,710.383 1745.96,710.266 1748.19,710.199 1750.41,710.182 \n",
       "  1752.63,710.214 1754.85,710.296 1757.08,710.328 1759.3,710.41 1761.52,710.441 1763.75,710.522 1765.97,710.554 1768.19,710.635 1770.42,710.764 1772.64,710.942 \n",
       "  1774.86,711.169 1777.08,711.443 1779.31,711.668 1781.53,711.844 1783.75,711.971 1785.98,712.145 1788.2,712.368 1790.42,712.639 1792.65,712.957 1794.87,713.322 \n",
       "  1797.09,713.639 1799.31,713.906 1801.54,714.124 1803.76,714.294 1805.98,714.511 1808.21,714.68 1810.43,714.801 1812.65,714.873 1814.88,714.993 1817.1,715.16 \n",
       "  1819.32,715.375 1821.55,715.541 1823.77,715.659 1825.99,715.824 1828.21,716.037 1830.44,716.295 1832.66,716.506 1834.88,716.764 1837.11,716.974 1839.33,717.136 \n",
       "  1841.55,717.344 1843.78,717.599 1846,717.9 1848.22,718.247 1850.44,718.546 1852.67,718.891 1854.89,719.282 1857.11,719.718 1859.34,720.199 1861.56,720.725 \n",
       "  1863.78,721.203 1866.01,721.634 1868.23,722.11 1870.45,722.631 1872.67,723.104 1874.9,723.622 1877.12,724.093 1879.34,724.516 1881.57,724.893 1883.79,725.223 \n",
       "  1886.01,725.507 1888.24,725.835 1890.46,726.117 1892.68,726.353 1894.9,726.634 1897.13,726.868 1899.35,727.147 1901.57,727.471 1903.8,727.748 1906.02,728.07 \n",
       "  1908.24,728.437 1910.47,728.757 1912.69,729.031 1914.91,729.35 1917.13,729.712 1919.36,730.119 1921.58,730.569 1923.8,731.062 1926.03,731.51 1928.25,731.912 \n",
       "  1930.47,732.268 1932.7,732.579 1934.92,732.934 1937.14,733.243 1939.36,733.596 1941.59,733.904 1943.81,734.255 1946.03,734.649 1948.26,734.999 1950.48,735.391 \n",
       "  1952.7,735.738 1954.93,736.129 1957.15,736.562 1959.37,737.037 1961.59,737.468 1963.82,737.942 1966.04,738.457 1968.26,738.928 1970.49,739.441 1972.71,739.996 \n",
       "  1974.93,740.507 1977.16,741.059 1979.38,741.567 1981.6,742.031 1983.82,742.45 1986.05,742.825 1988.27,743.156 1990.49,743.529 1992.72,743.944 1994.94,744.316 \n",
       "  1997.16,744.643 1999.39,745.013 2001.61,745.339 2003.83,745.706 2006.06,746.116 2008.28,746.481 2010.5,746.804 2012.72,747.168 2014.95,747.574 2017.17,748.02 \n",
       "  2019.39,748.508 2021.62,749.037 2023.84,749.523 2026.06,749.965 2028.29,750.364 2030.51,750.804 2032.73,751.202 2034.95,751.64 2037.18,752.035 2039.4,752.387 \n",
       "  2041.62,752.697 2043.85,753.048 2046.07,753.439 2048.29,753.788 2050.52,754.095 2052.74,754.442 2054.96,754.747 2057.18,755.01 2059.41,755.231 2061.63,755.493 \n",
       "  2063.85,755.712 2066.08,755.891 2068.3,756.027 2070.52,756.122 2072.75,756.176 2074.97,756.271 2077.19,756.324 2079.41,756.337 2081.64,756.309 2083.86,756.24 \n",
       "  2086.08,756.211 2088.31,756.224 2090.53,756.196 2092.75,756.209 2094.98,756.181 2097.2,756.193 2099.42,756.246 2101.64,756.34 2103.87,756.392 2106.09,756.485 \n",
       "  2108.31,756.538 2110.54,756.55 2112.76,756.602 2114.98,756.614 2117.21,756.586 2119.43,756.518 2121.65,756.41 2123.87,756.262 2126.1,756.075 2128.32,755.849 \n",
       "  2130.54,755.583 2132.77,755.278 2134.99,755.013 2137.21,754.71 2139.44,754.367 2141.66,754.065 2143.88,753.803 2146.1,753.502 2148.33,753.163 2150.55,752.785 \n",
       "  2152.77,752.447 2155,752.149 2157.22,751.813 2159.44,751.438 2161.67,751.103 2163.89,750.73 2166.11,750.396 2168.33,750.025 2170.56,749.693 2172.78,749.323 \n",
       "  2175,748.915 2177.23,748.547 2179.45,748.219 2181.67,747.852 2183.9,747.448 2186.12,747.005 2188.34,746.603 2190.56,746.24 2192.79,745.839 2195.01,745.477 \n",
       "  2197.23,745.078 2199.46,744.642 2201.68,744.168 2203.9,743.733 2206.13,743.261 2208.35,742.752 2210.57,742.282 2212.8,741.776 2215.02,741.232 2217.24,740.651 \n",
       "  2219.46,740.033 2221.69,739.455 2223.91,738.841 2226.13,738.265 2228.36,737.653 2230.58,737.08 2232.8,736.546 2235.03,736.051 2237.25,735.595 2239.47,735.102 \n",
       "  2241.69,734.573 2243.92,734.007 2246.14,733.48 2248.36,732.992 2250.59,732.467 2252.81,731.906 2255.03,731.383 2257.26,730.899 2259.48,730.379 2261.7,729.897 \n",
       "  2263.92,729.38 2266.15,728.825 2268.37,728.31 2270.59,727.758 2272.82,727.171 2275.04,726.547 2277.26,725.889 2279.49,725.268 2281.71,724.612 2283.93,723.994 \n",
       "  2286.15,723.414 2288.38,722.873 2290.6,722.296 \n",
       "  \"/>\n",
       "<path clip-path=\"url(#clip360)\" d=\"\n",
       "M1983.1 276.658 L2279.55 276.658 L2279.55 95.2176 L1983.1 95.2176  Z\n",
       "  \" fill=\"#ffffff\" fill-rule=\"evenodd\" fill-opacity=\"1\"/>\n",
       "<polyline clip-path=\"url(#clip360)\" style=\"stroke:#000000; stroke-width:4; stroke-opacity:1; fill:none\" points=\"\n",
       "  1983.1,276.658 2279.55,276.658 2279.55,95.2176 1983.1,95.2176 1983.1,276.658 \n",
       "  \"/>\n",
       "<polyline clip-path=\"url(#clip360)\" style=\"stroke:#009af9; stroke-width:4; stroke-opacity:1; fill:none\" points=\"\n",
       "  2007.5,155.698 2153.92,155.698 \n",
       "  \"/>\n",
       "<path clip-path=\"url(#clip360)\" d=\"M 0 0 M2192.16 175.385 Q2190.35 180.015 2188.64 181.427 Q2186.93 182.839 2184.06 182.839 L2180.65 182.839 L2180.65 179.274 L2183.15 179.274 Q2184.91 179.274 2185.89 178.44 Q2186.86 177.607 2188.04 174.505 L2188.8 172.561 L2178.32 147.052 L2182.83 147.052 L2190.93 167.329 L2199.03 147.052 L2203.55 147.052 L2192.16 175.385 Z\" fill=\"#000000\" fill-rule=\"evenodd\" fill-opacity=\"1\" /><path clip-path=\"url(#clip360)\" d=\"M 0 0 M2210.84 169.042 L2218.48 169.042 L2218.48 142.677 L2210.17 144.343 L2210.17 140.084 L2218.43 138.418 L2223.11 138.418 L2223.11 169.042 L2230.75 169.042 L2230.75 172.978 L2210.84 172.978 L2210.84 169.042 Z\" fill=\"#000000\" fill-rule=\"evenodd\" fill-opacity=\"1\" /><polyline clip-path=\"url(#clip360)\" style=\"stroke:#e26f46; stroke-width:4; stroke-opacity:1; fill:none\" points=\"\n",
       "  2007.5,216.178 2153.92,216.178 \n",
       "  \"/>\n",
       "<path clip-path=\"url(#clip360)\" d=\"M 0 0 M2192.16 235.865 Q2190.35 240.495 2188.64 241.907 Q2186.93 243.319 2184.06 243.319 L2180.65 243.319 L2180.65 239.754 L2183.15 239.754 Q2184.91 239.754 2185.89 238.92 Q2186.86 238.087 2188.04 234.985 L2188.8 233.041 L2178.32 207.532 L2182.83 207.532 L2190.93 227.809 L2199.03 207.532 L2203.55 207.532 L2192.16 235.865 Z\" fill=\"#000000\" fill-rule=\"evenodd\" fill-opacity=\"1\" /><path clip-path=\"url(#clip360)\" d=\"M 0 0 M2214.06 229.522 L2230.38 229.522 L2230.38 233.458 L2208.43 233.458 L2208.43 229.522 Q2211.09 226.768 2215.68 222.138 Q2220.28 217.485 2221.46 216.143 Q2223.71 213.62 2224.59 211.884 Q2225.49 210.124 2225.49 208.435 Q2225.49 205.68 2223.55 203.944 Q2221.63 202.208 2218.52 202.208 Q2216.33 202.208 2213.87 202.972 Q2211.44 203.735 2208.66 205.286 L2208.66 200.564 Q2211.49 199.43 2213.94 198.851 Q2216.4 198.273 2218.43 198.273 Q2223.8 198.273 2227 200.958 Q2230.19 203.643 2230.19 208.134 Q2230.19 210.263 2229.38 212.185 Q2228.59 214.083 2226.49 216.675 Q2225.91 217.347 2222.81 220.564 Q2219.71 223.759 2214.06 229.522 Z\" fill=\"#000000\" fill-rule=\"evenodd\" fill-opacity=\"1\" /></svg>\n"
      ]
     },
     "execution_count": 308,
     "metadata": {},
     "output_type": "execute_result"
    }
   ],
   "source": [
    "v=10\n",
    "\n",
    "MC_prova_Ne = MC(Q, 10, v, 10000)\n",
    "\n",
    "y=collect(1:MC_prova_Ne[3])\n",
    "\n",
    "plot(y,MC_prova_Ne[1],ylims=(0.0, 1.0))\n",
    "plot!(y,MC_prova_Ne[2],ylims=(0.0, 1.0))"
   ]
  },
  {
   "cell_type": "code",
   "execution_count": 283,
   "metadata": {},
   "outputs": [
    {
     "data": {
      "image/svg+xml": [
       "<?xml version=\"1.0\" encoding=\"utf-8\"?>\n",
       "<svg xmlns=\"http://www.w3.org/2000/svg\" xmlns:xlink=\"http://www.w3.org/1999/xlink\" width=\"600\" height=\"400\" viewBox=\"0 0 2400 1600\">\n",
       "<defs>\n",
       "  <clipPath id=\"clip120\">\n",
       "    <rect x=\"0\" y=\"0\" width=\"2400\" height=\"1600\"/>\n",
       "  </clipPath>\n",
       "</defs>\n",
       "<path clip-path=\"url(#clip120)\" d=\"\n",
       "M0 1600 L2400 1600 L2400 0 L0 0  Z\n",
       "  \" fill=\"#ffffff\" fill-rule=\"evenodd\" fill-opacity=\"1\"/>\n",
       "<defs>\n",
       "  <clipPath id=\"clip121\">\n",
       "    <rect x=\"480\" y=\"0\" width=\"1681\" height=\"1600\"/>\n",
       "  </clipPath>\n",
       "</defs>\n",
       "<path clip-path=\"url(#clip120)\" d=\"\n",
       "M156.598 1486.45 L2352.76 1486.45 L2352.76 47.2441 L156.598 47.2441  Z\n",
       "  \" fill=\"#ffffff\" fill-rule=\"evenodd\" fill-opacity=\"1\"/>\n",
       "<defs>\n",
       "  <clipPath id=\"clip122\">\n",
       "    <rect x=\"156\" y=\"47\" width=\"2197\" height=\"1440\"/>\n",
       "  </clipPath>\n",
       "</defs>\n",
       "<polyline clip-path=\"url(#clip122)\" style=\"stroke:#000000; stroke-width:2; stroke-opacity:0.1; fill:none\" points=\"\n",
       "  218.754,1486.45 218.754,47.2441 \n",
       "  \"/>\n",
       "<polyline clip-path=\"url(#clip122)\" style=\"stroke:#000000; stroke-width:2; stroke-opacity:0.1; fill:none\" points=\"\n",
       "  564.061,1486.45 564.061,47.2441 \n",
       "  \"/>\n",
       "<polyline clip-path=\"url(#clip122)\" style=\"stroke:#000000; stroke-width:2; stroke-opacity:0.1; fill:none\" points=\"\n",
       "  909.369,1486.45 909.369,47.2441 \n",
       "  \"/>\n",
       "<polyline clip-path=\"url(#clip122)\" style=\"stroke:#000000; stroke-width:2; stroke-opacity:0.1; fill:none\" points=\"\n",
       "  1254.68,1486.45 1254.68,47.2441 \n",
       "  \"/>\n",
       "<polyline clip-path=\"url(#clip122)\" style=\"stroke:#000000; stroke-width:2; stroke-opacity:0.1; fill:none\" points=\"\n",
       "  1599.98,1486.45 1599.98,47.2441 \n",
       "  \"/>\n",
       "<polyline clip-path=\"url(#clip122)\" style=\"stroke:#000000; stroke-width:2; stroke-opacity:0.1; fill:none\" points=\"\n",
       "  1945.29,1486.45 1945.29,47.2441 \n",
       "  \"/>\n",
       "<polyline clip-path=\"url(#clip122)\" style=\"stroke:#000000; stroke-width:2; stroke-opacity:0.1; fill:none\" points=\"\n",
       "  2290.6,1486.45 2290.6,47.2441 \n",
       "  \"/>\n",
       "<polyline clip-path=\"url(#clip120)\" style=\"stroke:#000000; stroke-width:4; stroke-opacity:1; fill:none\" points=\"\n",
       "  156.598,1486.45 2352.76,1486.45 \n",
       "  \"/>\n",
       "<polyline clip-path=\"url(#clip120)\" style=\"stroke:#000000; stroke-width:4; stroke-opacity:1; fill:none\" points=\"\n",
       "  218.754,1486.45 218.754,1469.18 \n",
       "  \"/>\n",
       "<polyline clip-path=\"url(#clip120)\" style=\"stroke:#000000; stroke-width:4; stroke-opacity:1; fill:none\" points=\"\n",
       "  564.061,1486.45 564.061,1469.18 \n",
       "  \"/>\n",
       "<polyline clip-path=\"url(#clip120)\" style=\"stroke:#000000; stroke-width:4; stroke-opacity:1; fill:none\" points=\"\n",
       "  909.369,1486.45 909.369,1469.18 \n",
       "  \"/>\n",
       "<polyline clip-path=\"url(#clip120)\" style=\"stroke:#000000; stroke-width:4; stroke-opacity:1; fill:none\" points=\"\n",
       "  1254.68,1486.45 1254.68,1469.18 \n",
       "  \"/>\n",
       "<polyline clip-path=\"url(#clip120)\" style=\"stroke:#000000; stroke-width:4; stroke-opacity:1; fill:none\" points=\"\n",
       "  1599.98,1486.45 1599.98,1469.18 \n",
       "  \"/>\n",
       "<polyline clip-path=\"url(#clip120)\" style=\"stroke:#000000; stroke-width:4; stroke-opacity:1; fill:none\" points=\"\n",
       "  1945.29,1486.45 1945.29,1469.18 \n",
       "  \"/>\n",
       "<polyline clip-path=\"url(#clip120)\" style=\"stroke:#000000; stroke-width:4; stroke-opacity:1; fill:none\" points=\"\n",
       "  2290.6,1486.45 2290.6,1469.18 \n",
       "  \"/>\n",
       "<path clip-path=\"url(#clip120)\" d=\"M 0 0 M213.406 1543.18 L229.726 1543.18 L229.726 1547.12 L207.781 1547.12 L207.781 1543.18 Q210.443 1540.43 215.027 1535.8 Q219.633 1531.15 220.814 1529.81 Q223.059 1527.28 223.939 1525.55 Q224.842 1523.79 224.842 1522.1 Q224.842 1519.34 222.897 1517.61 Q220.976 1515.87 217.874 1515.87 Q215.675 1515.87 213.221 1516.63 Q210.791 1517.4 208.013 1518.95 L208.013 1514.23 Q210.837 1513.09 213.291 1512.51 Q215.744 1511.93 217.781 1511.93 Q223.152 1511.93 226.346 1514.62 Q229.541 1517.31 229.541 1521.8 Q229.541 1523.93 228.73 1525.85 Q227.943 1527.74 225.837 1530.34 Q225.258 1531.01 222.156 1534.23 Q219.055 1537.42 213.406 1543.18 Z\" fill=\"#000000\" fill-rule=\"evenodd\" fill-opacity=\"1\" /><path clip-path=\"url(#clip120)\" d=\"M 0 0 M568.309 1528.49 Q571.666 1529.2 573.541 1531.47 Q575.439 1533.74 575.439 1537.07 Q575.439 1542.19 571.92 1544.99 Q568.402 1547.79 561.92 1547.79 Q559.744 1547.79 557.43 1547.35 Q555.138 1546.93 552.684 1546.08 L552.684 1541.56 Q554.629 1542.7 556.943 1543.28 Q559.258 1543.86 561.781 1543.86 Q566.179 1543.86 568.471 1542.12 Q570.786 1540.38 570.786 1537.07 Q570.786 1534.02 568.633 1532.31 Q566.504 1530.57 562.684 1530.57 L558.656 1530.57 L558.656 1526.73 L562.869 1526.73 Q566.318 1526.73 568.147 1525.36 Q569.976 1523.97 569.976 1521.38 Q569.976 1518.72 568.078 1517.31 Q566.203 1515.87 562.684 1515.87 Q560.763 1515.87 558.564 1516.29 Q556.365 1516.7 553.726 1517.58 L553.726 1513.42 Q556.388 1512.68 558.703 1512.31 Q561.041 1511.93 563.101 1511.93 Q568.425 1511.93 571.527 1514.37 Q574.629 1516.77 574.629 1520.89 Q574.629 1523.76 572.985 1525.75 Q571.342 1527.72 568.309 1528.49 Z\" fill=\"#000000\" fill-rule=\"evenodd\" fill-opacity=\"1\" /><path clip-path=\"url(#clip120)\" d=\"M 0 0 M912.379 1516.63 L900.573 1535.08 L912.379 1535.08 L912.379 1516.63 M911.152 1512.56 L917.031 1512.56 L917.031 1535.08 L921.962 1535.08 L921.962 1538.97 L917.031 1538.97 L917.031 1547.12 L912.379 1547.12 L912.379 1538.97 L896.777 1538.97 L896.777 1534.46 L911.152 1512.56 Z\" fill=\"#000000\" fill-rule=\"evenodd\" fill-opacity=\"1\" /><path clip-path=\"url(#clip120)\" d=\"M 0 0 M1244.95 1512.56 L1263.31 1512.56 L1263.31 1516.5 L1249.24 1516.5 L1249.24 1524.97 Q1250.26 1524.62 1251.27 1524.46 Q1252.29 1524.27 1253.31 1524.27 Q1259.1 1524.27 1262.48 1527.44 Q1265.86 1530.62 1265.86 1536.03 Q1265.86 1541.61 1262.39 1544.71 Q1258.91 1547.79 1252.59 1547.79 Q1250.42 1547.79 1248.15 1547.42 Q1245.9 1547.05 1243.5 1546.31 L1243.5 1541.61 Q1245.58 1542.74 1247.8 1543.3 Q1250.02 1543.86 1252.5 1543.86 Q1256.51 1543.86 1258.84 1541.75 Q1261.18 1539.64 1261.18 1536.03 Q1261.18 1532.42 1258.84 1530.31 Q1256.51 1528.21 1252.5 1528.21 Q1250.63 1528.21 1248.75 1528.62 Q1246.9 1529.04 1244.95 1529.92 L1244.95 1512.56 Z\" fill=\"#000000\" fill-rule=\"evenodd\" fill-opacity=\"1\" /><path clip-path=\"url(#clip120)\" d=\"M 0 0 M1600.39 1527.98 Q1597.24 1527.98 1595.39 1530.13 Q1593.56 1532.28 1593.56 1536.03 Q1593.56 1539.76 1595.39 1541.93 Q1597.24 1544.09 1600.39 1544.09 Q1603.54 1544.09 1605.37 1541.93 Q1607.22 1539.76 1607.22 1536.03 Q1607.22 1532.28 1605.37 1530.13 Q1603.54 1527.98 1600.39 1527.98 M1609.67 1513.32 L1609.67 1517.58 Q1607.91 1516.75 1606.11 1516.31 Q1604.33 1515.87 1602.57 1515.87 Q1597.94 1515.87 1595.48 1519 Q1593.05 1522.12 1592.7 1528.44 Q1594.07 1526.43 1596.13 1525.36 Q1598.19 1524.27 1600.67 1524.27 Q1605.88 1524.27 1608.89 1527.44 Q1611.92 1530.59 1611.92 1536.03 Q1611.92 1541.36 1608.77 1544.57 Q1605.62 1547.79 1600.39 1547.79 Q1594.39 1547.79 1591.22 1543.21 Q1588.05 1538.6 1588.05 1529.87 Q1588.05 1521.68 1591.94 1516.82 Q1595.83 1511.93 1602.38 1511.93 Q1604.14 1511.93 1605.92 1512.28 Q1607.73 1512.63 1609.67 1513.32 Z\" fill=\"#000000\" fill-rule=\"evenodd\" fill-opacity=\"1\" /><path clip-path=\"url(#clip120)\" d=\"M 0 0 M1934.18 1512.56 L1956.4 1512.56 L1956.4 1514.55 L1943.86 1547.12 L1938.97 1547.12 L1950.78 1516.5 L1934.18 1516.5 L1934.18 1512.56 Z\" fill=\"#000000\" fill-rule=\"evenodd\" fill-opacity=\"1\" /><path clip-path=\"url(#clip120)\" d=\"M 0 0 M2290.6 1530.71 Q2287.27 1530.71 2285.35 1532.49 Q2283.45 1534.27 2283.45 1537.4 Q2283.45 1540.52 2285.35 1542.31 Q2287.27 1544.09 2290.6 1544.09 Q2293.93 1544.09 2295.86 1542.31 Q2297.78 1540.5 2297.78 1537.4 Q2297.78 1534.27 2295.86 1532.49 Q2293.96 1530.71 2290.6 1530.71 M2285.92 1528.72 Q2282.92 1527.98 2281.23 1525.92 Q2279.56 1523.86 2279.56 1520.89 Q2279.56 1516.75 2282.5 1514.34 Q2285.46 1511.93 2290.6 1511.93 Q2295.76 1511.93 2298.7 1514.34 Q2301.64 1516.75 2301.64 1520.89 Q2301.64 1523.86 2299.95 1525.92 Q2298.29 1527.98 2295.3 1528.72 Q2298.68 1529.5 2300.55 1531.8 Q2302.45 1534.09 2302.45 1537.4 Q2302.45 1542.42 2299.37 1545.11 Q2296.32 1547.79 2290.6 1547.79 Q2284.88 1547.79 2281.8 1545.11 Q2278.75 1542.42 2278.75 1537.4 Q2278.75 1534.09 2280.65 1531.8 Q2282.54 1529.5 2285.92 1528.72 M2284.21 1521.33 Q2284.21 1524.02 2285.88 1525.52 Q2287.57 1527.03 2290.6 1527.03 Q2293.61 1527.03 2295.3 1525.52 Q2297.01 1524.02 2297.01 1521.33 Q2297.01 1518.65 2295.3 1517.14 Q2293.61 1515.64 2290.6 1515.64 Q2287.57 1515.64 2285.88 1517.14 Q2284.21 1518.65 2284.21 1521.33 Z\" fill=\"#000000\" fill-rule=\"evenodd\" fill-opacity=\"1\" /><polyline clip-path=\"url(#clip122)\" style=\"stroke:#000000; stroke-width:2; stroke-opacity:0.1; fill:none\" points=\"\n",
       "  156.598,1486.45 2352.76,1486.45 \n",
       "  \"/>\n",
       "<polyline clip-path=\"url(#clip122)\" style=\"stroke:#000000; stroke-width:2; stroke-opacity:0.1; fill:none\" points=\"\n",
       "  156.598,1198.61 2352.76,1198.61 \n",
       "  \"/>\n",
       "<polyline clip-path=\"url(#clip122)\" style=\"stroke:#000000; stroke-width:2; stroke-opacity:0.1; fill:none\" points=\"\n",
       "  156.598,910.766 2352.76,910.766 \n",
       "  \"/>\n",
       "<polyline clip-path=\"url(#clip122)\" style=\"stroke:#000000; stroke-width:2; stroke-opacity:0.1; fill:none\" points=\"\n",
       "  156.598,622.926 2352.76,622.926 \n",
       "  \"/>\n",
       "<polyline clip-path=\"url(#clip122)\" style=\"stroke:#000000; stroke-width:2; stroke-opacity:0.1; fill:none\" points=\"\n",
       "  156.598,335.085 2352.76,335.085 \n",
       "  \"/>\n",
       "<polyline clip-path=\"url(#clip122)\" style=\"stroke:#000000; stroke-width:2; stroke-opacity:0.1; fill:none\" points=\"\n",
       "  156.598,47.2441 2352.76,47.2441 \n",
       "  \"/>\n",
       "<polyline clip-path=\"url(#clip120)\" style=\"stroke:#000000; stroke-width:4; stroke-opacity:1; fill:none\" points=\"\n",
       "  156.598,1486.45 156.598,47.2441 \n",
       "  \"/>\n",
       "<polyline clip-path=\"url(#clip120)\" style=\"stroke:#000000; stroke-width:4; stroke-opacity:1; fill:none\" points=\"\n",
       "  156.598,1486.45 182.952,1486.45 \n",
       "  \"/>\n",
       "<polyline clip-path=\"url(#clip120)\" style=\"stroke:#000000; stroke-width:4; stroke-opacity:1; fill:none\" points=\"\n",
       "  156.598,1198.61 182.952,1198.61 \n",
       "  \"/>\n",
       "<polyline clip-path=\"url(#clip120)\" style=\"stroke:#000000; stroke-width:4; stroke-opacity:1; fill:none\" points=\"\n",
       "  156.598,910.766 182.952,910.766 \n",
       "  \"/>\n",
       "<polyline clip-path=\"url(#clip120)\" style=\"stroke:#000000; stroke-width:4; stroke-opacity:1; fill:none\" points=\"\n",
       "  156.598,622.926 182.952,622.926 \n",
       "  \"/>\n",
       "<polyline clip-path=\"url(#clip120)\" style=\"stroke:#000000; stroke-width:4; stroke-opacity:1; fill:none\" points=\"\n",
       "  156.598,335.085 182.952,335.085 \n",
       "  \"/>\n",
       "<polyline clip-path=\"url(#clip120)\" style=\"stroke:#000000; stroke-width:4; stroke-opacity:1; fill:none\" points=\"\n",
       "  156.598,47.2441 182.952,47.2441 \n",
       "  \"/>\n",
       "<path clip-path=\"url(#clip120)\" d=\"M 0 0 M63.4226 1472.25 Q59.8115 1472.25 57.9828 1475.81 Q56.1773 1479.35 56.1773 1486.48 Q56.1773 1493.59 57.9828 1497.15 Q59.8115 1500.7 63.4226 1500.7 Q67.0569 1500.7 68.8624 1497.15 Q70.6911 1493.59 70.6911 1486.48 Q70.6911 1479.35 68.8624 1475.81 Q67.0569 1472.25 63.4226 1472.25 M63.4226 1468.54 Q69.2328 1468.54 72.2883 1473.15 Q75.367 1477.73 75.367 1486.48 Q75.367 1495.21 72.2883 1499.82 Q69.2328 1504.4 63.4226 1504.4 Q57.6125 1504.4 54.5338 1499.82 Q51.4782 1495.21 51.4782 1486.48 Q51.4782 1477.73 54.5338 1473.15 Q57.6125 1468.54 63.4226 1468.54 Z\" fill=\"#000000\" fill-rule=\"evenodd\" fill-opacity=\"1\" /><path clip-path=\"url(#clip120)\" d=\"M 0 0 M83.5845 1497.85 L88.4688 1497.85 L88.4688 1503.73 L83.5845 1503.73 L83.5845 1497.85 Z\" fill=\"#000000\" fill-rule=\"evenodd\" fill-opacity=\"1\" /><path clip-path=\"url(#clip120)\" d=\"M 0 0 M108.654 1472.25 Q105.043 1472.25 103.214 1475.81 Q101.409 1479.35 101.409 1486.48 Q101.409 1493.59 103.214 1497.15 Q105.043 1500.7 108.654 1500.7 Q112.288 1500.7 114.094 1497.15 Q115.922 1493.59 115.922 1486.48 Q115.922 1479.35 114.094 1475.81 Q112.288 1472.25 108.654 1472.25 M108.654 1468.54 Q114.464 1468.54 117.52 1473.15 Q120.598 1477.73 120.598 1486.48 Q120.598 1495.21 117.52 1499.82 Q114.464 1504.4 108.654 1504.4 Q102.844 1504.4 99.765 1499.82 Q96.7095 1495.21 96.7095 1486.48 Q96.7095 1477.73 99.765 1473.15 Q102.844 1468.54 108.654 1468.54 Z\" fill=\"#000000\" fill-rule=\"evenodd\" fill-opacity=\"1\" /><path clip-path=\"url(#clip120)\" d=\"M 0 0 M65.0198 1184.41 Q61.4087 1184.41 59.58 1187.97 Q57.7745 1191.51 57.7745 1198.64 Q57.7745 1205.75 59.58 1209.31 Q61.4087 1212.85 65.0198 1212.85 Q68.6541 1212.85 70.4596 1209.31 Q72.2883 1205.75 72.2883 1198.64 Q72.2883 1191.51 70.4596 1187.97 Q68.6541 1184.41 65.0198 1184.41 M65.0198 1180.7 Q70.83 1180.7 73.8855 1185.31 Q76.9642 1189.89 76.9642 1198.64 Q76.9642 1207.37 73.8855 1211.98 Q70.83 1216.56 65.0198 1216.56 Q59.2097 1216.56 56.131 1211.98 Q53.0754 1207.37 53.0754 1198.64 Q53.0754 1189.89 56.131 1185.31 Q59.2097 1180.7 65.0198 1180.7 Z\" fill=\"#000000\" fill-rule=\"evenodd\" fill-opacity=\"1\" /><path clip-path=\"url(#clip120)\" d=\"M 0 0 M85.1818 1210.01 L90.066 1210.01 L90.066 1215.89 L85.1818 1215.89 L85.1818 1210.01 Z\" fill=\"#000000\" fill-rule=\"evenodd\" fill-opacity=\"1\" /><path clip-path=\"url(#clip120)\" d=\"M 0 0 M104.279 1211.95 L120.598 1211.95 L120.598 1215.89 L98.6539 1215.89 L98.6539 1211.95 Q101.316 1209.2 105.899 1204.57 Q110.506 1199.91 111.686 1198.57 Q113.932 1196.05 114.811 1194.31 Q115.714 1192.55 115.714 1190.86 Q115.714 1188.11 113.77 1186.37 Q111.848 1184.64 108.746 1184.64 Q106.547 1184.64 104.094 1185.4 Q101.663 1186.17 98.8854 1187.72 L98.8854 1182.99 Q101.709 1181.86 104.163 1181.28 Q106.617 1180.7 108.654 1180.7 Q114.024 1180.7 117.219 1183.39 Q120.413 1186.07 120.413 1190.56 Q120.413 1192.69 119.603 1194.61 Q118.816 1196.51 116.709 1199.1 Q116.131 1199.78 113.029 1202.99 Q109.927 1206.19 104.279 1211.95 Z\" fill=\"#000000\" fill-rule=\"evenodd\" fill-opacity=\"1\" /><path clip-path=\"url(#clip120)\" d=\"M 0 0 M62.9365 896.565 Q59.3254 896.565 57.4967 900.13 Q55.6912 903.671 55.6912 910.801 Q55.6912 917.908 57.4967 921.472 Q59.3254 925.014 62.9365 925.014 Q66.5707 925.014 68.3763 921.472 Q70.205 917.908 70.205 910.801 Q70.205 903.671 68.3763 900.13 Q66.5707 896.565 62.9365 896.565 M62.9365 892.861 Q68.7467 892.861 71.8022 897.468 Q74.8809 902.051 74.8809 910.801 Q74.8809 919.528 71.8022 924.134 Q68.7467 928.718 62.9365 928.718 Q57.1264 928.718 54.0477 924.134 Q50.9921 919.528 50.9921 910.801 Q50.9921 902.051 54.0477 897.468 Q57.1264 892.861 62.9365 892.861 Z\" fill=\"#000000\" fill-rule=\"evenodd\" fill-opacity=\"1\" /><path clip-path=\"url(#clip120)\" d=\"M 0 0 M83.0984 922.167 L87.9827 922.167 L87.9827 928.046 L83.0984 928.046 L83.0984 922.167 Z\" fill=\"#000000\" fill-rule=\"evenodd\" fill-opacity=\"1\" /><path clip-path=\"url(#clip120)\" d=\"M 0 0 M111.015 897.56 L99.2095 916.009 L111.015 916.009 L111.015 897.56 M109.788 893.486 L115.668 893.486 L115.668 916.009 L120.598 916.009 L120.598 919.898 L115.668 919.898 L115.668 928.046 L111.015 928.046 L111.015 919.898 L95.4132 919.898 L95.4132 915.384 L109.788 893.486 Z\" fill=\"#000000\" fill-rule=\"evenodd\" fill-opacity=\"1\" /><path clip-path=\"url(#clip120)\" d=\"M 0 0 M63.2606 608.724 Q59.6495 608.724 57.8208 612.289 Q56.0152 615.831 56.0152 622.96 Q56.0152 630.067 57.8208 633.632 Q59.6495 637.173 63.2606 637.173 Q66.8948 637.173 68.7004 633.632 Q70.5291 630.067 70.5291 622.96 Q70.5291 615.831 68.7004 612.289 Q66.8948 608.724 63.2606 608.724 M63.2606 605.021 Q69.0707 605.021 72.1263 609.627 Q75.205 614.21 75.205 622.96 Q75.205 631.687 72.1263 636.294 Q69.0707 640.877 63.2606 640.877 Q57.4504 640.877 54.3717 636.294 Q51.3162 631.687 51.3162 622.96 Q51.3162 614.21 54.3717 609.627 Q57.4504 605.021 63.2606 605.021 Z\" fill=\"#000000\" fill-rule=\"evenodd\" fill-opacity=\"1\" /><path clip-path=\"url(#clip120)\" d=\"M 0 0 M83.4225 634.326 L88.3067 634.326 L88.3067 640.206 L83.4225 640.206 L83.4225 634.326 Z\" fill=\"#000000\" fill-rule=\"evenodd\" fill-opacity=\"1\" /><path clip-path=\"url(#clip120)\" d=\"M 0 0 M109.071 621.062 Q105.922 621.062 104.071 623.215 Q102.242 625.368 102.242 629.118 Q102.242 632.845 104.071 635.02 Q105.922 637.173 109.071 637.173 Q112.219 637.173 114.047 635.02 Q115.899 632.845 115.899 629.118 Q115.899 625.368 114.047 623.215 Q112.219 621.062 109.071 621.062 M118.353 606.409 L118.353 610.669 Q116.594 609.835 114.788 609.396 Q113.006 608.956 111.246 608.956 Q106.617 608.956 104.163 612.081 Q101.733 615.206 101.385 621.525 Q102.751 619.511 104.811 618.446 Q106.871 617.359 109.348 617.359 Q114.557 617.359 117.566 620.53 Q120.598 623.678 120.598 629.118 Q120.598 634.442 117.45 637.659 Q114.302 640.877 109.071 640.877 Q103.075 640.877 99.9039 636.294 Q96.7326 631.687 96.7326 622.96 Q96.7326 614.766 100.621 609.905 Q104.51 605.021 111.061 605.021 Q112.82 605.021 114.603 605.368 Q116.408 605.715 118.353 606.409 Z\" fill=\"#000000\" fill-rule=\"evenodd\" fill-opacity=\"1\" /><path clip-path=\"url(#clip120)\" d=\"M 0 0 M63.5152 320.884 Q59.9041 320.884 58.0754 324.448 Q56.2699 327.99 56.2699 335.12 Q56.2699 342.226 58.0754 345.791 Q59.9041 349.332 63.5152 349.332 Q67.1494 349.332 68.955 345.791 Q70.7837 342.226 70.7837 335.12 Q70.7837 327.99 68.955 324.448 Q67.1494 320.884 63.5152 320.884 M63.5152 317.18 Q69.3254 317.18 72.3809 321.786 Q75.4596 326.37 75.4596 335.12 Q75.4596 343.846 72.3809 348.453 Q69.3254 353.036 63.5152 353.036 Q57.7051 353.036 54.6264 348.453 Q51.5708 343.846 51.5708 335.12 Q51.5708 326.37 54.6264 321.786 Q57.7051 317.18 63.5152 317.18 Z\" fill=\"#000000\" fill-rule=\"evenodd\" fill-opacity=\"1\" /><path clip-path=\"url(#clip120)\" d=\"M 0 0 M83.6771 346.485 L88.5614 346.485 L88.5614 352.365 L83.6771 352.365 L83.6771 346.485 Z\" fill=\"#000000\" fill-rule=\"evenodd\" fill-opacity=\"1\" /><path clip-path=\"url(#clip120)\" d=\"M 0 0 M108.746 335.953 Q105.413 335.953 103.492 337.735 Q101.594 339.518 101.594 342.643 Q101.594 345.768 103.492 347.55 Q105.413 349.332 108.746 349.332 Q112.08 349.332 114.001 347.55 Q115.922 345.745 115.922 342.643 Q115.922 339.518 114.001 337.735 Q112.103 335.953 108.746 335.953 M104.071 333.962 Q101.061 333.221 99.3715 331.161 Q97.7048 329.101 97.7048 326.138 Q97.7048 321.995 100.645 319.587 Q103.608 317.18 108.746 317.18 Q113.908 317.18 116.848 319.587 Q119.788 321.995 119.788 326.138 Q119.788 329.101 118.098 331.161 Q116.432 333.221 113.445 333.962 Q116.825 334.749 118.7 337.041 Q120.598 339.333 120.598 342.643 Q120.598 347.666 117.52 350.351 Q114.464 353.036 108.746 353.036 Q103.029 353.036 99.9502 350.351 Q96.8947 347.666 96.8947 342.643 Q96.8947 339.333 98.7928 337.041 Q100.691 334.749 104.071 333.962 M102.358 326.578 Q102.358 329.263 104.024 330.768 Q105.714 332.272 108.746 332.272 Q111.756 332.272 113.445 330.768 Q115.158 329.263 115.158 326.578 Q115.158 323.893 113.445 322.388 Q111.756 320.884 108.746 320.884 Q105.714 320.884 104.024 322.388 Q102.358 323.893 102.358 326.578 Z\" fill=\"#000000\" fill-rule=\"evenodd\" fill-opacity=\"1\" /><path clip-path=\"url(#clip120)\" d=\"M 0 0 M54.2328 60.5889 L61.8717 60.5889 L61.8717 34.2233 L53.5616 35.89 L53.5616 31.6308 L61.8254 29.9641 L66.5013 29.9641 L66.5013 60.5889 L74.1402 60.5889 L74.1402 64.5241 L54.2328 64.5241 L54.2328 60.5889 Z\" fill=\"#000000\" fill-rule=\"evenodd\" fill-opacity=\"1\" /><path clip-path=\"url(#clip120)\" d=\"M 0 0 M83.5845 58.6445 L88.4688 58.6445 L88.4688 64.5241 L83.5845 64.5241 L83.5845 58.6445 Z\" fill=\"#000000\" fill-rule=\"evenodd\" fill-opacity=\"1\" /><path clip-path=\"url(#clip120)\" d=\"M 0 0 M108.654 33.0428 Q105.043 33.0428 103.214 36.6076 Q101.409 40.1492 101.409 47.2788 Q101.409 54.3853 103.214 57.9501 Q105.043 61.4917 108.654 61.4917 Q112.288 61.4917 114.094 57.9501 Q115.922 54.3853 115.922 47.2788 Q115.922 40.1492 114.094 36.6076 Q112.288 33.0428 108.654 33.0428 M108.654 29.3391 Q114.464 29.3391 117.52 33.9456 Q120.598 38.5289 120.598 47.2788 Q120.598 56.0056 117.52 60.6121 Q114.464 65.1954 108.654 65.1954 Q102.844 65.1954 99.765 60.6121 Q96.7095 56.0056 96.7095 47.2788 Q96.7095 38.5289 99.765 33.9456 Q102.844 29.3391 108.654 29.3391 Z\" fill=\"#000000\" fill-rule=\"evenodd\" fill-opacity=\"1\" /><polyline clip-path=\"url(#clip122)\" style=\"stroke:#009af9; stroke-width:4; stroke-opacity:1; fill:none\" points=\"\n",
       "  218.754,809.824 564.061,834.668 909.369,740.552 1254.68,825.981 1599.98,757.56 1945.29,860.511 2290.6,777.875 \n",
       "  \"/>\n",
       "<polyline clip-path=\"url(#clip122)\" style=\"stroke:#e26f46; stroke-width:4; stroke-opacity:1; fill:none\" points=\"\n",
       "  218.754,751.868 564.061,727.024 909.369,810.071 1254.68,719.043 1599.98,822.936 1945.29,697.51 2290.6,781.552 \n",
       "  \"/>\n",
       "<path clip-path=\"url(#clip120)\" d=\"\n",
       "M1983.1 276.658 L2279.55 276.658 L2279.55 95.2176 L1983.1 95.2176  Z\n",
       "  \" fill=\"#ffffff\" fill-rule=\"evenodd\" fill-opacity=\"1\"/>\n",
       "<polyline clip-path=\"url(#clip120)\" style=\"stroke:#000000; stroke-width:4; stroke-opacity:1; fill:none\" points=\"\n",
       "  1983.1,276.658 2279.55,276.658 2279.55,95.2176 1983.1,95.2176 1983.1,276.658 \n",
       "  \"/>\n",
       "<polyline clip-path=\"url(#clip120)\" style=\"stroke:#009af9; stroke-width:4; stroke-opacity:1; fill:none\" points=\"\n",
       "  2007.5,155.698 2153.92,155.698 \n",
       "  \"/>\n",
       "<path clip-path=\"url(#clip120)\" d=\"M 0 0 M2192.16 175.385 Q2190.35 180.015 2188.64 181.427 Q2186.93 182.839 2184.06 182.839 L2180.65 182.839 L2180.65 179.274 L2183.15 179.274 Q2184.91 179.274 2185.89 178.44 Q2186.86 177.607 2188.04 174.505 L2188.8 172.561 L2178.32 147.052 L2182.83 147.052 L2190.93 167.329 L2199.03 147.052 L2203.55 147.052 L2192.16 175.385 Z\" fill=\"#000000\" fill-rule=\"evenodd\" fill-opacity=\"1\" /><path clip-path=\"url(#clip120)\" d=\"M 0 0 M2210.84 169.042 L2218.48 169.042 L2218.48 142.677 L2210.17 144.343 L2210.17 140.084 L2218.43 138.418 L2223.11 138.418 L2223.11 169.042 L2230.75 169.042 L2230.75 172.978 L2210.84 172.978 L2210.84 169.042 Z\" fill=\"#000000\" fill-rule=\"evenodd\" fill-opacity=\"1\" /><polyline clip-path=\"url(#clip120)\" style=\"stroke:#e26f46; stroke-width:4; stroke-opacity:1; fill:none\" points=\"\n",
       "  2007.5,216.178 2153.92,216.178 \n",
       "  \"/>\n",
       "<path clip-path=\"url(#clip120)\" d=\"M 0 0 M2192.16 235.865 Q2190.35 240.495 2188.64 241.907 Q2186.93 243.319 2184.06 243.319 L2180.65 243.319 L2180.65 239.754 L2183.15 239.754 Q2184.91 239.754 2185.89 238.92 Q2186.86 238.087 2188.04 234.985 L2188.8 233.041 L2178.32 207.532 L2182.83 207.532 L2190.93 227.809 L2199.03 207.532 L2203.55 207.532 L2192.16 235.865 Z\" fill=\"#000000\" fill-rule=\"evenodd\" fill-opacity=\"1\" /><path clip-path=\"url(#clip120)\" d=\"M 0 0 M2214.06 229.522 L2230.38 229.522 L2230.38 233.458 L2208.43 233.458 L2208.43 229.522 Q2211.09 226.768 2215.68 222.138 Q2220.28 217.485 2221.46 216.143 Q2223.71 213.62 2224.59 211.884 Q2225.49 210.124 2225.49 208.435 Q2225.49 205.68 2223.55 203.944 Q2221.63 202.208 2218.52 202.208 Q2216.33 202.208 2213.87 202.972 Q2211.44 203.735 2208.66 205.286 L2208.66 200.564 Q2211.49 199.43 2213.94 198.851 Q2216.4 198.273 2218.43 198.273 Q2223.8 198.273 2227 200.958 Q2230.19 203.643 2230.19 208.134 Q2230.19 210.263 2229.38 212.185 Q2228.59 214.083 2226.49 216.675 Q2225.91 217.347 2222.81 220.564 Q2219.71 223.759 2214.06 229.522 Z\" fill=\"#000000\" fill-rule=\"evenodd\" fill-opacity=\"1\" /></svg>\n"
      ]
     },
     "execution_count": 283,
     "metadata": {},
     "output_type": "execute_result"
    }
   ],
   "source": [
    "using Plots\n",
    "\n",
    "yA = zeros(0)\n",
    "yB = zeros(0)\n",
    "\n",
    "for v = 2 : 8\n",
    "\n",
    "    MC_prova = MC_Ne(Q, 10, v, Ne, 1000)\n",
    "    \n",
    "    append!(yA, MC_prova[1])\n",
    "    append!(yB, MC_prova[2])\n",
    "end\n",
    "\n",
    "plot(2:8,yA,ylims=(0.0, 1.0))\n",
    "plot!(2:8,yB,ylims=(0.0, 1.0))\n"
   ]
  },
  {
   "cell_type": "code",
   "execution_count": 218,
   "metadata": {},
   "outputs": [
    {
     "data": {
      "image/svg+xml": [
       "<?xml version=\"1.0\" encoding=\"utf-8\"?>\n",
       "<svg xmlns=\"http://www.w3.org/2000/svg\" xmlns:xlink=\"http://www.w3.org/1999/xlink\" width=\"600\" height=\"400\" viewBox=\"0 0 2400 1600\">\n",
       "<defs>\n",
       "  <clipPath id=\"clip560\">\n",
       "    <rect x=\"0\" y=\"0\" width=\"2400\" height=\"1600\"/>\n",
       "  </clipPath>\n",
       "</defs>\n",
       "<path clip-path=\"url(#clip560)\" d=\"\n",
       "M0 1600 L2400 1600 L2400 0 L0 0  Z\n",
       "  \" fill=\"#ffffff\" fill-rule=\"evenodd\" fill-opacity=\"1\"/>\n",
       "<defs>\n",
       "  <clipPath id=\"clip561\">\n",
       "    <rect x=\"480\" y=\"0\" width=\"1681\" height=\"1600\"/>\n",
       "  </clipPath>\n",
       "</defs>\n",
       "<path clip-path=\"url(#clip560)\" d=\"\n",
       "M156.598 1486.45 L2352.76 1486.45 L2352.76 47.2441 L156.598 47.2441  Z\n",
       "  \" fill=\"#ffffff\" fill-rule=\"evenodd\" fill-opacity=\"1\"/>\n",
       "<defs>\n",
       "  <clipPath id=\"clip562\">\n",
       "    <rect x=\"156\" y=\"47\" width=\"2197\" height=\"1440\"/>\n",
       "  </clipPath>\n",
       "</defs>\n",
       "<polyline clip-path=\"url(#clip562)\" style=\"stroke:#000000; stroke-width:2; stroke-opacity:0.1; fill:none\" points=\"\n",
       "  218.754,1486.45 218.754,47.2441 \n",
       "  \"/>\n",
       "<polyline clip-path=\"url(#clip562)\" style=\"stroke:#000000; stroke-width:2; stroke-opacity:0.1; fill:none\" points=\"\n",
       "  564.061,1486.45 564.061,47.2441 \n",
       "  \"/>\n",
       "<polyline clip-path=\"url(#clip562)\" style=\"stroke:#000000; stroke-width:2; stroke-opacity:0.1; fill:none\" points=\"\n",
       "  909.369,1486.45 909.369,47.2441 \n",
       "  \"/>\n",
       "<polyline clip-path=\"url(#clip562)\" style=\"stroke:#000000; stroke-width:2; stroke-opacity:0.1; fill:none\" points=\"\n",
       "  1254.68,1486.45 1254.68,47.2441 \n",
       "  \"/>\n",
       "<polyline clip-path=\"url(#clip562)\" style=\"stroke:#000000; stroke-width:2; stroke-opacity:0.1; fill:none\" points=\"\n",
       "  1599.98,1486.45 1599.98,47.2441 \n",
       "  \"/>\n",
       "<polyline clip-path=\"url(#clip562)\" style=\"stroke:#000000; stroke-width:2; stroke-opacity:0.1; fill:none\" points=\"\n",
       "  1945.29,1486.45 1945.29,47.2441 \n",
       "  \"/>\n",
       "<polyline clip-path=\"url(#clip562)\" style=\"stroke:#000000; stroke-width:2; stroke-opacity:0.1; fill:none\" points=\"\n",
       "  2290.6,1486.45 2290.6,47.2441 \n",
       "  \"/>\n",
       "<polyline clip-path=\"url(#clip560)\" style=\"stroke:#000000; stroke-width:4; stroke-opacity:1; fill:none\" points=\"\n",
       "  156.598,1486.45 2352.76,1486.45 \n",
       "  \"/>\n",
       "<polyline clip-path=\"url(#clip560)\" style=\"stroke:#000000; stroke-width:4; stroke-opacity:1; fill:none\" points=\"\n",
       "  218.754,1486.45 218.754,1469.18 \n",
       "  \"/>\n",
       "<polyline clip-path=\"url(#clip560)\" style=\"stroke:#000000; stroke-width:4; stroke-opacity:1; fill:none\" points=\"\n",
       "  564.061,1486.45 564.061,1469.18 \n",
       "  \"/>\n",
       "<polyline clip-path=\"url(#clip560)\" style=\"stroke:#000000; stroke-width:4; stroke-opacity:1; fill:none\" points=\"\n",
       "  909.369,1486.45 909.369,1469.18 \n",
       "  \"/>\n",
       "<polyline clip-path=\"url(#clip560)\" style=\"stroke:#000000; stroke-width:4; stroke-opacity:1; fill:none\" points=\"\n",
       "  1254.68,1486.45 1254.68,1469.18 \n",
       "  \"/>\n",
       "<polyline clip-path=\"url(#clip560)\" style=\"stroke:#000000; stroke-width:4; stroke-opacity:1; fill:none\" points=\"\n",
       "  1599.98,1486.45 1599.98,1469.18 \n",
       "  \"/>\n",
       "<polyline clip-path=\"url(#clip560)\" style=\"stroke:#000000; stroke-width:4; stroke-opacity:1; fill:none\" points=\"\n",
       "  1945.29,1486.45 1945.29,1469.18 \n",
       "  \"/>\n",
       "<polyline clip-path=\"url(#clip560)\" style=\"stroke:#000000; stroke-width:4; stroke-opacity:1; fill:none\" points=\"\n",
       "  2290.6,1486.45 2290.6,1469.18 \n",
       "  \"/>\n",
       "<path clip-path=\"url(#clip560)\" d=\"M 0 0 M213.406 1543.18 L229.726 1543.18 L229.726 1547.12 L207.781 1547.12 L207.781 1543.18 Q210.443 1540.43 215.027 1535.8 Q219.633 1531.15 220.814 1529.81 Q223.059 1527.28 223.939 1525.55 Q224.842 1523.79 224.842 1522.1 Q224.842 1519.34 222.897 1517.61 Q220.976 1515.87 217.874 1515.87 Q215.675 1515.87 213.221 1516.63 Q210.791 1517.4 208.013 1518.95 L208.013 1514.23 Q210.837 1513.09 213.291 1512.51 Q215.744 1511.93 217.781 1511.93 Q223.152 1511.93 226.346 1514.62 Q229.541 1517.31 229.541 1521.8 Q229.541 1523.93 228.73 1525.85 Q227.943 1527.74 225.837 1530.34 Q225.258 1531.01 222.156 1534.23 Q219.055 1537.42 213.406 1543.18 Z\" fill=\"#000000\" fill-rule=\"evenodd\" fill-opacity=\"1\" /><path clip-path=\"url(#clip560)\" d=\"M 0 0 M568.309 1528.49 Q571.666 1529.2 573.541 1531.47 Q575.439 1533.74 575.439 1537.07 Q575.439 1542.19 571.92 1544.99 Q568.402 1547.79 561.92 1547.79 Q559.744 1547.79 557.43 1547.35 Q555.138 1546.93 552.684 1546.08 L552.684 1541.56 Q554.629 1542.7 556.943 1543.28 Q559.258 1543.86 561.781 1543.86 Q566.179 1543.86 568.471 1542.12 Q570.786 1540.38 570.786 1537.07 Q570.786 1534.02 568.633 1532.31 Q566.504 1530.57 562.684 1530.57 L558.656 1530.57 L558.656 1526.73 L562.869 1526.73 Q566.318 1526.73 568.147 1525.36 Q569.976 1523.97 569.976 1521.38 Q569.976 1518.72 568.078 1517.31 Q566.203 1515.87 562.684 1515.87 Q560.763 1515.87 558.564 1516.29 Q556.365 1516.7 553.726 1517.58 L553.726 1513.42 Q556.388 1512.68 558.703 1512.31 Q561.041 1511.93 563.101 1511.93 Q568.425 1511.93 571.527 1514.37 Q574.629 1516.77 574.629 1520.89 Q574.629 1523.76 572.985 1525.75 Q571.342 1527.72 568.309 1528.49 Z\" fill=\"#000000\" fill-rule=\"evenodd\" fill-opacity=\"1\" /><path clip-path=\"url(#clip560)\" d=\"M 0 0 M912.379 1516.63 L900.573 1535.08 L912.379 1535.08 L912.379 1516.63 M911.152 1512.56 L917.031 1512.56 L917.031 1535.08 L921.962 1535.08 L921.962 1538.97 L917.031 1538.97 L917.031 1547.12 L912.379 1547.12 L912.379 1538.97 L896.777 1538.97 L896.777 1534.46 L911.152 1512.56 Z\" fill=\"#000000\" fill-rule=\"evenodd\" fill-opacity=\"1\" /><path clip-path=\"url(#clip560)\" d=\"M 0 0 M1244.95 1512.56 L1263.31 1512.56 L1263.31 1516.5 L1249.24 1516.5 L1249.24 1524.97 Q1250.26 1524.62 1251.27 1524.46 Q1252.29 1524.27 1253.31 1524.27 Q1259.1 1524.27 1262.48 1527.44 Q1265.86 1530.62 1265.86 1536.03 Q1265.86 1541.61 1262.39 1544.71 Q1258.91 1547.79 1252.59 1547.79 Q1250.42 1547.79 1248.15 1547.42 Q1245.9 1547.05 1243.5 1546.31 L1243.5 1541.61 Q1245.58 1542.74 1247.8 1543.3 Q1250.02 1543.86 1252.5 1543.86 Q1256.51 1543.86 1258.84 1541.75 Q1261.18 1539.64 1261.18 1536.03 Q1261.18 1532.42 1258.84 1530.31 Q1256.51 1528.21 1252.5 1528.21 Q1250.63 1528.21 1248.75 1528.62 Q1246.9 1529.04 1244.95 1529.92 L1244.95 1512.56 Z\" fill=\"#000000\" fill-rule=\"evenodd\" fill-opacity=\"1\" /><path clip-path=\"url(#clip560)\" d=\"M 0 0 M1600.39 1527.98 Q1597.24 1527.98 1595.39 1530.13 Q1593.56 1532.28 1593.56 1536.03 Q1593.56 1539.76 1595.39 1541.93 Q1597.24 1544.09 1600.39 1544.09 Q1603.54 1544.09 1605.37 1541.93 Q1607.22 1539.76 1607.22 1536.03 Q1607.22 1532.28 1605.37 1530.13 Q1603.54 1527.98 1600.39 1527.98 M1609.67 1513.32 L1609.67 1517.58 Q1607.91 1516.75 1606.11 1516.31 Q1604.33 1515.87 1602.57 1515.87 Q1597.94 1515.87 1595.48 1519 Q1593.05 1522.12 1592.7 1528.44 Q1594.07 1526.43 1596.13 1525.36 Q1598.19 1524.27 1600.67 1524.27 Q1605.88 1524.27 1608.89 1527.44 Q1611.92 1530.59 1611.92 1536.03 Q1611.92 1541.36 1608.77 1544.57 Q1605.62 1547.79 1600.39 1547.79 Q1594.39 1547.79 1591.22 1543.21 Q1588.05 1538.6 1588.05 1529.87 Q1588.05 1521.68 1591.94 1516.82 Q1595.83 1511.93 1602.38 1511.93 Q1604.14 1511.93 1605.92 1512.28 Q1607.73 1512.63 1609.67 1513.32 Z\" fill=\"#000000\" fill-rule=\"evenodd\" fill-opacity=\"1\" /><path clip-path=\"url(#clip560)\" d=\"M 0 0 M1934.18 1512.56 L1956.4 1512.56 L1956.4 1514.55 L1943.86 1547.12 L1938.97 1547.12 L1950.78 1516.5 L1934.18 1516.5 L1934.18 1512.56 Z\" fill=\"#000000\" fill-rule=\"evenodd\" fill-opacity=\"1\" /><path clip-path=\"url(#clip560)\" d=\"M 0 0 M2290.6 1530.71 Q2287.27 1530.71 2285.35 1532.49 Q2283.45 1534.27 2283.45 1537.4 Q2283.45 1540.52 2285.35 1542.31 Q2287.27 1544.09 2290.6 1544.09 Q2293.93 1544.09 2295.86 1542.31 Q2297.78 1540.5 2297.78 1537.4 Q2297.78 1534.27 2295.86 1532.49 Q2293.96 1530.71 2290.6 1530.71 M2285.92 1528.72 Q2282.92 1527.98 2281.23 1525.92 Q2279.56 1523.86 2279.56 1520.89 Q2279.56 1516.75 2282.5 1514.34 Q2285.46 1511.93 2290.6 1511.93 Q2295.76 1511.93 2298.7 1514.34 Q2301.64 1516.75 2301.64 1520.89 Q2301.64 1523.86 2299.95 1525.92 Q2298.29 1527.98 2295.3 1528.72 Q2298.68 1529.5 2300.55 1531.8 Q2302.45 1534.09 2302.45 1537.4 Q2302.45 1542.42 2299.37 1545.11 Q2296.32 1547.79 2290.6 1547.79 Q2284.88 1547.79 2281.8 1545.11 Q2278.75 1542.42 2278.75 1537.4 Q2278.75 1534.09 2280.65 1531.8 Q2282.54 1529.5 2285.92 1528.72 M2284.21 1521.33 Q2284.21 1524.02 2285.88 1525.52 Q2287.57 1527.03 2290.6 1527.03 Q2293.61 1527.03 2295.3 1525.52 Q2297.01 1524.02 2297.01 1521.33 Q2297.01 1518.65 2295.3 1517.14 Q2293.61 1515.64 2290.6 1515.64 Q2287.57 1515.64 2285.88 1517.14 Q2284.21 1518.65 2284.21 1521.33 Z\" fill=\"#000000\" fill-rule=\"evenodd\" fill-opacity=\"1\" /><polyline clip-path=\"url(#clip562)\" style=\"stroke:#000000; stroke-width:2; stroke-opacity:0.1; fill:none\" points=\"\n",
       "  156.598,1486.45 2352.76,1486.45 \n",
       "  \"/>\n",
       "<polyline clip-path=\"url(#clip562)\" style=\"stroke:#000000; stroke-width:2; stroke-opacity:0.1; fill:none\" points=\"\n",
       "  156.598,1198.61 2352.76,1198.61 \n",
       "  \"/>\n",
       "<polyline clip-path=\"url(#clip562)\" style=\"stroke:#000000; stroke-width:2; stroke-opacity:0.1; fill:none\" points=\"\n",
       "  156.598,910.766 2352.76,910.766 \n",
       "  \"/>\n",
       "<polyline clip-path=\"url(#clip562)\" style=\"stroke:#000000; stroke-width:2; stroke-opacity:0.1; fill:none\" points=\"\n",
       "  156.598,622.926 2352.76,622.926 \n",
       "  \"/>\n",
       "<polyline clip-path=\"url(#clip562)\" style=\"stroke:#000000; stroke-width:2; stroke-opacity:0.1; fill:none\" points=\"\n",
       "  156.598,335.085 2352.76,335.085 \n",
       "  \"/>\n",
       "<polyline clip-path=\"url(#clip562)\" style=\"stroke:#000000; stroke-width:2; stroke-opacity:0.1; fill:none\" points=\"\n",
       "  156.598,47.2441 2352.76,47.2441 \n",
       "  \"/>\n",
       "<polyline clip-path=\"url(#clip560)\" style=\"stroke:#000000; stroke-width:4; stroke-opacity:1; fill:none\" points=\"\n",
       "  156.598,1486.45 156.598,47.2441 \n",
       "  \"/>\n",
       "<polyline clip-path=\"url(#clip560)\" style=\"stroke:#000000; stroke-width:4; stroke-opacity:1; fill:none\" points=\"\n",
       "  156.598,1486.45 182.952,1486.45 \n",
       "  \"/>\n",
       "<polyline clip-path=\"url(#clip560)\" style=\"stroke:#000000; stroke-width:4; stroke-opacity:1; fill:none\" points=\"\n",
       "  156.598,1198.61 182.952,1198.61 \n",
       "  \"/>\n",
       "<polyline clip-path=\"url(#clip560)\" style=\"stroke:#000000; stroke-width:4; stroke-opacity:1; fill:none\" points=\"\n",
       "  156.598,910.766 182.952,910.766 \n",
       "  \"/>\n",
       "<polyline clip-path=\"url(#clip560)\" style=\"stroke:#000000; stroke-width:4; stroke-opacity:1; fill:none\" points=\"\n",
       "  156.598,622.926 182.952,622.926 \n",
       "  \"/>\n",
       "<polyline clip-path=\"url(#clip560)\" style=\"stroke:#000000; stroke-width:4; stroke-opacity:1; fill:none\" points=\"\n",
       "  156.598,335.085 182.952,335.085 \n",
       "  \"/>\n",
       "<polyline clip-path=\"url(#clip560)\" style=\"stroke:#000000; stroke-width:4; stroke-opacity:1; fill:none\" points=\"\n",
       "  156.598,47.2441 182.952,47.2441 \n",
       "  \"/>\n",
       "<path clip-path=\"url(#clip560)\" d=\"M 0 0 M63.4226 1472.25 Q59.8115 1472.25 57.9828 1475.81 Q56.1773 1479.35 56.1773 1486.48 Q56.1773 1493.59 57.9828 1497.15 Q59.8115 1500.7 63.4226 1500.7 Q67.0569 1500.7 68.8624 1497.15 Q70.6911 1493.59 70.6911 1486.48 Q70.6911 1479.35 68.8624 1475.81 Q67.0569 1472.25 63.4226 1472.25 M63.4226 1468.54 Q69.2328 1468.54 72.2883 1473.15 Q75.367 1477.73 75.367 1486.48 Q75.367 1495.21 72.2883 1499.82 Q69.2328 1504.4 63.4226 1504.4 Q57.6125 1504.4 54.5338 1499.82 Q51.4782 1495.21 51.4782 1486.48 Q51.4782 1477.73 54.5338 1473.15 Q57.6125 1468.54 63.4226 1468.54 Z\" fill=\"#000000\" fill-rule=\"evenodd\" fill-opacity=\"1\" /><path clip-path=\"url(#clip560)\" d=\"M 0 0 M83.5845 1497.85 L88.4688 1497.85 L88.4688 1503.73 L83.5845 1503.73 L83.5845 1497.85 Z\" fill=\"#000000\" fill-rule=\"evenodd\" fill-opacity=\"1\" /><path clip-path=\"url(#clip560)\" d=\"M 0 0 M108.654 1472.25 Q105.043 1472.25 103.214 1475.81 Q101.409 1479.35 101.409 1486.48 Q101.409 1493.59 103.214 1497.15 Q105.043 1500.7 108.654 1500.7 Q112.288 1500.7 114.094 1497.15 Q115.922 1493.59 115.922 1486.48 Q115.922 1479.35 114.094 1475.81 Q112.288 1472.25 108.654 1472.25 M108.654 1468.54 Q114.464 1468.54 117.52 1473.15 Q120.598 1477.73 120.598 1486.48 Q120.598 1495.21 117.52 1499.82 Q114.464 1504.4 108.654 1504.4 Q102.844 1504.4 99.765 1499.82 Q96.7095 1495.21 96.7095 1486.48 Q96.7095 1477.73 99.765 1473.15 Q102.844 1468.54 108.654 1468.54 Z\" fill=\"#000000\" fill-rule=\"evenodd\" fill-opacity=\"1\" /><path clip-path=\"url(#clip560)\" d=\"M 0 0 M65.0198 1184.41 Q61.4087 1184.41 59.58 1187.97 Q57.7745 1191.51 57.7745 1198.64 Q57.7745 1205.75 59.58 1209.31 Q61.4087 1212.85 65.0198 1212.85 Q68.6541 1212.85 70.4596 1209.31 Q72.2883 1205.75 72.2883 1198.64 Q72.2883 1191.51 70.4596 1187.97 Q68.6541 1184.41 65.0198 1184.41 M65.0198 1180.7 Q70.83 1180.7 73.8855 1185.31 Q76.9642 1189.89 76.9642 1198.64 Q76.9642 1207.37 73.8855 1211.98 Q70.83 1216.56 65.0198 1216.56 Q59.2097 1216.56 56.131 1211.98 Q53.0754 1207.37 53.0754 1198.64 Q53.0754 1189.89 56.131 1185.31 Q59.2097 1180.7 65.0198 1180.7 Z\" fill=\"#000000\" fill-rule=\"evenodd\" fill-opacity=\"1\" /><path clip-path=\"url(#clip560)\" d=\"M 0 0 M85.1818 1210.01 L90.066 1210.01 L90.066 1215.89 L85.1818 1215.89 L85.1818 1210.01 Z\" fill=\"#000000\" fill-rule=\"evenodd\" fill-opacity=\"1\" /><path clip-path=\"url(#clip560)\" d=\"M 0 0 M104.279 1211.95 L120.598 1211.95 L120.598 1215.89 L98.6539 1215.89 L98.6539 1211.95 Q101.316 1209.2 105.899 1204.57 Q110.506 1199.91 111.686 1198.57 Q113.932 1196.05 114.811 1194.31 Q115.714 1192.55 115.714 1190.86 Q115.714 1188.11 113.77 1186.37 Q111.848 1184.64 108.746 1184.64 Q106.547 1184.64 104.094 1185.4 Q101.663 1186.17 98.8854 1187.72 L98.8854 1182.99 Q101.709 1181.86 104.163 1181.28 Q106.617 1180.7 108.654 1180.7 Q114.024 1180.7 117.219 1183.39 Q120.413 1186.07 120.413 1190.56 Q120.413 1192.69 119.603 1194.61 Q118.816 1196.51 116.709 1199.1 Q116.131 1199.78 113.029 1202.99 Q109.927 1206.19 104.279 1211.95 Z\" fill=\"#000000\" fill-rule=\"evenodd\" fill-opacity=\"1\" /><path clip-path=\"url(#clip560)\" d=\"M 0 0 M62.9365 896.565 Q59.3254 896.565 57.4967 900.13 Q55.6912 903.671 55.6912 910.801 Q55.6912 917.908 57.4967 921.472 Q59.3254 925.014 62.9365 925.014 Q66.5707 925.014 68.3763 921.472 Q70.205 917.908 70.205 910.801 Q70.205 903.671 68.3763 900.13 Q66.5707 896.565 62.9365 896.565 M62.9365 892.861 Q68.7467 892.861 71.8022 897.468 Q74.8809 902.051 74.8809 910.801 Q74.8809 919.528 71.8022 924.134 Q68.7467 928.718 62.9365 928.718 Q57.1264 928.718 54.0477 924.134 Q50.9921 919.528 50.9921 910.801 Q50.9921 902.051 54.0477 897.468 Q57.1264 892.861 62.9365 892.861 Z\" fill=\"#000000\" fill-rule=\"evenodd\" fill-opacity=\"1\" /><path clip-path=\"url(#clip560)\" d=\"M 0 0 M83.0984 922.167 L87.9827 922.167 L87.9827 928.046 L83.0984 928.046 L83.0984 922.167 Z\" fill=\"#000000\" fill-rule=\"evenodd\" fill-opacity=\"1\" /><path clip-path=\"url(#clip560)\" d=\"M 0 0 M111.015 897.56 L99.2095 916.009 L111.015 916.009 L111.015 897.56 M109.788 893.486 L115.668 893.486 L115.668 916.009 L120.598 916.009 L120.598 919.898 L115.668 919.898 L115.668 928.046 L111.015 928.046 L111.015 919.898 L95.4132 919.898 L95.4132 915.384 L109.788 893.486 Z\" fill=\"#000000\" fill-rule=\"evenodd\" fill-opacity=\"1\" /><path clip-path=\"url(#clip560)\" d=\"M 0 0 M63.2606 608.724 Q59.6495 608.724 57.8208 612.289 Q56.0152 615.831 56.0152 622.96 Q56.0152 630.067 57.8208 633.632 Q59.6495 637.173 63.2606 637.173 Q66.8948 637.173 68.7004 633.632 Q70.5291 630.067 70.5291 622.96 Q70.5291 615.831 68.7004 612.289 Q66.8948 608.724 63.2606 608.724 M63.2606 605.021 Q69.0707 605.021 72.1263 609.627 Q75.205 614.21 75.205 622.96 Q75.205 631.687 72.1263 636.294 Q69.0707 640.877 63.2606 640.877 Q57.4504 640.877 54.3717 636.294 Q51.3162 631.687 51.3162 622.96 Q51.3162 614.21 54.3717 609.627 Q57.4504 605.021 63.2606 605.021 Z\" fill=\"#000000\" fill-rule=\"evenodd\" fill-opacity=\"1\" /><path clip-path=\"url(#clip560)\" d=\"M 0 0 M83.4225 634.326 L88.3067 634.326 L88.3067 640.206 L83.4225 640.206 L83.4225 634.326 Z\" fill=\"#000000\" fill-rule=\"evenodd\" fill-opacity=\"1\" /><path clip-path=\"url(#clip560)\" d=\"M 0 0 M109.071 621.062 Q105.922 621.062 104.071 623.215 Q102.242 625.368 102.242 629.118 Q102.242 632.845 104.071 635.02 Q105.922 637.173 109.071 637.173 Q112.219 637.173 114.047 635.02 Q115.899 632.845 115.899 629.118 Q115.899 625.368 114.047 623.215 Q112.219 621.062 109.071 621.062 M118.353 606.409 L118.353 610.669 Q116.594 609.835 114.788 609.396 Q113.006 608.956 111.246 608.956 Q106.617 608.956 104.163 612.081 Q101.733 615.206 101.385 621.525 Q102.751 619.511 104.811 618.446 Q106.871 617.359 109.348 617.359 Q114.557 617.359 117.566 620.53 Q120.598 623.678 120.598 629.118 Q120.598 634.442 117.45 637.659 Q114.302 640.877 109.071 640.877 Q103.075 640.877 99.9039 636.294 Q96.7326 631.687 96.7326 622.96 Q96.7326 614.766 100.621 609.905 Q104.51 605.021 111.061 605.021 Q112.82 605.021 114.603 605.368 Q116.408 605.715 118.353 606.409 Z\" fill=\"#000000\" fill-rule=\"evenodd\" fill-opacity=\"1\" /><path clip-path=\"url(#clip560)\" d=\"M 0 0 M63.5152 320.884 Q59.9041 320.884 58.0754 324.448 Q56.2699 327.99 56.2699 335.12 Q56.2699 342.226 58.0754 345.791 Q59.9041 349.332 63.5152 349.332 Q67.1494 349.332 68.955 345.791 Q70.7837 342.226 70.7837 335.12 Q70.7837 327.99 68.955 324.448 Q67.1494 320.884 63.5152 320.884 M63.5152 317.18 Q69.3254 317.18 72.3809 321.786 Q75.4596 326.37 75.4596 335.12 Q75.4596 343.846 72.3809 348.453 Q69.3254 353.036 63.5152 353.036 Q57.7051 353.036 54.6264 348.453 Q51.5708 343.846 51.5708 335.12 Q51.5708 326.37 54.6264 321.786 Q57.7051 317.18 63.5152 317.18 Z\" fill=\"#000000\" fill-rule=\"evenodd\" fill-opacity=\"1\" /><path clip-path=\"url(#clip560)\" d=\"M 0 0 M83.6771 346.485 L88.5614 346.485 L88.5614 352.365 L83.6771 352.365 L83.6771 346.485 Z\" fill=\"#000000\" fill-rule=\"evenodd\" fill-opacity=\"1\" /><path clip-path=\"url(#clip560)\" d=\"M 0 0 M108.746 335.953 Q105.413 335.953 103.492 337.735 Q101.594 339.518 101.594 342.643 Q101.594 345.768 103.492 347.55 Q105.413 349.332 108.746 349.332 Q112.08 349.332 114.001 347.55 Q115.922 345.745 115.922 342.643 Q115.922 339.518 114.001 337.735 Q112.103 335.953 108.746 335.953 M104.071 333.962 Q101.061 333.221 99.3715 331.161 Q97.7048 329.101 97.7048 326.138 Q97.7048 321.995 100.645 319.587 Q103.608 317.18 108.746 317.18 Q113.908 317.18 116.848 319.587 Q119.788 321.995 119.788 326.138 Q119.788 329.101 118.098 331.161 Q116.432 333.221 113.445 333.962 Q116.825 334.749 118.7 337.041 Q120.598 339.333 120.598 342.643 Q120.598 347.666 117.52 350.351 Q114.464 353.036 108.746 353.036 Q103.029 353.036 99.9502 350.351 Q96.8947 347.666 96.8947 342.643 Q96.8947 339.333 98.7928 337.041 Q100.691 334.749 104.071 333.962 M102.358 326.578 Q102.358 329.263 104.024 330.768 Q105.714 332.272 108.746 332.272 Q111.756 332.272 113.445 330.768 Q115.158 329.263 115.158 326.578 Q115.158 323.893 113.445 322.388 Q111.756 320.884 108.746 320.884 Q105.714 320.884 104.024 322.388 Q102.358 323.893 102.358 326.578 Z\" fill=\"#000000\" fill-rule=\"evenodd\" fill-opacity=\"1\" /><path clip-path=\"url(#clip560)\" d=\"M 0 0 M54.2328 60.5889 L61.8717 60.5889 L61.8717 34.2233 L53.5616 35.89 L53.5616 31.6308 L61.8254 29.9641 L66.5013 29.9641 L66.5013 60.5889 L74.1402 60.5889 L74.1402 64.5241 L54.2328 64.5241 L54.2328 60.5889 Z\" fill=\"#000000\" fill-rule=\"evenodd\" fill-opacity=\"1\" /><path clip-path=\"url(#clip560)\" d=\"M 0 0 M83.5845 58.6445 L88.4688 58.6445 L88.4688 64.5241 L83.5845 64.5241 L83.5845 58.6445 Z\" fill=\"#000000\" fill-rule=\"evenodd\" fill-opacity=\"1\" /><path clip-path=\"url(#clip560)\" d=\"M 0 0 M108.654 33.0428 Q105.043 33.0428 103.214 36.6076 Q101.409 40.1492 101.409 47.2788 Q101.409 54.3853 103.214 57.9501 Q105.043 61.4917 108.654 61.4917 Q112.288 61.4917 114.094 57.9501 Q115.922 54.3853 115.922 47.2788 Q115.922 40.1492 114.094 36.6076 Q112.288 33.0428 108.654 33.0428 M108.654 29.3391 Q114.464 29.3391 117.52 33.9456 Q120.598 38.5289 120.598 47.2788 Q120.598 56.0056 117.52 60.6121 Q114.464 65.1954 108.654 65.1954 Q102.844 65.1954 99.765 60.6121 Q96.7095 56.0056 96.7095 47.2788 Q96.7095 38.5289 99.765 33.9456 Q102.844 29.3391 108.654 29.3391 Z\" fill=\"#000000\" fill-rule=\"evenodd\" fill-opacity=\"1\" /><polyline clip-path=\"url(#clip562)\" style=\"stroke:#009af9; stroke-width:4; stroke-opacity:1; fill:none\" points=\"\n",
       "  218.754,862.044 564.061,866.879 909.369,815.666 1254.68,833.763 1599.98,902.19 1945.29,656.07 2290.6,978.577 \n",
       "  \"/>\n",
       "<polyline clip-path=\"url(#clip562)\" style=\"stroke:#e26f46; stroke-width:4; stroke-opacity:1; fill:none\" points=\"\n",
       "  218.754,671.648 564.061,666.813 909.369,718.026 1254.68,699.929 1599.98,631.502 1945.29,877.622 2290.6,555.115 \n",
       "  \"/>\n",
       "<path clip-path=\"url(#clip560)\" d=\"\n",
       "M1983.1 276.658 L2279.55 276.658 L2279.55 95.2176 L1983.1 95.2176  Z\n",
       "  \" fill=\"#ffffff\" fill-rule=\"evenodd\" fill-opacity=\"1\"/>\n",
       "<polyline clip-path=\"url(#clip560)\" style=\"stroke:#000000; stroke-width:4; stroke-opacity:1; fill:none\" points=\"\n",
       "  1983.1,276.658 2279.55,276.658 2279.55,95.2176 1983.1,95.2176 1983.1,276.658 \n",
       "  \"/>\n",
       "<polyline clip-path=\"url(#clip560)\" style=\"stroke:#009af9; stroke-width:4; stroke-opacity:1; fill:none\" points=\"\n",
       "  2007.5,155.698 2153.92,155.698 \n",
       "  \"/>\n",
       "<path clip-path=\"url(#clip560)\" d=\"M 0 0 M2192.16 175.385 Q2190.35 180.015 2188.64 181.427 Q2186.93 182.839 2184.06 182.839 L2180.65 182.839 L2180.65 179.274 L2183.15 179.274 Q2184.91 179.274 2185.89 178.44 Q2186.86 177.607 2188.04 174.505 L2188.8 172.561 L2178.32 147.052 L2182.83 147.052 L2190.93 167.329 L2199.03 147.052 L2203.55 147.052 L2192.16 175.385 Z\" fill=\"#000000\" fill-rule=\"evenodd\" fill-opacity=\"1\" /><path clip-path=\"url(#clip560)\" d=\"M 0 0 M2210.84 169.042 L2218.48 169.042 L2218.48 142.677 L2210.17 144.343 L2210.17 140.084 L2218.43 138.418 L2223.11 138.418 L2223.11 169.042 L2230.75 169.042 L2230.75 172.978 L2210.84 172.978 L2210.84 169.042 Z\" fill=\"#000000\" fill-rule=\"evenodd\" fill-opacity=\"1\" /><polyline clip-path=\"url(#clip560)\" style=\"stroke:#e26f46; stroke-width:4; stroke-opacity:1; fill:none\" points=\"\n",
       "  2007.5,216.178 2153.92,216.178 \n",
       "  \"/>\n",
       "<path clip-path=\"url(#clip560)\" d=\"M 0 0 M2192.16 235.865 Q2190.35 240.495 2188.64 241.907 Q2186.93 243.319 2184.06 243.319 L2180.65 243.319 L2180.65 239.754 L2183.15 239.754 Q2184.91 239.754 2185.89 238.92 Q2186.86 238.087 2188.04 234.985 L2188.8 233.041 L2178.32 207.532 L2182.83 207.532 L2190.93 227.809 L2199.03 207.532 L2203.55 207.532 L2192.16 235.865 Z\" fill=\"#000000\" fill-rule=\"evenodd\" fill-opacity=\"1\" /><path clip-path=\"url(#clip560)\" d=\"M 0 0 M2214.06 229.522 L2230.38 229.522 L2230.38 233.458 L2208.43 233.458 L2208.43 229.522 Q2211.09 226.768 2215.68 222.138 Q2220.28 217.485 2221.46 216.143 Q2223.71 213.62 2224.59 211.884 Q2225.49 210.124 2225.49 208.435 Q2225.49 205.68 2223.55 203.944 Q2221.63 202.208 2218.52 202.208 Q2216.33 202.208 2213.87 202.972 Q2211.44 203.735 2208.66 205.286 L2208.66 200.564 Q2211.49 199.43 2213.94 198.851 Q2216.4 198.273 2218.43 198.273 Q2223.8 198.273 2227 200.958 Q2230.19 203.643 2230.19 208.134 Q2230.19 210.263 2229.38 212.185 Q2228.59 214.083 2226.49 216.675 Q2225.91 217.347 2222.81 220.564 Q2219.71 223.759 2214.06 229.522 Z\" fill=\"#000000\" fill-rule=\"evenodd\" fill-opacity=\"1\" /></svg>\n"
      ]
     },
     "execution_count": 218,
     "metadata": {},
     "output_type": "execute_result"
    }
   ],
   "source": [
    "using Plots\n",
    "\n",
    "yA = zeros(0)\n",
    "yB = zeros(0)\n",
    "\n",
    "for v=2:8\n",
    "\n",
    "    MC_prova = MC(Q, 10, v, 1000)\n",
    "    \n",
    "    append!(yA, MC_prova[1][MC_prova[3]])\n",
    "    append!(yB, MC_prova[2][MC_prova[3]])\n",
    "end\n",
    "\n",
    "plot(2:8,yA,ylims=(0.0, 1.0))\n",
    "plot!(2:8,yB,ylims=(0.0, 1.0))\n"
   ]
  },
  {
   "cell_type": "code",
   "execution_count": 208,
   "metadata": {},
   "outputs": [
    {
     "data": {
      "image/svg+xml": [
       "<?xml version=\"1.0\" encoding=\"utf-8\"?>\n",
       "<svg xmlns=\"http://www.w3.org/2000/svg\" xmlns:xlink=\"http://www.w3.org/1999/xlink\" width=\"600\" height=\"400\" viewBox=\"0 0 2400 1600\">\n",
       "<defs>\n",
       "  <clipPath id=\"clip320\">\n",
       "    <rect x=\"0\" y=\"0\" width=\"2400\" height=\"1600\"/>\n",
       "  </clipPath>\n",
       "</defs>\n",
       "<path clip-path=\"url(#clip320)\" d=\"\n",
       "M0 1600 L2400 1600 L2400 0 L0 0  Z\n",
       "  \" fill=\"#ffffff\" fill-rule=\"evenodd\" fill-opacity=\"1\"/>\n",
       "<defs>\n",
       "  <clipPath id=\"clip321\">\n",
       "    <rect x=\"480\" y=\"0\" width=\"1681\" height=\"1600\"/>\n",
       "  </clipPath>\n",
       "</defs>\n",
       "<path clip-path=\"url(#clip320)\" d=\"\n",
       "M156.598 1486.45 L2352.76 1486.45 L2352.76 47.2441 L156.598 47.2441  Z\n",
       "  \" fill=\"#ffffff\" fill-rule=\"evenodd\" fill-opacity=\"1\"/>\n",
       "<defs>\n",
       "  <clipPath id=\"clip322\">\n",
       "    <rect x=\"156\" y=\"47\" width=\"2197\" height=\"1440\"/>\n",
       "  </clipPath>\n",
       "</defs>\n",
       "<polyline clip-path=\"url(#clip322)\" style=\"stroke:#000000; stroke-width:2; stroke-opacity:0.1; fill:none\" points=\"\n",
       "  218.754,1486.45 218.754,47.2441 \n",
       "  \"/>\n",
       "<polyline clip-path=\"url(#clip322)\" style=\"stroke:#000000; stroke-width:2; stroke-opacity:0.1; fill:none\" points=\"\n",
       "  736.715,1486.45 736.715,47.2441 \n",
       "  \"/>\n",
       "<polyline clip-path=\"url(#clip322)\" style=\"stroke:#000000; stroke-width:2; stroke-opacity:0.1; fill:none\" points=\"\n",
       "  1254.68,1486.45 1254.68,47.2441 \n",
       "  \"/>\n",
       "<polyline clip-path=\"url(#clip322)\" style=\"stroke:#000000; stroke-width:2; stroke-opacity:0.1; fill:none\" points=\"\n",
       "  1772.64,1486.45 1772.64,47.2441 \n",
       "  \"/>\n",
       "<polyline clip-path=\"url(#clip322)\" style=\"stroke:#000000; stroke-width:2; stroke-opacity:0.1; fill:none\" points=\"\n",
       "  2290.6,1486.45 2290.6,47.2441 \n",
       "  \"/>\n",
       "<polyline clip-path=\"url(#clip320)\" style=\"stroke:#000000; stroke-width:4; stroke-opacity:1; fill:none\" points=\"\n",
       "  156.598,1486.45 2352.76,1486.45 \n",
       "  \"/>\n",
       "<polyline clip-path=\"url(#clip320)\" style=\"stroke:#000000; stroke-width:4; stroke-opacity:1; fill:none\" points=\"\n",
       "  218.754,1486.45 218.754,1469.18 \n",
       "  \"/>\n",
       "<polyline clip-path=\"url(#clip320)\" style=\"stroke:#000000; stroke-width:4; stroke-opacity:1; fill:none\" points=\"\n",
       "  736.715,1486.45 736.715,1469.18 \n",
       "  \"/>\n",
       "<polyline clip-path=\"url(#clip320)\" style=\"stroke:#000000; stroke-width:4; stroke-opacity:1; fill:none\" points=\"\n",
       "  1254.68,1486.45 1254.68,1469.18 \n",
       "  \"/>\n",
       "<polyline clip-path=\"url(#clip320)\" style=\"stroke:#000000; stroke-width:4; stroke-opacity:1; fill:none\" points=\"\n",
       "  1772.64,1486.45 1772.64,1469.18 \n",
       "  \"/>\n",
       "<polyline clip-path=\"url(#clip320)\" style=\"stroke:#000000; stroke-width:4; stroke-opacity:1; fill:none\" points=\"\n",
       "  2290.6,1486.45 2290.6,1469.18 \n",
       "  \"/>\n",
       "<path clip-path=\"url(#clip320)\" d=\"M 0 0 M163.279 1543.18 L170.918 1543.18 L170.918 1516.82 L162.608 1518.49 L162.608 1514.23 L170.872 1512.56 L175.548 1512.56 L175.548 1543.18 L183.187 1543.18 L183.187 1547.12 L163.279 1547.12 L163.279 1543.18 Z\" fill=\"#000000\" fill-rule=\"evenodd\" fill-opacity=\"1\" /><path clip-path=\"url(#clip320)\" d=\"M 0 0 M202.631 1515.64 Q199.02 1515.64 197.191 1519.2 Q195.386 1522.75 195.386 1529.87 Q195.386 1536.98 197.191 1540.55 Q199.02 1544.09 202.631 1544.09 Q206.265 1544.09 208.071 1540.55 Q209.9 1536.98 209.9 1529.87 Q209.9 1522.75 208.071 1519.2 Q206.265 1515.64 202.631 1515.64 M202.631 1511.93 Q208.441 1511.93 211.497 1516.54 Q214.575 1521.12 214.575 1529.87 Q214.575 1538.6 211.497 1543.21 Q208.441 1547.79 202.631 1547.79 Q196.821 1547.79 193.742 1543.21 Q190.687 1538.6 190.687 1529.87 Q190.687 1521.12 193.742 1516.54 Q196.821 1511.93 202.631 1511.93 Z\" fill=\"#000000\" fill-rule=\"evenodd\" fill-opacity=\"1\" /><path clip-path=\"url(#clip320)\" d=\"M 0 0 M232.793 1515.64 Q229.182 1515.64 227.353 1519.2 Q225.548 1522.75 225.548 1529.87 Q225.548 1536.98 227.353 1540.55 Q229.182 1544.09 232.793 1544.09 Q236.427 1544.09 238.233 1540.55 Q240.061 1536.98 240.061 1529.87 Q240.061 1522.75 238.233 1519.2 Q236.427 1515.64 232.793 1515.64 M232.793 1511.93 Q238.603 1511.93 241.659 1516.54 Q244.737 1521.12 244.737 1529.87 Q244.737 1538.6 241.659 1543.21 Q238.603 1547.79 232.793 1547.79 Q226.983 1547.79 223.904 1543.21 Q220.849 1538.6 220.849 1529.87 Q220.849 1521.12 223.904 1516.54 Q226.983 1511.93 232.793 1511.93 Z\" fill=\"#000000\" fill-rule=\"evenodd\" fill-opacity=\"1\" /><path clip-path=\"url(#clip320)\" d=\"M 0 0 M262.955 1515.64 Q259.344 1515.64 257.515 1519.2 Q255.709 1522.75 255.709 1529.87 Q255.709 1536.98 257.515 1540.55 Q259.344 1544.09 262.955 1544.09 Q266.589 1544.09 268.395 1540.55 Q270.223 1536.98 270.223 1529.87 Q270.223 1522.75 268.395 1519.2 Q266.589 1515.64 262.955 1515.64 M262.955 1511.93 Q268.765 1511.93 271.82 1516.54 Q274.899 1521.12 274.899 1529.87 Q274.899 1538.6 271.82 1543.21 Q268.765 1547.79 262.955 1547.79 Q257.145 1547.79 254.066 1543.21 Q251.01 1538.6 251.01 1529.87 Q251.01 1521.12 254.066 1516.54 Q257.145 1511.93 262.955 1511.93 Z\" fill=\"#000000\" fill-rule=\"evenodd\" fill-opacity=\"1\" /><path clip-path=\"url(#clip320)\" d=\"M 0 0 M685.327 1543.18 L701.646 1543.18 L701.646 1547.12 L679.702 1547.12 L679.702 1543.18 Q682.364 1540.43 686.947 1535.8 Q691.554 1531.15 692.734 1529.81 Q694.979 1527.28 695.859 1525.55 Q696.762 1523.79 696.762 1522.1 Q696.762 1519.34 694.817 1517.61 Q692.896 1515.87 689.794 1515.87 Q687.595 1515.87 685.142 1516.63 Q682.711 1517.4 679.933 1518.95 L679.933 1514.23 Q682.757 1513.09 685.211 1512.51 Q687.665 1511.93 689.702 1511.93 Q695.072 1511.93 698.266 1514.62 Q701.461 1517.31 701.461 1521.8 Q701.461 1523.93 700.651 1525.85 Q699.864 1527.74 697.757 1530.34 Q697.179 1531.01 694.077 1534.23 Q690.975 1537.42 685.327 1543.18 Z\" fill=\"#000000\" fill-rule=\"evenodd\" fill-opacity=\"1\" /><path clip-path=\"url(#clip320)\" d=\"M 0 0 M721.461 1515.64 Q717.85 1515.64 716.021 1519.2 Q714.215 1522.75 714.215 1529.87 Q714.215 1536.98 716.021 1540.55 Q717.85 1544.09 721.461 1544.09 Q725.095 1544.09 726.901 1540.55 Q728.729 1536.98 728.729 1529.87 Q728.729 1522.75 726.901 1519.2 Q725.095 1515.64 721.461 1515.64 M721.461 1511.93 Q727.271 1511.93 730.327 1516.54 Q733.405 1521.12 733.405 1529.87 Q733.405 1538.6 730.327 1543.21 Q727.271 1547.79 721.461 1547.79 Q715.651 1547.79 712.572 1543.21 Q709.516 1538.6 709.516 1529.87 Q709.516 1521.12 712.572 1516.54 Q715.651 1511.93 721.461 1511.93 Z\" fill=\"#000000\" fill-rule=\"evenodd\" fill-opacity=\"1\" /><path clip-path=\"url(#clip320)\" d=\"M 0 0 M751.623 1515.64 Q748.012 1515.64 746.183 1519.2 Q744.377 1522.75 744.377 1529.87 Q744.377 1536.98 746.183 1540.55 Q748.012 1544.09 751.623 1544.09 Q755.257 1544.09 757.062 1540.55 Q758.891 1536.98 758.891 1529.87 Q758.891 1522.75 757.062 1519.2 Q755.257 1515.64 751.623 1515.64 M751.623 1511.93 Q757.433 1511.93 760.488 1516.54 Q763.567 1521.12 763.567 1529.87 Q763.567 1538.6 760.488 1543.21 Q757.433 1547.79 751.623 1547.79 Q745.813 1547.79 742.734 1543.21 Q739.678 1538.6 739.678 1529.87 Q739.678 1521.12 742.734 1516.54 Q745.813 1511.93 751.623 1511.93 Z\" fill=\"#000000\" fill-rule=\"evenodd\" fill-opacity=\"1\" /><path clip-path=\"url(#clip320)\" d=\"M 0 0 M781.785 1515.64 Q778.173 1515.64 776.345 1519.2 Q774.539 1522.75 774.539 1529.87 Q774.539 1536.98 776.345 1540.55 Q778.173 1544.09 781.785 1544.09 Q785.419 1544.09 787.224 1540.55 Q789.053 1536.98 789.053 1529.87 Q789.053 1522.75 787.224 1519.2 Q785.419 1515.64 781.785 1515.64 M781.785 1511.93 Q787.595 1511.93 790.65 1516.54 Q793.729 1521.12 793.729 1529.87 Q793.729 1538.6 790.65 1543.21 Q787.595 1547.79 781.785 1547.79 Q775.974 1547.79 772.896 1543.21 Q769.84 1538.6 769.84 1529.87 Q769.84 1521.12 772.896 1516.54 Q775.974 1511.93 781.785 1511.93 Z\" fill=\"#000000\" fill-rule=\"evenodd\" fill-opacity=\"1\" /><path clip-path=\"url(#clip320)\" d=\"M 0 0 M1213.36 1528.49 Q1216.71 1529.2 1218.59 1531.47 Q1220.49 1533.74 1220.49 1537.07 Q1220.49 1542.19 1216.97 1544.99 Q1213.45 1547.79 1206.97 1547.79 Q1204.79 1547.79 1202.48 1547.35 Q1200.19 1546.93 1197.73 1546.08 L1197.73 1541.56 Q1199.68 1542.7 1201.99 1543.28 Q1204.31 1543.86 1206.83 1543.86 Q1211.23 1543.86 1213.52 1542.12 Q1215.83 1540.38 1215.83 1537.07 Q1215.83 1534.02 1213.68 1532.31 Q1211.55 1530.57 1207.73 1530.57 L1203.71 1530.57 L1203.71 1526.73 L1207.92 1526.73 Q1211.37 1526.73 1213.2 1525.36 Q1215.02 1523.97 1215.02 1521.38 Q1215.02 1518.72 1213.13 1517.31 Q1211.25 1515.87 1207.73 1515.87 Q1205.81 1515.87 1203.61 1516.29 Q1201.41 1516.7 1198.77 1517.58 L1198.77 1513.42 Q1201.44 1512.68 1203.75 1512.31 Q1206.09 1511.93 1208.15 1511.93 Q1213.47 1511.93 1216.58 1514.37 Q1219.68 1516.77 1219.68 1520.89 Q1219.68 1523.76 1218.03 1525.75 Q1216.39 1527.72 1213.36 1528.49 Z\" fill=\"#000000\" fill-rule=\"evenodd\" fill-opacity=\"1\" /><path clip-path=\"url(#clip320)\" d=\"M 0 0 M1239.35 1515.64 Q1235.74 1515.64 1233.91 1519.2 Q1232.11 1522.75 1232.11 1529.87 Q1232.11 1536.98 1233.91 1540.55 Q1235.74 1544.09 1239.35 1544.09 Q1242.99 1544.09 1244.79 1540.55 Q1246.62 1536.98 1246.62 1529.87 Q1246.62 1522.75 1244.79 1519.2 Q1242.99 1515.64 1239.35 1515.64 M1239.35 1511.93 Q1245.16 1511.93 1248.22 1516.54 Q1251.3 1521.12 1251.3 1529.87 Q1251.3 1538.6 1248.22 1543.21 Q1245.16 1547.79 1239.35 1547.79 Q1233.54 1547.79 1230.46 1543.21 Q1227.41 1538.6 1227.41 1529.87 Q1227.41 1521.12 1230.46 1516.54 Q1233.54 1511.93 1239.35 1511.93 Z\" fill=\"#000000\" fill-rule=\"evenodd\" fill-opacity=\"1\" /><path clip-path=\"url(#clip320)\" d=\"M 0 0 M1269.51 1515.64 Q1265.9 1515.64 1264.08 1519.2 Q1262.27 1522.75 1262.27 1529.87 Q1262.27 1536.98 1264.08 1540.55 Q1265.9 1544.09 1269.51 1544.09 Q1273.15 1544.09 1274.95 1540.55 Q1276.78 1536.98 1276.78 1529.87 Q1276.78 1522.75 1274.95 1519.2 Q1273.15 1515.64 1269.51 1515.64 M1269.51 1511.93 Q1275.33 1511.93 1278.38 1516.54 Q1281.46 1521.12 1281.46 1529.87 Q1281.46 1538.6 1278.38 1543.21 Q1275.33 1547.79 1269.51 1547.79 Q1263.7 1547.79 1260.63 1543.21 Q1257.57 1538.6 1257.57 1529.87 Q1257.57 1521.12 1260.63 1516.54 Q1263.7 1511.93 1269.51 1511.93 Z\" fill=\"#000000\" fill-rule=\"evenodd\" fill-opacity=\"1\" /><path clip-path=\"url(#clip320)\" d=\"M 0 0 M1299.68 1515.64 Q1296.07 1515.64 1294.24 1519.2 Q1292.43 1522.75 1292.43 1529.87 Q1292.43 1536.98 1294.24 1540.55 Q1296.07 1544.09 1299.68 1544.09 Q1303.31 1544.09 1305.12 1540.55 Q1306.95 1536.98 1306.95 1529.87 Q1306.95 1522.75 1305.12 1519.2 Q1303.31 1515.64 1299.68 1515.64 M1299.68 1511.93 Q1305.49 1511.93 1308.54 1516.54 Q1311.62 1521.12 1311.62 1529.87 Q1311.62 1538.6 1308.54 1543.21 Q1305.49 1547.79 1299.68 1547.79 Q1293.87 1547.79 1290.79 1543.21 Q1287.73 1538.6 1287.73 1529.87 Q1287.73 1521.12 1290.79 1516.54 Q1293.87 1511.93 1299.68 1511.93 Z\" fill=\"#000000\" fill-rule=\"evenodd\" fill-opacity=\"1\" /><path clip-path=\"url(#clip320)\" d=\"M 0 0 M1730.65 1516.63 L1718.84 1535.08 L1730.65 1535.08 L1730.65 1516.63 M1729.42 1512.56 L1735.3 1512.56 L1735.3 1535.08 L1740.23 1535.08 L1740.23 1538.97 L1735.3 1538.97 L1735.3 1547.12 L1730.65 1547.12 L1730.65 1538.97 L1715.05 1538.97 L1715.05 1534.46 L1729.42 1512.56 Z\" fill=\"#000000\" fill-rule=\"evenodd\" fill-opacity=\"1\" /><path clip-path=\"url(#clip320)\" d=\"M 0 0 M1757.96 1515.64 Q1754.35 1515.64 1752.52 1519.2 Q1750.72 1522.75 1750.72 1529.87 Q1750.72 1536.98 1752.52 1540.55 Q1754.35 1544.09 1757.96 1544.09 Q1761.6 1544.09 1763.4 1540.55 Q1765.23 1536.98 1765.23 1529.87 Q1765.23 1522.75 1763.4 1519.2 Q1761.6 1515.64 1757.96 1515.64 M1757.96 1511.93 Q1763.77 1511.93 1766.83 1516.54 Q1769.91 1521.12 1769.91 1529.87 Q1769.91 1538.6 1766.83 1543.21 Q1763.77 1547.79 1757.96 1547.79 Q1752.15 1547.79 1749.07 1543.21 Q1746.02 1538.6 1746.02 1529.87 Q1746.02 1521.12 1749.07 1516.54 Q1752.15 1511.93 1757.96 1511.93 Z\" fill=\"#000000\" fill-rule=\"evenodd\" fill-opacity=\"1\" /><path clip-path=\"url(#clip320)\" d=\"M 0 0 M1788.12 1515.64 Q1784.51 1515.64 1782.69 1519.2 Q1780.88 1522.75 1780.88 1529.87 Q1780.88 1536.98 1782.69 1540.55 Q1784.51 1544.09 1788.12 1544.09 Q1791.76 1544.09 1793.56 1540.55 Q1795.39 1536.98 1795.39 1529.87 Q1795.39 1522.75 1793.56 1519.2 Q1791.76 1515.64 1788.12 1515.64 M1788.12 1511.93 Q1793.93 1511.93 1796.99 1516.54 Q1800.07 1521.12 1800.07 1529.87 Q1800.07 1538.6 1796.99 1543.21 Q1793.93 1547.79 1788.12 1547.79 Q1782.31 1547.79 1779.24 1543.21 Q1776.18 1538.6 1776.18 1529.87 Q1776.18 1521.12 1779.24 1516.54 Q1782.31 1511.93 1788.12 1511.93 Z\" fill=\"#000000\" fill-rule=\"evenodd\" fill-opacity=\"1\" /><path clip-path=\"url(#clip320)\" d=\"M 0 0 M1818.29 1515.64 Q1814.68 1515.64 1812.85 1519.2 Q1811.04 1522.75 1811.04 1529.87 Q1811.04 1536.98 1812.85 1540.55 Q1814.68 1544.09 1818.29 1544.09 Q1821.92 1544.09 1823.73 1540.55 Q1825.56 1536.98 1825.56 1529.87 Q1825.56 1522.75 1823.73 1519.2 Q1821.92 1515.64 1818.29 1515.64 M1818.29 1511.93 Q1824.1 1511.93 1827.15 1516.54 Q1830.23 1521.12 1830.23 1529.87 Q1830.23 1538.6 1827.15 1543.21 Q1824.1 1547.79 1818.29 1547.79 Q1812.48 1547.79 1809.4 1543.21 Q1806.34 1538.6 1806.34 1529.87 Q1806.34 1521.12 1809.4 1516.54 Q1812.48 1511.93 1818.29 1511.93 Z\" fill=\"#000000\" fill-rule=\"evenodd\" fill-opacity=\"1\" /><path clip-path=\"url(#clip320)\" d=\"M 0 0 M2235.14 1512.56 L2253.49 1512.56 L2253.49 1516.5 L2239.42 1516.5 L2239.42 1524.97 Q2240.44 1524.62 2241.46 1524.46 Q2242.48 1524.27 2243.49 1524.27 Q2249.28 1524.27 2252.66 1527.44 Q2256.04 1530.62 2256.04 1536.03 Q2256.04 1541.61 2252.57 1544.71 Q2249.1 1547.79 2242.78 1547.79 Q2240.6 1547.79 2238.33 1547.42 Q2236.09 1547.05 2233.68 1546.31 L2233.68 1541.61 Q2235.76 1542.74 2237.99 1543.3 Q2240.21 1543.86 2242.68 1543.86 Q2246.69 1543.86 2249.03 1541.75 Q2251.36 1539.64 2251.36 1536.03 Q2251.36 1532.42 2249.03 1530.31 Q2246.69 1528.21 2242.68 1528.21 Q2240.81 1528.21 2238.93 1528.62 Q2237.08 1529.04 2235.14 1529.92 L2235.14 1512.56 Z\" fill=\"#000000\" fill-rule=\"evenodd\" fill-opacity=\"1\" /><path clip-path=\"url(#clip320)\" d=\"M 0 0 M2275.25 1515.64 Q2271.64 1515.64 2269.81 1519.2 Q2268.01 1522.75 2268.01 1529.87 Q2268.01 1536.98 2269.81 1540.55 Q2271.64 1544.09 2275.25 1544.09 Q2278.89 1544.09 2280.69 1540.55 Q2282.52 1536.98 2282.52 1529.87 Q2282.52 1522.75 2280.69 1519.2 Q2278.89 1515.64 2275.25 1515.64 M2275.25 1511.93 Q2281.06 1511.93 2284.12 1516.54 Q2287.2 1521.12 2287.2 1529.87 Q2287.2 1538.6 2284.12 1543.21 Q2281.06 1547.79 2275.25 1547.79 Q2269.44 1547.79 2266.36 1543.21 Q2263.31 1538.6 2263.31 1529.87 Q2263.31 1521.12 2266.36 1516.54 Q2269.44 1511.93 2275.25 1511.93 Z\" fill=\"#000000\" fill-rule=\"evenodd\" fill-opacity=\"1\" /><path clip-path=\"url(#clip320)\" d=\"M 0 0 M2305.42 1515.64 Q2301.8 1515.64 2299.98 1519.2 Q2298.17 1522.75 2298.17 1529.87 Q2298.17 1536.98 2299.98 1540.55 Q2301.8 1544.09 2305.42 1544.09 Q2309.05 1544.09 2310.86 1540.55 Q2312.68 1536.98 2312.68 1529.87 Q2312.68 1522.75 2310.86 1519.2 Q2309.05 1515.64 2305.42 1515.64 M2305.42 1511.93 Q2311.23 1511.93 2314.28 1516.54 Q2317.36 1521.12 2317.36 1529.87 Q2317.36 1538.6 2314.28 1543.21 Q2311.23 1547.79 2305.42 1547.79 Q2299.61 1547.79 2296.53 1543.21 Q2293.47 1538.6 2293.47 1529.87 Q2293.47 1521.12 2296.53 1516.54 Q2299.61 1511.93 2305.42 1511.93 Z\" fill=\"#000000\" fill-rule=\"evenodd\" fill-opacity=\"1\" /><path clip-path=\"url(#clip320)\" d=\"M 0 0 M2335.58 1515.64 Q2331.97 1515.64 2330.14 1519.2 Q2328.33 1522.75 2328.33 1529.87 Q2328.33 1536.98 2330.14 1540.55 Q2331.97 1544.09 2335.58 1544.09 Q2339.21 1544.09 2341.02 1540.55 Q2342.85 1536.98 2342.85 1529.87 Q2342.85 1522.75 2341.02 1519.2 Q2339.21 1515.64 2335.58 1515.64 M2335.58 1511.93 Q2341.39 1511.93 2344.44 1516.54 Q2347.52 1521.12 2347.52 1529.87 Q2347.52 1538.6 2344.44 1543.21 Q2341.39 1547.79 2335.58 1547.79 Q2329.77 1547.79 2326.69 1543.21 Q2323.63 1538.6 2323.63 1529.87 Q2323.63 1521.12 2326.69 1516.54 Q2329.77 1511.93 2335.58 1511.93 Z\" fill=\"#000000\" fill-rule=\"evenodd\" fill-opacity=\"1\" /><polyline clip-path=\"url(#clip322)\" style=\"stroke:#000000; stroke-width:2; stroke-opacity:0.1; fill:none\" points=\"\n",
       "  156.598,1486.45 2352.76,1486.45 \n",
       "  \"/>\n",
       "<polyline clip-path=\"url(#clip322)\" style=\"stroke:#000000; stroke-width:2; stroke-opacity:0.1; fill:none\" points=\"\n",
       "  156.598,1198.61 2352.76,1198.61 \n",
       "  \"/>\n",
       "<polyline clip-path=\"url(#clip322)\" style=\"stroke:#000000; stroke-width:2; stroke-opacity:0.1; fill:none\" points=\"\n",
       "  156.598,910.766 2352.76,910.766 \n",
       "  \"/>\n",
       "<polyline clip-path=\"url(#clip322)\" style=\"stroke:#000000; stroke-width:2; stroke-opacity:0.1; fill:none\" points=\"\n",
       "  156.598,622.926 2352.76,622.926 \n",
       "  \"/>\n",
       "<polyline clip-path=\"url(#clip322)\" style=\"stroke:#000000; stroke-width:2; stroke-opacity:0.1; fill:none\" points=\"\n",
       "  156.598,335.085 2352.76,335.085 \n",
       "  \"/>\n",
       "<polyline clip-path=\"url(#clip322)\" style=\"stroke:#000000; stroke-width:2; stroke-opacity:0.1; fill:none\" points=\"\n",
       "  156.598,47.2441 2352.76,47.2441 \n",
       "  \"/>\n",
       "<polyline clip-path=\"url(#clip320)\" style=\"stroke:#000000; stroke-width:4; stroke-opacity:1; fill:none\" points=\"\n",
       "  156.598,1486.45 156.598,47.2441 \n",
       "  \"/>\n",
       "<polyline clip-path=\"url(#clip320)\" style=\"stroke:#000000; stroke-width:4; stroke-opacity:1; fill:none\" points=\"\n",
       "  156.598,1486.45 182.952,1486.45 \n",
       "  \"/>\n",
       "<polyline clip-path=\"url(#clip320)\" style=\"stroke:#000000; stroke-width:4; stroke-opacity:1; fill:none\" points=\"\n",
       "  156.598,1198.61 182.952,1198.61 \n",
       "  \"/>\n",
       "<polyline clip-path=\"url(#clip320)\" style=\"stroke:#000000; stroke-width:4; stroke-opacity:1; fill:none\" points=\"\n",
       "  156.598,910.766 182.952,910.766 \n",
       "  \"/>\n",
       "<polyline clip-path=\"url(#clip320)\" style=\"stroke:#000000; stroke-width:4; stroke-opacity:1; fill:none\" points=\"\n",
       "  156.598,622.926 182.952,622.926 \n",
       "  \"/>\n",
       "<polyline clip-path=\"url(#clip320)\" style=\"stroke:#000000; stroke-width:4; stroke-opacity:1; fill:none\" points=\"\n",
       "  156.598,335.085 182.952,335.085 \n",
       "  \"/>\n",
       "<polyline clip-path=\"url(#clip320)\" style=\"stroke:#000000; stroke-width:4; stroke-opacity:1; fill:none\" points=\"\n",
       "  156.598,47.2441 182.952,47.2441 \n",
       "  \"/>\n",
       "<path clip-path=\"url(#clip320)\" d=\"M 0 0 M63.4226 1472.25 Q59.8115 1472.25 57.9828 1475.81 Q56.1773 1479.35 56.1773 1486.48 Q56.1773 1493.59 57.9828 1497.15 Q59.8115 1500.7 63.4226 1500.7 Q67.0569 1500.7 68.8624 1497.15 Q70.6911 1493.59 70.6911 1486.48 Q70.6911 1479.35 68.8624 1475.81 Q67.0569 1472.25 63.4226 1472.25 M63.4226 1468.54 Q69.2328 1468.54 72.2883 1473.15 Q75.367 1477.73 75.367 1486.48 Q75.367 1495.21 72.2883 1499.82 Q69.2328 1504.4 63.4226 1504.4 Q57.6125 1504.4 54.5338 1499.82 Q51.4782 1495.21 51.4782 1486.48 Q51.4782 1477.73 54.5338 1473.15 Q57.6125 1468.54 63.4226 1468.54 Z\" fill=\"#000000\" fill-rule=\"evenodd\" fill-opacity=\"1\" /><path clip-path=\"url(#clip320)\" d=\"M 0 0 M83.5845 1497.85 L88.4688 1497.85 L88.4688 1503.73 L83.5845 1503.73 L83.5845 1497.85 Z\" fill=\"#000000\" fill-rule=\"evenodd\" fill-opacity=\"1\" /><path clip-path=\"url(#clip320)\" d=\"M 0 0 M108.654 1472.25 Q105.043 1472.25 103.214 1475.81 Q101.409 1479.35 101.409 1486.48 Q101.409 1493.59 103.214 1497.15 Q105.043 1500.7 108.654 1500.7 Q112.288 1500.7 114.094 1497.15 Q115.922 1493.59 115.922 1486.48 Q115.922 1479.35 114.094 1475.81 Q112.288 1472.25 108.654 1472.25 M108.654 1468.54 Q114.464 1468.54 117.52 1473.15 Q120.598 1477.73 120.598 1486.48 Q120.598 1495.21 117.52 1499.82 Q114.464 1504.4 108.654 1504.4 Q102.844 1504.4 99.765 1499.82 Q96.7095 1495.21 96.7095 1486.48 Q96.7095 1477.73 99.765 1473.15 Q102.844 1468.54 108.654 1468.54 Z\" fill=\"#000000\" fill-rule=\"evenodd\" fill-opacity=\"1\" /><path clip-path=\"url(#clip320)\" d=\"M 0 0 M65.0198 1184.41 Q61.4087 1184.41 59.58 1187.97 Q57.7745 1191.51 57.7745 1198.64 Q57.7745 1205.75 59.58 1209.31 Q61.4087 1212.85 65.0198 1212.85 Q68.6541 1212.85 70.4596 1209.31 Q72.2883 1205.75 72.2883 1198.64 Q72.2883 1191.51 70.4596 1187.97 Q68.6541 1184.41 65.0198 1184.41 M65.0198 1180.7 Q70.83 1180.7 73.8855 1185.31 Q76.9642 1189.89 76.9642 1198.64 Q76.9642 1207.37 73.8855 1211.98 Q70.83 1216.56 65.0198 1216.56 Q59.2097 1216.56 56.131 1211.98 Q53.0754 1207.37 53.0754 1198.64 Q53.0754 1189.89 56.131 1185.31 Q59.2097 1180.7 65.0198 1180.7 Z\" fill=\"#000000\" fill-rule=\"evenodd\" fill-opacity=\"1\" /><path clip-path=\"url(#clip320)\" d=\"M 0 0 M85.1818 1210.01 L90.066 1210.01 L90.066 1215.89 L85.1818 1215.89 L85.1818 1210.01 Z\" fill=\"#000000\" fill-rule=\"evenodd\" fill-opacity=\"1\" /><path clip-path=\"url(#clip320)\" d=\"M 0 0 M104.279 1211.95 L120.598 1211.95 L120.598 1215.89 L98.6539 1215.89 L98.6539 1211.95 Q101.316 1209.2 105.899 1204.57 Q110.506 1199.91 111.686 1198.57 Q113.932 1196.05 114.811 1194.31 Q115.714 1192.55 115.714 1190.86 Q115.714 1188.11 113.77 1186.37 Q111.848 1184.64 108.746 1184.64 Q106.547 1184.64 104.094 1185.4 Q101.663 1186.17 98.8854 1187.72 L98.8854 1182.99 Q101.709 1181.86 104.163 1181.28 Q106.617 1180.7 108.654 1180.7 Q114.024 1180.7 117.219 1183.39 Q120.413 1186.07 120.413 1190.56 Q120.413 1192.69 119.603 1194.61 Q118.816 1196.51 116.709 1199.1 Q116.131 1199.78 113.029 1202.99 Q109.927 1206.19 104.279 1211.95 Z\" fill=\"#000000\" fill-rule=\"evenodd\" fill-opacity=\"1\" /><path clip-path=\"url(#clip320)\" d=\"M 0 0 M62.9365 896.565 Q59.3254 896.565 57.4967 900.13 Q55.6912 903.671 55.6912 910.801 Q55.6912 917.908 57.4967 921.472 Q59.3254 925.014 62.9365 925.014 Q66.5707 925.014 68.3763 921.472 Q70.205 917.908 70.205 910.801 Q70.205 903.671 68.3763 900.13 Q66.5707 896.565 62.9365 896.565 M62.9365 892.861 Q68.7467 892.861 71.8022 897.468 Q74.8809 902.051 74.8809 910.801 Q74.8809 919.528 71.8022 924.134 Q68.7467 928.718 62.9365 928.718 Q57.1264 928.718 54.0477 924.134 Q50.9921 919.528 50.9921 910.801 Q50.9921 902.051 54.0477 897.468 Q57.1264 892.861 62.9365 892.861 Z\" fill=\"#000000\" fill-rule=\"evenodd\" fill-opacity=\"1\" /><path clip-path=\"url(#clip320)\" d=\"M 0 0 M83.0984 922.167 L87.9827 922.167 L87.9827 928.046 L83.0984 928.046 L83.0984 922.167 Z\" fill=\"#000000\" fill-rule=\"evenodd\" fill-opacity=\"1\" /><path clip-path=\"url(#clip320)\" d=\"M 0 0 M111.015 897.56 L99.2095 916.009 L111.015 916.009 L111.015 897.56 M109.788 893.486 L115.668 893.486 L115.668 916.009 L120.598 916.009 L120.598 919.898 L115.668 919.898 L115.668 928.046 L111.015 928.046 L111.015 919.898 L95.4132 919.898 L95.4132 915.384 L109.788 893.486 Z\" fill=\"#000000\" fill-rule=\"evenodd\" fill-opacity=\"1\" /><path clip-path=\"url(#clip320)\" d=\"M 0 0 M63.2606 608.724 Q59.6495 608.724 57.8208 612.289 Q56.0152 615.831 56.0152 622.96 Q56.0152 630.067 57.8208 633.632 Q59.6495 637.173 63.2606 637.173 Q66.8948 637.173 68.7004 633.632 Q70.5291 630.067 70.5291 622.96 Q70.5291 615.831 68.7004 612.289 Q66.8948 608.724 63.2606 608.724 M63.2606 605.021 Q69.0707 605.021 72.1263 609.627 Q75.205 614.21 75.205 622.96 Q75.205 631.687 72.1263 636.294 Q69.0707 640.877 63.2606 640.877 Q57.4504 640.877 54.3717 636.294 Q51.3162 631.687 51.3162 622.96 Q51.3162 614.21 54.3717 609.627 Q57.4504 605.021 63.2606 605.021 Z\" fill=\"#000000\" fill-rule=\"evenodd\" fill-opacity=\"1\" /><path clip-path=\"url(#clip320)\" d=\"M 0 0 M83.4225 634.326 L88.3067 634.326 L88.3067 640.206 L83.4225 640.206 L83.4225 634.326 Z\" fill=\"#000000\" fill-rule=\"evenodd\" fill-opacity=\"1\" /><path clip-path=\"url(#clip320)\" d=\"M 0 0 M109.071 621.062 Q105.922 621.062 104.071 623.215 Q102.242 625.368 102.242 629.118 Q102.242 632.845 104.071 635.02 Q105.922 637.173 109.071 637.173 Q112.219 637.173 114.047 635.02 Q115.899 632.845 115.899 629.118 Q115.899 625.368 114.047 623.215 Q112.219 621.062 109.071 621.062 M118.353 606.409 L118.353 610.669 Q116.594 609.835 114.788 609.396 Q113.006 608.956 111.246 608.956 Q106.617 608.956 104.163 612.081 Q101.733 615.206 101.385 621.525 Q102.751 619.511 104.811 618.446 Q106.871 617.359 109.348 617.359 Q114.557 617.359 117.566 620.53 Q120.598 623.678 120.598 629.118 Q120.598 634.442 117.45 637.659 Q114.302 640.877 109.071 640.877 Q103.075 640.877 99.9039 636.294 Q96.7326 631.687 96.7326 622.96 Q96.7326 614.766 100.621 609.905 Q104.51 605.021 111.061 605.021 Q112.82 605.021 114.603 605.368 Q116.408 605.715 118.353 606.409 Z\" fill=\"#000000\" fill-rule=\"evenodd\" fill-opacity=\"1\" /><path clip-path=\"url(#clip320)\" d=\"M 0 0 M63.5152 320.884 Q59.9041 320.884 58.0754 324.448 Q56.2699 327.99 56.2699 335.12 Q56.2699 342.226 58.0754 345.791 Q59.9041 349.332 63.5152 349.332 Q67.1494 349.332 68.955 345.791 Q70.7837 342.226 70.7837 335.12 Q70.7837 327.99 68.955 324.448 Q67.1494 320.884 63.5152 320.884 M63.5152 317.18 Q69.3254 317.18 72.3809 321.786 Q75.4596 326.37 75.4596 335.12 Q75.4596 343.846 72.3809 348.453 Q69.3254 353.036 63.5152 353.036 Q57.7051 353.036 54.6264 348.453 Q51.5708 343.846 51.5708 335.12 Q51.5708 326.37 54.6264 321.786 Q57.7051 317.18 63.5152 317.18 Z\" fill=\"#000000\" fill-rule=\"evenodd\" fill-opacity=\"1\" /><path clip-path=\"url(#clip320)\" d=\"M 0 0 M83.6771 346.485 L88.5614 346.485 L88.5614 352.365 L83.6771 352.365 L83.6771 346.485 Z\" fill=\"#000000\" fill-rule=\"evenodd\" fill-opacity=\"1\" /><path clip-path=\"url(#clip320)\" d=\"M 0 0 M108.746 335.953 Q105.413 335.953 103.492 337.735 Q101.594 339.518 101.594 342.643 Q101.594 345.768 103.492 347.55 Q105.413 349.332 108.746 349.332 Q112.08 349.332 114.001 347.55 Q115.922 345.745 115.922 342.643 Q115.922 339.518 114.001 337.735 Q112.103 335.953 108.746 335.953 M104.071 333.962 Q101.061 333.221 99.3715 331.161 Q97.7048 329.101 97.7048 326.138 Q97.7048 321.995 100.645 319.587 Q103.608 317.18 108.746 317.18 Q113.908 317.18 116.848 319.587 Q119.788 321.995 119.788 326.138 Q119.788 329.101 118.098 331.161 Q116.432 333.221 113.445 333.962 Q116.825 334.749 118.7 337.041 Q120.598 339.333 120.598 342.643 Q120.598 347.666 117.52 350.351 Q114.464 353.036 108.746 353.036 Q103.029 353.036 99.9502 350.351 Q96.8947 347.666 96.8947 342.643 Q96.8947 339.333 98.7928 337.041 Q100.691 334.749 104.071 333.962 M102.358 326.578 Q102.358 329.263 104.024 330.768 Q105.714 332.272 108.746 332.272 Q111.756 332.272 113.445 330.768 Q115.158 329.263 115.158 326.578 Q115.158 323.893 113.445 322.388 Q111.756 320.884 108.746 320.884 Q105.714 320.884 104.024 322.388 Q102.358 323.893 102.358 326.578 Z\" fill=\"#000000\" fill-rule=\"evenodd\" fill-opacity=\"1\" /><path clip-path=\"url(#clip320)\" d=\"M 0 0 M54.2328 60.5889 L61.8717 60.5889 L61.8717 34.2233 L53.5616 35.89 L53.5616 31.6308 L61.8254 29.9641 L66.5013 29.9641 L66.5013 60.5889 L74.1402 60.5889 L74.1402 64.5241 L54.2328 64.5241 L54.2328 60.5889 Z\" fill=\"#000000\" fill-rule=\"evenodd\" fill-opacity=\"1\" /><path clip-path=\"url(#clip320)\" d=\"M 0 0 M83.5845 58.6445 L88.4688 58.6445 L88.4688 64.5241 L83.5845 64.5241 L83.5845 58.6445 Z\" fill=\"#000000\" fill-rule=\"evenodd\" fill-opacity=\"1\" /><path clip-path=\"url(#clip320)\" d=\"M 0 0 M108.654 33.0428 Q105.043 33.0428 103.214 36.6076 Q101.409 40.1492 101.409 47.2788 Q101.409 54.3853 103.214 57.9501 Q105.043 61.4917 108.654 61.4917 Q112.288 61.4917 114.094 57.9501 Q115.922 54.3853 115.922 47.2788 Q115.922 40.1492 114.094 36.6076 Q112.288 33.0428 108.654 33.0428 M108.654 29.3391 Q114.464 29.3391 117.52 33.9456 Q120.598 38.5289 120.598 47.2788 Q120.598 56.0056 117.52 60.6121 Q114.464 65.1954 108.654 65.1954 Q102.844 65.1954 99.765 60.6121 Q96.7095 56.0056 96.7095 47.2788 Q96.7095 38.5289 99.765 33.9456 Q102.844 29.3391 108.654 29.3391 Z\" fill=\"#000000\" fill-rule=\"evenodd\" fill-opacity=\"1\" /><polyline clip-path=\"url(#clip322)\" style=\"stroke:#009af9; stroke-width:4; stroke-opacity:1; fill:none\" points=\"\n",
       "  218.754,704.697 736.715,718.042 2290.6,669.898 \n",
       "  \"/>\n",
       "<polyline clip-path=\"url(#clip322)\" style=\"stroke:#e26f46; stroke-width:4; stroke-opacity:1; fill:none\" points=\"\n",
       "  218.754,828.995 736.715,815.65 2290.6,863.794 \n",
       "  \"/>\n",
       "<path clip-path=\"url(#clip320)\" d=\"\n",
       "M1983.1 276.658 L2279.55 276.658 L2279.55 95.2176 L1983.1 95.2176  Z\n",
       "  \" fill=\"#ffffff\" fill-rule=\"evenodd\" fill-opacity=\"1\"/>\n",
       "<polyline clip-path=\"url(#clip320)\" style=\"stroke:#000000; stroke-width:4; stroke-opacity:1; fill:none\" points=\"\n",
       "  1983.1,276.658 2279.55,276.658 2279.55,95.2176 1983.1,95.2176 1983.1,276.658 \n",
       "  \"/>\n",
       "<polyline clip-path=\"url(#clip320)\" style=\"stroke:#009af9; stroke-width:4; stroke-opacity:1; fill:none\" points=\"\n",
       "  2007.5,155.698 2153.92,155.698 \n",
       "  \"/>\n",
       "<path clip-path=\"url(#clip320)\" d=\"M 0 0 M2192.16 175.385 Q2190.35 180.015 2188.64 181.427 Q2186.93 182.839 2184.06 182.839 L2180.65 182.839 L2180.65 179.274 L2183.15 179.274 Q2184.91 179.274 2185.89 178.44 Q2186.86 177.607 2188.04 174.505 L2188.8 172.561 L2178.32 147.052 L2182.83 147.052 L2190.93 167.329 L2199.03 147.052 L2203.55 147.052 L2192.16 175.385 Z\" fill=\"#000000\" fill-rule=\"evenodd\" fill-opacity=\"1\" /><path clip-path=\"url(#clip320)\" d=\"M 0 0 M2210.84 169.042 L2218.48 169.042 L2218.48 142.677 L2210.17 144.343 L2210.17 140.084 L2218.43 138.418 L2223.11 138.418 L2223.11 169.042 L2230.75 169.042 L2230.75 172.978 L2210.84 172.978 L2210.84 169.042 Z\" fill=\"#000000\" fill-rule=\"evenodd\" fill-opacity=\"1\" /><polyline clip-path=\"url(#clip320)\" style=\"stroke:#e26f46; stroke-width:4; stroke-opacity:1; fill:none\" points=\"\n",
       "  2007.5,216.178 2153.92,216.178 \n",
       "  \"/>\n",
       "<path clip-path=\"url(#clip320)\" d=\"M 0 0 M2192.16 235.865 Q2190.35 240.495 2188.64 241.907 Q2186.93 243.319 2184.06 243.319 L2180.65 243.319 L2180.65 239.754 L2183.15 239.754 Q2184.91 239.754 2185.89 238.92 Q2186.86 238.087 2188.04 234.985 L2188.8 233.041 L2178.32 207.532 L2182.83 207.532 L2190.93 227.809 L2199.03 207.532 L2203.55 207.532 L2192.16 235.865 Z\" fill=\"#000000\" fill-rule=\"evenodd\" fill-opacity=\"1\" /><path clip-path=\"url(#clip320)\" d=\"M 0 0 M2214.06 229.522 L2230.38 229.522 L2230.38 233.458 L2208.43 233.458 L2208.43 229.522 Q2211.09 226.768 2215.68 222.138 Q2220.28 217.485 2221.46 216.143 Q2223.71 213.62 2224.59 211.884 Q2225.49 210.124 2225.49 208.435 Q2225.49 205.68 2223.55 203.944 Q2221.63 202.208 2218.52 202.208 Q2216.33 202.208 2213.87 202.972 Q2211.44 203.735 2208.66 205.286 L2208.66 200.564 Q2211.49 199.43 2213.94 198.851 Q2216.4 198.273 2218.43 198.273 Q2223.8 198.273 2227 200.958 Q2230.19 203.643 2230.19 208.134 Q2230.19 210.263 2229.38 212.185 Q2228.59 214.083 2226.49 216.675 Q2225.91 217.347 2222.81 220.564 Q2219.71 223.759 2214.06 229.522 Z\" fill=\"#000000\" fill-rule=\"evenodd\" fill-opacity=\"1\" /></svg>\n"
      ]
     },
     "execution_count": 208,
     "metadata": {},
     "output_type": "execute_result"
    }
   ],
   "source": [
    "using Plots\n",
    "\n",
    "v=2\n",
    "\n",
    "yA = zeros(0)\n",
    "yB = zeros(0)\n",
    "\n",
    "n = [1000,2000,5000]\n",
    "\n",
    "for nsteps in n\n",
    "    \n",
    "    MC_prova = MC(Q, 10, v, nsteps)\n",
    "    \n",
    "    append!(yA, MC_prova[1][MC_prova[3]])\n",
    "    append!(yB, MC_prova[2][MC_prova[3]])\n",
    "end\n",
    "\n",
    "plot(n,yA,ylims=(0.0, 1.0))\n",
    "plot!(n,yB,ylims=(0.0, 1.0))"
   ]
  },
  {
   "cell_type": "code",
   "execution_count": 210,
   "metadata": {},
   "outputs": [
    {
     "data": {
      "image/svg+xml": [
       "<?xml version=\"1.0\" encoding=\"utf-8\"?>\n",
       "<svg xmlns=\"http://www.w3.org/2000/svg\" xmlns:xlink=\"http://www.w3.org/1999/xlink\" width=\"600\" height=\"400\" viewBox=\"0 0 2400 1600\">\n",
       "<defs>\n",
       "  <clipPath id=\"clip400\">\n",
       "    <rect x=\"0\" y=\"0\" width=\"2400\" height=\"1600\"/>\n",
       "  </clipPath>\n",
       "</defs>\n",
       "<path clip-path=\"url(#clip400)\" d=\"\n",
       "M0 1600 L2400 1600 L2400 0 L0 0  Z\n",
       "  \" fill=\"#ffffff\" fill-rule=\"evenodd\" fill-opacity=\"1\"/>\n",
       "<defs>\n",
       "  <clipPath id=\"clip401\">\n",
       "    <rect x=\"480\" y=\"0\" width=\"1681\" height=\"1600\"/>\n",
       "  </clipPath>\n",
       "</defs>\n",
       "<path clip-path=\"url(#clip400)\" d=\"\n",
       "M156.598 1486.45 L2352.76 1486.45 L2352.76 47.2441 L156.598 47.2441  Z\n",
       "  \" fill=\"#ffffff\" fill-rule=\"evenodd\" fill-opacity=\"1\"/>\n",
       "<defs>\n",
       "  <clipPath id=\"clip402\">\n",
       "    <rect x=\"156\" y=\"47\" width=\"2197\" height=\"1440\"/>\n",
       "  </clipPath>\n",
       "</defs>\n",
       "<polyline clip-path=\"url(#clip402)\" style=\"stroke:#000000; stroke-width:2; stroke-opacity:0.1; fill:none\" points=\"\n",
       "  218.754,1486.45 218.754,47.2441 \n",
       "  \"/>\n",
       "<polyline clip-path=\"url(#clip402)\" style=\"stroke:#000000; stroke-width:2; stroke-opacity:0.1; fill:none\" points=\"\n",
       "  736.715,1486.45 736.715,47.2441 \n",
       "  \"/>\n",
       "<polyline clip-path=\"url(#clip402)\" style=\"stroke:#000000; stroke-width:2; stroke-opacity:0.1; fill:none\" points=\"\n",
       "  1254.68,1486.45 1254.68,47.2441 \n",
       "  \"/>\n",
       "<polyline clip-path=\"url(#clip402)\" style=\"stroke:#000000; stroke-width:2; stroke-opacity:0.1; fill:none\" points=\"\n",
       "  1772.64,1486.45 1772.64,47.2441 \n",
       "  \"/>\n",
       "<polyline clip-path=\"url(#clip402)\" style=\"stroke:#000000; stroke-width:2; stroke-opacity:0.1; fill:none\" points=\"\n",
       "  2290.6,1486.45 2290.6,47.2441 \n",
       "  \"/>\n",
       "<polyline clip-path=\"url(#clip400)\" style=\"stroke:#000000; stroke-width:4; stroke-opacity:1; fill:none\" points=\"\n",
       "  156.598,1486.45 2352.76,1486.45 \n",
       "  \"/>\n",
       "<polyline clip-path=\"url(#clip400)\" style=\"stroke:#000000; stroke-width:4; stroke-opacity:1; fill:none\" points=\"\n",
       "  218.754,1486.45 218.754,1469.18 \n",
       "  \"/>\n",
       "<polyline clip-path=\"url(#clip400)\" style=\"stroke:#000000; stroke-width:4; stroke-opacity:1; fill:none\" points=\"\n",
       "  736.715,1486.45 736.715,1469.18 \n",
       "  \"/>\n",
       "<polyline clip-path=\"url(#clip400)\" style=\"stroke:#000000; stroke-width:4; stroke-opacity:1; fill:none\" points=\"\n",
       "  1254.68,1486.45 1254.68,1469.18 \n",
       "  \"/>\n",
       "<polyline clip-path=\"url(#clip400)\" style=\"stroke:#000000; stroke-width:4; stroke-opacity:1; fill:none\" points=\"\n",
       "  1772.64,1486.45 1772.64,1469.18 \n",
       "  \"/>\n",
       "<polyline clip-path=\"url(#clip400)\" style=\"stroke:#000000; stroke-width:4; stroke-opacity:1; fill:none\" points=\"\n",
       "  2290.6,1486.45 2290.6,1469.18 \n",
       "  \"/>\n",
       "<path clip-path=\"url(#clip400)\" d=\"M 0 0 M163.279 1543.18 L170.918 1543.18 L170.918 1516.82 L162.608 1518.49 L162.608 1514.23 L170.872 1512.56 L175.548 1512.56 L175.548 1543.18 L183.187 1543.18 L183.187 1547.12 L163.279 1547.12 L163.279 1543.18 Z\" fill=\"#000000\" fill-rule=\"evenodd\" fill-opacity=\"1\" /><path clip-path=\"url(#clip400)\" d=\"M 0 0 M202.631 1515.64 Q199.02 1515.64 197.191 1519.2 Q195.386 1522.75 195.386 1529.87 Q195.386 1536.98 197.191 1540.55 Q199.02 1544.09 202.631 1544.09 Q206.265 1544.09 208.071 1540.55 Q209.9 1536.98 209.9 1529.87 Q209.9 1522.75 208.071 1519.2 Q206.265 1515.64 202.631 1515.64 M202.631 1511.93 Q208.441 1511.93 211.497 1516.54 Q214.575 1521.12 214.575 1529.87 Q214.575 1538.6 211.497 1543.21 Q208.441 1547.79 202.631 1547.79 Q196.821 1547.79 193.742 1543.21 Q190.687 1538.6 190.687 1529.87 Q190.687 1521.12 193.742 1516.54 Q196.821 1511.93 202.631 1511.93 Z\" fill=\"#000000\" fill-rule=\"evenodd\" fill-opacity=\"1\" /><path clip-path=\"url(#clip400)\" d=\"M 0 0 M232.793 1515.64 Q229.182 1515.64 227.353 1519.2 Q225.548 1522.75 225.548 1529.87 Q225.548 1536.98 227.353 1540.55 Q229.182 1544.09 232.793 1544.09 Q236.427 1544.09 238.233 1540.55 Q240.061 1536.98 240.061 1529.87 Q240.061 1522.75 238.233 1519.2 Q236.427 1515.64 232.793 1515.64 M232.793 1511.93 Q238.603 1511.93 241.659 1516.54 Q244.737 1521.12 244.737 1529.87 Q244.737 1538.6 241.659 1543.21 Q238.603 1547.79 232.793 1547.79 Q226.983 1547.79 223.904 1543.21 Q220.849 1538.6 220.849 1529.87 Q220.849 1521.12 223.904 1516.54 Q226.983 1511.93 232.793 1511.93 Z\" fill=\"#000000\" fill-rule=\"evenodd\" fill-opacity=\"1\" /><path clip-path=\"url(#clip400)\" d=\"M 0 0 M262.955 1515.64 Q259.344 1515.64 257.515 1519.2 Q255.709 1522.75 255.709 1529.87 Q255.709 1536.98 257.515 1540.55 Q259.344 1544.09 262.955 1544.09 Q266.589 1544.09 268.395 1540.55 Q270.223 1536.98 270.223 1529.87 Q270.223 1522.75 268.395 1519.2 Q266.589 1515.64 262.955 1515.64 M262.955 1511.93 Q268.765 1511.93 271.82 1516.54 Q274.899 1521.12 274.899 1529.87 Q274.899 1538.6 271.82 1543.21 Q268.765 1547.79 262.955 1547.79 Q257.145 1547.79 254.066 1543.21 Q251.01 1538.6 251.01 1529.87 Q251.01 1521.12 254.066 1516.54 Q257.145 1511.93 262.955 1511.93 Z\" fill=\"#000000\" fill-rule=\"evenodd\" fill-opacity=\"1\" /><path clip-path=\"url(#clip400)\" d=\"M 0 0 M685.327 1543.18 L701.646 1543.18 L701.646 1547.12 L679.702 1547.12 L679.702 1543.18 Q682.364 1540.43 686.947 1535.8 Q691.554 1531.15 692.734 1529.81 Q694.979 1527.28 695.859 1525.55 Q696.762 1523.79 696.762 1522.1 Q696.762 1519.34 694.817 1517.61 Q692.896 1515.87 689.794 1515.87 Q687.595 1515.87 685.142 1516.63 Q682.711 1517.4 679.933 1518.95 L679.933 1514.23 Q682.757 1513.09 685.211 1512.51 Q687.665 1511.93 689.702 1511.93 Q695.072 1511.93 698.266 1514.62 Q701.461 1517.31 701.461 1521.8 Q701.461 1523.93 700.651 1525.85 Q699.864 1527.74 697.757 1530.34 Q697.179 1531.01 694.077 1534.23 Q690.975 1537.42 685.327 1543.18 Z\" fill=\"#000000\" fill-rule=\"evenodd\" fill-opacity=\"1\" /><path clip-path=\"url(#clip400)\" d=\"M 0 0 M721.461 1515.64 Q717.85 1515.64 716.021 1519.2 Q714.215 1522.75 714.215 1529.87 Q714.215 1536.98 716.021 1540.55 Q717.85 1544.09 721.461 1544.09 Q725.095 1544.09 726.901 1540.55 Q728.729 1536.98 728.729 1529.87 Q728.729 1522.75 726.901 1519.2 Q725.095 1515.64 721.461 1515.64 M721.461 1511.93 Q727.271 1511.93 730.327 1516.54 Q733.405 1521.12 733.405 1529.87 Q733.405 1538.6 730.327 1543.21 Q727.271 1547.79 721.461 1547.79 Q715.651 1547.79 712.572 1543.21 Q709.516 1538.6 709.516 1529.87 Q709.516 1521.12 712.572 1516.54 Q715.651 1511.93 721.461 1511.93 Z\" fill=\"#000000\" fill-rule=\"evenodd\" fill-opacity=\"1\" /><path clip-path=\"url(#clip400)\" d=\"M 0 0 M751.623 1515.64 Q748.012 1515.64 746.183 1519.2 Q744.377 1522.75 744.377 1529.87 Q744.377 1536.98 746.183 1540.55 Q748.012 1544.09 751.623 1544.09 Q755.257 1544.09 757.062 1540.55 Q758.891 1536.98 758.891 1529.87 Q758.891 1522.75 757.062 1519.2 Q755.257 1515.64 751.623 1515.64 M751.623 1511.93 Q757.433 1511.93 760.488 1516.54 Q763.567 1521.12 763.567 1529.87 Q763.567 1538.6 760.488 1543.21 Q757.433 1547.79 751.623 1547.79 Q745.813 1547.79 742.734 1543.21 Q739.678 1538.6 739.678 1529.87 Q739.678 1521.12 742.734 1516.54 Q745.813 1511.93 751.623 1511.93 Z\" fill=\"#000000\" fill-rule=\"evenodd\" fill-opacity=\"1\" /><path clip-path=\"url(#clip400)\" d=\"M 0 0 M781.785 1515.64 Q778.173 1515.64 776.345 1519.2 Q774.539 1522.75 774.539 1529.87 Q774.539 1536.98 776.345 1540.55 Q778.173 1544.09 781.785 1544.09 Q785.419 1544.09 787.224 1540.55 Q789.053 1536.98 789.053 1529.87 Q789.053 1522.75 787.224 1519.2 Q785.419 1515.64 781.785 1515.64 M781.785 1511.93 Q787.595 1511.93 790.65 1516.54 Q793.729 1521.12 793.729 1529.87 Q793.729 1538.6 790.65 1543.21 Q787.595 1547.79 781.785 1547.79 Q775.974 1547.79 772.896 1543.21 Q769.84 1538.6 769.84 1529.87 Q769.84 1521.12 772.896 1516.54 Q775.974 1511.93 781.785 1511.93 Z\" fill=\"#000000\" fill-rule=\"evenodd\" fill-opacity=\"1\" /><path clip-path=\"url(#clip400)\" d=\"M 0 0 M1213.36 1528.49 Q1216.71 1529.2 1218.59 1531.47 Q1220.49 1533.74 1220.49 1537.07 Q1220.49 1542.19 1216.97 1544.99 Q1213.45 1547.79 1206.97 1547.79 Q1204.79 1547.79 1202.48 1547.35 Q1200.19 1546.93 1197.73 1546.08 L1197.73 1541.56 Q1199.68 1542.7 1201.99 1543.28 Q1204.31 1543.86 1206.83 1543.86 Q1211.23 1543.86 1213.52 1542.12 Q1215.83 1540.38 1215.83 1537.07 Q1215.83 1534.02 1213.68 1532.31 Q1211.55 1530.57 1207.73 1530.57 L1203.71 1530.57 L1203.71 1526.73 L1207.92 1526.73 Q1211.37 1526.73 1213.2 1525.36 Q1215.02 1523.97 1215.02 1521.38 Q1215.02 1518.72 1213.13 1517.31 Q1211.25 1515.87 1207.73 1515.87 Q1205.81 1515.87 1203.61 1516.29 Q1201.41 1516.7 1198.77 1517.58 L1198.77 1513.42 Q1201.44 1512.68 1203.75 1512.31 Q1206.09 1511.93 1208.15 1511.93 Q1213.47 1511.93 1216.58 1514.37 Q1219.68 1516.77 1219.68 1520.89 Q1219.68 1523.76 1218.03 1525.75 Q1216.39 1527.72 1213.36 1528.49 Z\" fill=\"#000000\" fill-rule=\"evenodd\" fill-opacity=\"1\" /><path clip-path=\"url(#clip400)\" d=\"M 0 0 M1239.35 1515.64 Q1235.74 1515.64 1233.91 1519.2 Q1232.11 1522.75 1232.11 1529.87 Q1232.11 1536.98 1233.91 1540.55 Q1235.74 1544.09 1239.35 1544.09 Q1242.99 1544.09 1244.79 1540.55 Q1246.62 1536.98 1246.62 1529.87 Q1246.62 1522.75 1244.79 1519.2 Q1242.99 1515.64 1239.35 1515.64 M1239.35 1511.93 Q1245.16 1511.93 1248.22 1516.54 Q1251.3 1521.12 1251.3 1529.87 Q1251.3 1538.6 1248.22 1543.21 Q1245.16 1547.79 1239.35 1547.79 Q1233.54 1547.79 1230.46 1543.21 Q1227.41 1538.6 1227.41 1529.87 Q1227.41 1521.12 1230.46 1516.54 Q1233.54 1511.93 1239.35 1511.93 Z\" fill=\"#000000\" fill-rule=\"evenodd\" fill-opacity=\"1\" /><path clip-path=\"url(#clip400)\" d=\"M 0 0 M1269.51 1515.64 Q1265.9 1515.64 1264.08 1519.2 Q1262.27 1522.75 1262.27 1529.87 Q1262.27 1536.98 1264.08 1540.55 Q1265.9 1544.09 1269.51 1544.09 Q1273.15 1544.09 1274.95 1540.55 Q1276.78 1536.98 1276.78 1529.87 Q1276.78 1522.75 1274.95 1519.2 Q1273.15 1515.64 1269.51 1515.64 M1269.51 1511.93 Q1275.33 1511.93 1278.38 1516.54 Q1281.46 1521.12 1281.46 1529.87 Q1281.46 1538.6 1278.38 1543.21 Q1275.33 1547.79 1269.51 1547.79 Q1263.7 1547.79 1260.63 1543.21 Q1257.57 1538.6 1257.57 1529.87 Q1257.57 1521.12 1260.63 1516.54 Q1263.7 1511.93 1269.51 1511.93 Z\" fill=\"#000000\" fill-rule=\"evenodd\" fill-opacity=\"1\" /><path clip-path=\"url(#clip400)\" d=\"M 0 0 M1299.68 1515.64 Q1296.07 1515.64 1294.24 1519.2 Q1292.43 1522.75 1292.43 1529.87 Q1292.43 1536.98 1294.24 1540.55 Q1296.07 1544.09 1299.68 1544.09 Q1303.31 1544.09 1305.12 1540.55 Q1306.95 1536.98 1306.95 1529.87 Q1306.95 1522.75 1305.12 1519.2 Q1303.31 1515.64 1299.68 1515.64 M1299.68 1511.93 Q1305.49 1511.93 1308.54 1516.54 Q1311.62 1521.12 1311.62 1529.87 Q1311.62 1538.6 1308.54 1543.21 Q1305.49 1547.79 1299.68 1547.79 Q1293.87 1547.79 1290.79 1543.21 Q1287.73 1538.6 1287.73 1529.87 Q1287.73 1521.12 1290.79 1516.54 Q1293.87 1511.93 1299.68 1511.93 Z\" fill=\"#000000\" fill-rule=\"evenodd\" fill-opacity=\"1\" /><path clip-path=\"url(#clip400)\" d=\"M 0 0 M1730.65 1516.63 L1718.84 1535.08 L1730.65 1535.08 L1730.65 1516.63 M1729.42 1512.56 L1735.3 1512.56 L1735.3 1535.08 L1740.23 1535.08 L1740.23 1538.97 L1735.3 1538.97 L1735.3 1547.12 L1730.65 1547.12 L1730.65 1538.97 L1715.05 1538.97 L1715.05 1534.46 L1729.42 1512.56 Z\" fill=\"#000000\" fill-rule=\"evenodd\" fill-opacity=\"1\" /><path clip-path=\"url(#clip400)\" d=\"M 0 0 M1757.96 1515.64 Q1754.35 1515.64 1752.52 1519.2 Q1750.72 1522.75 1750.72 1529.87 Q1750.72 1536.98 1752.52 1540.55 Q1754.35 1544.09 1757.96 1544.09 Q1761.6 1544.09 1763.4 1540.55 Q1765.23 1536.98 1765.23 1529.87 Q1765.23 1522.75 1763.4 1519.2 Q1761.6 1515.64 1757.96 1515.64 M1757.96 1511.93 Q1763.77 1511.93 1766.83 1516.54 Q1769.91 1521.12 1769.91 1529.87 Q1769.91 1538.6 1766.83 1543.21 Q1763.77 1547.79 1757.96 1547.79 Q1752.15 1547.79 1749.07 1543.21 Q1746.02 1538.6 1746.02 1529.87 Q1746.02 1521.12 1749.07 1516.54 Q1752.15 1511.93 1757.96 1511.93 Z\" fill=\"#000000\" fill-rule=\"evenodd\" fill-opacity=\"1\" /><path clip-path=\"url(#clip400)\" d=\"M 0 0 M1788.12 1515.64 Q1784.51 1515.64 1782.69 1519.2 Q1780.88 1522.75 1780.88 1529.87 Q1780.88 1536.98 1782.69 1540.55 Q1784.51 1544.09 1788.12 1544.09 Q1791.76 1544.09 1793.56 1540.55 Q1795.39 1536.98 1795.39 1529.87 Q1795.39 1522.75 1793.56 1519.2 Q1791.76 1515.64 1788.12 1515.64 M1788.12 1511.93 Q1793.93 1511.93 1796.99 1516.54 Q1800.07 1521.12 1800.07 1529.87 Q1800.07 1538.6 1796.99 1543.21 Q1793.93 1547.79 1788.12 1547.79 Q1782.31 1547.79 1779.24 1543.21 Q1776.18 1538.6 1776.18 1529.87 Q1776.18 1521.12 1779.24 1516.54 Q1782.31 1511.93 1788.12 1511.93 Z\" fill=\"#000000\" fill-rule=\"evenodd\" fill-opacity=\"1\" /><path clip-path=\"url(#clip400)\" d=\"M 0 0 M1818.29 1515.64 Q1814.68 1515.64 1812.85 1519.2 Q1811.04 1522.75 1811.04 1529.87 Q1811.04 1536.98 1812.85 1540.55 Q1814.68 1544.09 1818.29 1544.09 Q1821.92 1544.09 1823.73 1540.55 Q1825.56 1536.98 1825.56 1529.87 Q1825.56 1522.75 1823.73 1519.2 Q1821.92 1515.64 1818.29 1515.64 M1818.29 1511.93 Q1824.1 1511.93 1827.15 1516.54 Q1830.23 1521.12 1830.23 1529.87 Q1830.23 1538.6 1827.15 1543.21 Q1824.1 1547.79 1818.29 1547.79 Q1812.48 1547.79 1809.4 1543.21 Q1806.34 1538.6 1806.34 1529.87 Q1806.34 1521.12 1809.4 1516.54 Q1812.48 1511.93 1818.29 1511.93 Z\" fill=\"#000000\" fill-rule=\"evenodd\" fill-opacity=\"1\" /><path clip-path=\"url(#clip400)\" d=\"M 0 0 M2235.14 1512.56 L2253.49 1512.56 L2253.49 1516.5 L2239.42 1516.5 L2239.42 1524.97 Q2240.44 1524.62 2241.46 1524.46 Q2242.48 1524.27 2243.49 1524.27 Q2249.28 1524.27 2252.66 1527.44 Q2256.04 1530.62 2256.04 1536.03 Q2256.04 1541.61 2252.57 1544.71 Q2249.1 1547.79 2242.78 1547.79 Q2240.6 1547.79 2238.33 1547.42 Q2236.09 1547.05 2233.68 1546.31 L2233.68 1541.61 Q2235.76 1542.74 2237.99 1543.3 Q2240.21 1543.86 2242.68 1543.86 Q2246.69 1543.86 2249.03 1541.75 Q2251.36 1539.64 2251.36 1536.03 Q2251.36 1532.42 2249.03 1530.31 Q2246.69 1528.21 2242.68 1528.21 Q2240.81 1528.21 2238.93 1528.62 Q2237.08 1529.04 2235.14 1529.92 L2235.14 1512.56 Z\" fill=\"#000000\" fill-rule=\"evenodd\" fill-opacity=\"1\" /><path clip-path=\"url(#clip400)\" d=\"M 0 0 M2275.25 1515.64 Q2271.64 1515.64 2269.81 1519.2 Q2268.01 1522.75 2268.01 1529.87 Q2268.01 1536.98 2269.81 1540.55 Q2271.64 1544.09 2275.25 1544.09 Q2278.89 1544.09 2280.69 1540.55 Q2282.52 1536.98 2282.52 1529.87 Q2282.52 1522.75 2280.69 1519.2 Q2278.89 1515.64 2275.25 1515.64 M2275.25 1511.93 Q2281.06 1511.93 2284.12 1516.54 Q2287.2 1521.12 2287.2 1529.87 Q2287.2 1538.6 2284.12 1543.21 Q2281.06 1547.79 2275.25 1547.79 Q2269.44 1547.79 2266.36 1543.21 Q2263.31 1538.6 2263.31 1529.87 Q2263.31 1521.12 2266.36 1516.54 Q2269.44 1511.93 2275.25 1511.93 Z\" fill=\"#000000\" fill-rule=\"evenodd\" fill-opacity=\"1\" /><path clip-path=\"url(#clip400)\" d=\"M 0 0 M2305.42 1515.64 Q2301.8 1515.64 2299.98 1519.2 Q2298.17 1522.75 2298.17 1529.87 Q2298.17 1536.98 2299.98 1540.55 Q2301.8 1544.09 2305.42 1544.09 Q2309.05 1544.09 2310.86 1540.55 Q2312.68 1536.98 2312.68 1529.87 Q2312.68 1522.75 2310.86 1519.2 Q2309.05 1515.64 2305.42 1515.64 M2305.42 1511.93 Q2311.23 1511.93 2314.28 1516.54 Q2317.36 1521.12 2317.36 1529.87 Q2317.36 1538.6 2314.28 1543.21 Q2311.23 1547.79 2305.42 1547.79 Q2299.61 1547.79 2296.53 1543.21 Q2293.47 1538.6 2293.47 1529.87 Q2293.47 1521.12 2296.53 1516.54 Q2299.61 1511.93 2305.42 1511.93 Z\" fill=\"#000000\" fill-rule=\"evenodd\" fill-opacity=\"1\" /><path clip-path=\"url(#clip400)\" d=\"M 0 0 M2335.58 1515.64 Q2331.97 1515.64 2330.14 1519.2 Q2328.33 1522.75 2328.33 1529.87 Q2328.33 1536.98 2330.14 1540.55 Q2331.97 1544.09 2335.58 1544.09 Q2339.21 1544.09 2341.02 1540.55 Q2342.85 1536.98 2342.85 1529.87 Q2342.85 1522.75 2341.02 1519.2 Q2339.21 1515.64 2335.58 1515.64 M2335.58 1511.93 Q2341.39 1511.93 2344.44 1516.54 Q2347.52 1521.12 2347.52 1529.87 Q2347.52 1538.6 2344.44 1543.21 Q2341.39 1547.79 2335.58 1547.79 Q2329.77 1547.79 2326.69 1543.21 Q2323.63 1538.6 2323.63 1529.87 Q2323.63 1521.12 2326.69 1516.54 Q2329.77 1511.93 2335.58 1511.93 Z\" fill=\"#000000\" fill-rule=\"evenodd\" fill-opacity=\"1\" /><polyline clip-path=\"url(#clip402)\" style=\"stroke:#000000; stroke-width:2; stroke-opacity:0.1; fill:none\" points=\"\n",
       "  156.598,1486.45 2352.76,1486.45 \n",
       "  \"/>\n",
       "<polyline clip-path=\"url(#clip402)\" style=\"stroke:#000000; stroke-width:2; stroke-opacity:0.1; fill:none\" points=\"\n",
       "  156.598,1198.61 2352.76,1198.61 \n",
       "  \"/>\n",
       "<polyline clip-path=\"url(#clip402)\" style=\"stroke:#000000; stroke-width:2; stroke-opacity:0.1; fill:none\" points=\"\n",
       "  156.598,910.766 2352.76,910.766 \n",
       "  \"/>\n",
       "<polyline clip-path=\"url(#clip402)\" style=\"stroke:#000000; stroke-width:2; stroke-opacity:0.1; fill:none\" points=\"\n",
       "  156.598,622.926 2352.76,622.926 \n",
       "  \"/>\n",
       "<polyline clip-path=\"url(#clip402)\" style=\"stroke:#000000; stroke-width:2; stroke-opacity:0.1; fill:none\" points=\"\n",
       "  156.598,335.085 2352.76,335.085 \n",
       "  \"/>\n",
       "<polyline clip-path=\"url(#clip402)\" style=\"stroke:#000000; stroke-width:2; stroke-opacity:0.1; fill:none\" points=\"\n",
       "  156.598,47.2441 2352.76,47.2441 \n",
       "  \"/>\n",
       "<polyline clip-path=\"url(#clip400)\" style=\"stroke:#000000; stroke-width:4; stroke-opacity:1; fill:none\" points=\"\n",
       "  156.598,1486.45 156.598,47.2441 \n",
       "  \"/>\n",
       "<polyline clip-path=\"url(#clip400)\" style=\"stroke:#000000; stroke-width:4; stroke-opacity:1; fill:none\" points=\"\n",
       "  156.598,1486.45 182.952,1486.45 \n",
       "  \"/>\n",
       "<polyline clip-path=\"url(#clip400)\" style=\"stroke:#000000; stroke-width:4; stroke-opacity:1; fill:none\" points=\"\n",
       "  156.598,1198.61 182.952,1198.61 \n",
       "  \"/>\n",
       "<polyline clip-path=\"url(#clip400)\" style=\"stroke:#000000; stroke-width:4; stroke-opacity:1; fill:none\" points=\"\n",
       "  156.598,910.766 182.952,910.766 \n",
       "  \"/>\n",
       "<polyline clip-path=\"url(#clip400)\" style=\"stroke:#000000; stroke-width:4; stroke-opacity:1; fill:none\" points=\"\n",
       "  156.598,622.926 182.952,622.926 \n",
       "  \"/>\n",
       "<polyline clip-path=\"url(#clip400)\" style=\"stroke:#000000; stroke-width:4; stroke-opacity:1; fill:none\" points=\"\n",
       "  156.598,335.085 182.952,335.085 \n",
       "  \"/>\n",
       "<polyline clip-path=\"url(#clip400)\" style=\"stroke:#000000; stroke-width:4; stroke-opacity:1; fill:none\" points=\"\n",
       "  156.598,47.2441 182.952,47.2441 \n",
       "  \"/>\n",
       "<path clip-path=\"url(#clip400)\" d=\"M 0 0 M63.4226 1472.25 Q59.8115 1472.25 57.9828 1475.81 Q56.1773 1479.35 56.1773 1486.48 Q56.1773 1493.59 57.9828 1497.15 Q59.8115 1500.7 63.4226 1500.7 Q67.0569 1500.7 68.8624 1497.15 Q70.6911 1493.59 70.6911 1486.48 Q70.6911 1479.35 68.8624 1475.81 Q67.0569 1472.25 63.4226 1472.25 M63.4226 1468.54 Q69.2328 1468.54 72.2883 1473.15 Q75.367 1477.73 75.367 1486.48 Q75.367 1495.21 72.2883 1499.82 Q69.2328 1504.4 63.4226 1504.4 Q57.6125 1504.4 54.5338 1499.82 Q51.4782 1495.21 51.4782 1486.48 Q51.4782 1477.73 54.5338 1473.15 Q57.6125 1468.54 63.4226 1468.54 Z\" fill=\"#000000\" fill-rule=\"evenodd\" fill-opacity=\"1\" /><path clip-path=\"url(#clip400)\" d=\"M 0 0 M83.5845 1497.85 L88.4688 1497.85 L88.4688 1503.73 L83.5845 1503.73 L83.5845 1497.85 Z\" fill=\"#000000\" fill-rule=\"evenodd\" fill-opacity=\"1\" /><path clip-path=\"url(#clip400)\" d=\"M 0 0 M108.654 1472.25 Q105.043 1472.25 103.214 1475.81 Q101.409 1479.35 101.409 1486.48 Q101.409 1493.59 103.214 1497.15 Q105.043 1500.7 108.654 1500.7 Q112.288 1500.7 114.094 1497.15 Q115.922 1493.59 115.922 1486.48 Q115.922 1479.35 114.094 1475.81 Q112.288 1472.25 108.654 1472.25 M108.654 1468.54 Q114.464 1468.54 117.52 1473.15 Q120.598 1477.73 120.598 1486.48 Q120.598 1495.21 117.52 1499.82 Q114.464 1504.4 108.654 1504.4 Q102.844 1504.4 99.765 1499.82 Q96.7095 1495.21 96.7095 1486.48 Q96.7095 1477.73 99.765 1473.15 Q102.844 1468.54 108.654 1468.54 Z\" fill=\"#000000\" fill-rule=\"evenodd\" fill-opacity=\"1\" /><path clip-path=\"url(#clip400)\" d=\"M 0 0 M65.0198 1184.41 Q61.4087 1184.41 59.58 1187.97 Q57.7745 1191.51 57.7745 1198.64 Q57.7745 1205.75 59.58 1209.31 Q61.4087 1212.85 65.0198 1212.85 Q68.6541 1212.85 70.4596 1209.31 Q72.2883 1205.75 72.2883 1198.64 Q72.2883 1191.51 70.4596 1187.97 Q68.6541 1184.41 65.0198 1184.41 M65.0198 1180.7 Q70.83 1180.7 73.8855 1185.31 Q76.9642 1189.89 76.9642 1198.64 Q76.9642 1207.37 73.8855 1211.98 Q70.83 1216.56 65.0198 1216.56 Q59.2097 1216.56 56.131 1211.98 Q53.0754 1207.37 53.0754 1198.64 Q53.0754 1189.89 56.131 1185.31 Q59.2097 1180.7 65.0198 1180.7 Z\" fill=\"#000000\" fill-rule=\"evenodd\" fill-opacity=\"1\" /><path clip-path=\"url(#clip400)\" d=\"M 0 0 M85.1818 1210.01 L90.066 1210.01 L90.066 1215.89 L85.1818 1215.89 L85.1818 1210.01 Z\" fill=\"#000000\" fill-rule=\"evenodd\" fill-opacity=\"1\" /><path clip-path=\"url(#clip400)\" d=\"M 0 0 M104.279 1211.95 L120.598 1211.95 L120.598 1215.89 L98.6539 1215.89 L98.6539 1211.95 Q101.316 1209.2 105.899 1204.57 Q110.506 1199.91 111.686 1198.57 Q113.932 1196.05 114.811 1194.31 Q115.714 1192.55 115.714 1190.86 Q115.714 1188.11 113.77 1186.37 Q111.848 1184.64 108.746 1184.64 Q106.547 1184.64 104.094 1185.4 Q101.663 1186.17 98.8854 1187.72 L98.8854 1182.99 Q101.709 1181.86 104.163 1181.28 Q106.617 1180.7 108.654 1180.7 Q114.024 1180.7 117.219 1183.39 Q120.413 1186.07 120.413 1190.56 Q120.413 1192.69 119.603 1194.61 Q118.816 1196.51 116.709 1199.1 Q116.131 1199.78 113.029 1202.99 Q109.927 1206.19 104.279 1211.95 Z\" fill=\"#000000\" fill-rule=\"evenodd\" fill-opacity=\"1\" /><path clip-path=\"url(#clip400)\" d=\"M 0 0 M62.9365 896.565 Q59.3254 896.565 57.4967 900.13 Q55.6912 903.671 55.6912 910.801 Q55.6912 917.908 57.4967 921.472 Q59.3254 925.014 62.9365 925.014 Q66.5707 925.014 68.3763 921.472 Q70.205 917.908 70.205 910.801 Q70.205 903.671 68.3763 900.13 Q66.5707 896.565 62.9365 896.565 M62.9365 892.861 Q68.7467 892.861 71.8022 897.468 Q74.8809 902.051 74.8809 910.801 Q74.8809 919.528 71.8022 924.134 Q68.7467 928.718 62.9365 928.718 Q57.1264 928.718 54.0477 924.134 Q50.9921 919.528 50.9921 910.801 Q50.9921 902.051 54.0477 897.468 Q57.1264 892.861 62.9365 892.861 Z\" fill=\"#000000\" fill-rule=\"evenodd\" fill-opacity=\"1\" /><path clip-path=\"url(#clip400)\" d=\"M 0 0 M83.0984 922.167 L87.9827 922.167 L87.9827 928.046 L83.0984 928.046 L83.0984 922.167 Z\" fill=\"#000000\" fill-rule=\"evenodd\" fill-opacity=\"1\" /><path clip-path=\"url(#clip400)\" d=\"M 0 0 M111.015 897.56 L99.2095 916.009 L111.015 916.009 L111.015 897.56 M109.788 893.486 L115.668 893.486 L115.668 916.009 L120.598 916.009 L120.598 919.898 L115.668 919.898 L115.668 928.046 L111.015 928.046 L111.015 919.898 L95.4132 919.898 L95.4132 915.384 L109.788 893.486 Z\" fill=\"#000000\" fill-rule=\"evenodd\" fill-opacity=\"1\" /><path clip-path=\"url(#clip400)\" d=\"M 0 0 M63.2606 608.724 Q59.6495 608.724 57.8208 612.289 Q56.0152 615.831 56.0152 622.96 Q56.0152 630.067 57.8208 633.632 Q59.6495 637.173 63.2606 637.173 Q66.8948 637.173 68.7004 633.632 Q70.5291 630.067 70.5291 622.96 Q70.5291 615.831 68.7004 612.289 Q66.8948 608.724 63.2606 608.724 M63.2606 605.021 Q69.0707 605.021 72.1263 609.627 Q75.205 614.21 75.205 622.96 Q75.205 631.687 72.1263 636.294 Q69.0707 640.877 63.2606 640.877 Q57.4504 640.877 54.3717 636.294 Q51.3162 631.687 51.3162 622.96 Q51.3162 614.21 54.3717 609.627 Q57.4504 605.021 63.2606 605.021 Z\" fill=\"#000000\" fill-rule=\"evenodd\" fill-opacity=\"1\" /><path clip-path=\"url(#clip400)\" d=\"M 0 0 M83.4225 634.326 L88.3067 634.326 L88.3067 640.206 L83.4225 640.206 L83.4225 634.326 Z\" fill=\"#000000\" fill-rule=\"evenodd\" fill-opacity=\"1\" /><path clip-path=\"url(#clip400)\" d=\"M 0 0 M109.071 621.062 Q105.922 621.062 104.071 623.215 Q102.242 625.368 102.242 629.118 Q102.242 632.845 104.071 635.02 Q105.922 637.173 109.071 637.173 Q112.219 637.173 114.047 635.02 Q115.899 632.845 115.899 629.118 Q115.899 625.368 114.047 623.215 Q112.219 621.062 109.071 621.062 M118.353 606.409 L118.353 610.669 Q116.594 609.835 114.788 609.396 Q113.006 608.956 111.246 608.956 Q106.617 608.956 104.163 612.081 Q101.733 615.206 101.385 621.525 Q102.751 619.511 104.811 618.446 Q106.871 617.359 109.348 617.359 Q114.557 617.359 117.566 620.53 Q120.598 623.678 120.598 629.118 Q120.598 634.442 117.45 637.659 Q114.302 640.877 109.071 640.877 Q103.075 640.877 99.9039 636.294 Q96.7326 631.687 96.7326 622.96 Q96.7326 614.766 100.621 609.905 Q104.51 605.021 111.061 605.021 Q112.82 605.021 114.603 605.368 Q116.408 605.715 118.353 606.409 Z\" fill=\"#000000\" fill-rule=\"evenodd\" fill-opacity=\"1\" /><path clip-path=\"url(#clip400)\" d=\"M 0 0 M63.5152 320.884 Q59.9041 320.884 58.0754 324.448 Q56.2699 327.99 56.2699 335.12 Q56.2699 342.226 58.0754 345.791 Q59.9041 349.332 63.5152 349.332 Q67.1494 349.332 68.955 345.791 Q70.7837 342.226 70.7837 335.12 Q70.7837 327.99 68.955 324.448 Q67.1494 320.884 63.5152 320.884 M63.5152 317.18 Q69.3254 317.18 72.3809 321.786 Q75.4596 326.37 75.4596 335.12 Q75.4596 343.846 72.3809 348.453 Q69.3254 353.036 63.5152 353.036 Q57.7051 353.036 54.6264 348.453 Q51.5708 343.846 51.5708 335.12 Q51.5708 326.37 54.6264 321.786 Q57.7051 317.18 63.5152 317.18 Z\" fill=\"#000000\" fill-rule=\"evenodd\" fill-opacity=\"1\" /><path clip-path=\"url(#clip400)\" d=\"M 0 0 M83.6771 346.485 L88.5614 346.485 L88.5614 352.365 L83.6771 352.365 L83.6771 346.485 Z\" fill=\"#000000\" fill-rule=\"evenodd\" fill-opacity=\"1\" /><path clip-path=\"url(#clip400)\" d=\"M 0 0 M108.746 335.953 Q105.413 335.953 103.492 337.735 Q101.594 339.518 101.594 342.643 Q101.594 345.768 103.492 347.55 Q105.413 349.332 108.746 349.332 Q112.08 349.332 114.001 347.55 Q115.922 345.745 115.922 342.643 Q115.922 339.518 114.001 337.735 Q112.103 335.953 108.746 335.953 M104.071 333.962 Q101.061 333.221 99.3715 331.161 Q97.7048 329.101 97.7048 326.138 Q97.7048 321.995 100.645 319.587 Q103.608 317.18 108.746 317.18 Q113.908 317.18 116.848 319.587 Q119.788 321.995 119.788 326.138 Q119.788 329.101 118.098 331.161 Q116.432 333.221 113.445 333.962 Q116.825 334.749 118.7 337.041 Q120.598 339.333 120.598 342.643 Q120.598 347.666 117.52 350.351 Q114.464 353.036 108.746 353.036 Q103.029 353.036 99.9502 350.351 Q96.8947 347.666 96.8947 342.643 Q96.8947 339.333 98.7928 337.041 Q100.691 334.749 104.071 333.962 M102.358 326.578 Q102.358 329.263 104.024 330.768 Q105.714 332.272 108.746 332.272 Q111.756 332.272 113.445 330.768 Q115.158 329.263 115.158 326.578 Q115.158 323.893 113.445 322.388 Q111.756 320.884 108.746 320.884 Q105.714 320.884 104.024 322.388 Q102.358 323.893 102.358 326.578 Z\" fill=\"#000000\" fill-rule=\"evenodd\" fill-opacity=\"1\" /><path clip-path=\"url(#clip400)\" d=\"M 0 0 M54.2328 60.5889 L61.8717 60.5889 L61.8717 34.2233 L53.5616 35.89 L53.5616 31.6308 L61.8254 29.9641 L66.5013 29.9641 L66.5013 60.5889 L74.1402 60.5889 L74.1402 64.5241 L54.2328 64.5241 L54.2328 60.5889 Z\" fill=\"#000000\" fill-rule=\"evenodd\" fill-opacity=\"1\" /><path clip-path=\"url(#clip400)\" d=\"M 0 0 M83.5845 58.6445 L88.4688 58.6445 L88.4688 64.5241 L83.5845 64.5241 L83.5845 58.6445 Z\" fill=\"#000000\" fill-rule=\"evenodd\" fill-opacity=\"1\" /><path clip-path=\"url(#clip400)\" d=\"M 0 0 M108.654 33.0428 Q105.043 33.0428 103.214 36.6076 Q101.409 40.1492 101.409 47.2788 Q101.409 54.3853 103.214 57.9501 Q105.043 61.4917 108.654 61.4917 Q112.288 61.4917 114.094 57.9501 Q115.922 54.3853 115.922 47.2788 Q115.922 40.1492 114.094 36.6076 Q112.288 33.0428 108.654 33.0428 M108.654 29.3391 Q114.464 29.3391 117.52 33.9456 Q120.598 38.5289 120.598 47.2788 Q120.598 56.0056 117.52 60.6121 Q114.464 65.1954 108.654 65.1954 Q102.844 65.1954 99.765 60.6121 Q96.7095 56.0056 96.7095 47.2788 Q96.7095 38.5289 99.765 33.9456 Q102.844 29.3391 108.654 29.3391 Z\" fill=\"#000000\" fill-rule=\"evenodd\" fill-opacity=\"1\" /><polyline clip-path=\"url(#clip402)\" style=\"stroke:#009af9; stroke-width:4; stroke-opacity:1; fill:none\" points=\"\n",
       "  218.754,796.749 736.715,777.6 2290.6,774.099 \n",
       "  \"/>\n",
       "<polyline clip-path=\"url(#clip402)\" style=\"stroke:#e26f46; stroke-width:4; stroke-opacity:1; fill:none\" points=\"\n",
       "  218.754,798.678 736.715,788.627 2290.6,768.297 \n",
       "  \"/>\n",
       "<path clip-path=\"url(#clip400)\" d=\"\n",
       "M1983.1 276.658 L2279.55 276.658 L2279.55 95.2176 L1983.1 95.2176  Z\n",
       "  \" fill=\"#ffffff\" fill-rule=\"evenodd\" fill-opacity=\"1\"/>\n",
       "<polyline clip-path=\"url(#clip400)\" style=\"stroke:#000000; stroke-width:4; stroke-opacity:1; fill:none\" points=\"\n",
       "  1983.1,276.658 2279.55,276.658 2279.55,95.2176 1983.1,95.2176 1983.1,276.658 \n",
       "  \"/>\n",
       "<polyline clip-path=\"url(#clip400)\" style=\"stroke:#009af9; stroke-width:4; stroke-opacity:1; fill:none\" points=\"\n",
       "  2007.5,155.698 2153.92,155.698 \n",
       "  \"/>\n",
       "<path clip-path=\"url(#clip400)\" d=\"M 0 0 M2192.16 175.385 Q2190.35 180.015 2188.64 181.427 Q2186.93 182.839 2184.06 182.839 L2180.65 182.839 L2180.65 179.274 L2183.15 179.274 Q2184.91 179.274 2185.89 178.44 Q2186.86 177.607 2188.04 174.505 L2188.8 172.561 L2178.32 147.052 L2182.83 147.052 L2190.93 167.329 L2199.03 147.052 L2203.55 147.052 L2192.16 175.385 Z\" fill=\"#000000\" fill-rule=\"evenodd\" fill-opacity=\"1\" /><path clip-path=\"url(#clip400)\" d=\"M 0 0 M2210.84 169.042 L2218.48 169.042 L2218.48 142.677 L2210.17 144.343 L2210.17 140.084 L2218.43 138.418 L2223.11 138.418 L2223.11 169.042 L2230.75 169.042 L2230.75 172.978 L2210.84 172.978 L2210.84 169.042 Z\" fill=\"#000000\" fill-rule=\"evenodd\" fill-opacity=\"1\" /><polyline clip-path=\"url(#clip400)\" style=\"stroke:#e26f46; stroke-width:4; stroke-opacity:1; fill:none\" points=\"\n",
       "  2007.5,216.178 2153.92,216.178 \n",
       "  \"/>\n",
       "<path clip-path=\"url(#clip400)\" d=\"M 0 0 M2192.16 235.865 Q2190.35 240.495 2188.64 241.907 Q2186.93 243.319 2184.06 243.319 L2180.65 243.319 L2180.65 239.754 L2183.15 239.754 Q2184.91 239.754 2185.89 238.92 Q2186.86 238.087 2188.04 234.985 L2188.8 233.041 L2178.32 207.532 L2182.83 207.532 L2190.93 227.809 L2199.03 207.532 L2203.55 207.532 L2192.16 235.865 Z\" fill=\"#000000\" fill-rule=\"evenodd\" fill-opacity=\"1\" /><path clip-path=\"url(#clip400)\" d=\"M 0 0 M2214.06 229.522 L2230.38 229.522 L2230.38 233.458 L2208.43 233.458 L2208.43 229.522 Q2211.09 226.768 2215.68 222.138 Q2220.28 217.485 2221.46 216.143 Q2223.71 213.62 2224.59 211.884 Q2225.49 210.124 2225.49 208.435 Q2225.49 205.68 2223.55 203.944 Q2221.63 202.208 2218.52 202.208 Q2216.33 202.208 2213.87 202.972 Q2211.44 203.735 2208.66 205.286 L2208.66 200.564 Q2211.49 199.43 2213.94 198.851 Q2216.4 198.273 2218.43 198.273 Q2223.8 198.273 2227 200.958 Q2230.19 203.643 2230.19 208.134 Q2230.19 210.263 2229.38 212.185 Q2228.59 214.083 2226.49 216.675 Q2225.91 217.347 2222.81 220.564 Q2219.71 223.759 2214.06 229.522 Z\" fill=\"#000000\" fill-rule=\"evenodd\" fill-opacity=\"1\" /></svg>\n"
      ]
     },
     "execution_count": 210,
     "metadata": {},
     "output_type": "execute_result"
    }
   ],
   "source": [
    "v=8\n",
    "\n",
    "yA = zeros(0)\n",
    "yB = zeros(0)\n",
    "\n",
    "n = [1000,2000,5000]\n",
    "\n",
    "for nsteps in n\n",
    "    \n",
    "    MC_prova = MC_Ne(Q, 10, v, Ne, nsteps)\n",
    "    \n",
    "    append!(yA, MC_prova[1])\n",
    "    append!(yB, MC_prova[2])\n",
    "end\n",
    "\n",
    "plot(n,yA,ylims=(0.0, 1.0))\n",
    "plot!(n,yB,ylims=(0.0, 1.0))"
   ]
  },
  {
   "cell_type": "code",
   "execution_count": 215,
   "metadata": {},
   "outputs": [
    {
     "ename": "LoadError",
     "evalue": "\u001b[91mDimensionMismatch(\"matrix is not square: dimensions are (10, 42)\")\u001b[39m",
     "output_type": "error",
     "traceback": [
      "\u001b[91mDimensionMismatch(\"matrix is not square: dimensions are (10, 42)\")\u001b[39m",
      "",
      "Stacktrace:",
      " [1] checksquare at /Users/julia/buildbot/worker/package_macos64/build/usr/share/julia/stdlib/v1.5/LinearAlgebra/src/LinearAlgebra.jl:223 [inlined]",
      " [2] det(::LU{Float64,Array{Float64,2}}) at /Users/julia/buildbot/worker/package_macos64/build/usr/share/julia/stdlib/v1.5/LinearAlgebra/src/lu.jl:443",
      " [3] det(::Array{Float64,2}) at /Users/julia/buildbot/worker/package_macos64/build/usr/share/julia/stdlib/v1.5/LinearAlgebra/src/generic.jl:1538",
      " [4] ratio_det(::Array{Float64,1}, ::Array{Float64,1}) at ./In[142]:22",
      " [5] MC_Ne(::Array{Float64,1}, ::Int64, ::Int64, ::Int64, ::Int64) at ./In[203]:20",
      " [6] top-level scope at In[215]:3",
      " [7] include_string(::Function, ::Module, ::String, ::String) at ./loading.jl:1091"
     ]
    }
   ],
   "source": [
    "v=2\n",
    "\n",
    "MC_prova = MC_Ne(Lstate(20), 10, v, Ne,10000)\n",
    "\n",
    "x=collect(1:MC_prova[3])\n",
    "\n",
    "p= plot(x,MC_prova[1])\n",
    "plot!(x,MC_prova[2])"
   ]
  },
  {
   "cell_type": "code",
   "execution_count": 214,
   "metadata": {},
   "outputs": [
    {
     "ename": "LoadError",
     "evalue": "\u001b[91mMethodError: no method matching zero(::Type{Any})\u001b[39m\n\u001b[91m\u001b[0mClosest candidates are:\u001b[39m\n\u001b[91m\u001b[0m  zero(::Type{Union{Missing, T}}) where T at missing.jl:104\u001b[39m\n\u001b[91m\u001b[0m  zero(\u001b[91m::Type{Dates.DateTime}\u001b[39m) at /Users/julia/buildbot/worker/package_macos64/build/usr/share/julia/stdlib/v1.5/Dates/src/types.jl:404\u001b[39m\n\u001b[91m\u001b[0m  zero(\u001b[91m::Type{Dates.Date}\u001b[39m) at /Users/julia/buildbot/worker/package_macos64/build/usr/share/julia/stdlib/v1.5/Dates/src/types.jl:405\u001b[39m\n\u001b[91m\u001b[0m  ...\u001b[39m",
     "output_type": "error",
     "traceback": [
      "\u001b[91mMethodError: no method matching zero(::Type{Any})\u001b[39m\n\u001b[91m\u001b[0mClosest candidates are:\u001b[39m\n\u001b[91m\u001b[0m  zero(::Type{Union{Missing, T}}) where T at missing.jl:104\u001b[39m\n\u001b[91m\u001b[0m  zero(\u001b[91m::Type{Dates.DateTime}\u001b[39m) at /Users/julia/buildbot/worker/package_macos64/build/usr/share/julia/stdlib/v1.5/Dates/src/types.jl:404\u001b[39m\n\u001b[91m\u001b[0m  zero(\u001b[91m::Type{Dates.Date}\u001b[39m) at /Users/julia/buildbot/worker/package_macos64/build/usr/share/julia/stdlib/v1.5/Dates/src/types.jl:405\u001b[39m\n\u001b[91m\u001b[0m  ...\u001b[39m",
      "",
      "Stacktrace:",
      " [1] zero(::Type{Any}) at ./missing.jl:105",
      " [2] reduce_empty(::typeof(+), ::Type{Any}) at ./reduce.jl:311",
      " [3] reduce_empty(::typeof(Base.add_sum), ::Type{Any}) at ./reduce.jl:320",
      " [4] mapreduce_empty(::typeof(identity), ::Function, ::Type{T} where T) at ./reduce.jl:343",
      " [5] reduce_empty(::Base.MappingRF{typeof(identity),typeof(Base.add_sum)}, ::Type{Any}) at ./reduce.jl:329",
      " [6] reduce_empty_iter at ./reduce.jl:355 [inlined]",
      " [7] mapreduce_empty_iter(::Function, ::Function, ::Array{Any,1}, ::Base.HasEltype) at ./reduce.jl:351",
      " [8] _mapreduce(::typeof(identity), ::typeof(Base.add_sum), ::IndexLinear, ::Array{Any,1}) at ./reduce.jl:400",
      " [9] _mapreduce_dim at ./reducedim.jl:318 [inlined]",
      " [10] #mapreduce#620 at ./reducedim.jl:310 [inlined]",
      " [11] mapreduce at ./reducedim.jl:310 [inlined]",
      " [12] _sum at ./reducedim.jl:727 [inlined]",
      " [13] _sum at ./reducedim.jl:726 [inlined]",
      " [14] #sum#627 at ./reducedim.jl:722 [inlined]",
      " [15] sum at ./reducedim.jl:722 [inlined]",
      " [16] Block(::Array{Any,1}, ::Int64) at ./In[201]:25",
      " [17] MC_Ne(::Array{Float64,1}, ::Int64, ::Int64, ::Int64, ::Int64) at ./In[203]:43",
      " [18] MC_Ne(::Array{Float64,1}, ::Int64, ::Int64, ::Int64) at ./In[203]:5",
      " [19] top-level scope at In[214]:3",
      " [20] include_string(::Function, ::Module, ::String, ::String) at ./loading.jl:1091"
     ]
    }
   ],
   "source": [
    "v=8\n",
    "\n",
    "MC_prova_Ne = MC_Ne(Q, 10, v, 1000)\n",
    "\n",
    "y=collect(1:MC_prova_Ne[3])\n",
    "\n",
    "plot(y,MC_prova_Ne[1])\n",
    "plot!(y,MC_prova_Ne[2])\n",
    "\n"
   ]
  },
  {
   "cell_type": "code",
   "execution_count": 865,
   "metadata": {},
   "outputs": [
    {
     "ename": "LoadError",
     "evalue": "\u001b[91mDimensionMismatch(\"matrix is not square: dimensions are (9, 10)\")\u001b[39m",
     "output_type": "error",
     "traceback": [
      "\u001b[91mDimensionMismatch(\"matrix is not square: dimensions are (9, 10)\")\u001b[39m",
      "",
      "Stacktrace:",
      " [1] checksquare at /Users/julia/buildbot/worker/package_macos64/build/usr/share/julia/stdlib/v1.5/LinearAlgebra/src/LinearAlgebra.jl:223 [inlined]",
      " [2] det(::LU{Float64,Array{Float64,2}}) at /Users/julia/buildbot/worker/package_macos64/build/usr/share/julia/stdlib/v1.5/LinearAlgebra/src/lu.jl:443",
      " [3] det(::Array{Float64,2}) at /Users/julia/buildbot/worker/package_macos64/build/usr/share/julia/stdlib/v1.5/LinearAlgebra/src/generic.jl:1538",
      " [4] ratio_det(::Array{Float64,1}, ::Array{Float64,1}) at ./In[847]:20",
      " [5] MC(::Array{Float64,1}, ::Int64, ::Int64, ::Int64) at ./In[852]:17",
      " [6] top-level scope at ./In[865]:14",
      " [7] include_string(::Function, ::Module, ::String, ::String) at ./loading.jl:1091"
     ]
    }
   ],
   "source": [
    "using Plots\n",
    "    \n",
    "A = []\n",
    "B = []\n",
    "\n",
    "n = [1000,2000,5000,10000,15000]\n",
    "v = collect(2:8)\n",
    "\n",
    "    for v=2\n",
    "        yA = zeros(0)\n",
    "        yB = zeros(0)\n",
    "\n",
    "        for nsteps in n\n",
    "            MC_prova = MC(state_prova, 10, v, nsteps)\n",
    "            append!(yA, MC_prova[1][MC_prova[3]])\n",
    "            append!(yB, MC_prova[2][MC_prova[3]])\n",
    "        end\n",
    "    \n",
    "    push!(A,yA)\n",
    "    push!(B,yB)\n",
    "    end\n",
    "\n",
    "p = plot(n,zeros(0,length(n)))\n",
    "\n",
    "    for i in length(v)\n",
    "        plot!(n,A[i])\n",
    "        plot!(n,B[i])\n",
    "    end\n"
   ]
  },
  {
   "cell_type": "code",
   "execution_count": 866,
   "metadata": {},
   "outputs": [
    {
     "data": {
      "text/plain": [
       "0×5 Array{Float64,2}"
      ]
     },
     "execution_count": 866,
     "metadata": {},
     "output_type": "execute_result"
    }
   ],
   "source": [
    "zeros(0,length(n))"
   ]
  },
  {
   "cell_type": "code",
   "execution_count": 867,
   "metadata": {},
   "outputs": [
    {
     "ename": "LoadError",
     "evalue": "\u001b[91mDimensionMismatch(\"matrix is not square: dimensions are (9, 10)\")\u001b[39m",
     "output_type": "error",
     "traceback": [
      "\u001b[91mDimensionMismatch(\"matrix is not square: dimensions are (9, 10)\")\u001b[39m",
      "",
      "Stacktrace:",
      " [1] checksquare at /Users/julia/buildbot/worker/package_macos64/build/usr/share/julia/stdlib/v1.5/LinearAlgebra/src/LinearAlgebra.jl:223 [inlined]",
      " [2] det(::LU{Float64,Array{Float64,2}}) at /Users/julia/buildbot/worker/package_macos64/build/usr/share/julia/stdlib/v1.5/LinearAlgebra/src/lu.jl:443",
      " [3] det(::Array{Float64,2}) at /Users/julia/buildbot/worker/package_macos64/build/usr/share/julia/stdlib/v1.5/LinearAlgebra/src/generic.jl:1538",
      " [4] ratio_det(::Array{Float64,1}, ::Array{Float64,1}) at ./In[847]:20",
      " [5] MC(::Array{Float64,1}, ::Int64, ::Int64, ::Int64) at ./In[852]:17",
      " [6] top-level scope at ./In[867]:7",
      " [7] include_string(::Function, ::Module, ::String, ::String) at ./loading.jl:1091"
     ]
    }
   ],
   "source": [
    "using Plots\n",
    "\n",
    "yA = zeros(0)\n",
    "yB = zeros(0)\n",
    "\n",
    "for v=2:8\n",
    "    MC_prova = MC(Lstate(20), 10, v, 1000)\n",
    "    append!(yA, MC_prova[1][MC_prova[3]])\n",
    "    append!(yB, MC_prova[2][MC_prova[3]])\n",
    "end\n",
    "\n",
    "plot(2:8,yA)\n",
    "plot!(2:8,yB)"
   ]
  },
  {
   "cell_type": "code",
   "execution_count": 212,
   "metadata": {},
   "outputs": [
    {
     "ename": "LoadError",
     "evalue": "\u001b[91mUndefVarError: state_prova not defined\u001b[39m",
     "output_type": "error",
     "traceback": [
      "\u001b[91mUndefVarError: state_prova not defined\u001b[39m",
      "",
      "Stacktrace:",
      " [1] top-level scope at ./In[212]:3",
      " [2] include_string(::Function, ::Module, ::String, ::String) at ./loading.jl:1091"
     ]
    }
   ],
   "source": [
    "for v=8\n",
    "    \n",
    "MC_prova = MC(state_prova, 10, v, 10000)\n",
    "\n",
    "x=collect(1:MC_prova[3])\n",
    "\n",
    "e = plot(x,MC_prova[1])\n",
    "    plot!(x,MC_prova[2])\n",
    "    \n",
    "return e\n",
    "    \n",
    "end\n",
    "\n"
   ]
  },
  {
   "cell_type": "code",
   "execution_count": 869,
   "metadata": {},
   "outputs": [
    {
     "ename": "LoadError",
     "evalue": "\u001b[91mDimensionMismatch(\"matrix is not square: dimensions are (9, 10)\")\u001b[39m",
     "output_type": "error",
     "traceback": [
      "\u001b[91mDimensionMismatch(\"matrix is not square: dimensions are (9, 10)\")\u001b[39m",
      "",
      "Stacktrace:",
      " [1] checksquare at /Users/julia/buildbot/worker/package_macos64/build/usr/share/julia/stdlib/v1.5/LinearAlgebra/src/LinearAlgebra.jl:223 [inlined]",
      " [2] det(::LU{Float64,Array{Float64,2}}) at /Users/julia/buildbot/worker/package_macos64/build/usr/share/julia/stdlib/v1.5/LinearAlgebra/src/lu.jl:443",
      " [3] det(::Array{Float64,2}) at /Users/julia/buildbot/worker/package_macos64/build/usr/share/julia/stdlib/v1.5/LinearAlgebra/src/generic.jl:1538",
      " [4] ratio_det(::Array{Float64,1}, ::Array{Float64,1}) at ./In[847]:20",
      " [5] MC(::Array{Float64,1}, ::Int64, ::Int64, ::Int64) at ./In[852]:17",
      " [6] top-level scope at ./In[869]:12",
      " [7] include_string(::Function, ::Module, ::String, ::String) at ./loading.jl:1091"
     ]
    }
   ],
   "source": [
    "using Plots\n",
    "\n",
    "v=2\n",
    "\n",
    "yA = zeros(0)\n",
    "yB = zeros(0)\n",
    "\n",
    "n = [1000,2000,5000,10000,15000]\n",
    "\n",
    "for nsteps in n\n",
    "    \n",
    "    MC_prova = MC(state_prova, 10, v, nsteps)\n",
    "    \n",
    "    append!(yA, MC_prova[1][MC_prova[3]])\n",
    "    append!(yB, MC_prova[2][MC_prova[3]])\n",
    "end\n",
    "\n",
    "plot(n,yA)\n",
    "plot!(n,yB)"
   ]
  },
  {
   "cell_type": "code",
   "execution_count": 870,
   "metadata": {},
   "outputs": [
    {
     "ename": "LoadError",
     "evalue": "\u001b[91mDimensionMismatch(\"matrix is not square: dimensions are (9, 10)\")\u001b[39m",
     "output_type": "error",
     "traceback": [
      "\u001b[91mDimensionMismatch(\"matrix is not square: dimensions are (9, 10)\")\u001b[39m",
      "",
      "Stacktrace:",
      " [1] checksquare at /Users/julia/buildbot/worker/package_macos64/build/usr/share/julia/stdlib/v1.5/LinearAlgebra/src/LinearAlgebra.jl:223 [inlined]",
      " [2] det(::LU{Float64,Array{Float64,2}}) at /Users/julia/buildbot/worker/package_macos64/build/usr/share/julia/stdlib/v1.5/LinearAlgebra/src/lu.jl:443",
      " [3] det(::Array{Float64,2}) at /Users/julia/buildbot/worker/package_macos64/build/usr/share/julia/stdlib/v1.5/LinearAlgebra/src/generic.jl:1538",
      " [4] ratio_det(::Array{Float64,1}, ::Array{Float64,1}) at ./In[847]:20",
      " [5] MC(::Array{Float64,1}, ::Int64, ::Int64, ::Int64) at ./In[852]:17",
      " [6] top-level scope at ./In[870]:3",
      " [7] include_string(::Function, ::Module, ::String, ::String) at ./loading.jl:1091"
     ]
    }
   ],
   "source": [
    "MC_res = []\n",
    "for i = 1:8\n",
    "    append!(MC_res, MC(state_prova,10,i,1000))\n",
    "end\n",
    "MC_res\n"
   ]
  },
  {
   "cell_type": "code",
   "execution_count": 871,
   "metadata": {},
   "outputs": [
    {
     "ename": "LoadError",
     "evalue": "\u001b[91msyntax: incomplete: \"function\" at In[871]:1 requires end\u001b[39m",
     "output_type": "error",
     "traceback": [
      "\u001b[91msyntax: incomplete: \"function\" at In[871]:1 requires end\u001b[39m",
      "",
      "Stacktrace:",
      " [1] top-level scope at In[871]:1",
      " [2] include_string(::Function, ::Module, ::String, ::String) at ./loading.jl:1091"
     ]
    }
   ],
   "source": [
    "function Hubbard(state,t,U,V)\n",
    "            \n",
    "    D=length(state)       \n",
    "    \n",
    "    Sum_V=0\n",
    "    Sum_U=0    \n",
    "    Sum_A=0\n",
    "    Sum_B=0\n",
    "    \n",
    "    j_a = mod(i+j,L)\n",
    "    j_a == 0 ? j_a = L : j_a = j_a\n",
    "        \n",
    "    n1 = n_i(state[D])[1] + n_i(state[D])[2]\n",
    "    n2 = 0\n",
    "    \n",
    "    for i = 1 : D\n",
    "                \n",
    "        n_up= n_i(state[i])[1]    \n",
    "        n_down = n_i(state[i])[2]\n",
    "                \n",
    "    Sum_U = Sum_U + n_up*n_down \n",
    "                \n",
    "        n2= n_up + n_down\n",
    "        n1n2 = n1*n2   \n",
    "        n1 = n2\n",
    "                \n",
    "    Sum_V = Sum_V + n1n2\n",
    "        \n",
    "        if abs(state[i]) == 1\n",
    "            \n",
    "            ca= ca+c_i(vi,sign)\n",
    "            \n",
    "        end\n",
    "    \n",
    "    arg=  -g*Spins +U*Sum_U \n",
    "            \n",
    "return exp(arg)\n",
    "\n",
    "end"
   ]
  },
  {
   "cell_type": "code",
   "execution_count": 872,
   "metadata": {},
   "outputs": [
    {
     "data": {
      "text/plain": [
       "c_i (generic function with 2 methods)"
      ]
     },
     "execution_count": 872,
     "metadata": {},
     "output_type": "execute_result"
    }
   ],
   "source": [
    "function c_i(vi,orientation,sign) \n",
    "\n",
    "    (nu, nd) = n_i(vi)[1], n_i(vi)[2]\n",
    "    \n",
    "    print(nu, nd)\n",
    "    \n",
    "    orientation == 1  ? spin = nu :  spin = nd\n",
    "    \n",
    "        if spin != orientation && sign == 1\n",
    "           eigenvalue = sqrt(spin+1) \n",
    "           vi = abs(vi+sign)\n",
    "\n",
    "        elseif spin != orientation && sign == -1\n",
    "            eigenvalue = sqrt(spin)  \n",
    "            vi = vi+sign\n",
    "\n",
    "        else \n",
    "            eigenvalue = 0\n",
    "\n",
    "        end\n",
    "\n",
    "return vi, eigenvalue\n",
    " \n",
    "end\n"
   ]
  },
  {
   "cell_type": "code",
   "execution_count": 873,
   "metadata": {},
   "outputs": [
    {
     "name": "stdout",
     "output_type": "stream",
     "text": [
      "01"
     ]
    },
    {
     "data": {
      "text/plain": [
       "(0, 1.0)"
      ]
     },
     "execution_count": 873,
     "metadata": {},
     "output_type": "execute_result"
    }
   ],
   "source": [
    "c_i(-1,1,1)"
   ]
  },
  {
   "cell_type": "code",
   "execution_count": 377,
   "metadata": {},
   "outputs": [
    {
     "data": {
      "text/plain": [
       "orthogonal (generic function with 1 method)"
      ]
     },
     "execution_count": 377,
     "metadata": {},
     "output_type": "execute_result"
    }
   ],
   "source": [
    "   # I = rand(occupied_states_L(v))\n",
    "\n",
    "function orthogonal(w, i)\n",
    "    \n",
    "    L = length(v)\n",
    "    states = []\n",
    "    \n",
    "    J = [-1,1]\n",
    "    \n",
    "    for j in J\n",
    "        \n",
    "    v = copy(w)\n",
    "    \n",
    "    j_pbc = mod(i+j,L)\n",
    "    j_pbc == 0 ? j_pbc = L : j_pbc = j_pbc\n",
    "\n",
    "        if v[i] != v[j_pbc] && v[j_pbc]!=2\n",
    "\n",
    "            if abs(v[i])==1\n",
    "            v[j_pbc] == 0 ? v[j_pbc] = v[i] : v[j_pbc] = 2\n",
    "            v[i] = 0\n",
    "\n",
    "            elseif v[i]==2    \n",
    "                \n",
    "            Spin = [-1,1]\n",
    "                \n",
    "                for spin in Spin\n",
    "                    \n",
    "                     for j in J\n",
    "                        \n",
    "                    j_pbc = mod(i+j,L)\n",
    "                    j_pbc == 0 ? j_pbc = L : j_pbc = j_pbc\n",
    "    \n",
    "\n",
    "                        if v[j_pbc] != spin\n",
    "\n",
    "                        v[i] = spin\n",
    "\n",
    "                            if abs(v[j_pbc]) == 1 \n",
    "                                v[j_pbc] = 2 \n",
    "                            elseif v[j_pbc] == 0 \n",
    "                                v[j_pbc] = -spin \n",
    "                            end\n",
    "\n",
    "                        end\n",
    "                        \n",
    "                    end\n",
    "                    \n",
    "                end\n",
    "            \n",
    "                push!(states,v)\n",
    "                \n",
    "            end\n",
    "            \n",
    "        end\n",
    "        \n",
    "        push!(states,v)\n",
    "        \n",
    "    end \n",
    "    \n",
    "    return states\n",
    "    \n",
    "end"
   ]
  },
  {
   "cell_type": "code",
   "execution_count": 363,
   "metadata": {},
   "outputs": [
    {
     "data": {
      "text/plain": [
       "12-element Array{Float64,1}:\n",
       "  0.0\n",
       "  1.0\n",
       "  2.0\n",
       " -1.0\n",
       "  0.0\n",
       " -1.0\n",
       "  0.0\n",
       "  0.0\n",
       "  1.0\n",
       "  0.0\n",
       "  0.0\n",
       "  0.0"
      ]
     },
     "execution_count": 363,
     "metadata": {},
     "output_type": "execute_result"
    }
   ],
   "source": [
    "v=Lstate(12)"
   ]
  },
  {
   "cell_type": "code",
   "execution_count": 379,
   "metadata": {},
   "outputs": [
    {
     "data": {
      "text/plain": [
       "4-element Array{Any,1}:\n",
       " [0.0, 2.0, 1.0, 2.0, 0.0, -1.0, 0.0, 0.0, 1.0, 0.0, 0.0, 0.0]\n",
       " [0.0, 2.0, 1.0, 2.0, 0.0, -1.0, 0.0, 0.0, 1.0, 0.0, 0.0, 0.0]\n",
       " [0.0, 2.0, 1.0, 2.0, 0.0, -1.0, 0.0, 0.0, 1.0, 0.0, 0.0, 0.0]\n",
       " [0.0, 2.0, 1.0, 2.0, 0.0, -1.0, 0.0, 0.0, 1.0, 0.0, 0.0, 0.0]"
      ]
     },
     "execution_count": 379,
     "metadata": {},
     "output_type": "execute_result"
    }
   ],
   "source": [
    "orthogonal(v, 3)"
   ]
  },
  {
   "cell_type": "code",
   "execution_count": 319,
   "metadata": {},
   "outputs": [
    {
     "ename": "LoadError",
     "evalue": "\u001b[91mArgumentError: range must be non-empty\u001b[39m",
     "output_type": "error",
     "traceback": [
      "\u001b[91mArgumentError: range must be non-empty\u001b[39m",
      "",
      "Stacktrace:",
      " [1] SamplerRangeNDL at /Users/julia/buildbot/worker/package_macos64/build/usr/share/julia/stdlib/v1.5/Random/src/generation.jl:315 [inlined]",
      " [2] Sampler at /Users/julia/buildbot/worker/package_macos64/build/usr/share/julia/stdlib/v1.5/Random/src/generation.jl:183 [inlined]",
      " [3] Sampler at /Users/julia/buildbot/worker/package_macos64/build/usr/share/julia/stdlib/v1.5/Random/src/generation.jl:384 [inlined]",
      " [4] Sampler at /Users/julia/buildbot/worker/package_macos64/build/usr/share/julia/stdlib/v1.5/Random/src/Random.jl:139 [inlined]",
      " [5] rand at /Users/julia/buildbot/worker/package_macos64/build/usr/share/julia/stdlib/v1.5/Random/src/Random.jl:253 [inlined]",
      " [6] rand(::Array{Any,1}) at /Users/julia/buildbot/worker/package_macos64/build/usr/share/julia/stdlib/v1.5/Random/src/Random.jl:258",
      " [7] top-level scope at In[319]:1",
      " [8] include_string(::Function, ::Module, ::String, ::String) at ./loading.jl:1091"
     ]
    }
   ],
   "source": [
    "    I = rand(occupied_states_L(v))\n",
    "\n",
    "function orthogonal(w, i)\n",
    "    \n",
    "    v = copy(w)\n",
    "    L = length(v)\n",
    "    \n",
    "    J = [-1,1]\n",
    "    \n",
    "    j = randn(-1:2:1)\n",
    "     \n",
    "    \n",
    "    return v\n",
    "    \n",
    "end"
   ]
  },
  {
   "cell_type": "code",
   "execution_count": 312,
   "metadata": {},
   "outputs": [
    {
     "name": "stdout",
     "output_type": "stream",
     "text": [
      "13"
     ]
    }
   ],
   "source": [
    "   Spin = [-1,1]\n",
    "                \n",
    "                for spin in Spin\n",
    "    print)"
   ]
  },
  {
   "cell_type": "code",
   "execution_count": 875,
   "metadata": {},
   "outputs": [
    {
     "data": {
      "text/plain": [
       "20-element Array{Float64,1}:\n",
       "  0.0\n",
       "  0.0\n",
       " -1.0\n",
       "  0.0\n",
       "  0.0\n",
       "  0.0\n",
       "  2.0\n",
       "  0.0\n",
       " -1.0\n",
       " -1.0\n",
       "  0.0\n",
       " -1.0\n",
       "  1.0\n",
       "  1.0\n",
       "  0.0\n",
       "  1.0\n",
       "  0.0\n",
       "  1.0\n",
       "  0.0\n",
       "  0.0"
      ]
     },
     "execution_count": 875,
     "metadata": {},
     "output_type": "execute_result"
    }
   ],
   "source": [
    "Lstate(L)"
   ]
  },
  {
   "cell_type": "code",
   "execution_count": null,
   "metadata": {},
   "outputs": [],
   "source": []
  }
 ],
 "metadata": {
  "kernelspec": {
   "display_name": "Julia 1.5.3",
   "language": "julia",
   "name": "julia-1.5"
  },
  "language_info": {
   "file_extension": ".jl",
   "mimetype": "application/julia",
   "name": "julia",
   "version": "1.5.3"
  }
 },
 "nbformat": 4,
 "nbformat_minor": 4
}
