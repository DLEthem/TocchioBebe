{
 "cells": [
  {
   "cell_type": "code",
   "execution_count": 294,
   "metadata": {},
   "outputs": [
    {
     "name": "stderr",
     "output_type": "stream",
     "text": [
      "\u001b[32m\u001b[1m   Updating\u001b[22m\u001b[39m registry at `~/.julia/registries/General`\n",
      "######################################################################### 100.0%\n",
      "\u001b[32m\u001b[1m  Resolving\u001b[22m\u001b[39m package versions...\n",
      "\u001b[32m\u001b[1m  Installed\u001b[22m\u001b[39m Libiconv_jll ─ v1.16.0+8\n",
      "\u001b[32m\u001b[1m  Installed\u001b[22m\u001b[39m StatsAPI ───── v1.0.0\n",
      "\u001b[32m\u001b[1m  Installed\u001b[22m\u001b[39m StatsBase ──── v0.33.8\n",
      "\u001b[32m\u001b[1mUpdating\u001b[22m\u001b[39m `~/.julia/environments/v1.5/Project.toml`\n",
      " \u001b[90m [2913bbd2] \u001b[39m\u001b[92m+ StatsBase v0.33.8\u001b[39m\n",
      "\u001b[32m\u001b[1mUpdating\u001b[22m\u001b[39m `~/.julia/environments/v1.5/Manifest.toml`\n",
      " \u001b[90m [94ce4f54] \u001b[39m\u001b[93m↑ Libiconv_jll v1.16.0+7 ⇒ v1.16.0+8\u001b[39m\n",
      " \u001b[90m [82ae8749] \u001b[39m\u001b[92m+ StatsAPI v1.0.0\u001b[39m\n",
      " \u001b[90m [2913bbd2] \u001b[39m\u001b[93m↑ StatsBase v0.33.5 ⇒ v0.33.8\u001b[39m\n"
     ]
    }
   ],
   "source": [
    "import Pkg; Pkg.add(\"StatsBase\")"
   ]
  },
  {
   "cell_type": "code",
   "execution_count": 358,
   "metadata": {},
   "outputs": [],
   "source": [
    "n = 2\n",
    "L = 8*n + 4\n",
    "t = 1\n",
    "Ne = Int(L / 2)\n",
    "function Hamiltonian(L,t)\n",
    "    H = zeros(2*L, 2*L)\n",
    "    H[1,L] = -t\n",
    "    H[L,1] = -t\n",
    "    H[2L,L+1] = -t\n",
    "    H[L+1,2L] = -t\n",
    "    for i=1:2*L\n",
    "      for j=1:2*L\n",
    "        if i == j + 1 || i == j - 1\n",
    "          H[i,j] = -t\n",
    "        end \n",
    "      end\n",
    "    end\n",
    "    H[L,L+1]=0\n",
    "    H[L+1,L]=0\n",
    "    return H\n",
    "end\n",
    "\n",
    "H = Hamiltonian(L,t);"
   ]
  },
  {
   "cell_type": "code",
   "execution_count": 330,
   "metadata": {},
   "outputs": [
    {
     "data": {
      "text/plain": [
       "Lstate (generic function with 1 method)"
      ]
     },
     "execution_count": 330,
     "metadata": {},
     "output_type": "execute_result"
    }
   ],
   "source": [
    "using StatsBase\n",
    "\n",
    "function Lstate(L)                                 #generate a state of length L\n",
    "    Lstated, Lstateu, Lstate = zeros(L), zeros(L), zeros(L)\n",
    "    randomposu = sample(collect(1:L), Int(L/4), replace=false)\n",
    "    randomposd = sample(collect(1:L), Int(L/4), replace=false)\n",
    "    for j in randomposu\n",
    "        Lstateu[j] = 1\n",
    "    end\n",
    "    for j in randomposd\n",
    "        Lstated[j] = -1\n",
    "    end\n",
    "    for i=1:L \n",
    "        if Lstated[i] == -1 && Lstateu[i] == 1\n",
    "            Lstate[i] = 2\n",
    "        else\n",
    "            Lstate[i] = Lstated[i] + Lstateu[i]\n",
    "        end\n",
    "    end\n",
    "    return Lstate\n",
    "end"
   ]
  },
  {
   "cell_type": "code",
   "execution_count": 318,
   "metadata": {},
   "outputs": [
    {
     "data": {
      "text/plain": [
       "extendedstate (generic function with 1 method)"
      ]
     },
     "execution_count": 318,
     "metadata": {},
     "output_type": "execute_result"
    }
   ],
   "source": [
    "function extendedstate(Lstatevector)               #take a state of length L and make it 2*L\n",
    "    L = length(Lstatevector)\n",
    "    State2L = zeros(2*L)\n",
    "    for j=1:L\n",
    "        if Lstatevector[j] == -1\n",
    "            State2L[j + L] = 1\n",
    "        elseif Lstatevector[j] == 1\n",
    "            State2L[j] = 1\n",
    "        elseif Lstatevector[j] == 2\n",
    "            State2L[j], State2L[j + L] = 1,1\n",
    "        else\n",
    "            State2L[j] = 0\n",
    "        end\n",
    "    end\n",
    "    return State2L\n",
    "end"
   ]
  },
  {
   "cell_type": "code",
   "execution_count": 319,
   "metadata": {},
   "outputs": [
    {
     "data": {
      "text/plain": [
       "shortstate (generic function with 1 method)"
      ]
     },
     "execution_count": 319,
     "metadata": {},
     "output_type": "execute_result"
    }
   ],
   "source": [
    "function shortstate(ext_state)                    #pass trom 2*L state to L state\n",
    "    L = Int(length(ext_state)/2)\n",
    "    sh_state = zeros(L)\n",
    "    for j=1:L\n",
    "        if ext_state[j]==1\n",
    "            sh_state[j]=1\n",
    "        end\n",
    "    end\n",
    "    for j=1:L\n",
    "        if ext_state[L+j]==1\n",
    "            if sh_state[j]==1\n",
    "                sh_state[j]=2\n",
    "            else\n",
    "                sh_state[j]=-1\n",
    "            end\n",
    "        end\n",
    "    end\n",
    "    return sh_state\n",
    "end\n"
   ]
  },
  {
   "cell_type": "code",
   "execution_count": 632,
   "metadata": {},
   "outputs": [
    {
     "data": {
      "text/plain": [
       "move_L (generic function with 1 method)"
      ]
     },
     "execution_count": 632,
     "metadata": {},
     "output_type": "execute_result"
    }
   ],
   "source": [
    "function Pauli(x,i,j)                 #check if state i and j are both occupied\n",
    "    if x[i] == 1 && x[j] == 1\n",
    "        return true\n",
    "    end\n",
    "    return false\n",
    "end \n",
    "\n",
    "function occupied_states(v)         #generate a vector with positions of occupied states (from 2*L states)\n",
    "    occ_states = []\n",
    "    for i = 1:2*L\n",
    "        if v[i] == 1\n",
    "            append!(occ_states, i)\n",
    "        end\n",
    "    end\n",
    "    return occ_states\n",
    "end\n",
    "\n",
    "\n",
    "function occupied_states_L(v)\n",
    "    occ_states = []\n",
    "    L =length(v)\n",
    "    for i = 1 : L\n",
    "        if abs(v[i]) == 1\n",
    "            append!(occ_states, i )\n",
    "            \n",
    "        elseif v[i] == 2\n",
    "            append!(occ_states, i )\n",
    "        \n",
    "        end\n",
    "    end\n",
    "    return occ_states\n",
    "end\n",
    "\n",
    "\n",
    "function move_L(w)\n",
    "    \n",
    "    v = copy(w)\n",
    "    L = length(v)\n",
    "    i = rand(occupied_states_L(v))\n",
    "    j = rand(-1:2:1)\n",
    "\n",
    "    j_pbc = mod(i+j,L)\n",
    "    j_pbc == 0 ? j_pbc = L : j_pbc = j_pbc\n",
    "\n",
    "        if v[i] != v[j_pbc] && v[j_pbc]!=2\n",
    "\n",
    "            if abs(v[i])==1\n",
    "            v[j_pbc] == 0 ? v[j_pbc] = v[i] : v[j_pbc] = 2\n",
    "            v[i] = 0\n",
    "\n",
    "            elseif v[i]==2    \n",
    "            spin = rand(-1:2:1)\n",
    "\n",
    "                if v[j_pbc] != spin\n",
    "                v[i] = -spin\n",
    "\n",
    "                    if abs(v[j_pbc]) == 1 \n",
    "                        v[j_pbc] = 2 \n",
    "                    elseif v[j_pbc] == 0 \n",
    "                        v[j_pbc] = spin \n",
    "                    end\n",
    "\n",
    "                end    \n",
    "            end\n",
    "            \n",
    "        end\n",
    "\n",
    "    return v\n",
    "    \n",
    "end\n"
   ]
  },
  {
   "cell_type": "code",
   "execution_count": 652,
   "metadata": {},
   "outputs": [
    {
     "data": {
      "text/plain": [
       "move_L (generic function with 1 method)"
      ]
     },
     "execution_count": 652,
     "metadata": {},
     "output_type": "execute_result"
    }
   ],
   "source": [
    "function move_com(v,i, j_pbc)\n",
    "    \n",
    "    if abs(v[i])==1\n",
    "            v[j_pbc] == 0 ? v[j_pbc] = v[i] : v[j_pbc] = 2\n",
    "            v[i] = 0\n",
    "\n",
    "            elseif v[i]==2    \n",
    "            spin = rand(-1:2:1)\n",
    "\n",
    "                if v[j_pbc] != spin\n",
    "                v[i] = -spin\n",
    "\n",
    "                    if abs(v[j_pbc]) == 1 \n",
    "                        v[j_pbc] = 2 \n",
    "                    elseif v[j_pbc] == 0 \n",
    "                        v[j_pbc] = spin \n",
    "                    end\n",
    "\n",
    "                end    \n",
    "            end\n",
    "\n",
    "return v[i], v[j_pbc] \n",
    "    \n",
    "end \n",
    "    \n",
    "    \n",
    "function move_L(w)\n",
    "    \n",
    "    v = copy(w)\n",
    "    L = length(v)\n",
    "    i = rand(occupied_states_L(v))\n",
    "    j = rand(-1:2:1)\n",
    "\n",
    "    j_pbc = mod(i+j,L)\n",
    "    j_pbc == 0 ? j_pbc = L : j_pbc = j_pbc\n",
    "\n",
    "        if v[i] != v[j_pbc] && v[j_pbc]!=2\n",
    "            move_com(v,i, j_pbc)\n",
    "        \n",
    "        elseif v[i] == v[j_pbc] \n",
    "            i = rand(occupied_states_L(v))\n",
    "            move_com(v,i, j_pbc)\n",
    "        end\n",
    "\n",
    "    return v\n",
    "    \n",
    "end\n"
   ]
  },
  {
   "cell_type": "code",
   "execution_count": 653,
   "metadata": {},
   "outputs": [
    {
     "data": {
      "text/plain": [
       "12-element Array{Float64,1}:\n",
       "  2.0\n",
       "  0.0\n",
       "  0.0\n",
       "  0.0\n",
       "  0.0\n",
       "  0.0\n",
       " -1.0\n",
       "  0.0\n",
       "  1.0\n",
       "  1.0\n",
       "  0.0\n",
       " -1.0"
      ]
     },
     "metadata": {},
     "output_type": "display_data"
    },
    {
     "data": {
      "text/plain": [
       "12-element Array{Float64,1}:\n",
       "  2.0\n",
       "  0.0\n",
       "  0.0\n",
       "  0.0\n",
       "  0.0\n",
       "  0.0\n",
       " -1.0\n",
       "  0.0\n",
       "  1.0\n",
       "  1.0\n",
       "  0.0\n",
       " -1.0"
      ]
     },
     "metadata": {},
     "output_type": "display_data"
    },
    {
     "data": {
      "text/plain": [
       "(nothing, nothing)"
      ]
     },
     "execution_count": 653,
     "metadata": {},
     "output_type": "execute_result"
    }
   ],
   "source": [
    "v=Lstate(12)\n",
    "display(v),display(move_L(v))"
   ]
  },
  {
   "cell_type": "code",
   "execution_count": 654,
   "metadata": {},
   "outputs": [
    {
     "data": {
      "text/plain": [
       "ratio_det (generic function with 1 method)"
      ]
     },
     "execution_count": 654,
     "metadata": {},
     "output_type": "execute_result"
    }
   ],
   "source": [
    "using LinearAlgebra\n",
    "U = eigvecs(H)  #unitary matrix\n",
    "Udag = inv(U)   #U^-1\n",
    "E = eigvals(H)  #eigenvalues of H\n",
    "\n",
    "function U1(A, Ne) #take the first Ne columns\n",
    "    U_1 = A[:,1:Ne]\n",
    "    return U_1\n",
    "end\n",
    "\n",
    "U_1 = U1(U,Ne)\n",
    "\n",
    "function U_tilde(A,v)                  #takes just the rows related to occupied states, Ne*Ne matrix\n",
    "    U_tild = []\n",
    "    U_tild = A[occupied_states(v),:]\n",
    "    return U_tild\n",
    "end\n",
    "\n",
    "function ratio_det(v, z)\n",
    "    rat= det(U_tilde(U_1,z))/det(U_tilde(U_1,v))\n",
    "    return rat\n",
    "end  \n"
   ]
  },
  {
   "cell_type": "code",
   "execution_count": 325,
   "metadata": {},
   "outputs": [
    {
     "data": {
      "text/plain": [
       "ratio_det (generic function with 1 method)"
      ]
     },
     "execution_count": 325,
     "metadata": {},
     "output_type": "execute_result"
    }
   ],
   "source": [
    "state = [1,1,0,0,0,1,0,0,0,0,0,0,0,0,0,0,0,1,0,1,0,0,0,1]      #initial state\n",
    "\n",
    "state_1 = [1,0,1,0,0,1,0,0,0,0,0,0,0,0,0,0,0,1,0,1,0,0,0,1]    #|x'>\n"
   ]
  },
  {
   "cell_type": "code",
   "execution_count": 354,
   "metadata": {},
   "outputs": [
    {
     "data": {
      "text/plain": [
       "n_i (generic function with 1 method)"
      ]
     },
     "execution_count": 354,
     "metadata": {},
     "output_type": "execute_result"
    }
   ],
   "source": [
    "function n_i(vi)           #counts the number of els in positions vi, returning (# up , # down)\n",
    "    \n",
    "    n_up = 0\n",
    "    n_down = 0\n",
    "    \n",
    "        if vi == 1\n",
    "            n_up += 1\n",
    "            \n",
    "        elseif vi == -1\n",
    "            n_down += 1\n",
    "                \n",
    "        elseif vi == 2\n",
    "            n_down += 1\n",
    "            n_up += 1\n",
    "                \n",
    "        end\n",
    "\n",
    "return n_up, n_down\n",
    "\n",
    "end\n"
   ]
  },
  {
   "cell_type": "code",
   "execution_count": 355,
   "metadata": {},
   "outputs": [
    {
     "data": {
      "text/plain": [
       "Jastrow (generic function with 1 method)"
      ]
     },
     "execution_count": 355,
     "metadata": {},
     "output_type": "execute_result"
    }
   ],
   "source": [
    "function Jastrow(state,g,v)\n",
    "            \n",
    "    D=length(state)       \n",
    "    \n",
    "    Spins=0\n",
    "    Occupancies=0        \n",
    "    n1 = n_i(state[D])[1] + n_i(state[D])[2]\n",
    "    n2 = 0\n",
    "    \n",
    "    for i = 1 : D\n",
    "                \n",
    "        n_up= n_i(state[i])[1]    \n",
    "        n_down = n_i(state[i])[2]\n",
    "                \n",
    "    Spins = Spins + n_up*n_down \n",
    "                \n",
    "    n2= n_up + n_down\n",
    "    n1n2 = n1*n2   \n",
    "    n1 = n2\n",
    "                \n",
    "    Occupancies = Occupancies + n1n2\n",
    "            \n",
    "        end\n",
    "    \n",
    "    arg=  -g*Spins -v*Occupancies\n",
    "            \n",
    "return exp(arg)\n",
    "\n",
    "end\n"
   ]
  },
  {
   "cell_type": "code",
   "execution_count": 356,
   "metadata": {},
   "outputs": [
    {
     "data": {
      "text/plain": [
       "nB (generic function with 1 method)"
      ]
     },
     "execution_count": 356,
     "metadata": {},
     "output_type": "execute_result"
    }
   ],
   "source": [
    "#This function calculates the density observable in the odd sites A\n",
    "function nA(v)\n",
    "    nA = 0\n",
    "    for j=1:length(v)\n",
    "        if j%2 != 0\n",
    "            nA += sum(n_i(v[j])) \n",
    "        end\n",
    "    end\n",
    "    return nA*2/length(v)\n",
    "end\n",
    "\n",
    "#This function calculates the density observable in the even sites B\n",
    "function nB(v)\n",
    "    nB = 0\n",
    "    for j=1:length(v)\n",
    "        if j%2 == 0\n",
    "            nB += sum(n_i(v[j])) \n",
    "        end\n",
    "    end\n",
    "    return nB*2/length(v)\n",
    "end"
   ]
  },
  {
   "cell_type": "code",
   "execution_count": 628,
   "metadata": {},
   "outputs": [],
   "source": [
    "import Random\n",
    "\n",
    "function MC(q0, g, v, nsteps = 1000)\n",
    "    Random.seed!(1234)\n",
    "    state_L = q0\n",
    "    sumA=0\n",
    "    sumB=0\n",
    "    accepted_moves = 0\n",
    "    \n",
    "    Suma_A = []\n",
    "    Suma_B = []\n",
    "    \n",
    "    for istep = 1:nsteps\n",
    "        state_2L = extendedstate(state_L)\n",
    "        state_new_L = move_L(state_L)\n",
    "        state_new_2L = extendedstate(state_new_L)\n",
    "        acc =  (ratio_det(state_2L,state_new_2L) * (Jastrow(state_new_L,g,v)/Jastrow(state_L,g,v)))^2       #acceptance \n",
    "        \n",
    "        acc = min(1,acc)\n",
    "        \n",
    "        if acc>rand()        #metropolis rule\n",
    "            \n",
    "            accepted_moves += 1\n",
    "            \n",
    "            n_newA= nA(state_new_L)\n",
    "            sumA+=n_newA\n",
    "            push!(Suma_A,sumA/accepted_moves)\n",
    "            #push!(Suma_A,n_newA)\n",
    "            \n",
    "            n_newB= nB(state_new_L)\n",
    "            sumB+=n_newB\n",
    "            push!(Suma_B,sumB/accepted_moves)\n",
    "            #push!(Suma_B,n_newB)\n",
    "            \n",
    "            state_L = copy(state_new_L)\n",
    "            #compute observables\n",
    "        end\n",
    "    end\n",
    "    return Suma_A,Suma_B, accepted_moves\n",
    "end \n",
    "\n",
    "MC_prova= MC(Lstate(20),10,2,1000);\n"
   ]
  },
  {
   "cell_type": "code",
   "execution_count": 440,
   "metadata": {},
   "outputs": [
    {
     "data": {
      "text/plain": [
       "(Any[0.5, 0.45, 0.4666666666666666, 0.475, 0.48, 0.5, 0.5, 0.4875, 0.48888888888888893, 0.49000000000000005  …  0.44642857142857134, 0.4456140350877192, 0.443103448275862, 0.4423728813559321, 0.44333333333333325, 0.44590163934426225, 0.4499999999999999, 0.4555555555555555, 0.4624999999999999, 0.47076923076923066], Any[0.5, 0.55, 0.5333333333333333, 0.525, 0.52, 0.5, 0.5, 0.5125, 0.5111111111111111, 0.51  …  0.5535714285714286, 0.5543859649122808, 0.556896551724138, 0.5576271186440679, 0.5566666666666668, 0.5540983606557378, 0.55, 0.5444444444444445, 0.5375000000000001, 0.5292307692307693], 65)"
      ]
     },
     "execution_count": 440,
     "metadata": {},
     "output_type": "execute_result"
    }
   ],
   "source": [
    "MC(Lstate(20), 10, 8, 1000)"
   ]
  },
  {
   "cell_type": "code",
   "execution_count": 574,
   "metadata": {},
   "outputs": [
    {
     "data": {
      "text/plain": [
       "Block (generic function with 1 method)"
      ]
     },
     "execution_count": 574,
     "metadata": {},
     "output_type": "execute_result"
    }
   ],
   "source": [
    "function Block(v, Ne)\n",
    "    \n",
    "    Average_Bin = []\n",
    "    \n",
    "    N=length(v)\n",
    "    \n",
    "    Lbin = Ne\n",
    "    \n",
    "    Nbin = N/Lbin\n",
    "    \n",
    "    a=0\n",
    "    b=0\n",
    "    \n",
    "    for i in 1:Nbin\n",
    "       \n",
    "    a = (i-1)*Lbin +1\n",
    "    b = i*Lbin\n",
    "        \n",
    "av_bin = (1/Int(abs(Lbin)))*(sum(v[Int64(a):Int64(b)]))\n",
    "        \n",
    "push!(Average_Bin,av_bin)\n",
    "        \n",
    "    end\n",
    "\n",
    "return sum(Average_Bin)/Nbin\n",
    "\n",
    "    \n",
    "end"
   ]
  },
  {
   "cell_type": "code",
   "execution_count": 578,
   "metadata": {},
   "outputs": [
    {
     "data": {
      "text/plain": [
       "0.12999999999999998"
      ]
     },
     "execution_count": 578,
     "metadata": {},
     "output_type": "execute_result"
    }
   ],
   "source": [
    "v = Lstate(200)\n",
    "\n",
    "Block(v, 20)\n",
    "\n"
   ]
  },
  {
   "cell_type": "code",
   "execution_count": 585,
   "metadata": {},
   "outputs": [
    {
     "data": {
      "text/plain": [
       "(0.38125000000000003, 0.45208333333333334)"
      ]
     },
     "execution_count": 585,
     "metadata": {},
     "output_type": "execute_result"
    }
   ],
   "source": [
    "import Random\n",
    "\n",
    "function MC_Ne(q0, g, v, Ne, nsteps = 1000)\n",
    "    \n",
    "    Random.seed!(1234)\n",
    "    state_L = q0\n",
    "    sumA=0\n",
    "    sumB=0\n",
    "    accepted_moves = 0\n",
    "    accepted_Ne = 0\n",
    "    \n",
    "    Suma_A = []\n",
    "    Suma_B = []\n",
    "    \n",
    "    \n",
    "    for istep = 1:nsteps\n",
    "        state_2L = extendedstate(state_L)\n",
    "        state_new_L = move_L(state_L)\n",
    "        state_new_2L = extendedstate(state_new_L)\n",
    "        acc =  (ratio_det(state_2L,state_new_2L) * (Jastrow(state_new_L,g,v)/Jastrow(state_L,g,v)))^2       #acceptance \n",
    "        \n",
    "        acc = min(1,acc)\n",
    "        \n",
    "        if acc>rand()        #metropolis rule\n",
    "            \n",
    "            accepted_moves += 1 \n",
    "            \n",
    "            n_newA= nA(state_new_L)\n",
    "            sumA+=n_newA\n",
    "            push!(Suma_A,n_newA)\n",
    "            \n",
    "            n_newB= nB(state_new_L)\n",
    "            sumB+=n_newB\n",
    "            push!(Suma_B,n_newB)\n",
    "            \n",
    "            state_L = copy(state_new_L)\n",
    "            #compute observables\n",
    "        \n",
    "            end\n",
    "    \n",
    "    end\n",
    "    \n",
    "    return Block(Suma_A, Ne), Block(Suma_B, Ne)\n",
    "\n",
    "end \n",
    "\n",
    "MC_prova= MC_Ne(Lstate(20),10,8,Ne,10000)\n"
   ]
  },
  {
   "cell_type": "code",
   "execution_count": 595,
   "metadata": {},
   "outputs": [
    {
     "data": {
      "image/svg+xml": [
       "<?xml version=\"1.0\" encoding=\"utf-8\"?>\n",
       "<svg xmlns=\"http://www.w3.org/2000/svg\" xmlns:xlink=\"http://www.w3.org/1999/xlink\" width=\"600\" height=\"400\" viewBox=\"0 0 2400 1600\">\n",
       "<defs>\n",
       "  <clipPath id=\"clip970\">\n",
       "    <rect x=\"0\" y=\"0\" width=\"2400\" height=\"1600\"/>\n",
       "  </clipPath>\n",
       "</defs>\n",
       "<path clip-path=\"url(#clip970)\" d=\"\n",
       "M0 1600 L2400 1600 L2400 0 L0 0  Z\n",
       "  \" fill=\"#ffffff\" fill-rule=\"evenodd\" fill-opacity=\"1\"/>\n",
       "<defs>\n",
       "  <clipPath id=\"clip971\">\n",
       "    <rect x=\"480\" y=\"0\" width=\"1681\" height=\"1600\"/>\n",
       "  </clipPath>\n",
       "</defs>\n",
       "<path clip-path=\"url(#clip970)\" d=\"\n",
       "M156.598 1486.45 L2352.76 1486.45 L2352.76 47.2441 L156.598 47.2441  Z\n",
       "  \" fill=\"#ffffff\" fill-rule=\"evenodd\" fill-opacity=\"1\"/>\n",
       "<defs>\n",
       "  <clipPath id=\"clip972\">\n",
       "    <rect x=\"156\" y=\"47\" width=\"2197\" height=\"1440\"/>\n",
       "  </clipPath>\n",
       "</defs>\n",
       "<polyline clip-path=\"url(#clip972)\" style=\"stroke:#000000; stroke-width:2; stroke-opacity:0.1; fill:none\" points=\"\n",
       "  218.754,1486.45 218.754,47.2441 \n",
       "  \"/>\n",
       "<polyline clip-path=\"url(#clip972)\" style=\"stroke:#000000; stroke-width:2; stroke-opacity:0.1; fill:none\" points=\"\n",
       "  564.061,1486.45 564.061,47.2441 \n",
       "  \"/>\n",
       "<polyline clip-path=\"url(#clip972)\" style=\"stroke:#000000; stroke-width:2; stroke-opacity:0.1; fill:none\" points=\"\n",
       "  909.369,1486.45 909.369,47.2441 \n",
       "  \"/>\n",
       "<polyline clip-path=\"url(#clip972)\" style=\"stroke:#000000; stroke-width:2; stroke-opacity:0.1; fill:none\" points=\"\n",
       "  1254.68,1486.45 1254.68,47.2441 \n",
       "  \"/>\n",
       "<polyline clip-path=\"url(#clip972)\" style=\"stroke:#000000; stroke-width:2; stroke-opacity:0.1; fill:none\" points=\"\n",
       "  1599.98,1486.45 1599.98,47.2441 \n",
       "  \"/>\n",
       "<polyline clip-path=\"url(#clip972)\" style=\"stroke:#000000; stroke-width:2; stroke-opacity:0.1; fill:none\" points=\"\n",
       "  1945.29,1486.45 1945.29,47.2441 \n",
       "  \"/>\n",
       "<polyline clip-path=\"url(#clip972)\" style=\"stroke:#000000; stroke-width:2; stroke-opacity:0.1; fill:none\" points=\"\n",
       "  2290.6,1486.45 2290.6,47.2441 \n",
       "  \"/>\n",
       "<polyline clip-path=\"url(#clip970)\" style=\"stroke:#000000; stroke-width:4; stroke-opacity:1; fill:none\" points=\"\n",
       "  156.598,1486.45 2352.76,1486.45 \n",
       "  \"/>\n",
       "<polyline clip-path=\"url(#clip970)\" style=\"stroke:#000000; stroke-width:4; stroke-opacity:1; fill:none\" points=\"\n",
       "  218.754,1486.45 218.754,1469.18 \n",
       "  \"/>\n",
       "<polyline clip-path=\"url(#clip970)\" style=\"stroke:#000000; stroke-width:4; stroke-opacity:1; fill:none\" points=\"\n",
       "  564.061,1486.45 564.061,1469.18 \n",
       "  \"/>\n",
       "<polyline clip-path=\"url(#clip970)\" style=\"stroke:#000000; stroke-width:4; stroke-opacity:1; fill:none\" points=\"\n",
       "  909.369,1486.45 909.369,1469.18 \n",
       "  \"/>\n",
       "<polyline clip-path=\"url(#clip970)\" style=\"stroke:#000000; stroke-width:4; stroke-opacity:1; fill:none\" points=\"\n",
       "  1254.68,1486.45 1254.68,1469.18 \n",
       "  \"/>\n",
       "<polyline clip-path=\"url(#clip970)\" style=\"stroke:#000000; stroke-width:4; stroke-opacity:1; fill:none\" points=\"\n",
       "  1599.98,1486.45 1599.98,1469.18 \n",
       "  \"/>\n",
       "<polyline clip-path=\"url(#clip970)\" style=\"stroke:#000000; stroke-width:4; stroke-opacity:1; fill:none\" points=\"\n",
       "  1945.29,1486.45 1945.29,1469.18 \n",
       "  \"/>\n",
       "<polyline clip-path=\"url(#clip970)\" style=\"stroke:#000000; stroke-width:4; stroke-opacity:1; fill:none\" points=\"\n",
       "  2290.6,1486.45 2290.6,1469.18 \n",
       "  \"/>\n",
       "<path clip-path=\"url(#clip970)\" d=\"M 0 0 M213.406 1543.18 L229.726 1543.18 L229.726 1547.12 L207.781 1547.12 L207.781 1543.18 Q210.443 1540.43 215.027 1535.8 Q219.633 1531.15 220.814 1529.81 Q223.059 1527.28 223.939 1525.55 Q224.842 1523.79 224.842 1522.1 Q224.842 1519.34 222.897 1517.61 Q220.976 1515.87 217.874 1515.87 Q215.675 1515.87 213.221 1516.63 Q210.791 1517.4 208.013 1518.95 L208.013 1514.23 Q210.837 1513.09 213.291 1512.51 Q215.744 1511.93 217.781 1511.93 Q223.152 1511.93 226.346 1514.62 Q229.541 1517.31 229.541 1521.8 Q229.541 1523.93 228.73 1525.85 Q227.943 1527.74 225.837 1530.34 Q225.258 1531.01 222.156 1534.23 Q219.055 1537.42 213.406 1543.18 Z\" fill=\"#000000\" fill-rule=\"evenodd\" fill-opacity=\"1\" /><path clip-path=\"url(#clip970)\" d=\"M 0 0 M568.309 1528.49 Q571.666 1529.2 573.541 1531.47 Q575.439 1533.74 575.439 1537.07 Q575.439 1542.19 571.92 1544.99 Q568.402 1547.79 561.92 1547.79 Q559.744 1547.79 557.43 1547.35 Q555.138 1546.93 552.684 1546.08 L552.684 1541.56 Q554.629 1542.7 556.943 1543.28 Q559.258 1543.86 561.781 1543.86 Q566.179 1543.86 568.471 1542.12 Q570.786 1540.38 570.786 1537.07 Q570.786 1534.02 568.633 1532.31 Q566.504 1530.57 562.684 1530.57 L558.656 1530.57 L558.656 1526.73 L562.869 1526.73 Q566.318 1526.73 568.147 1525.36 Q569.976 1523.97 569.976 1521.38 Q569.976 1518.72 568.078 1517.31 Q566.203 1515.87 562.684 1515.87 Q560.763 1515.87 558.564 1516.29 Q556.365 1516.7 553.726 1517.58 L553.726 1513.42 Q556.388 1512.68 558.703 1512.31 Q561.041 1511.93 563.101 1511.93 Q568.425 1511.93 571.527 1514.37 Q574.629 1516.77 574.629 1520.89 Q574.629 1523.76 572.985 1525.75 Q571.342 1527.72 568.309 1528.49 Z\" fill=\"#000000\" fill-rule=\"evenodd\" fill-opacity=\"1\" /><path clip-path=\"url(#clip970)\" d=\"M 0 0 M912.379 1516.63 L900.573 1535.08 L912.379 1535.08 L912.379 1516.63 M911.152 1512.56 L917.031 1512.56 L917.031 1535.08 L921.962 1535.08 L921.962 1538.97 L917.031 1538.97 L917.031 1547.12 L912.379 1547.12 L912.379 1538.97 L896.777 1538.97 L896.777 1534.46 L911.152 1512.56 Z\" fill=\"#000000\" fill-rule=\"evenodd\" fill-opacity=\"1\" /><path clip-path=\"url(#clip970)\" d=\"M 0 0 M1244.95 1512.56 L1263.31 1512.56 L1263.31 1516.5 L1249.24 1516.5 L1249.24 1524.97 Q1250.26 1524.62 1251.27 1524.46 Q1252.29 1524.27 1253.31 1524.27 Q1259.1 1524.27 1262.48 1527.44 Q1265.86 1530.62 1265.86 1536.03 Q1265.86 1541.61 1262.39 1544.71 Q1258.91 1547.79 1252.59 1547.79 Q1250.42 1547.79 1248.15 1547.42 Q1245.9 1547.05 1243.5 1546.31 L1243.5 1541.61 Q1245.58 1542.74 1247.8 1543.3 Q1250.02 1543.86 1252.5 1543.86 Q1256.51 1543.86 1258.84 1541.75 Q1261.18 1539.64 1261.18 1536.03 Q1261.18 1532.42 1258.84 1530.31 Q1256.51 1528.21 1252.5 1528.21 Q1250.63 1528.21 1248.75 1528.62 Q1246.9 1529.04 1244.95 1529.92 L1244.95 1512.56 Z\" fill=\"#000000\" fill-rule=\"evenodd\" fill-opacity=\"1\" /><path clip-path=\"url(#clip970)\" d=\"M 0 0 M1600.39 1527.98 Q1597.24 1527.98 1595.39 1530.13 Q1593.56 1532.28 1593.56 1536.03 Q1593.56 1539.76 1595.39 1541.93 Q1597.24 1544.09 1600.39 1544.09 Q1603.54 1544.09 1605.37 1541.93 Q1607.22 1539.76 1607.22 1536.03 Q1607.22 1532.28 1605.37 1530.13 Q1603.54 1527.98 1600.39 1527.98 M1609.67 1513.32 L1609.67 1517.58 Q1607.91 1516.75 1606.11 1516.31 Q1604.33 1515.87 1602.57 1515.87 Q1597.94 1515.87 1595.48 1519 Q1593.05 1522.12 1592.7 1528.44 Q1594.07 1526.43 1596.13 1525.36 Q1598.19 1524.27 1600.67 1524.27 Q1605.88 1524.27 1608.89 1527.44 Q1611.92 1530.59 1611.92 1536.03 Q1611.92 1541.36 1608.77 1544.57 Q1605.62 1547.79 1600.39 1547.79 Q1594.39 1547.79 1591.22 1543.21 Q1588.05 1538.6 1588.05 1529.87 Q1588.05 1521.68 1591.94 1516.82 Q1595.83 1511.93 1602.38 1511.93 Q1604.14 1511.93 1605.92 1512.28 Q1607.73 1512.63 1609.67 1513.32 Z\" fill=\"#000000\" fill-rule=\"evenodd\" fill-opacity=\"1\" /><path clip-path=\"url(#clip970)\" d=\"M 0 0 M1934.18 1512.56 L1956.4 1512.56 L1956.4 1514.55 L1943.86 1547.12 L1938.97 1547.12 L1950.78 1516.5 L1934.18 1516.5 L1934.18 1512.56 Z\" fill=\"#000000\" fill-rule=\"evenodd\" fill-opacity=\"1\" /><path clip-path=\"url(#clip970)\" d=\"M 0 0 M2290.6 1530.71 Q2287.27 1530.71 2285.35 1532.49 Q2283.45 1534.27 2283.45 1537.4 Q2283.45 1540.52 2285.35 1542.31 Q2287.27 1544.09 2290.6 1544.09 Q2293.93 1544.09 2295.86 1542.31 Q2297.78 1540.5 2297.78 1537.4 Q2297.78 1534.27 2295.86 1532.49 Q2293.96 1530.71 2290.6 1530.71 M2285.92 1528.72 Q2282.92 1527.98 2281.23 1525.92 Q2279.56 1523.86 2279.56 1520.89 Q2279.56 1516.75 2282.5 1514.34 Q2285.46 1511.93 2290.6 1511.93 Q2295.76 1511.93 2298.7 1514.34 Q2301.64 1516.75 2301.64 1520.89 Q2301.64 1523.86 2299.95 1525.92 Q2298.29 1527.98 2295.3 1528.72 Q2298.68 1529.5 2300.55 1531.8 Q2302.45 1534.09 2302.45 1537.4 Q2302.45 1542.42 2299.37 1545.11 Q2296.32 1547.79 2290.6 1547.79 Q2284.88 1547.79 2281.8 1545.11 Q2278.75 1542.42 2278.75 1537.4 Q2278.75 1534.09 2280.65 1531.8 Q2282.54 1529.5 2285.92 1528.72 M2284.21 1521.33 Q2284.21 1524.02 2285.88 1525.52 Q2287.57 1527.03 2290.6 1527.03 Q2293.61 1527.03 2295.3 1525.52 Q2297.01 1524.02 2297.01 1521.33 Q2297.01 1518.65 2295.3 1517.14 Q2293.61 1515.64 2290.6 1515.64 Q2287.57 1515.64 2285.88 1517.14 Q2284.21 1518.65 2284.21 1521.33 Z\" fill=\"#000000\" fill-rule=\"evenodd\" fill-opacity=\"1\" /><polyline clip-path=\"url(#clip972)\" style=\"stroke:#000000; stroke-width:2; stroke-opacity:0.1; fill:none\" points=\"\n",
       "  156.598,1327.9 2352.76,1327.9 \n",
       "  \"/>\n",
       "<polyline clip-path=\"url(#clip972)\" style=\"stroke:#000000; stroke-width:2; stroke-opacity:0.1; fill:none\" points=\"\n",
       "  156.598,1047.37 2352.76,1047.37 \n",
       "  \"/>\n",
       "<polyline clip-path=\"url(#clip972)\" style=\"stroke:#000000; stroke-width:2; stroke-opacity:0.1; fill:none\" points=\"\n",
       "  156.598,766.846 2352.76,766.846 \n",
       "  \"/>\n",
       "<polyline clip-path=\"url(#clip972)\" style=\"stroke:#000000; stroke-width:2; stroke-opacity:0.1; fill:none\" points=\"\n",
       "  156.598,486.321 2352.76,486.321 \n",
       "  \"/>\n",
       "<polyline clip-path=\"url(#clip972)\" style=\"stroke:#000000; stroke-width:2; stroke-opacity:0.1; fill:none\" points=\"\n",
       "  156.598,205.797 2352.76,205.797 \n",
       "  \"/>\n",
       "<polyline clip-path=\"url(#clip970)\" style=\"stroke:#000000; stroke-width:4; stroke-opacity:1; fill:none\" points=\"\n",
       "  156.598,1486.45 156.598,47.2441 \n",
       "  \"/>\n",
       "<polyline clip-path=\"url(#clip970)\" style=\"stroke:#000000; stroke-width:4; stroke-opacity:1; fill:none\" points=\"\n",
       "  156.598,1327.9 182.952,1327.9 \n",
       "  \"/>\n",
       "<polyline clip-path=\"url(#clip970)\" style=\"stroke:#000000; stroke-width:4; stroke-opacity:1; fill:none\" points=\"\n",
       "  156.598,1047.37 182.952,1047.37 \n",
       "  \"/>\n",
       "<polyline clip-path=\"url(#clip970)\" style=\"stroke:#000000; stroke-width:4; stroke-opacity:1; fill:none\" points=\"\n",
       "  156.598,766.846 182.952,766.846 \n",
       "  \"/>\n",
       "<polyline clip-path=\"url(#clip970)\" style=\"stroke:#000000; stroke-width:4; stroke-opacity:1; fill:none\" points=\"\n",
       "  156.598,486.321 182.952,486.321 \n",
       "  \"/>\n",
       "<polyline clip-path=\"url(#clip970)\" style=\"stroke:#000000; stroke-width:4; stroke-opacity:1; fill:none\" points=\"\n",
       "  156.598,205.797 182.952,205.797 \n",
       "  \"/>\n",
       "<path clip-path=\"url(#clip970)\" d=\"M 0 0 M64.0708 1313.69 Q60.4597 1313.69 58.631 1317.26 Q56.8254 1320.8 56.8254 1327.93 Q56.8254 1335.04 58.631 1338.6 Q60.4597 1342.14 64.0708 1342.14 Q67.705 1342.14 69.5105 1338.6 Q71.3392 1335.04 71.3392 1327.93 Q71.3392 1320.8 69.5105 1317.26 Q67.705 1313.69 64.0708 1313.69 M64.0708 1309.99 Q69.8809 1309.99 72.9365 1314.6 Q76.0151 1319.18 76.0151 1327.93 Q76.0151 1336.66 72.9365 1341.26 Q69.8809 1345.85 64.0708 1345.85 Q58.2606 1345.85 55.1819 1341.26 Q52.1264 1336.66 52.1264 1327.93 Q52.1264 1319.18 55.1819 1314.6 Q58.2606 1309.99 64.0708 1309.99 Z\" fill=\"#000000\" fill-rule=\"evenodd\" fill-opacity=\"1\" /><path clip-path=\"url(#clip970)\" d=\"M 0 0 M84.2327 1339.3 L89.1169 1339.3 L89.1169 1345.18 L84.2327 1345.18 L84.2327 1339.3 Z\" fill=\"#000000\" fill-rule=\"evenodd\" fill-opacity=\"1\" /><path clip-path=\"url(#clip970)\" d=\"M 0 0 M113.469 1326.54 Q116.825 1327.26 118.7 1329.53 Q120.598 1331.8 120.598 1335.13 Q120.598 1340.24 117.08 1343.05 Q113.561 1345.85 107.08 1345.85 Q104.904 1345.85 102.589 1345.41 Q100.297 1344.99 97.8437 1344.13 L97.8437 1339.62 Q99.7882 1340.75 102.103 1341.33 Q104.418 1341.91 106.941 1341.91 Q111.339 1341.91 113.631 1340.18 Q115.945 1338.44 115.945 1335.13 Q115.945 1332.07 113.793 1330.36 Q111.663 1328.62 107.844 1328.62 L103.816 1328.62 L103.816 1324.78 L108.029 1324.78 Q111.478 1324.78 113.307 1323.42 Q115.135 1322.03 115.135 1319.43 Q115.135 1316.77 113.237 1315.36 Q111.362 1313.93 107.844 1313.93 Q105.922 1313.93 103.723 1314.34 Q101.524 1314.76 98.8854 1315.64 L98.8854 1311.47 Q101.547 1310.73 103.862 1310.36 Q106.2 1309.99 108.26 1309.99 Q113.584 1309.99 116.686 1312.42 Q119.788 1314.83 119.788 1318.95 Q119.788 1321.82 118.145 1323.81 Q116.501 1325.78 113.469 1326.54 Z\" fill=\"#000000\" fill-rule=\"evenodd\" fill-opacity=\"1\" /><path clip-path=\"url(#clip970)\" d=\"M 0 0 M62.9365 1033.17 Q59.3254 1033.17 57.4967 1036.73 Q55.6912 1040.28 55.6912 1047.41 Q55.6912 1054.51 57.4967 1058.08 Q59.3254 1061.62 62.9365 1061.62 Q66.5707 1061.62 68.3763 1058.08 Q70.205 1054.51 70.205 1047.41 Q70.205 1040.28 68.3763 1036.73 Q66.5707 1033.17 62.9365 1033.17 M62.9365 1029.47 Q68.7467 1029.47 71.8022 1034.07 Q74.8809 1038.66 74.8809 1047.41 Q74.8809 1056.13 71.8022 1060.74 Q68.7467 1065.32 62.9365 1065.32 Q57.1264 1065.32 54.0477 1060.74 Q50.9921 1056.13 50.9921 1047.41 Q50.9921 1038.66 54.0477 1034.07 Q57.1264 1029.47 62.9365 1029.47 Z\" fill=\"#000000\" fill-rule=\"evenodd\" fill-opacity=\"1\" /><path clip-path=\"url(#clip970)\" d=\"M 0 0 M83.0984 1058.77 L87.9827 1058.77 L87.9827 1064.65 L83.0984 1064.65 L83.0984 1058.77 Z\" fill=\"#000000\" fill-rule=\"evenodd\" fill-opacity=\"1\" /><path clip-path=\"url(#clip970)\" d=\"M 0 0 M111.015 1034.16 L99.2095 1052.61 L111.015 1052.61 L111.015 1034.16 M109.788 1030.09 L115.668 1030.09 L115.668 1052.61 L120.598 1052.61 L120.598 1056.5 L115.668 1056.5 L115.668 1064.65 L111.015 1064.65 L111.015 1056.5 L95.4132 1056.5 L95.4132 1051.99 L109.788 1030.09 Z\" fill=\"#000000\" fill-rule=\"evenodd\" fill-opacity=\"1\" /><path clip-path=\"url(#clip970)\" d=\"M 0 0 M64.418 752.645 Q60.8069 752.645 58.9782 756.209 Q57.1726 759.751 57.1726 766.881 Q57.1726 773.987 58.9782 777.552 Q60.8069 781.094 64.418 781.094 Q68.0522 781.094 69.8578 777.552 Q71.6865 773.987 71.6865 766.881 Q71.6865 759.751 69.8578 756.209 Q68.0522 752.645 64.418 752.645 M64.418 748.941 Q70.2281 748.941 73.2837 753.547 Q76.3624 758.131 76.3624 766.881 Q76.3624 775.608 73.2837 780.214 Q70.2281 784.797 64.418 784.797 Q58.6078 784.797 55.5291 780.214 Q52.4736 775.608 52.4736 766.881 Q52.4736 758.131 55.5291 753.547 Q58.6078 748.941 64.418 748.941 Z\" fill=\"#000000\" fill-rule=\"evenodd\" fill-opacity=\"1\" /><path clip-path=\"url(#clip970)\" d=\"M 0 0 M84.5799 778.246 L89.4641 778.246 L89.4641 784.126 L84.5799 784.126 L84.5799 778.246 Z\" fill=\"#000000\" fill-rule=\"evenodd\" fill-opacity=\"1\" /><path clip-path=\"url(#clip970)\" d=\"M 0 0 M99.6956 749.566 L118.052 749.566 L118.052 753.501 L103.978 753.501 L103.978 761.973 Q104.996 761.626 106.015 761.464 Q107.033 761.279 108.052 761.279 Q113.839 761.279 117.219 764.45 Q120.598 767.621 120.598 773.038 Q120.598 778.617 117.126 781.719 Q113.654 784.797 107.334 784.797 Q105.159 784.797 102.89 784.427 Q100.645 784.057 98.2372 783.316 L98.2372 778.617 Q100.321 779.751 102.543 780.307 Q104.765 780.862 107.242 780.862 Q111.246 780.862 113.584 778.756 Q115.922 776.649 115.922 773.038 Q115.922 769.427 113.584 767.321 Q111.246 765.214 107.242 765.214 Q105.367 765.214 103.492 765.631 Q101.64 766.047 99.6956 766.927 L99.6956 749.566 Z\" fill=\"#000000\" fill-rule=\"evenodd\" fill-opacity=\"1\" /><path clip-path=\"url(#clip970)\" d=\"M 0 0 M63.2606 472.12 Q59.6495 472.12 57.8208 475.685 Q56.0152 479.226 56.0152 486.356 Q56.0152 493.462 57.8208 497.027 Q59.6495 500.569 63.2606 500.569 Q66.8948 500.569 68.7004 497.027 Q70.5291 493.462 70.5291 486.356 Q70.5291 479.226 68.7004 475.685 Q66.8948 472.12 63.2606 472.12 M63.2606 468.416 Q69.0707 468.416 72.1263 473.023 Q75.205 477.606 75.205 486.356 Q75.205 495.083 72.1263 499.689 Q69.0707 504.273 63.2606 504.273 Q57.4504 504.273 54.3717 499.689 Q51.3162 495.083 51.3162 486.356 Q51.3162 477.606 54.3717 473.023 Q57.4504 468.416 63.2606 468.416 Z\" fill=\"#000000\" fill-rule=\"evenodd\" fill-opacity=\"1\" /><path clip-path=\"url(#clip970)\" d=\"M 0 0 M83.4225 497.722 L88.3067 497.722 L88.3067 503.601 L83.4225 503.601 L83.4225 497.722 Z\" fill=\"#000000\" fill-rule=\"evenodd\" fill-opacity=\"1\" /><path clip-path=\"url(#clip970)\" d=\"M 0 0 M109.071 484.458 Q105.922 484.458 104.071 486.611 Q102.242 488.763 102.242 492.513 Q102.242 496.24 104.071 498.416 Q105.922 500.569 109.071 500.569 Q112.219 500.569 114.047 498.416 Q115.899 496.24 115.899 492.513 Q115.899 488.763 114.047 486.611 Q112.219 484.458 109.071 484.458 M118.353 469.805 L118.353 474.064 Q116.594 473.231 114.788 472.791 Q113.006 472.351 111.246 472.351 Q106.617 472.351 104.163 475.476 Q101.733 478.601 101.385 484.921 Q102.751 482.907 104.811 481.842 Q106.871 480.754 109.348 480.754 Q114.557 480.754 117.566 483.925 Q120.598 487.074 120.598 492.513 Q120.598 497.837 117.45 501.055 Q114.302 504.273 109.071 504.273 Q103.075 504.273 99.9039 499.689 Q96.7326 495.083 96.7326 486.356 Q96.7326 478.162 100.621 473.301 Q104.51 468.416 111.061 468.416 Q112.82 468.416 114.603 468.764 Q116.408 469.111 118.353 469.805 Z\" fill=\"#000000\" fill-rule=\"evenodd\" fill-opacity=\"1\" /><path clip-path=\"url(#clip970)\" d=\"M 0 0 M64.3254 191.595 Q60.7143 191.595 58.8856 195.16 Q57.0801 198.702 57.0801 205.831 Q57.0801 212.938 58.8856 216.503 Q60.7143 220.044 64.3254 220.044 Q67.9596 220.044 69.7652 216.503 Q71.5939 212.938 71.5939 205.831 Q71.5939 198.702 69.7652 195.16 Q67.9596 191.595 64.3254 191.595 M64.3254 187.892 Q70.1355 187.892 73.1911 192.498 Q76.2698 197.081 76.2698 205.831 Q76.2698 214.558 73.1911 219.165 Q70.1355 223.748 64.3254 223.748 Q58.5152 223.748 55.4365 219.165 Q52.381 214.558 52.381 205.831 Q52.381 197.081 55.4365 192.498 Q58.5152 187.892 64.3254 187.892 Z\" fill=\"#000000\" fill-rule=\"evenodd\" fill-opacity=\"1\" /><path clip-path=\"url(#clip970)\" d=\"M 0 0 M84.4873 217.197 L89.3715 217.197 L89.3715 223.077 L84.4873 223.077 L84.4873 217.197 Z\" fill=\"#000000\" fill-rule=\"evenodd\" fill-opacity=\"1\" /><path clip-path=\"url(#clip970)\" d=\"M 0 0 M98.3761 188.517 L120.598 188.517 L120.598 190.507 L108.052 223.077 L103.168 223.077 L114.973 192.452 L98.3761 192.452 L98.3761 188.517 Z\" fill=\"#000000\" fill-rule=\"evenodd\" fill-opacity=\"1\" /><polyline clip-path=\"url(#clip972)\" style=\"stroke:#009af9; stroke-width:4; stroke-opacity:1; fill:none\" points=\"\n",
       "  218.754,866.098 564.061,569.811 909.369,1407.02 1254.68,728.937 1599.98,1445.72 1945.29,1224.32 2290.6,766.846 \n",
       "  \"/>\n",
       "<polyline clip-path=\"url(#clip972)\" style=\"stroke:#e26f46; stroke-width:4; stroke-opacity:1; fill:none\" points=\"\n",
       "  218.754,680.682 564.061,986.145 909.369,774.039 1254.68,1335.48 1599.98,87.9763 1945.29,525.163 2290.6,1234.39 \n",
       "  \"/>\n",
       "<path clip-path=\"url(#clip970)\" d=\"\n",
       "M1983.1 276.658 L2279.55 276.658 L2279.55 95.2176 L1983.1 95.2176  Z\n",
       "  \" fill=\"#ffffff\" fill-rule=\"evenodd\" fill-opacity=\"1\"/>\n",
       "<polyline clip-path=\"url(#clip970)\" style=\"stroke:#000000; stroke-width:4; stroke-opacity:1; fill:none\" points=\"\n",
       "  1983.1,276.658 2279.55,276.658 2279.55,95.2176 1983.1,95.2176 1983.1,276.658 \n",
       "  \"/>\n",
       "<polyline clip-path=\"url(#clip970)\" style=\"stroke:#009af9; stroke-width:4; stroke-opacity:1; fill:none\" points=\"\n",
       "  2007.5,155.698 2153.92,155.698 \n",
       "  \"/>\n",
       "<path clip-path=\"url(#clip970)\" d=\"M 0 0 M2192.16 175.385 Q2190.35 180.015 2188.64 181.427 Q2186.93 182.839 2184.06 182.839 L2180.65 182.839 L2180.65 179.274 L2183.15 179.274 Q2184.91 179.274 2185.89 178.44 Q2186.86 177.607 2188.04 174.505 L2188.8 172.561 L2178.32 147.052 L2182.83 147.052 L2190.93 167.329 L2199.03 147.052 L2203.55 147.052 L2192.16 175.385 Z\" fill=\"#000000\" fill-rule=\"evenodd\" fill-opacity=\"1\" /><path clip-path=\"url(#clip970)\" d=\"M 0 0 M2210.84 169.042 L2218.48 169.042 L2218.48 142.677 L2210.17 144.343 L2210.17 140.084 L2218.43 138.418 L2223.11 138.418 L2223.11 169.042 L2230.75 169.042 L2230.75 172.978 L2210.84 172.978 L2210.84 169.042 Z\" fill=\"#000000\" fill-rule=\"evenodd\" fill-opacity=\"1\" /><polyline clip-path=\"url(#clip970)\" style=\"stroke:#e26f46; stroke-width:4; stroke-opacity:1; fill:none\" points=\"\n",
       "  2007.5,216.178 2153.92,216.178 \n",
       "  \"/>\n",
       "<path clip-path=\"url(#clip970)\" d=\"M 0 0 M2192.16 235.865 Q2190.35 240.495 2188.64 241.907 Q2186.93 243.319 2184.06 243.319 L2180.65 243.319 L2180.65 239.754 L2183.15 239.754 Q2184.91 239.754 2185.89 238.92 Q2186.86 238.087 2188.04 234.985 L2188.8 233.041 L2178.32 207.532 L2182.83 207.532 L2190.93 227.809 L2199.03 207.532 L2203.55 207.532 L2192.16 235.865 Z\" fill=\"#000000\" fill-rule=\"evenodd\" fill-opacity=\"1\" /><path clip-path=\"url(#clip970)\" d=\"M 0 0 M2214.06 229.522 L2230.38 229.522 L2230.38 233.458 L2208.43 233.458 L2208.43 229.522 Q2211.09 226.768 2215.68 222.138 Q2220.28 217.485 2221.46 216.143 Q2223.71 213.62 2224.59 211.884 Q2225.49 210.124 2225.49 208.435 Q2225.49 205.68 2223.55 203.944 Q2221.63 202.208 2218.52 202.208 Q2216.33 202.208 2213.87 202.972 Q2211.44 203.735 2208.66 205.286 L2208.66 200.564 Q2211.49 199.43 2213.94 198.851 Q2216.4 198.273 2218.43 198.273 Q2223.8 198.273 2227 200.958 Q2230.19 203.643 2230.19 208.134 Q2230.19 210.263 2229.38 212.185 Q2228.59 214.083 2226.49 216.675 Q2225.91 217.347 2222.81 220.564 Q2219.71 223.759 2214.06 229.522 Z\" fill=\"#000000\" fill-rule=\"evenodd\" fill-opacity=\"1\" /></svg>\n"
      ]
     },
     "execution_count": 595,
     "metadata": {},
     "output_type": "execute_result"
    }
   ],
   "source": [
    "using Plots\n",
    "\n",
    "yA = zeros(0)\n",
    "yB = zeros(0)\n",
    "\n",
    "for v=2:8\n",
    "    MC_prova = MC_Ne(Lstate(20), 10, v, Ne, 10000)\n",
    "    \n",
    "    append!(yA, MC_prova[1])\n",
    "    append!(yB, MC_prova[2])\n",
    "end\n",
    "\n",
    "plot(2:8,yA)\n",
    "plot!(2:8,yB)\n"
   ]
  },
  {
   "cell_type": "code",
   "execution_count": 599,
   "metadata": {},
   "outputs": [
    {
     "data": {
      "image/svg+xml": [
       "<?xml version=\"1.0\" encoding=\"utf-8\"?>\n",
       "<svg xmlns=\"http://www.w3.org/2000/svg\" xmlns:xlink=\"http://www.w3.org/1999/xlink\" width=\"600\" height=\"400\" viewBox=\"0 0 2400 1600\">\n",
       "<defs>\n",
       "  <clipPath id=\"clip130\">\n",
       "    <rect x=\"0\" y=\"0\" width=\"2400\" height=\"1600\"/>\n",
       "  </clipPath>\n",
       "</defs>\n",
       "<path clip-path=\"url(#clip130)\" d=\"\n",
       "M0 1600 L2400 1600 L2400 0 L0 0  Z\n",
       "  \" fill=\"#ffffff\" fill-rule=\"evenodd\" fill-opacity=\"1\"/>\n",
       "<defs>\n",
       "  <clipPath id=\"clip131\">\n",
       "    <rect x=\"480\" y=\"0\" width=\"1681\" height=\"1600\"/>\n",
       "  </clipPath>\n",
       "</defs>\n",
       "<path clip-path=\"url(#clip130)\" d=\"\n",
       "M156.598 1474.16 L2352.76 1474.16 L2352.76 47.2441 L156.598 47.2441  Z\n",
       "  \" fill=\"#ffffff\" fill-rule=\"evenodd\" fill-opacity=\"1\"/>\n",
       "<defs>\n",
       "  <clipPath id=\"clip132\">\n",
       "    <rect x=\"156\" y=\"47\" width=\"2197\" height=\"1428\"/>\n",
       "  </clipPath>\n",
       "</defs>\n",
       "<polyline clip-path=\"url(#clip132)\" style=\"stroke:#000000; stroke-width:2; stroke-opacity:0.1; fill:none\" points=\"\n",
       "  366.743,1474.16 366.743,47.2441 \n",
       "  \"/>\n",
       "<polyline clip-path=\"url(#clip132)\" style=\"stroke:#000000; stroke-width:2; stroke-opacity:0.1; fill:none\" points=\"\n",
       "  662.721,1474.16 662.721,47.2441 \n",
       "  \"/>\n",
       "<polyline clip-path=\"url(#clip132)\" style=\"stroke:#000000; stroke-width:2; stroke-opacity:0.1; fill:none\" points=\"\n",
       "  958.699,1474.16 958.699,47.2441 \n",
       "  \"/>\n",
       "<polyline clip-path=\"url(#clip132)\" style=\"stroke:#000000; stroke-width:2; stroke-opacity:0.1; fill:none\" points=\"\n",
       "  1254.68,1474.16 1254.68,47.2441 \n",
       "  \"/>\n",
       "<polyline clip-path=\"url(#clip132)\" style=\"stroke:#000000; stroke-width:2; stroke-opacity:0.1; fill:none\" points=\"\n",
       "  1550.66,1474.16 1550.66,47.2441 \n",
       "  \"/>\n",
       "<polyline clip-path=\"url(#clip132)\" style=\"stroke:#000000; stroke-width:2; stroke-opacity:0.1; fill:none\" points=\"\n",
       "  1846.63,1474.16 1846.63,47.2441 \n",
       "  \"/>\n",
       "<polyline clip-path=\"url(#clip132)\" style=\"stroke:#000000; stroke-width:2; stroke-opacity:0.1; fill:none\" points=\"\n",
       "  2142.61,1474.16 2142.61,47.2441 \n",
       "  \"/>\n",
       "<polyline clip-path=\"url(#clip130)\" style=\"stroke:#000000; stroke-width:4; stroke-opacity:1; fill:none\" points=\"\n",
       "  156.598,1474.16 2352.76,1474.16 \n",
       "  \"/>\n",
       "<polyline clip-path=\"url(#clip130)\" style=\"stroke:#000000; stroke-width:4; stroke-opacity:1; fill:none\" points=\"\n",
       "  366.743,1474.16 366.743,1457.04 \n",
       "  \"/>\n",
       "<polyline clip-path=\"url(#clip130)\" style=\"stroke:#000000; stroke-width:4; stroke-opacity:1; fill:none\" points=\"\n",
       "  662.721,1474.16 662.721,1457.04 \n",
       "  \"/>\n",
       "<polyline clip-path=\"url(#clip130)\" style=\"stroke:#000000; stroke-width:4; stroke-opacity:1; fill:none\" points=\"\n",
       "  958.699,1474.16 958.699,1457.04 \n",
       "  \"/>\n",
       "<polyline clip-path=\"url(#clip130)\" style=\"stroke:#000000; stroke-width:4; stroke-opacity:1; fill:none\" points=\"\n",
       "  1254.68,1474.16 1254.68,1457.04 \n",
       "  \"/>\n",
       "<polyline clip-path=\"url(#clip130)\" style=\"stroke:#000000; stroke-width:4; stroke-opacity:1; fill:none\" points=\"\n",
       "  1550.66,1474.16 1550.66,1457.04 \n",
       "  \"/>\n",
       "<polyline clip-path=\"url(#clip130)\" style=\"stroke:#000000; stroke-width:4; stroke-opacity:1; fill:none\" points=\"\n",
       "  1846.63,1474.16 1846.63,1457.04 \n",
       "  \"/>\n",
       "<polyline clip-path=\"url(#clip130)\" style=\"stroke:#000000; stroke-width:4; stroke-opacity:1; fill:none\" points=\"\n",
       "  2142.61,1474.16 2142.61,1457.04 \n",
       "  \"/>\n",
       "<path clip-path=\"url(#clip130)\" d=\"M 0 0 M263.633 1552.44 L279.953 1552.44 L279.953 1556.37 L258.008 1556.37 L258.008 1552.44 Q260.67 1549.68 265.254 1545.05 Q269.86 1540.4 271.041 1539.06 Q273.286 1536.53 274.166 1534.8 Q275.069 1533.04 275.069 1531.35 Q275.069 1528.59 273.124 1526.86 Q271.203 1525.12 268.101 1525.12 Q265.902 1525.12 263.448 1525.89 Q261.018 1526.65 258.24 1528.2 L258.24 1523.48 Q261.064 1522.34 263.518 1521.77 Q265.971 1521.19 268.008 1521.19 Q273.379 1521.19 276.573 1523.87 Q279.768 1526.56 279.768 1531.05 Q279.768 1533.18 278.957 1535.1 Q278.17 1537 276.064 1539.59 Q275.485 1540.26 272.383 1543.48 Q269.282 1546.67 263.633 1552.44 Z\" fill=\"#000000\" fill-rule=\"evenodd\" fill-opacity=\"1\" /><path clip-path=\"url(#clip130)\" d=\"M 0 0 M289.768 1550.49 L294.652 1550.49 L294.652 1556.37 L289.768 1556.37 L289.768 1550.49 Z\" fill=\"#000000\" fill-rule=\"evenodd\" fill-opacity=\"1\" /><path clip-path=\"url(#clip130)\" d=\"M 0 0 M314.837 1524.89 Q311.226 1524.89 309.397 1528.46 Q307.592 1532 307.592 1539.13 Q307.592 1546.23 309.397 1549.8 Q311.226 1553.34 314.837 1553.34 Q318.471 1553.34 320.277 1549.8 Q322.105 1546.23 322.105 1539.13 Q322.105 1532 320.277 1528.46 Q318.471 1524.89 314.837 1524.89 M314.837 1521.19 Q320.647 1521.19 323.703 1525.79 Q326.781 1530.38 326.781 1539.13 Q326.781 1547.85 323.703 1552.46 Q320.647 1557.04 314.837 1557.04 Q309.027 1557.04 305.948 1552.46 Q302.892 1547.85 302.892 1539.13 Q302.892 1530.38 305.948 1525.79 Q309.027 1521.19 314.837 1521.19 Z\" fill=\"#000000\" fill-rule=\"evenodd\" fill-opacity=\"1\" /><path clip-path=\"url(#clip130)\" d=\"M 0 0 M344.999 1524.89 Q341.388 1524.89 339.559 1528.46 Q337.753 1532 337.753 1539.13 Q337.753 1546.23 339.559 1549.8 Q341.388 1553.34 344.999 1553.34 Q348.633 1553.34 350.439 1549.8 Q352.267 1546.23 352.267 1539.13 Q352.267 1532 350.439 1528.46 Q348.633 1524.89 344.999 1524.89 M344.999 1521.19 Q350.809 1521.19 353.864 1525.79 Q356.943 1530.38 356.943 1539.13 Q356.943 1547.85 353.864 1552.46 Q350.809 1557.04 344.999 1557.04 Q339.189 1557.04 336.11 1552.46 Q333.054 1547.85 333.054 1539.13 Q333.054 1530.38 336.11 1525.79 Q339.189 1521.19 344.999 1521.19 Z\" fill=\"#000000\" fill-rule=\"evenodd\" fill-opacity=\"1\" /><path clip-path=\"url(#clip130)\" d=\"M 0 0 M393.332 1530.91 L382.753 1541.53 L393.332 1552.11 L390.577 1554.91 L379.952 1544.29 L369.327 1554.91 L366.596 1552.11 L377.151 1541.53 L366.596 1530.91 L369.327 1528.11 L379.952 1538.73 L390.577 1528.11 L393.332 1530.91 Z\" fill=\"#000000\" fill-rule=\"evenodd\" fill-opacity=\"1\" /><path clip-path=\"url(#clip130)\" d=\"M 0 0 M405.693 1552.44 L413.332 1552.44 L413.332 1526.07 L405.022 1527.74 L405.022 1523.48 L413.285 1521.81 L417.961 1521.81 L417.961 1552.44 L425.6 1552.44 L425.6 1556.37 L405.693 1556.37 L405.693 1552.44 Z\" fill=\"#000000\" fill-rule=\"evenodd\" fill-opacity=\"1\" /><path clip-path=\"url(#clip130)\" d=\"M 0 0 M445.045 1524.89 Q441.433 1524.89 439.605 1528.46 Q437.799 1532 437.799 1539.13 Q437.799 1546.23 439.605 1549.8 Q441.433 1553.34 445.045 1553.34 Q448.679 1553.34 450.484 1549.8 Q452.313 1546.23 452.313 1539.13 Q452.313 1532 450.484 1528.46 Q448.679 1524.89 445.045 1524.89 M445.045 1521.19 Q450.855 1521.19 453.91 1525.79 Q456.989 1530.38 456.989 1539.13 Q456.989 1547.85 453.91 1552.46 Q450.855 1557.04 445.045 1557.04 Q439.234 1557.04 436.156 1552.46 Q433.1 1547.85 433.1 1539.13 Q433.1 1530.38 436.156 1525.79 Q439.234 1521.19 445.045 1521.19 Z\" fill=\"#000000\" fill-rule=\"evenodd\" fill-opacity=\"1\" /><path clip-path=\"url(#clip130)\" d=\"M 0 0 M469.684 1513.82 Q472.411 1514.4 473.935 1516.25 Q475.477 1518.09 475.477 1520.8 Q475.477 1524.96 472.618 1527.23 Q469.759 1529.51 464.493 1529.51 Q462.725 1529.51 460.844 1529.15 Q458.983 1528.81 456.989 1528.12 L456.989 1524.45 Q458.569 1525.37 460.45 1525.84 Q462.33 1526.31 464.38 1526.31 Q467.954 1526.31 469.816 1524.9 Q471.697 1523.49 471.697 1520.8 Q471.697 1518.32 469.947 1516.92 Q468.217 1515.51 465.114 1515.51 L461.841 1515.51 L461.841 1512.39 L465.264 1512.39 Q468.067 1512.39 469.552 1511.28 Q471.038 1510.15 471.038 1508.05 Q471.038 1505.88 469.496 1504.74 Q467.973 1503.57 465.114 1503.57 Q463.553 1503.57 461.766 1503.91 Q459.979 1504.25 457.835 1504.96 L457.835 1501.58 Q459.998 1500.98 461.879 1500.67 Q463.778 1500.37 465.452 1500.37 Q469.778 1500.37 472.298 1502.35 Q474.819 1504.3 474.819 1507.65 Q474.819 1509.98 473.483 1511.6 Q472.148 1513.2 469.684 1513.82 Z\" fill=\"#000000\" fill-rule=\"evenodd\" fill-opacity=\"1\" /><path clip-path=\"url(#clip130)\" d=\"M 0 0 M569.01 1525.89 L557.204 1544.33 L569.01 1544.33 L569.01 1525.89 M567.783 1521.81 L573.662 1521.81 L573.662 1544.33 L578.593 1544.33 L578.593 1548.22 L573.662 1548.22 L573.662 1556.37 L569.01 1556.37 L569.01 1548.22 L553.408 1548.22 L553.408 1543.71 L567.783 1521.81 Z\" fill=\"#000000\" fill-rule=\"evenodd\" fill-opacity=\"1\" /><path clip-path=\"url(#clip130)\" d=\"M 0 0 M586.324 1550.49 L591.209 1550.49 L591.209 1556.37 L586.324 1556.37 L586.324 1550.49 Z\" fill=\"#000000\" fill-rule=\"evenodd\" fill-opacity=\"1\" /><path clip-path=\"url(#clip130)\" d=\"M 0 0 M611.394 1524.89 Q607.783 1524.89 605.954 1528.46 Q604.148 1532 604.148 1539.13 Q604.148 1546.23 605.954 1549.8 Q607.783 1553.34 611.394 1553.34 Q615.028 1553.34 616.833 1549.8 Q618.662 1546.23 618.662 1539.13 Q618.662 1532 616.833 1528.46 Q615.028 1524.89 611.394 1524.89 M611.394 1521.19 Q617.204 1521.19 620.259 1525.79 Q623.338 1530.38 623.338 1539.13 Q623.338 1547.85 620.259 1552.46 Q617.204 1557.04 611.394 1557.04 Q605.584 1557.04 602.505 1552.46 Q599.449 1547.85 599.449 1539.13 Q599.449 1530.38 602.505 1525.79 Q605.584 1521.19 611.394 1521.19 Z\" fill=\"#000000\" fill-rule=\"evenodd\" fill-opacity=\"1\" /><path clip-path=\"url(#clip130)\" d=\"M 0 0 M641.556 1524.89 Q637.944 1524.89 636.116 1528.46 Q634.31 1532 634.31 1539.13 Q634.31 1546.23 636.116 1549.8 Q637.944 1553.34 641.556 1553.34 Q645.19 1553.34 646.995 1549.8 Q648.824 1546.23 648.824 1539.13 Q648.824 1532 646.995 1528.46 Q645.19 1524.89 641.556 1524.89 M641.556 1521.19 Q647.366 1521.19 650.421 1525.79 Q653.5 1530.38 653.5 1539.13 Q653.5 1547.85 650.421 1552.46 Q647.366 1557.04 641.556 1557.04 Q635.745 1557.04 632.667 1552.46 Q629.611 1547.85 629.611 1539.13 Q629.611 1530.38 632.667 1525.79 Q635.745 1521.19 641.556 1521.19 Z\" fill=\"#000000\" fill-rule=\"evenodd\" fill-opacity=\"1\" /><path clip-path=\"url(#clip130)\" d=\"M 0 0 M689.889 1530.91 L679.31 1541.53 L689.889 1552.11 L687.134 1554.91 L676.509 1544.29 L665.884 1554.91 L663.153 1552.11 L673.708 1541.53 L663.153 1530.91 L665.884 1528.11 L676.509 1538.73 L687.134 1528.11 L689.889 1530.91 Z\" fill=\"#000000\" fill-rule=\"evenodd\" fill-opacity=\"1\" /><path clip-path=\"url(#clip130)\" d=\"M 0 0 M702.25 1552.44 L709.889 1552.44 L709.889 1526.07 L701.578 1527.74 L701.578 1523.48 L709.842 1521.81 L714.518 1521.81 L714.518 1552.44 L722.157 1552.44 L722.157 1556.37 L702.25 1556.37 L702.25 1552.44 Z\" fill=\"#000000\" fill-rule=\"evenodd\" fill-opacity=\"1\" /><path clip-path=\"url(#clip130)\" d=\"M 0 0 M741.601 1524.89 Q737.99 1524.89 736.162 1528.46 Q734.356 1532 734.356 1539.13 Q734.356 1546.23 736.162 1549.8 Q737.99 1553.34 741.601 1553.34 Q745.236 1553.34 747.041 1549.8 Q748.87 1546.23 748.87 1539.13 Q748.87 1532 747.041 1528.46 Q745.236 1524.89 741.601 1524.89 M741.601 1521.19 Q747.411 1521.19 750.467 1525.79 Q753.546 1530.38 753.546 1539.13 Q753.546 1547.85 750.467 1552.46 Q747.411 1557.04 741.601 1557.04 Q735.791 1557.04 732.712 1552.46 Q729.657 1547.85 729.657 1539.13 Q729.657 1530.38 732.712 1525.79 Q735.791 1521.19 741.601 1521.19 Z\" fill=\"#000000\" fill-rule=\"evenodd\" fill-opacity=\"1\" /><path clip-path=\"url(#clip130)\" d=\"M 0 0 M766.241 1513.82 Q768.968 1514.4 770.492 1516.25 Q772.034 1518.09 772.034 1520.8 Q772.034 1524.96 769.175 1527.23 Q766.316 1529.51 761.05 1529.51 Q759.282 1529.51 757.401 1529.15 Q755.539 1528.81 753.546 1528.12 L753.546 1524.45 Q755.126 1525.37 757.006 1525.84 Q758.887 1526.31 760.937 1526.31 Q764.511 1526.31 766.373 1524.9 Q768.253 1523.49 768.253 1520.8 Q768.253 1518.32 766.504 1516.92 Q764.774 1515.51 761.671 1515.51 L758.398 1515.51 L758.398 1512.39 L761.821 1512.39 Q764.623 1512.39 766.109 1511.28 Q767.595 1510.15 767.595 1508.05 Q767.595 1505.88 766.053 1504.74 Q764.529 1503.57 761.671 1503.57 Q760.11 1503.57 758.323 1503.91 Q756.536 1504.25 754.392 1504.96 L754.392 1501.58 Q756.555 1500.98 758.436 1500.67 Q760.335 1500.37 762.009 1500.37 Q766.335 1500.37 768.855 1502.35 Q771.375 1504.3 771.375 1507.65 Q771.375 1509.98 770.04 1511.6 Q768.705 1513.2 766.241 1513.82 Z\" fill=\"#000000\" fill-rule=\"evenodd\" fill-opacity=\"1\" /><path clip-path=\"url(#clip130)\" d=\"M 0 0 M862.222 1537.23 Q859.073 1537.23 857.222 1539.38 Q855.393 1541.53 855.393 1545.28 Q855.393 1549.01 857.222 1551.19 Q859.073 1553.34 862.222 1553.34 Q865.37 1553.34 867.198 1551.19 Q869.05 1549.01 869.05 1545.28 Q869.05 1541.53 867.198 1539.38 Q865.37 1537.23 862.222 1537.23 M871.504 1522.58 L871.504 1526.83 Q869.745 1526 867.939 1525.56 Q866.157 1525.12 864.398 1525.12 Q859.768 1525.12 857.314 1528.25 Q854.884 1531.37 854.536 1537.69 Q855.902 1535.68 857.962 1534.61 Q860.023 1533.52 862.499 1533.52 Q867.708 1533.52 870.717 1536.7 Q873.749 1539.84 873.749 1545.28 Q873.749 1550.61 870.601 1553.83 Q867.453 1557.04 862.222 1557.04 Q856.226 1557.04 853.055 1552.46 Q849.884 1547.85 849.884 1539.13 Q849.884 1530.93 853.773 1526.07 Q857.661 1521.19 864.212 1521.19 Q865.972 1521.19 867.754 1521.53 Q869.56 1521.88 871.504 1522.58 Z\" fill=\"#000000\" fill-rule=\"evenodd\" fill-opacity=\"1\" /><path clip-path=\"url(#clip130)\" d=\"M 0 0 M881.805 1550.49 L886.689 1550.49 L886.689 1556.37 L881.805 1556.37 L881.805 1550.49 Z\" fill=\"#000000\" fill-rule=\"evenodd\" fill-opacity=\"1\" /><path clip-path=\"url(#clip130)\" d=\"M 0 0 M906.874 1524.89 Q903.263 1524.89 901.434 1528.46 Q899.629 1532 899.629 1539.13 Q899.629 1546.23 901.434 1549.8 Q903.263 1553.34 906.874 1553.34 Q910.508 1553.34 912.314 1549.8 Q914.143 1546.23 914.143 1539.13 Q914.143 1532 912.314 1528.46 Q910.508 1524.89 906.874 1524.89 M906.874 1521.19 Q912.684 1521.19 915.74 1525.79 Q918.819 1530.38 918.819 1539.13 Q918.819 1547.85 915.74 1552.46 Q912.684 1557.04 906.874 1557.04 Q901.064 1557.04 897.985 1552.46 Q894.93 1547.85 894.93 1539.13 Q894.93 1530.38 897.985 1525.79 Q901.064 1521.19 906.874 1521.19 Z\" fill=\"#000000\" fill-rule=\"evenodd\" fill-opacity=\"1\" /><path clip-path=\"url(#clip130)\" d=\"M 0 0 M937.036 1524.89 Q933.425 1524.89 931.596 1528.46 Q929.791 1532 929.791 1539.13 Q929.791 1546.23 931.596 1549.8 Q933.425 1553.34 937.036 1553.34 Q940.67 1553.34 942.476 1549.8 Q944.304 1546.23 944.304 1539.13 Q944.304 1532 942.476 1528.46 Q940.67 1524.89 937.036 1524.89 M937.036 1521.19 Q942.846 1521.19 945.902 1525.79 Q948.98 1530.38 948.98 1539.13 Q948.98 1547.85 945.902 1552.46 Q942.846 1557.04 937.036 1557.04 Q931.226 1557.04 928.147 1552.46 Q925.092 1547.85 925.092 1539.13 Q925.092 1530.38 928.147 1525.79 Q931.226 1521.19 937.036 1521.19 Z\" fill=\"#000000\" fill-rule=\"evenodd\" fill-opacity=\"1\" /><path clip-path=\"url(#clip130)\" d=\"M 0 0 M985.369 1530.91 L974.79 1541.53 L985.369 1552.11 L982.614 1554.91 L971.99 1544.29 L961.365 1554.91 L958.633 1552.11 L969.189 1541.53 L958.633 1530.91 L961.365 1528.11 L971.99 1538.73 L982.614 1528.11 L985.369 1530.91 Z\" fill=\"#000000\" fill-rule=\"evenodd\" fill-opacity=\"1\" /><path clip-path=\"url(#clip130)\" d=\"M 0 0 M997.73 1552.44 L1005.37 1552.44 L1005.37 1526.07 L997.059 1527.74 L997.059 1523.48 L1005.32 1521.81 L1010 1521.81 L1010 1552.44 L1017.64 1552.44 L1017.64 1556.37 L997.73 1556.37 L997.73 1552.44 Z\" fill=\"#000000\" fill-rule=\"evenodd\" fill-opacity=\"1\" /><path clip-path=\"url(#clip130)\" d=\"M 0 0 M1037.08 1524.89 Q1033.47 1524.89 1031.64 1528.46 Q1029.84 1532 1029.84 1539.13 Q1029.84 1546.23 1031.64 1549.8 Q1033.47 1553.34 1037.08 1553.34 Q1040.72 1553.34 1042.52 1549.8 Q1044.35 1546.23 1044.35 1539.13 Q1044.35 1532 1042.52 1528.46 Q1040.72 1524.89 1037.08 1524.89 M1037.08 1521.19 Q1042.89 1521.19 1045.95 1525.79 Q1049.03 1530.38 1049.03 1539.13 Q1049.03 1547.85 1045.95 1552.46 Q1042.89 1557.04 1037.08 1557.04 Q1031.27 1557.04 1028.19 1552.46 Q1025.14 1547.85 1025.14 1539.13 Q1025.14 1530.38 1028.19 1525.79 Q1031.27 1521.19 1037.08 1521.19 Z\" fill=\"#000000\" fill-rule=\"evenodd\" fill-opacity=\"1\" /><path clip-path=\"url(#clip130)\" d=\"M 0 0 M1061.72 1513.82 Q1064.45 1514.4 1065.97 1516.25 Q1067.51 1518.09 1067.51 1520.8 Q1067.51 1524.96 1064.66 1527.23 Q1061.8 1529.51 1056.53 1529.51 Q1054.76 1529.51 1052.88 1529.15 Q1051.02 1528.81 1049.03 1528.12 L1049.03 1524.45 Q1050.61 1525.37 1052.49 1525.84 Q1054.37 1526.31 1056.42 1526.31 Q1059.99 1526.31 1061.85 1524.9 Q1063.73 1523.49 1063.73 1520.8 Q1063.73 1518.32 1061.98 1516.92 Q1060.25 1515.51 1057.15 1515.51 L1053.88 1515.51 L1053.88 1512.39 L1057.3 1512.39 Q1060.1 1512.39 1061.59 1511.28 Q1063.08 1510.15 1063.08 1508.05 Q1063.08 1505.88 1061.53 1504.74 Q1060.01 1503.57 1057.15 1503.57 Q1055.59 1503.57 1053.8 1503.91 Q1052.02 1504.25 1049.87 1504.96 L1049.87 1501.58 Q1052.04 1500.98 1053.92 1500.67 Q1055.82 1500.37 1057.49 1500.37 Q1061.82 1500.37 1064.34 1502.35 Q1066.86 1504.3 1066.86 1507.65 Q1066.86 1509.98 1065.52 1511.6 Q1064.19 1513.2 1061.72 1513.82 Z\" fill=\"#000000\" fill-rule=\"evenodd\" fill-opacity=\"1\" /><path clip-path=\"url(#clip130)\" d=\"M 0 0 M1157.67 1539.96 Q1154.33 1539.96 1152.41 1541.74 Q1150.51 1543.52 1150.51 1546.65 Q1150.51 1549.77 1152.41 1551.56 Q1154.33 1553.34 1157.67 1553.34 Q1161 1553.34 1162.92 1551.56 Q1164.84 1549.75 1164.84 1546.65 Q1164.84 1543.52 1162.92 1541.74 Q1161.02 1539.96 1157.67 1539.96 M1152.99 1537.97 Q1149.98 1537.23 1148.29 1535.17 Q1146.63 1533.11 1146.63 1530.15 Q1146.63 1526 1149.57 1523.59 Q1152.53 1521.19 1157.67 1521.19 Q1162.83 1521.19 1165.77 1523.59 Q1168.71 1526 1168.71 1530.15 Q1168.71 1533.11 1167.02 1535.17 Q1165.35 1537.23 1162.37 1537.97 Q1165.75 1538.76 1167.62 1541.05 Q1169.52 1543.34 1169.52 1546.65 Q1169.52 1551.67 1166.44 1554.36 Q1163.38 1557.04 1157.67 1557.04 Q1151.95 1557.04 1148.87 1554.36 Q1145.82 1551.67 1145.82 1546.65 Q1145.82 1543.34 1147.71 1541.05 Q1149.61 1538.76 1152.99 1537.97 M1151.28 1530.58 Q1151.28 1533.27 1152.95 1534.77 Q1154.63 1536.28 1157.67 1536.28 Q1160.68 1536.28 1162.37 1534.77 Q1164.08 1533.27 1164.08 1530.58 Q1164.08 1527.9 1162.37 1526.4 Q1160.68 1524.89 1157.67 1524.89 Q1154.63 1524.89 1152.95 1526.4 Q1151.28 1527.9 1151.28 1530.58 Z\" fill=\"#000000\" fill-rule=\"evenodd\" fill-opacity=\"1\" /><path clip-path=\"url(#clip130)\" d=\"M 0 0 M1177.83 1550.49 L1182.71 1550.49 L1182.71 1556.37 L1177.83 1556.37 L1177.83 1550.49 Z\" fill=\"#000000\" fill-rule=\"evenodd\" fill-opacity=\"1\" /><path clip-path=\"url(#clip130)\" d=\"M 0 0 M1202.9 1524.89 Q1199.29 1524.89 1197.46 1528.46 Q1195.65 1532 1195.65 1539.13 Q1195.65 1546.23 1197.46 1549.8 Q1199.29 1553.34 1202.9 1553.34 Q1206.53 1553.34 1208.34 1549.8 Q1210.17 1546.23 1210.17 1539.13 Q1210.17 1532 1208.34 1528.46 Q1206.53 1524.89 1202.9 1524.89 M1202.9 1521.19 Q1208.71 1521.19 1211.76 1525.79 Q1214.84 1530.38 1214.84 1539.13 Q1214.84 1547.85 1211.76 1552.46 Q1208.71 1557.04 1202.9 1557.04 Q1197.09 1557.04 1194.01 1552.46 Q1190.95 1547.85 1190.95 1539.13 Q1190.95 1530.38 1194.01 1525.79 Q1197.09 1521.19 1202.9 1521.19 Z\" fill=\"#000000\" fill-rule=\"evenodd\" fill-opacity=\"1\" /><path clip-path=\"url(#clip130)\" d=\"M 0 0 M1233.06 1524.89 Q1229.45 1524.89 1227.62 1528.46 Q1225.82 1532 1225.82 1539.13 Q1225.82 1546.23 1227.62 1549.8 Q1229.45 1553.34 1233.06 1553.34 Q1236.69 1553.34 1238.5 1549.8 Q1240.33 1546.23 1240.33 1539.13 Q1240.33 1532 1238.5 1528.46 Q1236.69 1524.89 1233.06 1524.89 M1233.06 1521.19 Q1238.87 1521.19 1241.93 1525.79 Q1245 1530.38 1245 1539.13 Q1245 1547.85 1241.93 1552.46 Q1238.87 1557.04 1233.06 1557.04 Q1227.25 1557.04 1224.17 1552.46 Q1221.12 1547.85 1221.12 1539.13 Q1221.12 1530.38 1224.17 1525.79 Q1227.25 1521.19 1233.06 1521.19 Z\" fill=\"#000000\" fill-rule=\"evenodd\" fill-opacity=\"1\" /><path clip-path=\"url(#clip130)\" d=\"M 0 0 M1281.39 1530.91 L1270.81 1541.53 L1281.39 1552.11 L1278.64 1554.91 L1268.01 1544.29 L1257.39 1554.91 L1254.66 1552.11 L1265.21 1541.53 L1254.66 1530.91 L1257.39 1528.11 L1268.01 1538.73 L1278.64 1528.11 L1281.39 1530.91 Z\" fill=\"#000000\" fill-rule=\"evenodd\" fill-opacity=\"1\" /><path clip-path=\"url(#clip130)\" d=\"M 0 0 M1293.75 1552.44 L1301.39 1552.44 L1301.39 1526.07 L1293.08 1527.74 L1293.08 1523.48 L1301.35 1521.81 L1306.02 1521.81 L1306.02 1552.44 L1313.66 1552.44 L1313.66 1556.37 L1293.75 1556.37 L1293.75 1552.44 Z\" fill=\"#000000\" fill-rule=\"evenodd\" fill-opacity=\"1\" /><path clip-path=\"url(#clip130)\" d=\"M 0 0 M1333.11 1524.89 Q1329.5 1524.89 1327.67 1528.46 Q1325.86 1532 1325.86 1539.13 Q1325.86 1546.23 1327.67 1549.8 Q1329.5 1553.34 1333.11 1553.34 Q1336.74 1553.34 1338.55 1549.8 Q1340.37 1546.23 1340.37 1539.13 Q1340.37 1532 1338.55 1528.46 Q1336.74 1524.89 1333.11 1524.89 M1333.11 1521.19 Q1338.92 1521.19 1341.97 1525.79 Q1345.05 1530.38 1345.05 1539.13 Q1345.05 1547.85 1341.97 1552.46 Q1338.92 1557.04 1333.11 1557.04 Q1327.3 1557.04 1324.22 1552.46 Q1321.16 1547.85 1321.16 1539.13 Q1321.16 1530.38 1324.22 1525.79 Q1327.3 1521.19 1333.11 1521.19 Z\" fill=\"#000000\" fill-rule=\"evenodd\" fill-opacity=\"1\" /><path clip-path=\"url(#clip130)\" d=\"M 0 0 M1357.75 1513.82 Q1360.47 1514.4 1362 1516.25 Q1363.54 1518.09 1363.54 1520.8 Q1363.54 1524.96 1360.68 1527.23 Q1357.82 1529.51 1352.55 1529.51 Q1350.79 1529.51 1348.91 1529.15 Q1347.04 1528.81 1345.05 1528.12 L1345.05 1524.45 Q1346.63 1525.37 1348.51 1525.84 Q1350.39 1526.31 1352.44 1526.31 Q1356.02 1526.31 1357.88 1524.9 Q1359.76 1523.49 1359.76 1520.8 Q1359.76 1518.32 1358.01 1516.92 Q1356.28 1515.51 1353.18 1515.51 L1349.9 1515.51 L1349.9 1512.39 L1353.33 1512.39 Q1356.13 1512.39 1357.61 1511.28 Q1359.1 1510.15 1359.1 1508.05 Q1359.1 1505.88 1357.56 1504.74 Q1356.03 1503.57 1353.18 1503.57 Q1351.61 1503.57 1349.83 1503.91 Q1348.04 1504.25 1345.9 1504.96 L1345.9 1501.58 Q1348.06 1500.98 1349.94 1500.67 Q1351.84 1500.37 1353.51 1500.37 Q1357.84 1500.37 1360.36 1502.35 Q1362.88 1504.3 1362.88 1507.65 Q1362.88 1509.98 1361.54 1511.6 Q1360.21 1513.2 1357.75 1513.82 Z\" fill=\"#000000\" fill-rule=\"evenodd\" fill-opacity=\"1\" /><path clip-path=\"url(#clip130)\" d=\"M 0 0 M1442.47 1552.44 L1450.11 1552.44 L1450.11 1526.07 L1441.8 1527.74 L1441.8 1523.48 L1450.07 1521.81 L1454.74 1521.81 L1454.74 1552.44 L1462.38 1552.44 L1462.38 1556.37 L1442.47 1556.37 L1442.47 1552.44 Z\" fill=\"#000000\" fill-rule=\"evenodd\" fill-opacity=\"1\" /><path clip-path=\"url(#clip130)\" d=\"M 0 0 M1471.82 1550.49 L1476.71 1550.49 L1476.71 1556.37 L1471.82 1556.37 L1471.82 1550.49 Z\" fill=\"#000000\" fill-rule=\"evenodd\" fill-opacity=\"1\" /><path clip-path=\"url(#clip130)\" d=\"M 0 0 M1496.89 1524.89 Q1493.28 1524.89 1491.45 1528.46 Q1489.65 1532 1489.65 1539.13 Q1489.65 1546.23 1491.45 1549.8 Q1493.28 1553.34 1496.89 1553.34 Q1500.53 1553.34 1502.33 1549.8 Q1504.16 1546.23 1504.16 1539.13 Q1504.16 1532 1502.33 1528.46 Q1500.53 1524.89 1496.89 1524.89 M1496.89 1521.19 Q1502.7 1521.19 1505.76 1525.79 Q1508.84 1530.38 1508.84 1539.13 Q1508.84 1547.85 1505.76 1552.46 Q1502.7 1557.04 1496.89 1557.04 Q1491.08 1557.04 1488.01 1552.46 Q1484.95 1547.85 1484.95 1539.13 Q1484.95 1530.38 1488.01 1525.79 Q1491.08 1521.19 1496.89 1521.19 Z\" fill=\"#000000\" fill-rule=\"evenodd\" fill-opacity=\"1\" /><path clip-path=\"url(#clip130)\" d=\"M 0 0 M1527.06 1524.89 Q1523.44 1524.89 1521.62 1528.46 Q1519.81 1532 1519.81 1539.13 Q1519.81 1546.23 1521.62 1549.8 Q1523.44 1553.34 1527.06 1553.34 Q1530.69 1553.34 1532.5 1549.8 Q1534.32 1546.23 1534.32 1539.13 Q1534.32 1532 1532.5 1528.46 Q1530.69 1524.89 1527.06 1524.89 M1527.06 1521.19 Q1532.87 1521.19 1535.92 1525.79 Q1539 1530.38 1539 1539.13 Q1539 1547.85 1535.92 1552.46 Q1532.87 1557.04 1527.06 1557.04 Q1521.25 1557.04 1518.17 1552.46 Q1515.11 1547.85 1515.11 1539.13 Q1515.11 1530.38 1518.17 1525.79 Q1521.25 1521.19 1527.06 1521.19 Z\" fill=\"#000000\" fill-rule=\"evenodd\" fill-opacity=\"1\" /><path clip-path=\"url(#clip130)\" d=\"M 0 0 M1575.39 1530.91 L1564.81 1541.53 L1575.39 1552.11 L1572.63 1554.91 L1562.01 1544.29 L1551.38 1554.91 L1548.65 1552.11 L1559.21 1541.53 L1548.65 1530.91 L1551.38 1528.11 L1562.01 1538.73 L1572.63 1528.11 L1575.39 1530.91 Z\" fill=\"#000000\" fill-rule=\"evenodd\" fill-opacity=\"1\" /><path clip-path=\"url(#clip130)\" d=\"M 0 0 M1587.75 1552.44 L1595.39 1552.44 L1595.39 1526.07 L1587.08 1527.74 L1587.08 1523.48 L1595.34 1521.81 L1600.02 1521.81 L1600.02 1552.44 L1607.66 1552.44 L1607.66 1556.37 L1587.75 1556.37 L1587.75 1552.44 Z\" fill=\"#000000\" fill-rule=\"evenodd\" fill-opacity=\"1\" /><path clip-path=\"url(#clip130)\" d=\"M 0 0 M1627.1 1524.89 Q1623.49 1524.89 1621.66 1528.46 Q1619.86 1532 1619.86 1539.13 Q1619.86 1546.23 1621.66 1549.8 Q1623.49 1553.34 1627.1 1553.34 Q1630.74 1553.34 1632.54 1549.8 Q1634.37 1546.23 1634.37 1539.13 Q1634.37 1532 1632.54 1528.46 Q1630.74 1524.89 1627.1 1524.89 M1627.1 1521.19 Q1632.91 1521.19 1635.97 1525.79 Q1639.05 1530.38 1639.05 1539.13 Q1639.05 1547.85 1635.97 1552.46 Q1632.91 1557.04 1627.1 1557.04 Q1621.29 1557.04 1618.21 1552.46 Q1615.16 1547.85 1615.16 1539.13 Q1615.16 1530.38 1618.21 1525.79 Q1621.29 1521.19 1627.1 1521.19 Z\" fill=\"#000000\" fill-rule=\"evenodd\" fill-opacity=\"1\" /><path clip-path=\"url(#clip130)\" d=\"M 0 0 M1651.72 1504.19 L1642.13 1519.18 L1651.72 1519.18 L1651.72 1504.19 M1650.73 1500.88 L1655.5 1500.88 L1655.5 1519.18 L1659.51 1519.18 L1659.51 1522.34 L1655.5 1522.34 L1655.5 1528.96 L1651.72 1528.96 L1651.72 1522.34 L1639.05 1522.34 L1639.05 1518.67 L1650.73 1500.88 Z\" fill=\"#000000\" fill-rule=\"evenodd\" fill-opacity=\"1\" /><path clip-path=\"url(#clip130)\" d=\"M 0 0 M1738.45 1552.44 L1746.09 1552.44 L1746.09 1526.07 L1737.78 1527.74 L1737.78 1523.48 L1746.04 1521.81 L1750.72 1521.81 L1750.72 1552.44 L1758.36 1552.44 L1758.36 1556.37 L1738.45 1556.37 L1738.45 1552.44 Z\" fill=\"#000000\" fill-rule=\"evenodd\" fill-opacity=\"1\" /><path clip-path=\"url(#clip130)\" d=\"M 0 0 M1767.8 1550.49 L1772.69 1550.49 L1772.69 1556.37 L1767.8 1556.37 L1767.8 1550.49 Z\" fill=\"#000000\" fill-rule=\"evenodd\" fill-opacity=\"1\" /><path clip-path=\"url(#clip130)\" d=\"M 0 0 M1786.9 1552.44 L1803.22 1552.44 L1803.22 1556.37 L1781.27 1556.37 L1781.27 1552.44 Q1783.94 1549.68 1788.52 1545.05 Q1793.13 1540.4 1794.31 1539.06 Q1796.55 1536.53 1797.43 1534.8 Q1798.33 1533.04 1798.33 1531.35 Q1798.33 1528.59 1796.39 1526.86 Q1794.47 1525.12 1791.37 1525.12 Q1789.17 1525.12 1786.71 1525.89 Q1784.28 1526.65 1781.51 1528.2 L1781.51 1523.48 Q1784.33 1522.34 1786.78 1521.77 Q1789.24 1521.19 1791.27 1521.19 Q1796.65 1521.19 1799.84 1523.87 Q1803.03 1526.56 1803.03 1531.05 Q1803.03 1533.18 1802.22 1535.1 Q1801.44 1537 1799.33 1539.59 Q1798.75 1540.26 1795.65 1543.48 Q1792.55 1546.67 1786.9 1552.44 Z\" fill=\"#000000\" fill-rule=\"evenodd\" fill-opacity=\"1\" /><path clip-path=\"url(#clip130)\" d=\"M 0 0 M1823.03 1524.89 Q1819.42 1524.89 1817.59 1528.46 Q1815.79 1532 1815.79 1539.13 Q1815.79 1546.23 1817.59 1549.8 Q1819.42 1553.34 1823.03 1553.34 Q1826.67 1553.34 1828.47 1549.8 Q1830.3 1546.23 1830.3 1539.13 Q1830.3 1532 1828.47 1528.46 Q1826.67 1524.89 1823.03 1524.89 M1823.03 1521.19 Q1828.84 1521.19 1831.9 1525.79 Q1834.98 1530.38 1834.98 1539.13 Q1834.98 1547.85 1831.9 1552.46 Q1828.84 1557.04 1823.03 1557.04 Q1817.22 1557.04 1814.15 1552.46 Q1811.09 1547.85 1811.09 1539.13 Q1811.09 1530.38 1814.15 1525.79 Q1817.22 1521.19 1823.03 1521.19 Z\" fill=\"#000000\" fill-rule=\"evenodd\" fill-opacity=\"1\" /><path clip-path=\"url(#clip130)\" d=\"M 0 0 M1871.37 1530.91 L1860.79 1541.53 L1871.37 1552.11 L1868.61 1554.91 L1857.99 1544.29 L1847.36 1554.91 L1844.63 1552.11 L1855.19 1541.53 L1844.63 1530.91 L1847.36 1528.11 L1857.99 1538.73 L1868.61 1528.11 L1871.37 1530.91 Z\" fill=\"#000000\" fill-rule=\"evenodd\" fill-opacity=\"1\" /><path clip-path=\"url(#clip130)\" d=\"M 0 0 M1883.73 1552.44 L1891.37 1552.44 L1891.37 1526.07 L1883.06 1527.74 L1883.06 1523.48 L1891.32 1521.81 L1896 1521.81 L1896 1552.44 L1903.64 1552.44 L1903.64 1556.37 L1883.73 1556.37 L1883.73 1552.44 Z\" fill=\"#000000\" fill-rule=\"evenodd\" fill-opacity=\"1\" /><path clip-path=\"url(#clip130)\" d=\"M 0 0 M1923.08 1524.89 Q1919.47 1524.89 1917.64 1528.46 Q1915.83 1532 1915.83 1539.13 Q1915.83 1546.23 1917.64 1549.8 Q1919.47 1553.34 1923.08 1553.34 Q1926.71 1553.34 1928.52 1549.8 Q1930.35 1546.23 1930.35 1539.13 Q1930.35 1532 1928.52 1528.46 Q1926.71 1524.89 1923.08 1524.89 M1923.08 1521.19 Q1928.89 1521.19 1931.95 1525.79 Q1935.02 1530.38 1935.02 1539.13 Q1935.02 1547.85 1931.95 1552.46 Q1928.89 1557.04 1923.08 1557.04 Q1917.27 1557.04 1914.19 1552.46 Q1911.14 1547.85 1911.14 1539.13 Q1911.14 1530.38 1914.19 1525.79 Q1917.27 1521.19 1923.08 1521.19 Z\" fill=\"#000000\" fill-rule=\"evenodd\" fill-opacity=\"1\" /><path clip-path=\"url(#clip130)\" d=\"M 0 0 M1947.7 1504.19 L1938.11 1519.18 L1947.7 1519.18 L1947.7 1504.19 M1946.7 1500.88 L1951.48 1500.88 L1951.48 1519.18 L1955.49 1519.18 L1955.49 1522.34 L1951.48 1522.34 L1951.48 1528.96 L1947.7 1528.96 L1947.7 1522.34 L1935.02 1522.34 L1935.02 1518.67 L1946.7 1500.88 Z\" fill=\"#000000\" fill-rule=\"evenodd\" fill-opacity=\"1\" /><path clip-path=\"url(#clip130)\" d=\"M 0 0 M2034.43 1552.44 L2042.07 1552.44 L2042.07 1526.07 L2033.76 1527.74 L2033.76 1523.48 L2042.02 1521.81 L2046.7 1521.81 L2046.7 1552.44 L2054.34 1552.44 L2054.34 1556.37 L2034.43 1556.37 L2034.43 1552.44 Z\" fill=\"#000000\" fill-rule=\"evenodd\" fill-opacity=\"1\" /><path clip-path=\"url(#clip130)\" d=\"M 0 0 M2063.78 1550.49 L2068.67 1550.49 L2068.67 1556.37 L2063.78 1556.37 L2063.78 1550.49 Z\" fill=\"#000000\" fill-rule=\"evenodd\" fill-opacity=\"1\" /><path clip-path=\"url(#clip130)\" d=\"M 0 0 M2091.7 1525.89 L2079.89 1544.33 L2091.7 1544.33 L2091.7 1525.89 M2090.47 1521.81 L2096.35 1521.81 L2096.35 1544.33 L2101.28 1544.33 L2101.28 1548.22 L2096.35 1548.22 L2096.35 1556.37 L2091.7 1556.37 L2091.7 1548.22 L2076.1 1548.22 L2076.1 1543.71 L2090.47 1521.81 Z\" fill=\"#000000\" fill-rule=\"evenodd\" fill-opacity=\"1\" /><path clip-path=\"url(#clip130)\" d=\"M 0 0 M2119.01 1524.89 Q2115.4 1524.89 2113.57 1528.46 Q2111.77 1532 2111.77 1539.13 Q2111.77 1546.23 2113.57 1549.8 Q2115.4 1553.34 2119.01 1553.34 Q2122.65 1553.34 2124.45 1549.8 Q2126.28 1546.23 2126.28 1539.13 Q2126.28 1532 2124.45 1528.46 Q2122.65 1524.89 2119.01 1524.89 M2119.01 1521.19 Q2124.82 1521.19 2127.88 1525.79 Q2130.96 1530.38 2130.96 1539.13 Q2130.96 1547.85 2127.88 1552.46 Q2124.82 1557.04 2119.01 1557.04 Q2113.2 1557.04 2110.12 1552.46 Q2107.07 1547.85 2107.07 1539.13 Q2107.07 1530.38 2110.12 1525.79 Q2113.2 1521.19 2119.01 1521.19 Z\" fill=\"#000000\" fill-rule=\"evenodd\" fill-opacity=\"1\" /><path clip-path=\"url(#clip130)\" d=\"M 0 0 M2167.35 1530.91 L2156.77 1541.53 L2167.35 1552.11 L2164.59 1554.91 L2153.97 1544.29 L2143.34 1554.91 L2140.61 1552.11 L2151.16 1541.53 L2140.61 1530.91 L2143.34 1528.11 L2153.97 1538.73 L2164.59 1528.11 L2167.35 1530.91 Z\" fill=\"#000000\" fill-rule=\"evenodd\" fill-opacity=\"1\" /><path clip-path=\"url(#clip130)\" d=\"M 0 0 M2179.71 1552.44 L2187.34 1552.44 L2187.34 1526.07 L2179.03 1527.74 L2179.03 1523.48 L2187.3 1521.81 L2191.97 1521.81 L2191.97 1552.44 L2199.61 1552.44 L2199.61 1556.37 L2179.71 1556.37 L2179.71 1552.44 Z\" fill=\"#000000\" fill-rule=\"evenodd\" fill-opacity=\"1\" /><path clip-path=\"url(#clip130)\" d=\"M 0 0 M2219.06 1524.89 Q2215.45 1524.89 2213.62 1528.46 Q2211.81 1532 2211.81 1539.13 Q2211.81 1546.23 2213.62 1549.8 Q2215.45 1553.34 2219.06 1553.34 Q2222.69 1553.34 2224.5 1549.8 Q2226.33 1546.23 2226.33 1539.13 Q2226.33 1532 2224.5 1528.46 Q2222.69 1524.89 2219.06 1524.89 M2219.06 1521.19 Q2224.87 1521.19 2227.92 1525.79 Q2231 1530.38 2231 1539.13 Q2231 1547.85 2227.92 1552.46 Q2224.87 1557.04 2219.06 1557.04 Q2213.25 1557.04 2210.17 1552.46 Q2207.11 1547.85 2207.11 1539.13 Q2207.11 1530.38 2210.17 1525.79 Q2213.25 1521.19 2219.06 1521.19 Z\" fill=\"#000000\" fill-rule=\"evenodd\" fill-opacity=\"1\" /><path clip-path=\"url(#clip130)\" d=\"M 0 0 M2243.68 1504.19 L2234.09 1519.18 L2243.68 1519.18 L2243.68 1504.19 M2242.68 1500.88 L2247.46 1500.88 L2247.46 1519.18 L2251.47 1519.18 L2251.47 1522.34 L2247.46 1522.34 L2247.46 1528.96 L2243.68 1528.96 L2243.68 1522.34 L2231 1522.34 L2231 1518.67 L2242.68 1500.88 Z\" fill=\"#000000\" fill-rule=\"evenodd\" fill-opacity=\"1\" /><polyline clip-path=\"url(#clip132)\" style=\"stroke:#000000; stroke-width:2; stroke-opacity:0.1; fill:none\" points=\"\n",
       "  156.598,1421.76 2352.76,1421.76 \n",
       "  \"/>\n",
       "<polyline clip-path=\"url(#clip132)\" style=\"stroke:#000000; stroke-width:2; stroke-opacity:0.1; fill:none\" points=\"\n",
       "  156.598,1151.33 2352.76,1151.33 \n",
       "  \"/>\n",
       "<polyline clip-path=\"url(#clip132)\" style=\"stroke:#000000; stroke-width:2; stroke-opacity:0.1; fill:none\" points=\"\n",
       "  156.598,880.896 2352.76,880.896 \n",
       "  \"/>\n",
       "<polyline clip-path=\"url(#clip132)\" style=\"stroke:#000000; stroke-width:2; stroke-opacity:0.1; fill:none\" points=\"\n",
       "  156.598,610.464 2352.76,610.464 \n",
       "  \"/>\n",
       "<polyline clip-path=\"url(#clip132)\" style=\"stroke:#000000; stroke-width:2; stroke-opacity:0.1; fill:none\" points=\"\n",
       "  156.598,340.032 2352.76,340.032 \n",
       "  \"/>\n",
       "<polyline clip-path=\"url(#clip132)\" style=\"stroke:#000000; stroke-width:2; stroke-opacity:0.1; fill:none\" points=\"\n",
       "  156.598,69.5998 2352.76,69.5998 \n",
       "  \"/>\n",
       "<polyline clip-path=\"url(#clip130)\" style=\"stroke:#000000; stroke-width:4; stroke-opacity:1; fill:none\" points=\"\n",
       "  156.598,1474.16 156.598,47.2441 \n",
       "  \"/>\n",
       "<polyline clip-path=\"url(#clip130)\" style=\"stroke:#000000; stroke-width:4; stroke-opacity:1; fill:none\" points=\"\n",
       "  156.598,1421.76 182.952,1421.76 \n",
       "  \"/>\n",
       "<polyline clip-path=\"url(#clip130)\" style=\"stroke:#000000; stroke-width:4; stroke-opacity:1; fill:none\" points=\"\n",
       "  156.598,1151.33 182.952,1151.33 \n",
       "  \"/>\n",
       "<polyline clip-path=\"url(#clip130)\" style=\"stroke:#000000; stroke-width:4; stroke-opacity:1; fill:none\" points=\"\n",
       "  156.598,880.896 182.952,880.896 \n",
       "  \"/>\n",
       "<polyline clip-path=\"url(#clip130)\" style=\"stroke:#000000; stroke-width:4; stroke-opacity:1; fill:none\" points=\"\n",
       "  156.598,610.464 182.952,610.464 \n",
       "  \"/>\n",
       "<polyline clip-path=\"url(#clip130)\" style=\"stroke:#000000; stroke-width:4; stroke-opacity:1; fill:none\" points=\"\n",
       "  156.598,340.032 182.952,340.032 \n",
       "  \"/>\n",
       "<polyline clip-path=\"url(#clip130)\" style=\"stroke:#000000; stroke-width:4; stroke-opacity:1; fill:none\" points=\"\n",
       "  156.598,69.5998 182.952,69.5998 \n",
       "  \"/>\n",
       "<path clip-path=\"url(#clip130)\" d=\"M 0 0 M65.0198 1407.56 Q61.4087 1407.56 59.58 1411.12 Q57.7745 1414.67 57.7745 1421.8 Q57.7745 1428.9 59.58 1432.47 Q61.4087 1436.01 65.0198 1436.01 Q68.6541 1436.01 70.4596 1432.47 Q72.2883 1428.9 72.2883 1421.8 Q72.2883 1414.67 70.4596 1411.12 Q68.6541 1407.56 65.0198 1407.56 M65.0198 1403.86 Q70.83 1403.86 73.8855 1408.46 Q76.9642 1413.05 76.9642 1421.8 Q76.9642 1430.52 73.8855 1435.13 Q70.83 1439.71 65.0198 1439.71 Q59.2097 1439.71 56.131 1435.13 Q53.0754 1430.52 53.0754 1421.8 Q53.0754 1413.05 56.131 1408.46 Q59.2097 1403.86 65.0198 1403.86 Z\" fill=\"#000000\" fill-rule=\"evenodd\" fill-opacity=\"1\" /><path clip-path=\"url(#clip130)\" d=\"M 0 0 M85.1818 1433.16 L90.066 1433.16 L90.066 1439.04 L85.1818 1439.04 L85.1818 1433.16 Z\" fill=\"#000000\" fill-rule=\"evenodd\" fill-opacity=\"1\" /><path clip-path=\"url(#clip130)\" d=\"M 0 0 M104.279 1435.11 L120.598 1435.11 L120.598 1439.04 L98.6539 1439.04 L98.6539 1435.11 Q101.316 1432.35 105.899 1427.72 Q110.506 1423.07 111.686 1421.73 Q113.932 1419.2 114.811 1417.47 Q115.714 1415.71 115.714 1414.02 Q115.714 1411.26 113.77 1409.53 Q111.848 1407.79 108.746 1407.79 Q106.547 1407.79 104.094 1408.55 Q101.663 1409.32 98.8854 1410.87 L98.8854 1406.15 Q101.709 1405.01 104.163 1404.43 Q106.617 1403.86 108.654 1403.86 Q114.024 1403.86 117.219 1406.54 Q120.413 1409.23 120.413 1413.72 Q120.413 1415.85 119.603 1417.77 Q118.816 1419.67 116.709 1422.26 Q116.131 1422.93 113.029 1426.15 Q109.927 1429.34 104.279 1435.11 Z\" fill=\"#000000\" fill-rule=\"evenodd\" fill-opacity=\"1\" /><path clip-path=\"url(#clip130)\" d=\"M 0 0 M64.0708 1137.13 Q60.4597 1137.13 58.631 1140.69 Q56.8254 1144.23 56.8254 1151.36 Q56.8254 1158.47 58.631 1162.03 Q60.4597 1165.58 64.0708 1165.58 Q67.705 1165.58 69.5105 1162.03 Q71.3392 1158.47 71.3392 1151.36 Q71.3392 1144.23 69.5105 1140.69 Q67.705 1137.13 64.0708 1137.13 M64.0708 1133.42 Q69.8809 1133.42 72.9365 1138.03 Q76.0151 1142.61 76.0151 1151.36 Q76.0151 1160.09 72.9365 1164.7 Q69.8809 1169.28 64.0708 1169.28 Q58.2606 1169.28 55.1819 1164.7 Q52.1264 1160.09 52.1264 1151.36 Q52.1264 1142.61 55.1819 1138.03 Q58.2606 1133.42 64.0708 1133.42 Z\" fill=\"#000000\" fill-rule=\"evenodd\" fill-opacity=\"1\" /><path clip-path=\"url(#clip130)\" d=\"M 0 0 M84.2327 1162.73 L89.1169 1162.73 L89.1169 1168.61 L84.2327 1168.61 L84.2327 1162.73 Z\" fill=\"#000000\" fill-rule=\"evenodd\" fill-opacity=\"1\" /><path clip-path=\"url(#clip130)\" d=\"M 0 0 M113.469 1149.97 Q116.825 1150.69 118.7 1152.96 Q120.598 1155.23 120.598 1158.56 Q120.598 1163.68 117.08 1166.48 Q113.561 1169.28 107.08 1169.28 Q104.904 1169.28 102.589 1168.84 Q100.297 1168.42 97.8437 1167.57 L97.8437 1163.05 Q99.7882 1164.19 102.103 1164.77 Q104.418 1165.34 106.941 1165.34 Q111.339 1165.34 113.631 1163.61 Q115.945 1161.87 115.945 1158.56 Q115.945 1155.51 113.793 1153.79 Q111.663 1152.06 107.844 1152.06 L103.816 1152.06 L103.816 1148.22 L108.029 1148.22 Q111.478 1148.22 113.307 1146.85 Q115.135 1145.46 115.135 1142.87 Q115.135 1140.21 113.237 1138.79 Q111.362 1137.36 107.844 1137.36 Q105.922 1137.36 103.723 1137.78 Q101.524 1138.19 98.8854 1139.07 L98.8854 1134.91 Q101.547 1134.16 103.862 1133.79 Q106.2 1133.42 108.26 1133.42 Q113.584 1133.42 116.686 1135.85 Q119.788 1138.26 119.788 1142.38 Q119.788 1145.25 118.145 1147.24 Q116.501 1149.21 113.469 1149.97 Z\" fill=\"#000000\" fill-rule=\"evenodd\" fill-opacity=\"1\" /><path clip-path=\"url(#clip130)\" d=\"M 0 0 M62.9365 866.695 Q59.3254 866.695 57.4967 870.26 Q55.6912 873.802 55.6912 880.931 Q55.6912 888.038 57.4967 891.602 Q59.3254 895.144 62.9365 895.144 Q66.5707 895.144 68.3763 891.602 Q70.205 888.038 70.205 880.931 Q70.205 873.802 68.3763 870.26 Q66.5707 866.695 62.9365 866.695 M62.9365 862.991 Q68.7467 862.991 71.8022 867.598 Q74.8809 872.181 74.8809 880.931 Q74.8809 889.658 71.8022 894.264 Q68.7467 898.848 62.9365 898.848 Q57.1264 898.848 54.0477 894.264 Q50.9921 889.658 50.9921 880.931 Q50.9921 872.181 54.0477 867.598 Q57.1264 862.991 62.9365 862.991 Z\" fill=\"#000000\" fill-rule=\"evenodd\" fill-opacity=\"1\" /><path clip-path=\"url(#clip130)\" d=\"M 0 0 M83.0984 892.297 L87.9827 892.297 L87.9827 898.176 L83.0984 898.176 L83.0984 892.297 Z\" fill=\"#000000\" fill-rule=\"evenodd\" fill-opacity=\"1\" /><path clip-path=\"url(#clip130)\" d=\"M 0 0 M111.015 867.691 L99.2095 886.14 L111.015 886.14 L111.015 867.691 M109.788 863.616 L115.668 863.616 L115.668 886.14 L120.598 886.14 L120.598 890.028 L115.668 890.028 L115.668 898.176 L111.015 898.176 L111.015 890.028 L95.4132 890.028 L95.4132 885.515 L109.788 863.616 Z\" fill=\"#000000\" fill-rule=\"evenodd\" fill-opacity=\"1\" /><path clip-path=\"url(#clip130)\" d=\"M 0 0 M64.418 596.263 Q60.8069 596.263 58.9782 599.828 Q57.1726 603.369 57.1726 610.499 Q57.1726 617.605 58.9782 621.17 Q60.8069 624.712 64.418 624.712 Q68.0522 624.712 69.8578 621.17 Q71.6865 617.605 71.6865 610.499 Q71.6865 603.369 69.8578 599.828 Q68.0522 596.263 64.418 596.263 M64.418 592.559 Q70.2281 592.559 73.2837 597.166 Q76.3624 601.749 76.3624 610.499 Q76.3624 619.226 73.2837 623.832 Q70.2281 628.416 64.418 628.416 Q58.6078 628.416 55.5291 623.832 Q52.4736 619.226 52.4736 610.499 Q52.4736 601.749 55.5291 597.166 Q58.6078 592.559 64.418 592.559 Z\" fill=\"#000000\" fill-rule=\"evenodd\" fill-opacity=\"1\" /><path clip-path=\"url(#clip130)\" d=\"M 0 0 M84.5799 621.865 L89.4641 621.865 L89.4641 627.744 L84.5799 627.744 L84.5799 621.865 Z\" fill=\"#000000\" fill-rule=\"evenodd\" fill-opacity=\"1\" /><path clip-path=\"url(#clip130)\" d=\"M 0 0 M99.6956 593.184 L118.052 593.184 L118.052 597.119 L103.978 597.119 L103.978 605.592 Q104.996 605.244 106.015 605.082 Q107.033 604.897 108.052 604.897 Q113.839 604.897 117.219 608.068 Q120.598 611.24 120.598 616.656 Q120.598 622.235 117.126 625.337 Q113.654 628.416 107.334 628.416 Q105.159 628.416 102.89 628.045 Q100.645 627.675 98.2372 626.934 L98.2372 622.235 Q100.321 623.369 102.543 623.925 Q104.765 624.48 107.242 624.48 Q111.246 624.48 113.584 622.374 Q115.922 620.267 115.922 616.656 Q115.922 613.045 113.584 610.939 Q111.246 608.832 107.242 608.832 Q105.367 608.832 103.492 609.249 Q101.64 609.666 99.6956 610.545 L99.6956 593.184 Z\" fill=\"#000000\" fill-rule=\"evenodd\" fill-opacity=\"1\" /><path clip-path=\"url(#clip130)\" d=\"M 0 0 M63.2606 325.831 Q59.6495 325.831 57.8208 329.396 Q56.0152 332.937 56.0152 340.067 Q56.0152 347.173 57.8208 350.738 Q59.6495 354.28 63.2606 354.28 Q66.8948 354.28 68.7004 350.738 Q70.5291 347.173 70.5291 340.067 Q70.5291 332.937 68.7004 329.396 Q66.8948 325.831 63.2606 325.831 M63.2606 322.127 Q69.0707 322.127 72.1263 326.734 Q75.205 331.317 75.205 340.067 Q75.205 348.794 72.1263 353.4 Q69.0707 357.983 63.2606 357.983 Q57.4504 357.983 54.3717 353.4 Q51.3162 348.794 51.3162 340.067 Q51.3162 331.317 54.3717 326.734 Q57.4504 322.127 63.2606 322.127 Z\" fill=\"#000000\" fill-rule=\"evenodd\" fill-opacity=\"1\" /><path clip-path=\"url(#clip130)\" d=\"M 0 0 M83.4225 351.432 L88.3067 351.432 L88.3067 357.312 L83.4225 357.312 L83.4225 351.432 Z\" fill=\"#000000\" fill-rule=\"evenodd\" fill-opacity=\"1\" /><path clip-path=\"url(#clip130)\" d=\"M 0 0 M109.071 338.169 Q105.922 338.169 104.071 340.321 Q102.242 342.474 102.242 346.224 Q102.242 349.951 104.071 352.127 Q105.922 354.28 109.071 354.28 Q112.219 354.28 114.047 352.127 Q115.899 349.951 115.899 346.224 Q115.899 342.474 114.047 340.321 Q112.219 338.169 109.071 338.169 M118.353 323.516 L118.353 327.775 Q116.594 326.942 114.788 326.502 Q113.006 326.062 111.246 326.062 Q106.617 326.062 104.163 329.187 Q101.733 332.312 101.385 338.632 Q102.751 336.618 104.811 335.553 Q106.871 334.465 109.348 334.465 Q114.557 334.465 117.566 337.636 Q120.598 340.784 120.598 346.224 Q120.598 351.548 117.45 354.766 Q114.302 357.983 109.071 357.983 Q103.075 357.983 99.9039 353.4 Q96.7326 348.794 96.7326 340.067 Q96.7326 331.872 100.621 327.011 Q104.51 322.127 111.061 322.127 Q112.82 322.127 114.603 322.474 Q116.408 322.821 118.353 323.516 Z\" fill=\"#000000\" fill-rule=\"evenodd\" fill-opacity=\"1\" /><path clip-path=\"url(#clip130)\" d=\"M 0 0 M64.3254 55.3985 Q60.7143 55.3985 58.8856 58.9633 Q57.0801 62.505 57.0801 69.6345 Q57.0801 76.741 58.8856 80.3058 Q60.7143 83.8474 64.3254 83.8474 Q67.9596 83.8474 69.7652 80.3058 Q71.5939 76.741 71.5939 69.6345 Q71.5939 62.505 69.7652 58.9633 Q67.9596 55.3985 64.3254 55.3985 M64.3254 51.6948 Q70.1355 51.6948 73.1911 56.3013 Q76.2698 60.8846 76.2698 69.6345 Q76.2698 78.3614 73.1911 82.9678 Q70.1355 87.5511 64.3254 87.5511 Q58.5152 87.5511 55.4365 82.9678 Q52.381 78.3614 52.381 69.6345 Q52.381 60.8846 55.4365 56.3013 Q58.5152 51.6948 64.3254 51.6948 Z\" fill=\"#000000\" fill-rule=\"evenodd\" fill-opacity=\"1\" /><path clip-path=\"url(#clip130)\" d=\"M 0 0 M84.4873 81.0002 L89.3715 81.0002 L89.3715 86.8798 L84.4873 86.8798 L84.4873 81.0002 Z\" fill=\"#000000\" fill-rule=\"evenodd\" fill-opacity=\"1\" /><path clip-path=\"url(#clip130)\" d=\"M 0 0 M98.3761 52.3198 L120.598 52.3198 L120.598 54.3106 L108.052 86.8798 L103.168 86.8798 L114.973 56.255 L98.3761 56.255 L98.3761 52.3198 Z\" fill=\"#000000\" fill-rule=\"evenodd\" fill-opacity=\"1\" /><polyline clip-path=\"url(#clip132)\" style=\"stroke:#009af9; stroke-width:4; stroke-opacity:1; fill:none\" points=\"\n",
       "  218.754,1297.81 366.743,1297.81 810.71,1297.81 1550.66,1375.4 2290.6,1433.78 \n",
       "  \"/>\n",
       "<polyline clip-path=\"url(#clip132)\" style=\"stroke:#e26f46; stroke-width:4; stroke-opacity:1; fill:none\" points=\"\n",
       "  218.754,373.836 366.743,373.836 810.71,373.836 1550.66,231.859 2290.6,87.6286 \n",
       "  \"/>\n",
       "<path clip-path=\"url(#clip130)\" d=\"\n",
       "M1983.1 276.248 L2279.55 276.248 L2279.55 94.8081 L1983.1 94.8081  Z\n",
       "  \" fill=\"#ffffff\" fill-rule=\"evenodd\" fill-opacity=\"1\"/>\n",
       "<polyline clip-path=\"url(#clip130)\" style=\"stroke:#000000; stroke-width:4; stroke-opacity:1; fill:none\" points=\"\n",
       "  1983.1,276.248 2279.55,276.248 2279.55,94.8081 1983.1,94.8081 1983.1,276.248 \n",
       "  \"/>\n",
       "<polyline clip-path=\"url(#clip130)\" style=\"stroke:#009af9; stroke-width:4; stroke-opacity:1; fill:none\" points=\"\n",
       "  2007.5,155.288 2153.92,155.288 \n",
       "  \"/>\n",
       "<path clip-path=\"url(#clip130)\" d=\"M 0 0 M2192.16 174.976 Q2190.35 179.605 2188.64 181.017 Q2186.93 182.429 2184.06 182.429 L2180.65 182.429 L2180.65 178.864 L2183.15 178.864 Q2184.91 178.864 2185.89 178.031 Q2186.86 177.198 2188.04 174.096 L2188.8 172.151 L2178.32 146.642 L2182.83 146.642 L2190.93 166.92 L2199.03 146.642 L2203.55 146.642 L2192.16 174.976 Z\" fill=\"#000000\" fill-rule=\"evenodd\" fill-opacity=\"1\" /><path clip-path=\"url(#clip130)\" d=\"M 0 0 M2210.84 168.633 L2218.48 168.633 L2218.48 142.267 L2210.17 143.934 L2210.17 139.675 L2218.43 138.008 L2223.11 138.008 L2223.11 168.633 L2230.75 168.633 L2230.75 172.568 L2210.84 172.568 L2210.84 168.633 Z\" fill=\"#000000\" fill-rule=\"evenodd\" fill-opacity=\"1\" /><polyline clip-path=\"url(#clip130)\" style=\"stroke:#e26f46; stroke-width:4; stroke-opacity:1; fill:none\" points=\"\n",
       "  2007.5,215.768 2153.92,215.768 \n",
       "  \"/>\n",
       "<path clip-path=\"url(#clip130)\" d=\"M 0 0 M2192.16 235.456 Q2190.35 240.085 2188.64 241.497 Q2186.93 242.909 2184.06 242.909 L2180.65 242.909 L2180.65 239.344 L2183.15 239.344 Q2184.91 239.344 2185.89 238.511 Q2186.86 237.678 2188.04 234.576 L2188.8 232.631 L2178.32 207.122 L2182.83 207.122 L2190.93 227.4 L2199.03 207.122 L2203.55 207.122 L2192.16 235.456 Z\" fill=\"#000000\" fill-rule=\"evenodd\" fill-opacity=\"1\" /><path clip-path=\"url(#clip130)\" d=\"M 0 0 M2214.06 229.113 L2230.38 229.113 L2230.38 233.048 L2208.43 233.048 L2208.43 229.113 Q2211.09 226.358 2215.68 221.729 Q2220.28 217.076 2221.46 215.733 Q2223.71 213.21 2224.59 211.474 Q2225.49 209.715 2225.49 208.025 Q2225.49 205.27 2223.55 203.534 Q2221.63 201.798 2218.52 201.798 Q2216.33 201.798 2213.87 202.562 Q2211.44 203.326 2208.66 204.877 L2208.66 200.155 Q2211.49 199.021 2213.94 198.442 Q2216.4 197.863 2218.43 197.863 Q2223.8 197.863 2227 200.548 Q2230.19 203.233 2230.19 207.724 Q2230.19 209.854 2229.38 211.775 Q2228.59 213.673 2226.49 216.266 Q2225.91 216.937 2222.81 220.155 Q2219.71 223.349 2214.06 229.113 Z\" fill=\"#000000\" fill-rule=\"evenodd\" fill-opacity=\"1\" /></svg>\n"
      ]
     },
     "execution_count": 599,
     "metadata": {},
     "output_type": "execute_result"
    }
   ],
   "source": [
    "using Plots\n",
    "\n",
    "v=4\n",
    "\n",
    "yA = zeros(0)\n",
    "yB = zeros(0)\n",
    "\n",
    "n = [1000,2000,5000,10000,15000]\n",
    "\n",
    "for nsteps in n\n",
    "    \n",
    "    MC_prova = MC_Ne(state_prova, 10, v, Ne, nsteps)\n",
    "    \n",
    "    append!(yA, MC_prova[1])\n",
    "    append!(yB, MC_prova[2])\n",
    "end\n",
    "\n",
    "plot(n,yA)\n",
    "plot!(n,yB)"
   ]
  },
  {
   "cell_type": "code",
   "execution_count": 589,
   "metadata": {},
   "outputs": [
    {
     "ename": "LoadError",
     "evalue": "\u001b[91mBoundsError: attempt to access (0.5259319286871962, 0.4708265802269044)\u001b[39m\n\u001b[91m  at index [3]\u001b[39m",
     "output_type": "error",
     "traceback": [
      "\u001b[91mBoundsError: attempt to access (0.5259319286871962, 0.4708265802269044)\u001b[39m\n\u001b[91m  at index [3]\u001b[39m",
      "",
      "Stacktrace:",
      " [1] getindex(::Tuple, ::Int64) at ./tuple.jl:24",
      " [2] top-level scope at In[589]:5",
      " [3] include_string(::Function, ::Module, ::String, ::String) at ./loading.jl:1091"
     ]
    }
   ],
   "source": [
    "v=2\n",
    "\n",
    "MC_prova = MC_Ne(Lstate(20), 10, v, Ne,10000)\n",
    "\n",
    "x=collect(1:MC_prova[3])\n",
    "\n",
    "p= plot(x,MC_prova[1])\n",
    "plot!(x,MC_prova[2])"
   ]
  },
  {
   "cell_type": "code",
   "execution_count": 520,
   "metadata": {},
   "outputs": [
    {
     "data": {
      "image/svg+xml": [
       "<?xml version=\"1.0\" encoding=\"utf-8\"?>\n",
       "<svg xmlns=\"http://www.w3.org/2000/svg\" xmlns:xlink=\"http://www.w3.org/1999/xlink\" width=\"600\" height=\"400\" viewBox=\"0 0 2400 1600\">\n",
       "<defs>\n",
       "  <clipPath id=\"clip250\">\n",
       "    <rect x=\"0\" y=\"0\" width=\"2400\" height=\"1600\"/>\n",
       "  </clipPath>\n",
       "</defs>\n",
       "<path clip-path=\"url(#clip250)\" d=\"\n",
       "M0 1600 L2400 1600 L2400 0 L0 0  Z\n",
       "  \" fill=\"#ffffff\" fill-rule=\"evenodd\" fill-opacity=\"1\"/>\n",
       "<defs>\n",
       "  <clipPath id=\"clip251\">\n",
       "    <rect x=\"480\" y=\"0\" width=\"1681\" height=\"1600\"/>\n",
       "  </clipPath>\n",
       "</defs>\n",
       "<path clip-path=\"url(#clip250)\" d=\"\n",
       "M156.598 1486.45 L2352.76 1486.45 L2352.76 47.2441 L156.598 47.2441  Z\n",
       "  \" fill=\"#ffffff\" fill-rule=\"evenodd\" fill-opacity=\"1\"/>\n",
       "<defs>\n",
       "  <clipPath id=\"clip252\">\n",
       "    <rect x=\"156\" y=\"47\" width=\"2197\" height=\"1440\"/>\n",
       "  </clipPath>\n",
       "</defs>\n",
       "<polyline clip-path=\"url(#clip252)\" style=\"stroke:#000000; stroke-width:2; stroke-opacity:0.1; fill:none\" points=\"\n",
       "  486.089,1486.45 486.089,47.2441 \n",
       "  \"/>\n",
       "<polyline clip-path=\"url(#clip252)\" style=\"stroke:#000000; stroke-width:2; stroke-opacity:0.1; fill:none\" points=\"\n",
       "  820.258,1486.45 820.258,47.2441 \n",
       "  \"/>\n",
       "<polyline clip-path=\"url(#clip252)\" style=\"stroke:#000000; stroke-width:2; stroke-opacity:0.1; fill:none\" points=\"\n",
       "  1154.43,1486.45 1154.43,47.2441 \n",
       "  \"/>\n",
       "<polyline clip-path=\"url(#clip252)\" style=\"stroke:#000000; stroke-width:2; stroke-opacity:0.1; fill:none\" points=\"\n",
       "  1488.6,1486.45 1488.6,47.2441 \n",
       "  \"/>\n",
       "<polyline clip-path=\"url(#clip252)\" style=\"stroke:#000000; stroke-width:2; stroke-opacity:0.1; fill:none\" points=\"\n",
       "  1822.76,1486.45 1822.76,47.2441 \n",
       "  \"/>\n",
       "<polyline clip-path=\"url(#clip252)\" style=\"stroke:#000000; stroke-width:2; stroke-opacity:0.1; fill:none\" points=\"\n",
       "  2156.93,1486.45 2156.93,47.2441 \n",
       "  \"/>\n",
       "<polyline clip-path=\"url(#clip250)\" style=\"stroke:#000000; stroke-width:4; stroke-opacity:1; fill:none\" points=\"\n",
       "  156.598,1486.45 2352.76,1486.45 \n",
       "  \"/>\n",
       "<polyline clip-path=\"url(#clip250)\" style=\"stroke:#000000; stroke-width:4; stroke-opacity:1; fill:none\" points=\"\n",
       "  486.089,1486.45 486.089,1469.18 \n",
       "  \"/>\n",
       "<polyline clip-path=\"url(#clip250)\" style=\"stroke:#000000; stroke-width:4; stroke-opacity:1; fill:none\" points=\"\n",
       "  820.258,1486.45 820.258,1469.18 \n",
       "  \"/>\n",
       "<polyline clip-path=\"url(#clip250)\" style=\"stroke:#000000; stroke-width:4; stroke-opacity:1; fill:none\" points=\"\n",
       "  1154.43,1486.45 1154.43,1469.18 \n",
       "  \"/>\n",
       "<polyline clip-path=\"url(#clip250)\" style=\"stroke:#000000; stroke-width:4; stroke-opacity:1; fill:none\" points=\"\n",
       "  1488.6,1486.45 1488.6,1469.18 \n",
       "  \"/>\n",
       "<polyline clip-path=\"url(#clip250)\" style=\"stroke:#000000; stroke-width:4; stroke-opacity:1; fill:none\" points=\"\n",
       "  1822.76,1486.45 1822.76,1469.18 \n",
       "  \"/>\n",
       "<polyline clip-path=\"url(#clip250)\" style=\"stroke:#000000; stroke-width:4; stroke-opacity:1; fill:none\" points=\"\n",
       "  2156.93,1486.45 2156.93,1469.18 \n",
       "  \"/>\n",
       "<path clip-path=\"url(#clip250)\" d=\"M 0 0 M476.367 1512.56 L494.723 1512.56 L494.723 1516.5 L480.649 1516.5 L480.649 1524.97 Q481.667 1524.62 482.686 1524.46 Q483.704 1524.27 484.723 1524.27 Q490.51 1524.27 493.89 1527.44 Q497.269 1530.62 497.269 1536.03 Q497.269 1541.61 493.797 1544.71 Q490.325 1547.79 484.005 1547.79 Q481.829 1547.79 479.561 1547.42 Q477.316 1547.05 474.908 1546.31 L474.908 1541.61 Q476.992 1542.74 479.214 1543.3 Q481.436 1543.86 483.913 1543.86 Q487.917 1543.86 490.255 1541.75 Q492.593 1539.64 492.593 1536.03 Q492.593 1532.42 490.255 1530.31 Q487.917 1528.21 483.913 1528.21 Q482.038 1528.21 480.163 1528.62 Q478.311 1529.04 476.367 1529.92 L476.367 1512.56 Z\" fill=\"#000000\" fill-rule=\"evenodd\" fill-opacity=\"1\" /><path clip-path=\"url(#clip250)\" d=\"M 0 0 M794.945 1543.18 L802.584 1543.18 L802.584 1516.82 L794.274 1518.49 L794.274 1514.23 L802.538 1512.56 L807.214 1512.56 L807.214 1543.18 L814.853 1543.18 L814.853 1547.12 L794.945 1547.12 L794.945 1543.18 Z\" fill=\"#000000\" fill-rule=\"evenodd\" fill-opacity=\"1\" /><path clip-path=\"url(#clip250)\" d=\"M 0 0 M834.297 1515.64 Q830.686 1515.64 828.857 1519.2 Q827.052 1522.75 827.052 1529.87 Q827.052 1536.98 828.857 1540.55 Q830.686 1544.09 834.297 1544.09 Q837.931 1544.09 839.737 1540.55 Q841.565 1536.98 841.565 1529.87 Q841.565 1522.75 839.737 1519.2 Q837.931 1515.64 834.297 1515.64 M834.297 1511.93 Q840.107 1511.93 843.163 1516.54 Q846.241 1521.12 846.241 1529.87 Q846.241 1538.6 843.163 1543.21 Q840.107 1547.79 834.297 1547.79 Q828.487 1547.79 825.408 1543.21 Q822.352 1538.6 822.352 1529.87 Q822.352 1521.12 825.408 1516.54 Q828.487 1511.93 834.297 1511.93 Z\" fill=\"#000000\" fill-rule=\"evenodd\" fill-opacity=\"1\" /><path clip-path=\"url(#clip250)\" d=\"M 0 0 M1129.61 1543.18 L1137.25 1543.18 L1137.25 1516.82 L1128.94 1518.49 L1128.94 1514.23 L1137.2 1512.56 L1141.88 1512.56 L1141.88 1543.18 L1149.52 1543.18 L1149.52 1547.12 L1129.61 1547.12 L1129.61 1543.18 Z\" fill=\"#000000\" fill-rule=\"evenodd\" fill-opacity=\"1\" /><path clip-path=\"url(#clip250)\" d=\"M 0 0 M1159.01 1512.56 L1177.37 1512.56 L1177.37 1516.5 L1163.29 1516.5 L1163.29 1524.97 Q1164.31 1524.62 1165.33 1524.46 Q1166.35 1524.27 1167.37 1524.27 Q1173.15 1524.27 1176.53 1527.44 Q1179.91 1530.62 1179.91 1536.03 Q1179.91 1541.61 1176.44 1544.71 Q1172.97 1547.79 1166.65 1547.79 Q1164.47 1547.79 1162.2 1547.42 Q1159.96 1547.05 1157.55 1546.31 L1157.55 1541.61 Q1159.63 1542.74 1161.86 1543.3 Q1164.08 1543.86 1166.56 1543.86 Q1170.56 1543.86 1172.9 1541.75 Q1175.24 1539.64 1175.24 1536.03 Q1175.24 1532.42 1172.9 1530.31 Q1170.56 1528.21 1166.56 1528.21 Q1164.68 1528.21 1162.81 1528.62 Q1160.95 1529.04 1159.01 1529.92 L1159.01 1512.56 Z\" fill=\"#000000\" fill-rule=\"evenodd\" fill-opacity=\"1\" /><path clip-path=\"url(#clip250)\" d=\"M 0 0 M1467.37 1543.18 L1483.69 1543.18 L1483.69 1547.12 L1461.74 1547.12 L1461.74 1543.18 Q1464.41 1540.43 1468.99 1535.8 Q1473.6 1531.15 1474.78 1529.81 Q1477.02 1527.28 1477.9 1525.55 Q1478.8 1523.79 1478.8 1522.1 Q1478.8 1519.34 1476.86 1517.61 Q1474.94 1515.87 1471.84 1515.87 Q1469.64 1515.87 1467.18 1516.63 Q1464.75 1517.4 1461.98 1518.95 L1461.98 1514.23 Q1464.8 1513.09 1467.25 1512.51 Q1469.71 1511.93 1471.74 1511.93 Q1477.11 1511.93 1480.31 1514.62 Q1483.5 1517.31 1483.5 1521.8 Q1483.5 1523.93 1482.69 1525.85 Q1481.91 1527.74 1479.8 1530.34 Q1479.22 1531.01 1476.12 1534.23 Q1473.02 1537.42 1467.37 1543.18 Z\" fill=\"#000000\" fill-rule=\"evenodd\" fill-opacity=\"1\" /><path clip-path=\"url(#clip250)\" d=\"M 0 0 M1503.5 1515.64 Q1499.89 1515.64 1498.06 1519.2 Q1496.26 1522.75 1496.26 1529.87 Q1496.26 1536.98 1498.06 1540.55 Q1499.89 1544.09 1503.5 1544.09 Q1507.14 1544.09 1508.94 1540.55 Q1510.77 1536.98 1510.77 1529.87 Q1510.77 1522.75 1508.94 1519.2 Q1507.14 1515.64 1503.5 1515.64 M1503.5 1511.93 Q1509.31 1511.93 1512.37 1516.54 Q1515.45 1521.12 1515.45 1529.87 Q1515.45 1538.6 1512.37 1543.21 Q1509.31 1547.79 1503.5 1547.79 Q1497.69 1547.79 1494.61 1543.21 Q1491.56 1538.6 1491.56 1529.87 Q1491.56 1521.12 1494.61 1516.54 Q1497.69 1511.93 1503.5 1511.93 Z\" fill=\"#000000\" fill-rule=\"evenodd\" fill-opacity=\"1\" /><path clip-path=\"url(#clip250)\" d=\"M 0 0 M1802.04 1543.18 L1818.35 1543.18 L1818.35 1547.12 L1796.41 1547.12 L1796.41 1543.18 Q1799.07 1540.43 1803.66 1535.8 Q1808.26 1531.15 1809.44 1529.81 Q1811.69 1527.28 1812.57 1525.55 Q1813.47 1523.79 1813.47 1522.1 Q1813.47 1519.34 1811.53 1517.61 Q1809.6 1515.87 1806.5 1515.87 Q1804.3 1515.87 1801.85 1516.63 Q1799.42 1517.4 1796.64 1518.95 L1796.64 1514.23 Q1799.47 1513.09 1801.92 1512.51 Q1804.37 1511.93 1806.41 1511.93 Q1811.78 1511.93 1814.97 1514.62 Q1818.17 1517.31 1818.17 1521.8 Q1818.17 1523.93 1817.36 1525.85 Q1816.57 1527.74 1814.47 1530.34 Q1813.89 1531.01 1810.79 1534.23 Q1807.68 1537.42 1802.04 1543.18 Z\" fill=\"#000000\" fill-rule=\"evenodd\" fill-opacity=\"1\" /><path clip-path=\"url(#clip250)\" d=\"M 0 0 M1828.22 1512.56 L1846.57 1512.56 L1846.57 1516.5 L1832.5 1516.5 L1832.5 1524.97 Q1833.52 1524.62 1834.53 1524.46 Q1835.55 1524.27 1836.57 1524.27 Q1842.36 1524.27 1845.74 1527.44 Q1849.12 1530.62 1849.12 1536.03 Q1849.12 1541.61 1845.65 1544.71 Q1842.17 1547.79 1835.85 1547.79 Q1833.68 1547.79 1831.41 1547.42 Q1829.16 1547.05 1826.76 1546.31 L1826.76 1541.61 Q1828.84 1542.74 1831.06 1543.3 Q1833.28 1543.86 1835.76 1543.86 Q1839.77 1543.86 1842.1 1541.75 Q1844.44 1539.64 1844.44 1536.03 Q1844.44 1532.42 1842.1 1530.31 Q1839.77 1528.21 1835.76 1528.21 Q1833.89 1528.21 1832.01 1528.62 Q1830.16 1529.04 1828.22 1529.92 L1828.22 1512.56 Z\" fill=\"#000000\" fill-rule=\"evenodd\" fill-opacity=\"1\" /><path clip-path=\"url(#clip250)\" d=\"M 0 0 M2145.78 1528.49 Q2149.13 1529.2 2151.01 1531.47 Q2152.91 1533.74 2152.91 1537.07 Q2152.91 1542.19 2149.39 1544.99 Q2145.87 1547.79 2139.39 1547.79 Q2137.21 1547.79 2134.9 1547.35 Q2132.6 1546.93 2130.15 1546.08 L2130.15 1541.56 Q2132.1 1542.7 2134.41 1543.28 Q2136.72 1543.86 2139.25 1543.86 Q2143.65 1543.86 2145.94 1542.12 Q2148.25 1540.38 2148.25 1537.07 Q2148.25 1534.02 2146.1 1532.31 Q2143.97 1530.57 2140.15 1530.57 L2136.12 1530.57 L2136.12 1526.73 L2140.34 1526.73 Q2143.78 1526.73 2145.61 1525.36 Q2147.44 1523.97 2147.44 1521.38 Q2147.44 1518.72 2145.54 1517.31 Q2143.67 1515.87 2140.15 1515.87 Q2138.23 1515.87 2136.03 1516.29 Q2133.83 1516.7 2131.19 1517.58 L2131.19 1513.42 Q2133.85 1512.68 2136.17 1512.31 Q2138.51 1511.93 2140.57 1511.93 Q2145.89 1511.93 2148.99 1514.37 Q2152.1 1516.77 2152.1 1520.89 Q2152.1 1523.76 2150.45 1525.75 Q2148.81 1527.72 2145.78 1528.49 Z\" fill=\"#000000\" fill-rule=\"evenodd\" fill-opacity=\"1\" /><path clip-path=\"url(#clip250)\" d=\"M 0 0 M2171.77 1515.64 Q2168.16 1515.64 2166.33 1519.2 Q2164.53 1522.75 2164.53 1529.87 Q2164.53 1536.98 2166.33 1540.55 Q2168.16 1544.09 2171.77 1544.09 Q2175.41 1544.09 2177.21 1540.55 Q2179.04 1536.98 2179.04 1529.87 Q2179.04 1522.75 2177.21 1519.2 Q2175.41 1515.64 2171.77 1515.64 M2171.77 1511.93 Q2177.58 1511.93 2180.64 1516.54 Q2183.72 1521.12 2183.72 1529.87 Q2183.72 1538.6 2180.64 1543.21 Q2177.58 1547.79 2171.77 1547.79 Q2165.96 1547.79 2162.88 1543.21 Q2159.83 1538.6 2159.83 1529.87 Q2159.83 1521.12 2162.88 1516.54 Q2165.96 1511.93 2171.77 1511.93 Z\" fill=\"#000000\" fill-rule=\"evenodd\" fill-opacity=\"1\" /><polyline clip-path=\"url(#clip252)\" style=\"stroke:#000000; stroke-width:2; stroke-opacity:0.1; fill:none\" points=\"\n",
       "  156.598,1426.99 2352.76,1426.99 \n",
       "  \"/>\n",
       "<polyline clip-path=\"url(#clip252)\" style=\"stroke:#000000; stroke-width:2; stroke-opacity:0.1; fill:none\" points=\"\n",
       "  156.598,1220.99 2352.76,1220.99 \n",
       "  \"/>\n",
       "<polyline clip-path=\"url(#clip252)\" style=\"stroke:#000000; stroke-width:2; stroke-opacity:0.1; fill:none\" points=\"\n",
       "  156.598,1014.98 2352.76,1014.98 \n",
       "  \"/>\n",
       "<polyline clip-path=\"url(#clip252)\" style=\"stroke:#000000; stroke-width:2; stroke-opacity:0.1; fill:none\" points=\"\n",
       "  156.598,808.983 2352.76,808.983 \n",
       "  \"/>\n",
       "<polyline clip-path=\"url(#clip252)\" style=\"stroke:#000000; stroke-width:2; stroke-opacity:0.1; fill:none\" points=\"\n",
       "  156.598,602.981 2352.76,602.981 \n",
       "  \"/>\n",
       "<polyline clip-path=\"url(#clip252)\" style=\"stroke:#000000; stroke-width:2; stroke-opacity:0.1; fill:none\" points=\"\n",
       "  156.598,396.979 2352.76,396.979 \n",
       "  \"/>\n",
       "<polyline clip-path=\"url(#clip252)\" style=\"stroke:#000000; stroke-width:2; stroke-opacity:0.1; fill:none\" points=\"\n",
       "  156.598,190.977 2352.76,190.977 \n",
       "  \"/>\n",
       "<polyline clip-path=\"url(#clip250)\" style=\"stroke:#000000; stroke-width:4; stroke-opacity:1; fill:none\" points=\"\n",
       "  156.598,1486.45 156.598,47.2441 \n",
       "  \"/>\n",
       "<polyline clip-path=\"url(#clip250)\" style=\"stroke:#000000; stroke-width:4; stroke-opacity:1; fill:none\" points=\"\n",
       "  156.598,1426.99 182.952,1426.99 \n",
       "  \"/>\n",
       "<polyline clip-path=\"url(#clip250)\" style=\"stroke:#000000; stroke-width:4; stroke-opacity:1; fill:none\" points=\"\n",
       "  156.598,1220.99 182.952,1220.99 \n",
       "  \"/>\n",
       "<polyline clip-path=\"url(#clip250)\" style=\"stroke:#000000; stroke-width:4; stroke-opacity:1; fill:none\" points=\"\n",
       "  156.598,1014.98 182.952,1014.98 \n",
       "  \"/>\n",
       "<polyline clip-path=\"url(#clip250)\" style=\"stroke:#000000; stroke-width:4; stroke-opacity:1; fill:none\" points=\"\n",
       "  156.598,808.983 182.952,808.983 \n",
       "  \"/>\n",
       "<polyline clip-path=\"url(#clip250)\" style=\"stroke:#000000; stroke-width:4; stroke-opacity:1; fill:none\" points=\"\n",
       "  156.598,602.981 182.952,602.981 \n",
       "  \"/>\n",
       "<polyline clip-path=\"url(#clip250)\" style=\"stroke:#000000; stroke-width:4; stroke-opacity:1; fill:none\" points=\"\n",
       "  156.598,396.979 182.952,396.979 \n",
       "  \"/>\n",
       "<polyline clip-path=\"url(#clip250)\" style=\"stroke:#000000; stroke-width:4; stroke-opacity:1; fill:none\" points=\"\n",
       "  156.598,190.977 182.952,190.977 \n",
       "  \"/>\n",
       "<path clip-path=\"url(#clip250)\" d=\"M 0 0 M65.0198 1412.79 Q61.4087 1412.79 59.58 1416.35 Q57.7745 1419.89 57.7745 1427.02 Q57.7745 1434.13 59.58 1437.69 Q61.4087 1441.24 65.0198 1441.24 Q68.6541 1441.24 70.4596 1437.69 Q72.2883 1434.13 72.2883 1427.02 Q72.2883 1419.89 70.4596 1416.35 Q68.6541 1412.79 65.0198 1412.79 M65.0198 1409.08 Q70.83 1409.08 73.8855 1413.69 Q76.9642 1418.27 76.9642 1427.02 Q76.9642 1435.75 73.8855 1440.36 Q70.83 1444.94 65.0198 1444.94 Q59.2097 1444.94 56.131 1440.36 Q53.0754 1435.75 53.0754 1427.02 Q53.0754 1418.27 56.131 1413.69 Q59.2097 1409.08 65.0198 1409.08 Z\" fill=\"#000000\" fill-rule=\"evenodd\" fill-opacity=\"1\" /><path clip-path=\"url(#clip250)\" d=\"M 0 0 M85.1818 1438.39 L90.066 1438.39 L90.066 1444.27 L85.1818 1444.27 L85.1818 1438.39 Z\" fill=\"#000000\" fill-rule=\"evenodd\" fill-opacity=\"1\" /><path clip-path=\"url(#clip250)\" d=\"M 0 0 M104.279 1440.33 L120.598 1440.33 L120.598 1444.27 L98.6539 1444.27 L98.6539 1440.33 Q101.316 1437.58 105.899 1432.95 Q110.506 1428.3 111.686 1426.95 Q113.932 1424.43 114.811 1422.69 Q115.714 1420.94 115.714 1419.25 Q115.714 1416.49 113.77 1414.75 Q111.848 1413.02 108.746 1413.02 Q106.547 1413.02 104.094 1413.78 Q101.663 1414.55 98.8854 1416.1 L98.8854 1411.37 Q101.709 1410.24 104.163 1409.66 Q106.617 1409.08 108.654 1409.08 Q114.024 1409.08 117.219 1411.77 Q120.413 1414.45 120.413 1418.94 Q120.413 1421.07 119.603 1423 Q118.816 1424.89 116.709 1427.49 Q116.131 1428.16 113.029 1431.37 Q109.927 1434.57 104.279 1440.33 Z\" fill=\"#000000\" fill-rule=\"evenodd\" fill-opacity=\"1\" /><path clip-path=\"url(#clip250)\" d=\"M 0 0 M62.9365 1206.79 Q59.3254 1206.79 57.4967 1210.35 Q55.6912 1213.89 55.6912 1221.02 Q55.6912 1228.13 57.4967 1231.69 Q59.3254 1235.23 62.9365 1235.23 Q66.5707 1235.23 68.3763 1231.69 Q70.205 1228.13 70.205 1221.02 Q70.205 1213.89 68.3763 1210.35 Q66.5707 1206.79 62.9365 1206.79 M62.9365 1203.08 Q68.7467 1203.08 71.8022 1207.69 Q74.8809 1212.27 74.8809 1221.02 Q74.8809 1229.75 71.8022 1234.35 Q68.7467 1238.94 62.9365 1238.94 Q57.1264 1238.94 54.0477 1234.35 Q50.9921 1229.75 50.9921 1221.02 Q50.9921 1212.27 54.0477 1207.69 Q57.1264 1203.08 62.9365 1203.08 Z\" fill=\"#000000\" fill-rule=\"evenodd\" fill-opacity=\"1\" /><path clip-path=\"url(#clip250)\" d=\"M 0 0 M83.0984 1232.39 L87.9827 1232.39 L87.9827 1238.27 L83.0984 1238.27 L83.0984 1232.39 Z\" fill=\"#000000\" fill-rule=\"evenodd\" fill-opacity=\"1\" /><path clip-path=\"url(#clip250)\" d=\"M 0 0 M111.015 1207.78 L99.2095 1226.23 L111.015 1226.23 L111.015 1207.78 M109.788 1203.71 L115.668 1203.71 L115.668 1226.23 L120.598 1226.23 L120.598 1230.12 L115.668 1230.12 L115.668 1238.27 L111.015 1238.27 L111.015 1230.12 L95.4132 1230.12 L95.4132 1225.6 L109.788 1203.71 Z\" fill=\"#000000\" fill-rule=\"evenodd\" fill-opacity=\"1\" /><path clip-path=\"url(#clip250)\" d=\"M 0 0 M63.2606 1000.78 Q59.6495 1000.78 57.8208 1004.35 Q56.0152 1007.89 56.0152 1015.02 Q56.0152 1022.13 57.8208 1025.69 Q59.6495 1029.23 63.2606 1029.23 Q66.8948 1029.23 68.7004 1025.69 Q70.5291 1022.13 70.5291 1015.02 Q70.5291 1007.89 68.7004 1004.35 Q66.8948 1000.78 63.2606 1000.78 M63.2606 997.08 Q69.0707 997.08 72.1263 1001.69 Q75.205 1006.27 75.205 1015.02 Q75.205 1023.75 72.1263 1028.35 Q69.0707 1032.94 63.2606 1032.94 Q57.4504 1032.94 54.3717 1028.35 Q51.3162 1023.75 51.3162 1015.02 Q51.3162 1006.27 54.3717 1001.69 Q57.4504 997.08 63.2606 997.08 Z\" fill=\"#000000\" fill-rule=\"evenodd\" fill-opacity=\"1\" /><path clip-path=\"url(#clip250)\" d=\"M 0 0 M83.4225 1026.38 L88.3067 1026.38 L88.3067 1032.26 L83.4225 1032.26 L83.4225 1026.38 Z\" fill=\"#000000\" fill-rule=\"evenodd\" fill-opacity=\"1\" /><path clip-path=\"url(#clip250)\" d=\"M 0 0 M109.071 1013.12 Q105.922 1013.12 104.071 1015.27 Q102.242 1017.43 102.242 1021.18 Q102.242 1024.9 104.071 1027.08 Q105.922 1029.23 109.071 1029.23 Q112.219 1029.23 114.047 1027.08 Q115.899 1024.9 115.899 1021.18 Q115.899 1017.43 114.047 1015.27 Q112.219 1013.12 109.071 1013.12 M118.353 998.468 L118.353 1002.73 Q116.594 1001.89 114.788 1001.45 Q113.006 1001.01 111.246 1001.01 Q106.617 1001.01 104.163 1004.14 Q101.733 1007.26 101.385 1013.58 Q102.751 1011.57 104.811 1010.51 Q106.871 1009.42 109.348 1009.42 Q114.557 1009.42 117.566 1012.59 Q120.598 1015.74 120.598 1021.18 Q120.598 1026.5 117.45 1029.72 Q114.302 1032.94 109.071 1032.94 Q103.075 1032.94 99.9039 1028.35 Q96.7326 1023.75 96.7326 1015.02 Q96.7326 1006.82 100.621 1001.96 Q104.51 997.08 111.061 997.08 Q112.82 997.08 114.603 997.427 Q116.408 997.774 118.353 998.468 Z\" fill=\"#000000\" fill-rule=\"evenodd\" fill-opacity=\"1\" /><path clip-path=\"url(#clip250)\" d=\"M 0 0 M63.5152 794.781 Q59.9041 794.781 58.0754 798.346 Q56.2699 801.888 56.2699 809.017 Q56.2699 816.124 58.0754 819.689 Q59.9041 823.23 63.5152 823.23 Q67.1494 823.23 68.955 819.689 Q70.7837 816.124 70.7837 809.017 Q70.7837 801.888 68.955 798.346 Q67.1494 794.781 63.5152 794.781 M63.5152 791.078 Q69.3254 791.078 72.3809 795.684 Q75.4596 800.267 75.4596 809.017 Q75.4596 817.744 72.3809 822.351 Q69.3254 826.934 63.5152 826.934 Q57.7051 826.934 54.6264 822.351 Q51.5708 817.744 51.5708 809.017 Q51.5708 800.267 54.6264 795.684 Q57.7051 791.078 63.5152 791.078 Z\" fill=\"#000000\" fill-rule=\"evenodd\" fill-opacity=\"1\" /><path clip-path=\"url(#clip250)\" d=\"M 0 0 M83.6771 820.383 L88.5614 820.383 L88.5614 826.263 L83.6771 826.263 L83.6771 820.383 Z\" fill=\"#000000\" fill-rule=\"evenodd\" fill-opacity=\"1\" /><path clip-path=\"url(#clip250)\" d=\"M 0 0 M108.746 809.851 Q105.413 809.851 103.492 811.633 Q101.594 813.416 101.594 816.541 Q101.594 819.666 103.492 821.448 Q105.413 823.23 108.746 823.23 Q112.08 823.23 114.001 821.448 Q115.922 819.642 115.922 816.541 Q115.922 813.416 114.001 811.633 Q112.103 809.851 108.746 809.851 M104.071 807.86 Q101.061 807.119 99.3715 805.059 Q97.7048 802.999 97.7048 800.036 Q97.7048 795.893 100.645 793.485 Q103.608 791.078 108.746 791.078 Q113.908 791.078 116.848 793.485 Q119.788 795.893 119.788 800.036 Q119.788 802.999 118.098 805.059 Q116.432 807.119 113.445 807.86 Q116.825 808.647 118.7 810.939 Q120.598 813.23 120.598 816.541 Q120.598 821.564 117.52 824.249 Q114.464 826.934 108.746 826.934 Q103.029 826.934 99.9502 824.249 Q96.8947 821.564 96.8947 816.541 Q96.8947 813.23 98.7928 810.939 Q100.691 808.647 104.071 807.86 M102.358 800.476 Q102.358 803.161 104.024 804.666 Q105.714 806.17 108.746 806.17 Q111.756 806.17 113.445 804.666 Q115.158 803.161 115.158 800.476 Q115.158 797.791 113.445 796.286 Q111.756 794.781 108.746 794.781 Q105.714 794.781 104.024 796.286 Q102.358 797.791 102.358 800.476 Z\" fill=\"#000000\" fill-rule=\"evenodd\" fill-opacity=\"1\" /><path clip-path=\"url(#clip250)\" d=\"M 0 0 M54.2328 616.326 L61.8717 616.326 L61.8717 589.96 L53.5616 591.627 L53.5616 587.368 L61.8254 585.701 L66.5013 585.701 L66.5013 616.326 L74.1402 616.326 L74.1402 620.261 L54.2328 620.261 L54.2328 616.326 Z\" fill=\"#000000\" fill-rule=\"evenodd\" fill-opacity=\"1\" /><path clip-path=\"url(#clip250)\" d=\"M 0 0 M83.5845 614.381 L88.4688 614.381 L88.4688 620.261 L83.5845 620.261 L83.5845 614.381 Z\" fill=\"#000000\" fill-rule=\"evenodd\" fill-opacity=\"1\" /><path clip-path=\"url(#clip250)\" d=\"M 0 0 M108.654 588.78 Q105.043 588.78 103.214 592.344 Q101.409 595.886 101.409 603.016 Q101.409 610.122 103.214 613.687 Q105.043 617.228 108.654 617.228 Q112.288 617.228 114.094 613.687 Q115.922 610.122 115.922 603.016 Q115.922 595.886 114.094 592.344 Q112.288 588.78 108.654 588.78 M108.654 585.076 Q114.464 585.076 117.52 589.682 Q120.598 594.266 120.598 603.016 Q120.598 611.742 117.52 616.349 Q114.464 620.932 108.654 620.932 Q102.844 620.932 99.765 616.349 Q96.7095 611.742 96.7095 603.016 Q96.7095 594.266 99.765 589.682 Q102.844 585.076 108.654 585.076 Z\" fill=\"#000000\" fill-rule=\"evenodd\" fill-opacity=\"1\" /><path clip-path=\"url(#clip250)\" d=\"M 0 0 M55.8301 410.324 L63.4689 410.324 L63.4689 383.958 L55.1588 385.625 L55.1588 381.366 L63.4226 379.699 L68.0985 379.699 L68.0985 410.324 L75.7374 410.324 L75.7374 414.259 L55.8301 414.259 L55.8301 410.324 Z\" fill=\"#000000\" fill-rule=\"evenodd\" fill-opacity=\"1\" /><path clip-path=\"url(#clip250)\" d=\"M 0 0 M85.1818 408.379 L90.066 408.379 L90.066 414.259 L85.1818 414.259 L85.1818 408.379 Z\" fill=\"#000000\" fill-rule=\"evenodd\" fill-opacity=\"1\" /><path clip-path=\"url(#clip250)\" d=\"M 0 0 M104.279 410.324 L120.598 410.324 L120.598 414.259 L98.6539 414.259 L98.6539 410.324 Q101.316 407.569 105.899 402.94 Q110.506 398.287 111.686 396.944 Q113.932 394.421 114.811 392.685 Q115.714 390.926 115.714 389.236 Q115.714 386.481 113.77 384.745 Q111.848 383.009 108.746 383.009 Q106.547 383.009 104.094 383.773 Q101.663 384.537 98.8854 386.088 L98.8854 381.366 Q101.709 380.231 104.163 379.653 Q106.617 379.074 108.654 379.074 Q114.024 379.074 117.219 381.759 Q120.413 384.444 120.413 388.935 Q120.413 391.065 119.603 392.986 Q118.816 394.884 116.709 397.477 Q116.131 398.148 113.029 401.366 Q109.927 404.56 104.279 410.324 Z\" fill=\"#000000\" fill-rule=\"evenodd\" fill-opacity=\"1\" /><path clip-path=\"url(#clip250)\" d=\"M 0 0 M53.7467 204.322 L61.3856 204.322 L61.3856 177.956 L53.0754 179.623 L53.0754 175.364 L61.3393 173.697 L66.0152 173.697 L66.0152 204.322 L73.654 204.322 L73.654 208.257 L53.7467 208.257 L53.7467 204.322 Z\" fill=\"#000000\" fill-rule=\"evenodd\" fill-opacity=\"1\" /><path clip-path=\"url(#clip250)\" d=\"M 0 0 M83.0984 202.378 L87.9827 202.378 L87.9827 208.257 L83.0984 208.257 L83.0984 202.378 Z\" fill=\"#000000\" fill-rule=\"evenodd\" fill-opacity=\"1\" /><path clip-path=\"url(#clip250)\" d=\"M 0 0 M111.015 177.771 L99.2095 196.22 L111.015 196.22 L111.015 177.771 M109.788 173.697 L115.668 173.697 L115.668 196.22 L120.598 196.22 L120.598 200.109 L115.668 200.109 L115.668 208.257 L111.015 208.257 L111.015 200.109 L95.4132 200.109 L95.4132 195.595 L109.788 173.697 Z\" fill=\"#000000\" fill-rule=\"evenodd\" fill-opacity=\"1\" /><polyline clip-path=\"url(#clip252)\" style=\"stroke:#009af9; stroke-width:4; stroke-opacity:1; fill:none\" points=\"\n",
       "  285.587,1117.99 352.421,1272.49 419.255,1289.65 486.089,1323.99 552.922,1365.19 619.756,1375.49 686.59,1397.56 753.424,1401.24 820.258,1415.54 887.091,1437.29 \n",
       "  953.925,1445.72 1020.76,1444.16 1087.59,1434.91 1154.43,1434.35 1221.26,1426.99 1288.09,1414.11 1354.93,1396.69 1421.76,1386.93 1488.6,1383.62 1555.43,1375.49 \n",
       "  1622.26,1363.23 1689.1,1347.4 1755.93,1337.42 1822.76,1332.57 1889.6,1328.11 1956.43,1323.99 2023.27,1320.17 2090.1,1320.31 2156.93,1323.99 2223.77,1330.85 \n",
       "  2290.6,1340.6 \n",
       "  \"/>\n",
       "<polyline clip-path=\"url(#clip252)\" style=\"stroke:#e26f46; stroke-width:4; stroke-opacity:1; fill:none\" points=\"\n",
       "  285.587,87.9763 352.421,448.48 419.255,602.981 486.089,654.481 552.922,664.781 619.756,688.815 686.59,691.267 753.424,705.982 820.258,705.982 887.091,695.682 \n",
       "  953.925,696.618 1020.76,705.982 1087.59,721.828 1154.43,728.053 1221.26,740.315 1288.09,757.482 1354.93,778.688 1421.76,791.816 1488.6,798.141 1555.43,808.983 \n",
       "  1622.26,823.697 1689.1,841.756 1755.93,853.766 1822.76,860.483 1889.6,866.663 1956.43,872.368 2023.27,877.65 2090.1,878.876 2156.93,876.466 2223.77,870.783 \n",
       "  2290.6,862.144 \n",
       "  \"/>\n",
       "<path clip-path=\"url(#clip250)\" d=\"\n",
       "M1983.1 276.658 L2279.55 276.658 L2279.55 95.2176 L1983.1 95.2176  Z\n",
       "  \" fill=\"#ffffff\" fill-rule=\"evenodd\" fill-opacity=\"1\"/>\n",
       "<polyline clip-path=\"url(#clip250)\" style=\"stroke:#000000; stroke-width:4; stroke-opacity:1; fill:none\" points=\"\n",
       "  1983.1,276.658 2279.55,276.658 2279.55,95.2176 1983.1,95.2176 1983.1,276.658 \n",
       "  \"/>\n",
       "<polyline clip-path=\"url(#clip250)\" style=\"stroke:#009af9; stroke-width:4; stroke-opacity:1; fill:none\" points=\"\n",
       "  2007.5,155.698 2153.92,155.698 \n",
       "  \"/>\n",
       "<path clip-path=\"url(#clip250)\" d=\"M 0 0 M2192.16 175.385 Q2190.35 180.015 2188.64 181.427 Q2186.93 182.839 2184.06 182.839 L2180.65 182.839 L2180.65 179.274 L2183.15 179.274 Q2184.91 179.274 2185.89 178.44 Q2186.86 177.607 2188.04 174.505 L2188.8 172.561 L2178.32 147.052 L2182.83 147.052 L2190.93 167.329 L2199.03 147.052 L2203.55 147.052 L2192.16 175.385 Z\" fill=\"#000000\" fill-rule=\"evenodd\" fill-opacity=\"1\" /><path clip-path=\"url(#clip250)\" d=\"M 0 0 M2210.84 169.042 L2218.48 169.042 L2218.48 142.677 L2210.17 144.343 L2210.17 140.084 L2218.43 138.418 L2223.11 138.418 L2223.11 169.042 L2230.75 169.042 L2230.75 172.978 L2210.84 172.978 L2210.84 169.042 Z\" fill=\"#000000\" fill-rule=\"evenodd\" fill-opacity=\"1\" /><polyline clip-path=\"url(#clip250)\" style=\"stroke:#e26f46; stroke-width:4; stroke-opacity:1; fill:none\" points=\"\n",
       "  2007.5,216.178 2153.92,216.178 \n",
       "  \"/>\n",
       "<path clip-path=\"url(#clip250)\" d=\"M 0 0 M2192.16 235.865 Q2190.35 240.495 2188.64 241.907 Q2186.93 243.319 2184.06 243.319 L2180.65 243.319 L2180.65 239.754 L2183.15 239.754 Q2184.91 239.754 2185.89 238.92 Q2186.86 238.087 2188.04 234.985 L2188.8 233.041 L2178.32 207.532 L2182.83 207.532 L2190.93 227.809 L2199.03 207.532 L2203.55 207.532 L2192.16 235.865 Z\" fill=\"#000000\" fill-rule=\"evenodd\" fill-opacity=\"1\" /><path clip-path=\"url(#clip250)\" d=\"M 0 0 M2214.06 229.522 L2230.38 229.522 L2230.38 233.458 L2208.43 233.458 L2208.43 229.522 Q2211.09 226.768 2215.68 222.138 Q2220.28 217.485 2221.46 216.143 Q2223.71 213.62 2224.59 211.884 Q2225.49 210.124 2225.49 208.435 Q2225.49 205.68 2223.55 203.944 Q2221.63 202.208 2218.52 202.208 Q2216.33 202.208 2213.87 202.972 Q2211.44 203.735 2208.66 205.286 L2208.66 200.564 Q2211.49 199.43 2213.94 198.851 Q2216.4 198.273 2218.43 198.273 Q2223.8 198.273 2227 200.958 Q2230.19 203.643 2230.19 208.134 Q2230.19 210.263 2229.38 212.185 Q2228.59 214.083 2226.49 216.675 Q2225.91 217.347 2222.81 220.564 Q2219.71 223.759 2214.06 229.522 Z\" fill=\"#000000\" fill-rule=\"evenodd\" fill-opacity=\"1\" /></svg>\n"
      ]
     },
     "execution_count": 520,
     "metadata": {},
     "output_type": "execute_result"
    }
   ],
   "source": [
    "v=8\n",
    "\n",
    "MC_prova_Ne = MC_Ne(Lstate(20), 10, v, 1000)\n",
    "\n",
    "y=collect(1:MC_prova_Ne[3])\n",
    "\n",
    "plot(y,MC_prova_Ne[1])\n",
    "plot!(y,MC_prova_Ne[2])\n",
    "\n"
   ]
  },
  {
   "cell_type": "code",
   "execution_count": 519,
   "metadata": {},
   "outputs": [
    {
     "ename": "LoadError",
     "evalue": "\u001b[91mExpects 5 elements in each col of y, found 0.\u001b[39m",
     "output_type": "error",
     "traceback": [
      "\u001b[91mExpects 5 elements in each col of y, found 0.\u001b[39m",
      "",
      "Stacktrace:",
      " [1] error(::String) at ./error.jl:33",
      " [2] _compute_xyz(::Array{Float64,1}, ::Array{Float64,1}, ::Nothing, ::Bool) at /Users/dianal.monroy/.julia/packages/RecipesPipeline/CirY4/src/series.jl:97",
      " [3] macro expansion at /Users/dianal.monroy/.julia/packages/RecipesPipeline/CirY4/src/series.jl:163 [inlined]",
      " [4] apply_recipe(::AbstractDict{Symbol,Any}, ::Type{RecipesPipeline.SliceIt}, ::Any, ::Any, ::Any) at /Users/dianal.monroy/.julia/packages/RecipesBase/92zOw/src/RecipesBase.jl:282",
      " [5] _process_userrecipes!(::Any, ::Any, ::Any) at /Users/dianal.monroy/.julia/packages/RecipesPipeline/CirY4/src/user_recipe.jl:36",
      " [6] recipe_pipeline!(::Any, ::Any, ::Any) at /Users/dianal.monroy/.julia/packages/RecipesPipeline/CirY4/src/RecipesPipeline.jl:70",
      " [7] _plot!(::Plots.Plot, ::Any, ::Any) at /Users/dianal.monroy/.julia/packages/Plots/SVksJ/src/plot.jl:172",
      " [8] #plot#144 at /Users/dianal.monroy/.julia/packages/Plots/SVksJ/src/plot.jl:58 [inlined]",
      " [9] plot(::Any, ::Any) at /Users/dianal.monroy/.julia/packages/Plots/SVksJ/src/plot.jl:52",
      " [10] top-level scope at In[519]:23",
      " [11] include_string(::Function, ::Module, ::String, ::String) at ./loading.jl:1091"
     ]
    }
   ],
   "source": [
    "using Plots\n",
    "    \n",
    "A = []\n",
    "B = []\n",
    "\n",
    "n = [1000,2000,5000,10000,15000]\n",
    "v = collect(2:8)\n",
    "\n",
    "    for v=2\n",
    "        yA = zeros(0)\n",
    "        yB = zeros(0)\n",
    "\n",
    "        for nsteps in n\n",
    "            MC_prova = MC(state_prova, 10, v, nsteps)\n",
    "            append!(yA, MC_prova[1][MC_prova[3]])\n",
    "            append!(yB, MC_prova[2][MC_prova[3]])\n",
    "        end\n",
    "    \n",
    "    push!(A,yA)\n",
    "    push!(B,yB)\n",
    "    end\n",
    "\n",
    "p = plot(n,zeros(0,length(n)))\n",
    "\n",
    "    for i in length(v)\n",
    "        plot!(n,A[i])\n",
    "        plot!(n,B[i])\n",
    "    end\n"
   ]
  },
  {
   "cell_type": "code",
   "execution_count": 463,
   "metadata": {},
   "outputs": [
    {
     "data": {
      "text/plain": [
       "0×5 Array{Float64,2}"
      ]
     },
     "execution_count": 463,
     "metadata": {},
     "output_type": "execute_result"
    }
   ],
   "source": [
    "zeros(0,length(n))"
   ]
  },
  {
   "cell_type": "code",
   "execution_count": 459,
   "metadata": {},
   "outputs": [
    {
     "data": {
      "image/svg+xml": [
       "<?xml version=\"1.0\" encoding=\"utf-8\"?>\n",
       "<svg xmlns=\"http://www.w3.org/2000/svg\" xmlns:xlink=\"http://www.w3.org/1999/xlink\" width=\"600\" height=\"400\" viewBox=\"0 0 2400 1600\">\n",
       "<defs>\n",
       "  <clipPath id=\"clip690\">\n",
       "    <rect x=\"0\" y=\"0\" width=\"2400\" height=\"1600\"/>\n",
       "  </clipPath>\n",
       "</defs>\n",
       "<path clip-path=\"url(#clip690)\" d=\"\n",
       "M0 1600 L2400 1600 L2400 0 L0 0  Z\n",
       "  \" fill=\"#ffffff\" fill-rule=\"evenodd\" fill-opacity=\"1\"/>\n",
       "<defs>\n",
       "  <clipPath id=\"clip691\">\n",
       "    <rect x=\"480\" y=\"0\" width=\"1681\" height=\"1600\"/>\n",
       "  </clipPath>\n",
       "</defs>\n",
       "<path clip-path=\"url(#clip690)\" d=\"\n",
       "M186.274 1486.45 L2352.76 1486.45 L2352.76 47.2441 L186.274 47.2441  Z\n",
       "  \" fill=\"#ffffff\" fill-rule=\"evenodd\" fill-opacity=\"1\"/>\n",
       "<defs>\n",
       "  <clipPath id=\"clip692\">\n",
       "    <rect x=\"186\" y=\"47\" width=\"2167\" height=\"1440\"/>\n",
       "  </clipPath>\n",
       "</defs>\n",
       "<polyline clip-path=\"url(#clip692)\" style=\"stroke:#000000; stroke-width:2; stroke-opacity:0.1; fill:none\" points=\"\n",
       "  247.59,1486.45 247.59,47.2441 \n",
       "  \"/>\n",
       "<polyline clip-path=\"url(#clip692)\" style=\"stroke:#000000; stroke-width:2; stroke-opacity:0.1; fill:none\" points=\"\n",
       "  588.231,1486.45 588.231,47.2441 \n",
       "  \"/>\n",
       "<polyline clip-path=\"url(#clip692)\" style=\"stroke:#000000; stroke-width:2; stroke-opacity:0.1; fill:none\" points=\"\n",
       "  928.873,1486.45 928.873,47.2441 \n",
       "  \"/>\n",
       "<polyline clip-path=\"url(#clip692)\" style=\"stroke:#000000; stroke-width:2; stroke-opacity:0.1; fill:none\" points=\"\n",
       "  1269.51,1486.45 1269.51,47.2441 \n",
       "  \"/>\n",
       "<polyline clip-path=\"url(#clip692)\" style=\"stroke:#000000; stroke-width:2; stroke-opacity:0.1; fill:none\" points=\"\n",
       "  1610.16,1486.45 1610.16,47.2441 \n",
       "  \"/>\n",
       "<polyline clip-path=\"url(#clip692)\" style=\"stroke:#000000; stroke-width:2; stroke-opacity:0.1; fill:none\" points=\"\n",
       "  1950.8,1486.45 1950.8,47.2441 \n",
       "  \"/>\n",
       "<polyline clip-path=\"url(#clip692)\" style=\"stroke:#000000; stroke-width:2; stroke-opacity:0.1; fill:none\" points=\"\n",
       "  2291.44,1486.45 2291.44,47.2441 \n",
       "  \"/>\n",
       "<polyline clip-path=\"url(#clip690)\" style=\"stroke:#000000; stroke-width:4; stroke-opacity:1; fill:none\" points=\"\n",
       "  186.274,1486.45 2352.76,1486.45 \n",
       "  \"/>\n",
       "<polyline clip-path=\"url(#clip690)\" style=\"stroke:#000000; stroke-width:4; stroke-opacity:1; fill:none\" points=\"\n",
       "  247.59,1486.45 247.59,1469.18 \n",
       "  \"/>\n",
       "<polyline clip-path=\"url(#clip690)\" style=\"stroke:#000000; stroke-width:4; stroke-opacity:1; fill:none\" points=\"\n",
       "  588.231,1486.45 588.231,1469.18 \n",
       "  \"/>\n",
       "<polyline clip-path=\"url(#clip690)\" style=\"stroke:#000000; stroke-width:4; stroke-opacity:1; fill:none\" points=\"\n",
       "  928.873,1486.45 928.873,1469.18 \n",
       "  \"/>\n",
       "<polyline clip-path=\"url(#clip690)\" style=\"stroke:#000000; stroke-width:4; stroke-opacity:1; fill:none\" points=\"\n",
       "  1269.51,1486.45 1269.51,1469.18 \n",
       "  \"/>\n",
       "<polyline clip-path=\"url(#clip690)\" style=\"stroke:#000000; stroke-width:4; stroke-opacity:1; fill:none\" points=\"\n",
       "  1610.16,1486.45 1610.16,1469.18 \n",
       "  \"/>\n",
       "<polyline clip-path=\"url(#clip690)\" style=\"stroke:#000000; stroke-width:4; stroke-opacity:1; fill:none\" points=\"\n",
       "  1950.8,1486.45 1950.8,1469.18 \n",
       "  \"/>\n",
       "<polyline clip-path=\"url(#clip690)\" style=\"stroke:#000000; stroke-width:4; stroke-opacity:1; fill:none\" points=\"\n",
       "  2291.44,1486.45 2291.44,1469.18 \n",
       "  \"/>\n",
       "<path clip-path=\"url(#clip690)\" d=\"M 0 0 M242.242 1543.18 L258.562 1543.18 L258.562 1547.12 L236.617 1547.12 L236.617 1543.18 Q239.279 1540.43 243.863 1535.8 Q248.469 1531.15 249.65 1529.81 Q251.895 1527.28 252.775 1525.55 Q253.677 1523.79 253.677 1522.1 Q253.677 1519.34 251.733 1517.61 Q249.812 1515.87 246.71 1515.87 Q244.511 1515.87 242.057 1516.63 Q239.627 1517.4 236.849 1518.95 L236.849 1514.23 Q239.673 1513.09 242.127 1512.51 Q244.58 1511.93 246.617 1511.93 Q251.988 1511.93 255.182 1514.62 Q258.377 1517.31 258.377 1521.8 Q258.377 1523.93 257.566 1525.85 Q256.779 1527.74 254.673 1530.34 Q254.094 1531.01 250.992 1534.23 Q247.89 1537.42 242.242 1543.18 Z\" fill=\"#000000\" fill-rule=\"evenodd\" fill-opacity=\"1\" /><path clip-path=\"url(#clip690)\" d=\"M 0 0 M592.479 1528.49 Q595.835 1529.2 597.71 1531.47 Q599.609 1533.74 599.609 1537.07 Q599.609 1542.19 596.09 1544.99 Q592.572 1547.79 586.09 1547.79 Q583.914 1547.79 581.599 1547.35 Q579.308 1546.93 576.854 1546.08 L576.854 1541.56 Q578.799 1542.7 581.113 1543.28 Q583.428 1543.86 585.951 1543.86 Q590.349 1543.86 592.641 1542.12 Q594.956 1540.38 594.956 1537.07 Q594.956 1534.02 592.803 1532.31 Q590.673 1530.57 586.854 1530.57 L582.826 1530.57 L582.826 1526.73 L587.039 1526.73 Q590.488 1526.73 592.317 1525.36 Q594.146 1523.97 594.146 1521.38 Q594.146 1518.72 592.248 1517.31 Q590.373 1515.87 586.854 1515.87 Q584.933 1515.87 582.734 1516.29 Q580.535 1516.7 577.896 1517.58 L577.896 1513.42 Q580.558 1512.68 582.873 1512.31 Q585.211 1511.93 587.271 1511.93 Q592.595 1511.93 595.697 1514.37 Q598.798 1516.77 598.798 1520.89 Q598.798 1523.76 597.155 1525.75 Q595.511 1527.72 592.479 1528.49 Z\" fill=\"#000000\" fill-rule=\"evenodd\" fill-opacity=\"1\" /><path clip-path=\"url(#clip690)\" d=\"M 0 0 M931.882 1516.63 L920.077 1535.08 L931.882 1535.08 L931.882 1516.63 M930.656 1512.56 L936.535 1512.56 L936.535 1535.08 L941.466 1535.08 L941.466 1538.97 L936.535 1538.97 L936.535 1547.12 L931.882 1547.12 L931.882 1538.97 L916.281 1538.97 L916.281 1534.46 L930.656 1512.56 Z\" fill=\"#000000\" fill-rule=\"evenodd\" fill-opacity=\"1\" /><path clip-path=\"url(#clip690)\" d=\"M 0 0 M1259.79 1512.56 L1278.15 1512.56 L1278.15 1516.5 L1264.08 1516.5 L1264.08 1524.97 Q1265.09 1524.62 1266.11 1524.46 Q1267.13 1524.27 1268.15 1524.27 Q1273.94 1524.27 1277.32 1527.44 Q1280.7 1530.62 1280.7 1536.03 Q1280.7 1541.61 1277.22 1544.71 Q1273.75 1547.79 1267.43 1547.79 Q1265.26 1547.79 1262.99 1547.42 Q1260.74 1547.05 1258.33 1546.31 L1258.33 1541.61 Q1260.42 1542.74 1262.64 1543.3 Q1264.86 1543.86 1267.34 1543.86 Q1271.34 1543.86 1273.68 1541.75 Q1276.02 1539.64 1276.02 1536.03 Q1276.02 1532.42 1273.68 1530.31 Q1271.34 1528.21 1267.34 1528.21 Q1265.46 1528.21 1263.59 1528.62 Q1261.74 1529.04 1259.79 1529.92 L1259.79 1512.56 Z\" fill=\"#000000\" fill-rule=\"evenodd\" fill-opacity=\"1\" /><path clip-path=\"url(#clip690)\" d=\"M 0 0 M1610.56 1527.98 Q1607.41 1527.98 1605.56 1530.13 Q1603.73 1532.28 1603.73 1536.03 Q1603.73 1539.76 1605.56 1541.93 Q1607.41 1544.09 1610.56 1544.09 Q1613.71 1544.09 1615.54 1541.93 Q1617.39 1539.76 1617.39 1536.03 Q1617.39 1532.28 1615.54 1530.13 Q1613.71 1527.98 1610.56 1527.98 M1619.84 1513.32 L1619.84 1517.58 Q1618.08 1516.75 1616.28 1516.31 Q1614.5 1515.87 1612.74 1515.87 Q1608.11 1515.87 1605.65 1519 Q1603.22 1522.12 1602.88 1528.44 Q1604.24 1526.43 1606.3 1525.36 Q1608.36 1524.27 1610.84 1524.27 Q1616.05 1524.27 1619.06 1527.44 Q1622.09 1530.59 1622.09 1536.03 Q1622.09 1541.36 1618.94 1544.57 Q1615.79 1547.79 1610.56 1547.79 Q1604.57 1547.79 1601.4 1543.21 Q1598.22 1538.6 1598.22 1529.87 Q1598.22 1521.68 1602.11 1516.82 Q1606 1511.93 1612.55 1511.93 Q1614.31 1511.93 1616.09 1512.28 Q1617.9 1512.63 1619.84 1513.32 Z\" fill=\"#000000\" fill-rule=\"evenodd\" fill-opacity=\"1\" /><path clip-path=\"url(#clip690)\" d=\"M 0 0 M1939.69 1512.56 L1961.91 1512.56 L1961.91 1514.55 L1949.36 1547.12 L1944.48 1547.12 L1956.28 1516.5 L1939.69 1516.5 L1939.69 1512.56 Z\" fill=\"#000000\" fill-rule=\"evenodd\" fill-opacity=\"1\" /><path clip-path=\"url(#clip690)\" d=\"M 0 0 M2291.44 1530.71 Q2288.11 1530.71 2286.19 1532.49 Q2284.29 1534.27 2284.29 1537.4 Q2284.29 1540.52 2286.19 1542.31 Q2288.11 1544.09 2291.44 1544.09 Q2294.77 1544.09 2296.69 1542.31 Q2298.62 1540.5 2298.62 1537.4 Q2298.62 1534.27 2296.69 1532.49 Q2294.8 1530.71 2291.44 1530.71 M2286.76 1528.72 Q2283.76 1527.98 2282.07 1525.92 Q2280.4 1523.86 2280.4 1520.89 Q2280.4 1516.75 2283.34 1514.34 Q2286.3 1511.93 2291.44 1511.93 Q2296.6 1511.93 2299.54 1514.34 Q2302.48 1516.75 2302.48 1520.89 Q2302.48 1523.86 2300.79 1525.92 Q2299.13 1527.98 2296.14 1528.72 Q2299.52 1529.5 2301.39 1531.8 Q2303.29 1534.09 2303.29 1537.4 Q2303.29 1542.42 2300.21 1545.11 Q2297.16 1547.79 2291.44 1547.79 Q2285.72 1547.79 2282.64 1545.11 Q2279.59 1542.42 2279.59 1537.4 Q2279.59 1534.09 2281.49 1531.8 Q2283.38 1529.5 2286.76 1528.72 M2285.05 1521.33 Q2285.05 1524.02 2286.72 1525.52 Q2288.41 1527.03 2291.44 1527.03 Q2294.45 1527.03 2296.14 1525.52 Q2297.85 1524.02 2297.85 1521.33 Q2297.85 1518.65 2296.14 1517.14 Q2294.45 1515.64 2291.44 1515.64 Q2288.41 1515.64 2286.72 1517.14 Q2285.05 1518.65 2285.05 1521.33 Z\" fill=\"#000000\" fill-rule=\"evenodd\" fill-opacity=\"1\" /><polyline clip-path=\"url(#clip692)\" style=\"stroke:#000000; stroke-width:2; stroke-opacity:0.1; fill:none\" points=\"\n",
       "  186.274,1255.76 2352.76,1255.76 \n",
       "  \"/>\n",
       "<polyline clip-path=\"url(#clip692)\" style=\"stroke:#000000; stroke-width:2; stroke-opacity:0.1; fill:none\" points=\"\n",
       "  186.274,1011.3 2352.76,1011.3 \n",
       "  \"/>\n",
       "<polyline clip-path=\"url(#clip692)\" style=\"stroke:#000000; stroke-width:2; stroke-opacity:0.1; fill:none\" points=\"\n",
       "  186.274,766.846 2352.76,766.846 \n",
       "  \"/>\n",
       "<polyline clip-path=\"url(#clip692)\" style=\"stroke:#000000; stroke-width:2; stroke-opacity:0.1; fill:none\" points=\"\n",
       "  186.274,522.391 2352.76,522.391 \n",
       "  \"/>\n",
       "<polyline clip-path=\"url(#clip692)\" style=\"stroke:#000000; stroke-width:2; stroke-opacity:0.1; fill:none\" points=\"\n",
       "  186.274,277.935 2352.76,277.935 \n",
       "  \"/>\n",
       "<polyline clip-path=\"url(#clip690)\" style=\"stroke:#000000; stroke-width:4; stroke-opacity:1; fill:none\" points=\"\n",
       "  186.274,1486.45 186.274,47.2441 \n",
       "  \"/>\n",
       "<polyline clip-path=\"url(#clip690)\" style=\"stroke:#000000; stroke-width:4; stroke-opacity:1; fill:none\" points=\"\n",
       "  186.274,1255.76 212.272,1255.76 \n",
       "  \"/>\n",
       "<polyline clip-path=\"url(#clip690)\" style=\"stroke:#000000; stroke-width:4; stroke-opacity:1; fill:none\" points=\"\n",
       "  186.274,1011.3 212.272,1011.3 \n",
       "  \"/>\n",
       "<polyline clip-path=\"url(#clip690)\" style=\"stroke:#000000; stroke-width:4; stroke-opacity:1; fill:none\" points=\"\n",
       "  186.274,766.846 212.272,766.846 \n",
       "  \"/>\n",
       "<polyline clip-path=\"url(#clip690)\" style=\"stroke:#000000; stroke-width:4; stroke-opacity:1; fill:none\" points=\"\n",
       "  186.274,522.391 212.272,522.391 \n",
       "  \"/>\n",
       "<polyline clip-path=\"url(#clip690)\" style=\"stroke:#000000; stroke-width:4; stroke-opacity:1; fill:none\" points=\"\n",
       "  186.274,277.935 212.272,277.935 \n",
       "  \"/>\n",
       "<path clip-path=\"url(#clip690)\" d=\"M 0 0 M62.9365 1241.56 Q59.3254 1241.56 57.4967 1245.12 Q55.6912 1248.66 55.6912 1255.79 Q55.6912 1262.9 57.4967 1266.46 Q59.3254 1270 62.9365 1270 Q66.5707 1270 68.3763 1266.46 Q70.205 1262.9 70.205 1255.79 Q70.205 1248.66 68.3763 1245.12 Q66.5707 1241.56 62.9365 1241.56 M62.9365 1237.85 Q68.7467 1237.85 71.8022 1242.46 Q74.8809 1247.04 74.8809 1255.79 Q74.8809 1264.52 71.8022 1269.12 Q68.7467 1273.71 62.9365 1273.71 Q57.1264 1273.71 54.0477 1269.12 Q50.9921 1264.52 50.9921 1255.79 Q50.9921 1247.04 54.0477 1242.46 Q57.1264 1237.85 62.9365 1237.85 Z\" fill=\"#000000\" fill-rule=\"evenodd\" fill-opacity=\"1\" /><path clip-path=\"url(#clip690)\" d=\"M 0 0 M83.0984 1267.16 L87.9827 1267.16 L87.9827 1273.04 L83.0984 1273.04 L83.0984 1267.16 Z\" fill=\"#000000\" fill-rule=\"evenodd\" fill-opacity=\"1\" /><path clip-path=\"url(#clip690)\" d=\"M 0 0 M111.015 1242.55 L99.2095 1261 L111.015 1261 L111.015 1242.55 M109.788 1238.48 L115.668 1238.48 L115.668 1261 L120.598 1261 L120.598 1264.89 L115.668 1264.89 L115.668 1273.04 L111.015 1273.04 L111.015 1264.89 L95.4132 1264.89 L95.4132 1260.37 L109.788 1238.48 Z\" fill=\"#000000\" fill-rule=\"evenodd\" fill-opacity=\"1\" /><path clip-path=\"url(#clip690)\" d=\"M 0 0 M138.33 1241.56 Q134.719 1241.56 132.89 1245.12 Q131.084 1248.66 131.084 1255.79 Q131.084 1262.9 132.89 1266.46 Q134.719 1270 138.33 1270 Q141.964 1270 143.769 1266.46 Q145.598 1262.9 145.598 1255.79 Q145.598 1248.66 143.769 1245.12 Q141.964 1241.56 138.33 1241.56 M138.33 1237.85 Q144.14 1237.85 147.195 1242.46 Q150.274 1247.04 150.274 1255.79 Q150.274 1264.52 147.195 1269.12 Q144.14 1273.71 138.33 1273.71 Q132.519 1273.71 129.441 1269.12 Q126.385 1264.52 126.385 1255.79 Q126.385 1247.04 129.441 1242.46 Q132.519 1237.85 138.33 1237.85 Z\" fill=\"#000000\" fill-rule=\"evenodd\" fill-opacity=\"1\" /><path clip-path=\"url(#clip690)\" d=\"M 0 0 M63.9319 997.1 Q60.3208 997.1 58.4921 1000.66 Q56.6865 1004.21 56.6865 1011.34 Q56.6865 1018.44 58.4921 1022.01 Q60.3208 1025.55 63.9319 1025.55 Q67.5661 1025.55 69.3717 1022.01 Q71.2004 1018.44 71.2004 1011.34 Q71.2004 1004.21 69.3717 1000.66 Q67.5661 997.1 63.9319 997.1 M63.9319 993.396 Q69.742 993.396 72.7976 998.003 Q75.8763 1002.59 75.8763 1011.34 Q75.8763 1020.06 72.7976 1024.67 Q69.742 1029.25 63.9319 1029.25 Q58.1217 1029.25 55.043 1024.67 Q51.9875 1020.06 51.9875 1011.34 Q51.9875 1002.59 55.043 998.003 Q58.1217 993.396 63.9319 993.396 Z\" fill=\"#000000\" fill-rule=\"evenodd\" fill-opacity=\"1\" /><path clip-path=\"url(#clip690)\" d=\"M 0 0 M84.0938 1022.7 L88.978 1022.7 L88.978 1028.58 L84.0938 1028.58 L84.0938 1022.7 Z\" fill=\"#000000\" fill-rule=\"evenodd\" fill-opacity=\"1\" /><path clip-path=\"url(#clip690)\" d=\"M 0 0 M112.01 998.095 L100.205 1016.54 L112.01 1016.54 L112.01 998.095 M110.783 994.021 L116.663 994.021 L116.663 1016.54 L121.594 1016.54 L121.594 1020.43 L116.663 1020.43 L116.663 1028.58 L112.01 1028.58 L112.01 1020.43 L96.4085 1020.43 L96.4085 1015.92 L110.783 994.021 Z\" fill=\"#000000\" fill-rule=\"evenodd\" fill-opacity=\"1\" /><path clip-path=\"url(#clip690)\" d=\"M 0 0 M129.371 994.021 L147.728 994.021 L147.728 997.957 L133.654 997.957 L133.654 1006.43 Q134.672 1006.08 135.691 1005.92 Q136.709 1005.73 137.728 1005.73 Q143.515 1005.73 146.894 1008.91 Q150.274 1012.08 150.274 1017.49 Q150.274 1023.07 146.802 1026.17 Q143.33 1029.25 137.01 1029.25 Q134.834 1029.25 132.566 1028.88 Q130.32 1028.51 127.913 1027.77 L127.913 1023.07 Q129.996 1024.21 132.219 1024.76 Q134.441 1025.32 136.918 1025.32 Q140.922 1025.32 143.26 1023.21 Q145.598 1021.1 145.598 1017.49 Q145.598 1013.88 143.26 1011.78 Q140.922 1009.67 136.918 1009.67 Q135.043 1009.67 133.168 1010.09 Q131.316 1010.5 129.371 1011.38 L129.371 994.021 Z\" fill=\"#000000\" fill-rule=\"evenodd\" fill-opacity=\"1\" /><path clip-path=\"url(#clip690)\" d=\"M 0 0 M62.9365 752.645 Q59.3254 752.645 57.4967 756.209 Q55.6912 759.751 55.6912 766.881 Q55.6912 773.987 57.4967 777.552 Q59.3254 781.094 62.9365 781.094 Q66.5707 781.094 68.3763 777.552 Q70.205 773.987 70.205 766.881 Q70.205 759.751 68.3763 756.209 Q66.5707 752.645 62.9365 752.645 M62.9365 748.941 Q68.7467 748.941 71.8022 753.547 Q74.8809 758.131 74.8809 766.881 Q74.8809 775.608 71.8022 780.214 Q68.7467 784.797 62.9365 784.797 Q57.1264 784.797 54.0477 780.214 Q50.9921 775.608 50.9921 766.881 Q50.9921 758.131 54.0477 753.547 Q57.1264 748.941 62.9365 748.941 Z\" fill=\"#000000\" fill-rule=\"evenodd\" fill-opacity=\"1\" /><path clip-path=\"url(#clip690)\" d=\"M 0 0 M83.0984 778.246 L87.9827 778.246 L87.9827 784.126 L83.0984 784.126 L83.0984 778.246 Z\" fill=\"#000000\" fill-rule=\"evenodd\" fill-opacity=\"1\" /><path clip-path=\"url(#clip690)\" d=\"M 0 0 M98.2141 749.566 L116.57 749.566 L116.57 753.501 L102.496 753.501 L102.496 761.973 Q103.515 761.626 104.534 761.464 Q105.552 761.279 106.571 761.279 Q112.358 761.279 115.737 764.45 Q119.117 767.621 119.117 773.038 Q119.117 778.617 115.645 781.719 Q112.172 784.797 105.853 784.797 Q103.677 784.797 101.409 784.427 Q99.1632 784.057 96.7558 783.316 L96.7558 778.617 Q98.8391 779.751 101.061 780.307 Q103.284 780.862 105.76 780.862 Q109.765 780.862 112.103 778.756 Q114.441 776.649 114.441 773.038 Q114.441 769.427 112.103 767.321 Q109.765 765.214 105.76 765.214 Q103.885 765.214 102.01 765.631 Q100.159 766.047 98.2141 766.927 L98.2141 749.566 Z\" fill=\"#000000\" fill-rule=\"evenodd\" fill-opacity=\"1\" /><path clip-path=\"url(#clip690)\" d=\"M 0 0 M138.33 752.645 Q134.719 752.645 132.89 756.209 Q131.084 759.751 131.084 766.881 Q131.084 773.987 132.89 777.552 Q134.719 781.094 138.33 781.094 Q141.964 781.094 143.769 777.552 Q145.598 773.987 145.598 766.881 Q145.598 759.751 143.769 756.209 Q141.964 752.645 138.33 752.645 M138.33 748.941 Q144.14 748.941 147.195 753.547 Q150.274 758.131 150.274 766.881 Q150.274 775.608 147.195 780.214 Q144.14 784.797 138.33 784.797 Q132.519 784.797 129.441 780.214 Q126.385 775.608 126.385 766.881 Q126.385 758.131 129.441 753.547 Q132.519 748.941 138.33 748.941 Z\" fill=\"#000000\" fill-rule=\"evenodd\" fill-opacity=\"1\" /><path clip-path=\"url(#clip690)\" d=\"M 0 0 M63.9319 508.189 Q60.3208 508.189 58.4921 511.754 Q56.6865 515.296 56.6865 522.425 Q56.6865 529.532 58.4921 533.097 Q60.3208 536.638 63.9319 536.638 Q67.5661 536.638 69.3717 533.097 Q71.2004 529.532 71.2004 522.425 Q71.2004 515.296 69.3717 511.754 Q67.5661 508.189 63.9319 508.189 M63.9319 504.486 Q69.742 504.486 72.7976 509.092 Q75.8763 513.675 75.8763 522.425 Q75.8763 531.152 72.7976 535.759 Q69.742 540.342 63.9319 540.342 Q58.1217 540.342 55.043 535.759 Q51.9875 531.152 51.9875 522.425 Q51.9875 513.675 55.043 509.092 Q58.1217 504.486 63.9319 504.486 Z\" fill=\"#000000\" fill-rule=\"evenodd\" fill-opacity=\"1\" /><path clip-path=\"url(#clip690)\" d=\"M 0 0 M84.0938 533.791 L88.978 533.791 L88.978 539.671 L84.0938 539.671 L84.0938 533.791 Z\" fill=\"#000000\" fill-rule=\"evenodd\" fill-opacity=\"1\" /><path clip-path=\"url(#clip690)\" d=\"M 0 0 M99.2095 505.111 L117.566 505.111 L117.566 509.046 L103.492 509.046 L103.492 517.518 Q104.51 517.171 105.529 517.009 Q106.547 516.824 107.566 516.824 Q113.353 516.824 116.733 519.995 Q120.112 523.166 120.112 528.583 Q120.112 534.161 116.64 537.263 Q113.168 540.342 106.848 540.342 Q104.672 540.342 102.404 539.972 Q100.159 539.601 97.7511 538.86 L97.7511 534.161 Q99.8345 535.296 102.057 535.851 Q104.279 536.407 106.756 536.407 Q110.76 536.407 113.098 534.3 Q115.436 532.194 115.436 528.583 Q115.436 524.972 113.098 522.865 Q110.76 520.759 106.756 520.759 Q104.881 520.759 103.006 521.175 Q101.154 521.592 99.2095 522.472 L99.2095 505.111 Z\" fill=\"#000000\" fill-rule=\"evenodd\" fill-opacity=\"1\" /><path clip-path=\"url(#clip690)\" d=\"M 0 0 M129.371 505.111 L147.728 505.111 L147.728 509.046 L133.654 509.046 L133.654 517.518 Q134.672 517.171 135.691 517.009 Q136.709 516.824 137.728 516.824 Q143.515 516.824 146.894 519.995 Q150.274 523.166 150.274 528.583 Q150.274 534.161 146.802 537.263 Q143.33 540.342 137.01 540.342 Q134.834 540.342 132.566 539.972 Q130.32 539.601 127.913 538.86 L127.913 534.161 Q129.996 535.296 132.219 535.851 Q134.441 536.407 136.918 536.407 Q140.922 536.407 143.26 534.3 Q145.598 532.194 145.598 528.583 Q145.598 524.972 143.26 522.865 Q140.922 520.759 136.918 520.759 Q135.043 520.759 133.168 521.175 Q131.316 521.592 129.371 522.472 L129.371 505.111 Z\" fill=\"#000000\" fill-rule=\"evenodd\" fill-opacity=\"1\" /><path clip-path=\"url(#clip690)\" d=\"M 0 0 M62.9365 263.734 Q59.3254 263.734 57.4967 267.299 Q55.6912 270.84 55.6912 277.97 Q55.6912 285.076 57.4967 288.641 Q59.3254 292.183 62.9365 292.183 Q66.5707 292.183 68.3763 288.641 Q70.205 285.076 70.205 277.97 Q70.205 270.84 68.3763 267.299 Q66.5707 263.734 62.9365 263.734 M62.9365 260.03 Q68.7467 260.03 71.8022 264.637 Q74.8809 269.22 74.8809 277.97 Q74.8809 286.697 71.8022 291.303 Q68.7467 295.887 62.9365 295.887 Q57.1264 295.887 54.0477 291.303 Q50.9921 286.697 50.9921 277.97 Q50.9921 269.22 54.0477 264.637 Q57.1264 260.03 62.9365 260.03 Z\" fill=\"#000000\" fill-rule=\"evenodd\" fill-opacity=\"1\" /><path clip-path=\"url(#clip690)\" d=\"M 0 0 M83.0984 289.336 L87.9827 289.336 L87.9827 295.215 L83.0984 295.215 L83.0984 289.336 Z\" fill=\"#000000\" fill-rule=\"evenodd\" fill-opacity=\"1\" /><path clip-path=\"url(#clip690)\" d=\"M 0 0 M108.746 276.072 Q105.598 276.072 103.746 278.225 Q101.918 280.377 101.918 284.127 Q101.918 287.854 103.746 290.03 Q105.598 292.183 108.746 292.183 Q111.895 292.183 113.723 290.03 Q115.575 287.854 115.575 284.127 Q115.575 280.377 113.723 278.225 Q111.895 276.072 108.746 276.072 M118.029 261.419 L118.029 265.678 Q116.27 264.845 114.464 264.405 Q112.682 263.965 110.922 263.965 Q106.293 263.965 103.839 267.09 Q101.409 270.215 101.061 276.535 Q102.427 274.521 104.487 273.456 Q106.547 272.368 109.024 272.368 Q114.233 272.368 117.242 275.539 Q120.274 278.688 120.274 284.127 Q120.274 289.451 117.126 292.669 Q113.978 295.887 108.746 295.887 Q102.751 295.887 99.5798 291.303 Q96.4085 286.697 96.4085 277.97 Q96.4085 269.776 100.297 264.914 Q104.186 260.03 110.737 260.03 Q112.496 260.03 114.279 260.377 Q116.084 260.725 118.029 261.419 Z\" fill=\"#000000\" fill-rule=\"evenodd\" fill-opacity=\"1\" /><path clip-path=\"url(#clip690)\" d=\"M 0 0 M138.33 263.734 Q134.719 263.734 132.89 267.299 Q131.084 270.84 131.084 277.97 Q131.084 285.076 132.89 288.641 Q134.719 292.183 138.33 292.183 Q141.964 292.183 143.769 288.641 Q145.598 285.076 145.598 277.97 Q145.598 270.84 143.769 267.299 Q141.964 263.734 138.33 263.734 M138.33 260.03 Q144.14 260.03 147.195 264.637 Q150.274 269.22 150.274 277.97 Q150.274 286.697 147.195 291.303 Q144.14 295.887 138.33 295.887 Q132.519 295.887 129.441 291.303 Q126.385 286.697 126.385 277.97 Q126.385 269.22 129.441 264.637 Q132.519 260.03 138.33 260.03 Z\" fill=\"#000000\" fill-rule=\"evenodd\" fill-opacity=\"1\" /><polyline clip-path=\"url(#clip692)\" style=\"stroke:#009af9; stroke-width:4; stroke-opacity:1; fill:none\" points=\"\n",
       "  247.59,87.9763 588.231,1320.33 928.873,1038.46 1269.51,1299.41 1610.16,1299.41 1950.8,1299.41 2291.44,1299.41 \n",
       "  \"/>\n",
       "<polyline clip-path=\"url(#clip692)\" style=\"stroke:#e26f46; stroke-width:4; stroke-opacity:1; fill:none\" points=\"\n",
       "  247.59,1445.72 588.231,213.362 928.873,495.229 1269.51,234.282 1610.16,234.282 1950.8,234.282 2291.44,234.282 \n",
       "  \"/>\n",
       "<path clip-path=\"url(#clip690)\" d=\"\n",
       "M1987.39 276.658 L2280.54 276.658 L2280.54 95.2176 L1987.39 95.2176  Z\n",
       "  \" fill=\"#ffffff\" fill-rule=\"evenodd\" fill-opacity=\"1\"/>\n",
       "<polyline clip-path=\"url(#clip690)\" style=\"stroke:#000000; stroke-width:4; stroke-opacity:1; fill:none\" points=\"\n",
       "  1987.39,276.658 2280.54,276.658 2280.54,95.2176 1987.39,95.2176 1987.39,276.658 \n",
       "  \"/>\n",
       "<polyline clip-path=\"url(#clip690)\" style=\"stroke:#009af9; stroke-width:4; stroke-opacity:1; fill:none\" points=\"\n",
       "  2011.46,155.698 2155.89,155.698 \n",
       "  \"/>\n",
       "<path clip-path=\"url(#clip690)\" d=\"M 0 0 M2193.81 175.385 Q2192 180.015 2190.29 181.427 Q2188.58 182.839 2185.71 182.839 L2182.3 182.839 L2182.3 179.274 L2184.8 179.274 Q2186.56 179.274 2187.53 178.44 Q2188.51 177.607 2189.69 174.505 L2190.45 172.561 L2179.97 147.052 L2184.48 147.052 L2192.58 167.329 L2200.68 147.052 L2205.2 147.052 L2193.81 175.385 Z\" fill=\"#000000\" fill-rule=\"evenodd\" fill-opacity=\"1\" /><path clip-path=\"url(#clip690)\" d=\"M 0 0 M2212.49 169.042 L2220.13 169.042 L2220.13 142.677 L2211.82 144.343 L2211.82 140.084 L2220.08 138.418 L2224.76 138.418 L2224.76 169.042 L2232.4 169.042 L2232.4 172.978 L2212.49 172.978 L2212.49 169.042 Z\" fill=\"#000000\" fill-rule=\"evenodd\" fill-opacity=\"1\" /><polyline clip-path=\"url(#clip690)\" style=\"stroke:#e26f46; stroke-width:4; stroke-opacity:1; fill:none\" points=\"\n",
       "  2011.46,216.178 2155.89,216.178 \n",
       "  \"/>\n",
       "<path clip-path=\"url(#clip690)\" d=\"M 0 0 M2193.81 235.865 Q2192 240.495 2190.29 241.907 Q2188.58 243.319 2185.71 243.319 L2182.3 243.319 L2182.3 239.754 L2184.8 239.754 Q2186.56 239.754 2187.53 238.92 Q2188.51 238.087 2189.69 234.985 L2190.45 233.041 L2179.97 207.532 L2184.48 207.532 L2192.58 227.809 L2200.68 207.532 L2205.2 207.532 L2193.81 235.865 Z\" fill=\"#000000\" fill-rule=\"evenodd\" fill-opacity=\"1\" /><path clip-path=\"url(#clip690)\" d=\"M 0 0 M2215.71 229.522 L2232.03 229.522 L2232.03 233.458 L2210.08 233.458 L2210.08 229.522 Q2212.74 226.768 2217.33 222.138 Q2221.93 217.485 2223.11 216.143 Q2225.36 213.62 2226.24 211.884 Q2227.14 210.124 2227.14 208.435 Q2227.14 205.68 2225.2 203.944 Q2223.28 202.208 2220.17 202.208 Q2217.97 202.208 2215.52 202.972 Q2213.09 203.735 2210.31 205.286 L2210.31 200.564 Q2213.14 199.43 2215.59 198.851 Q2218.04 198.273 2220.08 198.273 Q2225.45 198.273 2228.65 200.958 Q2231.84 203.643 2231.84 208.134 Q2231.84 210.263 2231.03 212.185 Q2230.24 214.083 2228.14 216.675 Q2227.56 217.347 2224.46 220.564 Q2221.35 223.759 2215.71 229.522 Z\" fill=\"#000000\" fill-rule=\"evenodd\" fill-opacity=\"1\" /></svg>\n"
      ]
     },
     "execution_count": 459,
     "metadata": {},
     "output_type": "execute_result"
    }
   ],
   "source": [
    "using Plots\n",
    "\n",
    "yA = zeros(0)\n",
    "yB = zeros(0)\n",
    "\n",
    "for v=2:8\n",
    "    MC_prova = MC(Lstate(20), 10, v, 1000)\n",
    "    append!(yA, MC_prova[1][MC_prova[3]])\n",
    "    append!(yB, MC_prova[2][MC_prova[3]])\n",
    "end\n",
    "\n",
    "plot(2:8,yA)\n",
    "plot!(2:8,yB)"
   ]
  },
  {
   "cell_type": "code",
   "execution_count": 631,
   "metadata": {},
   "outputs": [
    {
     "data": {
      "image/svg+xml": [
       "<?xml version=\"1.0\" encoding=\"utf-8\"?>\n",
       "<svg xmlns=\"http://www.w3.org/2000/svg\" xmlns:xlink=\"http://www.w3.org/1999/xlink\" width=\"600\" height=\"400\" viewBox=\"0 0 2400 1600\">\n",
       "<defs>\n",
       "  <clipPath id=\"clip170\">\n",
       "    <rect x=\"0\" y=\"0\" width=\"2400\" height=\"1600\"/>\n",
       "  </clipPath>\n",
       "</defs>\n",
       "<path clip-path=\"url(#clip170)\" d=\"\n",
       "M0 1600 L2400 1600 L2400 0 L0 0  Z\n",
       "  \" fill=\"#ffffff\" fill-rule=\"evenodd\" fill-opacity=\"1\"/>\n",
       "<defs>\n",
       "  <clipPath id=\"clip171\">\n",
       "    <rect x=\"480\" y=\"0\" width=\"1681\" height=\"1600\"/>\n",
       "  </clipPath>\n",
       "</defs>\n",
       "<path clip-path=\"url(#clip170)\" d=\"\n",
       "M156.598 1486.45 L2352.76 1486.45 L2352.76 47.2441 L156.598 47.2441  Z\n",
       "  \" fill=\"#ffffff\" fill-rule=\"evenodd\" fill-opacity=\"1\"/>\n",
       "<defs>\n",
       "  <clipPath id=\"clip172\">\n",
       "    <rect x=\"156\" y=\"47\" width=\"2197\" height=\"1440\"/>\n",
       "  </clipPath>\n",
       "</defs>\n",
       "<polyline clip-path=\"url(#clip172)\" style=\"stroke:#000000; stroke-width:2; stroke-opacity:0.1; fill:none\" points=\"\n",
       "  174.672,1486.45 174.672,47.2441 \n",
       "  \"/>\n",
       "<polyline clip-path=\"url(#clip172)\" style=\"stroke:#000000; stroke-width:2; stroke-opacity:0.1; fill:none\" points=\"\n",
       "  615.49,1486.45 615.49,47.2441 \n",
       "  \"/>\n",
       "<polyline clip-path=\"url(#clip172)\" style=\"stroke:#000000; stroke-width:2; stroke-opacity:0.1; fill:none\" points=\"\n",
       "  1056.31,1486.45 1056.31,47.2441 \n",
       "  \"/>\n",
       "<polyline clip-path=\"url(#clip172)\" style=\"stroke:#000000; stroke-width:2; stroke-opacity:0.1; fill:none\" points=\"\n",
       "  1497.13,1486.45 1497.13,47.2441 \n",
       "  \"/>\n",
       "<polyline clip-path=\"url(#clip172)\" style=\"stroke:#000000; stroke-width:2; stroke-opacity:0.1; fill:none\" points=\"\n",
       "  1937.95,1486.45 1937.95,47.2441 \n",
       "  \"/>\n",
       "<polyline clip-path=\"url(#clip170)\" style=\"stroke:#000000; stroke-width:4; stroke-opacity:1; fill:none\" points=\"\n",
       "  156.598,1486.45 2352.76,1486.45 \n",
       "  \"/>\n",
       "<polyline clip-path=\"url(#clip170)\" style=\"stroke:#000000; stroke-width:4; stroke-opacity:1; fill:none\" points=\"\n",
       "  174.672,1486.45 174.672,1469.18 \n",
       "  \"/>\n",
       "<polyline clip-path=\"url(#clip170)\" style=\"stroke:#000000; stroke-width:4; stroke-opacity:1; fill:none\" points=\"\n",
       "  615.49,1486.45 615.49,1469.18 \n",
       "  \"/>\n",
       "<polyline clip-path=\"url(#clip170)\" style=\"stroke:#000000; stroke-width:4; stroke-opacity:1; fill:none\" points=\"\n",
       "  1056.31,1486.45 1056.31,1469.18 \n",
       "  \"/>\n",
       "<polyline clip-path=\"url(#clip170)\" style=\"stroke:#000000; stroke-width:4; stroke-opacity:1; fill:none\" points=\"\n",
       "  1497.13,1486.45 1497.13,1469.18 \n",
       "  \"/>\n",
       "<polyline clip-path=\"url(#clip170)\" style=\"stroke:#000000; stroke-width:4; stroke-opacity:1; fill:none\" points=\"\n",
       "  1937.95,1486.45 1937.95,1469.18 \n",
       "  \"/>\n",
       "<path clip-path=\"url(#clip170)\" d=\"M 0 0 M174.672 1515.64 Q171.061 1515.64 169.232 1519.2 Q167.426 1522.75 167.426 1529.87 Q167.426 1536.98 169.232 1540.55 Q171.061 1544.09 174.672 1544.09 Q178.306 1544.09 180.112 1540.55 Q181.94 1536.98 181.94 1529.87 Q181.94 1522.75 180.112 1519.2 Q178.306 1515.64 174.672 1515.64 M174.672 1511.93 Q180.482 1511.93 183.537 1516.54 Q186.616 1521.12 186.616 1529.87 Q186.616 1538.6 183.537 1543.21 Q180.482 1547.79 174.672 1547.79 Q168.862 1547.79 165.783 1543.21 Q162.727 1538.6 162.727 1529.87 Q162.727 1521.12 165.783 1516.54 Q168.862 1511.93 174.672 1511.93 Z\" fill=\"#000000\" fill-rule=\"evenodd\" fill-opacity=\"1\" /><path clip-path=\"url(#clip170)\" d=\"M 0 0 M590.178 1543.18 L597.817 1543.18 L597.817 1516.82 L589.507 1518.49 L589.507 1514.23 L597.77 1512.56 L602.446 1512.56 L602.446 1543.18 L610.085 1543.18 L610.085 1547.12 L590.178 1547.12 L590.178 1543.18 Z\" fill=\"#000000\" fill-rule=\"evenodd\" fill-opacity=\"1\" /><path clip-path=\"url(#clip170)\" d=\"M 0 0 M629.53 1515.64 Q625.918 1515.64 624.09 1519.2 Q622.284 1522.75 622.284 1529.87 Q622.284 1536.98 624.09 1540.55 Q625.918 1544.09 629.53 1544.09 Q633.164 1544.09 634.969 1540.55 Q636.798 1536.98 636.798 1529.87 Q636.798 1522.75 634.969 1519.2 Q633.164 1515.64 629.53 1515.64 M629.53 1511.93 Q635.34 1511.93 638.395 1516.54 Q641.474 1521.12 641.474 1529.87 Q641.474 1538.6 638.395 1543.21 Q635.34 1547.79 629.53 1547.79 Q623.719 1547.79 620.641 1543.21 Q617.585 1538.6 617.585 1529.87 Q617.585 1521.12 620.641 1516.54 Q623.719 1511.93 629.53 1511.93 Z\" fill=\"#000000\" fill-rule=\"evenodd\" fill-opacity=\"1\" /><path clip-path=\"url(#clip170)\" d=\"M 0 0 M1035.08 1543.18 L1051.4 1543.18 L1051.4 1547.12 L1029.46 1547.12 L1029.46 1543.18 Q1032.12 1540.43 1036.7 1535.8 Q1041.31 1531.15 1042.49 1529.81 Q1044.73 1527.28 1045.61 1525.55 Q1046.52 1523.79 1046.52 1522.1 Q1046.52 1519.34 1044.57 1517.61 Q1042.65 1515.87 1039.55 1515.87 Q1037.35 1515.87 1034.9 1516.63 Q1032.47 1517.4 1029.69 1518.95 L1029.69 1514.23 Q1032.51 1513.09 1034.97 1512.51 Q1037.42 1511.93 1039.46 1511.93 Q1044.83 1511.93 1048.02 1514.62 Q1051.22 1517.31 1051.22 1521.8 Q1051.22 1523.93 1050.41 1525.85 Q1049.62 1527.74 1047.51 1530.34 Q1046.93 1531.01 1043.83 1534.23 Q1040.73 1537.42 1035.08 1543.18 Z\" fill=\"#000000\" fill-rule=\"evenodd\" fill-opacity=\"1\" /><path clip-path=\"url(#clip170)\" d=\"M 0 0 M1071.22 1515.64 Q1067.6 1515.64 1065.78 1519.2 Q1063.97 1522.75 1063.97 1529.87 Q1063.97 1536.98 1065.78 1540.55 Q1067.6 1544.09 1071.22 1544.09 Q1074.85 1544.09 1076.66 1540.55 Q1078.48 1536.98 1078.48 1529.87 Q1078.48 1522.75 1076.66 1519.2 Q1074.85 1515.64 1071.22 1515.64 M1071.22 1511.93 Q1077.03 1511.93 1080.08 1516.54 Q1083.16 1521.12 1083.16 1529.87 Q1083.16 1538.6 1080.08 1543.21 Q1077.03 1547.79 1071.22 1547.79 Q1065.41 1547.79 1062.33 1543.21 Q1059.27 1538.6 1059.27 1529.87 Q1059.27 1521.12 1062.33 1516.54 Q1065.41 1511.93 1071.22 1511.93 Z\" fill=\"#000000\" fill-rule=\"evenodd\" fill-opacity=\"1\" /><path clip-path=\"url(#clip170)\" d=\"M 0 0 M1485.97 1528.49 Q1489.33 1529.2 1491.2 1531.47 Q1493.1 1533.74 1493.1 1537.07 Q1493.1 1542.19 1489.58 1544.99 Q1486.06 1547.79 1479.58 1547.79 Q1477.41 1547.79 1475.09 1547.35 Q1472.8 1546.93 1470.34 1546.08 L1470.34 1541.56 Q1472.29 1542.7 1474.6 1543.28 Q1476.92 1543.86 1479.44 1543.86 Q1483.84 1543.86 1486.13 1542.12 Q1488.45 1540.38 1488.45 1537.07 Q1488.45 1534.02 1486.29 1532.31 Q1484.16 1530.57 1480.34 1530.57 L1476.32 1530.57 L1476.32 1526.73 L1480.53 1526.73 Q1483.98 1526.73 1485.81 1525.36 Q1487.64 1523.97 1487.64 1521.38 Q1487.64 1518.72 1485.74 1517.31 Q1483.86 1515.87 1480.34 1515.87 Q1478.42 1515.87 1476.22 1516.29 Q1474.03 1516.7 1471.39 1517.58 L1471.39 1513.42 Q1474.05 1512.68 1476.36 1512.31 Q1478.7 1511.93 1480.76 1511.93 Q1486.09 1511.93 1489.19 1514.37 Q1492.29 1516.77 1492.29 1520.89 Q1492.29 1523.76 1490.65 1525.75 Q1489 1527.72 1485.97 1528.49 Z\" fill=\"#000000\" fill-rule=\"evenodd\" fill-opacity=\"1\" /><path clip-path=\"url(#clip170)\" d=\"M 0 0 M1511.97 1515.64 Q1508.35 1515.64 1506.53 1519.2 Q1504.72 1522.75 1504.72 1529.87 Q1504.72 1536.98 1506.53 1540.55 Q1508.35 1544.09 1511.97 1544.09 Q1515.6 1544.09 1517.4 1540.55 Q1519.23 1536.98 1519.23 1529.87 Q1519.23 1522.75 1517.4 1519.2 Q1515.6 1515.64 1511.97 1515.64 M1511.97 1511.93 Q1517.78 1511.93 1520.83 1516.54 Q1523.91 1521.12 1523.91 1529.87 Q1523.91 1538.6 1520.83 1543.21 Q1517.78 1547.79 1511.97 1547.79 Q1506.15 1547.79 1503.08 1543.21 Q1500.02 1538.6 1500.02 1529.87 Q1500.02 1521.12 1503.08 1516.54 Q1506.15 1511.93 1511.97 1511.93 Z\" fill=\"#000000\" fill-rule=\"evenodd\" fill-opacity=\"1\" /><path clip-path=\"url(#clip170)\" d=\"M 0 0 M1926.12 1516.63 L1914.31 1535.08 L1926.12 1535.08 L1926.12 1516.63 M1924.89 1512.56 L1930.77 1512.56 L1930.77 1535.08 L1935.7 1535.08 L1935.7 1538.97 L1930.77 1538.97 L1930.77 1547.12 L1926.12 1547.12 L1926.12 1538.97 L1910.52 1538.97 L1910.52 1534.46 L1924.89 1512.56 Z\" fill=\"#000000\" fill-rule=\"evenodd\" fill-opacity=\"1\" /><path clip-path=\"url(#clip170)\" d=\"M 0 0 M1953.43 1515.64 Q1949.82 1515.64 1947.99 1519.2 Q1946.19 1522.75 1946.19 1529.87 Q1946.19 1536.98 1947.99 1540.55 Q1949.82 1544.09 1953.43 1544.09 Q1957.07 1544.09 1958.87 1540.55 Q1960.7 1536.98 1960.7 1529.87 Q1960.7 1522.75 1958.87 1519.2 Q1957.07 1515.64 1953.43 1515.64 M1953.43 1511.93 Q1959.24 1511.93 1962.3 1516.54 Q1965.38 1521.12 1965.38 1529.87 Q1965.38 1538.6 1962.3 1543.21 Q1959.24 1547.79 1953.43 1547.79 Q1947.62 1547.79 1944.54 1543.21 Q1941.49 1538.6 1941.49 1529.87 Q1941.49 1521.12 1944.54 1516.54 Q1947.62 1511.93 1953.43 1511.93 Z\" fill=\"#000000\" fill-rule=\"evenodd\" fill-opacity=\"1\" /><polyline clip-path=\"url(#clip172)\" style=\"stroke:#000000; stroke-width:2; stroke-opacity:0.1; fill:none\" points=\"\n",
       "  156.598,1406.25 2352.76,1406.25 \n",
       "  \"/>\n",
       "<polyline clip-path=\"url(#clip172)\" style=\"stroke:#000000; stroke-width:2; stroke-opacity:0.1; fill:none\" points=\"\n",
       "  156.598,1193.11 2352.76,1193.11 \n",
       "  \"/>\n",
       "<polyline clip-path=\"url(#clip172)\" style=\"stroke:#000000; stroke-width:2; stroke-opacity:0.1; fill:none\" points=\"\n",
       "  156.598,979.979 2352.76,979.979 \n",
       "  \"/>\n",
       "<polyline clip-path=\"url(#clip172)\" style=\"stroke:#000000; stroke-width:2; stroke-opacity:0.1; fill:none\" points=\"\n",
       "  156.598,766.846 2352.76,766.846 \n",
       "  \"/>\n",
       "<polyline clip-path=\"url(#clip172)\" style=\"stroke:#000000; stroke-width:2; stroke-opacity:0.1; fill:none\" points=\"\n",
       "  156.598,553.712 2352.76,553.712 \n",
       "  \"/>\n",
       "<polyline clip-path=\"url(#clip172)\" style=\"stroke:#000000; stroke-width:2; stroke-opacity:0.1; fill:none\" points=\"\n",
       "  156.598,340.579 2352.76,340.579 \n",
       "  \"/>\n",
       "<polyline clip-path=\"url(#clip172)\" style=\"stroke:#000000; stroke-width:2; stroke-opacity:0.1; fill:none\" points=\"\n",
       "  156.598,127.445 2352.76,127.445 \n",
       "  \"/>\n",
       "<polyline clip-path=\"url(#clip170)\" style=\"stroke:#000000; stroke-width:4; stroke-opacity:1; fill:none\" points=\"\n",
       "  156.598,1486.45 156.598,47.2441 \n",
       "  \"/>\n",
       "<polyline clip-path=\"url(#clip170)\" style=\"stroke:#000000; stroke-width:4; stroke-opacity:1; fill:none\" points=\"\n",
       "  156.598,1406.25 182.952,1406.25 \n",
       "  \"/>\n",
       "<polyline clip-path=\"url(#clip170)\" style=\"stroke:#000000; stroke-width:4; stroke-opacity:1; fill:none\" points=\"\n",
       "  156.598,1193.11 182.952,1193.11 \n",
       "  \"/>\n",
       "<polyline clip-path=\"url(#clip170)\" style=\"stroke:#000000; stroke-width:4; stroke-opacity:1; fill:none\" points=\"\n",
       "  156.598,979.979 182.952,979.979 \n",
       "  \"/>\n",
       "<polyline clip-path=\"url(#clip170)\" style=\"stroke:#000000; stroke-width:4; stroke-opacity:1; fill:none\" points=\"\n",
       "  156.598,766.846 182.952,766.846 \n",
       "  \"/>\n",
       "<polyline clip-path=\"url(#clip170)\" style=\"stroke:#000000; stroke-width:4; stroke-opacity:1; fill:none\" points=\"\n",
       "  156.598,553.712 182.952,553.712 \n",
       "  \"/>\n",
       "<polyline clip-path=\"url(#clip170)\" style=\"stroke:#000000; stroke-width:4; stroke-opacity:1; fill:none\" points=\"\n",
       "  156.598,340.579 182.952,340.579 \n",
       "  \"/>\n",
       "<polyline clip-path=\"url(#clip170)\" style=\"stroke:#000000; stroke-width:4; stroke-opacity:1; fill:none\" points=\"\n",
       "  156.598,127.445 182.952,127.445 \n",
       "  \"/>\n",
       "<path clip-path=\"url(#clip170)\" d=\"M 0 0 M65.0198 1392.05 Q61.4087 1392.05 59.58 1395.61 Q57.7745 1399.15 57.7745 1406.28 Q57.7745 1413.39 59.58 1416.95 Q61.4087 1420.49 65.0198 1420.49 Q68.6541 1420.49 70.4596 1416.95 Q72.2883 1413.39 72.2883 1406.28 Q72.2883 1399.15 70.4596 1395.61 Q68.6541 1392.05 65.0198 1392.05 M65.0198 1388.34 Q70.83 1388.34 73.8855 1392.95 Q76.9642 1397.53 76.9642 1406.28 Q76.9642 1415.01 73.8855 1419.61 Q70.83 1424.2 65.0198 1424.2 Q59.2097 1424.2 56.131 1419.61 Q53.0754 1415.01 53.0754 1406.28 Q53.0754 1397.53 56.131 1392.95 Q59.2097 1388.34 65.0198 1388.34 Z\" fill=\"#000000\" fill-rule=\"evenodd\" fill-opacity=\"1\" /><path clip-path=\"url(#clip170)\" d=\"M 0 0 M85.1818 1417.65 L90.066 1417.65 L90.066 1423.53 L85.1818 1423.53 L85.1818 1417.65 Z\" fill=\"#000000\" fill-rule=\"evenodd\" fill-opacity=\"1\" /><path clip-path=\"url(#clip170)\" d=\"M 0 0 M104.279 1419.59 L120.598 1419.59 L120.598 1423.53 L98.6539 1423.53 L98.6539 1419.59 Q101.316 1416.84 105.899 1412.21 Q110.506 1407.55 111.686 1406.21 Q113.932 1403.69 114.811 1401.95 Q115.714 1400.19 115.714 1398.5 Q115.714 1395.75 113.77 1394.01 Q111.848 1392.28 108.746 1392.28 Q106.547 1392.28 104.094 1393.04 Q101.663 1393.8 98.8854 1395.36 L98.8854 1390.63 Q101.709 1389.5 104.163 1388.92 Q106.617 1388.34 108.654 1388.34 Q114.024 1388.34 117.219 1391.03 Q120.413 1393.71 120.413 1398.2 Q120.413 1400.33 119.603 1402.25 Q118.816 1404.15 116.709 1406.74 Q116.131 1407.42 113.029 1410.63 Q109.927 1413.83 104.279 1419.59 Z\" fill=\"#000000\" fill-rule=\"evenodd\" fill-opacity=\"1\" /><path clip-path=\"url(#clip170)\" d=\"M 0 0 M64.0708 1178.91 Q60.4597 1178.91 58.631 1182.48 Q56.8254 1186.02 56.8254 1193.15 Q56.8254 1200.25 58.631 1203.82 Q60.4597 1207.36 64.0708 1207.36 Q67.705 1207.36 69.5105 1203.82 Q71.3392 1200.25 71.3392 1193.15 Q71.3392 1186.02 69.5105 1182.48 Q67.705 1178.91 64.0708 1178.91 M64.0708 1175.21 Q69.8809 1175.21 72.9365 1179.81 Q76.0151 1184.4 76.0151 1193.15 Q76.0151 1201.87 72.9365 1206.48 Q69.8809 1211.06 64.0708 1211.06 Q58.2606 1211.06 55.1819 1206.48 Q52.1264 1201.87 52.1264 1193.15 Q52.1264 1184.4 55.1819 1179.81 Q58.2606 1175.21 64.0708 1175.21 Z\" fill=\"#000000\" fill-rule=\"evenodd\" fill-opacity=\"1\" /><path clip-path=\"url(#clip170)\" d=\"M 0 0 M84.2327 1204.51 L89.1169 1204.51 L89.1169 1210.39 L84.2327 1210.39 L84.2327 1204.51 Z\" fill=\"#000000\" fill-rule=\"evenodd\" fill-opacity=\"1\" /><path clip-path=\"url(#clip170)\" d=\"M 0 0 M113.469 1191.76 Q116.825 1192.48 118.7 1194.74 Q120.598 1197.01 120.598 1200.35 Q120.598 1205.46 117.08 1208.26 Q113.561 1211.06 107.08 1211.06 Q104.904 1211.06 102.589 1210.62 Q100.297 1210.21 97.8437 1209.35 L97.8437 1204.84 Q99.7882 1205.97 102.103 1206.55 Q104.418 1207.13 106.941 1207.13 Q111.339 1207.13 113.631 1205.39 Q115.945 1203.66 115.945 1200.35 Q115.945 1197.29 113.793 1195.58 Q111.663 1193.84 107.844 1193.84 L103.816 1193.84 L103.816 1190 L108.029 1190 Q111.478 1190 113.307 1188.63 Q115.135 1187.24 115.135 1184.65 Q115.135 1181.99 113.237 1180.58 Q111.362 1179.14 107.844 1179.14 Q105.922 1179.14 103.723 1179.56 Q101.524 1179.98 98.8854 1180.86 L98.8854 1176.69 Q101.547 1175.95 103.862 1175.58 Q106.2 1175.21 108.26 1175.21 Q113.584 1175.21 116.686 1177.64 Q119.788 1180.05 119.788 1184.17 Q119.788 1187.04 118.145 1189.03 Q116.501 1190.99 113.469 1191.76 Z\" fill=\"#000000\" fill-rule=\"evenodd\" fill-opacity=\"1\" /><path clip-path=\"url(#clip170)\" d=\"M 0 0 M62.9365 965.778 Q59.3254 965.778 57.4967 969.343 Q55.6912 972.885 55.6912 980.014 Q55.6912 987.121 57.4967 990.685 Q59.3254 994.227 62.9365 994.227 Q66.5707 994.227 68.3763 990.685 Q70.205 987.121 70.205 980.014 Q70.205 972.885 68.3763 969.343 Q66.5707 965.778 62.9365 965.778 M62.9365 962.075 Q68.7467 962.075 71.8022 966.681 Q74.8809 971.264 74.8809 980.014 Q74.8809 988.741 71.8022 993.347 Q68.7467 997.931 62.9365 997.931 Q57.1264 997.931 54.0477 993.347 Q50.9921 988.741 50.9921 980.014 Q50.9921 971.264 54.0477 966.681 Q57.1264 962.075 62.9365 962.075 Z\" fill=\"#000000\" fill-rule=\"evenodd\" fill-opacity=\"1\" /><path clip-path=\"url(#clip170)\" d=\"M 0 0 M83.0984 991.38 L87.9827 991.38 L87.9827 997.259 L83.0984 997.259 L83.0984 991.38 Z\" fill=\"#000000\" fill-rule=\"evenodd\" fill-opacity=\"1\" /><path clip-path=\"url(#clip170)\" d=\"M 0 0 M111.015 966.774 L99.2095 985.223 L111.015 985.223 L111.015 966.774 M109.788 962.699 L115.668 962.699 L115.668 985.223 L120.598 985.223 L120.598 989.111 L115.668 989.111 L115.668 997.259 L111.015 997.259 L111.015 989.111 L95.4132 989.111 L95.4132 984.598 L109.788 962.699 Z\" fill=\"#000000\" fill-rule=\"evenodd\" fill-opacity=\"1\" /><path clip-path=\"url(#clip170)\" d=\"M 0 0 M64.418 752.645 Q60.8069 752.645 58.9782 756.209 Q57.1726 759.751 57.1726 766.881 Q57.1726 773.987 58.9782 777.552 Q60.8069 781.094 64.418 781.094 Q68.0522 781.094 69.8578 777.552 Q71.6865 773.987 71.6865 766.881 Q71.6865 759.751 69.8578 756.209 Q68.0522 752.645 64.418 752.645 M64.418 748.941 Q70.2281 748.941 73.2837 753.547 Q76.3624 758.131 76.3624 766.881 Q76.3624 775.608 73.2837 780.214 Q70.2281 784.797 64.418 784.797 Q58.6078 784.797 55.5291 780.214 Q52.4736 775.608 52.4736 766.881 Q52.4736 758.131 55.5291 753.547 Q58.6078 748.941 64.418 748.941 Z\" fill=\"#000000\" fill-rule=\"evenodd\" fill-opacity=\"1\" /><path clip-path=\"url(#clip170)\" d=\"M 0 0 M84.5799 778.246 L89.4641 778.246 L89.4641 784.126 L84.5799 784.126 L84.5799 778.246 Z\" fill=\"#000000\" fill-rule=\"evenodd\" fill-opacity=\"1\" /><path clip-path=\"url(#clip170)\" d=\"M 0 0 M99.6956 749.566 L118.052 749.566 L118.052 753.501 L103.978 753.501 L103.978 761.973 Q104.996 761.626 106.015 761.464 Q107.033 761.279 108.052 761.279 Q113.839 761.279 117.219 764.45 Q120.598 767.621 120.598 773.038 Q120.598 778.617 117.126 781.719 Q113.654 784.797 107.334 784.797 Q105.159 784.797 102.89 784.427 Q100.645 784.057 98.2372 783.316 L98.2372 778.617 Q100.321 779.751 102.543 780.307 Q104.765 780.862 107.242 780.862 Q111.246 780.862 113.584 778.756 Q115.922 776.649 115.922 773.038 Q115.922 769.427 113.584 767.321 Q111.246 765.214 107.242 765.214 Q105.367 765.214 103.492 765.631 Q101.64 766.047 99.6956 766.927 L99.6956 749.566 Z\" fill=\"#000000\" fill-rule=\"evenodd\" fill-opacity=\"1\" /><path clip-path=\"url(#clip170)\" d=\"M 0 0 M63.2606 539.511 Q59.6495 539.511 57.8208 543.076 Q56.0152 546.618 56.0152 553.747 Q56.0152 560.854 57.8208 564.418 Q59.6495 567.96 63.2606 567.96 Q66.8948 567.96 68.7004 564.418 Q70.5291 560.854 70.5291 553.747 Q70.5291 546.618 68.7004 543.076 Q66.8948 539.511 63.2606 539.511 M63.2606 535.807 Q69.0707 535.807 72.1263 540.414 Q75.205 544.997 75.205 553.747 Q75.205 562.474 72.1263 567.08 Q69.0707 571.664 63.2606 571.664 Q57.4504 571.664 54.3717 567.08 Q51.3162 562.474 51.3162 553.747 Q51.3162 544.997 54.3717 540.414 Q57.4504 535.807 63.2606 535.807 Z\" fill=\"#000000\" fill-rule=\"evenodd\" fill-opacity=\"1\" /><path clip-path=\"url(#clip170)\" d=\"M 0 0 M83.4225 565.113 L88.3067 565.113 L88.3067 570.992 L83.4225 570.992 L83.4225 565.113 Z\" fill=\"#000000\" fill-rule=\"evenodd\" fill-opacity=\"1\" /><path clip-path=\"url(#clip170)\" d=\"M 0 0 M109.071 551.849 Q105.922 551.849 104.071 554.002 Q102.242 556.155 102.242 559.905 Q102.242 563.631 104.071 565.807 Q105.922 567.96 109.071 567.96 Q112.219 567.96 114.047 565.807 Q115.899 563.631 115.899 559.905 Q115.899 556.155 114.047 554.002 Q112.219 551.849 109.071 551.849 M118.353 537.196 L118.353 541.456 Q116.594 540.622 114.788 540.182 Q113.006 539.743 111.246 539.743 Q106.617 539.743 104.163 542.868 Q101.733 545.993 101.385 552.312 Q102.751 550.298 104.811 549.233 Q106.871 548.145 109.348 548.145 Q114.557 548.145 117.566 551.317 Q120.598 554.465 120.598 559.905 Q120.598 565.229 117.45 568.446 Q114.302 571.664 109.071 571.664 Q103.075 571.664 99.9039 567.08 Q96.7326 562.474 96.7326 553.747 Q96.7326 545.553 100.621 540.692 Q104.51 535.807 111.061 535.807 Q112.82 535.807 114.603 536.155 Q116.408 536.502 118.353 537.196 Z\" fill=\"#000000\" fill-rule=\"evenodd\" fill-opacity=\"1\" /><path clip-path=\"url(#clip170)\" d=\"M 0 0 M64.3254 326.378 Q60.7143 326.378 58.8856 329.942 Q57.0801 333.484 57.0801 340.614 Q57.0801 347.72 58.8856 351.285 Q60.7143 354.827 64.3254 354.827 Q67.9596 354.827 69.7652 351.285 Q71.5939 347.72 71.5939 340.614 Q71.5939 333.484 69.7652 329.942 Q67.9596 326.378 64.3254 326.378 M64.3254 322.674 Q70.1355 322.674 73.1911 327.28 Q76.2698 331.864 76.2698 340.614 Q76.2698 349.34 73.1911 353.947 Q70.1355 358.53 64.3254 358.53 Q58.5152 358.53 55.4365 353.947 Q52.381 349.34 52.381 340.614 Q52.381 331.864 55.4365 327.28 Q58.5152 322.674 64.3254 322.674 Z\" fill=\"#000000\" fill-rule=\"evenodd\" fill-opacity=\"1\" /><path clip-path=\"url(#clip170)\" d=\"M 0 0 M84.4873 351.979 L89.3715 351.979 L89.3715 357.859 L84.4873 357.859 L84.4873 351.979 Z\" fill=\"#000000\" fill-rule=\"evenodd\" fill-opacity=\"1\" /><path clip-path=\"url(#clip170)\" d=\"M 0 0 M98.3761 323.299 L120.598 323.299 L120.598 325.29 L108.052 357.859 L103.168 357.859 L114.973 327.234 L98.3761 327.234 L98.3761 323.299 Z\" fill=\"#000000\" fill-rule=\"evenodd\" fill-opacity=\"1\" /><path clip-path=\"url(#clip170)\" d=\"M 0 0 M63.5152 113.244 Q59.9041 113.244 58.0754 116.809 Q56.2699 120.351 56.2699 127.48 Q56.2699 134.587 58.0754 138.151 Q59.9041 141.693 63.5152 141.693 Q67.1494 141.693 68.955 138.151 Q70.7837 134.587 70.7837 127.48 Q70.7837 120.351 68.955 116.809 Q67.1494 113.244 63.5152 113.244 M63.5152 109.54 Q69.3254 109.54 72.3809 114.147 Q75.4596 118.73 75.4596 127.48 Q75.4596 136.207 72.3809 140.813 Q69.3254 145.397 63.5152 145.397 Q57.7051 145.397 54.6264 140.813 Q51.5708 136.207 51.5708 127.48 Q51.5708 118.73 54.6264 114.147 Q57.7051 109.54 63.5152 109.54 Z\" fill=\"#000000\" fill-rule=\"evenodd\" fill-opacity=\"1\" /><path clip-path=\"url(#clip170)\" d=\"M 0 0 M83.6771 138.846 L88.5614 138.846 L88.5614 144.725 L83.6771 144.725 L83.6771 138.846 Z\" fill=\"#000000\" fill-rule=\"evenodd\" fill-opacity=\"1\" /><path clip-path=\"url(#clip170)\" d=\"M 0 0 M108.746 128.313 Q105.413 128.313 103.492 130.096 Q101.594 131.878 101.594 135.003 Q101.594 138.128 103.492 139.911 Q105.413 141.693 108.746 141.693 Q112.08 141.693 114.001 139.911 Q115.922 138.105 115.922 135.003 Q115.922 131.878 114.001 130.096 Q112.103 128.313 108.746 128.313 M104.071 126.323 Q101.061 125.582 99.3715 123.522 Q97.7048 121.462 97.7048 118.499 Q97.7048 114.355 100.645 111.948 Q103.608 109.54 108.746 109.54 Q113.908 109.54 116.848 111.948 Q119.788 114.355 119.788 118.499 Q119.788 121.462 118.098 123.522 Q116.432 125.582 113.445 126.323 Q116.825 127.11 118.7 129.401 Q120.598 131.693 120.598 135.003 Q120.598 140.026 117.52 142.712 Q114.464 145.397 108.746 145.397 Q103.029 145.397 99.9502 142.712 Q96.8947 140.026 96.8947 135.003 Q96.8947 131.693 98.7928 129.401 Q100.691 127.11 104.071 126.323 M102.358 118.939 Q102.358 121.624 104.024 123.128 Q105.714 124.633 108.746 124.633 Q111.756 124.633 113.445 123.128 Q115.158 121.624 115.158 118.939 Q115.158 116.253 113.445 114.749 Q111.756 113.244 108.746 113.244 Q105.714 113.244 104.024 114.749 Q102.358 116.253 102.358 118.939 Z\" fill=\"#000000\" fill-rule=\"evenodd\" fill-opacity=\"1\" /><polyline clip-path=\"url(#clip172)\" style=\"stroke:#009af9; stroke-width:4; stroke-opacity:1; fill:none\" points=\"\n",
       "  218.754,979.979 262.835,873.413 306.917,908.935 350.999,926.696 395.081,979.979 439.163,1051.02 483.245,1071.32 527.327,1113.19 571.408,1169.43 615.49,1235.74 \n",
       "  659.572,1270.62 703.654,1317.44 747.736,1340.67 791.818,1345.35 835.9,1335.2 879.981,1339.64 924.063,1356.1 968.145,1382.57 1012.23,1395.03 1056.31,1395.59 \n",
       "  1100.39,1385.95 1144.47,1386.87 1188.55,1396.98 1232.64,1415.13 1276.72,1423.3 1320.8,1439.04 1364.88,1445.72 1408.96,1444.31 1453.05,1435.64 1497.13,1420.46 \n",
       "  1541.21,1399.37 1585.29,1386.27 1629.37,1380.41 1673.45,1368.63 1717.54,1363.62 1761.62,1352.96 1805.7,1337.12 1849.78,1327.72 1893.86,1324.27 1937.95,1326.32 \n",
       "  1982.03,1323.07 2026.11,1314.9 2070.19,1312.07 2114.27,1314.21 2158.35,1320.99 2202.44,1322.85 2246.52,1329.16 2290.6,1339.64 \n",
       "  \"/>\n",
       "<polyline clip-path=\"url(#clip172)\" style=\"stroke:#e26f46; stroke-width:4; stroke-opacity:1; fill:none\" points=\"\n",
       "  218.754,553.712 262.835,660.279 306.917,624.757 350.999,606.996 395.081,553.712 439.163,482.668 483.245,462.37 527.327,420.504 571.408,364.26 615.49,297.952 \n",
       "  659.572,263.076 703.654,216.251 747.736,193.025 791.818,188.341 835.9,198.49 879.981,194.05 924.063,177.595 968.145,151.127 1012.23,138.663 1056.31,138.102 \n",
       "  1100.39,147.744 1144.47,146.821 1188.55,136.712 1232.64,118.565 1276.72,110.395 1320.8,94.6557 1364.88,87.9763 1408.96,89.3859 1453.05,98.0477 1497.13,113.237 \n",
       "  1541.21,134.321 1585.29,147.427 1629.37,153.28 1673.45,165.057 1717.54,170.072 1761.62,180.729 1805.7,196.57 1849.78,205.968 1893.86,209.42 1937.95,207.371 \n",
       "  1982.03,210.619 2026.11,218.788 2070.19,221.621 2114.27,219.48 2158.35,212.699 2202.44,210.846 2246.52,204.536 2290.6,194.05 \n",
       "  \"/>\n",
       "<path clip-path=\"url(#clip170)\" d=\"\n",
       "M1983.1 276.658 L2279.55 276.658 L2279.55 95.2176 L1983.1 95.2176  Z\n",
       "  \" fill=\"#ffffff\" fill-rule=\"evenodd\" fill-opacity=\"1\"/>\n",
       "<polyline clip-path=\"url(#clip170)\" style=\"stroke:#000000; stroke-width:4; stroke-opacity:1; fill:none\" points=\"\n",
       "  1983.1,276.658 2279.55,276.658 2279.55,95.2176 1983.1,95.2176 1983.1,276.658 \n",
       "  \"/>\n",
       "<polyline clip-path=\"url(#clip170)\" style=\"stroke:#009af9; stroke-width:4; stroke-opacity:1; fill:none\" points=\"\n",
       "  2007.5,155.698 2153.92,155.698 \n",
       "  \"/>\n",
       "<path clip-path=\"url(#clip170)\" d=\"M 0 0 M2192.16 175.385 Q2190.35 180.015 2188.64 181.427 Q2186.93 182.839 2184.06 182.839 L2180.65 182.839 L2180.65 179.274 L2183.15 179.274 Q2184.91 179.274 2185.89 178.44 Q2186.86 177.607 2188.04 174.505 L2188.8 172.561 L2178.32 147.052 L2182.83 147.052 L2190.93 167.329 L2199.03 147.052 L2203.55 147.052 L2192.16 175.385 Z\" fill=\"#000000\" fill-rule=\"evenodd\" fill-opacity=\"1\" /><path clip-path=\"url(#clip170)\" d=\"M 0 0 M2210.84 169.042 L2218.48 169.042 L2218.48 142.677 L2210.17 144.343 L2210.17 140.084 L2218.43 138.418 L2223.11 138.418 L2223.11 169.042 L2230.75 169.042 L2230.75 172.978 L2210.84 172.978 L2210.84 169.042 Z\" fill=\"#000000\" fill-rule=\"evenodd\" fill-opacity=\"1\" /><polyline clip-path=\"url(#clip170)\" style=\"stroke:#e26f46; stroke-width:4; stroke-opacity:1; fill:none\" points=\"\n",
       "  2007.5,216.178 2153.92,216.178 \n",
       "  \"/>\n",
       "<path clip-path=\"url(#clip170)\" d=\"M 0 0 M2192.16 235.865 Q2190.35 240.495 2188.64 241.907 Q2186.93 243.319 2184.06 243.319 L2180.65 243.319 L2180.65 239.754 L2183.15 239.754 Q2184.91 239.754 2185.89 238.92 Q2186.86 238.087 2188.04 234.985 L2188.8 233.041 L2178.32 207.532 L2182.83 207.532 L2190.93 227.809 L2199.03 207.532 L2203.55 207.532 L2192.16 235.865 Z\" fill=\"#000000\" fill-rule=\"evenodd\" fill-opacity=\"1\" /><path clip-path=\"url(#clip170)\" d=\"M 0 0 M2214.06 229.522 L2230.38 229.522 L2230.38 233.458 L2208.43 233.458 L2208.43 229.522 Q2211.09 226.768 2215.68 222.138 Q2220.28 217.485 2221.46 216.143 Q2223.71 213.62 2224.59 211.884 Q2225.49 210.124 2225.49 208.435 Q2225.49 205.68 2223.55 203.944 Q2221.63 202.208 2218.52 202.208 Q2216.33 202.208 2213.87 202.972 Q2211.44 203.735 2208.66 205.286 L2208.66 200.564 Q2211.49 199.43 2213.94 198.851 Q2216.4 198.273 2218.43 198.273 Q2223.8 198.273 2227 200.958 Q2230.19 203.643 2230.19 208.134 Q2230.19 210.263 2229.38 212.185 Q2228.59 214.083 2226.49 216.675 Q2225.91 217.347 2222.81 220.564 Q2219.71 223.759 2214.06 229.522 Z\" fill=\"#000000\" fill-rule=\"evenodd\" fill-opacity=\"1\" /></svg>\n"
      ]
     },
     "execution_count": 631,
     "metadata": {},
     "output_type": "execute_result"
    }
   ],
   "source": [
    "for v=8\n",
    "    \n",
    "MC_prova = MC(state_prova, 10, v, 10000)\n",
    "\n",
    "x=collect(1:MC_prova[3])\n",
    "\n",
    "e = plot(x,MC_prova[1])\n",
    "    plot!(x,MC_prova[2])\n",
    "    \n",
    "return e\n",
    "    \n",
    "end\n",
    "\n"
   ]
  },
  {
   "cell_type": "code",
   "execution_count": 625,
   "metadata": {},
   "outputs": [
    {
     "ename": "LoadError",
     "evalue": "\u001b[91mBoundsError: attempt to access (Any[0.4, 0.5, 0.4, 0.4, 0.4, 0.3, 0.2, 0.2, 0.2, 0.3  …  0.3, 0.4, 0.3, 0.2, 0.1, 0.0, 0.1, 0.0, 0.1, 0.0], 106)\u001b[39m\n\u001b[91m  at index [3]\u001b[39m",
     "output_type": "error",
     "traceback": [
      "\u001b[91mBoundsError: attempt to access (Any[0.4, 0.5, 0.4, 0.4, 0.4, 0.3, 0.2, 0.2, 0.2, 0.3  …  0.3, 0.4, 0.3, 0.2, 0.1, 0.0, 0.1, 0.0, 0.1, 0.0], 106)\u001b[39m\n\u001b[91m  at index [3]\u001b[39m",
      "",
      "Stacktrace:",
      " [1] getindex(::Tuple, ::Int64) at ./tuple.jl:24",
      " [2] top-level scope at ./In[625]:14",
      " [3] include_string(::Function, ::Module, ::String, ::String) at ./loading.jl:1091"
     ]
    }
   ],
   "source": [
    "using Plots\n",
    "\n",
    "v=2\n",
    "\n",
    "yA = zeros(0)\n",
    "yB = zeros(0)\n",
    "\n",
    "n = [1000,2000,5000,10000,15000]\n",
    "\n",
    "for nsteps in n\n",
    "    \n",
    "    MC_prova = MC(state_prova, 10, v, nsteps)\n",
    "    \n",
    "    append!(yA, MC_prova[1][MC_prova[3]])\n",
    "    append!(yB, MC_prova[2][MC_prova[3]])\n",
    "end\n",
    "\n",
    "plot(n,yA)\n",
    "plot!(n,yB)"
   ]
  },
  {
   "cell_type": "code",
   "execution_count": 179,
   "metadata": {},
   "outputs": [
    {
     "ename": "LoadError",
     "evalue": "\u001b[91mDimensionMismatch(\"matrix is not square: dimensions are (11, 10)\")\u001b[39m",
     "output_type": "error",
     "traceback": [
      "\u001b[91mDimensionMismatch(\"matrix is not square: dimensions are (11, 10)\")\u001b[39m",
      "",
      "Stacktrace:",
      " [1] checksquare at /Users/julia/buildbot/worker/package_macos64/build/usr/share/julia/stdlib/v1.5/LinearAlgebra/src/LinearAlgebra.jl:223 [inlined]",
      " [2] det(::LU{Float64,Array{Float64,2}}) at /Users/julia/buildbot/worker/package_macos64/build/usr/share/julia/stdlib/v1.5/LinearAlgebra/src/lu.jl:443",
      " [3] det(::Array{Float64,2}) at /Users/julia/buildbot/worker/package_macos64/build/usr/share/julia/stdlib/v1.5/LinearAlgebra/src/generic.jl:1538",
      " [4] ratio_det(::Array{Float64,1}, ::Array{Float64,1}) at ./In[34]:6",
      " [5] MC(::Array{Int64,1}, ::Int64, ::Int64, ::Int64) at ./In[177]:13",
      " [6] top-level scope at ./In[179]:3",
      " [7] include_string(::Function, ::Module, ::String, ::String) at ./loading.jl:1091"
     ]
    }
   ],
   "source": [
    "MC_res = []\n",
    "for i = 1:8\n",
    "    append!(MC_res, MC(state_prova,10,i,1000))\n",
    "end\n",
    "MC_res\n"
   ]
  },
  {
   "cell_type": "code",
   "execution_count": 370,
   "metadata": {},
   "outputs": [
    {
     "ename": "LoadError",
     "evalue": "\u001b[91msyntax: incomplete: \"function\" at In[370]:1 requires end\u001b[39m",
     "output_type": "error",
     "traceback": [
      "\u001b[91msyntax: incomplete: \"function\" at In[370]:1 requires end\u001b[39m",
      "",
      "Stacktrace:",
      " [1] top-level scope at In[370]:1",
      " [2] include_string(::Function, ::Module, ::String, ::String) at ./loading.jl:1091"
     ]
    }
   ],
   "source": [
    "function Hubbard(state,t,U,V)\n",
    "            \n",
    "    D=length(state)       \n",
    "    \n",
    "    Sum_V=0\n",
    "    Sum_U=0    \n",
    "    Sum_A=0\n",
    "    Sum_B=0\n",
    "    \n",
    "    j_a = mod(i+j,L)\n",
    "    j_a == 0 ? j_a = L : j_a = j_a\n",
    "        \n",
    "    n1 = n_i(state[D])[1] + n_i(state[D])[2]\n",
    "    n2 = 0\n",
    "    \n",
    "    for i = 1 : D\n",
    "                \n",
    "        n_up= n_i(state[i])[1]    \n",
    "        n_down = n_i(state[i])[2]\n",
    "                \n",
    "    Sum_U = Sum_U + n_up*n_down \n",
    "                \n",
    "        n2= n_up + n_down\n",
    "        n1n2 = n1*n2   \n",
    "        n1 = n2\n",
    "                \n",
    "    Sum_V = Sum_V + n1n2\n",
    "        \n",
    "        if abs(state[i]) == 1\n",
    "            \n",
    "            ca= ca+c_i(vi,sign)\n",
    "            \n",
    "        end\n",
    "    \n",
    "    arg=  -g*Spins +U*Sum_U \n",
    "            \n",
    "return exp(arg)\n",
    "\n",
    "end"
   ]
  },
  {
   "cell_type": "code",
   "execution_count": 410,
   "metadata": {},
   "outputs": [
    {
     "data": {
      "text/plain": [
       "c_i (generic function with 2 methods)"
      ]
     },
     "execution_count": 410,
     "metadata": {},
     "output_type": "execute_result"
    }
   ],
   "source": [
    "function c_i(vi,orientation,sign) \n",
    "\n",
    "    (nu, nd) = n_i(vi)[1], n_i(vi)[2]\n",
    "    \n",
    "    print(nu, nd)\n",
    "    \n",
    "    orientation == 1  ? spin = nu :  spin = nd\n",
    "    \n",
    "        if spin != orientation && sign == 1\n",
    "           eigenvalue = sqrt(spin+1) \n",
    "           vi = abs(vi+sign)\n",
    "\n",
    "        elseif spin != orientation && sign == -1\n",
    "            eigenvalue = sqrt(spin)  \n",
    "            vi = vi+sign\n",
    "\n",
    "        else \n",
    "            eigenvalue = 0\n",
    "\n",
    "        end\n",
    "\n",
    "return vi, eigenvalue\n",
    " \n",
    "end\n"
   ]
  },
  {
   "cell_type": "code",
   "execution_count": 411,
   "metadata": {},
   "outputs": [
    {
     "name": "stdout",
     "output_type": "stream",
     "text": [
      "01"
     ]
    },
    {
     "data": {
      "text/plain": [
       "(0, 1.0)"
      ]
     },
     "execution_count": 411,
     "metadata": {},
     "output_type": "execute_result"
    }
   ],
   "source": [
    "c_i(-1,1,1)"
   ]
  },
  {
   "cell_type": "code",
   "execution_count": 373,
   "metadata": {},
   "outputs": [
    {
     "data": {
      "text/plain": [
       "1"
      ]
     },
     "execution_count": 373,
     "metadata": {},
     "output_type": "execute_result"
    }
   ],
   "source": [
    "nu"
   ]
  },
  {
   "cell_type": "code",
   "execution_count": null,
   "metadata": {},
   "outputs": [],
   "source": []
  }
 ],
 "metadata": {
  "kernelspec": {
   "display_name": "Julia 1.5.3",
   "language": "julia",
   "name": "julia-1.5"
  },
  "language_info": {
   "file_extension": ".jl",
   "mimetype": "application/julia",
   "name": "julia",
   "version": "1.5.3"
  }
 },
 "nbformat": 4,
 "nbformat_minor": 4
}
