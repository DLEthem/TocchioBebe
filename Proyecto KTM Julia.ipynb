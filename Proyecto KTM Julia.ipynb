{
 "cells": [
  {
   "cell_type": "code",
   "execution_count": 3,
   "metadata": {},
   "outputs": [
    {
     "data": {
      "text/plain": [
       "24×24 Array{Float64,2}:\n",
       "  0.0  -1.0   0.0   0.0   0.0   0.0  …   0.0   0.0   0.0   0.0   0.0   0.0\n",
       " -1.0   0.0  -1.0   0.0   0.0   0.0      0.0   0.0   0.0   0.0   0.0   0.0\n",
       "  0.0  -1.0   0.0  -1.0   0.0   0.0      0.0   0.0   0.0   0.0   0.0   0.0\n",
       "  0.0   0.0  -1.0   0.0  -1.0   0.0      0.0   0.0   0.0   0.0   0.0   0.0\n",
       "  0.0   0.0   0.0  -1.0   0.0  -1.0      0.0   0.0   0.0   0.0   0.0   0.0\n",
       "  0.0   0.0   0.0   0.0  -1.0   0.0  …   0.0   0.0   0.0   0.0   0.0   0.0\n",
       "  0.0   0.0   0.0   0.0   0.0  -1.0      0.0   0.0   0.0   0.0   0.0   0.0\n",
       "  0.0   0.0   0.0   0.0   0.0   0.0      0.0   0.0   0.0   0.0   0.0   0.0\n",
       "  0.0   0.0   0.0   0.0   0.0   0.0      0.0   0.0   0.0   0.0   0.0   0.0\n",
       "  0.0   0.0   0.0   0.0   0.0   0.0      0.0   0.0   0.0   0.0   0.0   0.0\n",
       "  0.0   0.0   0.0   0.0   0.0   0.0  …   0.0   0.0   0.0   0.0   0.0   0.0\n",
       " -1.0   0.0   0.0   0.0   0.0   0.0      0.0   0.0   0.0   0.0   0.0   0.0\n",
       "  0.0   0.0   0.0   0.0   0.0   0.0      0.0   0.0   0.0   0.0   0.0  -1.0\n",
       "  0.0   0.0   0.0   0.0   0.0   0.0      0.0   0.0   0.0   0.0   0.0   0.0\n",
       "  0.0   0.0   0.0   0.0   0.0   0.0      0.0   0.0   0.0   0.0   0.0   0.0\n",
       "  0.0   0.0   0.0   0.0   0.0   0.0  …   0.0   0.0   0.0   0.0   0.0   0.0\n",
       "  0.0   0.0   0.0   0.0   0.0   0.0      0.0   0.0   0.0   0.0   0.0   0.0\n",
       "  0.0   0.0   0.0   0.0   0.0   0.0     -1.0   0.0   0.0   0.0   0.0   0.0\n",
       "  0.0   0.0   0.0   0.0   0.0   0.0      0.0  -1.0   0.0   0.0   0.0   0.0\n",
       "  0.0   0.0   0.0   0.0   0.0   0.0     -1.0   0.0  -1.0   0.0   0.0   0.0\n",
       "  0.0   0.0   0.0   0.0   0.0   0.0  …   0.0  -1.0   0.0  -1.0   0.0   0.0\n",
       "  0.0   0.0   0.0   0.0   0.0   0.0      0.0   0.0  -1.0   0.0  -1.0   0.0\n",
       "  0.0   0.0   0.0   0.0   0.0   0.0      0.0   0.0   0.0  -1.0   0.0  -1.0\n",
       "  0.0   0.0   0.0   0.0   0.0   0.0      0.0   0.0   0.0   0.0  -1.0   0.0"
      ]
     },
     "execution_count": 3,
     "metadata": {},
     "output_type": "execute_result"
    }
   ],
   "source": [
    "n = 1\n",
    "L = 8*n + 4\n",
    "t = 1\n",
    "Ne = Int(L / 2)\n",
    "function Hamiltonian(L,t)\n",
    "    H = zeros(2*L, 2*L)\n",
    "    H[1,L] = -t\n",
    "    H[L,1] = -t\n",
    "    H[2L,L+1] = -t\n",
    "    H[L+1,2L] = -t\n",
    "    for i=1:2*L\n",
    "      for j=1:2*L\n",
    "        if i == j + 1 || i == j - 1\n",
    "          H[i,j] = -t\n",
    "        end \n",
    "      end\n",
    "    end\n",
    "    H[L,L+1]=0\n",
    "    H[L+1,L]=0\n",
    "    return H\n",
    "end\n",
    "\n",
    "H = Hamiltonian(L,t)"
   ]
  },
  {
   "cell_type": "code",
   "execution_count": 4,
   "metadata": {},
   "outputs": [
    {
     "data": {
      "text/plain": [
       "24-element Array{Float64,1}:\n",
       " -2.0000000000000013\n",
       " -1.9999999999999991\n",
       " -1.7320508075688772\n",
       " -1.732050807568877\n",
       " -1.732050807568877\n",
       " -1.7320508075688767\n",
       " -1.0000000000000002\n",
       " -0.9999999999999996\n",
       " -0.9999999999999996\n",
       " -0.9999999999999996\n",
       " -2.2058985591457146e-16\n",
       " -3.826984288205141e-18\n",
       " -4.253626010865457e-20\n",
       "  2.2690771583394997e-16\n",
       "  0.999999999999999\n",
       "  0.9999999999999991\n",
       "  0.9999999999999991\n",
       "  0.9999999999999994\n",
       "  1.732050807568876\n",
       "  1.7320508075688767\n",
       "  1.7320508075688774\n",
       "  1.7320508075688776\n",
       "  2.000000000000001\n",
       "  2.000000000000001"
      ]
     },
     "execution_count": 4,
     "metadata": {},
     "output_type": "execute_result"
    }
   ],
   "source": [
    "using LinearAlgebra\n",
    "U = eigvecs(H)  #unitary matrix\n",
    "Udag = inv(U)   #U^-1\n",
    "E = eigvals(H)  #eigenvalues of H"
   ]
  },
  {
   "cell_type": "code",
   "execution_count": 5,
   "metadata": {},
   "outputs": [
    {
     "data": {
      "text/plain": [
       "24×6 Array{Float64,2}:\n",
       " -0.288675   0.0       -0.204124      0.0           0.353553      0.0\n",
       " -0.288675   0.0       -0.353553      0.0           0.204124      0.0\n",
       " -0.288675   0.0       -0.408248      0.0           1.84172e-15   0.0\n",
       " -0.288675   0.0       -0.353553      0.0          -0.204124      0.0\n",
       " -0.288675   0.0       -0.204124      0.0          -0.353553      0.0\n",
       " -0.288675   0.0        3.92523e-17   0.0          -0.408248      0.0\n",
       " -0.288675   0.0        0.204124      0.0          -0.353553      0.0\n",
       " -0.288675   0.0        0.353553      0.0          -0.204124      0.0\n",
       " -0.288675   0.0        0.408248      0.0           1.92023e-15   0.0\n",
       " -0.288675   0.0        0.353553      0.0           0.204124      0.0\n",
       " -0.288675   0.0        0.204124      0.0           0.353553      0.0\n",
       " -0.288675   0.0        0.0           0.0           0.408248      0.0\n",
       "  0.0       -0.288675   0.0          -0.204124      0.0           0.353553\n",
       "  0.0       -0.288675   0.0          -0.353553      0.0           0.204124\n",
       "  0.0       -0.288675   0.0          -0.408248      0.0           1.84172e-15\n",
       "  0.0       -0.288675   0.0          -0.353553      0.0          -0.204124\n",
       "  0.0       -0.288675   0.0          -0.204124      0.0          -0.353553\n",
       "  0.0       -0.288675   0.0           3.92523e-17   0.0          -0.408248\n",
       "  0.0       -0.288675   0.0           0.204124      0.0          -0.353553\n",
       "  0.0       -0.288675   0.0           0.353553      0.0          -0.204124\n",
       "  0.0       -0.288675   0.0           0.408248      0.0           1.92023e-15\n",
       "  0.0       -0.288675   0.0           0.353553      0.0           0.204124\n",
       "  0.0       -0.288675   0.0           0.204124      0.0           0.353553\n",
       "  0.0       -0.288675   0.0           0.0           0.0           0.408248"
      ]
     },
     "execution_count": 5,
     "metadata": {},
     "output_type": "execute_result"
    }
   ],
   "source": [
    "function U1(A, Ne) #take the first Ne columns\n",
    "    U_1 = A[:,1:Ne]\n",
    "    return U_1\n",
    "end\n",
    "\n",
    "U_1 = U1(U,Ne)"
   ]
  },
  {
   "cell_type": "code",
   "execution_count": 6,
   "metadata": {},
   "outputs": [
    {
     "data": {
      "text/plain": [
       "U_tilde (generic function with 1 method)"
      ]
     },
     "execution_count": 6,
     "metadata": {},
     "output_type": "execute_result"
    }
   ],
   "source": [
    "function occupied_states(v)\n",
    "    occ_states = []\n",
    "    for i = 1 : 2*L\n",
    "        if v[i] == 1\n",
    "            append!(occ_states, i )\n",
    "        end\n",
    "    end\n",
    "    return occ_states\n",
    "end\n",
    "    \n",
    "\n",
    "function U_tilde(A,v)                  #takes just the rows related to occupied states, Ne*Ne matrix\n",
    "    U_tild = []\n",
    "    U_tild = A[occupied_states(v),:]\n",
    "    return U_tild\n",
    "end\n"
   ]
  },
  {
   "cell_type": "code",
   "execution_count": 2,
   "metadata": {},
   "outputs": [
    {
     "ename": "LoadError",
     "evalue": "\u001b[91mUndefVarError: U_1 not defined\u001b[39m",
     "output_type": "error",
     "traceback": [
      "\u001b[91mUndefVarError: U_1 not defined\u001b[39m",
      "",
      "Stacktrace:",
      " [1] top-level scope at In[2]:3",
      " [2] include_string(::Function, ::Module, ::String, ::String) at ./loading.jl:1091"
     ]
    }
   ],
   "source": [
    "state = [1,1,0,0,0,1,0,0,0,0,0,0,0,0,0,0,0,1,0,1,0,0,0,1]      #initial state\n",
    "\n",
    "U_2 = U_tilde(U_1,state)                       #initial U tilde\n",
    "\n",
    "state_1 = [1,0,1,0,0,1,0,0,0,0,0,0,0,0,0,0,0,1,0,1,0,0,0,1]    #|x'>\n",
    "\n",
    "U_3 = U_tilde(U_1,state_1)                     #new U tilde\n",
    "\n",
    "ratio = det(U_3) / det(U_2)                    #ratio of determinants of U tilde matrices"
   ]
  },
  {
   "cell_type": "code",
   "execution_count": 140,
   "metadata": {},
   "outputs": [
    {
     "data": {
      "text/plain": [
       "1"
      ]
     },
     "execution_count": 140,
     "metadata": {},
     "output_type": "execute_result"
    }
   ],
   "source": [
    "#Jastrow factor\n",
    "Jastrow_ratio = 1\n"
   ]
  },
  {
   "cell_type": "code",
   "execution_count": 48,
   "metadata": {},
   "outputs": [
    {
     "data": {
      "text/plain": [
       "n_i (generic function with 1 method)"
      ]
     },
     "execution_count": 48,
     "metadata": {},
     "output_type": "execute_result"
    }
   ],
   "source": [
    "function n_i(vi)\n",
    "    \n",
    "    n_up = 0\n",
    "    n_down = 0\n",
    "    \n",
    "        if vi == 1\n",
    "            n_up += 1\n",
    "            \n",
    "        elseif vi == -1\n",
    "            n_down += 1\n",
    "                \n",
    "        elseif vi == 2\n",
    "            n_down += 1\n",
    "            n_up += 1\n",
    "                \n",
    "        end\n",
    "\n",
    "return n_up, n_down\n",
    "\n",
    "end\n"
   ]
  },
  {
   "cell_type": "code",
   "execution_count": 25,
   "metadata": {},
   "outputs": [
    {
     "data": {
      "text/plain": [
       "(1, 1)"
      ]
     },
     "execution_count": 25,
     "metadata": {},
     "output_type": "execute_result"
    }
   ],
   "source": [
    "v=2\n",
    "\n",
    " n_i(v)"
   ]
  },
  {
   "cell_type": "code",
   "execution_count": 20,
   "metadata": {},
   "outputs": [
    {
     "data": {
      "text/plain": [
       "Jastrow (generic function with 1 method)"
      ]
     },
     "execution_count": 20,
     "metadata": {},
     "output_type": "execute_result"
    }
   ],
   "source": [
    "function Jastrow(state,g,v)\n",
    "            \n",
    "    D=length(state)        \n",
    "    \n",
    "    n1 = 1\n",
    "    n2 = 0\n",
    "    \n",
    "    Spins=0\n",
    "    Occupancies=0\n",
    "            \n",
    "    n1 = n_i(state[D])[1] + n_i(state[D])[2]  \n",
    "    \n",
    "    for i = 1 : D\n",
    "                \n",
    "        n_up= n_i(state[i])[1]\n",
    "                \n",
    "        n_down = n_i(state[i])[2]\n",
    "                \n",
    "             \n",
    "    Spins = Spins + n_up*n_down \n",
    "                \n",
    "        \n",
    "    n2= n_up + n_down\n",
    "    n1n2 = n1*n2   \n",
    "    n1 = n2\n",
    "                \n",
    "    Occupancies = Occupancies + n1n2\n",
    "            \n",
    "        end\n",
    "    \n",
    "    arg=  -g*Spins -v*Occupancies\n",
    "            \n",
    "            return exp(arg)\n",
    "    \n",
    "    end\n"
   ]
  },
  {
   "cell_type": "code",
   "execution_count": 22,
   "metadata": {},
   "outputs": [
    {
     "data": {
      "text/plain": [
       "0.1353352832366127"
      ]
     },
     "execution_count": 22,
     "metadata": {},
     "output_type": "execute_result"
    }
   ],
   "source": [
    "state = [1,1,0,0,0,1,0,0,0,0,0,0,0,0,0,0,0,1,0,1,0,0,0,1] \n",
    "\n",
    "Jastrow(state,1,1)"
   ]
  },
  {
   "cell_type": "code",
   "execution_count": null,
   "metadata": {},
   "outputs": [],
   "source": [
    "WaveFunction=  U_tilde(U_1,state) "
   ]
  },
  {
   "cell_type": "code",
   "execution_count": null,
   "metadata": {},
   "outputs": [],
   "source": []
  },
  {
   "cell_type": "code",
   "execution_count": null,
   "metadata": {},
   "outputs": [],
   "source": []
  },
  {
   "cell_type": "code",
   "execution_count": 7,
   "metadata": {},
   "outputs": [
    {
     "ename": "LoadError",
     "evalue": "\u001b[91msyntax: newline not allowed after \":\" used for quoting\u001b[39m",
     "output_type": "error",
     "traceback": [
      "\u001b[91msyntax: newline not allowed after \":\" used for quoting\u001b[39m",
      "",
      "Stacktrace:",
      " [1] top-level scope at In[7]:2",
      " [2] include_string(::Function, ::Module, ::String, ::String) at ./loading.jl:1091"
     ]
    }
   ],
   "source": [
    "function MC(q0=0,delta=0.1,nsteps=1000,seed=None):\n",
    "    if seed is not None:\n",
    "        np.random.seed(seed)\n",
    "    q=q0\n",
    "    traj=[]\n",
    "    for istep in range(nsteps):\n",
    "        qtry=q+(2*np.random.rand()-1)*delta\n",
    "        energy_try=0.5*kappa*qtry**2     #1/2 k q^2\n",
    "        deltae=energy_try-energy\n",
    "        if deltae<=0.0:          #take acceptance 1 if the energy decrease\n",
    "            acceptance=1.0\n",
    "        else:\n",
    "            acceptance =  ratio**2 * Jastrow_ratio**2   #acceptance \n",
    "        if acceptance >=1.0 or acceptance>np.random.rand(): #metropolis rule\n",
    "            q=qtry\n",
    "            energy=energy_try\n",
    "        traj.append(q)\n",
    "    return np.array(traj)"
   ]
  },
  {
   "cell_type": "code",
   "execution_count": 8,
   "metadata": {},
   "outputs": [
    {
     "data": {
      "text/plain": [
       "move (generic function with 1 method)"
      ]
     },
     "execution_count": 8,
     "metadata": {},
     "output_type": "execute_result"
    }
   ],
   "source": [
    "state = [1,1,0,0,0,1,0,0,0,0,0,0,0,0,0,0,0,1,0,1,0,0,0,1]      #initial state\n",
    "function move(v1)                              #generate a random move from a random occupied state\n",
    "    v = copy(v1)\n",
    "    len_v = length(v)\n",
    "    x = occupied_states(v)\n",
    "    n = length(x)\n",
    "    i = rand(1:n)\n",
    "    v[x[i]] = 0\n",
    "    \n",
    "    if 1 < x[i] < length(v)\n",
    "        v[x[i]+2*rand(0:1)-1] += 1             #random +-1 move if not at boundaries\n",
    "    elseif x[i]==1                             #if in position 1 move either to 2 or to n\n",
    "        if 2*rand(0:1)-1 < 0\n",
    "            v[len_v] += 1\n",
    "        else\n",
    "            v[2] += 1\n",
    "        end\n",
    "    else \n",
    "        if 2*rand(0:1)-1 < 0                    #if in position n move either to n-1 or to 1\n",
    "            v[len_v-1] += 1\n",
    "        else\n",
    "            v[1] += 1\n",
    "        end \n",
    "    end\n",
    "    return v\n",
    "end"
   ]
  },
  {
   "cell_type": "code",
   "execution_count": 105,
   "metadata": {},
   "outputs": [
    {
     "ename": "LoadError",
     "evalue": "syntax: expected \"end\" in definition of function \"MC\"",
     "output_type": "error",
     "traceback": [
      "syntax: expected \"end\" in definition of function \"MC\"",
      "",
      "Stacktrace:",
      " [1] top-level scope",
      "   @ In[105]:7",
      " [2] eval",
      "   @ ./boot.jl:360 [inlined]",
      " [3] include_string(mapexpr::typeof(REPL.softscope), mod::Module, code::String, filename::String)",
      "   @ Base ./loading.jl:1094"
     ]
    }
   ],
   "source": [
    "function MC\n",
    "    state_new = move(state)   \n",
    "    acceptance =  ratio**2 * Jastrow_ratio**2       #acceptance \n",
    "    if acceptance >=1.0 or acceptance>rand()        #metropolis rule\n",
    "        state = copy(state_new)\n",
    "        #update T jastrow\n",
    "    end\n",
    "    \n",
    "        "
   ]
  },
  {
   "cell_type": "code",
   "execution_count": 15,
   "metadata": {},
   "outputs": [
    {
     "data": {
      "text/plain": [
       "randomstate (generic function with 1 method)"
      ]
     },
     "execution_count": 15,
     "metadata": {},
     "output_type": "execute_result"
    }
   ],
   "source": [
    "#generation of random state\n",
    "#This is not taking into account double occupancies\n",
    "using StatsBase\n",
    "function randomstate(L)\n",
    "    state = sample(vcat([1 for j=1:L/4],[-1 for j=1:L/4],[0 for j=1:L/2]), L, replace=false) #sample randomly assigns values of the vector concatenation vcat to a vector of length L without replacement\n",
    "    return state\n",
    "end"
   ]
  },
  {
   "cell_type": "code",
   "execution_count": 35,
   "metadata": {},
   "outputs": [
    {
     "name": "stdout",
     "output_type": "stream",
     "text": [
      "[-1, 1, 0, 1, -1, 0, 0, 0, 1, 0, -1, 0][-1, 1, 1, 1, -1, -1, 0, 0, -1, 0, 0, 0, 0, 1, 1, 0, 0, 0, -1, 0][-1, 0, 1, 0, -1, 0, 1, 0, 0, 0, 0, 0, -1, 1, 1, 0, 0, 0, 0, 1, 0, -1, -1, 0, -1, 1, -1, 1][1, 0, 0, -1, -1, 1, 0, 0, 0, 0, 0, -1, 0, 0, 0, -1, 0, 0, 0, 1, 0, -1, 0, -1, 1, -1, 1, 0, 1, -1, 0, -1, 1, 0, 1, 1][0, 0, 0, -1, 0, -1, 0, -1, -1, 0, 0, 1, 1, 0, 0, 1, -1, 0, 0, -1, -1, 0, -1, 0, 1, -1, -1, 0, 1, 0, 0, 0, 1, 1, -1, 0, 1, 0, 0, 0, 1, 0, 1, 1][0, 1, -1, -1, 0, 0, 0, -1, 0, 0, 1, 1, 0, -1, -1, 0, 0, 0, -1, 0, 0, -1, 0, 0, 0, 0, 0, 1, 0, 0, -1, 1, 0, 1, 0, 1, -1, -1, 0, 1, 0, -1, -1, 1, 1, 1, 1, -1, 1, 0, 0, 0][0, 0, 1, 0, 1, -1, 1, 0, 1, 1, 1, -1, 0, 0, -1, 0, -1, -1, 1, 0, -1, 0, 0, 1, -1, -1, 0, -1, 0, 0, 0, 1, 0, 0, 0, -1, 1, 1, 0, 0, 0, 0, 0, 0, 0, 0, -1, 0, 1, -1, 0, -1, 0, 1, 1, 0, 0, -1, -1, 1][1, -1, 1, 1, -1, 0, 0, 1, -1, 1, 0, 0, 0, -1, 0, 0, -1, 0, 0, 0, 0, 0, 1, 1, 0, 1, 1, 0, 1, 0, 0, 1, 1, -1, -1, 0, 0, -1, 1, 1, 0, -1, 1, 0, 0, 1, 0, -1, 0, 0, 0, -1, -1, -1, 0, -1, 0, -1, 1, 0, 0, 0, -1, -1, 0, 0, 0, 0][0, 1, 1, 0, 0, 1, -1, -1, 1, 1, -1, 0, 0, 1, 0, -1, -1, 0, -1, 0, 1, 0, 0, 0, 1, 0, -1, 0, 0, -1, 0, 1, 0, 0, 0, 0, 0, 0, 1, 1, 1, -1, 1, 0, 0, -1, -1, -1, 0, 0, -1, 0, 0, 0, 1, 0, 0, 1, -1, 0, -1, 0, 1, -1, 0, 0, 0, 0, -1, 0, 1, 1, -1, 1, -1, 0][-1, 0, 0, 0, 0, 1, 0, 0, 0, 0, 0, -1, 1, 1, 0, 0, 1, 0, 0, 1, 0, -1, 0, 0, 1, -1, 0, 1, 0, 0, 0, -1, -1, 0, 1, 1, 0, 0, 1, 0, 1, 0, 0, 0, 1, 1, 1, -1, -1, 0, 1, -1, -1, -1, 1, 0, 0, -1, 0, -1, -1, 0, -1, 0, 0, 0, 0, 0, -1, 1, 1, -1, 1, 1, 0, 1, 0, -1, 0, 0, 0, -1, -1, -1]"
     ]
    }
   ],
   "source": [
    "#Average electron density\n",
    "function averagedensity(L)\n",
    "nprom = 2/L sum()"
   ]
  },
  {
   "cell_type": "code",
   "execution_count": 41,
   "metadata": {},
   "outputs": [
    {
     "data": {
      "text/plain": [
       "15"
      ]
     },
     "execution_count": 41,
     "metadata": {},
     "output_type": "execute_result"
    }
   ],
   "source": [
    "v = [1,2,3,4,5]\n",
    "j = 1\n",
    "if j%2 != 0\n",
    "    sum(v[j] for j=1:length(v))\n",
    "end"
   ]
  },
  {
   "cell_type": "code",
   "execution_count": 65,
   "metadata": {},
   "outputs": [
    {
     "data": {
      "text/plain": [
       "nB (generic function with 1 method)"
      ]
     },
     "execution_count": 65,
     "metadata": {},
     "output_type": "execute_result"
    }
   ],
   "source": [
    "#This function calculates the density observable in the odd sites A\n",
    "function nA(v)\n",
    "    nA = 0\n",
    "    for j=1:length(v)\n",
    "        if j%2 != 0\n",
    "            nA += sum(n_i(v[j])) \n",
    "        end\n",
    "    end\n",
    "    return nA*2/length(v)\n",
    "end\n",
    "\n",
    "#This function calculates the density observable in the even sites B\n",
    "function nB(v)\n",
    "    nB = 0\n",
    "    for j=1:length(v)\n",
    "        if j%2 == 0\n",
    "            nB += sum(n_i(v[j])) \n",
    "        end\n",
    "    end\n",
    "    return nB*2/length(v)\n",
    "end"
   ]
  },
  {
   "cell_type": "code",
   "execution_count": 66,
   "metadata": {},
   "outputs": [
    {
     "data": {
      "text/plain": [
       "0.3333333333333333"
      ]
     },
     "execution_count": 66,
     "metadata": {},
     "output_type": "execute_result"
    }
   ],
   "source": [
    "nA(randomstate(12))\n",
    "nB(randomstate(12))"
   ]
  },
  {
   "cell_type": "code",
   "execution_count": null,
   "metadata": {},
   "outputs": [],
   "source": [
    "function averagedensity(state)\n",
    "    nprom = oddsum()"
   ]
  }
 ],
 "metadata": {
  "kernelspec": {
   "display_name": "Julia 1.5.3",
   "language": "julia",
   "name": "julia-1.5"
  },
  "language_info": {
   "file_extension": ".jl",
   "mimetype": "application/julia",
   "name": "julia",
   "version": "1.5.3"
  }
 },
 "nbformat": 4,
 "nbformat_minor": 4
}
