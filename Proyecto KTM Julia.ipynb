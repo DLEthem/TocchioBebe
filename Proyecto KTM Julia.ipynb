{
 "cells": [
  {
   "cell_type": "code",
   "execution_count": 57,
   "metadata": {},
   "outputs": [
    {
     "data": {
      "text/plain": [
       "56×56 Matrix{Float64}:\n",
       "  0.0  -1.0   0.0   0.0   0.0   0.0  …   0.0   0.0   0.0   0.0   0.0   0.0\n",
       " -1.0   0.0  -1.0   0.0   0.0   0.0      0.0   0.0   0.0   0.0   0.0   0.0\n",
       "  0.0  -1.0   0.0  -1.0   0.0   0.0      0.0   0.0   0.0   0.0   0.0   0.0\n",
       "  0.0   0.0  -1.0   0.0  -1.0   0.0      0.0   0.0   0.0   0.0   0.0   0.0\n",
       "  0.0   0.0   0.0  -1.0   0.0  -1.0      0.0   0.0   0.0   0.0   0.0   0.0\n",
       "  0.0   0.0   0.0   0.0  -1.0   0.0  …   0.0   0.0   0.0   0.0   0.0   0.0\n",
       "  0.0   0.0   0.0   0.0   0.0  -1.0      0.0   0.0   0.0   0.0   0.0   0.0\n",
       "  0.0   0.0   0.0   0.0   0.0   0.0      0.0   0.0   0.0   0.0   0.0   0.0\n",
       "  0.0   0.0   0.0   0.0   0.0   0.0      0.0   0.0   0.0   0.0   0.0   0.0\n",
       "  0.0   0.0   0.0   0.0   0.0   0.0      0.0   0.0   0.0   0.0   0.0   0.0\n",
       "  0.0   0.0   0.0   0.0   0.0   0.0  …   0.0   0.0   0.0   0.0   0.0   0.0\n",
       "  0.0   0.0   0.0   0.0   0.0   0.0      0.0   0.0   0.0   0.0   0.0   0.0\n",
       "  0.0   0.0   0.0   0.0   0.0   0.0      0.0   0.0   0.0   0.0   0.0   0.0\n",
       "  ⋮                             ⋮    ⋱   ⋮                             ⋮\n",
       "  0.0   0.0   0.0   0.0   0.0   0.0      0.0   0.0   0.0   0.0   0.0   0.0\n",
       "  0.0   0.0   0.0   0.0   0.0   0.0  …   0.0   0.0   0.0   0.0   0.0   0.0\n",
       "  0.0   0.0   0.0   0.0   0.0   0.0      0.0   0.0   0.0   0.0   0.0   0.0\n",
       "  0.0   0.0   0.0   0.0   0.0   0.0      0.0   0.0   0.0   0.0   0.0   0.0\n",
       "  0.0   0.0   0.0   0.0   0.0   0.0      0.0   0.0   0.0   0.0   0.0   0.0\n",
       "  0.0   0.0   0.0   0.0   0.0   0.0     -1.0   0.0   0.0   0.0   0.0   0.0\n",
       "  0.0   0.0   0.0   0.0   0.0   0.0  …   0.0  -1.0   0.0   0.0   0.0   0.0\n",
       "  0.0   0.0   0.0   0.0   0.0   0.0     -1.0   0.0  -1.0   0.0   0.0   0.0\n",
       "  0.0   0.0   0.0   0.0   0.0   0.0      0.0  -1.0   0.0  -1.0   0.0   0.0\n",
       "  0.0   0.0   0.0   0.0   0.0   0.0      0.0   0.0  -1.0   0.0  -1.0   0.0\n",
       "  0.0   0.0   0.0   0.0   0.0   0.0      0.0   0.0   0.0  -1.0   0.0  -1.0\n",
       "  0.0   0.0   0.0   0.0   0.0   0.0  …   0.0   0.0   0.0   0.0  -1.0   0.0"
      ]
     },
     "execution_count": 57,
     "metadata": {},
     "output_type": "execute_result"
    }
   ],
   "source": [
    "n = 3\n",
    "L = 8*n + 4\n",
    "t = 1\n",
    "Ne = Int(L / 2)\n",
    "function Hamiltonian(L,t)\n",
    "    H = zeros(2*L, 2*L)\n",
    "    H[1,L] = -t\n",
    "    H[L,1] = -t\n",
    "    H[2L,L+1] = -t\n",
    "    H[L+1,2L] = -t\n",
    "    for i=1:2*L\n",
    "      for j=1:2*L\n",
    "        if i == j + 1 || i == j - 1\n",
    "          H[i,j] = -t\n",
    "        end \n",
    "      end\n",
    "    end\n",
    "    H[L,L+1]=0\n",
    "    H[L+1,L]=0\n",
    "    return H\n",
    "end\n",
    "\n",
    "H = Hamiltonian(L,t)"
   ]
  },
  {
   "cell_type": "code",
   "execution_count": 58,
   "metadata": {},
   "outputs": [
    {
     "data": {
      "text/plain": [
       "Lstate (generic function with 1 method)"
      ]
     },
     "execution_count": 58,
     "metadata": {},
     "output_type": "execute_result"
    }
   ],
   "source": [
    "function Lstate(L)                                 #generate a state of length L\n",
    "    Lstated, Lstateu, Lstate = zeros(L), zeros(L), zeros(L)\n",
    "    for j=1:L/4\n",
    "        Lstateu[rand(1:L)]=1\n",
    "    end\n",
    "    for j=1:L/4\n",
    "        Lstated[rand(1:L)]=-1\n",
    "    end\n",
    "    for i=1:L \n",
    "        if Lstated[i] == -1 && Lstateu[i] == 1\n",
    "            Lstate[i] = 2\n",
    "        else\n",
    "            Lstate[i] = Lstated[i] + Lstateu[i]\n",
    "        end\n",
    "    end\n",
    "    return Lstate\n",
    "end"
   ]
  },
  {
   "cell_type": "code",
   "execution_count": 59,
   "metadata": {},
   "outputs": [
    {
     "data": {
      "text/plain": [
       "extendedstate (generic function with 1 method)"
      ]
     },
     "execution_count": 59,
     "metadata": {},
     "output_type": "execute_result"
    }
   ],
   "source": [
    "function extendedstate(Lstatevector)               #take a state of length L and make it 2*L\n",
    "    L = length(Lstatevector)\n",
    "    State2L = zeros(2*L)\n",
    "    for j=1:L\n",
    "        if Lstatevector[j] == -1\n",
    "            State2L[j + L] = 1\n",
    "        elseif Lstatevector[j] == 1\n",
    "            State2L[j] = 1\n",
    "        elseif Lstatevector[j] == 2\n",
    "            State2L[j], State2L[j + L] = 1,1\n",
    "        else\n",
    "            State2L[j] = 0\n",
    "        end\n",
    "    end\n",
    "    return State2L\n",
    "end"
   ]
  },
  {
   "cell_type": "code",
   "execution_count": 60,
   "metadata": {},
   "outputs": [
    {
     "data": {
      "text/plain": [
       "shortstate (generic function with 1 method)"
      ]
     },
     "execution_count": 60,
     "metadata": {},
     "output_type": "execute_result"
    }
   ],
   "source": [
    "function shortstate(ext_state)                    #pass trom 2*L state to L state\n",
    "    L = Int(length(ext_state)/2)\n",
    "    sh_state = zeros(L)\n",
    "    for j=1:L\n",
    "        if ext_state[j]==1\n",
    "            sh_state[j]=1\n",
    "        end\n",
    "    end\n",
    "    for j=1:L\n",
    "        if ext_state[L+j]==1\n",
    "            if sh_state[j]==1\n",
    "                sh_state[j]=2\n",
    "            else\n",
    "                sh_state[j]=-1\n",
    "            end\n",
    "        end\n",
    "    end\n",
    "    return sh_state\n",
    "end\n"
   ]
  },
  {
   "cell_type": "code",
   "execution_count": 67,
   "metadata": {},
   "outputs": [
    {
     "data": {
      "text/plain": [
       "move_L (generic function with 1 method)"
      ]
     },
     "execution_count": 67,
     "metadata": {},
     "output_type": "execute_result"
    }
   ],
   "source": [
    "function Pauli(x,i,j)                 #check if state i and j are both occupied\n",
    "    if x[i] == 1 && x[j] == 1\n",
    "        return true\n",
    "    end\n",
    "    return false\n",
    "end \n",
    "\n",
    "function occupied_states(v)         #generate a vector with positions of occupied states (from 2*L states)\n",
    "    occ_states = []\n",
    "    for i = 1:2*L\n",
    "        if v[i] == 1\n",
    "            append!(occ_states, i)\n",
    "        end\n",
    "    end\n",
    "    return occ_states\n",
    "end\n",
    "\n",
    "\n",
    "function occupied_states_L(v)\n",
    "    occ_states = []\n",
    "    L =length(v)\n",
    "    for i = 1 : L\n",
    "        if abs(v[i]) == 1\n",
    "            append!(occ_states, i )\n",
    "            \n",
    "        elseif v[i] == 2\n",
    "            append!(occ_states, i )\n",
    "        \n",
    "        end\n",
    "    end\n",
    "    return occ_states\n",
    "end\n",
    "\n",
    "\n",
    "function move_L(w)\n",
    "    \n",
    "    v = copy(w)\n",
    "    L = length(v)\n",
    "    i = rand(occupied_states_L(v))\n",
    "    j = rand(-1:2:1)\n",
    "\n",
    "    j_a = mod(i+j,L)\n",
    "    j_a == 0 ? j_a = L : j_a = j_a\n",
    "\n",
    "        if v[i] != v[j_a] && v[j_a]!=2\n",
    "\n",
    "            if abs(v[i])==1\n",
    "            v[j_a] == 0 ? v[j_a] = v[i] : v[j_a] = 2\n",
    "            v[i] = 0\n",
    "\n",
    "            elseif v[i]==2    \n",
    "            spin = rand(-1:2:1)\n",
    "\n",
    "                if v[j_a] != spin\n",
    "                v[i] = -spin\n",
    "\n",
    "                    if abs(v[j_a]) == 1 \n",
    "                        v[j_a] = 2 \n",
    "                    elseif v[j_a] == 0 \n",
    "                        v[j_a] = spin \n",
    "                    end\n",
    "\n",
    "                end    \n",
    "            end\n",
    "        end\n",
    "\n",
    "    return v\n",
    "    \n",
    "end\n"
   ]
  },
  {
   "cell_type": "code",
   "execution_count": 68,
   "metadata": {},
   "outputs": [
    {
     "data": {
      "text/plain": [
       "hopping (generic function with 1 method)"
      ]
     },
     "execution_count": 68,
     "metadata": {},
     "output_type": "execute_result"
    }
   ],
   "source": [
    "function hopping(extended_state)\n",
    "    hopped_state = copy(extended_state)\n",
    "    L = length(extended_state)\n",
    "    x = occupied_states(extended_state)\n",
    "    hep = rand(x)\n",
    "    if extended_state(hep + 1) == 1 && extended_state(hep - 1) == 1\n",
    "        hep = rand(filter!(e -> e != hep,x))\n",
    "    he = extended_state[hep] \n",
    "    if hep != L/2 && hep != 1 && hep != L && hep != L/2+1\n",
    "            nep = rand([hep + 1,hep - 1])\n",
    "        elseif hep == 1\n",
    "            nep = rand([hep + 1, L/2])\n",
    "        else\n",
    "            nep = rand([hep - 1, 1])\n",
    "        end\n",
    "    else\n",
    "        if hep != L && hep != L/2 + 1\n",
    "            nep = rand([hep + 1,hep - 1])\n",
    "        elseif hep == L/2 + 1\n",
    "            nep = rand([hep + 1, L])\n",
    "        else\n",
    "            nep = rand([hep - 1, L/2 + 1])\n",
    "        end\n",
    "    end\n",
    "        \n",
    "    hopped_state[hep], hopped_state[nep] = 0, 1\n",
    "    return hopped_state\n",
    "end"
   ]
  },
  {
   "cell_type": "code",
   "execution_count": 69,
   "metadata": {},
   "outputs": [
    {
     "data": {
      "text/plain": [
       "56-element Vector{Float64}:\n",
       " -2.0000000000000018\n",
       " -2.0\n",
       " -1.9498558243636503\n",
       " -1.949855824363648\n",
       " -1.9498558243636477\n",
       " -1.949855824363647\n",
       " -1.801937735804839\n",
       " -1.801937735804838\n",
       " -1.8019377358048378\n",
       " -1.8019377358048374\n",
       " -1.5636629649360605\n",
       " -1.56366296493606\n",
       " -1.5636629649360592\n",
       "  ⋮\n",
       "  1.5636629649360607\n",
       "  1.5636629649360632\n",
       "  1.8019377358048378\n",
       "  1.801937735804838\n",
       "  1.801937735804838\n",
       "  1.8019377358048392\n",
       "  1.9498558243636466\n",
       "  1.9498558243636466\n",
       "  1.949855824363648\n",
       "  1.9498558243636481\n",
       "  1.999999999999999\n",
       "  2.0000000000000004"
      ]
     },
     "execution_count": 69,
     "metadata": {},
     "output_type": "execute_result"
    }
   ],
   "source": [
    "using LinearAlgebra\n",
    "U = eigvecs(H)  #unitary matrix\n",
    "Udag = inv(U)   #U^-1\n",
    "E = eigvals(H)  #eigenvalues of H"
   ]
  },
  {
   "cell_type": "code",
   "execution_count": 70,
   "metadata": {},
   "outputs": [
    {
     "data": {
      "text/plain": [
       "U_tilde (generic function with 1 method)"
      ]
     },
     "execution_count": 70,
     "metadata": {},
     "output_type": "execute_result"
    }
   ],
   "source": [
    "function U1(A, Ne) #take the first Ne columns\n",
    "    U_1 = A[:,1:Ne]\n",
    "    return U_1\n",
    "end\n",
    "\n",
    "U_1 = U1(U,Ne)\n",
    "\n",
    "function U_tilde(A,v)                  #takes just the rows related to occupied states, Ne*Ne matrix\n",
    "    U_tild = []\n",
    "    U_tild = A[occupied_states(v),:]\n",
    "    return U_tild\n",
    "end"
   ]
  },
  {
   "cell_type": "code",
   "execution_count": 73,
   "metadata": {},
   "outputs": [
    {
     "data": {
      "text/plain": [
       "ratio_det (generic function with 1 method)"
      ]
     },
     "execution_count": 73,
     "metadata": {},
     "output_type": "execute_result"
    }
   ],
   "source": [
    "function ratio_det(v, z)\n",
    "    rat= det(U_tilde(U_1,z))/det(U_tilde(U_1,v))\n",
    "    return rat\n",
    "end  \n",
    "\n"
   ]
  },
  {
   "cell_type": "code",
   "execution_count": 74,
   "metadata": {},
   "outputs": [
    {
     "data": {
      "text/plain": [
       "n_i (generic function with 1 method)"
      ]
     },
     "execution_count": 74,
     "metadata": {},
     "output_type": "execute_result"
    }
   ],
   "source": [
    "function n_i(vi)           #counts the number of els in positions vi, returning (# up , # down)\n",
    "    \n",
    "    n_up = 0\n",
    "    n_down = 0\n",
    "    \n",
    "        if vi == 1\n",
    "            n_up += 1\n",
    "            \n",
    "        elseif vi == -1\n",
    "            n_down += 1\n",
    "                \n",
    "        elseif vi == 2\n",
    "            n_down += 1\n",
    "            n_up += 1\n",
    "                \n",
    "        end\n",
    "\n",
    "return n_up, n_down\n",
    "\n",
    "end\n"
   ]
  },
  {
   "cell_type": "code",
   "execution_count": 75,
   "metadata": {},
   "outputs": [
    {
     "data": {
      "text/plain": [
       "Jastrow (generic function with 1 method)"
      ]
     },
     "execution_count": 75,
     "metadata": {},
     "output_type": "execute_result"
    }
   ],
   "source": [
    "function Jastrow(state,g,v)\n",
    "            \n",
    "    D=length(state)        \n",
    "    \n",
    "    n1 = 1\n",
    "    n2 = 0\n",
    "    \n",
    "    Spins=0\n",
    "    Occupancies=0\n",
    "            \n",
    "    n1 = n_i(state[D])[1] + n_i(state[D])[2]  \n",
    "    \n",
    "    for i = 1 : D\n",
    "                \n",
    "        n_up= n_i(state[i])[1]\n",
    "                \n",
    "        n_down = n_i(state[i])[2]\n",
    "                \n",
    "             \n",
    "    Spins = Spins + n_up*n_down \n",
    "                \n",
    "        \n",
    "    n2= n_up + n_down\n",
    "    n1n2 = n1*n2   \n",
    "    n1 = n2\n",
    "                \n",
    "    Occupancies = Occupancies + n1n2\n",
    "            \n",
    "        end\n",
    "    \n",
    "    arg=  -g*Spins -v*Occupancies\n",
    "            \n",
    "            return exp(arg)\n",
    "    \n",
    "    end\n"
   ]
  },
  {
   "cell_type": "code",
   "execution_count": 76,
   "metadata": {},
   "outputs": [
    {
     "ename": "LoadError",
     "evalue": "syntax: newline not allowed after \":\" used for quoting",
     "output_type": "error",
     "traceback": [
      "syntax: newline not allowed after \":\" used for quoting",
      "",
      "Stacktrace:",
      " [1] top-level scope",
      "   @ In[76]:2",
      " [2] eval",
      "   @ ./boot.jl:360 [inlined]",
      " [3] include_string(mapexpr::typeof(REPL.softscope), mod::Module, code::String, filename::String)",
      "   @ Base ./loading.jl:1094"
     ]
    }
   ],
   "source": [
    "function MC(q0=0,delta=0.1,nsteps=1000,seed=None):\n",
    "    if seed is not None:\n",
    "        np.random.seed(seed)\n",
    "    q=q0\n",
    "    traj=[]\n",
    "    for istep in range(nsteps):\n",
    "        qtry=q+(2*np.random.rand()-1)*delta\n",
    "        energy_try=0.5*kappa*qtry**2     #1/2 k q^2\n",
    "        deltae=energy_try-energy\n",
    "        if deltae<=0.0:          #take acceptance 1 if the energy decrease\n",
    "            acceptance=1.0\n",
    "        else:\n",
    "            acceptance =  ratio**2 * Jastrow_ratio**2   #acceptance \n",
    "        if acceptance >=1.0 or acceptance>np.random.rand(): #metropolis rule\n",
    "            q=qtry\n",
    "            energy=energy_try\n",
    "        traj.append(q)\n",
    "    return np.array(traj)"
   ]
  },
  {
   "cell_type": "code",
   "execution_count": 77,
   "metadata": {},
   "outputs": [
    {
     "data": {
      "text/plain": [
       "nB (generic function with 1 method)"
      ]
     },
     "execution_count": 77,
     "metadata": {},
     "output_type": "execute_result"
    }
   ],
   "source": [
    "#This function calculates the density observable in the odd sites A\n",
    "function nA(v)\n",
    "    nA = 0\n",
    "    for j=1:length(v)\n",
    "        if j%2 != 0\n",
    "            nA += sum(n_i(v[j])) \n",
    "        end\n",
    "    end\n",
    "    return nA*2/length(v)\n",
    "end\n",
    "\n",
    "#This function calculates the density observable in the even sites B\n",
    "function nB(v)\n",
    "    nB = 0\n",
    "    for j=1:length(v)\n",
    "        if j%2 == 0\n",
    "            nB += sum(n_i(v[j])) \n",
    "        end\n",
    "    end\n",
    "    return nB*2/length(v)\n",
    "end"
   ]
  },
  {
   "cell_type": "code",
   "execution_count": 79,
   "metadata": {},
   "outputs": [
    {
     "data": {
      "text/plain": [
       "Lstate (generic function with 1 method)"
      ]
     },
     "execution_count": 79,
     "metadata": {},
     "output_type": "execute_result"
    }
   ],
   "source": [
    "function Lstate(L)                                 #generate a state of length L\n",
    "    Lstated, Lstateu, Lstate = zeros(L), zeros(L), zeros(L)\n",
    "    for j=1:L/4\n",
    "        Lstateu[rand(1:L)]=1\n",
    "    end\n",
    "    for j=1:L/4\n",
    "        Lstated[rand(1:L)]=-1\n",
    "    end\n",
    "    for i=1:L \n",
    "        if Lstated[i] == -1 && Lstateu[i] == 1\n",
    "            Lstate[i] = 2\n",
    "        else\n",
    "            Lstate[i] = Lstated[i] + Lstateu[i]\n",
    "        end\n",
    "    end\n",
    "    return Lstate\n",
    "end"
   ]
  },
  {
   "cell_type": "code",
   "execution_count": 102,
   "metadata": {},
   "outputs": [
    {
     "ename": "LoadError",
     "evalue": "ArgumentError: Package Plots not found in current path:\n- Run `import Pkg; Pkg.add(\"Plots\")` to install the Plots package.\n",
     "output_type": "error",
     "traceback": [
      "ArgumentError: Package Plots not found in current path:\n- Run `import Pkg; Pkg.add(\"Plots\")` to install the Plots package.\n",
      "",
      "Stacktrace:",
      " [1] require(into::Module, mod::Symbol)",
      "   @ Base ./loading.jl:871",
      " [2] eval",
      "   @ ./boot.jl:360 [inlined]",
      " [3] include_string(mapexpr::typeof(REPL.softscope), mod::Module, code::String, filename::String)",
      "   @ Base ./loading.jl:1094"
     ]
    }
   ],
   "source": [
    "import Random\n",
    "\n",
    "function MC(q0, g, v, nsteps = 1000)\n",
    "    Random.seed!(1234)\n",
    "    state_L = q0\n",
    "    sumA=0\n",
    "    sumB=0\n",
    "    accepted_moves = 0\n",
    "    for istep = 1:nsteps\n",
    "        state_2L = extendedstate(state_L)\n",
    "        state_new_L = move_L(state_L)\n",
    "        state_new_2L = extendedstate(state_new_L)\n",
    "        acc =  (ratio_det(state_2L,state_new_2L) * (Jastrow(state_new_L,g,v)/Jastrow(state_L,g,v)))^2       #acceptance \n",
    "        if acc >=1.0 || acc>randn()        #metropolis rule\n",
    "            n_newA= nA(state_new_L)\n",
    "            #display(n_newA)\n",
    "            sumA+=n_newA\n",
    "            n_newB= nB(state_new_L)\n",
    "            sumB+=n_newB\n",
    "            state_L = copy(state_new_L)\n",
    "            accepted_moves += 1\n",
    "            #compute observables\n",
    "        end\n",
    "    end\n",
    "    return sumA/accepted_moves\n",
    "end \n",
    "state_prova = [1,2,0,1,-1,0,0,1,0,1,-1,2,0,-1,0,-1,0,0,0,0,0,-1,0,0,0,0,0,1]\n",
    "MC_prova= MC(state_prova,10,2,1000)\n",
    "\n",
    "MC_res = []\n",
    "for i = 1:8\n",
    "    append!(MC_res, MC(state_prova,10,i,1000))\n",
    "end\n",
    "MC_res\n",
    "using Plots\n",
    "plot(MC_res)"
   ]
  },
  {
   "cell_type": "code",
   "execution_count": 23,
   "metadata": {
    "scrolled": true
   },
   "outputs": [
    {
     "ename": "LoadError",
     "evalue": "ArgumentError: Package StatsBase not found in current path:\n- Run `import Pkg; Pkg.add(\"StatsBase\")` to install the StatsBase package.\n",
     "output_type": "error",
     "traceback": [
      "ArgumentError: Package StatsBase not found in current path:\n- Run `import Pkg; Pkg.add(\"StatsBase\")` to install the StatsBase package.\n",
      "",
      "Stacktrace:",
      " [1] require(into::Module, mod::Symbol)",
      "   @ Base ./loading.jl:871",
      " [2] eval",
      "   @ ./boot.jl:360 [inlined]",
      " [3] include_string(mapexpr::typeof(REPL.softscope), mod::Module, code::String, filename::String)",
      "   @ Base ./loading.jl:1094"
     ]
    }
   ],
   "source": [
    "#generation of random state\n",
    "#This is not taking into account double occupancies\n",
    "using StatsBase\n",
    "function randomstate(L)\n",
    "    state = sample(vcat([1 for j=1:L/4],[-1 for j=1:L/4],[0 for j=1:L/2],[2 for j=1:L/4]), L, replace=false) #sample randomly assigns values of the vector concatenation vcat to a vector of length L without replacement\n",
    "    return state\n",
    "end"
   ]
  },
  {
   "cell_type": "code",
   "execution_count": null,
   "metadata": {},
   "outputs": [],
   "source": [
    "function fromLstateto2L(Lstatevector)\n",
    "    L = length(Lstatevector)\n",
    "    State2L = zeros(2*L)\n",
    "    for j=1:L\n",
    "        if Lstatevector[j] == -1\n",
    "            State2L[j + L] = 1\n",
    "        elseif Lstatevector[j] == 1\n",
    "            State2L[j] = 1\n",
    "        elseif Lstatevector[j] == 2\n",
    "            State2L[j], State2L[j + L] = 1,1\n",
    "        else\n",
    "            State2L[j] = 0\n",
    "        end\n",
    "    end\n",
    "    return State2L\n",
    "end"
   ]
  },
  {
   "cell_type": "code",
   "execution_count": null,
   "metadata": {},
   "outputs": [],
   "source": [
    "a = Lstate(12)"
   ]
  },
  {
   "cell_type": "code",
   "execution_count": null,
   "metadata": {},
   "outputs": [],
   "source": [
    "fromLstateto2L(a)"
   ]
  },
  {
   "cell_type": "code",
   "execution_count": null,
   "metadata": {},
   "outputs": [],
   "source": [
    "if Pauli(v,x[i],x[i]+1) || if (x[i] == Int(len_v/2) && Pauli(x[i],1)) || if (x[i] == len_v && Pauli(x[i],Int(len_v/2+1)))"
   ]
  },
  {
   "cell_type": "code",
   "execution_count": null,
   "metadata": {},
   "outputs": [],
   "source": [
    "function averagedensity(state)\n",
    "    nprom = oddsum()"
   ]
  },
  {
   "cell_type": "code",
   "execution_count": null,
   "metadata": {},
   "outputs": [],
   "source": []
  },
  {
   "cell_type": "code",
   "execution_count": null,
   "metadata": {},
   "outputs": [],
   "source": [
    "import Pkg; Pkg.add(\"Plots\")"
   ]
  },
  {
   "cell_type": "code",
   "execution_count": null,
   "metadata": {},
   "outputs": [],
   "source": []
  }
 ],
 "metadata": {
  "kernelspec": {
   "display_name": "Julia 1.6.1",
   "language": "julia",
   "name": "julia-1.6"
  },
  "language_info": {
   "file_extension": ".jl",
   "mimetype": "application/julia",
   "name": "julia",
   "version": "1.6.1"
  }
 },
 "nbformat": 4,
 "nbformat_minor": 4
}
