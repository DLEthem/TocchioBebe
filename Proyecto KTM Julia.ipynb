{
 "cells": [
  {
   "cell_type": "code",
   "execution_count": 2,
   "metadata": {},
   "outputs": [
    {
     "data": {
      "text/plain": [
       "16×16 Matrix{Float64}:\n",
       "  0.0  -1.0   0.0   0.0   0.0   0.0  …   0.0   0.0   0.0   0.0   0.0   0.0\n",
       " -1.0   0.0  -1.0   0.0   0.0   0.0      0.0   0.0   0.0   0.0   0.0   0.0\n",
       "  0.0  -1.0   0.0  -1.0   0.0   0.0      0.0   0.0   0.0   0.0   0.0   0.0\n",
       "  0.0   0.0  -1.0   0.0  -1.0   0.0      0.0   0.0   0.0   0.0   0.0   0.0\n",
       "  0.0   0.0   0.0  -1.0   0.0  -1.0      0.0   0.0   0.0   0.0   0.0   0.0\n",
       "  0.0   0.0   0.0   0.0  -1.0   0.0  …   0.0   0.0   0.0   0.0   0.0   0.0\n",
       "  0.0   0.0   0.0   0.0   0.0  -1.0      0.0   0.0   0.0   0.0   0.0   0.0\n",
       " -1.0   0.0   0.0   0.0   0.0   0.0      0.0   0.0   0.0   0.0   0.0   0.0\n",
       "  0.0   0.0   0.0   0.0   0.0   0.0      0.0   0.0   0.0   0.0   0.0  -1.0\n",
       "  0.0   0.0   0.0   0.0   0.0   0.0     -1.0   0.0   0.0   0.0   0.0   0.0\n",
       "  0.0   0.0   0.0   0.0   0.0   0.0  …   0.0  -1.0   0.0   0.0   0.0   0.0\n",
       "  0.0   0.0   0.0   0.0   0.0   0.0     -1.0   0.0  -1.0   0.0   0.0   0.0\n",
       "  0.0   0.0   0.0   0.0   0.0   0.0      0.0  -1.0   0.0  -1.0   0.0   0.0\n",
       "  0.0   0.0   0.0   0.0   0.0   0.0      0.0   0.0  -1.0   0.0  -1.0   0.0\n",
       "  0.0   0.0   0.0   0.0   0.0   0.0      0.0   0.0   0.0  -1.0   0.0  -1.0\n",
       "  0.0   0.0   0.0   0.0   0.0   0.0  …   0.0   0.0   0.0   0.0  -1.0   0.0"
      ]
     },
     "execution_count": 2,
     "metadata": {},
     "output_type": "execute_result"
    }
   ],
   "source": [
    "L = 8\n",
    "t = 1\n",
    "function Hamiltonian(L,t)\n",
    "    H = zeros(2*L, 2*L)\n",
    "    H[1,L] = -t\n",
    "    H[L,1] = -t\n",
    "    H[2L,L+1] = -t\n",
    "    H[L+1,2L] = -t\n",
    "    for i=1:2*L\n",
    "      for j=1:2*L\n",
    "        if i == j + 1 || i == j - 1\n",
    "          H[i,j] = -t\n",
    "        end \n",
    "      end\n",
    "    end\n",
    "    H[L,L+1]=0\n",
    "    H[L+1,L]=0\n",
    "    return H\n",
    "end\n",
    "\n",
    "H = Hamiltonian(L,t)"
   ]
  },
  {
   "cell_type": "code",
   "execution_count": 3,
   "metadata": {},
   "outputs": [
    {
     "data": {
      "text/plain": [
       "-2.0000000000000004"
      ]
     },
     "execution_count": 3,
     "metadata": {},
     "output_type": "execute_result"
    }
   ],
   "source": [
    "using LinearAlgebra\n",
    "U = eigvecs(H)  #unitary matrix\n",
    "Udag = inv(U)   #U^-1\n",
    "E = eigvals(H)  #eigenvalues of H"
   ]
  },
  {
   "cell_type": "code",
   "execution_count": 8,
   "metadata": {},
   "outputs": [
    {
     "data": {
      "text/plain": [
       "16×4 Matrix{Float64}:\n",
       " -0.353553   0.0        0.353553      0.0\n",
       " -0.353553   0.0        0.5           0.0\n",
       " -0.353553   0.0        0.353553      0.0\n",
       " -0.353553   0.0       -5.55112e-17   0.0\n",
       " -0.353553   0.0       -0.353553      0.0\n",
       " -0.353553   0.0       -0.5           0.0\n",
       " -0.353553   0.0       -0.353553      0.0\n",
       " -0.353553   0.0        0.0           0.0\n",
       "  0.0       -0.353553   0.0           0.353553\n",
       "  0.0       -0.353553   0.0           0.5\n",
       "  0.0       -0.353553   0.0           0.353553\n",
       "  0.0       -0.353553   0.0          -5.55112e-17\n",
       "  0.0       -0.353553   0.0          -0.353553\n",
       "  0.0       -0.353553   0.0          -0.5\n",
       "  0.0       -0.353553   0.0          -0.353553\n",
       "  0.0       -0.353553   0.0           0.0"
      ]
     },
     "execution_count": 8,
     "metadata": {},
     "output_type": "execute_result"
    }
   ],
   "source": [
    "function U1(A, Ne) #take the first Ne columns\n",
    "    U_1 = A[:,1:4]\n",
    "    return U_1\n",
    "end\n",
    "\n",
    "U_1 = U1(U,4)"
   ]
  },
  {
   "cell_type": "code",
   "execution_count": 14,
   "metadata": {},
   "outputs": [
    {
     "ename": "LoadError",
     "evalue": "ArgumentError: invalid index: 1.0 of type Float64",
     "output_type": "error",
     "traceback": [
      "ArgumentError: invalid index: 1.0 of type Float64",
      "",
      "Stacktrace:",
      "  [1] to_index(i::Float64)",
      "    @ Base ./indices.jl:300",
      "  [2] to_index(A::Matrix{Float64}, i::Float64)",
      "    @ Base ./indices.jl:277",
      "  [3] to_indices",
      "    @ ./indices.jl:333 [inlined]",
      "  [4] to_indices",
      "    @ ./indices.jl:324 [inlined]",
      "  [5] getindex",
      "    @ ./abstractarray.jl:1170 [inlined]",
      "  [6] macro expansion",
      "    @ ./multidimensional.jl:860 [inlined]",
      "  [7] macro expansion",
      "    @ ./cartesian.jl:64 [inlined]",
      "  [8] _unsafe_getindex!",
      "    @ ./multidimensional.jl:855 [inlined]",
      "  [9] _unsafe_getindex(::IndexLinear, ::Matrix{Float64}, ::Vector{Float64}, ::Base.Slice{Base.OneTo{Int64}})",
      "    @ Base ./multidimensional.jl:846",
      " [10] _getindex",
      "    @ ./multidimensional.jl:832 [inlined]",
      " [11] getindex",
      "    @ ./abstractarray.jl:1170 [inlined]",
      " [12] U_tilde(A::Matrix{Float64}, state::Vector{Int64})",
      "    @ Main ./In[14]:10",
      " [13] top-level scope",
      "    @ In[14]:13",
      " [14] eval",
      "    @ ./boot.jl:360 [inlined]",
      " [15] include_string(mapexpr::typeof(REPL.softscope), mod::Module, code::String, filename::String)",
      "    @ Base ./loading.jl:1094"
     ]
    }
   ],
   "source": [
    "state = [1,1,0,0,0,0,0,0,0,0,1,0,1,0,0,0]\n",
    "function U_tilde(A,state)\n",
    "    U_tild = []\n",
    "    occupied_states = Vector{Int64}\n",
    "    for i = 1 : 2*L\n",
    "        if state[i] == 1\n",
    "            append!( occupied_states , i )\n",
    "        end\n",
    "    end\n",
    "    U_tild = A[occupied_states,:]\n",
    "    return U_tild\n",
    "end\n",
    "U_tilde(U_1,state)\n",
    "\n",
    "        "
   ]
  },
  {
   "cell_type": "code",
   "execution_count": 37,
   "metadata": {},
   "outputs": [
    {
     "data": {
      "text/plain": [
       "4×4 Array{Float64,2}:\n",
       " -0.353553   0.0       0.353553  0.0\n",
       " -0.353553   0.0       0.5       0.0\n",
       "  0.0       -0.353553  0.0       0.353553\n",
       "  0.0       -0.353553  0.0       0.5"
      ]
     },
     "execution_count": 37,
     "metadata": {},
     "output_type": "execute_result"
    }
   ],
   "source": [
    "UT = U[[1,2,9,10],1:4]"
   ]
  },
  {
   "cell_type": "code",
   "execution_count": 39,
   "metadata": {},
   "outputs": [
    {
     "data": {
      "text/plain": [
       "4×4 Array{Float64,2}:\n",
       "  1.0          4.44089e-16   0.0          0.0\n",
       " -4.44089e-16  1.0           0.0          0.0\n",
       "  0.0          0.0           1.0          4.44089e-16\n",
       "  0.0          0.0          -4.44089e-16  1.0"
      ]
     },
     "execution_count": 39,
     "metadata": {},
     "output_type": "execute_result"
    }
   ],
   "source": []
  },
  {
   "cell_type": "code",
   "execution_count": 66,
   "metadata": {},
   "outputs": [
    {
     "data": {
      "text/plain": [
       "confi (generic function with 1 method)"
      ]
     },
     "execution_count": 66,
     "metadata": {},
     "output_type": "execute_result"
    }
   ],
   "source": [
    "function confi(L)\n",
    "  N = L/2\n",
    "  Ne = N/2 #number of electrons with a quarter of filling\n",
    "    \n",
    "state = []\n",
    "\n",
    "for i in range(1,L):\n",
    "  n = randint(0,L-i)\n",
    "  state.append(electrons[n])\n",
    "  electrons = np.delete(electrons, n)\n",
    "print(state)\n",
    "Hs = csr_matrix(H)\n",
    "print(Hs)\n",
    "states = rand(length(electronsup) + length(electronsdown) + length(ceros),N)\n",
    "    end "
   ]
  },
  {
   "cell_type": "code",
   "execution_count": 67,
   "metadata": {},
   "outputs": [
    {
     "data": {
      "text/plain": [
       "2-element Array{Float64,1}:\n",
       " 0.0\n",
       " 0.0"
      ]
     },
     "execution_count": 67,
     "metadata": {},
     "output_type": "execute_result"
    }
   ],
   "source": [
    "zeros(Int64(4/2))"
   ]
  },
  {
   "cell_type": "code",
   "execution_count": 69,
   "metadata": {},
   "outputs": [
    {
     "ename": "LoadError",
     "evalue": "\u001b[91mMethodError: no method matching rand(::Int32, ::Float64)\u001b[39m\n\u001b[91m\u001b[0mClosest candidates are:\u001b[39m\n\u001b[91m\u001b[0m  rand(\u001b[91m::Random.AbstractRNG\u001b[39m, ::Any) at C:\\buildbot\\worker\\package_win32\\build\\usr\\share\\julia\\stdlib\\v1.5\\Random\\src\\Random.jl:253\u001b[39m\n\u001b[91m\u001b[0m  rand(\u001b[91m::Integer...\u001b[39m) at C:\\buildbot\\worker\\package_win32\\build\\usr\\share\\julia\\stdlib\\v1.5\\Random\\src\\Random.jl:277\u001b[39m\n\u001b[91m\u001b[0m  rand(\u001b[91m::Random.AbstractRNG\u001b[39m, ::Any, \u001b[91m::Tuple{Vararg{Int32,N}} where N\u001b[39m) at C:\\buildbot\\worker\\package_win32\\build\\usr\\share\\julia\\stdlib\\v1.5\\Random\\src\\Random.jl:279\u001b[39m\n\u001b[91m\u001b[0m  ...\u001b[39m",
     "output_type": "error",
     "traceback": [
      "\u001b[91mMethodError: no method matching rand(::Int32, ::Float64)\u001b[39m\n\u001b[91m\u001b[0mClosest candidates are:\u001b[39m\n\u001b[91m\u001b[0m  rand(\u001b[91m::Random.AbstractRNG\u001b[39m, ::Any) at C:\\buildbot\\worker\\package_win32\\build\\usr\\share\\julia\\stdlib\\v1.5\\Random\\src\\Random.jl:253\u001b[39m\n\u001b[91m\u001b[0m  rand(\u001b[91m::Integer...\u001b[39m) at C:\\buildbot\\worker\\package_win32\\build\\usr\\share\\julia\\stdlib\\v1.5\\Random\\src\\Random.jl:277\u001b[39m\n\u001b[91m\u001b[0m  rand(\u001b[91m::Random.AbstractRNG\u001b[39m, ::Any, \u001b[91m::Tuple{Vararg{Int32,N}} where N\u001b[39m) at C:\\buildbot\\worker\\package_win32\\build\\usr\\share\\julia\\stdlib\\v1.5\\Random\\src\\Random.jl:279\u001b[39m\n\u001b[91m\u001b[0m  ...\u001b[39m",
      "",
      "Stacktrace:",
      " [1] confi(::Int32) at .\\In[66]:9",
      " [2] top-level scope at In[69]:1",
      " [3] include_string(::Function, ::Module, ::String, ::String) at .\\loading.jl:1091"
     ]
    }
   ],
   "source": [
    "confi(L)"
   ]
  },
  {
   "cell_type": "code",
   "execution_count": null,
   "metadata": {
    "collapsed": true
   },
   "outputs": [],
   "source": []
  }
 ],
 "metadata": {
  "kernelspec": {
   "display_name": "Julia 1.6.1",
   "language": "julia",
   "name": "julia-1.6"
  },
  "language_info": {
   "file_extension": ".jl",
   "mimetype": "application/julia",
   "name": "julia",
   "version": "1.6.1"
  }
 },
 "nbformat": 4,
 "nbformat_minor": 4
}
