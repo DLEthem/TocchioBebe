{
 "cells": [
  {
   "cell_type": "code",
   "execution_count": 131,
   "metadata": {},
   "outputs": [
    {
     "data": {
      "text/plain": [
       "24×24 Matrix{Float64}:\n",
       "  0.0  -1.0   0.0   0.0   0.0   0.0  …   0.0   0.0   0.0   0.0   0.0   0.0\n",
       " -1.0   0.0  -1.0   0.0   0.0   0.0      0.0   0.0   0.0   0.0   0.0   0.0\n",
       "  0.0  -1.0   0.0  -1.0   0.0   0.0      0.0   0.0   0.0   0.0   0.0   0.0\n",
       "  0.0   0.0  -1.0   0.0  -1.0   0.0      0.0   0.0   0.0   0.0   0.0   0.0\n",
       "  0.0   0.0   0.0  -1.0   0.0  -1.0      0.0   0.0   0.0   0.0   0.0   0.0\n",
       "  0.0   0.0   0.0   0.0  -1.0   0.0  …   0.0   0.0   0.0   0.0   0.0   0.0\n",
       "  0.0   0.0   0.0   0.0   0.0  -1.0      0.0   0.0   0.0   0.0   0.0   0.0\n",
       "  0.0   0.0   0.0   0.0   0.0   0.0      0.0   0.0   0.0   0.0   0.0   0.0\n",
       "  0.0   0.0   0.0   0.0   0.0   0.0      0.0   0.0   0.0   0.0   0.0   0.0\n",
       "  0.0   0.0   0.0   0.0   0.0   0.0      0.0   0.0   0.0   0.0   0.0   0.0\n",
       "  0.0   0.0   0.0   0.0   0.0   0.0  …   0.0   0.0   0.0   0.0   0.0   0.0\n",
       " -1.0   0.0   0.0   0.0   0.0   0.0      0.0   0.0   0.0   0.0   0.0   0.0\n",
       "  0.0   0.0   0.0   0.0   0.0   0.0      0.0   0.0   0.0   0.0   0.0  -1.0\n",
       "  0.0   0.0   0.0   0.0   0.0   0.0      0.0   0.0   0.0   0.0   0.0   0.0\n",
       "  0.0   0.0   0.0   0.0   0.0   0.0      0.0   0.0   0.0   0.0   0.0   0.0\n",
       "  0.0   0.0   0.0   0.0   0.0   0.0  …   0.0   0.0   0.0   0.0   0.0   0.0\n",
       "  0.0   0.0   0.0   0.0   0.0   0.0      0.0   0.0   0.0   0.0   0.0   0.0\n",
       "  0.0   0.0   0.0   0.0   0.0   0.0     -1.0   0.0   0.0   0.0   0.0   0.0\n",
       "  0.0   0.0   0.0   0.0   0.0   0.0      0.0  -1.0   0.0   0.0   0.0   0.0\n",
       "  0.0   0.0   0.0   0.0   0.0   0.0     -1.0   0.0  -1.0   0.0   0.0   0.0\n",
       "  0.0   0.0   0.0   0.0   0.0   0.0  …   0.0  -1.0   0.0  -1.0   0.0   0.0\n",
       "  0.0   0.0   0.0   0.0   0.0   0.0      0.0   0.0  -1.0   0.0  -1.0   0.0\n",
       "  0.0   0.0   0.0   0.0   0.0   0.0      0.0   0.0   0.0  -1.0   0.0  -1.0\n",
       "  0.0   0.0   0.0   0.0   0.0   0.0      0.0   0.0   0.0   0.0  -1.0   0.0"
      ]
     },
     "execution_count": 131,
     "metadata": {},
     "output_type": "execute_result"
    }
   ],
   "source": [
    "n = 1\n",
    "L = 8*n + 4                        #number of lattice sites\n",
    "t = 1                              #hopping constant\n",
    "Ne = Int(L / 2)                    #number of electrons\n",
    "\n",
    "\n",
    "function Hamiltonian(L,t)\n",
    "    H = zeros(2*L, 2*L)\n",
    "    H[1,L] = -t\n",
    "    H[L,1] = -t\n",
    "    H[2L,L+1] = -t\n",
    "    H[L+1,2L] = -t\n",
    "    for i=1:2*L\n",
    "      for j=1:2*L\n",
    "        if i == j + 1 || i == j - 1\n",
    "          H[i,j] = -t\n",
    "        end \n",
    "      end\n",
    "    end\n",
    "    H[L,L+1]=0\n",
    "    H[L+1,L]=0\n",
    "    return H\n",
    "end\n",
    "\n",
    "H = Hamiltonian(L,t)"
   ]
  },
  {
   "cell_type": "code",
   "execution_count": 132,
   "metadata": {},
   "outputs": [
    {
     "data": {
      "text/plain": [
       "24-element Vector{Float64}:\n",
       " -2.0000000000000013\n",
       " -1.9999999999999991\n",
       " -1.7320508075688772\n",
       " -1.732050807568877\n",
       " -1.732050807568877\n",
       " -1.7320508075688767\n",
       " -1.0000000000000002\n",
       " -0.9999999999999996\n",
       " -0.9999999999999996\n",
       " -0.9999999999999996\n",
       " -2.2058985591457146e-16\n",
       " -3.826984288205141e-18\n",
       " -4.253626010865457e-20\n",
       "  2.2690771583394997e-16\n",
       "  0.999999999999999\n",
       "  0.9999999999999991\n",
       "  0.9999999999999991\n",
       "  0.9999999999999994\n",
       "  1.732050807568876\n",
       "  1.7320508075688767\n",
       "  1.7320508075688774\n",
       "  1.7320508075688776\n",
       "  2.000000000000001\n",
       "  2.000000000000001"
      ]
     },
     "execution_count": 132,
     "metadata": {},
     "output_type": "execute_result"
    }
   ],
   "source": [
    "using LinearAlgebra\n",
    "U = eigvecs(H)  #unitary matrix\n",
    "Udag = inv(U)   #U^-1\n",
    "E = eigvals(H)  #eigenvalues of H"
   ]
  },
  {
   "cell_type": "code",
   "execution_count": 146,
   "metadata": {},
   "outputs": [
    {
     "data": {
      "text/plain": [
       "24×6 Matrix{Float64}:\n",
       " -0.288675   0.0       -0.204124      0.0           0.353553      0.0\n",
       " -0.288675   0.0       -0.353553      0.0           0.204124      0.0\n",
       " -0.288675   0.0       -0.408248      0.0           1.84172e-15   0.0\n",
       " -0.288675   0.0       -0.353553      0.0          -0.204124      0.0\n",
       " -0.288675   0.0       -0.204124      0.0          -0.353553      0.0\n",
       " -0.288675   0.0        3.92523e-17   0.0          -0.408248      0.0\n",
       " -0.288675   0.0        0.204124      0.0          -0.353553      0.0\n",
       " -0.288675   0.0        0.353553      0.0          -0.204124      0.0\n",
       " -0.288675   0.0        0.408248      0.0           1.92023e-15   0.0\n",
       " -0.288675   0.0        0.353553      0.0           0.204124      0.0\n",
       " -0.288675   0.0        0.204124      0.0           0.353553      0.0\n",
       " -0.288675   0.0        0.0           0.0           0.408248      0.0\n",
       "  0.0       -0.288675   0.0          -0.204124      0.0           0.353553\n",
       "  0.0       -0.288675   0.0          -0.353553      0.0           0.204124\n",
       "  0.0       -0.288675   0.0          -0.408248      0.0           1.84172e-15\n",
       "  0.0       -0.288675   0.0          -0.353553      0.0          -0.204124\n",
       "  0.0       -0.288675   0.0          -0.204124      0.0          -0.353553\n",
       "  0.0       -0.288675   0.0           3.92523e-17   0.0          -0.408248\n",
       "  0.0       -0.288675   0.0           0.204124      0.0          -0.353553\n",
       "  0.0       -0.288675   0.0           0.353553      0.0          -0.204124\n",
       "  0.0       -0.288675   0.0           0.408248      0.0           1.92023e-15\n",
       "  0.0       -0.288675   0.0           0.353553      0.0           0.204124\n",
       "  0.0       -0.288675   0.0           0.204124      0.0           0.353553\n",
       "  0.0       -0.288675   0.0           0.0           0.0           0.408248"
      ]
     },
     "execution_count": 146,
     "metadata": {},
     "output_type": "execute_result"
    }
   ],
   "source": [
    "function U1(A, Ne) #take the first Ne columns\n",
    "    U_en = A[:,1:Ne]\n",
    "    return U_en\n",
    "end\n",
    "\n",
    "U_en = U1(U,Ne)"
   ]
  },
  {
   "cell_type": "code",
   "execution_count": 147,
   "metadata": {},
   "outputs": [
    {
     "data": {
      "text/plain": [
       "U_tilde (generic function with 1 method)"
      ]
     },
     "execution_count": 147,
     "metadata": {},
     "output_type": "execute_result"
    }
   ],
   "source": [
    "function occupied_states(v)           #writes a vector that contains the positions in the vector \"state\" of the occuppied states\n",
    "    occ_states = []\n",
    "    for i = 1 : 2*L                   #example: state = [0,1,0,1,1] -> occupied_states = [2,4,5]\n",
    "        if v[i] == 1\n",
    "            append!(occ_states, i )\n",
    "        end\n",
    "    end\n",
    "    return occ_states\n",
    "end\n",
    "    \n",
    "\n",
    "function U_tilde(A,v)                  #takes just the rows related to occupied states, Ne*Ne matrix\n",
    "    U_tild = []\n",
    "    U_tild = A[occupied_states(v),:]\n",
    "    return U_tild\n",
    "end"
   ]
  },
  {
   "cell_type": "code",
   "execution_count": 148,
   "metadata": {},
   "outputs": [
    {
     "data": {
      "text/plain": [
       "1.5773502691896293"
      ]
     },
     "execution_count": 148,
     "metadata": {},
     "output_type": "execute_result"
    }
   ],
   "source": [
    "state = [1,1,0,0,0,1,0,0,0,0,0,0,0,0,0,0,0,1,0,1,0,0,0,1]      #initial state\n",
    "\n",
    "U_1 = U_tilde(U_en,state)                       #initial U tilde\n",
    "\n",
    "state_1 = [1,0,1,0,0,1,0,0,0,0,0,0,0,0,0,0,0,1,0,1,0,0,0,1]    #|x'>\n",
    "\n",
    "U_2 = U_tilde(U_en,state_1)                     #new U tilde\n",
    "\n",
    "ratio = det(U_2) / det(U_1)                    #ratio of determinants of U tilde matrices"
   ]
  },
  {
   "cell_type": "code",
   "execution_count": 149,
   "metadata": {},
   "outputs": [
    {
     "data": {
      "text/plain": [
       "1"
      ]
     },
     "execution_count": 149,
     "metadata": {},
     "output_type": "execute_result"
    }
   ],
   "source": [
    "#Jastrow factor\n",
    "Jastrow_ratio = 1"
   ]
  },
  {
   "cell_type": "code",
   "execution_count": 150,
   "metadata": {},
   "outputs": [
    {
     "ename": "LoadError",
     "evalue": "syntax: newline not allowed after \":\" used for quoting",
     "output_type": "error",
     "traceback": [
      "syntax: newline not allowed after \":\" used for quoting",
      "",
      "Stacktrace:",
      " [1] top-level scope",
      "   @ In[150]:2",
      " [2] eval",
      "   @ ./boot.jl:360 [inlined]",
      " [3] include_string(mapexpr::typeof(REPL.softscope), mod::Module, code::String, filename::String)",
      "   @ Base ./loading.jl:1094"
     ]
    }
   ],
   "source": [
    "function MC(q0=0,delta=0.1,nsteps=1000,seed=None):                    #from Bussi, useful for inspiration\n",
    "    if seed is not None:\n",
    "        np.random.seed(seed)\n",
    "    q=q0\n",
    "    traj=[]\n",
    "    for istep in range(nsteps):\n",
    "        qtry=q+(2*np.random.rand()-1)*delta\n",
    "        energy_try=0.5*kappa*qtry**2     #1/2 k q^2\n",
    "        deltae=energy_try-energy\n",
    "        if deltae<=0.0:          #take acceptance 1 if the energy decrease\n",
    "            acceptance=1.0\n",
    "        else:\n",
    "            acceptance =  ratio**2 * Jastrow_ratio**2   #acceptance \n",
    "        if acceptance >=1.0 or acceptance>np.random.rand(): #metropolis rule\n",
    "            q=qtry\n",
    "            energy=energy_try\n",
    "        traj.append(q)\n",
    "    return np.array(traj)"
   ]
  },
  {
   "cell_type": "code",
   "execution_count": 151,
   "metadata": {},
   "outputs": [
    {
     "data": {
      "text/plain": [
       "move (generic function with 1 method)"
      ]
     },
     "execution_count": 151,
     "metadata": {},
     "output_type": "execute_result"
    }
   ],
   "source": [
    "state = [1,1,0,0,0,1,0,0,0,0,0,0,0,0,0,0,0,1,0,1,0,0,0,1]      #initial state\n",
    "\n",
    "function move(v1)                              #generate a random move from a random occupied state\n",
    "    v = copy(v1)\n",
    "    len_v = length(v)\n",
    "    x = occupied_states(v)\n",
    "    n = length(x)\n",
    "    i = rand(1:n)\n",
    "    v[x[i]] = 0\n",
    "    if 1 < x[i] < length(v)\n",
    "        v[x[i]+2*rand(0:1)-1] += 1             #random +-1 move if not at boundaries\n",
    "    elseif x[i]==1                             #if in position 1 move either to 2 or to n\n",
    "        if 2*rand(0:1)-1 < 0\n",
    "            v[len_v] += 1\n",
    "        else\n",
    "            v[2] += 1\n",
    "        end\n",
    "    else \n",
    "        if 2*rand(0:1)-1 < 0                    #if in position n move either to n-1 or to 1\n",
    "            v[len_v-1] += 1\n",
    "        else\n",
    "            v[1] += 1\n",
    "        end \n",
    "    end\n",
    "    return v\n",
    "end"
   ]
  },
  {
   "cell_type": "code",
   "execution_count": 105,
   "metadata": {},
   "outputs": [
    {
     "ename": "LoadError",
     "evalue": "syntax: expected \"end\" in definition of function \"MC\"",
     "output_type": "error",
     "traceback": [
      "syntax: expected \"end\" in definition of function \"MC\"",
      "",
      "Stacktrace:",
      " [1] top-level scope",
      "   @ In[105]:7",
      " [2] eval",
      "   @ ./boot.jl:360 [inlined]",
      " [3] include_string(mapexpr::typeof(REPL.softscope), mod::Module, code::String, filename::String)",
      "   @ Base ./loading.jl:1094"
     ]
    }
   ],
   "source": [
    "function MC\n",
    "    state_new = move(state)   \n",
    "    acceptance =  ratio**2 * Jastrow_ratio**2       #acceptance \n",
    "    if acceptance >=1.0 or acceptance>rand()        #metropolis rule\n",
    "        \n",
    "        #update T jastrow\n",
    "        U_2 = U_tilde(U_en,state_new)                     #new U tilde\n",
    "        \n",
    "        ratio = det(U_2) / det(U_1)                    #ratio of determinants of U tilde matrices\n",
    "        state = copy(state_new)\n",
    "    end\n",
    "    \n",
    "end  \n",
    "        "
   ]
  },
  {
   "cell_type": "code",
   "execution_count": null,
   "metadata": {
    "collapsed": true
   },
   "outputs": [],
   "source": []
  }
 ],
 "metadata": {
  "kernelspec": {
   "display_name": "Julia 1.6.1",
   "language": "julia",
   "name": "julia-1.6"
  },
  "language_info": {
   "file_extension": ".jl",
   "mimetype": "application/julia",
   "name": "julia",
   "version": "1.6.1"
  }
 },
 "nbformat": 4,
 "nbformat_minor": 4
}
