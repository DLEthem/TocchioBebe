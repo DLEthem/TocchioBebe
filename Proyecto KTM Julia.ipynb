{
 "cells": [
  {
   "cell_type": "code",
   "execution_count": null,
   "metadata": {},
   "outputs": [],
   "source": [
    "n = 1\n",
    "L = 8*n + 4\n",
    "t = 1\n",
    "Ne = Int(L / 2)\n",
    "function Hamiltonian(L,t)\n",
    "    H = zeros(2*L, 2*L)\n",
    "    H[1,L] = -t\n",
    "    H[L,1] = -t\n",
    "    H[2L,L+1] = -t\n",
    "    H[L+1,2L] = -t\n",
    "    for i=1:2*L\n",
    "      for j=1:2*L\n",
    "        if i == j + 1 || i == j - 1\n",
    "          H[i,j] = -t\n",
    "        end \n",
    "      end\n",
    "    end\n",
    "    H[L,L+1]=0\n",
    "    H[L+1,L]=0\n",
    "    return H\n",
    "end\n",
    "\n",
    "H = Hamiltonian(L,t)"
   ]
  },
  {
   "cell_type": "code",
   "execution_count": 25,
   "metadata": {},
   "outputs": [
    {
     "data": {
      "text/plain": [
       "Lstate (generic function with 1 method)"
      ]
     },
     "execution_count": 25,
     "metadata": {},
     "output_type": "execute_result"
    }
   ],
   "source": [
    "function Lstate(L)                                 #generate a state of length L\n",
    "    Lstated, Lstateu, Lstate = zeros(L), zeros(L), zeros(L)\n",
    "    for j=1:L/4\n",
    "        Lstateu[rand(1:L)]=1\n",
    "    end\n",
    "    for j=1:L/4\n",
    "        Lstated[rand(1:L)]=-1\n",
    "    end\n",
    "    for i=1:L \n",
    "        if Lstated[i] == -1 && Lstateu[i] == 1\n",
    "            Lstate[i] = 2\n",
    "        else\n",
    "            Lstate[i] = Lstated[i] + Lstateu[i]\n",
    "        end\n",
    "    end\n",
    "    return Lstate\n",
    "end"
   ]
  },
  {
   "cell_type": "code",
   "execution_count": 26,
   "metadata": {},
   "outputs": [
    {
     "data": {
      "text/plain": [
       "extendedstate (generic function with 1 method)"
      ]
     },
     "execution_count": 26,
     "metadata": {},
     "output_type": "execute_result"
    }
   ],
   "source": [
    "function extendedstate(Lstatevector)               #take a state of length L and make it 2*L\n",
    "    L = length(Lstatevector)\n",
    "    State2L = zeros(2*L)\n",
    "    for j=1:L\n",
    "        if Lstatevector[j] == -1\n",
    "            State2L[j + L] = 1\n",
    "        elseif Lstatevector[j] == 1\n",
    "            State2L[j] = 1\n",
    "        elseif Lstatevector[j] == 2\n",
    "            State2L[j], State2L[j + L] = 1,1\n",
    "        else\n",
    "            State2L[j] = 0\n",
    "        end\n",
    "    end\n",
    "    return State2L\n",
    "end"
   ]
  },
  {
   "cell_type": "code",
   "execution_count": 28,
   "metadata": {},
   "outputs": [
    {
     "data": {
      "text/plain": [
       "shortstate (generic function with 1 method)"
      ]
     },
     "execution_count": 28,
     "metadata": {},
     "output_type": "execute_result"
    }
   ],
   "source": [
    "function shortstate(ext_state)                    #pass trom 2*L state to L state\n",
    "    L = Int(length(ext_state)/2)\n",
    "    sh_state = zeros(L)\n",
    "    for j=1:L\n",
    "        if ext_state[j]==1\n",
    "            sh_state[j]=1\n",
    "        end\n",
    "    end\n",
    "    for j=1:L\n",
    "        if ext_state[L+j]==1\n",
    "            if sh_state[j]==1\n",
    "                sh_state[j]=2\n",
    "            else\n",
    "                sh_state[j]=-1\n",
    "            end\n",
    "        end\n",
    "    end\n",
    "    return sh_state\n",
    "end\n"
   ]
  },
  {
   "cell_type": "code",
   "execution_count": 29,
   "metadata": {},
   "outputs": [
    {
     "data": {
      "text/plain": [
       "occupied_states (generic function with 1 method)"
      ]
     },
     "execution_count": 29,
     "metadata": {},
     "output_type": "execute_result"
    }
   ],
   "source": [
    "function Pauli(x,i,j)                 #check if state i and j are both occupied\n",
    "    if x[i] == 1 && x[j] == 1\n",
    "        return true\n",
    "    end\n",
    "    return false\n",
    "end \n",
    "\n",
    "function occupied_states(v)         #generate a vector with positions of occupied states (from 2*L states)\n",
    "    occ_states = []\n",
    "    for i = 1:2*L\n",
    "        if v[i] == 1\n",
    "            append!(occ_states, i)\n",
    "        end\n",
    "    end\n",
    "    return occ_states\n",
    "end"
   ]
  },
  {
   "cell_type": "code",
   "execution_count": 31,
   "metadata": {},
   "outputs": [
    {
     "data": {
      "text/plain": [
       "move (generic function with 1 method)"
      ]
     },
     "execution_count": 31,
     "metadata": {},
     "output_type": "execute_result"
    }
   ],
   "source": [
    "function move(v1) #generate a random move from a random occupied state\n",
    "    v = copy(v1)\n",
    "    len_v = length(v)\n",
    "    x = occupied_states(v)\n",
    "    n = length(x)\n",
    "    i = rand(1:n)\n",
    "    if (x[i] != len_v && Pauli(v,x[i],x[i]+1)) || (x[i] == Int(len_v/2) && Pauli(v,Int(len_v/2),1)) || (x[i] == len_v && Pauli(v,len_v,Int(len_v/2+1)))\n",
    "        v[x[i]] = 0\n",
    "        if 1 < x[i] < length(v)\n",
    "            v[x[i]-1] += 1 #random +-1 move if not at boundaries\n",
    "        elseif x[i]==1 #if in position 1 move either to 2 or to n\n",
    "            v[Int(len_v/2)] += 1\n",
    "        else\n",
    "            v[len_v-1] += 1\n",
    "        end\n",
    "    elseif Pauli(v,x[i],x[i]-1)\n",
    "        v[x[i]] = 0\n",
    "        if 1 < x[i] < length(v)\n",
    "            v[x[i]+1] += 1 #random +-1 move if not at boundaries\n",
    "        elseif x[i]==1 #if in position 1 move either to 2 or to n\n",
    "            v[2] += 1\n",
    "        else\n",
    "            v[Int(len_v/2+1)] += 1\n",
    "        end\n",
    "    else\n",
    "        v[x[i]] = 0\n",
    "        if 1 < x[i] < length(v)\n",
    "            v[x[i]+2*rand(0:1)-1] += 1 #random +-1 move if not at boundaries\n",
    "        elseif x[i]==1 #if in position 1 move either to 2 or to n\n",
    "            if 2*rand(0:1)-1 < 0\n",
    "                v[Int(len_v/2)] += 1\n",
    "            else\n",
    "                v[2] += 1\n",
    "            end\n",
    "        else\n",
    "            if 2*rand(0:1)-1 < 0 #if in position n move either to n-1 or to 1\n",
    "                v[len_v-1] += 1\n",
    "            else\n",
    "                v[Int(len_v/2+1)] += 1\n",
    "            end\n",
    "        end\n",
    "    end\n",
    "    return v\n",
    "end"
   ]
  },
  {
   "cell_type": "code",
   "execution_count": 32,
   "metadata": {},
   "outputs": [
    {
     "data": {
      "text/plain": [
       "hopping (generic function with 1 method)"
      ]
     },
     "execution_count": 32,
     "metadata": {},
     "output_type": "execute_result"
    }
   ],
   "source": [
    "function hopping(extended_state)\n",
    "    hopped_state = copy(extended_state)\n",
    "    L = length(extended_state)\n",
    "    x = occupied_states(extended_state)\n",
    "    hep = rand(x)\n",
    "    if extended_state(hep + 1) == 1 && extended_state(hep - 1) == 1\n",
    "        hep = rand(filter!(e -> e != hep,x))\n",
    "    he = extended_state[hep] \n",
    "    if hep != L/2 && hep != 1 && hep != L && hep != L/2+1\n",
    "            nep = rand([hep + 1,hep - 1])\n",
    "        elseif hep == 1\n",
    "            nep = rand([hep + 1, L/2])\n",
    "        else\n",
    "            nep = rand([hep - 1, 1])\n",
    "        end\n",
    "    else\n",
    "        if hep != L && hep != L/2 + 1\n",
    "            nep = rand([hep + 1,hep - 1])\n",
    "        elseif hep == L/2 + 1\n",
    "            nep = rand([hep + 1, L])\n",
    "        else\n",
    "            nep = rand([hep - 1, L/2 + 1])\n",
    "        end\n",
    "    end\n",
    "        \n",
    "    hopped_state[hep], hopped_state[nep] = 0, 1\n",
    "    return hopped_state\n",
    "end"
   ]
  },
  {
   "cell_type": "code",
   "execution_count": 33,
   "metadata": {},
   "outputs": [
    {
     "data": {
      "text/plain": [
       "24-element Vector{Float64}:\n",
       " -2.0000000000000013\n",
       " -1.9999999999999991\n",
       " -1.7320508075688772\n",
       " -1.732050807568877\n",
       " -1.732050807568877\n",
       " -1.7320508075688767\n",
       " -1.0000000000000002\n",
       " -0.9999999999999996\n",
       " -0.9999999999999996\n",
       " -0.9999999999999996\n",
       " -2.2058985591457146e-16\n",
       " -3.826984288205141e-18\n",
       " -4.253626010865457e-20\n",
       "  2.2690771583394997e-16\n",
       "  0.999999999999999\n",
       "  0.9999999999999991\n",
       "  0.9999999999999991\n",
       "  0.9999999999999994\n",
       "  1.732050807568876\n",
       "  1.7320508075688767\n",
       "  1.7320508075688774\n",
       "  1.7320508075688776\n",
       "  2.000000000000001\n",
       "  2.000000000000001"
      ]
     },
     "execution_count": 33,
     "metadata": {},
     "output_type": "execute_result"
    }
   ],
   "source": [
    "using LinearAlgebra\n",
    "U = eigvecs(H)  #unitary matrix\n",
    "Udag = inv(U)   #U^-1\n",
    "E = eigvals(H)  #eigenvalues of H"
   ]
  },
  {
   "cell_type": "code",
   "execution_count": 34,
   "metadata": {},
   "outputs": [
    {
     "data": {
      "text/plain": [
       "U_tilde (generic function with 1 method)"
      ]
     },
     "execution_count": 34,
     "metadata": {},
     "output_type": "execute_result"
    }
   ],
   "source": [
    "function U1(A, Ne) #take the first Ne columns\n",
    "    U_1 = A[:,1:Ne]\n",
    "    return U_1\n",
    "end\n",
    "\n",
    "U_1 = U1(U,Ne)\n",
    "\n",
    "function U_tilde(A,v)                  #takes just the rows related to occupied states, Ne*Ne matrix\n",
    "    U_tild = []\n",
    "    U_tild = A[occupied_states(v),:]\n",
    "    return U_tild\n",
    "end"
   ]
  },
  {
   "cell_type": "code",
   "execution_count": 35,
   "metadata": {},
   "outputs": [
    {
     "data": {
      "text/plain": [
       "1.5773502691896293"
      ]
     },
     "execution_count": 35,
     "metadata": {},
     "output_type": "execute_result"
    }
   ],
   "source": [
    "state = [1,1,0,0,0,1,0,0,0,0,0,0,0,0,0,0,0,1,0,1,0,0,0,1]      #initial state\n",
    "\n",
    "state_1 = [1,0,1,0,0,1,0,0,0,0,0,0,0,0,0,0,0,1,0,1,0,0,0,1]    #|x'>\n",
    "\n",
    "function ratio_det(v, z)\n",
    "    rat= det(U_tilde(U_1,z))/det(U_tilde(U_1,v))\n",
    "    return rat\n",
    "end  \n",
    "\n",
    "ratio_det(state,state_1)\n"
   ]
  },
  {
   "cell_type": "code",
   "execution_count": 36,
   "metadata": {},
   "outputs": [
    {
     "data": {
      "text/plain": [
       "n_i (generic function with 1 method)"
      ]
     },
     "execution_count": 36,
     "metadata": {},
     "output_type": "execute_result"
    }
   ],
   "source": [
    "function n_i(vi)           #counts the number of els in positions vi, returning (# up , # down)\n",
    "    \n",
    "    n_up = 0\n",
    "    n_down = 0\n",
    "    \n",
    "        if vi == 1\n",
    "            n_up += 1\n",
    "            \n",
    "        elseif vi == -1\n",
    "            n_down += 1\n",
    "                \n",
    "        elseif vi == 2\n",
    "            n_down += 1\n",
    "            n_up += 1\n",
    "                \n",
    "        end\n",
    "\n",
    "return n_up, n_down\n",
    "\n",
    "end\n"
   ]
  },
  {
   "cell_type": "code",
   "execution_count": 17,
   "metadata": {},
   "outputs": [
    {
     "data": {
      "text/plain": [
       "4"
      ]
     },
     "execution_count": 17,
     "metadata": {},
     "output_type": "execute_result"
    }
   ],
   "source": [
    "x = [1, 2, 3, 4, 5]\n",
    "hep = rand(x)\n",
    "if hep < 3                                 #what is it?\n",
    "    hep = rand(filter!(e -> e != hep,x))\n",
    "end\n",
    "hep"
   ]
  },
  {
   "cell_type": "code",
   "execution_count": 18,
   "metadata": {},
   "outputs": [
    {
     "data": {
      "text/plain": [
       "Jastrow (generic function with 1 method)"
      ]
     },
     "execution_count": 18,
     "metadata": {},
     "output_type": "execute_result"
    }
   ],
   "source": [
    "function Jastrow(state,g,v)\n",
    "            \n",
    "    D=length(state)        \n",
    "    \n",
    "    n1 = 1\n",
    "    n2 = 0\n",
    "    \n",
    "    Spins=0\n",
    "    Occupancies=0\n",
    "            \n",
    "    n1 = n_i(state[D])[1] + n_i(state[D])[2]  \n",
    "    \n",
    "    for i = 1 : D\n",
    "                \n",
    "        n_up= n_i(state[i])[1]\n",
    "                \n",
    "        n_down = n_i(state[i])[2]\n",
    "                \n",
    "             \n",
    "    Spins = Spins + n_up*n_down \n",
    "                \n",
    "        \n",
    "    n2= n_up + n_down\n",
    "    n1n2 = n1*n2   \n",
    "    n1 = n2\n",
    "                \n",
    "    Occupancies = Occupancies + n1n2\n",
    "            \n",
    "        end\n",
    "    \n",
    "    arg=  -g*Spins -v*Occupancies\n",
    "            \n",
    "            return exp(arg)\n",
    "    \n",
    "    end\n"
   ]
  },
  {
   "cell_type": "code",
   "execution_count": null,
   "metadata": {},
   "outputs": [],
   "source": []
  },
  {
   "cell_type": "code",
   "execution_count": null,
   "metadata": {},
   "outputs": [],
   "source": [
    "function MC(q0=0,delta=0.1,nsteps=1000,seed=None):\n",
    "    if seed is not None:\n",
    "        np.random.seed(seed)\n",
    "    q=q0\n",
    "    traj=[]\n",
    "    for istep in range(nsteps):\n",
    "        qtry=q+(2*np.random.rand()-1)*delta\n",
    "        energy_try=0.5*kappa*qtry**2     #1/2 k q^2\n",
    "        deltae=energy_try-energy\n",
    "        if deltae<=0.0:          #take acceptance 1 if the energy decrease\n",
    "            acceptance=1.0\n",
    "        else:\n",
    "            acceptance =  ratio**2 * Jastrow_ratio**2   #acceptance \n",
    "        if acceptance >=1.0 or acceptance>np.random.rand(): #metropolis rule\n",
    "            q=qtry\n",
    "            energy=energy_try\n",
    "        traj.append(q)\n",
    "    return np.array(traj)"
   ]
  },
  {
   "cell_type": "code",
   "execution_count": 39,
   "metadata": {},
   "outputs": [
    {
     "ename": "LoadError",
     "evalue": "syntax: optional positional arguments must occur at end around In[39]:3",
     "output_type": "error",
     "traceback": [
      "syntax: optional positional arguments must occur at end around In[39]:3",
      "",
      "Stacktrace:",
      " [1] top-level scope",
      "   @ In[39]:3",
      " [2] eval",
      "   @ ./boot.jl:360 [inlined]",
      " [3] include_string(mapexpr::typeof(REPL.softscope), mod::Module, code::String, filename::String)",
      "   @ Base ./loading.jl:1094"
     ]
    }
   ],
   "source": [
    "import Random\n",
    "\n",
    "function MC(q0 = 0, nsteps = 1000, g, v)\n",
    "    Random.seed!(1234)\n",
    "    state = q0\n",
    "    for istep = 1:nsteps\n",
    "        state_new = move(state)   \n",
    "        acc =  (ratio_det(state,state_new) * (Jastrow(state_new,g,v)/Jastrow(state,g,v)))^2       #acceptance \n",
    "        if acc >=1.0 || acc>randn()        #metropolis rule\n",
    "            state = copy(state_new)\n",
    "        end\n",
    "    end\n",
    "end  "
   ]
  },
  {
   "cell_type": "code",
   "execution_count": null,
   "metadata": {
    "scrolled": true
   },
   "outputs": [],
   "source": [
    "#generation of random state\n",
    "#This is not taking into account double occupancies\n",
    "using StatsBase\n",
    "function randomstate(L)\n",
    "    state = sample(vcat([1 for j=1:L/4],[-1 for j=1:L/4],[0 for j=1:L/2],[2 for j=1:L/4]), L, replace=false) #sample randomly assigns values of the vector concatenation vcat to a vector of length L without replacement\n",
    "    return state\n",
    "end"
   ]
  },
  {
   "cell_type": "code",
   "execution_count": null,
   "metadata": {},
   "outputs": [],
   "source": [
    "function fromLstateto2L(Lstatevector)\n",
    "    L = length(Lstatevector)\n",
    "    State2L = zeros(2*L)\n",
    "    for j=1:L\n",
    "        if Lstatevector[j] == -1\n",
    "            State2L[j + L] = 1\n",
    "        elseif Lstatevector[j] == 1\n",
    "            State2L[j] = 1\n",
    "        elseif Lstatevector[j] == 2\n",
    "            State2L[j], State2L[j + L] = 1,1\n",
    "        else\n",
    "            State2L[j] = 0\n",
    "        end\n",
    "    end\n",
    "    return State2L\n",
    "end"
   ]
  },
  {
   "cell_type": "code",
   "execution_count": null,
   "metadata": {},
   "outputs": [],
   "source": [
    "a = Lstate(12)"
   ]
  },
  {
   "cell_type": "code",
   "execution_count": null,
   "metadata": {},
   "outputs": [],
   "source": [
    "fromLstateto2L(a)"
   ]
  },
  {
   "cell_type": "code",
   "execution_count": null,
   "metadata": {},
   "outputs": [],
   "source": [
    "#This function calculates the density observable in the odd sites A\n",
    "function nA(v)\n",
    "    nA = 0\n",
    "    for j=1:length(v)\n",
    "        if j%2 != 0\n",
    "            nA += sum(n_i(v[j])) \n",
    "        end\n",
    "    end\n",
    "    return nA*2/length(v)\n",
    "end\n",
    "\n",
    "#This function calculates the density observable in the even sites B\n",
    "function nB(v)\n",
    "    nB = 0\n",
    "    for j=1:length(v)\n",
    "        if j%2 == 0\n",
    "            nB += sum(n_i(v[j])) \n",
    "        end\n",
    "    end\n",
    "    return nB*2/length(v)\n",
    "end"
   ]
  },
  {
   "cell_type": "code",
   "execution_count": null,
   "metadata": {},
   "outputs": [],
   "source": [
    "if Pauli(v,x[i],x[i]+1) || if (x[i] == Int(len_v/2) && Pauli(x[i],1)) || if (x[i] == len_v && Pauli(x[i],Int(len_v/2+1)))"
   ]
  },
  {
   "cell_type": "code",
   "execution_count": null,
   "metadata": {},
   "outputs": [],
   "source": [
    "function averagedensity(state)\n",
    "    nprom = oddsum()"
   ]
  },
  {
   "cell_type": "code",
   "execution_count": null,
   "metadata": {},
   "outputs": [],
   "source": []
  }
 ],
 "metadata": {
  "kernelspec": {
   "display_name": "Julia 1.6.1",
   "language": "julia",
   "name": "julia-1.6"
  },
  "language_info": {
   "file_extension": ".jl",
   "mimetype": "application/julia",
   "name": "julia",
   "version": "1.6.1"
  }
 },
 "nbformat": 4,
 "nbformat_minor": 4
}
