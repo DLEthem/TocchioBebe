{
 "cells": [
  {
   "cell_type": "code",
   "execution_count": null,
   "metadata": {},
   "outputs": [],
   "source": []
  },
  {
   "cell_type": "code",
   "execution_count": 18,
   "metadata": {},
   "outputs": [
    {
     "data": {
      "text/plain": [
       "6"
      ]
     },
     "execution_count": 18,
     "metadata": {},
     "output_type": "execute_result"
    }
   ],
   "source": [
    "n = 1\n",
    "L = 8*n + 4\n",
    "t = 1\n",
    "Ne = Int(L / 2)"
   ]
  },
  {
   "cell_type": "code",
   "execution_count": 19,
   "metadata": {},
   "outputs": [],
   "source": [
    "#Hamiltonian\n",
    "function Hamiltonian(L,t)\n",
    "    H = zeros(2*L, 2*L)\n",
    "    H[1,L] = -t\n",
    "    H[L,1] = -t\n",
    "    H[2L,L+1] = -t\n",
    "    H[L+1,2L] = -t\n",
    "    for i=1:2*L\n",
    "      for j=1:2*L\n",
    "        if i == j + 1 || i == j - 1\n",
    "          H[i,j] = -t\n",
    "        end \n",
    "      end\n",
    "    end\n",
    "    H[L,L+1]=0\n",
    "    H[L+1,L]=0\n",
    "    return H\n",
    "end\n",
    "\n",
    "H = Hamiltonian(L,t);"
   ]
  },
  {
   "cell_type": "code",
   "execution_count": 20,
   "metadata": {},
   "outputs": [
    {
     "data": {
      "text/plain": [
       "shortstate (generic function with 1 method)"
      ]
     },
     "execution_count": 20,
     "metadata": {},
     "output_type": "execute_result"
    }
   ],
   "source": [
    "#generate, convert state\n",
    "using StatsBase\n",
    "\n",
    "function Lstate(L)                                 #generate a state of length L\n",
    "    Lstated, Lstateu, Lstate = zeros(L), zeros(L), zeros(L)\n",
    "    randomposu = sample(collect(1:L), Int(L/4), replace=false)\n",
    "    randomposd = sample(collect(1:L), Int(L/4), replace=false)\n",
    "    for j in randomposu\n",
    "        Lstateu[j] = 1\n",
    "    end\n",
    "    for j in randomposd\n",
    "        Lstated[j] = -1\n",
    "    end\n",
    "    for i=1:L \n",
    "        if Lstated[i] == -1 && Lstateu[i] == 1\n",
    "            Lstate[i] = 2\n",
    "        else\n",
    "            Lstate[i] = Lstated[i] + Lstateu[i]\n",
    "        end\n",
    "    end\n",
    "    return Lstate\n",
    "end\n",
    "\n",
    "function extendedstate(Lstatevector)               #take a state of length L and make it 2*L\n",
    "    L = length(Lstatevector)\n",
    "    State2L = zeros(2*L)\n",
    "    for j=1:L\n",
    "        if Lstatevector[j] == -1\n",
    "            State2L[j + L] = 1\n",
    "        elseif Lstatevector[j] == 1\n",
    "            State2L[j] = 1\n",
    "        elseif Lstatevector[j] == 2\n",
    "            State2L[j], State2L[j + L] = 1,1\n",
    "        else\n",
    "            State2L[j] = 0\n",
    "        end\n",
    "    end\n",
    "    return State2L\n",
    "end\n",
    "\n",
    "function shortstate(ext_state)                    #pass trom 2*L state to L state\n",
    "    L = Int(length(ext_state)/2)\n",
    "    sh_state = zeros(L)\n",
    "    for j=1:L\n",
    "        if ext_state[j]==1\n",
    "            sh_state[j]=1\n",
    "        end\n",
    "    end\n",
    "    for j=1:L\n",
    "        if ext_state[L+j]==1\n",
    "            if sh_state[j]==1\n",
    "                sh_state[j]=2\n",
    "            else\n",
    "                sh_state[j]=-1\n",
    "            end\n",
    "        end\n",
    "    end\n",
    "    return sh_state\n",
    "end\n"
   ]
  },
  {
   "cell_type": "code",
   "execution_count": 288,
   "metadata": {},
   "outputs": [
    {
     "data": {
      "text/plain": [
       "move_L (generic function with 1 method)"
      ]
     },
     "execution_count": 288,
     "metadata": {},
     "output_type": "execute_result"
    }
   ],
   "source": [
    "#generate a move\n",
    "function Pauli(x,i,j)                 #check if state i and j are both occupied\n",
    "    if x[i] == 1 && x[j] == 1\n",
    "        return true\n",
    "    end\n",
    "    return false\n",
    "end \n",
    "\n",
    "function occupied_states(v)         #generate a vector with positions of occupied states (from 2*L states)\n",
    "    occ_states = []\n",
    "    for i = 1:2*L\n",
    "        if v[i] == 1\n",
    "            append!(occ_states, i)\n",
    "        end\n",
    "    end\n",
    "    return occ_states\n",
    "end\n",
    "\n",
    "\n",
    "function occupied_states_L(v)\n",
    "    occ_states = []\n",
    "    L =length(v)\n",
    "    for i = 1 : L\n",
    "        if abs(v[i]) == 1\n",
    "            append!(occ_states, i )\n",
    "            \n",
    "        elseif v[i] == 2\n",
    "            append!(occ_states, i )\n",
    "        \n",
    "        end\n",
    "    end\n",
    "    return occ_states\n",
    "end\n",
    "\n",
    "\n",
    "function move_L(w)\n",
    "    \n",
    "    v = copy(w)\n",
    "    L = length(v)\n",
    "    i = rand(occupied_states_L(v))\n",
    "    j = rand(-1:2:1)\n",
    "\n",
    "    j_pbc = mod(L+i+j,L)\n",
    "    j_pbc == 0 ? j_pbc = L : j_pbc = j_pbc\n",
    "\n",
    "        if v[i] != v[j_pbc] && v[j_pbc]!=2\n",
    "\n",
    "            if abs(v[i])==1\n",
    "            v[j_pbc] == 0 ? v[j_pbc] = v[i] : v[j_pbc] = 2\n",
    "            v[i] = 0\n",
    "\n",
    "            elseif v[i]==2    \n",
    "            spin = rand(-1:2:1)\n",
    "\n",
    "                if v[j_pbc] != spin\n",
    "                v[i] = -spin\n",
    "\n",
    "                    if abs(v[j_pbc]) == 1 \n",
    "                        v[j_pbc] = 2 \n",
    "                    elseif v[j_pbc] == 0 \n",
    "                        v[j_pbc] = spin \n",
    "                    end\n",
    "\n",
    "                end    \n",
    "            end\n",
    "            \n",
    "        end\n",
    "\n",
    "    return v, i, j_pbc\n",
    "    \n",
    "end\n"
   ]
  },
  {
   "cell_type": "code",
   "execution_count": 22,
   "metadata": {},
   "outputs": [
    {
     "data": {
      "text/plain": [
       "ratio_det (generic function with 1 method)"
      ]
     },
     "execution_count": 22,
     "metadata": {},
     "output_type": "execute_result"
    }
   ],
   "source": [
    "#generate unitary matrices and the ratio of determinants\n",
    "using LinearAlgebra\n",
    "U = eigvecs(H)  #unitary matrix\n",
    "Udag = inv(U)   #U^-1\n",
    "E = eigvals(H)  #eigenvalues of H\n",
    "\n",
    "function U1(A, Ne) #take the first Ne columns\n",
    "    U_1 = A[:,1:Ne]\n",
    "    return U_1\n",
    "end\n",
    "\n",
    "U_1 = U1(U,Ne)\n",
    "\n",
    "function U_tilde(A,v)                  #takes just the rows related to occupied states, Ne*Ne matrix\n",
    "    U_tild = []\n",
    "    U_tild = A[occupied_states(v),:]\n",
    "    return U_tild\n",
    "end\n",
    "\n",
    "function ratio_det(v, z)\n",
    "    rat= det(U_tilde(U_1,z))/det(U_tilde(U_1,v))\n",
    "    return rat\n",
    "end  \n"
   ]
  },
  {
   "cell_type": "code",
   "execution_count": 102,
   "metadata": {},
   "outputs": [
    {
     "data": {
      "text/plain": [
       "Jastrow (generic function with 1 method)"
      ]
     },
     "execution_count": 102,
     "metadata": {},
     "output_type": "execute_result"
    }
   ],
   "source": [
    "#Jastrow factor\n",
    "function n_i(vi)           #counts the number of els in positions vi, returning (# up , # down)\n",
    "    \n",
    "    n_up = 0\n",
    "    n_down = 0\n",
    "    \n",
    "        if vi == 1\n",
    "            n_up += 1\n",
    "            \n",
    "        elseif vi == -1\n",
    "            n_down += 1\n",
    "                \n",
    "        elseif vi == 2\n",
    "            n_down += 1\n",
    "            n_up += 1\n",
    "                \n",
    "        end\n",
    "\n",
    "return n_up, n_down\n",
    "\n",
    "end\n",
    "\n",
    "function Jastrow(state,g,v)\n",
    "            \n",
    "    D=length(state)       \n",
    "    \n",
    "    Spins=0\n",
    "    Occupancies=0        \n",
    "    n1 = n_i(state[D])[1] + n_i(state[D])[2]\n",
    "    n2 = 0\n",
    "    \n",
    "    for i = 1 : D\n",
    "                \n",
    "        n_up= n_i(state[i])[1]    \n",
    "        n_down = n_i(state[i])[2]\n",
    "                \n",
    "    Spins = Spins + n_up*n_down \n",
    "                \n",
    "    n2= n_up + n_down\n",
    "    n1n2 = n1*n2   \n",
    "    n1 = n2\n",
    "                \n",
    "    Occupancies = Occupancies + n1n2\n",
    "            \n",
    "        end\n",
    "    \n",
    "    arg=  -g*Spins -v*Occupancies\n",
    "            \n",
    "return exp(arg)\n",
    "\n",
    "end"
   ]
  },
  {
   "cell_type": "code",
   "execution_count": 289,
   "metadata": {},
   "outputs": [
    {
     "data": {
      "text/plain": [
       "T_Jastrow (generic function with 1 method)"
      ]
     },
     "execution_count": 289,
     "metadata": {},
     "output_type": "execute_result"
    }
   ],
   "source": [
    "function T_Jastrow(x,j,v,g)\n",
    "            \n",
    "    L=length(x)   \n",
    "    \n",
    "    Sum=0\n",
    "    \n",
    "    ni = 0\n",
    "    vij = 0\n",
    "    \n",
    "    for i in 1:L\n",
    "        \n",
    "    i_pbc = mod(L+i,L)\n",
    "    i_pbc == 0 ? i_pbc = L : i_pbc = i_pbc\n",
    "        \n",
    "        ni = n_i(x[i_pbc])\n",
    "        \n",
    "        if i_pbc == j\n",
    "             \n",
    "              vji = 2*v\n",
    "        elseif i_pbc == j + 1\n",
    "            \n",
    "              vji = 2*g      \n",
    "        else \n",
    "               vji = 0  \n",
    "        end\n",
    "        \n",
    "      Sum += vji * sum(ni)\n",
    "        \n",
    "    end\n",
    "    \n",
    "    return Sum\n",
    "    \n",
    "end"
   ]
  },
  {
   "cell_type": "code",
   "execution_count": 290,
   "metadata": {},
   "outputs": [
    {
     "data": {
      "text/plain": [
       "ratio_Jastrow (generic function with 1 method)"
      ]
     },
     "execution_count": 290,
     "metadata": {},
     "output_type": "execute_result"
    }
   ],
   "source": [
    "function ratio_Jastrow(x, xprime, i, j, g, v)    \n",
    "    \n",
    "    Tx= T_Jastrow(x,i,v,g)\n",
    "    Txprime = T_Jastrow(xprime,j,v,g)\n",
    "    \n",
    "    ratio = (exp(-Txprime)/exp(-Tx))*(exp(2v-2g))\n",
    "    \n",
    "return ratio\n",
    "\n",
    "end"
   ]
  },
  {
   "cell_type": "code",
   "execution_count": 296,
   "metadata": {},
   "outputs": [
    {
     "data": {
      "text/plain": [
       "0.01831563888873418"
      ]
     },
     "execution_count": 296,
     "metadata": {},
     "output_type": "execute_result"
    }
   ],
   "source": [
    "v= Lstate(L)\n",
    "w,i,j = hopping(v)\n",
    "\n",
    "ratio_Jastrow(v, w, i, j, 10, 8)\n",
    "\n"
   ]
  },
  {
   "cell_type": "code",
   "execution_count": 323,
   "metadata": {},
   "outputs": [
    {
     "data": {
      "text/plain": [
       "0"
      ]
     },
     "execution_count": 323,
     "metadata": {},
     "output_type": "execute_result"
    }
   ],
   "source": [
    "v= Lstate(L)\n",
    "w,i,j = hopping(v)\n",
    "T_Jastrow(v,1,10,8)"
   ]
  },
  {
   "cell_type": "code",
   "execution_count": 322,
   "metadata": {},
   "outputs": [
    {
     "data": {
      "text/plain": [
       "2.061153622438558e-9"
      ]
     },
     "execution_count": 322,
     "metadata": {},
     "output_type": "execute_result"
    }
   ],
   "source": [
    "w,i,j = hopping(v)\n",
    "ratio_Jastrow(v, w, i, j, 10, 8)"
   ]
  },
  {
   "cell_type": "code",
   "execution_count": 324,
   "metadata": {},
   "outputs": [
    {
     "data": {
      "text/plain": [
       "6"
      ]
     },
     "execution_count": 324,
     "metadata": {},
     "output_type": "execute_result"
    }
   ],
   "source": [
    "    i_pbc = mod(j+L,L)\n",
    "    i_pbc == 0 ? i_pbc = L : i_pbc = i_pbc\n",
    "        "
   ]
  },
  {
   "cell_type": "code",
   "execution_count": 107,
   "metadata": {},
   "outputs": [
    {
     "data": {
      "text/plain": [
       "nB (generic function with 1 method)"
      ]
     },
     "execution_count": 107,
     "metadata": {},
     "output_type": "execute_result"
    }
   ],
   "source": [
    "#This function calculates the density observable in the odd sites A\n",
    "function nA(v)\n",
    "    nA = 0\n",
    "    for j=1:length(v)\n",
    "        if j%2 != 0\n",
    "            nA += sum(n_i(v[j])) \n",
    "        end\n",
    "    end\n",
    "    return nA*2/length(v)\n",
    "end\n",
    "\n",
    "#This function calculates the density observable in the even sites B\n",
    "function nB(v)\n",
    "    nB = 0\n",
    "    for j=1:length(v)\n",
    "        if j%2 == 0\n",
    "            nB += sum(n_i(v[j])) \n",
    "        end\n",
    "    end\n",
    "    return nB*2/length(v)\n",
    "end"
   ]
  },
  {
   "cell_type": "code",
   "execution_count": 108,
   "metadata": {},
   "outputs": [
    {
     "data": {
      "text/plain": [
       "hamiltonianelements (generic function with 1 method)"
      ]
     },
     "execution_count": 108,
     "metadata": {},
     "output_type": "execute_result"
    }
   ],
   "source": [
    "function hamiltonianelements(state1,state2,U,V)\n",
    "    \n",
    "    if state1 == state2\n",
    "        D = length(state1)\n",
    "    \n",
    "        Spins = 0\n",
    "        Occupancies = 0\n",
    "        n1 = n_i(state1[D])[1] + n_i(state1[D])[2]\n",
    "        n2 = 0\n",
    "    \n",
    "        for i = 1:D                \n",
    "            n_up= n_i(state1[i])[1]\n",
    "            n_down = n_i(state1[i])[2]\n",
    "                \n",
    "            Spins = Spins + n_up*n_down\n",
    "\n",
    "            n2= n_up + n_down\n",
    "            n1n2 = n1*n2\n",
    "            n1 = n2\n",
    "\n",
    "            Occupancies = Occupancies + n1n2    \n",
    "        end\n",
    "    \n",
    "        arg = U*Spins + V*Occupancies\n",
    "            \n",
    "    return arg\n",
    "        \n",
    "    else\n",
    "    \n",
    "    w = abs.(abs.(state1) - abs.(state2))\n",
    "    wr = occupied_states_L(w)\n",
    "        \n",
    "        if length(wr) == 2 && wr[2] - wr[1] == 1\n",
    "            return -t\n",
    "        else\n",
    "            return 0\n",
    "        end\n",
    "    end\n",
    "end"
   ]
  },
  {
   "cell_type": "code",
   "execution_count": 327,
   "metadata": {},
   "outputs": [
    {
     "data": {
      "text/plain": [
       "orthogonal (generic function with 1 method)"
      ]
     },
     "execution_count": 327,
     "metadata": {},
     "output_type": "execute_result"
    }
   ],
   "source": [
    "function orthogonal(w, i)\n",
    "    v = copy(w)\n",
    "    L = length(v)\n",
    "    states = []\n",
    "    J = [-1,1]\n",
    "    \n",
    "    for j in J\n",
    "        \n",
    "        v = copy(w)\n",
    "    \n",
    "        j_pbc = mod(i+j,L)\n",
    "        j_pbc == 0 ? j_pbc = L : j_pbc = j_pbc\n",
    "\n",
    "            if v[i] != v[j_pbc] && v[j_pbc]!=2\n",
    "\n",
    "                if abs(v[i])==1\n",
    "                v[j_pbc] == 0 ? v[j_pbc] = v[i] : v[j_pbc] = 2 \n",
    "                v[i] = 0    \n",
    "                push!(states,v)\n",
    "\n",
    "                elseif v[i]==2    \n",
    "                Spin = [-1,1]\n",
    "\n",
    "                    for spin in Spin\n",
    "                    v = copy(w)\n",
    "\n",
    "                            if spin != v[j_pbc] && v[j_pbc]!=2\n",
    "                                v[j_pbc] == 0 ? v[j_pbc] = spin : v[j_pbc] = 2 \n",
    "                                v[i] = -spin\n",
    "                                push!(states,v)\n",
    "                            end  \n",
    "                      end\n",
    "                 end   \n",
    "          end\n",
    "        \n",
    "    end \n",
    "    \n",
    "    return states\n",
    "    \n",
    "end"
   ]
  },
  {
   "cell_type": "code",
   "execution_count": 336,
   "metadata": {},
   "outputs": [
    {
     "data": {
      "text/plain": [
       "12-element Array{Float64,1}:\n",
       " -1.0\n",
       "  0.0\n",
       "  2.0\n",
       "  0.0\n",
       "  1.0\n",
       " -1.0\n",
       "  0.0\n",
       "  1.0\n",
       "  0.0\n",
       "  0.0\n",
       "  0.0\n",
       "  0.0"
      ]
     },
     "execution_count": 336,
     "metadata": {},
     "output_type": "execute_result"
    }
   ],
   "source": [
    "v = Lstate(12)"
   ]
  },
  {
   "cell_type": "code",
   "execution_count": 337,
   "metadata": {},
   "outputs": [
    {
     "data": {
      "text/plain": [
       "4-element Array{Any,1}:\n",
       " [-1.0, -1.0, 1.0, 0.0, 1.0, -1.0, 0.0, 1.0, 0.0, 0.0, 0.0, 0.0]\n",
       " [-1.0, 1.0, -1.0, 0.0, 1.0, -1.0, 0.0, 1.0, 0.0, 0.0, 0.0, 0.0]\n",
       " [-1.0, 0.0, 1.0, -1.0, 1.0, -1.0, 0.0, 1.0, 0.0, 0.0, 0.0, 0.0]\n",
       " [-1.0, 0.0, -1.0, 1.0, 1.0, -1.0, 0.0, 1.0, 0.0, 0.0, 0.0, 0.0]"
      ]
     },
     "execution_count": 337,
     "metadata": {},
     "output_type": "execute_result"
    }
   ],
   "source": [
    "orthogonal(v, 3)"
   ]
  },
  {
   "cell_type": "code",
   "execution_count": 110,
   "metadata": {},
   "outputs": [
    {
     "data": {
      "text/plain": [
       "MC_en (generic function with 2 methods)"
      ]
     },
     "execution_count": 110,
     "metadata": {},
     "output_type": "execute_result"
    }
   ],
   "source": [
    "import Random\n",
    "\n",
    "function MC_en(state0, g, v, U,V, nsteps = 10000)\n",
    "    Random.seed!(1234)\n",
    "    state0_2L = extendedstate(state0)\n",
    "    accepted_moves = 0\n",
    "    local_est = 0\n",
    "    state_L = copy(state0)\n",
    "    local_est_array = []\n",
    "    locals = []\n",
    "    x_prime_L = []\n",
    "    x_prime_2L_ = []\n",
    "    for istep = 1:nsteps\n",
    "        e_n = 0\n",
    "        \n",
    "        for j=1:Ne\n",
    "        state_2L = extendedstate(state_L)\n",
    "            state_new_L = move_L(state_L)\n",
    "            state_new_2L = extendedstate(state_new_L)\n",
    "\n",
    "            acc =  (ratio_det(state_2L,state_new_2L) * (Jastrow(state_new_L,g,v)/Jastrow(state_L,g,v)))^2       #acceptance \n",
    "            #display(acc)\n",
    "            acc = min(acc,1)\n",
    "                \n",
    "            if acc>rand()        #metropolis rule\n",
    "                x_L = state_new_L\n",
    "                x_2L = state_new_2L\n",
    "                accepted_moves += 1\n",
    "                pot = log(Jastrow(x_L,-U,-V))\n",
    "                for i in occupied_states_L(state_new_L)\n",
    "                    o_states = orthogonal(state_new_L, i)\n",
    "\n",
    "                    for j in 1:length(o_states)\n",
    "                        x_prime_L = o_states[j]\n",
    "                        x_prime_2L = extendedstate(x_prime_L)        \n",
    "\n",
    "                        local_est = -t*ratio_det(x_2L,x_prime_2L)*(Jastrow(x_prime_L,g,v)/Jastrow(x_L,g,v))\n",
    "                        e_n += local_est\n",
    "                     end\n",
    "                    \n",
    "                end\n",
    "                e_n += pot\n",
    "                push!(locals,e_n)\n",
    "                state_L = x_L\n",
    "            end         \n",
    "        end\n",
    "    end\n",
    "    return mean(locals)\n",
    "end \n",
    "\n"
   ]
  },
  {
   "cell_type": "code",
   "execution_count": 111,
   "metadata": {},
   "outputs": [
    {
     "ename": "LoadError",
     "evalue": "\u001b[91mBoundsError: attempt to access 6-element Array{Float64,1} at index [7]\u001b[39m",
     "output_type": "error",
     "traceback": [
      "\u001b[91mBoundsError: attempt to access 6-element Array{Float64,1} at index [7]\u001b[39m",
      "",
      "Stacktrace:",
      " [1] getindex(::Array{Float64,1}, ::Int64) at ./array.jl:809",
      " [2] occupied_states(::Array{Float64,1}) at ./In[21]:12",
      " [3] U_tilde(::Array{Float64,2}, ::Array{Float64,1}) at ./In[22]:16",
      " [4] ratio_det(::Array{Float64,1}, ::Array{Float64,1}) at ./In[22]:21",
      " [5] MC_en(::Array{Float64,1}, ::Int64, ::Int64, ::Int64, ::Int64, ::Int64) at ./In[110]:21",
      " [6] top-level scope at In[111]:3",
      " [7] include_string(::Function, ::Module, ::String, ::String) at ./loading.jl:1091"
     ]
    }
   ],
   "source": [
    "a = Lstate(L)\n",
    "\n",
    "MC_prova= MC_en(a,10,8,30,5,10000)"
   ]
  },
  {
   "cell_type": "code",
   "execution_count": 112,
   "metadata": {},
   "outputs": [
    {
     "ename": "LoadError",
     "evalue": "InitError: \u001b[91mInterruptException:\u001b[39m\nduring initialization of module Ogg_jll",
     "output_type": "error",
     "traceback": [
      "InitError: \u001b[91mInterruptException:\u001b[39m\nduring initialization of module Ogg_jll",
      "",
      "Stacktrace:",
      " [1] #invokelatest#1 at ./essentials.jl:710 [inlined]",
      " [2] invokelatest at ./essentials.jl:709 [inlined]",
      " [3] macro expansion at /Users/julia/buildbot/worker/package_macos64/build/usr/share/julia/stdlib/v1.5/Pkg/src/Artifacts.jl:1069 [inlined]",
      " [4] find_artifact_dir at /Users/dianal.monroy/.julia/packages/JLLWrappers/WnWcZ/src/wrapper_generators.jl:15 [inlined]",
      " [5] __init__() at /Users/dianal.monroy/.julia/packages/Ogg_jll/2Z4tK/src/wrappers/x86_64-apple-darwin.jl:7",
      " [6] _include_from_serialized(::String, ::Array{Any,1}) at ./loading.jl:697",
      " [7] _require_search_from_serialized(::Base.PkgId, ::String) at ./loading.jl:782",
      " [8] _tryrequire_from_serialized(::Base.PkgId, ::UInt64, ::String) at ./loading.jl:712",
      " [9] _require_search_from_serialized(::Base.PkgId, ::String) at ./loading.jl:771",
      " [10] _tryrequire_from_serialized(::Base.PkgId, ::UInt64, ::String) at ./loading.jl:712",
      " [11] _require_search_from_serialized(::Base.PkgId, ::String) at ./loading.jl:771",
      " [12] _require(::Base.PkgId) at ./loading.jl:1007",
      " [13] require(::Base.PkgId) at ./loading.jl:928",
      " [14] require(::Module, ::Symbol) at ./loading.jl:923",
      " [15] include_string(::Function, ::Module, ::String, ::String) at ./loading.jl:1091"
     ]
    }
   ],
   "source": [
    "using Plots\n",
    "\n",
    "yA = zeros(0)\n",
    "yB = zeros(0)\n",
    "v = collect(1:0.5:10)\n",
    "for x in v\n",
    "    MC_prova= MC_en(a,10,x,30,5,10000)\n",
    "    append!(yA, MC_prova)\n",
    "end\n",
    "plot(v,yA)"
   ]
  },
  {
   "cell_type": "code",
   "execution_count": 113,
   "metadata": {},
   "outputs": [
    {
     "data": {
      "text/plain": [
       "MC_en (generic function with 2 methods)"
      ]
     },
     "execution_count": 113,
     "metadata": {},
     "output_type": "execute_result"
    }
   ],
   "source": [
    "import Random\n",
    "\n",
    "function MC_en(state0, g, v, U, V, nsteps = 1000)\n",
    "    Random.seed!(1234)\n",
    "    \n",
    "    accepted_moves = 0\n",
    "    local_est = 0\n",
    "    state_L = copy(state0)\n",
    "    local_est_array = []\n",
    "    locals = []\n",
    "    x_prime_L = []\n",
    "    x_prime_2L = []\n",
    "    \n",
    "    for istep = 1:nsteps  \n",
    "        \n",
    "        e_n = 0\n",
    "        state_2L = extendedstate(state_L)\n",
    "        state_new_L = move_last_2L(state_2L)\n",
    "        state_new_2L = extendedstate(state_new_L)\n",
    "\n",
    "        acc =  (ratio_det(state_2L,state_new_2L) * (Jastrow(state_new_L,g,v)/Jastrow(state_L,g,v)))^2       #acceptance \n",
    "        #display(acc)\n",
    "        acc = min(acc,1)\n",
    "                \n",
    "        if acc>rand()        #metropolis rule\n",
    "             x_L = copy(state_new_L)\n",
    "             #display(x_L)\n",
    "             x_2L = copy(state_new_2L)\n",
    "             accepted_moves += 1\n",
    "             pot = log(Jastrow(x_L,-U,-V))\n",
    "             #display(pot)\n",
    "            \n",
    "             for i in occupied_states_L(x_L)\n",
    "                 o_states = orthogonal(x_L, i)\n",
    "\n",
    "                 for j in 1:length(o_states)\n",
    "                        x_prime_L = o_states[j]\n",
    "                        x_prime_2L = extendedstate(x_prime_L)        \n",
    "\n",
    "                        local_est = -t*ratio_det(x_2L,x_prime_2L)*(Jastrow(x_prime_L,g,v)/Jastrow(x_L,g,v))\n",
    "                        display(local_est)\n",
    "                        e_n += local_est\n",
    "                 end\n",
    "                    \n",
    "            end\n",
    "            \n",
    "            #display(e_n)\n",
    "            e_n += pot\n",
    "            \n",
    "            push!(locals,e_n)\n",
    "            state_L = copy(x_L)\n",
    "        end         \n",
    "        \n",
    "    end\n",
    "    return mean(locals)\n",
    "end"
   ]
  },
  {
   "cell_type": "code",
   "execution_count": 137,
   "metadata": {},
   "outputs": [
    {
     "data": {
      "text/plain": [
       "hopping (generic function with 1 method)"
      ]
     },
     "execution_count": 137,
     "metadata": {},
     "output_type": "execute_result"
    }
   ],
   "source": [
    "function hopping(v)\n",
    "    w = copy(v)\n",
    "    occupied_positions = occupied_states_L(v)\n",
    "    i = rand(occupied_positions)\n",
    "    nn = [v[i + 1],v[i - 1]]\n",
    "    nnpos = [i + 1, i - 1]\n",
    "    rndnnpos = rand([i + 1,i - 1])\n",
    "    rndnn = rand(nn)\n",
    "    \n",
    "    if nn[1] == 2 && nn[2] == 2 || v[i] == 1 && nn[1] == 1 && nn[2] == 2 || v[i] == 1 && nn[1] == 2 && nn[2] == 1 || v[i] == 1 && nn[1] == 1 && nn[2] == 1 || v[i] == -1 && nn[1] == -1 && nn[2] == 2 || v[i] == -1 && nn[1] == 2 && nn[2] == -1 || v[i] == -1 && nn[1] == -1 && nn[2] == -1\n",
    "        i = rand(deleteat!(occupied_positions, findall(x->x==i,occupied_positions)))\n",
    "    end\n",
    "    \n",
    "    if v[i] == 1 && v[rndnnpos] == 1 || v[i] == 1 && v[rndnnpos] == 2\n",
    "        rndnnpos = rand(deleteat!(nnpos, findall(x->x==rndnnpos, nnpos)))\n",
    "    end\n",
    "    \n",
    "    if v[i] == -1 && v[rndnnpos] == -1 || v[i] == -1 && v[rndnnpos] == 2\n",
    "        rndnnpos = rand(deleteat!(nnpos, findall(x->x==rndnnpos, nnpos)))\n",
    "    end\n",
    "    \n",
    "    if v[i] == 2 && v[rndnnpos] == 2\n",
    "        rndnnpos = rand(deleteat!(nnpos, findall(x->x==rndnnpos, nnpos)))\n",
    "    end\n",
    "     \n",
    "    if v[i] == 1\n",
    "        if v[rndnnpos] == -1\n",
    "            w[i], w[rndnnpos] = 0, 2\n",
    "        elseif v[rndnnpos] == 0\n",
    "            w[i], w[rndnnpos] = 0, 1\n",
    "        end\n",
    "    \n",
    "    elseif v[i] == -1 \n",
    "        if v[rndnnpos] == 1\n",
    "            w[i], w[rndnnpos] = 0, 2\n",
    "        elseif v[rndnnpos] == 0\n",
    "            w[i], w[rndnnpos] = 0, -1\n",
    "        end\n",
    "    \n",
    "    elseif v[i] == 2\n",
    "        if v[rndnnpos] == 1 \n",
    "            w[i], w[rndnnpos] = 1, 2\n",
    "        elseif v[rndnnpos] == -1\n",
    "            w[i], w[rndnnpos] = -1,2\n",
    "        elseif v[rndnnpos] == 0\n",
    "            choosenspin = rand([1,-1])\n",
    "            w[i], w[rndnnpos] = -1*choosenspin, choosenspin\n",
    "        end\n",
    "    end\n",
    "    \n",
    "    return w,  i , rndnnpos\n",
    "end"
   ]
  },
  {
   "cell_type": "code",
   "execution_count": 363,
   "metadata": {},
   "outputs": [
    {
     "data": {
      "text/plain": [
       "MC_pietro (generic function with 2 methods)"
      ]
     },
     "execution_count": 363,
     "metadata": {},
     "output_type": "execute_result"
    }
   ],
   "source": [
    "#Monte Carlo simulation that calculates nA along the simulation\n",
    "import Random\n",
    "\n",
    "function MC_pietro(q0, g, v, U,V, nsteps = 1000)\n",
    "    #Random.seed!(1234)\n",
    "    local_est = 0\n",
    "    state_L = copy(q0)\n",
    "    local_est_array = []\n",
    "    locals = []\n",
    "    \n",
    "    locals2 = []\n",
    "    \n",
    "    x_prime_L = []\n",
    "    x_prime_2L = []\n",
    "    sumA=0\n",
    "    sumB=0\n",
    "    accepted_moves = 0\n",
    "    state_new_L = zeros()\n",
    "    x_L = zeros()\n",
    "    x_2L = zeros()\n",
    "    \n",
    "    Suma_A = []\n",
    "    Suma_B = []\n",
    "    \n",
    "    k=0\n",
    "    l=0\n",
    "    \n",
    "    \n",
    "    for istep = 1:nsteps\n",
    "        e_n = 0\n",
    "\n",
    "        for j = 1:Ne\n",
    "            state_2L = extendedstate(state_L)\n",
    "            state_new_L,k,l = hopping(state_L)\n",
    "            state_new_2L = extendedstate(state_new_L)\n",
    "            acc =  (ratio_det(state_2L,state_new_2L) * (ratio_Jastrow(state_L, state_new_L, k, l, g, v)))^2       #acceptance \n",
    "\n",
    "            acc = min(1,acc)\n",
    "\n",
    "            if acc>rand()        #metropolis rule\n",
    "                x_L = copy(state_new_L)\n",
    "                #display(x_L)\n",
    "                x_2L = copy(state_new_2L)\n",
    "                accepted_moves += 1\n",
    "            end\n",
    "        end\n",
    "       #= \n",
    "        n_newA= nA(state_new_L)\n",
    "        sumA+=n_newA\n",
    "        push!(Suma_A,n_newA)\n",
    "                #push!(Suma_A,n_newA)\n",
    "\n",
    "        n_newB= nB(state_new_L)\n",
    "        sumB+=n_newB\n",
    "        push!(Suma_B,n_newB)\n",
    "                #push!(Suma_B,n_newB)\n",
    "    \n",
    "        =#\n",
    "        \n",
    "        pot = log(Jastrow(x_L,-U,-V))\n",
    "        #display(pot)\n",
    "  \n",
    "        \n",
    "                 for i in occupied_states_L(x_L)\n",
    "        \n",
    "                 o_states = orthogonal(x_L, i)\n",
    "            \n",
    "                     for j in 1:length(o_states)\n",
    "                            x_prime_L = o_states[j]\n",
    "                            x_prime_2L = extendedstate(x_prime_L)        \n",
    "\n",
    "                            local_est = -t*ratio_det(x_2L,x_prime_2L)*(ratio_Jastrow(x_L, x_prime_L, k, l, g, v)) \n",
    "\n",
    "                          #  display(ratio_Jastrow(x_L, x_prime_L, k, l, g, v)) \n",
    "\n",
    "                           # local_est = -t*ratio_det(x_2L,x_prime_2L)\n",
    "                            e_n += local_est\n",
    "                     end      \n",
    "                 end\n",
    "   \n",
    "        \n",
    "           e_n += pot \n",
    "        \n",
    "           push!(locals,e_n)\n",
    "        \n",
    "           state_L = copy(x_L)\n",
    "          end\n",
    "    return  mean(locals)\n",
    "end "
   ]
  },
  {
   "cell_type": "code",
   "execution_count": 373,
   "metadata": {},
   "outputs": [],
   "source": [
    "a = Lstate(L)\n",
    "MC_prova= MC_pietro(a,10,5,30,5,100)"
   ]
  },
  {
   "cell_type": "code",
   "execution_count": 300,
   "metadata": {},
   "outputs": [
    {
     "ename": "LoadError",
     "evalue": "\u001b[91mBoundsError: attempt to access 12-element Array{Float64,1} at index [0]\u001b[39m",
     "output_type": "error",
     "traceback": [
      "\u001b[91mBoundsError: attempt to access 12-element Array{Float64,1} at index [0]\u001b[39m",
      "",
      "Stacktrace:",
      " [1] getindex(::Array{Float64,1}, ::Int64) at ./array.jl:809",
      " [2] hopping(::Array{Float64,1}) at ./In[137]:5",
      " [3] MC_pietro(::Array{Float64,1}, ::Int64, ::Int64, ::Int64, ::Int64, ::Int64) at ./In[298]:35",
      " [4] (::var\"#35#36\")(::Int64) at ./none:0",
      " [5] iterate at ./generator.jl:47 [inlined]",
      " [6] collect(::Base.Generator{Array{Int64,1},var\"#35#36\"}) at ./array.jl:686",
      " [7] top-level scope at In[300]:3",
      " [8] include_string(::Function, ::Module, ::String, ::String) at ./loading.jl:1091"
     ]
    }
   ],
   "source": [
    "using Plots\n",
    "x = collect(2:1:8)\n",
    "y = [MC_pietro(a,10,v,30,5,100) for v in x]\n",
    "\n",
    "plot(x,y)"
   ]
  },
  {
   "cell_type": "code",
   "execution_count": null,
   "metadata": {},
   "outputs": [],
   "source": []
  },
  {
   "cell_type": "code",
   "execution_count": null,
   "metadata": {},
   "outputs": [],
   "source": []
  },
  {
   "cell_type": "code",
   "execution_count": null,
   "metadata": {},
   "outputs": [],
   "source": []
  }
 ],
 "metadata": {
  "kernelspec": {
   "display_name": "Julia 1.5.3",
   "language": "julia",
   "name": "julia-1.5"
  },
  "language_info": {
   "file_extension": ".jl",
   "mimetype": "application/julia",
   "name": "julia",
   "version": "1.5.3"
  }
 },
 "nbformat": 4,
 "nbformat_minor": 4
}
