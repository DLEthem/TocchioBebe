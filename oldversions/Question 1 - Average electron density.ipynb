{
 "cells": [
  {
   "cell_type": "code",
   "execution_count": 38,
   "metadata": {},
   "outputs": [],
   "source": [
    "import Pkg; Pkg.add(\"StatsBase\")"
   ]
  },
  {
   "cell_type": "code",
   "execution_count": 81,
   "metadata": {},
   "outputs": [
    {
     "data": {
      "text/plain": [
       "42"
      ]
     },
     "execution_count": 81,
     "metadata": {},
     "output_type": "execute_result"
    }
   ],
   "source": [
    "n = 10\n",
    "L = 8*n + 4\n",
    "t = 1\n",
    "Ne = Int(L / 2)"
   ]
  },
  {
   "cell_type": "code",
   "execution_count": 82,
   "metadata": {},
   "outputs": [],
   "source": [
    "#Hamiltonian\n",
    "function Hamiltonian(L,t)\n",
    "    H = zeros(2*L, 2*L)\n",
    "    H[1,L] = -t\n",
    "    H[L,1] = -t\n",
    "    H[2L,L+1] = -t\n",
    "    H[L+1,2L] = -t\n",
    "    for i=1:2*L\n",
    "      for j=1:2*L\n",
    "        if i == j + 1 || i == j - 1\n",
    "          H[i,j] = -t\n",
    "        end \n",
    "      end\n",
    "    end\n",
    "    H[L,L+1]=0\n",
    "    H[L+1,L]=0\n",
    "    return H\n",
    "end\n",
    "\n",
    "H = Hamiltonian(L,t);"
   ]
  },
  {
   "cell_type": "code",
   "execution_count": 83,
   "metadata": {},
   "outputs": [
    {
     "data": {
      "text/plain": [
       "shortstate (generic function with 1 method)"
      ]
     },
     "execution_count": 83,
     "metadata": {},
     "output_type": "execute_result"
    }
   ],
   "source": [
    "#generate, convert state\n",
    "using StatsBase\n",
    "\n",
    "function Lstate(L)                                 #generate a state of length L\n",
    "    Lstated, Lstateu, Lstate = zeros(L), zeros(L), zeros(L)\n",
    "    randomposu = sample(collect(1:L), Int(L/4), replace=false)\n",
    "    randomposd = sample(collect(1:L), Int(L/4), replace=false)\n",
    "    for j in randomposu\n",
    "        Lstateu[j] = 1\n",
    "    end\n",
    "    for j in randomposd\n",
    "        Lstated[j] = -1\n",
    "    end\n",
    "    for i=1:L \n",
    "        if Lstated[i] == -1 && Lstateu[i] == 1\n",
    "            Lstate[i] = 2\n",
    "        else\n",
    "            Lstate[i] = Lstated[i] + Lstateu[i]\n",
    "        end\n",
    "    end\n",
    "    return Lstate\n",
    "end\n",
    "\n",
    "function extendedstate(Lstatevector)               #take a state of length L and make it 2*L\n",
    "    L = length(Lstatevector)\n",
    "    State2L = zeros(2*L)\n",
    "    for j=1:L\n",
    "        if Lstatevector[j] == -1\n",
    "            State2L[j + L] = 1\n",
    "        elseif Lstatevector[j] == 1\n",
    "            State2L[j] = 1\n",
    "        elseif Lstatevector[j] == 2\n",
    "            State2L[j], State2L[j + L] = 1,1\n",
    "        else\n",
    "            State2L[j] = 0\n",
    "        end\n",
    "    end\n",
    "    return State2L\n",
    "end\n",
    "\n",
    "function shortstate(ext_state)                    #pass trom 2*L state to L state\n",
    "    L = Int(length(ext_state)/2)\n",
    "    sh_state = zeros(L)\n",
    "    for j=1:L\n",
    "        if ext_state[j]==1\n",
    "            sh_state[j]=1\n",
    "        end\n",
    "    end\n",
    "    for j=1:L\n",
    "        if ext_state[L+j]==1\n",
    "            if sh_state[j]==1\n",
    "                sh_state[j]=2\n",
    "            else\n",
    "                sh_state[j]=-1\n",
    "            end\n",
    "        end\n",
    "    end\n",
    "    return sh_state\n",
    "end\n"
   ]
  },
  {
   "cell_type": "code",
   "execution_count": 84,
   "metadata": {},
   "outputs": [
    {
     "data": {
      "text/plain": [
       "move_L (generic function with 1 method)"
      ]
     },
     "execution_count": 84,
     "metadata": {},
     "output_type": "execute_result"
    }
   ],
   "source": [
    "#generate a move\n",
    "function Pauli(x,i,j)                 #check if state i and j are both occupied\n",
    "    if x[i] == 1 && x[j] == 1\n",
    "        return true\n",
    "    end\n",
    "    return false\n",
    "end \n",
    "\n",
    "function occupied_states(v)         #generate a vector with positions of occupied states (from 2*L states)\n",
    "    occ_states = []\n",
    "    L = length(v)\n",
    "    for i = 1:L\n",
    "        if v[i] == 1\n",
    "            append!(occ_states, i)\n",
    "        end\n",
    "    end\n",
    "    return occ_states\n",
    "end\n",
    "\n",
    "\n",
    "function occupied_states_L(v)\n",
    "    occ_states = []\n",
    "    L =length(v)\n",
    "    for i = 1 : L\n",
    "        if abs(v[i]) == 1\n",
    "            append!(occ_states, i )\n",
    "            \n",
    "        elseif v[i] == 2\n",
    "            append!(occ_states, i )\n",
    "        \n",
    "        end\n",
    "    end\n",
    "    return occ_states\n",
    "end\n",
    "\n",
    "function empty_states(v)\n",
    "    empty_st_u = []\n",
    "    empty_st_d = []\n",
    "    L = length(v)\n",
    "    for i = 1 : Int(L/2)\n",
    "        if v[i] == 0\n",
    "               append!(empty_st_u, i )\n",
    "        end\n",
    "    end\n",
    "    for i = Int(L/2)+1 : L\n",
    "        if v[i] == 0\n",
    "               append!(empty_st_d, i )\n",
    "        end\n",
    "    end\n",
    "    return empty_st_u, empty_st_d\n",
    "end\n",
    "function move_L(w)\n",
    "    \n",
    "    v = copy(w)\n",
    "    L = length(v)\n",
    "    i = rand(occupied_states_L(v))\n",
    "    j = rand(-1:2:1)\n",
    "\n",
    "    j_pbc = mod(i+j,L)\n",
    "    j_pbc == 0 ? j_pbc = L : j_pbc = j_pbc\n",
    "\n",
    "        if v[i] != v[j_pbc] && v[j_pbc]!=2\n",
    "\n",
    "            if abs(v[i])==1\n",
    "            v[j_pbc] == 0 ? v[j_pbc] = v[i] : v[j_pbc] = 2\n",
    "            v[i] = 0\n",
    "\n",
    "            elseif v[i]==2    \n",
    "            spin = rand(-1:2:1)\n",
    "\n",
    "                if v[j_pbc] != spin\n",
    "                v[i] = -spin\n",
    "\n",
    "                    if abs(v[j_pbc]) == 1 \n",
    "                        v[j_pbc] = 2 \n",
    "                    elseif v[j_pbc] == 0 \n",
    "                        v[j_pbc] = spin \n",
    "                    end\n",
    "\n",
    "                end    \n",
    "            end\n",
    "            \n",
    "        end\n",
    "\n",
    "    return v\n",
    "    \n",
    "end\n"
   ]
  },
  {
   "cell_type": "code",
   "execution_count": 85,
   "metadata": {},
   "outputs": [
    {
     "data": {
      "text/plain": [
       "3-element Vector{Float64}:\n",
       "  2.0\n",
       "  0.0\n",
       " -1.0"
      ]
     },
     "metadata": {},
     "output_type": "display_data"
    },
    {
     "data": {
      "text/plain": [
       "3-element Vector{Float64}:\n",
       " 1.0\n",
       " 0.0\n",
       " 2.0"
      ]
     },
     "execution_count": 85,
     "metadata": {},
     "output_type": "execute_result"
    }
   ],
   "source": [
    "function move_last_2L(w)\n",
    "    v = copy(w)\n",
    "    L = length(v)\n",
    "    i = rand(occupied_states(v))\n",
    "    if i < L+1 \n",
    "        j = rand(empty_states(v)[1])\n",
    "        v[j] = v[i]\n",
    "    else \n",
    "        j = rand(empty_states(v)[2])\n",
    "    end\n",
    "    v[i] = 0\n",
    "    b = shortstate(v)\n",
    "    return b\n",
    "end\n",
    "\n",
    "a = [1,0,0,1,0,1]\n",
    "display(shortstate(a))\n",
    "move_last(a)"
   ]
  },
  {
   "cell_type": "code",
   "execution_count": 86,
   "metadata": {},
   "outputs": [
    {
     "data": {
      "text/plain": [
       "ratio_det (generic function with 1 method)"
      ]
     },
     "execution_count": 86,
     "metadata": {},
     "output_type": "execute_result"
    }
   ],
   "source": [
    "#generate unitary matrices and the ratio of determinants\n",
    "using LinearAlgebra\n",
    "U = eigvecs(H)  #unitary matrix\n",
    "Udag = inv(U)   #U^-1\n",
    "E = eigvals(H)  #eigenvalues of H\n",
    "\n",
    "function U1(A, Ne) #take the first Ne columns\n",
    "    U_1 = A[:,1:Ne]\n",
    "    return U_1\n",
    "end\n",
    "\n",
    "U_1 = U1(U,Ne)\n",
    "\n",
    "function U_tilde(A,v)                  #takes just the rows related to occupied states, Ne*Ne matrix\n",
    "    U_tild = []\n",
    "    U_tild = A[occupied_states(v),:]\n",
    "    return U_tild\n",
    "end\n",
    "\n",
    "function ratio_det(v, z)\n",
    "    rat= det(U_tilde(U_1,z))/det(U_tilde(U_1,v))\n",
    "    return rat\n",
    "end  \n"
   ]
  },
  {
   "cell_type": "code",
   "execution_count": 87,
   "metadata": {},
   "outputs": [
    {
     "data": {
      "text/plain": [
       "Jastrow (generic function with 1 method)"
      ]
     },
     "execution_count": 87,
     "metadata": {},
     "output_type": "execute_result"
    }
   ],
   "source": [
    "#Jastrow factor\n",
    "function n_i(vi)           #counts the number of els in positions vi, returning (# up , # down)\n",
    "    \n",
    "    n_up = 0\n",
    "    n_down = 0\n",
    "    \n",
    "        if vi == 1\n",
    "            n_up += 1\n",
    "            \n",
    "        elseif vi == -1\n",
    "            n_down += 1\n",
    "                \n",
    "        elseif vi == 2\n",
    "            n_down += 1\n",
    "            n_up += 1\n",
    "                \n",
    "        end\n",
    "\n",
    "return n_up, n_down\n",
    "\n",
    "end\n",
    "\n",
    "function Jastrow(state,g,v)\n",
    "            \n",
    "    D=length(state)       \n",
    "    \n",
    "    Spins=0\n",
    "    Occupancies=0        \n",
    "    n1 = n_i(state[D])[1] + n_i(state[D])[2]\n",
    "    n2 = 0\n",
    "    \n",
    "    for i = 1 : D\n",
    "                \n",
    "        n_up= n_i(state[i])[1]    \n",
    "        n_down = n_i(state[i])[2]\n",
    "                \n",
    "    Spins = Spins + n_up*n_down \n",
    "                \n",
    "    n2= n_up + n_down\n",
    "    n1n2 = n1*n2   \n",
    "    n1 = n2\n",
    "                \n",
    "    Occupancies = Occupancies + n1n2\n",
    "            \n",
    "        end\n",
    "    \n",
    "    arg=  -g*Spins -v*Occupancies\n",
    "            \n",
    "return exp(arg)\n",
    "\n",
    "end"
   ]
  },
  {
   "cell_type": "code",
   "execution_count": 88,
   "metadata": {},
   "outputs": [
    {
     "data": {
      "text/plain": [
       "nB (generic function with 1 method)"
      ]
     },
     "execution_count": 88,
     "metadata": {},
     "output_type": "execute_result"
    }
   ],
   "source": [
    "#This function calculates the density observable in the odd sites A\n",
    "function nA(v)\n",
    "    nA = 0\n",
    "    for j=1:length(v)\n",
    "        if j%2 != 0\n",
    "            nA += sum(n_i(v[j])) \n",
    "        end\n",
    "    end\n",
    "    return nA*2/length(v)\n",
    "end\n",
    "\n",
    "#This function calculates the density observable in the even sites B\n",
    "function nB(v)\n",
    "    nB = 0\n",
    "    for j=1:length(v)\n",
    "        if j%2 == 0\n",
    "            nB += sum(n_i(v[j])) \n",
    "        end\n",
    "    end\n",
    "    return nB*2/length(v)\n",
    "end"
   ]
  },
  {
   "cell_type": "code",
   "execution_count": 89,
   "metadata": {},
   "outputs": [
    {
     "data": {
      "text/plain": [
       "Block (generic function with 2 methods)"
      ]
     },
     "execution_count": 89,
     "metadata": {},
     "output_type": "execute_result"
    }
   ],
   "source": [
    "#Block analysis\n",
    "function Block(v, Ne)\n",
    "    \n",
    "    Average_Bin = []\n",
    "    \n",
    "    N=length(v)\n",
    "    \n",
    "    Lbin = Ne\n",
    "    \n",
    "    Nbin = N/Lbin\n",
    "    \n",
    "    a=0\n",
    "    b=0\n",
    "    \n",
    "    for i in 1:Nbin\n",
    "       \n",
    "    a = (i-1)*Lbin +1\n",
    "    b = i*Lbin\n",
    "        \n",
    "av_bin = (1/Int(abs(Lbin)))*(sum(v[Int64(a):Int64(b)]))\n",
    "        \n",
    "push!(Average_Bin,av_bin)\n",
    "        \n",
    "    end\n",
    "\n",
    "return sum(Average_Bin)/(Nbin)\n",
    "\n",
    "    \n",
    "end"
   ]
  },
  {
   "cell_type": "code",
   "execution_count": 100,
   "metadata": {},
   "outputs": [
    {
     "data": {
      "text/plain": [
       "(0.35234669407331237, 0.6476533059266871)"
      ]
     },
     "execution_count": 100,
     "metadata": {},
     "output_type": "execute_result"
    }
   ],
   "source": [
    "#Monte Carlo simulation that calculates <nA> using Block Analysis\n",
    "import Random\n",
    "\n",
    "function MC_Ne(q0, g, v, Ne,Ni, nsteps = 1000)\n",
    "    \n",
    "    Random.seed!(1234)\n",
    "    state_L = q0\n",
    "    sumA=0\n",
    "    sumB=0\n",
    "    accepted_moves = 0\n",
    "    accepted_Ne = 0\n",
    "    \n",
    "    Suma_A = []\n",
    "    Suma_B = []\n",
    "    \n",
    "    \n",
    "    for istep = 1:nsteps\n",
    "        state_2L = extendedstate(state_L)\n",
    "        #state_new_L = move_L(state_L)\n",
    "        state_new_L = move_last(state_2L)\n",
    "        state_new_2L = extendedstate(state_new_L)\n",
    "        \n",
    "        acc =  (ratio_det(state_2L,state_new_2L) * (Jastrow(state_new_L,g,v)/Jastrow(state_L,g,v)))^2       #acceptance \n",
    "        \n",
    "        acc = min(1,acc)\n",
    "        \n",
    "        if acc>rand()        #metropolis rule\n",
    "            \n",
    "            accepted_moves += 1 \n",
    "            \n",
    "            n_newA= nA(state_new_L)\n",
    "            sumA+=n_newA\n",
    "            push!(Suma_A,n_newA)\n",
    "            \n",
    "            n_newB= nB(state_new_L)\n",
    "            sumB+=n_newB\n",
    "            push!(Suma_B,n_newB)\n",
    "            \n",
    "            state_L = copy(state_new_L)\n",
    "            #compute observables\n",
    "        \n",
    "            end\n",
    "    \n",
    "    end\n",
    "    \n",
    "    return sumA/accepted_moves, sumB/accepted_moves\n",
    "\n",
    "end \n",
    "state = Lstate(L)\n",
    "MC_prova = MC_Ne(state, 10, 10,Ne,1, 10000)"
   ]
  },
  {
   "cell_type": "code",
   "execution_count": 72,
   "metadata": {},
   "outputs": [
    {
     "ename": "BoundsError",
     "evalue": "BoundsError: attempt to access 7-element UnitRange{Int64} at index [1:245]",
     "output_type": "error",
     "traceback": [
      "BoundsError: attempt to access 7-element UnitRange{Int64} at index [1:245]",
      "",
      "Stacktrace:",
      "  [1] throw_boundserror(A::UnitRange{Int64}, I::Tuple{UnitRange{Int64}})",
      "    @ Base ./abstractarray.jl:651",
      "  [2] checkbounds",
      "    @ ./abstractarray.jl:616 [inlined]",
      "  [3] getindex(r::UnitRange{Int64}, s::UnitRange{Int64})",
      "    @ Base ./range.jl:747",
      "  [4] gr_draw_segments(series::Plots.Series, x::UnitRange{Int64}, y::Vector{Float64}, fillrange::Nothing, clims::Tuple{Float64, Float64})",
      "    @ Plots ~/.julia/packages/Plots/S2aH5/src/backends/gr.jl:1755",
      "  [5] gr_add_series(sp::Plots.Subplot{Plots.GRBackend}, series::Plots.Series)",
      "    @ Plots ~/.julia/packages/Plots/S2aH5/src/backends/gr.jl:1670",
      "  [6] gr_display(sp::Plots.Subplot{Plots.GRBackend}, w::Measures.AbsoluteLength, h::Measures.AbsoluteLength, viewport_canvas::Vector{Float64})",
      "    @ Plots ~/.julia/packages/Plots/S2aH5/src/backends/gr.jl:960",
      "  [7] gr_display(plt::Plots.Plot{Plots.GRBackend}, fmt::String)",
      "    @ Plots ~/.julia/packages/Plots/S2aH5/src/backends/gr.jl:646",
      "  [8] _show(io::IOBuffer, #unused#::MIME{Symbol(\"image/svg+xml\")}, plt::Plots.Plot{Plots.GRBackend})",
      "    @ Plots ~/.julia/packages/Plots/S2aH5/src/backends/gr.jl:1963",
      "  [9] show(io::IOBuffer, m::MIME{Symbol(\"image/svg+xml\")}, plt::Plots.Plot{Plots.GRBackend})",
      "    @ Plots ~/.julia/packages/Plots/S2aH5/src/output.jl:215",
      " [10] sprint(::Function, ::MIME{Symbol(\"image/svg+xml\")}, ::Vararg{Any, N} where N; context::Nothing, sizehint::Int64)",
      "    @ Base ./strings/io.jl:105",
      " [11] sprint",
      "    @ ./strings/io.jl:101 [inlined]",
      " [12] _ijulia_display_dict(plt::Plots.Plot{Plots.GRBackend})",
      "    @ Plots ~/.julia/packages/Plots/S2aH5/src/ijulia.jl:53",
      " [13] display_dict(plt::Plots.Plot{Plots.GRBackend})",
      "    @ Plots ~/.julia/packages/Plots/S2aH5/src/init.jl:82",
      " [14] #invokelatest#2",
      "    @ ./essentials.jl:708 [inlined]",
      " [15] invokelatest",
      "    @ ./essentials.jl:706 [inlined]",
      " [16] execute_request(socket::ZMQ.Socket, msg::IJulia.Msg)",
      "    @ IJulia ~/.julia/packages/IJulia/e8kqU/src/execute_request.jl:112",
      " [17] #invokelatest#2",
      "    @ ./essentials.jl:708 [inlined]",
      " [18] invokelatest",
      "    @ ./essentials.jl:706 [inlined]",
      " [19] eventloop(socket::ZMQ.Socket)",
      "    @ IJulia ~/.julia/packages/IJulia/e8kqU/src/eventloop.jl:8",
      " [20] (::IJulia.var\"#15#18\")()",
      "    @ IJulia ./task.jl:411"
     ]
    }
   ],
   "source": [
    "state = Lstate(L);\n",
    "using Plots\n",
    "\n",
    "yA = zeros(0)\n",
    "yB = zeros(0)\n",
    "\n",
    "for v=2:8\n",
    "    MC_prova = MC_Ne(state, 10, v,Ne,4, 1000)\n",
    "    append!(yA, MC_prova[1])\n",
    "    append!(yB, MC_prova[2])\n",
    "end\n",
    "plot(2:8,yA)\n",
    "plot!(2:8,yB)"
   ]
  },
  {
   "cell_type": "code",
   "execution_count": null,
   "metadata": {},
   "outputs": [],
   "source": []
  },
  {
   "cell_type": "code",
   "execution_count": null,
   "metadata": {},
   "outputs": [],
   "source": []
  },
  {
   "cell_type": "code",
   "execution_count": null,
   "metadata": {},
   "outputs": [],
   "source": []
  }
 ],
 "metadata": {
  "kernelspec": {
   "display_name": "Julia 1.6.1",
   "language": "julia",
   "name": "julia-1.6"
  },
  "language_info": {
   "file_extension": ".jl",
   "mimetype": "application/julia",
   "name": "julia",
   "version": "1.6.1"
  }
 },
 "nbformat": 4,
 "nbformat_minor": 4
}
