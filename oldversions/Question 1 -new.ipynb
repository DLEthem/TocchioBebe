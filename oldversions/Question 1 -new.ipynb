{
 "cells": [
  {
   "cell_type": "code",
   "execution_count": 1,
   "metadata": {},
   "outputs": [
    {
     "name": "stderr",
     "output_type": "stream",
     "text": [
      "\u001b[32m\u001b[1m  Resolving\u001b[22m\u001b[39m package versions...\n",
      "\u001b[32m\u001b[1m Installing\u001b[22m\u001b[39m known registries into `~/.julia`\n",
      "######################################################################### 100.0%\n"
     ]
    },
    {
     "ename": "LoadError",
     "evalue": "\u001b[91mSystemError: opening file \"/Users/dianal.monroy/.julia/registries/General/Registry.toml\": No such file or directory\u001b[39m",
     "output_type": "error",
     "traceback": [
      "\u001b[91mSystemError: opening file \"/Users/dianal.monroy/.julia/registries/General/Registry.toml\": No such file or directory\u001b[39m",
      "",
      "Stacktrace:",
      " [1] systemerror(::String, ::Int32; extrainfo::Nothing) at ./error.jl:168",
      " [2] #systemerror#48 at ./error.jl:167 [inlined]",
      " [3] systemerror at ./error.jl:167 [inlined]",
      " [4] open(::String; lock::Bool, read::Nothing, write::Nothing, create::Nothing, truncate::Nothing, append::Nothing) at ./iostream.jl:284",
      " [5] open at ./iostream.jl:273 [inlined]",
      " [6] open(::Base.var\"#294#295\"{Tuple{}}, ::String; kwargs::Base.Iterators.Pairs{Union{},Union{},Tuple{},NamedTuple{(),Tuple{}}}) at ./io.jl:323",
      " [7] open at ./io.jl:323 [inlined]",
      " [8] read at ./io.jl:408 [inlined]",
      " [9] parsefile at /Users/julia/buildbot/worker/package_macos64/build/usr/share/julia/stdlib/v1.5/Pkg/ext/TOML/src/TOML.jl:50 [inlined]",
      " [10] read_registry(::String; cache::Bool) at /Users/julia/buildbot/worker/package_macos64/build/usr/share/julia/stdlib/v1.5/Pkg/src/Types.jl:1044",
      " [11] read_registry at /Users/julia/buildbot/worker/package_macos64/build/usr/share/julia/stdlib/v1.5/Pkg/src/Types.jl:1039 [inlined]",
      " [12] (::Pkg.Types.var\"#94#97\"{Pkg.Types.Context,String,Pkg.Types.RegistrySpec})(::String) at /Users/julia/buildbot/worker/package_macos64/build/usr/share/julia/stdlib/v1.5/Pkg/src/Types.jl:1016",
      " [13] mktempdir(::Pkg.Types.var\"#94#97\"{Pkg.Types.Context,String,Pkg.Types.RegistrySpec}, ::String; prefix::String) at ./file.jl:709",
      " [14] mktempdir at ./file.jl:707 [inlined] (repeats 2 times)",
      " [15] clone_or_cp_registries(::Pkg.Types.Context, ::Array{Pkg.Types.RegistrySpec,1}, ::String) at /Users/julia/buildbot/worker/package_macos64/build/usr/share/julia/stdlib/v1.5/Pkg/src/Types.jl:980",
      " [16] clone_or_cp_registries at /Users/julia/buildbot/worker/package_macos64/build/usr/share/julia/stdlib/v1.5/Pkg/src/Types.jl:973 [inlined]",
      " [17] clone_default_registries(::Pkg.Types.Context; only_if_empty::Bool) at /Users/julia/buildbot/worker/package_macos64/build/usr/share/julia/stdlib/v1.5/Pkg/src/Types.jl:874",
      " [18] clone_default_registries at /Users/julia/buildbot/worker/package_macos64/build/usr/share/julia/stdlib/v1.5/Pkg/src/Types.jl:862 [inlined]",
      " [19] find_registered!(::Pkg.Types.Context, ::Array{String,1}, ::Array{Base.UUID,1}) at /Users/julia/buildbot/worker/package_macos64/build/usr/share/julia/stdlib/v1.5/Pkg/src/Types.jl:1239",
      " [20] find_registered! at /Users/julia/buildbot/worker/package_macos64/build/usr/share/julia/stdlib/v1.5/Pkg/src/Types.jl:1200 [inlined]",
      " [21] check_registered(::Pkg.Types.Context, ::Array{Pkg.Types.PackageSpec,1}) at /Users/julia/buildbot/worker/package_macos64/build/usr/share/julia/stdlib/v1.5/Pkg/src/Operations.jl:1054",
      " [22] targeted_resolve at /Users/julia/buildbot/worker/package_macos64/build/usr/share/julia/stdlib/v1.5/Pkg/src/Operations.jl:1113 [inlined]",
      " [23] tiered_resolve(::Pkg.Types.Context, ::Array{Pkg.Types.PackageSpec,1}) at /Users/julia/buildbot/worker/package_macos64/build/usr/share/julia/stdlib/v1.5/Pkg/src/Operations.jl:1086",
      " [24] _resolve at /Users/julia/buildbot/worker/package_macos64/build/usr/share/julia/stdlib/v1.5/Pkg/src/Operations.jl:1120 [inlined]",
      " [25] add(::Pkg.Types.Context, ::Array{Pkg.Types.PackageSpec,1}, ::Array{Base.UUID,1}; preserve::Pkg.Types.PreserveLevel, platform::Pkg.BinaryPlatforms.MacOS) at /Users/julia/buildbot/worker/package_macos64/build/usr/share/julia/stdlib/v1.5/Pkg/src/Operations.jl:1135",
      " [26] add(::Pkg.Types.Context, ::Array{Pkg.Types.PackageSpec,1}; preserve::Pkg.Types.PreserveLevel, platform::Pkg.BinaryPlatforms.MacOS, kwargs::Base.Iterators.Pairs{Union{},Union{},Tuple{},NamedTuple{(),Tuple{}}}) at /Users/julia/buildbot/worker/package_macos64/build/usr/share/julia/stdlib/v1.5/Pkg/src/API.jl:188",
      " [27] add(::Pkg.Types.Context, ::Array{Pkg.Types.PackageSpec,1}) at /Users/julia/buildbot/worker/package_macos64/build/usr/share/julia/stdlib/v1.5/Pkg/src/API.jl:139",
      " [28] #add#21 at /Users/julia/buildbot/worker/package_macos64/build/usr/share/julia/stdlib/v1.5/Pkg/src/API.jl:67 [inlined]",
      " [29] add at /Users/julia/buildbot/worker/package_macos64/build/usr/share/julia/stdlib/v1.5/Pkg/src/API.jl:67 [inlined]",
      " [30] #add#20 at /Users/julia/buildbot/worker/package_macos64/build/usr/share/julia/stdlib/v1.5/Pkg/src/API.jl:66 [inlined]",
      " [31] add at /Users/julia/buildbot/worker/package_macos64/build/usr/share/julia/stdlib/v1.5/Pkg/src/API.jl:66 [inlined]",
      " [32] add(::String; kwargs::Base.Iterators.Pairs{Union{},Union{},Tuple{},NamedTuple{(),Tuple{}}}) at /Users/julia/buildbot/worker/package_macos64/build/usr/share/julia/stdlib/v1.5/Pkg/src/API.jl:65",
      " [33] add(::String) at /Users/julia/buildbot/worker/package_macos64/build/usr/share/julia/stdlib/v1.5/Pkg/src/API.jl:65",
      " [34] top-level scope at In[1]:1",
      " [35] include_string(::Function, ::Module, ::String, ::String) at ./loading.jl:1091"
     ]
    }
   ],
   "source": [
    "import Pkg; Pkg.add(\"StatsBase\")"
   ]
  },
  {
   "cell_type": "code",
   "execution_count": 10,
   "metadata": {},
   "outputs": [
    {
     "data": {
      "text/plain": [
       "42"
      ]
     },
     "execution_count": 10,
     "metadata": {},
     "output_type": "execute_result"
    }
   ],
   "source": [
    "n = 10\n",
    "L = 8*n + 4\n",
    "t = 1\n",
    "Ne = Int(L / 2)"
   ]
  },
  {
   "cell_type": "code",
   "execution_count": 11,
   "metadata": {},
   "outputs": [],
   "source": [
    "#Hamiltonian\n",
    "function Hamiltonian(L,t)\n",
    "    H = zeros(2*L, 2*L)\n",
    "    H[1,L] = -t\n",
    "    H[L,1] = -t\n",
    "    H[2L,L+1] = -t\n",
    "    H[L+1,2L] = -t\n",
    "    for i=1:2*L\n",
    "      for j=1:2*L\n",
    "        if i == j + 1 || i == j - 1\n",
    "          H[i,j] = -t\n",
    "        end \n",
    "      end\n",
    "    end\n",
    "    H[L,L+1]=0\n",
    "    H[L+1,L]=0\n",
    "    return H\n",
    "end\n",
    "\n",
    "H = Hamiltonian(L,t);"
   ]
  },
  {
   "cell_type": "code",
   "execution_count": 42,
   "metadata": {},
   "outputs": [
    {
     "name": "stderr",
     "output_type": "stream",
     "text": [
      "\u001b[32m\u001b[1m Installing\u001b[22m\u001b[39m known registries into `~/.julia`\n",
      "######################################################################### 100.0%####################                           66.4%#####################    97.5%\n"
     ]
    },
    {
     "ename": "LoadError",
     "evalue": "\u001b[91mSystemError: opening file \"/Users/dianal.monroy/.julia/registries/General/Registry.toml\": No such file or directory\u001b[39m",
     "output_type": "error",
     "traceback": [
      "\u001b[91mSystemError: opening file \"/Users/dianal.monroy/.julia/registries/General/Registry.toml\": No such file or directory\u001b[39m",
      "",
      "Stacktrace:",
      " [1] systemerror(::String, ::Int32; extrainfo::Nothing) at ./error.jl:168",
      " [2] #systemerror#48 at ./error.jl:167 [inlined]",
      " [3] systemerror at ./error.jl:167 [inlined]",
      " [4] open(::String; lock::Bool, read::Nothing, write::Nothing, create::Nothing, truncate::Nothing, append::Nothing) at ./iostream.jl:284",
      " [5] open at ./iostream.jl:273 [inlined]",
      " [6] open(::Base.var\"#294#295\"{Tuple{}}, ::String; kwargs::Base.Iterators.Pairs{Union{},Union{},Tuple{},NamedTuple{(),Tuple{}}}) at ./io.jl:323",
      " [7] open at ./io.jl:323 [inlined]",
      " [8] read at ./io.jl:408 [inlined]",
      " [9] parsefile at /Users/julia/buildbot/worker/package_macos64/build/usr/share/julia/stdlib/v1.5/Pkg/ext/TOML/src/TOML.jl:50 [inlined]",
      " [10] read_registry(::String; cache::Bool) at /Users/julia/buildbot/worker/package_macos64/build/usr/share/julia/stdlib/v1.5/Pkg/src/Types.jl:1044",
      " [11] read_registry at /Users/julia/buildbot/worker/package_macos64/build/usr/share/julia/stdlib/v1.5/Pkg/src/Types.jl:1039 [inlined]",
      " [12] (::Pkg.Types.var\"#94#97\"{Pkg.Types.Context,String,Pkg.Types.RegistrySpec})(::String) at /Users/julia/buildbot/worker/package_macos64/build/usr/share/julia/stdlib/v1.5/Pkg/src/Types.jl:1016",
      " [13] mktempdir(::Pkg.Types.var\"#94#97\"{Pkg.Types.Context,String,Pkg.Types.RegistrySpec}, ::String; prefix::String) at ./file.jl:709",
      " [14] mktempdir at ./file.jl:707 [inlined] (repeats 2 times)",
      " [15] clone_or_cp_registries(::Pkg.Types.Context, ::Array{Pkg.Types.RegistrySpec,1}, ::String) at /Users/julia/buildbot/worker/package_macos64/build/usr/share/julia/stdlib/v1.5/Pkg/src/Types.jl:980",
      " [16] clone_or_cp_registries at /Users/julia/buildbot/worker/package_macos64/build/usr/share/julia/stdlib/v1.5/Pkg/src/Types.jl:973 [inlined]",
      " [17] clone_default_registries(::Pkg.Types.Context; only_if_empty::Bool) at /Users/julia/buildbot/worker/package_macos64/build/usr/share/julia/stdlib/v1.5/Pkg/src/Types.jl:874",
      " [18] clone_default_registries at /Users/julia/buildbot/worker/package_macos64/build/usr/share/julia/stdlib/v1.5/Pkg/src/Types.jl:862 [inlined]",
      " [19] find_registered!(::Pkg.Types.Context, ::Array{String,1}, ::Array{Base.UUID,1}) at /Users/julia/buildbot/worker/package_macos64/build/usr/share/julia/stdlib/v1.5/Pkg/src/Types.jl:1239",
      " [20] registry_resolve!(::Pkg.Types.Context, ::Array{Pkg.Types.PackageSpec,1}) at /Users/julia/buildbot/worker/package_macos64/build/usr/share/julia/stdlib/v1.5/Pkg/src/Types.jl:770",
      " [21] add(::Pkg.Types.Context, ::Array{Pkg.Types.PackageSpec,1}; preserve::Pkg.Types.PreserveLevel, platform::Pkg.BinaryPlatforms.MacOS, kwargs::Base.Iterators.Pairs{Union{},Union{},Tuple{},NamedTuple{(),Tuple{}}}) at /Users/julia/buildbot/worker/package_macos64/build/usr/share/julia/stdlib/v1.5/Pkg/src/API.jl:175",
      " [22] add(::Pkg.Types.Context, ::Array{Pkg.Types.PackageSpec,1}) at /Users/julia/buildbot/worker/package_macos64/build/usr/share/julia/stdlib/v1.5/Pkg/src/API.jl:139",
      " [23] #add#21 at /Users/julia/buildbot/worker/package_macos64/build/usr/share/julia/stdlib/v1.5/Pkg/src/API.jl:67 [inlined]",
      " [24] add at /Users/julia/buildbot/worker/package_macos64/build/usr/share/julia/stdlib/v1.5/Pkg/src/API.jl:67 [inlined]",
      " [25] #add#20 at /Users/julia/buildbot/worker/package_macos64/build/usr/share/julia/stdlib/v1.5/Pkg/src/API.jl:66 [inlined]",
      " [26] add at /Users/julia/buildbot/worker/package_macos64/build/usr/share/julia/stdlib/v1.5/Pkg/src/API.jl:66 [inlined]",
      " [27] add(::String; kwargs::Base.Iterators.Pairs{Union{},Union{},Tuple{},NamedTuple{(),Tuple{}}}) at /Users/julia/buildbot/worker/package_macos64/build/usr/share/julia/stdlib/v1.5/Pkg/src/API.jl:65",
      " [28] add(::String) at /Users/julia/buildbot/worker/package_macos64/build/usr/share/julia/stdlib/v1.5/Pkg/src/API.jl:65",
      " [29] top-level scope at In[42]:1",
      " [30] include_string(::Function, ::Module, ::String, ::String) at ./loading.jl:1091"
     ]
    }
   ],
   "source": [
    "import Pkg; Pkg.add(\"CircularArrays\")"
   ]
  },
  {
   "cell_type": "code",
   "execution_count": 37,
   "metadata": {},
   "outputs": [
    {
     "ename": "LoadError",
     "evalue": "\u001b[91mArgumentError: Package CircularArrays not found in current path:\u001b[39m\n\u001b[91m- Run `import Pkg; Pkg.add(\"CircularArrays\")` to install the CircularArrays package.\u001b[39m\n",
     "output_type": "error",
     "traceback": [
      "\u001b[91mArgumentError: Package CircularArrays not found in current path:\u001b[39m\n\u001b[91m- Run `import Pkg; Pkg.add(\"CircularArrays\")` to install the CircularArrays package.\u001b[39m\n",
      "",
      "Stacktrace:",
      " [1] require(::Module, ::Symbol) at ./loading.jl:893",
      " [2] include_string(::Function, ::Module, ::String, ::String) at ./loading.jl:1091"
     ]
    }
   ],
   "source": [
    "#generate, convert state\n",
    "using StatsBase\n",
    "using CircularArrays\n",
    "\n",
    "function Lstate(L)                                 #generate a state of length L\n",
    "    Lstated, Lstateu, Lstate = zeros(L), zeros(L), zeros(L)\n",
    "    randomposu = sample(collect(1:L), Int(L/4), replace=false)\n",
    "    randomposd = sample(collect(1:L), Int(L/4), replace=false)\n",
    "    for j in randomposu\n",
    "        Lstateu[j] = 1\n",
    "    end\n",
    "    for j in randomposd\n",
    "        Lstated[j] = -1\n",
    "    end\n",
    "    for i=1:L \n",
    "        if Lstated[i] == -1 && Lstateu[i] == 1\n",
    "            Lstate[i] = 2\n",
    "        else\n",
    "            Lstate[i] = Lstated[i] + Lstateu[i]\n",
    "        end\n",
    "    end\n",
    "    return CircularArray(Lstate)\n",
    "end\n",
    "\n",
    "function extendedstate(Lstatevector)               #take a state of length L and make it 2*L\n",
    "    L = length(Lstatevector)\n",
    "    State2L = zeros(2*L)\n",
    "    for j=1:L\n",
    "        if Lstatevector[j] == -1\n",
    "            State2L[j + L] = 1\n",
    "        elseif Lstatevector[j] == 1\n",
    "            State2L[j] = 1\n",
    "        elseif Lstatevector[j] == 2\n",
    "            State2L[j], State2L[j + L] = 1,1\n",
    "        else\n",
    "            State2L[j] = 0\n",
    "        end\n",
    "    end\n",
    "    return State2L\n",
    "end\n",
    "\n",
    "function shortstate(ext_state)                    #pass trom 2*L state to L state\n",
    "    L = Int(length(ext_state)/2)\n",
    "    sh_state = zeros(L)\n",
    "    for j=1:L\n",
    "        if ext_state[j]==1\n",
    "            sh_state[j]=1\n",
    "        end\n",
    "    end\n",
    "    for j=1:L\n",
    "        if ext_state[L+j]==1\n",
    "            if sh_state[j]==1\n",
    "                sh_state[j]=2\n",
    "            else\n",
    "                sh_state[j]=-1\n",
    "            end\n",
    "        end\n",
    "    end\n",
    "    return sh_state\n",
    "end\n"
   ]
  },
  {
   "cell_type": "code",
   "execution_count": 13,
   "metadata": {},
   "outputs": [
    {
     "data": {
      "text/plain": [
       "move_L (generic function with 1 method)"
      ]
     },
     "execution_count": 13,
     "metadata": {},
     "output_type": "execute_result"
    }
   ],
   "source": [
    "#generate a move\n",
    "function Pauli(x,i,j)                 #check if state i and j are both occupied\n",
    "    if x[i] == 1 && x[j] == 1\n",
    "        return true\n",
    "    end\n",
    "    return false\n",
    "end \n",
    "\n",
    "function occupied_states(v)         #generate a vector with positions of occupied states (from 2*L states)\n",
    "    occ_states = []\n",
    "    L = length(v)\n",
    "    for i = 1:L\n",
    "        if v[i] == 1\n",
    "            append!(occ_states, i)\n",
    "        end\n",
    "    end\n",
    "    return occ_states\n",
    "end\n",
    "\n",
    "\n",
    "function occupied_states_L(v)\n",
    "    occ_states = []\n",
    "    L =length(v)\n",
    "    for i = 1 : L\n",
    "        if abs(v[i]) == 1\n",
    "            append!(occ_states, i )\n",
    "            \n",
    "        elseif v[i] == 2\n",
    "            append!(occ_states, i )\n",
    "        \n",
    "        end\n",
    "    end\n",
    "    return occ_states\n",
    "end\n",
    "\n",
    "function empty_states(v)\n",
    "    empty_st_u = []\n",
    "    empty_st_d = []\n",
    "    L = length(v)\n",
    "    for i = 1 : Int(L/2)\n",
    "        if v[i] == 0\n",
    "               append!(empty_st_u, i )\n",
    "        end\n",
    "    end\n",
    "    for i = Int(L/2)+1 : L\n",
    "        if v[i] == 0\n",
    "               append!(empty_st_d, i )\n",
    "        end\n",
    "    end\n",
    "    return empty_st_u, empty_st_d\n",
    "end\n",
    "function move_L(w)\n",
    "    \n",
    "    v = copy(w)\n",
    "    L = length(v)\n",
    "    i = rand(occupied_states_L(v))\n",
    "    j = rand(-1:2:1)\n",
    "\n",
    "    j_pbc = mod(i+j,L)\n",
    "    j_pbc == 0 ? j_pbc = L : j_pbc = j_pbc\n",
    "\n",
    "        if v[i] != v[j_pbc] && v[j_pbc]!=2\n",
    "\n",
    "            if abs(v[i])==1\n",
    "            v[j_pbc] == 0 ? v[j_pbc] = v[i] : v[j_pbc] = 2\n",
    "            v[i] = 0\n",
    "\n",
    "            elseif v[i]==2    \n",
    "            spin = rand(-1:2:1)\n",
    "\n",
    "                if v[j_pbc] != spin\n",
    "                v[i] = -spin\n",
    "\n",
    "                    if abs(v[j_pbc]) == 1 \n",
    "                        v[j_pbc] = 2 \n",
    "                    elseif v[j_pbc] == 0 \n",
    "                        v[j_pbc] = spin \n",
    "                    end\n",
    "\n",
    "                end    \n",
    "            end\n",
    "            \n",
    "        end\n",
    "\n",
    "    return v\n",
    "    \n",
    "end\n"
   ]
  },
  {
   "cell_type": "code",
   "execution_count": 14,
   "metadata": {},
   "outputs": [
    {
     "ename": "LoadError",
     "evalue": "\u001b[91mUndefVarError: shortstate not defined\u001b[39m",
     "output_type": "error",
     "traceback": [
      "\u001b[91mUndefVarError: shortstate not defined\u001b[39m",
      "",
      "Stacktrace:",
      " [1] top-level scope at In[14]:17",
      " [2] include_string(::Function, ::Module, ::String, ::String) at ./loading.jl:1091"
     ]
    }
   ],
   "source": [
    "function move_last_2L(w)\n",
    "    v = copy(w)\n",
    "    L = length(v)\n",
    "    i = rand(occupied_states(v))\n",
    "    if i < L+1 \n",
    "        j = rand(empty_states(v)[1])\n",
    "        v[j] = v[i]\n",
    "    else \n",
    "        j = rand(empty_states(v)[2])\n",
    "    end\n",
    "    v[i] = 0\n",
    "    b = shortstate(v)\n",
    "    return b\n",
    "end\n",
    "\n",
    "a = [1,0,0,1,0,1]\n",
    "display(shortstate(a))\n",
    "move_last_2L(a)"
   ]
  },
  {
   "cell_type": "code",
   "execution_count": 15,
   "metadata": {},
   "outputs": [
    {
     "data": {
      "text/plain": [
       "ratio_det (generic function with 1 method)"
      ]
     },
     "execution_count": 15,
     "metadata": {},
     "output_type": "execute_result"
    }
   ],
   "source": [
    "#generate unitary matrices and the ratio of determinants\n",
    "using LinearAlgebra\n",
    "U = eigvecs(H)  #unitary matrix\n",
    "Udag = inv(U)   #U^-1\n",
    "E = eigvals(H)  #eigenvalues of H\n",
    "\n",
    "function U1(A, Ne) #take the first Ne columns\n",
    "    U_1 = A[:,1:Ne]\n",
    "    return U_1\n",
    "end\n",
    "\n",
    "U_1 = U1(U,Ne)\n",
    "\n",
    "function U_tilde(A,v)                  #takes just the rows related to occupied states, Ne*Ne matrix\n",
    "    U_tild = []\n",
    "    U_tild = A[occupied_states(v),:]\n",
    "    return U_tild\n",
    "end\n",
    "\n",
    "function ratio_det(v, z)\n",
    "    rat= det(U_tilde(U_1,z))/det(U_tilde(U_1,v))\n",
    "    return rat\n",
    "end  \n"
   ]
  },
  {
   "cell_type": "code",
   "execution_count": 16,
   "metadata": {},
   "outputs": [
    {
     "data": {
      "text/plain": [
       "Jastrow (generic function with 1 method)"
      ]
     },
     "execution_count": 16,
     "metadata": {},
     "output_type": "execute_result"
    }
   ],
   "source": [
    "#Jastrow factor\n",
    "function n_i(vi)           #counts the number of els in positions vi, returning (# up , # down)\n",
    "    \n",
    "    n_up = 0\n",
    "    n_down = 0\n",
    "    \n",
    "        if vi == 1\n",
    "            n_up += 1\n",
    "            \n",
    "        elseif vi == -1\n",
    "            n_down += 1\n",
    "                \n",
    "        elseif vi == 2\n",
    "            n_down += 1\n",
    "            n_up += 1\n",
    "                \n",
    "        end\n",
    "\n",
    "return n_up, n_down\n",
    "\n",
    "end\n",
    "\n",
    "function Jastrow(state,g,v)\n",
    "            \n",
    "    D=length(state)       \n",
    "    \n",
    "    Spins=0\n",
    "    Occupancies=0        \n",
    "    n1 = n_i(state[D])[1] + n_i(state[D])[2]\n",
    "    n2 = 0\n",
    "    \n",
    "    for i = 1 : D\n",
    "                \n",
    "        n_up= n_i(state[i])[1]    \n",
    "        n_down = n_i(state[i])[2]\n",
    "                \n",
    "    Spins = Spins + n_up*n_down \n",
    "                \n",
    "    n2= n_up + n_down\n",
    "    n1n2 = n1*n2   \n",
    "    n1 = n2\n",
    "                \n",
    "    Occupancies = Occupancies + n1n2\n",
    "            \n",
    "        end\n",
    "    \n",
    "    arg=  -g*Spins -v*Occupancies\n",
    "            \n",
    "return exp(arg)\n",
    "\n",
    "end"
   ]
  },
  {
   "cell_type": "code",
   "execution_count": 17,
   "metadata": {},
   "outputs": [
    {
     "data": {
      "text/plain": [
       "4.539992976248485e-5"
      ]
     },
     "execution_count": 17,
     "metadata": {},
     "output_type": "execute_result"
    }
   ],
   "source": [
    "v= [1,0,0,0,2,0,-1,0]\n",
    "\n",
    "Jastrow(v,10,2)"
   ]
  },
  {
   "cell_type": "code",
   "execution_count": 18,
   "metadata": {},
   "outputs": [
    {
     "ename": "LoadError",
     "evalue": "\u001b[91mUndefVarError: nA not defined\u001b[39m",
     "output_type": "error",
     "traceback": [
      "\u001b[91mUndefVarError: nA not defined\u001b[39m",
      "",
      "Stacktrace:",
      " [1] top-level scope at In[18]:1",
      " [2] include_string(::Function, ::Module, ::String, ::String) at ./loading.jl:1091"
     ]
    }
   ],
   "source": [
    "nA(v)"
   ]
  },
  {
   "cell_type": "code",
   "execution_count": 19,
   "metadata": {},
   "outputs": [
    {
     "ename": "LoadError",
     "evalue": "\u001b[91mUndefVarError: nB not defined\u001b[39m",
     "output_type": "error",
     "traceback": [
      "\u001b[91mUndefVarError: nB not defined\u001b[39m",
      "",
      "Stacktrace:",
      " [1] top-level scope at In[19]:1",
      " [2] include_string(::Function, ::Module, ::String, ::String) at ./loading.jl:1091"
     ]
    }
   ],
   "source": [
    "nB(v)"
   ]
  },
  {
   "cell_type": "code",
   "execution_count": 20,
   "metadata": {},
   "outputs": [
    {
     "data": {
      "text/plain": [
       "nB (generic function with 1 method)"
      ]
     },
     "execution_count": 20,
     "metadata": {},
     "output_type": "execute_result"
    }
   ],
   "source": [
    "#This function calculates the density observable in the odd sites A\n",
    "function nA(v)\n",
    "    nA = 0\n",
    "    for j=1:length(v)\n",
    "        if j%2 != 0\n",
    "            nA += sum(n_i(v[j])) \n",
    "        end\n",
    "    end\n",
    "    return nA*2/length(v)\n",
    "end\n",
    "\n",
    "#This function calculates the density observable in the even sites B\n",
    "function nB(v)\n",
    "    nB = 0\n",
    "    for j=1:length(v)\n",
    "        if j%2 == 0\n",
    "            nB += sum(n_i(v[j])) \n",
    "        end\n",
    "    end\n",
    "    return nB*2/length(v)\n",
    "end"
   ]
  },
  {
   "cell_type": "code",
   "execution_count": 21,
   "metadata": {},
   "outputs": [
    {
     "data": {
      "text/plain": [
       "Block (generic function with 1 method)"
      ]
     },
     "execution_count": 21,
     "metadata": {},
     "output_type": "execute_result"
    }
   ],
   "source": [
    "#Block analysis\n",
    "function Block(v, Ne, Ni)\n",
    "    \n",
    "    Average_Bin = []\n",
    "    \n",
    "    N=length(v)\n",
    "    \n",
    "    Lbin = Ne\n",
    "    \n",
    "    Nbin = floor(Int,N/Lbin)\n",
    "    \n",
    "    a=0\n",
    "    b=0\n",
    "    \n",
    "    for i in Ni:Nbin\n",
    "       \n",
    "    a = (i-1)*Lbin +1\n",
    "    b = i*Lbin\n",
    "        \n",
    "av_bin = (1/Int(abs(Lbin)))*(sum(v[Int64(a):Int64(b)]))\n",
    "        \n",
    "push!(Average_Bin,av_bin)\n",
    "        \n",
    "    end\n",
    "\n",
    "return sum(Average_Bin)/(Nbin-Ni+1), Nbin\n",
    "\n",
    "end"
   ]
  },
  {
   "cell_type": "code",
   "execution_count": 22,
   "metadata": {},
   "outputs": [
    {
     "data": {
      "text/plain": [
       "move_last_2L (generic function with 1 method)"
      ]
     },
     "execution_count": 22,
     "metadata": {},
     "output_type": "execute_result"
    }
   ],
   "source": [
    "function move_last_2L(w)\n",
    "    v = copy(w)\n",
    "    L = length(v)\n",
    "    i = rand(occupied_states(v))\n",
    "    if i < L+1\n",
    "        j = rand(empty_states(v)[1])\n",
    "        v[j] = v[i]\n",
    "    else \n",
    "        j = rand(empty_states(v)[2])\n",
    "    end\n",
    "    v[i] = 0\n",
    "    b = shortstate(v)\n",
    "    return b\n",
    "end"
   ]
  },
  {
   "cell_type": "code",
   "execution_count": 23,
   "metadata": {},
   "outputs": [
    {
     "data": {
      "text/plain": [
       "hopping (generic function with 1 method)"
      ]
     },
     "execution_count": 23,
     "metadata": {},
     "output_type": "execute_result"
    }
   ],
   "source": [
    "function hopping(v)\n",
    "    w = copy(v)\n",
    "    occupied_positions = occupied_states_L(v)\n",
    "    i = rand(occupied_positions)\n",
    "    nn = [v[i + 1],v[i - 1]]\n",
    "    nnpos = [i + 1, i - 1]\n",
    "    rndnnpos = rand([i + 1,i - 1])\n",
    "    rndnn = rand(nn)\n",
    "    \n",
    "    if nn[1] == 2 && nn[2] == 2 || v[i] == 1 && nn[1] == 1 && nn[2] == 2 || v[i] == 1 && nn[1] == 2 && nn[2] == 1 || v[i] == 1 && nn[1] == 1 && nn[2] == 1 || v[i] == -1 && nn[1] == -1 && nn[2] == 2 || v[i] == -1 && nn[1] == 2 && nn[2] == -1 || v[i] == -1 && nn[1] == -1 && nn[2] == -1\n",
    "        i = rand(deleteat!(occupied_positions, findall(x->x==i,occupied_positions)))\n",
    "    end\n",
    "    \n",
    "    if v[i] == 1 && v[rndnnpos] == 1 || v[i] == 1 && v[rndnnpos] == 2\n",
    "        rndnnpos = rand(deleteat!(nnpos, findall(x->x==rndnnpos, nnpos)))\n",
    "    end\n",
    "    \n",
    "    if v[i] == -1 && v[rndnnpos] == -1 || v[i] == -1 && v[rndnnpos] == 2\n",
    "        rndnnpos = rand(deleteat!(nnpos, findall(x->x==rndnnpos, nnpos)))\n",
    "    end\n",
    "    \n",
    "    if v[i] == 2 && v[rndnnpos] == 2\n",
    "        rndnnpos = rand(deleteat!(nnpos, findall(x->x==rndnnpos, nnpos)))\n",
    "    end\n",
    "     \n",
    "    if v[i] == 1\n",
    "        if v[rndnnpos] == -1\n",
    "            w[i], w[rndnnpos] = 0, 2\n",
    "        elseif v[rndnnpos] == 0\n",
    "            w[i], w[rndnnpos] = 0, 1\n",
    "        end\n",
    "    \n",
    "    elseif v[i] == -1 \n",
    "        if v[rndnnpos] == 1\n",
    "            w[i], w[rndnnpos] = 0, 2\n",
    "        elseif v[rndnnpos] == 0\n",
    "            w[i], w[rndnnpos] = 0, -1\n",
    "        end\n",
    "    \n",
    "    elseif v[i] == 2\n",
    "        if v[rndnnpos] == 1 \n",
    "            w[i], w[rndnnpos] = 1, 2\n",
    "        elseif v[rndnnpos] == -1\n",
    "            w[i], w[rndnnpos] = -1,2\n",
    "        elseif v[rndnnpos] == 0\n",
    "            choosenspin = rand([1,-1])\n",
    "            w[i], w[rndnnpos] = -1*choosenspin, choosenspin\n",
    "        end\n",
    "    end\n",
    "    \n",
    "    return w\n",
    "end"
   ]
  },
  {
   "cell_type": "code",
   "execution_count": 24,
   "metadata": {},
   "outputs": [
    {
     "data": {
      "text/plain": [
       "Block (generic function with 1 method)"
      ]
     },
     "execution_count": 24,
     "metadata": {},
     "output_type": "execute_result"
    }
   ],
   "source": [
    "#Block analysis\n",
    "function Block(v, Ne, Ni)\n",
    "    \n",
    "    Average_Bin = []\n",
    "    \n",
    "    N=length(v)\n",
    "    \n",
    "    Lbin = Ne\n",
    "    \n",
    "    Nbin = floor(Int,N/Lbin)\n",
    "    \n",
    "    a=0\n",
    "    b=0\n",
    "    \n",
    "    for i in Ni:Nbin\n",
    "       \n",
    "    a = (i-1)*Lbin +1\n",
    "    b = i*Lbin\n",
    "        \n",
    "av_bin = (1/Int(abs(Lbin)))*(sum(v[Int64(a):Int64(b)]))\n",
    "        \n",
    "push!(Average_Bin,av_bin)\n",
    "        \n",
    "    end\n",
    "\n",
    "return sum(Average_Bin)/(Nbin-Ni+1), Nbin\n",
    "\n",
    "end"
   ]
  },
  {
   "cell_type": "code",
   "execution_count": 25,
   "metadata": {},
   "outputs": [
    {
     "data": {
      "text/plain": [
       "MC_Ne (generic function with 1 method)"
      ]
     },
     "execution_count": 25,
     "metadata": {},
     "output_type": "execute_result"
    }
   ],
   "source": [
    "#Monte Carlo simulation that calculates <nA> using Block Analysis\n",
    "import Random\n",
    "\n",
    "function MC_Ne(q0, g, v, Ne,Ni, nsteps)\n",
    "    \n",
    "    Random.seed!(1234)\n",
    "    state_L = q0\n",
    "    sumA=0\n",
    "    sumB=0\n",
    "    accepted_moves = 0\n",
    "    accepted_Ne = 0\n",
    "    \n",
    "    Suma_A = []\n",
    "    Suma_B = []\n",
    "    \n",
    "    \n",
    "    for istep = 1:nsteps\n",
    "        state_2L = extendedstate(state_L)\n",
    "        state_new_L = move_L(state_L)\n",
    "        state_new_2L = extendedstate(state_new_L)\n",
    "        acc =  (ratio_det(state_2L,state_new_2L) * (Jastrow(state_new_L,g,v)/Jastrow(state_L,g,v)))^2       #acceptance \n",
    "        \n",
    "        acc = min(1,acc)\n",
    "        \n",
    "        if acc>rand()        #metropolis rule\n",
    "            \n",
    "            accepted_moves += 1 \n",
    "            \n",
    "            n_newA= nA(state_new_L)\n",
    "            sumA+=n_newA\n",
    "            push!(Suma_A,n_newA)\n",
    "            \n",
    "            n_newB= nB(state_new_L)\n",
    "            sumB+=n_newB\n",
    "            push!(Suma_B,n_newB)\n",
    "            \n",
    "            state_L = copy(state_new_L)\n",
    "            #compute observables\n",
    "        \n",
    "            end\n",
    "    \n",
    "    end\n",
    "    \n",
    "    return Block(Suma_A,Ne,Ni), Block(Suma_B,Ne,Ni)\n",
    "\n",
    "end "
   ]
  },
  {
   "cell_type": "code",
   "execution_count": 26,
   "metadata": {},
   "outputs": [
    {
     "data": {
      "text/plain": [
       "MC (generic function with 1 method)"
      ]
     },
     "execution_count": 26,
     "metadata": {},
     "output_type": "execute_result"
    }
   ],
   "source": [
    "import Random\n",
    "\n",
    "function MC(q0, g, v, nsteps) #, Nstates)\n",
    "    Random.seed!(1234)\n",
    "    state_L = q0\n",
    "    sumA=0\n",
    "    sumB=0\n",
    "    accepted_moves = 0\n",
    "    \n",
    "    Suma_A = []\n",
    "    Suma_B = []\n",
    "    \n",
    "    \n",
    "    for istep = 1 : nsteps\n",
    "        \n",
    "        state_2L = extendedstate(state_L)\n",
    "        state_new_L = hopping(state_L)\n",
    "        #state_new_L = move_last_2L(state_2L)\n",
    "        state_new_2L = extendedstate(state_new_L)\n",
    "        acc =  (ratio_det(state_2L,state_new_2L) * (Jastrow(state_new_L,g,v)/Jastrow(state_L,g,v)))^2       #acceptance \n",
    "        acc = min(1,acc)\n",
    "        \n",
    "            if acc>rand()        #metropolis rule\n",
    "\n",
    "                accepted_moves += 1\n",
    "\n",
    "                n_newA= nA(state_new_L)\n",
    "                sumA+=n_newA\n",
    "                #display(n_newA)\n",
    "                #push!(Suma_A,sumA/accepted_move)\n",
    "                push!(Suma_A,n_newA)\n",
    "\n",
    "                n_newB= nB(state_new_L)\n",
    "                sumB+=n_newB\n",
    "                #push!(Suma_B,sumB/accepted_moves)\n",
    "                push!(Suma_B,n_newB)\n",
    "\n",
    "                state_L = copy(state_new_L)\n",
    "                #compute observables\n",
    "            end\n",
    "        \n",
    "    end\n",
    "    \n",
    "    return mean(Suma_A), mean(Suma_B), accepted_moves\n",
    "end \n"
   ]
  },
  {
   "cell_type": "code",
   "execution_count": 40,
   "metadata": {},
   "outputs": [
    {
     "ename": "LoadError",
     "evalue": "\u001b[91mUndefVarError: Lstate not defined\u001b[39m",
     "output_type": "error",
     "traceback": [
      "\u001b[91mUndefVarError: Lstate not defined\u001b[39m",
      "",
      "Stacktrace:",
      " [1] top-level scope at In[40]:1",
      " [2] include_string(::Function, ::Module, ::String, ::String) at ./loading.jl:1091"
     ]
    }
   ],
   "source": [
    "state = Lstate(L)"
   ]
  },
  {
   "cell_type": "code",
   "execution_count": 28,
   "metadata": {},
   "outputs": [
    {
     "data": {
      "text/plain": [
       "1.0"
      ]
     },
     "execution_count": 28,
     "metadata": {},
     "output_type": "execute_result"
    }
   ],
   "source": [
    "v= [1,0,-1,0,1,0,-1,0]\n",
    "\n",
    "Jastrow(v,10,2)"
   ]
  },
  {
   "cell_type": "code",
   "execution_count": 38,
   "metadata": {},
   "outputs": [
    {
     "ename": "LoadError",
     "evalue": "\u001b[91mUndefVarError: state not defined\u001b[39m",
     "output_type": "error",
     "traceback": [
      "\u001b[91mUndefVarError: state not defined\u001b[39m",
      "",
      "Stacktrace:",
      " [1] top-level scope at In[38]:1",
      " [2] include_string(::Function, ::Module, ::String, ::String) at ./loading.jl:1091"
     ]
    }
   ],
   "source": [
    "MC(state, 10, 5, 10000)"
   ]
  },
  {
   "cell_type": "code",
   "execution_count": 30,
   "metadata": {},
   "outputs": [
    {
     "ename": "LoadError",
     "evalue": "\u001b[91mUndefVarError: state not defined\u001b[39m",
     "output_type": "error",
     "traceback": [
      "\u001b[91mUndefVarError: state not defined\u001b[39m",
      "",
      "Stacktrace:",
      " [1] top-level scope at In[30]:1",
      " [2] include_string(::Function, ::Module, ::String, ::String) at ./loading.jl:1091"
     ]
    }
   ],
   "source": [
    "MC_prova = MC(state, 10, 8, 10000)\n",
    "\n",
    "x = collect(1:MC_prova[3])\n",
    "\n",
    "    plot(x,MC_prova[1])\n",
    "    plot!(x,MC_prova[2])\n",
    "\n"
   ]
  },
  {
   "cell_type": "code",
   "execution_count": 105,
   "metadata": {},
   "outputs": [
    {
     "ename": "LoadError",
     "evalue": "\u001b[91mMethodError: no method matching zero(::Type{Any})\u001b[39m\n\u001b[91m\u001b[0mClosest candidates are:\u001b[39m\n\u001b[91m\u001b[0m  zero(::Type{Union{Missing, T}}) where T at missing.jl:104\u001b[39m\n\u001b[91m\u001b[0m  zero(\u001b[91m::Type{Dates.DateTime}\u001b[39m) at /Users/julia/buildbot/worker/package_macos64/build/usr/share/julia/stdlib/v1.5/Dates/src/types.jl:404\u001b[39m\n\u001b[91m\u001b[0m  zero(\u001b[91m::Type{Dates.Date}\u001b[39m) at /Users/julia/buildbot/worker/package_macos64/build/usr/share/julia/stdlib/v1.5/Dates/src/types.jl:405\u001b[39m\n\u001b[91m\u001b[0m  ...\u001b[39m",
     "output_type": "error",
     "traceback": [
      "\u001b[91mMethodError: no method matching zero(::Type{Any})\u001b[39m\n\u001b[91m\u001b[0mClosest candidates are:\u001b[39m\n\u001b[91m\u001b[0m  zero(::Type{Union{Missing, T}}) where T at missing.jl:104\u001b[39m\n\u001b[91m\u001b[0m  zero(\u001b[91m::Type{Dates.DateTime}\u001b[39m) at /Users/julia/buildbot/worker/package_macos64/build/usr/share/julia/stdlib/v1.5/Dates/src/types.jl:404\u001b[39m\n\u001b[91m\u001b[0m  zero(\u001b[91m::Type{Dates.Date}\u001b[39m) at /Users/julia/buildbot/worker/package_macos64/build/usr/share/julia/stdlib/v1.5/Dates/src/types.jl:405\u001b[39m\n\u001b[91m\u001b[0m  ...\u001b[39m",
      "",
      "Stacktrace:",
      " [1] zero(::Type{Any}) at ./missing.jl:105",
      " [2] reduce_empty(::typeof(+), ::Type{Any}) at ./reduce.jl:311",
      " [3] reduce_empty(::typeof(Base.add_sum), ::Type{Any}) at ./reduce.jl:320",
      " [4] mapreduce_empty(::typeof(identity), ::Function, ::Type{T} where T) at ./reduce.jl:343",
      " [5] reduce_empty(::Base.MappingRF{typeof(identity),typeof(Base.add_sum)}, ::Type{Any}) at ./reduce.jl:329",
      " [6] reduce_empty_iter at ./reduce.jl:355 [inlined]",
      " [7] mapreduce_empty_iter(::Function, ::Function, ::Array{Any,1}, ::Base.HasEltype) at ./reduce.jl:351",
      " [8] _mapreduce(::typeof(identity), ::typeof(Base.add_sum), ::IndexLinear, ::Array{Any,1}) at ./reduce.jl:400",
      " [9] _mapreduce_dim at ./reducedim.jl:318 [inlined]",
      " [10] #mapreduce#620 at ./reducedim.jl:310 [inlined]",
      " [11] mapreduce at ./reducedim.jl:310 [inlined]",
      " [12] _sum at ./reducedim.jl:727 [inlined]",
      " [13] _sum at ./reducedim.jl:726 [inlined]",
      " [14] #sum#627 at ./reducedim.jl:722 [inlined]",
      " [15] sum at ./reducedim.jl:722 [inlined]",
      " [16] Block(::Array{Any,1}, ::Int64, ::Int64) at ./In[37]:26",
      " [17] MC_Ne(::Array{Float64,1}, ::Int64, ::Int64, ::Int64, ::Int64, ::Int64) at ./In[38]:44",
      " [18] top-level scope at In[105]:1",
      " [19] include_string(::Function, ::Module, ::String, ::String) at ./loading.jl:1091"
     ]
    }
   ],
   "source": [
    " MC_Ne(state, 10, 8, 50, 30, 100000)"
   ]
  },
  {
   "cell_type": "code",
   "execution_count": 75,
   "metadata": {},
   "outputs": [
    {
     "ename": "BoundsError",
     "evalue": "\u001b[91mBoundsError: attempt to access 7-element UnitRange{Int64} at index [1:14]\u001b[39m",
     "output_type": "error",
     "traceback": [
      "\u001b[91mBoundsError: attempt to access 7-element UnitRange{Int64} at index [1:14]\u001b[39m",
      "",
      "Stacktrace:",
      " [1] throw_boundserror(::UnitRange{Int64}, ::Tuple{UnitRange{Int64}}) at ./abstractarray.jl:541",
      " [2] checkbounds at ./abstractarray.jl:506 [inlined]",
      " [3] getindex(::UnitRange{Int64}, ::UnitRange{Int64}) at ./range.jl:697",
      " [4] gr_draw_segments(::Plots.Series, ::UnitRange{Int64}, ::Array{Float64,1}, ::Nothing, ::Tuple{Float64,Float64}) at /Users/dianal.monroy/.julia/packages/Plots/SVksJ/src/backends/gr.jl:1722",
      " [5] gr_add_series(::Plots.Subplot{Plots.GRBackend}, ::Plots.Series) at /Users/dianal.monroy/.julia/packages/Plots/SVksJ/src/backends/gr.jl:1637",
      " [6] gr_display(::Plots.Subplot{Plots.GRBackend}, ::Measures.Length{:mm,Float64}, ::Measures.Length{:mm,Float64}, ::Array{Float64,1}) at /Users/dianal.monroy/.julia/packages/Plots/SVksJ/src/backends/gr.jl:955",
      " [7] gr_display(::Plots.Plot{Plots.GRBackend}, ::String) at /Users/dianal.monroy/.julia/packages/Plots/SVksJ/src/backends/gr.jl:646",
      " [8] _show(::Base.GenericIOBuffer{Array{UInt8,1}}, ::MIME{Symbol(\"image/svg+xml\")}, ::Plots.Plot{Plots.GRBackend}) at /Users/dianal.monroy/.julia/packages/Plots/SVksJ/src/backends/gr.jl:1893",
      " [9] show(::Base.GenericIOBuffer{Array{UInt8,1}}, ::MIME{Symbol(\"image/svg+xml\")}, ::Plots.Plot{Plots.GRBackend}) at /Users/dianal.monroy/.julia/packages/Plots/SVksJ/src/output.jl:215",
      " [10] sprint(::Function, ::MIME{Symbol(\"image/svg+xml\")}, ::Vararg{Any,N} where N; context::Nothing, sizehint::Int64) at ./strings/io.jl:105",
      " [11] sprint at ./strings/io.jl:101 [inlined]",
      " [12] _ijulia_display_dict(::Plots.Plot{Plots.GRBackend}) at /Users/dianal.monroy/.julia/packages/Plots/SVksJ/src/ijulia.jl:53",
      " [13] display_dict(::Plots.Plot{Plots.GRBackend}) at /Users/dianal.monroy/.julia/packages/Plots/SVksJ/src/init.jl:77",
      " [14] #invokelatest#1 at ./essentials.jl:710 [inlined]",
      " [15] invokelatest at ./essentials.jl:709 [inlined]",
      " [16] execute_request(::ZMQ.Socket, ::IJulia.Msg) at /Users/dianal.monroy/.julia/packages/IJulia/e8kqU/src/execute_request.jl:112",
      " [17] #invokelatest#1 at ./essentials.jl:710 [inlined]",
      " [18] invokelatest at ./essentials.jl:709 [inlined]",
      " [19] eventloop(::ZMQ.Socket) at /Users/dianal.monroy/.julia/packages/IJulia/e8kqU/src/eventloop.jl:8",
      " [20] (::IJulia.var\"#15#18\")() at ./task.jl:356"
     ]
    }
   ],
   "source": [
    "\n",
    "using Plots\n",
    "\n",
    "yA = zeros(0)\n",
    "yB = zeros(0)\n",
    "\n",
    "for v=2:8\n",
    "    MC_prova = MC_Ne(state, 10, v,Ne,4, 1000)\n",
    "    append!(yA, MC_prova[1])\n",
    "    append!(yB, MC_prova[2])\n",
    "end\n",
    "plot(2:8,yA)\n",
    "plot!(2:8,yB)"
   ]
  },
  {
   "cell_type": "code",
   "execution_count": 154,
   "metadata": {},
   "outputs": [
    {
     "data": {
      "image/svg+xml": [
       "<?xml version=\"1.0\" encoding=\"utf-8\"?>\n",
       "<svg xmlns=\"http://www.w3.org/2000/svg\" xmlns:xlink=\"http://www.w3.org/1999/xlink\" width=\"600\" height=\"400\" viewBox=\"0 0 2400 1600\">\n",
       "<defs>\n",
       "  <clipPath id=\"clip570\">\n",
       "    <rect x=\"0\" y=\"0\" width=\"2400\" height=\"1600\"/>\n",
       "  </clipPath>\n",
       "</defs>\n",
       "<path clip-path=\"url(#clip570)\" d=\"\n",
       "M0 1600 L2400 1600 L2400 0 L0 0  Z\n",
       "  \" fill=\"#ffffff\" fill-rule=\"evenodd\" fill-opacity=\"1\"/>\n",
       "<defs>\n",
       "  <clipPath id=\"clip571\">\n",
       "    <rect x=\"480\" y=\"0\" width=\"1681\" height=\"1600\"/>\n",
       "  </clipPath>\n",
       "</defs>\n",
       "<path clip-path=\"url(#clip570)\" d=\"\n",
       "M156.598 1486.45 L2352.76 1486.45 L2352.76 47.2441 L156.598 47.2441  Z\n",
       "  \" fill=\"#ffffff\" fill-rule=\"evenodd\" fill-opacity=\"1\"/>\n",
       "<defs>\n",
       "  <clipPath id=\"clip572\">\n",
       "    <rect x=\"156\" y=\"47\" width=\"2197\" height=\"1440\"/>\n",
       "  </clipPath>\n",
       "</defs>\n",
       "<polyline clip-path=\"url(#clip572)\" style=\"stroke:#000000; stroke-width:2; stroke-opacity:0.1; fill:none\" points=\"\n",
       "  214.602,1486.45 214.602,47.2441 \n",
       "  \"/>\n",
       "<polyline clip-path=\"url(#clip572)\" style=\"stroke:#000000; stroke-width:2; stroke-opacity:0.1; fill:none\" points=\"\n",
       "  629.801,1486.45 629.801,47.2441 \n",
       "  \"/>\n",
       "<polyline clip-path=\"url(#clip572)\" style=\"stroke:#000000; stroke-width:2; stroke-opacity:0.1; fill:none\" points=\"\n",
       "  1045,1486.45 1045,47.2441 \n",
       "  \"/>\n",
       "<polyline clip-path=\"url(#clip572)\" style=\"stroke:#000000; stroke-width:2; stroke-opacity:0.1; fill:none\" points=\"\n",
       "  1460.2,1486.45 1460.2,47.2441 \n",
       "  \"/>\n",
       "<polyline clip-path=\"url(#clip572)\" style=\"stroke:#000000; stroke-width:2; stroke-opacity:0.1; fill:none\" points=\"\n",
       "  1875.4,1486.45 1875.4,47.2441 \n",
       "  \"/>\n",
       "<polyline clip-path=\"url(#clip572)\" style=\"stroke:#000000; stroke-width:2; stroke-opacity:0.1; fill:none\" points=\"\n",
       "  2290.6,1486.45 2290.6,47.2441 \n",
       "  \"/>\n",
       "<polyline clip-path=\"url(#clip570)\" style=\"stroke:#000000; stroke-width:4; stroke-opacity:1; fill:none\" points=\"\n",
       "  156.598,1486.45 2352.76,1486.45 \n",
       "  \"/>\n",
       "<polyline clip-path=\"url(#clip570)\" style=\"stroke:#000000; stroke-width:4; stroke-opacity:1; fill:none\" points=\"\n",
       "  214.602,1486.45 214.602,1469.18 \n",
       "  \"/>\n",
       "<polyline clip-path=\"url(#clip570)\" style=\"stroke:#000000; stroke-width:4; stroke-opacity:1; fill:none\" points=\"\n",
       "  629.801,1486.45 629.801,1469.18 \n",
       "  \"/>\n",
       "<polyline clip-path=\"url(#clip570)\" style=\"stroke:#000000; stroke-width:4; stroke-opacity:1; fill:none\" points=\"\n",
       "  1045,1486.45 1045,1469.18 \n",
       "  \"/>\n",
       "<polyline clip-path=\"url(#clip570)\" style=\"stroke:#000000; stroke-width:4; stroke-opacity:1; fill:none\" points=\"\n",
       "  1460.2,1486.45 1460.2,1469.18 \n",
       "  \"/>\n",
       "<polyline clip-path=\"url(#clip570)\" style=\"stroke:#000000; stroke-width:4; stroke-opacity:1; fill:none\" points=\"\n",
       "  1875.4,1486.45 1875.4,1469.18 \n",
       "  \"/>\n",
       "<polyline clip-path=\"url(#clip570)\" style=\"stroke:#000000; stroke-width:4; stroke-opacity:1; fill:none\" points=\"\n",
       "  2290.6,1486.45 2290.6,1469.18 \n",
       "  \"/>\n",
       "<path clip-path=\"url(#clip570)\" d=\"M 0 0 M214.602 1515.64 Q210.991 1515.64 209.162 1519.2 Q207.356 1522.75 207.356 1529.87 Q207.356 1536.98 209.162 1540.55 Q210.991 1544.09 214.602 1544.09 Q218.236 1544.09 220.041 1540.55 Q221.87 1536.98 221.87 1529.87 Q221.87 1522.75 220.041 1519.2 Q218.236 1515.64 214.602 1515.64 M214.602 1511.93 Q220.412 1511.93 223.467 1516.54 Q226.546 1521.12 226.546 1529.87 Q226.546 1538.6 223.467 1543.21 Q220.412 1547.79 214.602 1547.79 Q208.791 1547.79 205.713 1543.21 Q202.657 1538.6 202.657 1529.87 Q202.657 1521.12 205.713 1516.54 Q208.791 1511.93 214.602 1511.93 Z\" fill=\"#000000\" fill-rule=\"evenodd\" fill-opacity=\"1\" /><path clip-path=\"url(#clip570)\" d=\"M 0 0 M574.327 1543.18 L581.966 1543.18 L581.966 1516.82 L573.656 1518.49 L573.656 1514.23 L581.92 1512.56 L586.596 1512.56 L586.596 1543.18 L594.234 1543.18 L594.234 1547.12 L574.327 1547.12 L574.327 1543.18 Z\" fill=\"#000000\" fill-rule=\"evenodd\" fill-opacity=\"1\" /><path clip-path=\"url(#clip570)\" d=\"M 0 0 M613.679 1515.64 Q610.068 1515.64 608.239 1519.2 Q606.433 1522.75 606.433 1529.87 Q606.433 1536.98 608.239 1540.55 Q610.068 1544.09 613.679 1544.09 Q617.313 1544.09 619.119 1540.55 Q620.947 1536.98 620.947 1529.87 Q620.947 1522.75 619.119 1519.2 Q617.313 1515.64 613.679 1515.64 M613.679 1511.93 Q619.489 1511.93 622.545 1516.54 Q625.623 1521.12 625.623 1529.87 Q625.623 1538.6 622.545 1543.21 Q619.489 1547.79 613.679 1547.79 Q607.869 1547.79 604.79 1543.21 Q601.734 1538.6 601.734 1529.87 Q601.734 1521.12 604.79 1516.54 Q607.869 1511.93 613.679 1511.93 Z\" fill=\"#000000\" fill-rule=\"evenodd\" fill-opacity=\"1\" /><path clip-path=\"url(#clip570)\" d=\"M 0 0 M643.841 1515.64 Q640.23 1515.64 638.401 1519.2 Q636.595 1522.75 636.595 1529.87 Q636.595 1536.98 638.401 1540.55 Q640.23 1544.09 643.841 1544.09 Q647.475 1544.09 649.28 1540.55 Q651.109 1536.98 651.109 1529.87 Q651.109 1522.75 649.28 1519.2 Q647.475 1515.64 643.841 1515.64 M643.841 1511.93 Q649.651 1511.93 652.706 1516.54 Q655.785 1521.12 655.785 1529.87 Q655.785 1538.6 652.706 1543.21 Q649.651 1547.79 643.841 1547.79 Q638.031 1547.79 634.952 1543.21 Q631.896 1538.6 631.896 1529.87 Q631.896 1521.12 634.952 1516.54 Q638.031 1511.93 643.841 1511.93 Z\" fill=\"#000000\" fill-rule=\"evenodd\" fill-opacity=\"1\" /><path clip-path=\"url(#clip570)\" d=\"M 0 0 M674.003 1515.64 Q670.391 1515.64 668.563 1519.2 Q666.757 1522.75 666.757 1529.87 Q666.757 1536.98 668.563 1540.55 Q670.391 1544.09 674.003 1544.09 Q677.637 1544.09 679.442 1540.55 Q681.271 1536.98 681.271 1529.87 Q681.271 1522.75 679.442 1519.2 Q677.637 1515.64 674.003 1515.64 M674.003 1511.93 Q679.813 1511.93 682.868 1516.54 Q685.947 1521.12 685.947 1529.87 Q685.947 1538.6 682.868 1543.21 Q679.813 1547.79 674.003 1547.79 Q668.192 1547.79 665.114 1543.21 Q662.058 1538.6 662.058 1529.87 Q662.058 1521.12 665.114 1516.54 Q668.192 1511.93 674.003 1511.93 Z\" fill=\"#000000\" fill-rule=\"evenodd\" fill-opacity=\"1\" /><path clip-path=\"url(#clip570)\" d=\"M 0 0 M993.613 1543.18 L1009.93 1543.18 L1009.93 1547.12 L987.988 1547.12 L987.988 1543.18 Q990.65 1540.43 995.233 1535.8 Q999.839 1531.15 1001.02 1529.81 Q1003.27 1527.28 1004.14 1525.55 Q1005.05 1523.79 1005.05 1522.1 Q1005.05 1519.34 1003.1 1517.61 Q1001.18 1515.87 998.08 1515.87 Q995.881 1515.87 993.427 1516.63 Q990.997 1517.4 988.219 1518.95 L988.219 1514.23 Q991.043 1513.09 993.497 1512.51 Q995.951 1511.93 997.988 1511.93 Q1003.36 1511.93 1006.55 1514.62 Q1009.75 1517.31 1009.75 1521.8 Q1009.75 1523.93 1008.94 1525.85 Q1008.15 1527.74 1006.04 1530.34 Q1005.46 1531.01 1002.36 1534.23 Q999.261 1537.42 993.613 1543.18 Z\" fill=\"#000000\" fill-rule=\"evenodd\" fill-opacity=\"1\" /><path clip-path=\"url(#clip570)\" d=\"M 0 0 M1029.75 1515.64 Q1026.14 1515.64 1024.31 1519.2 Q1022.5 1522.75 1022.5 1529.87 Q1022.5 1536.98 1024.31 1540.55 Q1026.14 1544.09 1029.75 1544.09 Q1033.38 1544.09 1035.19 1540.55 Q1037.02 1536.98 1037.02 1529.87 Q1037.02 1522.75 1035.19 1519.2 Q1033.38 1515.64 1029.75 1515.64 M1029.75 1511.93 Q1035.56 1511.93 1038.61 1516.54 Q1041.69 1521.12 1041.69 1529.87 Q1041.69 1538.6 1038.61 1543.21 Q1035.56 1547.79 1029.75 1547.79 Q1023.94 1547.79 1020.86 1543.21 Q1017.8 1538.6 1017.8 1529.87 Q1017.8 1521.12 1020.86 1516.54 Q1023.94 1511.93 1029.75 1511.93 Z\" fill=\"#000000\" fill-rule=\"evenodd\" fill-opacity=\"1\" /><path clip-path=\"url(#clip570)\" d=\"M 0 0 M1059.91 1515.64 Q1056.3 1515.64 1054.47 1519.2 Q1052.66 1522.75 1052.66 1529.87 Q1052.66 1536.98 1054.47 1540.55 Q1056.3 1544.09 1059.91 1544.09 Q1063.54 1544.09 1065.35 1540.55 Q1067.18 1536.98 1067.18 1529.87 Q1067.18 1522.75 1065.35 1519.2 Q1063.54 1515.64 1059.91 1515.64 M1059.91 1511.93 Q1065.72 1511.93 1068.77 1516.54 Q1071.85 1521.12 1071.85 1529.87 Q1071.85 1538.6 1068.77 1543.21 Q1065.72 1547.79 1059.91 1547.79 Q1054.1 1547.79 1051.02 1543.21 Q1047.96 1538.6 1047.96 1529.87 Q1047.96 1521.12 1051.02 1516.54 Q1054.1 1511.93 1059.91 1511.93 Z\" fill=\"#000000\" fill-rule=\"evenodd\" fill-opacity=\"1\" /><path clip-path=\"url(#clip570)\" d=\"M 0 0 M1090.07 1515.64 Q1086.46 1515.64 1084.63 1519.2 Q1082.83 1522.75 1082.83 1529.87 Q1082.83 1536.98 1084.63 1540.55 Q1086.46 1544.09 1090.07 1544.09 Q1093.7 1544.09 1095.51 1540.55 Q1097.34 1536.98 1097.34 1529.87 Q1097.34 1522.75 1095.51 1519.2 Q1093.7 1515.64 1090.07 1515.64 M1090.07 1511.93 Q1095.88 1511.93 1098.94 1516.54 Q1102.01 1521.12 1102.01 1529.87 Q1102.01 1538.6 1098.94 1543.21 Q1095.88 1547.79 1090.07 1547.79 Q1084.26 1547.79 1081.18 1543.21 Q1078.13 1538.6 1078.13 1529.87 Q1078.13 1521.12 1081.18 1516.54 Q1084.26 1511.93 1090.07 1511.93 Z\" fill=\"#000000\" fill-rule=\"evenodd\" fill-opacity=\"1\" /><path clip-path=\"url(#clip570)\" d=\"M 0 0 M1418.88 1528.49 Q1422.24 1529.2 1424.11 1531.47 Q1426.01 1533.74 1426.01 1537.07 Q1426.01 1542.19 1422.49 1544.99 Q1418.97 1547.79 1412.49 1547.79 Q1410.32 1547.79 1408 1547.35 Q1405.71 1546.93 1403.26 1546.08 L1403.26 1541.56 Q1405.2 1542.7 1407.52 1543.28 Q1409.83 1543.86 1412.35 1543.86 Q1416.75 1543.86 1419.04 1542.12 Q1421.36 1540.38 1421.36 1537.07 Q1421.36 1534.02 1419.21 1532.31 Q1417.08 1530.57 1413.26 1530.57 L1409.23 1530.57 L1409.23 1526.73 L1413.44 1526.73 Q1416.89 1526.73 1418.72 1525.36 Q1420.55 1523.97 1420.55 1521.38 Q1420.55 1518.72 1418.65 1517.31 Q1416.78 1515.87 1413.26 1515.87 Q1411.34 1515.87 1409.14 1516.29 Q1406.94 1516.7 1404.3 1517.58 L1404.3 1513.42 Q1406.96 1512.68 1409.28 1512.31 Q1411.61 1511.93 1413.67 1511.93 Q1419 1511.93 1422.1 1514.37 Q1425.2 1516.77 1425.2 1520.89 Q1425.2 1523.76 1423.56 1525.75 Q1421.91 1527.72 1418.88 1528.49 Z\" fill=\"#000000\" fill-rule=\"evenodd\" fill-opacity=\"1\" /><path clip-path=\"url(#clip570)\" d=\"M 0 0 M1444.88 1515.64 Q1441.27 1515.64 1439.44 1519.2 Q1437.63 1522.75 1437.63 1529.87 Q1437.63 1536.98 1439.44 1540.55 Q1441.27 1544.09 1444.88 1544.09 Q1448.51 1544.09 1450.32 1540.55 Q1452.15 1536.98 1452.15 1529.87 Q1452.15 1522.75 1450.32 1519.2 Q1448.51 1515.64 1444.88 1515.64 M1444.88 1511.93 Q1450.69 1511.93 1453.74 1516.54 Q1456.82 1521.12 1456.82 1529.87 Q1456.82 1538.6 1453.74 1543.21 Q1450.69 1547.79 1444.88 1547.79 Q1439.07 1547.79 1435.99 1543.21 Q1432.93 1538.6 1432.93 1529.87 Q1432.93 1521.12 1435.99 1516.54 Q1439.07 1511.93 1444.88 1511.93 Z\" fill=\"#000000\" fill-rule=\"evenodd\" fill-opacity=\"1\" /><path clip-path=\"url(#clip570)\" d=\"M 0 0 M1475.04 1515.64 Q1471.43 1515.64 1469.6 1519.2 Q1467.79 1522.75 1467.79 1529.87 Q1467.79 1536.98 1469.6 1540.55 Q1471.43 1544.09 1475.04 1544.09 Q1478.67 1544.09 1480.48 1540.55 Q1482.31 1536.98 1482.31 1529.87 Q1482.31 1522.75 1480.48 1519.2 Q1478.67 1515.64 1475.04 1515.64 M1475.04 1511.93 Q1480.85 1511.93 1483.9 1516.54 Q1486.98 1521.12 1486.98 1529.87 Q1486.98 1538.6 1483.9 1543.21 Q1480.85 1547.79 1475.04 1547.79 Q1469.23 1547.79 1466.15 1543.21 Q1463.09 1538.6 1463.09 1529.87 Q1463.09 1521.12 1466.15 1516.54 Q1469.23 1511.93 1475.04 1511.93 Z\" fill=\"#000000\" fill-rule=\"evenodd\" fill-opacity=\"1\" /><path clip-path=\"url(#clip570)\" d=\"M 0 0 M1505.2 1515.64 Q1501.59 1515.64 1499.76 1519.2 Q1497.96 1522.75 1497.96 1529.87 Q1497.96 1536.98 1499.76 1540.55 Q1501.59 1544.09 1505.2 1544.09 Q1508.83 1544.09 1510.64 1540.55 Q1512.47 1536.98 1512.47 1529.87 Q1512.47 1522.75 1510.64 1519.2 Q1508.83 1515.64 1505.2 1515.64 M1505.2 1511.93 Q1511.01 1511.93 1514.07 1516.54 Q1517.15 1521.12 1517.15 1529.87 Q1517.15 1538.6 1514.07 1543.21 Q1511.01 1547.79 1505.2 1547.79 Q1499.39 1547.79 1496.31 1543.21 Q1493.26 1538.6 1493.26 1529.87 Q1493.26 1521.12 1496.31 1516.54 Q1499.39 1511.93 1505.2 1511.93 Z\" fill=\"#000000\" fill-rule=\"evenodd\" fill-opacity=\"1\" /><path clip-path=\"url(#clip570)\" d=\"M 0 0 M1833.41 1516.63 L1821.6 1535.08 L1833.41 1535.08 L1833.41 1516.63 M1832.18 1512.56 L1838.06 1512.56 L1838.06 1535.08 L1842.99 1535.08 L1842.99 1538.97 L1838.06 1538.97 L1838.06 1547.12 L1833.41 1547.12 L1833.41 1538.97 L1817.81 1538.97 L1817.81 1534.46 L1832.18 1512.56 Z\" fill=\"#000000\" fill-rule=\"evenodd\" fill-opacity=\"1\" /><path clip-path=\"url(#clip570)\" d=\"M 0 0 M1860.72 1515.64 Q1857.11 1515.64 1855.29 1519.2 Q1853.48 1522.75 1853.48 1529.87 Q1853.48 1536.98 1855.29 1540.55 Q1857.11 1544.09 1860.72 1544.09 Q1864.36 1544.09 1866.16 1540.55 Q1867.99 1536.98 1867.99 1529.87 Q1867.99 1522.75 1866.16 1519.2 Q1864.36 1515.64 1860.72 1515.64 M1860.72 1511.93 Q1866.54 1511.93 1869.59 1516.54 Q1872.67 1521.12 1872.67 1529.87 Q1872.67 1538.6 1869.59 1543.21 Q1866.54 1547.79 1860.72 1547.79 Q1854.91 1547.79 1851.84 1543.21 Q1848.78 1538.6 1848.78 1529.87 Q1848.78 1521.12 1851.84 1516.54 Q1854.91 1511.93 1860.72 1511.93 Z\" fill=\"#000000\" fill-rule=\"evenodd\" fill-opacity=\"1\" /><path clip-path=\"url(#clip570)\" d=\"M 0 0 M1890.89 1515.64 Q1887.28 1515.64 1885.45 1519.2 Q1883.64 1522.75 1883.64 1529.87 Q1883.64 1536.98 1885.45 1540.55 Q1887.28 1544.09 1890.89 1544.09 Q1894.52 1544.09 1896.33 1540.55 Q1898.16 1536.98 1898.16 1529.87 Q1898.16 1522.75 1896.33 1519.2 Q1894.52 1515.64 1890.89 1515.64 M1890.89 1511.93 Q1896.7 1511.93 1899.75 1516.54 Q1902.83 1521.12 1902.83 1529.87 Q1902.83 1538.6 1899.75 1543.21 Q1896.7 1547.79 1890.89 1547.79 Q1885.08 1547.79 1882 1543.21 Q1878.94 1538.6 1878.94 1529.87 Q1878.94 1521.12 1882 1516.54 Q1885.08 1511.93 1890.89 1511.93 Z\" fill=\"#000000\" fill-rule=\"evenodd\" fill-opacity=\"1\" /><path clip-path=\"url(#clip570)\" d=\"M 0 0 M1921.05 1515.64 Q1917.44 1515.64 1915.61 1519.2 Q1913.8 1522.75 1913.8 1529.87 Q1913.8 1536.98 1915.61 1540.55 Q1917.44 1544.09 1921.05 1544.09 Q1924.68 1544.09 1926.49 1540.55 Q1928.32 1536.98 1928.32 1529.87 Q1928.32 1522.75 1926.49 1519.2 Q1924.68 1515.64 1921.05 1515.64 M1921.05 1511.93 Q1926.86 1511.93 1929.91 1516.54 Q1932.99 1521.12 1932.99 1529.87 Q1932.99 1538.6 1929.91 1543.21 Q1926.86 1547.79 1921.05 1547.79 Q1915.24 1547.79 1912.16 1543.21 Q1909.1 1538.6 1909.1 1529.87 Q1909.1 1521.12 1912.16 1516.54 Q1915.24 1511.93 1921.05 1511.93 Z\" fill=\"#000000\" fill-rule=\"evenodd\" fill-opacity=\"1\" /><path clip-path=\"url(#clip570)\" d=\"M 0 0 M2235.14 1512.56 L2253.49 1512.56 L2253.49 1516.5 L2239.42 1516.5 L2239.42 1524.97 Q2240.44 1524.62 2241.46 1524.46 Q2242.48 1524.27 2243.49 1524.27 Q2249.28 1524.27 2252.66 1527.44 Q2256.04 1530.62 2256.04 1536.03 Q2256.04 1541.61 2252.57 1544.71 Q2249.1 1547.79 2242.78 1547.79 Q2240.6 1547.79 2238.33 1547.42 Q2236.09 1547.05 2233.68 1546.31 L2233.68 1541.61 Q2235.76 1542.74 2237.99 1543.3 Q2240.21 1543.86 2242.68 1543.86 Q2246.69 1543.86 2249.03 1541.75 Q2251.36 1539.64 2251.36 1536.03 Q2251.36 1532.42 2249.03 1530.31 Q2246.69 1528.21 2242.68 1528.21 Q2240.81 1528.21 2238.93 1528.62 Q2237.08 1529.04 2235.14 1529.92 L2235.14 1512.56 Z\" fill=\"#000000\" fill-rule=\"evenodd\" fill-opacity=\"1\" /><path clip-path=\"url(#clip570)\" d=\"M 0 0 M2275.25 1515.64 Q2271.64 1515.64 2269.81 1519.2 Q2268.01 1522.75 2268.01 1529.87 Q2268.01 1536.98 2269.81 1540.55 Q2271.64 1544.09 2275.25 1544.09 Q2278.89 1544.09 2280.69 1540.55 Q2282.52 1536.98 2282.52 1529.87 Q2282.52 1522.75 2280.69 1519.2 Q2278.89 1515.64 2275.25 1515.64 M2275.25 1511.93 Q2281.06 1511.93 2284.12 1516.54 Q2287.2 1521.12 2287.2 1529.87 Q2287.2 1538.6 2284.12 1543.21 Q2281.06 1547.79 2275.25 1547.79 Q2269.44 1547.79 2266.36 1543.21 Q2263.31 1538.6 2263.31 1529.87 Q2263.31 1521.12 2266.36 1516.54 Q2269.44 1511.93 2275.25 1511.93 Z\" fill=\"#000000\" fill-rule=\"evenodd\" fill-opacity=\"1\" /><path clip-path=\"url(#clip570)\" d=\"M 0 0 M2305.42 1515.64 Q2301.8 1515.64 2299.98 1519.2 Q2298.17 1522.75 2298.17 1529.87 Q2298.17 1536.98 2299.98 1540.55 Q2301.8 1544.09 2305.42 1544.09 Q2309.05 1544.09 2310.86 1540.55 Q2312.68 1536.98 2312.68 1529.87 Q2312.68 1522.75 2310.86 1519.2 Q2309.05 1515.64 2305.42 1515.64 M2305.42 1511.93 Q2311.23 1511.93 2314.28 1516.54 Q2317.36 1521.12 2317.36 1529.87 Q2317.36 1538.6 2314.28 1543.21 Q2311.23 1547.79 2305.42 1547.79 Q2299.61 1547.79 2296.53 1543.21 Q2293.47 1538.6 2293.47 1529.87 Q2293.47 1521.12 2296.53 1516.54 Q2299.61 1511.93 2305.42 1511.93 Z\" fill=\"#000000\" fill-rule=\"evenodd\" fill-opacity=\"1\" /><path clip-path=\"url(#clip570)\" d=\"M 0 0 M2335.58 1515.64 Q2331.97 1515.64 2330.14 1519.2 Q2328.33 1522.75 2328.33 1529.87 Q2328.33 1536.98 2330.14 1540.55 Q2331.97 1544.09 2335.58 1544.09 Q2339.21 1544.09 2341.02 1540.55 Q2342.85 1536.98 2342.85 1529.87 Q2342.85 1522.75 2341.02 1519.2 Q2339.21 1515.64 2335.58 1515.64 M2335.58 1511.93 Q2341.39 1511.93 2344.44 1516.54 Q2347.52 1521.12 2347.52 1529.87 Q2347.52 1538.6 2344.44 1543.21 Q2341.39 1547.79 2335.58 1547.79 Q2329.77 1547.79 2326.69 1543.21 Q2323.63 1538.6 2323.63 1529.87 Q2323.63 1521.12 2326.69 1516.54 Q2329.77 1511.93 2335.58 1511.93 Z\" fill=\"#000000\" fill-rule=\"evenodd\" fill-opacity=\"1\" /><polyline clip-path=\"url(#clip572)\" style=\"stroke:#000000; stroke-width:2; stroke-opacity:0.1; fill:none\" points=\"\n",
       "  156.598,1288.29 2352.76,1288.29 \n",
       "  \"/>\n",
       "<polyline clip-path=\"url(#clip572)\" style=\"stroke:#000000; stroke-width:2; stroke-opacity:0.1; fill:none\" points=\"\n",
       "  156.598,940.662 2352.76,940.662 \n",
       "  \"/>\n",
       "<polyline clip-path=\"url(#clip572)\" style=\"stroke:#000000; stroke-width:2; stroke-opacity:0.1; fill:none\" points=\"\n",
       "  156.598,593.03 2352.76,593.03 \n",
       "  \"/>\n",
       "<polyline clip-path=\"url(#clip572)\" style=\"stroke:#000000; stroke-width:2; stroke-opacity:0.1; fill:none\" points=\"\n",
       "  156.598,245.399 2352.76,245.399 \n",
       "  \"/>\n",
       "<polyline clip-path=\"url(#clip570)\" style=\"stroke:#000000; stroke-width:4; stroke-opacity:1; fill:none\" points=\"\n",
       "  156.598,1486.45 156.598,47.2441 \n",
       "  \"/>\n",
       "<polyline clip-path=\"url(#clip570)\" style=\"stroke:#000000; stroke-width:4; stroke-opacity:1; fill:none\" points=\"\n",
       "  156.598,1288.29 182.952,1288.29 \n",
       "  \"/>\n",
       "<polyline clip-path=\"url(#clip570)\" style=\"stroke:#000000; stroke-width:4; stroke-opacity:1; fill:none\" points=\"\n",
       "  156.598,940.662 182.952,940.662 \n",
       "  \"/>\n",
       "<polyline clip-path=\"url(#clip570)\" style=\"stroke:#000000; stroke-width:4; stroke-opacity:1; fill:none\" points=\"\n",
       "  156.598,593.03 182.952,593.03 \n",
       "  \"/>\n",
       "<polyline clip-path=\"url(#clip570)\" style=\"stroke:#000000; stroke-width:4; stroke-opacity:1; fill:none\" points=\"\n",
       "  156.598,245.399 182.952,245.399 \n",
       "  \"/>\n",
       "<path clip-path=\"url(#clip570)\" d=\"M 0 0 M65.0198 1274.09 Q61.4087 1274.09 59.58 1277.66 Q57.7745 1281.2 57.7745 1288.33 Q57.7745 1295.43 59.58 1299 Q61.4087 1302.54 65.0198 1302.54 Q68.6541 1302.54 70.4596 1299 Q72.2883 1295.43 72.2883 1288.33 Q72.2883 1281.2 70.4596 1277.66 Q68.6541 1274.09 65.0198 1274.09 M65.0198 1270.39 Q70.83 1270.39 73.8855 1274.99 Q76.9642 1279.58 76.9642 1288.33 Q76.9642 1297.05 73.8855 1301.66 Q70.83 1306.24 65.0198 1306.24 Q59.2097 1306.24 56.131 1301.66 Q53.0754 1297.05 53.0754 1288.33 Q53.0754 1279.58 56.131 1274.99 Q59.2097 1270.39 65.0198 1270.39 Z\" fill=\"#000000\" fill-rule=\"evenodd\" fill-opacity=\"1\" /><path clip-path=\"url(#clip570)\" d=\"M 0 0 M85.1818 1299.69 L90.066 1299.69 L90.066 1305.57 L85.1818 1305.57 L85.1818 1299.69 Z\" fill=\"#000000\" fill-rule=\"evenodd\" fill-opacity=\"1\" /><path clip-path=\"url(#clip570)\" d=\"M 0 0 M104.279 1301.64 L120.598 1301.64 L120.598 1305.57 L98.6539 1305.57 L98.6539 1301.64 Q101.316 1298.88 105.899 1294.25 Q110.506 1289.6 111.686 1288.26 Q113.932 1285.74 114.811 1284 Q115.714 1282.24 115.714 1280.55 Q115.714 1277.8 113.77 1276.06 Q111.848 1274.32 108.746 1274.32 Q106.547 1274.32 104.094 1275.09 Q101.663 1275.85 98.8854 1277.4 L98.8854 1272.68 Q101.709 1271.55 104.163 1270.97 Q106.617 1270.39 108.654 1270.39 Q114.024 1270.39 117.219 1273.07 Q120.413 1275.76 120.413 1280.25 Q120.413 1282.38 119.603 1284.3 Q118.816 1286.2 116.709 1288.79 Q116.131 1289.46 113.029 1292.68 Q109.927 1295.87 104.279 1301.64 Z\" fill=\"#000000\" fill-rule=\"evenodd\" fill-opacity=\"1\" /><path clip-path=\"url(#clip570)\" d=\"M 0 0 M62.9365 926.46 Q59.3254 926.46 57.4967 930.025 Q55.6912 933.567 55.6912 940.696 Q55.6912 947.803 57.4967 951.368 Q59.3254 954.909 62.9365 954.909 Q66.5707 954.909 68.3763 951.368 Q70.205 947.803 70.205 940.696 Q70.205 933.567 68.3763 930.025 Q66.5707 926.46 62.9365 926.46 M62.9365 922.757 Q68.7467 922.757 71.8022 927.363 Q74.8809 931.946 74.8809 940.696 Q74.8809 949.423 71.8022 954.03 Q68.7467 958.613 62.9365 958.613 Q57.1264 958.613 54.0477 954.03 Q50.9921 949.423 50.9921 940.696 Q50.9921 931.946 54.0477 927.363 Q57.1264 922.757 62.9365 922.757 Z\" fill=\"#000000\" fill-rule=\"evenodd\" fill-opacity=\"1\" /><path clip-path=\"url(#clip570)\" d=\"M 0 0 M83.0984 952.062 L87.9827 952.062 L87.9827 957.942 L83.0984 957.942 L83.0984 952.062 Z\" fill=\"#000000\" fill-rule=\"evenodd\" fill-opacity=\"1\" /><path clip-path=\"url(#clip570)\" d=\"M 0 0 M111.015 927.456 L99.2095 945.905 L111.015 945.905 L111.015 927.456 M109.788 923.382 L115.668 923.382 L115.668 945.905 L120.598 945.905 L120.598 949.794 L115.668 949.794 L115.668 957.942 L111.015 957.942 L111.015 949.794 L95.4132 949.794 L95.4132 945.28 L109.788 923.382 Z\" fill=\"#000000\" fill-rule=\"evenodd\" fill-opacity=\"1\" /><path clip-path=\"url(#clip570)\" d=\"M 0 0 M63.2606 578.829 Q59.6495 578.829 57.8208 582.394 Q56.0152 585.935 56.0152 593.065 Q56.0152 600.171 57.8208 603.736 Q59.6495 607.278 63.2606 607.278 Q66.8948 607.278 68.7004 603.736 Q70.5291 600.171 70.5291 593.065 Q70.5291 585.935 68.7004 582.394 Q66.8948 578.829 63.2606 578.829 M63.2606 575.125 Q69.0707 575.125 72.1263 579.732 Q75.205 584.315 75.205 593.065 Q75.205 601.792 72.1263 606.398 Q69.0707 610.982 63.2606 610.982 Q57.4504 610.982 54.3717 606.398 Q51.3162 601.792 51.3162 593.065 Q51.3162 584.315 54.3717 579.732 Q57.4504 575.125 63.2606 575.125 Z\" fill=\"#000000\" fill-rule=\"evenodd\" fill-opacity=\"1\" /><path clip-path=\"url(#clip570)\" d=\"M 0 0 M83.4225 604.431 L88.3067 604.431 L88.3067 610.31 L83.4225 610.31 L83.4225 604.431 Z\" fill=\"#000000\" fill-rule=\"evenodd\" fill-opacity=\"1\" /><path clip-path=\"url(#clip570)\" d=\"M 0 0 M109.071 591.167 Q105.922 591.167 104.071 593.32 Q102.242 595.472 102.242 599.222 Q102.242 602.949 104.071 605.125 Q105.922 607.278 109.071 607.278 Q112.219 607.278 114.047 605.125 Q115.899 602.949 115.899 599.222 Q115.899 595.472 114.047 593.32 Q112.219 591.167 109.071 591.167 M118.353 576.514 L118.353 580.773 Q116.594 579.94 114.788 579.5 Q113.006 579.06 111.246 579.06 Q106.617 579.06 104.163 582.185 Q101.733 585.31 101.385 591.63 Q102.751 589.616 104.811 588.551 Q106.871 587.463 109.348 587.463 Q114.557 587.463 117.566 590.635 Q120.598 593.783 120.598 599.222 Q120.598 604.546 117.45 607.764 Q114.302 610.982 109.071 610.982 Q103.075 610.982 99.9039 606.398 Q96.7326 601.792 96.7326 593.065 Q96.7326 584.871 100.621 580.01 Q104.51 575.125 111.061 575.125 Q112.82 575.125 114.603 575.473 Q116.408 575.82 118.353 576.514 Z\" fill=\"#000000\" fill-rule=\"evenodd\" fill-opacity=\"1\" /><path clip-path=\"url(#clip570)\" d=\"M 0 0 M63.5152 231.198 Q59.9041 231.198 58.0754 234.762 Q56.2699 238.304 56.2699 245.434 Q56.2699 252.54 58.0754 256.105 Q59.9041 259.647 63.5152 259.647 Q67.1494 259.647 68.955 256.105 Q70.7837 252.54 70.7837 245.434 Q70.7837 238.304 68.955 234.762 Q67.1494 231.198 63.5152 231.198 M63.5152 227.494 Q69.3254 227.494 72.3809 232.1 Q75.4596 236.684 75.4596 245.434 Q75.4596 254.161 72.3809 258.767 Q69.3254 263.35 63.5152 263.35 Q57.7051 263.35 54.6264 258.767 Q51.5708 254.161 51.5708 245.434 Q51.5708 236.684 54.6264 232.1 Q57.7051 227.494 63.5152 227.494 Z\" fill=\"#000000\" fill-rule=\"evenodd\" fill-opacity=\"1\" /><path clip-path=\"url(#clip570)\" d=\"M 0 0 M83.6771 256.799 L88.5614 256.799 L88.5614 262.679 L83.6771 262.679 L83.6771 256.799 Z\" fill=\"#000000\" fill-rule=\"evenodd\" fill-opacity=\"1\" /><path clip-path=\"url(#clip570)\" d=\"M 0 0 M108.746 246.267 Q105.413 246.267 103.492 248.049 Q101.594 249.832 101.594 252.957 Q101.594 256.082 103.492 257.864 Q105.413 259.647 108.746 259.647 Q112.08 259.647 114.001 257.864 Q115.922 256.059 115.922 252.957 Q115.922 249.832 114.001 248.049 Q112.103 246.267 108.746 246.267 M104.071 244.276 Q101.061 243.536 99.3715 241.475 Q97.7048 239.415 97.7048 236.452 Q97.7048 232.309 100.645 229.901 Q103.608 227.494 108.746 227.494 Q113.908 227.494 116.848 229.901 Q119.788 232.309 119.788 236.452 Q119.788 239.415 118.098 241.475 Q116.432 243.536 113.445 244.276 Q116.825 245.063 118.7 247.355 Q120.598 249.647 120.598 252.957 Q120.598 257.98 117.52 260.665 Q114.464 263.35 108.746 263.35 Q103.029 263.35 99.9502 260.665 Q96.8947 257.98 96.8947 252.957 Q96.8947 249.647 98.7928 247.355 Q100.691 245.063 104.071 244.276 M102.358 236.892 Q102.358 239.577 104.024 241.082 Q105.714 242.587 108.746 242.587 Q111.756 242.587 113.445 241.082 Q115.158 239.577 115.158 236.892 Q115.158 234.207 113.445 232.702 Q111.756 231.198 108.746 231.198 Q105.714 231.198 104.024 232.702 Q102.358 234.207 102.358 236.892 Z\" fill=\"#000000\" fill-rule=\"evenodd\" fill-opacity=\"1\" /><polyline clip-path=\"url(#clip572)\" style=\"stroke:#009af9; stroke-width:4; stroke-opacity:1; fill:none\" points=\"\n",
       "  218.754,1418.65 422.202,1445.72 629.801,1445.72 1045,1445.72 2290.6,1445.72 \n",
       "  \"/>\n",
       "<polyline clip-path=\"url(#clip572)\" style=\"stroke:#e26f46; stroke-width:4; stroke-opacity:1; fill:none\" points=\"\n",
       "  218.754,115.037 422.202,87.9763 629.801,87.9763 1045,87.9763 2290.6,87.9763 \n",
       "  \"/>\n",
       "<path clip-path=\"url(#clip570)\" d=\"\n",
       "M1983.1 276.658 L2279.55 276.658 L2279.55 95.2176 L1983.1 95.2176  Z\n",
       "  \" fill=\"#ffffff\" fill-rule=\"evenodd\" fill-opacity=\"1\"/>\n",
       "<polyline clip-path=\"url(#clip570)\" style=\"stroke:#000000; stroke-width:4; stroke-opacity:1; fill:none\" points=\"\n",
       "  1983.1,276.658 2279.55,276.658 2279.55,95.2176 1983.1,95.2176 1983.1,276.658 \n",
       "  \"/>\n",
       "<polyline clip-path=\"url(#clip570)\" style=\"stroke:#009af9; stroke-width:4; stroke-opacity:1; fill:none\" points=\"\n",
       "  2007.5,155.698 2153.92,155.698 \n",
       "  \"/>\n",
       "<path clip-path=\"url(#clip570)\" d=\"M 0 0 M2192.16 175.385 Q2190.35 180.015 2188.64 181.427 Q2186.93 182.839 2184.06 182.839 L2180.65 182.839 L2180.65 179.274 L2183.15 179.274 Q2184.91 179.274 2185.89 178.44 Q2186.86 177.607 2188.04 174.505 L2188.8 172.561 L2178.32 147.052 L2182.83 147.052 L2190.93 167.329 L2199.03 147.052 L2203.55 147.052 L2192.16 175.385 Z\" fill=\"#000000\" fill-rule=\"evenodd\" fill-opacity=\"1\" /><path clip-path=\"url(#clip570)\" d=\"M 0 0 M2210.84 169.042 L2218.48 169.042 L2218.48 142.677 L2210.17 144.343 L2210.17 140.084 L2218.43 138.418 L2223.11 138.418 L2223.11 169.042 L2230.75 169.042 L2230.75 172.978 L2210.84 172.978 L2210.84 169.042 Z\" fill=\"#000000\" fill-rule=\"evenodd\" fill-opacity=\"1\" /><polyline clip-path=\"url(#clip570)\" style=\"stroke:#e26f46; stroke-width:4; stroke-opacity:1; fill:none\" points=\"\n",
       "  2007.5,216.178 2153.92,216.178 \n",
       "  \"/>\n",
       "<path clip-path=\"url(#clip570)\" d=\"M 0 0 M2192.16 235.865 Q2190.35 240.495 2188.64 241.907 Q2186.93 243.319 2184.06 243.319 L2180.65 243.319 L2180.65 239.754 L2183.15 239.754 Q2184.91 239.754 2185.89 238.92 Q2186.86 238.087 2188.04 234.985 L2188.8 233.041 L2178.32 207.532 L2182.83 207.532 L2190.93 227.809 L2199.03 207.532 L2203.55 207.532 L2192.16 235.865 Z\" fill=\"#000000\" fill-rule=\"evenodd\" fill-opacity=\"1\" /><path clip-path=\"url(#clip570)\" d=\"M 0 0 M2214.06 229.522 L2230.38 229.522 L2230.38 233.458 L2208.43 233.458 L2208.43 229.522 Q2211.09 226.768 2215.68 222.138 Q2220.28 217.485 2221.46 216.143 Q2223.71 213.62 2224.59 211.884 Q2225.49 210.124 2225.49 208.435 Q2225.49 205.68 2223.55 203.944 Q2221.63 202.208 2218.52 202.208 Q2216.33 202.208 2213.87 202.972 Q2211.44 203.735 2208.66 205.286 L2208.66 200.564 Q2211.49 199.43 2213.94 198.851 Q2216.4 198.273 2218.43 198.273 Q2223.8 198.273 2227 200.958 Q2230.19 203.643 2230.19 208.134 Q2230.19 210.263 2229.38 212.185 Q2228.59 214.083 2226.49 216.675 Q2225.91 217.347 2222.81 220.564 Q2219.71 223.759 2214.06 229.522 Z\" fill=\"#000000\" fill-rule=\"evenodd\" fill-opacity=\"1\" /></svg>\n"
      ]
     },
     "execution_count": 154,
     "metadata": {},
     "output_type": "execute_result"
    }
   ],
   "source": [
    "using Plots\n",
    "\n",
    "yA = zeros(0)\n",
    "yB = zeros(0)\n",
    "\n",
    "n = collect(0)\n",
    "\n",
    "for nsteps in n\n",
    "    \n",
    "    MC_prova = MC(state, 10, 6, nsteps)\n",
    "    \n",
    "    append!(yA, MC_prova[1])\n",
    "    append!(yB, MC_prova[2])\n",
    "end\n",
    "\n",
    "plot(n,yA)\n",
    "plot!(n,yB)"
   ]
  },
  {
   "cell_type": "code",
   "execution_count": null,
   "metadata": {},
   "outputs": [],
   "source": []
  },
  {
   "cell_type": "code",
   "execution_count": null,
   "metadata": {},
   "outputs": [],
   "source": []
  }
 ],
 "metadata": {
  "kernelspec": {
   "display_name": "Julia 1.5.3",
   "language": "julia",
   "name": "julia-1.5"
  },
  "language_info": {
   "file_extension": ".jl",
   "mimetype": "application/julia",
   "name": "julia",
   "version": "1.5.3"
  }
 },
 "nbformat": 4,
 "nbformat_minor": 4
}
