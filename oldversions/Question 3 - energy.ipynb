{
 "cells": [
  {
   "cell_type": "code",
   "execution_count": 78,
   "metadata": {},
   "outputs": [],
   "source": [
    "import Pkg; Pkg.add(\"StatsBase\")"
   ]
  },
  {
   "cell_type": "code",
   "execution_count": 79,
   "metadata": {},
   "outputs": [
    {
     "data": {
      "text/plain": [
       "22"
      ]
     },
     "execution_count": 79,
     "metadata": {},
     "output_type": "execute_result"
    }
   ],
   "source": [
    "n = 5\n",
    "L = 8*n + 4\n",
    "t = 1\n",
    "Ne = Int(L / 2)"
   ]
  },
  {
   "cell_type": "code",
   "execution_count": 80,
   "metadata": {},
   "outputs": [],
   "source": [
    "#Hamiltonian\n",
    "function Hamiltonian(L,t)\n",
    "    H = zeros(2*L, 2*L)\n",
    "    H[1,L] = -t\n",
    "    H[L,1] = -t\n",
    "    H[2L,L+1] = -t\n",
    "    H[L+1,2L] = -t\n",
    "    for i=1:2*L\n",
    "      for j=1:2*L\n",
    "        if i == j + 1 || i == j - 1\n",
    "          H[i,j] = -t\n",
    "        end \n",
    "      end\n",
    "    end\n",
    "    H[L,L+1]=0\n",
    "    H[L+1,L]=0\n",
    "    return H\n",
    "end\n",
    "\n",
    "H = Hamiltonian(L,t);"
   ]
  },
  {
   "cell_type": "code",
   "execution_count": 81,
   "metadata": {},
   "outputs": [
    {
     "data": {
      "text/plain": [
       "shortstate (generic function with 1 method)"
      ]
     },
     "execution_count": 81,
     "metadata": {},
     "output_type": "execute_result"
    }
   ],
   "source": [
    "#generate, convert state\n",
    "using StatsBase\n",
    "\n",
    "function Lstate(L)                                 #generate a state of length L\n",
    "    Lstated, Lstateu, Lstate = zeros(L), zeros(L), zeros(L)\n",
    "    randomposu = sample(collect(1:L), Int(L/4), replace=false)\n",
    "    randomposd = sample(collect(1:L), Int(L/4), replace=false)\n",
    "    for j in randomposu\n",
    "        Lstateu[j] = 1\n",
    "    end\n",
    "    for j in randomposd\n",
    "        Lstated[j] = -1\n",
    "    end\n",
    "    for i=1:L \n",
    "        if Lstated[i] == -1 && Lstateu[i] == 1\n",
    "            Lstate[i] = 2\n",
    "        else\n",
    "            Lstate[i] = Lstated[i] + Lstateu[i]\n",
    "        end\n",
    "    end\n",
    "    return Lstate\n",
    "end\n",
    "\n",
    "function extendedstate(Lstatevector)               #take a state of length L and make it 2*L\n",
    "    L = length(Lstatevector)\n",
    "    State2L = zeros(2*L)\n",
    "    for j=1:L\n",
    "        if Lstatevector[j] == -1\n",
    "            State2L[j + L] = 1\n",
    "        elseif Lstatevector[j] == 1\n",
    "            State2L[j] = 1\n",
    "        elseif Lstatevector[j] == 2\n",
    "            State2L[j], State2L[j + L] = 1,1\n",
    "        else\n",
    "            State2L[j] = 0\n",
    "        end\n",
    "    end\n",
    "    return State2L\n",
    "end\n",
    "\n",
    "function shortstate(ext_state)                    #pass trom 2*L state to L state\n",
    "    L = Int(length(ext_state)/2)\n",
    "    sh_state = zeros(L)\n",
    "    for j=1:L\n",
    "        if ext_state[j]==1\n",
    "            sh_state[j]=1\n",
    "        end\n",
    "    end\n",
    "    for j=1:L\n",
    "        if ext_state[L+j]==1\n",
    "            if sh_state[j]==1\n",
    "                sh_state[j]=2\n",
    "            else\n",
    "                sh_state[j]=-1\n",
    "            end\n",
    "        end\n",
    "    end\n",
    "    return sh_state\n",
    "end\n"
   ]
  },
  {
   "cell_type": "code",
   "execution_count": 82,
   "metadata": {},
   "outputs": [
    {
     "data": {
      "text/plain": [
       "move_L (generic function with 1 method)"
      ]
     },
     "execution_count": 82,
     "metadata": {},
     "output_type": "execute_result"
    }
   ],
   "source": [
    "#generate a move\n",
    "function Pauli(x,i,j)                 #check if state i and j are both occupied\n",
    "    if x[i] == 1 && x[j] == 1\n",
    "        return true\n",
    "    end\n",
    "    return false\n",
    "end \n",
    "\n",
    "function occupied_states(v)         #generate a vector with positions of occupied states (from 2*L states)\n",
    "    occ_states = []\n",
    "    for i = 1:2*L\n",
    "        if v[i] == 1\n",
    "            append!(occ_states, i)\n",
    "        end\n",
    "    end\n",
    "    return occ_states\n",
    "end\n",
    "\n",
    "\n",
    "function occupied_states_L(v)\n",
    "    occ_states = []\n",
    "    L =length(v)\n",
    "    for i = 1 : L\n",
    "        if abs(v[i]) == 1\n",
    "            append!(occ_states, i )\n",
    "            \n",
    "        elseif v[i] == 2\n",
    "            append!(occ_states, i )\n",
    "        \n",
    "        end\n",
    "    end\n",
    "    return occ_states\n",
    "end\n",
    "\n",
    "\n",
    "function move_L(w)\n",
    "    \n",
    "    v = copy(w)\n",
    "    L = length(v)\n",
    "    i = rand(occupied_states_L(v))\n",
    "    j = rand(-1:2:1)\n",
    "\n",
    "    j_pbc = mod(i+j,L)\n",
    "    j_pbc == 0 ? j_pbc = L : j_pbc = j_pbc\n",
    "\n",
    "        if v[i] != v[j_pbc] && v[j_pbc]!=2\n",
    "\n",
    "            if abs(v[i])==1\n",
    "            v[j_pbc] == 0 ? v[j_pbc] = v[i] : v[j_pbc] = 2\n",
    "            v[i] = 0\n",
    "\n",
    "            elseif v[i]==2    \n",
    "            spin = rand(-1:2:1)\n",
    "\n",
    "                if v[j_pbc] != spin\n",
    "                v[i] = -spin\n",
    "\n",
    "                    if abs(v[j_pbc]) == 1 \n",
    "                        v[j_pbc] = 2 \n",
    "                    elseif v[j_pbc] == 0 \n",
    "                        v[j_pbc] = spin \n",
    "                    end\n",
    "\n",
    "                end    \n",
    "            end\n",
    "            \n",
    "        end\n",
    "\n",
    "    return v\n",
    "    \n",
    "end\n"
   ]
  },
  {
   "cell_type": "code",
   "execution_count": 83,
   "metadata": {},
   "outputs": [
    {
     "data": {
      "text/plain": [
       "ratio_det (generic function with 1 method)"
      ]
     },
     "execution_count": 83,
     "metadata": {},
     "output_type": "execute_result"
    }
   ],
   "source": [
    "#generate unitary matrices and the ratio of determinants\n",
    "using LinearAlgebra\n",
    "U = eigvecs(H)  #unitary matrix\n",
    "Udag = inv(U)   #U^-1\n",
    "E = eigvals(H)  #eigenvalues of H\n",
    "\n",
    "function U1(A, Ne) #take the first Ne columns\n",
    "    U_1 = A[:,1:Ne]\n",
    "    return U_1\n",
    "end\n",
    "\n",
    "U_1 = U1(U,Ne)\n",
    "\n",
    "function U_tilde(A,v)                  #takes just the rows related to occupied states, Ne*Ne matrix\n",
    "    U_tild = []\n",
    "    U_tild = A[occupied_states(v),:]\n",
    "    return U_tild\n",
    "end\n",
    "\n",
    "function ratio_det(v, z)\n",
    "    rat= det(U_tilde(U_1,z))/det(U_tilde(U_1,v))\n",
    "    return rat\n",
    "end  \n"
   ]
  },
  {
   "cell_type": "code",
   "execution_count": 84,
   "metadata": {},
   "outputs": [
    {
     "data": {
      "text/plain": [
       "Jastrow (generic function with 1 method)"
      ]
     },
     "execution_count": 84,
     "metadata": {},
     "output_type": "execute_result"
    }
   ],
   "source": [
    "#Jastrow factor\n",
    "function n_i(vi)           #counts the number of els in positions vi, returning (# up , # down)\n",
    "    \n",
    "    n_up = 0\n",
    "    n_down = 0\n",
    "    \n",
    "        if vi == 1\n",
    "            n_up += 1\n",
    "            \n",
    "        elseif vi == -1\n",
    "            n_down += 1\n",
    "                \n",
    "        elseif vi == 2\n",
    "            n_down += 1\n",
    "            n_up += 1\n",
    "                \n",
    "        end\n",
    "\n",
    "return n_up, n_down\n",
    "\n",
    "end\n",
    "\n",
    "function Jastrow(state,g,v)\n",
    "            \n",
    "    D=length(state)       \n",
    "    \n",
    "    Spins=0\n",
    "    Occupancies=0        \n",
    "    n1 = n_i(state[D])[1] + n_i(state[D])[2]\n",
    "    n2 = 0\n",
    "    \n",
    "    for i = 1 : D\n",
    "                \n",
    "        n_up= n_i(state[i])[1]    \n",
    "        n_down = n_i(state[i])[2]\n",
    "                \n",
    "    Spins = Spins + n_up*n_down \n",
    "                \n",
    "    n2= n_up + n_down\n",
    "    n1n2 = n1*n2   \n",
    "    n1 = n2\n",
    "                \n",
    "    Occupancies = Occupancies + n1n2\n",
    "            \n",
    "        end\n",
    "    \n",
    "    arg=  -g*Spins -v*Occupancies\n",
    "            \n",
    "return exp(arg)\n",
    "\n",
    "end"
   ]
  },
  {
   "cell_type": "code",
   "execution_count": 85,
   "metadata": {},
   "outputs": [
    {
     "data": {
      "text/plain": [
       "nB (generic function with 1 method)"
      ]
     },
     "execution_count": 85,
     "metadata": {},
     "output_type": "execute_result"
    }
   ],
   "source": [
    "#This function calculates the density observable in the odd sites A\n",
    "function nA(v)\n",
    "    nA = 0\n",
    "    for j=1:length(v)\n",
    "        if j%2 != 0\n",
    "            nA += sum(n_i(v[j])) \n",
    "        end\n",
    "    end\n",
    "    return nA*2/length(v)\n",
    "end\n",
    "\n",
    "#This function calculates the density observable in the even sites B\n",
    "function nB(v)\n",
    "    nB = 0\n",
    "    for j=1:length(v)\n",
    "        if j%2 == 0\n",
    "            nB += sum(n_i(v[j])) \n",
    "        end\n",
    "    end\n",
    "    return nB*2/length(v)\n",
    "end"
   ]
  },
  {
   "cell_type": "code",
   "execution_count": 86,
   "metadata": {},
   "outputs": [
    {
     "data": {
      "text/plain": [
       "hamiltonianelements (generic function with 1 method)"
      ]
     },
     "execution_count": 86,
     "metadata": {},
     "output_type": "execute_result"
    }
   ],
   "source": [
    "function hamiltonianelements(state1,state2,U,V)\n",
    "    \n",
    "    if state1 == state2\n",
    "        D = length(state1)\n",
    "    \n",
    "        Spins = 0\n",
    "        Occupancies = 0\n",
    "        n1 = n_i(state1[D])[1] + n_i(state1[D])[2]\n",
    "        n2 = 0\n",
    "    \n",
    "        for i = 1:D                \n",
    "            n_up= n_i(state1[i])[1]\n",
    "            n_down = n_i(state1[i])[2]\n",
    "                \n",
    "            Spins = Spins + n_up*n_down\n",
    "\n",
    "            n2= n_up + n_down\n",
    "            n1n2 = n1*n2\n",
    "            n1 = n2\n",
    "\n",
    "            Occupancies = Occupancies + n1n2    \n",
    "        end\n",
    "    \n",
    "        arg = U*Spins + V*Occupancies\n",
    "            \n",
    "    return arg\n",
    "        \n",
    "    else\n",
    "    \n",
    "    w = abs.(abs.(state1) - abs.(state2))\n",
    "    wr = occupied_states_L(w)\n",
    "        \n",
    "        if length(wr) == 2 && wr[2] - wr[1] == 1\n",
    "            return -t\n",
    "        else\n",
    "            return 0\n",
    "        end\n",
    "    end\n",
    "end"
   ]
  },
  {
   "cell_type": "code",
   "execution_count": 87,
   "metadata": {},
   "outputs": [
    {
     "data": {
      "text/plain": [
       "orthogonal (generic function with 1 method)"
      ]
     },
     "execution_count": 87,
     "metadata": {},
     "output_type": "execute_result"
    }
   ],
   "source": [
    "function orthogonal(w, i)\n",
    "    v = copy(w)\n",
    "    L = length(v)\n",
    "    states = []\n",
    "    J = [-1,1]\n",
    "    \n",
    "    for j in J\n",
    "        \n",
    "        v = copy(w)\n",
    "    \n",
    "        j_pbc = mod(i+j,L)\n",
    "        j_pbc == 0 ? j_pbc = L : j_pbc = j_pbc\n",
    "\n",
    "            if v[i] != v[j_pbc] && v[j_pbc]!=2\n",
    "\n",
    "                if abs(v[i])==1\n",
    "                v[j_pbc] == 0 ? v[j_pbc] = v[i] : v[j_pbc] = 2 \n",
    "                v[i] = 0    \n",
    "                push!(states,v)\n",
    "\n",
    "                elseif v[i]==2    \n",
    "                Spin = [-1,1]\n",
    "\n",
    "                    for spin in Spin\n",
    "                    v = copy(w)\n",
    "\n",
    "                            if spin != v[j_pbc] && v[j_pbc]!=2\n",
    "                                v[j_pbc] == 0 ? v[j_pbc] = spin : v[j_pbc] = 2 \n",
    "                                v[i] = -spin\n",
    "                                push!(states,v)\n",
    "                            end  \n",
    "                      end\n",
    "                 end   \n",
    "          end\n",
    "        \n",
    "    end \n",
    "    \n",
    "    return states\n",
    "    \n",
    "end"
   ]
  },
  {
   "cell_type": "code",
   "execution_count": 107,
   "metadata": {},
   "outputs": [
    {
     "data": {
      "text/plain": [
       "MC_en (generic function with 4 methods)"
      ]
     },
     "execution_count": 107,
     "metadata": {},
     "output_type": "execute_result"
    }
   ],
   "source": [
    "import Random\n",
    "\n",
    "function MC_en(state0, g, v, U,V, nsteps = 10000)\n",
    "    Random.seed!(1234)\n",
    "    state0_2L=extendedstate(state0)\n",
    "    accepted_moves = 0\n",
    "    local_est = 0\n",
    "    state_L = copy(state0)\n",
    "    local_est_array = []\n",
    "    locals = []\n",
    "    x_prime_L = []\n",
    "    x_prime_2L_ = []\n",
    "    for istep = 1:nsteps\n",
    "        \n",
    "        \n",
    "        e_n = 0\n",
    "        state_2L = extendedstate(state_L)\n",
    "            state_new_L = move_L(state_L)\n",
    "            state_new_2L = extendedstate(state_new_L)\n",
    "\n",
    "            acc =  (ratio_det(state_2L,state_new_2L) * (Jastrow(state_new_L,g,v)/Jastrow(state_L,g,v)))^2       #acceptance \n",
    "            #display(acc)\n",
    "            acc = min(acc,1)\n",
    "                \n",
    "            if acc>rand()        #metropolis rule\n",
    "                x_L = state_new_L\n",
    "                x_2L = state_new_2L\n",
    "                accepted_moves += 1\n",
    "                pot = log(Jastrow(x_L,-U,-V))\n",
    "                for i in occupied_states_L(state_new_L)\n",
    "                    o_states = orthogonal(state_new_L, i)\n",
    "\n",
    "                    for j in 1:length(o_states)\n",
    "                        x_prime_L = o_states[j]\n",
    "                        x_prime_2L = extendedstate(x_prime_L)        \n",
    "\n",
    "                        local_est = -t*ratio_det(x_2L,x_prime_2L)*(Jastrow(x_prime_L,g,v)/Jastrow(x_L,g,v))\n",
    "                        e_n += local_est\n",
    "                     end\n",
    "                    \n",
    "                end\n",
    "                e_n += pot\n",
    "                push!(locals,e_n)\n",
    "                state_L = x_L\n",
    "            end         \n",
    "        \n",
    "    end\n",
    "    return mean(locals)\n",
    "end \n",
    "\n"
   ]
  },
  {
   "cell_type": "code",
   "execution_count": 103,
   "metadata": {},
   "outputs": [
    {
     "data": {
      "text/plain": [
       "-1462.1640817860173"
      ]
     },
     "execution_count": 103,
     "metadata": {},
     "output_type": "execute_result"
    }
   ],
   "source": [
    "a = Lstate(L)\n",
    "\n",
    "MC_prova= MC_en(a,10,8,10000)"
   ]
  },
  {
   "cell_type": "code",
   "execution_count": null,
   "metadata": {},
   "outputs": [],
   "source": [
    "using Plots\n",
    "\n",
    "yA = zeros(0)\n",
    "yB = zeros(0)\n",
    "v = collect(1:0.5:10)\n",
    "for x in v\n",
    "    MC_prova= MC_en(a,10,x,30,5,10000)\n",
    "    append!(yA, MC_prova)\n",
    "end\n",
    "plot(v,yA)"
   ]
  },
  {
   "cell_type": "code",
   "execution_count": null,
   "metadata": {},
   "outputs": [],
   "source": []
  }
 ],
 "metadata": {
  "kernelspec": {
   "display_name": "Julia 1.6.1",
   "language": "julia",
   "name": "julia-1.6"
  },
  "language_info": {
   "file_extension": ".jl",
   "mimetype": "application/julia",
   "name": "julia",
   "version": "1.6.1"
  }
 },
 "nbformat": 4,
 "nbformat_minor": 4
}
